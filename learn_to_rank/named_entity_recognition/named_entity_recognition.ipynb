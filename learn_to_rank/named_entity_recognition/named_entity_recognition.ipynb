{
 "cells": [
  {
   "cell_type": "markdown",
   "metadata": {
    "toc": true
   },
   "source": [
    "<h1>Table of Contents<span class=\"tocSkip\"></span></h1>\n",
    "<div class=\"toc\"><ul class=\"toc-item\"><li><span><a href=\"#Named-Entity-Recognition-(NER)\" data-toc-modified-id=\"Named-Entity-Recognition-(NER)-1\"><span class=\"toc-item-num\">1&nbsp;&nbsp;</span>Named Entity Recognition (NER)</a></span><ul class=\"toc-item\"><li><span><a href=\"#Spacy\" data-toc-modified-id=\"Spacy-1.1\"><span class=\"toc-item-num\">1.1&nbsp;&nbsp;</span>Spacy</a></span></li></ul></li><li><span><a href=\"#Reference\" data-toc-modified-id=\"Reference-2\"><span class=\"toc-item-num\">2&nbsp;&nbsp;</span>Reference</a></span></li></ul></div>"
   ]
  },
  {
   "cell_type": "code",
   "execution_count": 3,
   "metadata": {},
   "outputs": [
    {
     "name": "stdout",
     "output_type": "stream",
     "text": [
      "Ethen 2018-11-28 20:12:46 \n",
      "\n",
      "CPython 3.6.4\n",
      "IPython 6.4.0\n",
      "\n",
      "numpy 1.14.1\n",
      "pandas 0.23.0\n",
      "sklearn 0.19.1\n",
      "matplotlib 2.2.2\n",
      "spacy 2.0.16\n"
     ]
    }
   ],
   "source": [
    "# 1. magic for inline plot\n",
    "# 2. magic to print version\n",
    "# 3. magic so that the notebook will reload external python modules\n",
    "# 4. magic to enable retina (high resolution) plots\n",
    "# https://gist.github.com/minrk/3301035\n",
    "%matplotlib inline\n",
    "%load_ext watermark\n",
    "%load_ext autoreload\n",
    "%autoreload 2\n",
    "%config InlineBackend.figure_format='retina'\n",
    "\n",
    "import spacy\n",
    "import numpy as np\n",
    "import pandas as pd\n",
    "import matplotlib.pyplot as plt\n",
    "from pprint import pprint\n",
    "from sklearn.model_selection import train_test_split\n",
    "\n",
    "# change default style figure and font size\n",
    "plt.rcParams['figure.figsize'] = 8, 6\n",
    "plt.rcParams['font.size'] = 12\n",
    "\n",
    "%watermark -a 'Ethen' -d -t -v -p numpy,pandas,sklearn,matplotlib,spacy"
   ]
  },
  {
   "cell_type": "markdown",
   "metadata": {},
   "source": [
    "# Named Entity Recognition (NER)"
   ]
  },
  {
   "cell_type": "markdown",
   "metadata": {},
   "source": [
    "Just to clarify the difference between **Part of Speech Tagging (POS)** and **Named Entity Recognition (NER)**.\n",
    "\n",
    "**Part of Speech Tagging (POS)** aims to identify which grammatical group a word belongs to, so whether the word is a noun, adjective, verb, etc., based on the context. This means it looks for relationships within the sentence and gives each word in a sentence a corresponding tag.\n",
    "\n",
    "**Named Entity Recognition (NER)** on the other hand, tries to find out whether a word is a named entity or not. The named entity could be something like a person, location, organization, etc. So we could argue that when is recognized as a named entity, the word might also be recognized as a noun by the POS tagger.\n",
    "\n",
    "The difference with regards to implementation is: Each POS tag is attached to a single word, while NER tags can be attached to multiple words. So NER is involves not only detecting the type of Named Entity, but also the word boundaries. The tagging mechanism used for NER is called **IOB (I: Token is inside an entity, O: Token is outside an entity and B: Token is the beginning of an entity)**. For example, the following example shows a sentence with the corresponding POS tags and IOB tags.\n",
    "\n",
    "- Original sentence: Albert Einstein was born in Ulm, Germany in 1879.\n",
    "- POS tagged: Albert/NNP Einstein/NNP was/VBD born/VBN in/IN Ulm/NNP ,/, Germany/NNP in/IN 1879/CD ./.\n",
    "- NER with IOB tags: Albert/B-PER Einstein/I-PER was/O born/O in/O Ulm/B-PLACE ,/O Germany/B-PLACE in/O 1879/B-DATE ./O"
   ]
  },
  {
   "cell_type": "markdown",
   "metadata": {},
   "source": [
    "## Spacy"
   ]
  },
  {
   "cell_type": "markdown",
   "metadata": {},
   "source": [
    "- https://spacy.io/usage/linguistic-features#section-named-entities"
   ]
  },
  {
   "cell_type": "code",
   "execution_count": 15,
   "metadata": {},
   "outputs": [
    {
     "data": {
      "text/plain": [
       "<spacy.lang.en.English at 0x10db25860>"
      ]
     },
     "execution_count": 15,
     "metadata": {},
     "output_type": "execute_result"
    }
   ],
   "source": [
    "nlp = spacy.load('en_core_web_sm')\n",
    "nlp"
   ]
  },
  {
   "cell_type": "code",
   "execution_count": 18,
   "metadata": {},
   "outputs": [
    {
     "name": "stdout",
     "output_type": "stream",
     "text": [
      "[('European', 'NORP'),\n",
      " ('Google', 'ORG'),\n",
      " ('$5.1 billion', 'MONEY'),\n",
      " ('Wednesday', 'DATE')]\n"
     ]
    }
   ],
   "source": [
    "# an example sentence\n",
    "sentence = ('European authorities fined Google a record $5.1 billion on Wednesday '\n",
    "            'for abusing its power in the mobile phone market '\n",
    "            'and ordered the company to alter its practices.')\n",
    "\n",
    "doc = nlp(sentence)\n",
    "\n",
    "pprint([(ent.text, ent.label_) for ent in doc.ents])"
   ]
  },
  {
   "cell_type": "markdown",
   "metadata": {},
   "source": [
    "After passing our sentence through spacy, the standard way to access the entity annotation is via the `.ents` property then we can access the entity type using the `.label_` property. The following [link](https://spacy.io/api/annotation#section-named-entities) contains the detailed description for each entity label.\n",
    "\n",
    "We can also access this information for every token in our sentence/corpus. In the next code chunk, we loop through each token and access its entity, POS tagging and IOB scheme."
   ]
  },
  {
   "cell_type": "code",
   "execution_count": 20,
   "metadata": {},
   "outputs": [
    {
     "name": "stdout",
     "output_type": "stream",
     "text": [
      "[('European', 'B', 'NORP', 'ADJ'),\n",
      " ('authorities', 'O', '', 'NOUN'),\n",
      " ('fined', 'O', '', 'VERB'),\n",
      " ('Google', 'B', 'ORG', 'PROPN'),\n",
      " ('a', 'O', '', 'DET'),\n",
      " ('record', 'O', '', 'NOUN'),\n",
      " ('$', 'B', 'MONEY', 'SYM'),\n",
      " ('5.1', 'I', 'MONEY', 'NUM'),\n",
      " ('billion', 'I', 'MONEY', 'NUM'),\n",
      " ('on', 'O', '', 'ADP'),\n",
      " ('Wednesday', 'B', 'DATE', 'PROPN'),\n",
      " ('for', 'O', '', 'ADP'),\n",
      " ('abusing', 'O', '', 'VERB'),\n",
      " ('its', 'O', '', 'ADJ'),\n",
      " ('power', 'O', '', 'NOUN'),\n",
      " ('in', 'O', '', 'ADP'),\n",
      " ('the', 'O', '', 'DET'),\n",
      " ('mobile', 'O', '', 'ADJ'),\n",
      " ('phone', 'O', '', 'NOUN'),\n",
      " ('market', 'O', '', 'NOUN'),\n",
      " ('and', 'O', '', 'CCONJ'),\n",
      " ('ordered', 'O', '', 'VERB'),\n",
      " ('the', 'O', '', 'DET'),\n",
      " ('company', 'O', '', 'NOUN'),\n",
      " ('to', 'O', '', 'PART'),\n",
      " ('alter', 'O', '', 'VERB'),\n",
      " ('its', 'O', '', 'ADJ'),\n",
      " ('practices', 'O', '', 'NOUN'),\n",
      " ('.', 'O', '', 'PUNCT')]\n"
     ]
    }
   ],
   "source": [
    "pprint([(token.orth_, token.ent_iob_, token.ent_type_, token.pos_) for token in doc])"
   ]
  },
  {
   "cell_type": "markdown",
   "metadata": {},
   "source": [
    "Another cool feature that spacy provides is being able to visualize the named entities in our sentence."
   ]
  },
  {
   "cell_type": "code",
   "execution_count": 25,
   "metadata": {},
   "outputs": [
    {
     "data": {
      "text/html": [
       "<div class=\"entities\" style=\"line-height: 2.5\">\n",
       "<mark class=\"entity\" style=\"background: #c887fb; padding: 0.45em 0.6em; margin: 0 0.25em; line-height: 1; border-radius: 0.35em; box-decoration-break: clone; -webkit-box-decoration-break: clone\">\n",
       "    European\n",
       "    <span style=\"font-size: 0.8em; font-weight: bold; line-height: 1; border-radius: 0.35em; text-transform: uppercase; vertical-align: middle; margin-left: 0.5rem\">NORP</span>\n",
       "</mark>\n",
       " authorities fined \n",
       "<mark class=\"entity\" style=\"background: #7aecec; padding: 0.45em 0.6em; margin: 0 0.25em; line-height: 1; border-radius: 0.35em; box-decoration-break: clone; -webkit-box-decoration-break: clone\">\n",
       "    Google\n",
       "    <span style=\"font-size: 0.8em; font-weight: bold; line-height: 1; border-radius: 0.35em; text-transform: uppercase; vertical-align: middle; margin-left: 0.5rem\">ORG</span>\n",
       "</mark>\n",
       " a record \n",
       "<mark class=\"entity\" style=\"background: #e4e7d2; padding: 0.45em 0.6em; margin: 0 0.25em; line-height: 1; border-radius: 0.35em; box-decoration-break: clone; -webkit-box-decoration-break: clone\">\n",
       "    $5.1 billion\n",
       "    <span style=\"font-size: 0.8em; font-weight: bold; line-height: 1; border-radius: 0.35em; text-transform: uppercase; vertical-align: middle; margin-left: 0.5rem\">MONEY</span>\n",
       "</mark>\n",
       " on \n",
       "<mark class=\"entity\" style=\"background: #bfe1d9; padding: 0.45em 0.6em; margin: 0 0.25em; line-height: 1; border-radius: 0.35em; box-decoration-break: clone; -webkit-box-decoration-break: clone\">\n",
       "    Wednesday\n",
       "    <span style=\"font-size: 0.8em; font-weight: bold; line-height: 1; border-radius: 0.35em; text-transform: uppercase; vertical-align: middle; margin-left: 0.5rem\">DATE</span>\n",
       "</mark>\n",
       " for abusing its power in the mobile phone market and ordered the company to alter its practices.</div>"
      ],
      "text/plain": [
       "<IPython.core.display.HTML object>"
      ]
     },
     "metadata": {},
     "output_type": "display_data"
    }
   ],
   "source": [
    "spacy.displacy.render(doc, style='ent', jupyter=True)"
   ]
  },
  {
   "cell_type": "markdown",
   "metadata": {},
   "source": [
    "# Reference"
   ]
  },
  {
   "cell_type": "markdown",
   "metadata": {},
   "source": [
    "- [Quora: What is the difference between POS Tag and Named Entity Recognition?](https://www.quora.com/What-is-the-difference-between-POS-Tag-and-Named-Entity-Recognition)\n",
    "- [Blog: Named Entity Recognition with NLTK and SpaCy](https://towardsdatascience.com/named-entity-recognition-with-nltk-and-spacy-8c4a7d88e7da)"
   ]
  }
 ],
 "metadata": {
  "kernelspec": {
   "display_name": "Python 3",
   "language": "python",
   "name": "python3"
  },
  "language_info": {
   "codemirror_mode": {
    "name": "ipython",
    "version": 3
   },
   "file_extension": ".py",
   "mimetype": "text/x-python",
   "name": "python",
   "nbconvert_exporter": "python",
   "pygments_lexer": "ipython3",
   "version": "3.6.4"
  },
  "toc": {
   "nav_menu": {},
   "number_sections": true,
   "sideBar": true,
   "skip_h1_title": false,
   "title_cell": "Table of Contents",
   "title_sidebar": "Contents",
   "toc_cell": true,
   "toc_position": {
    "height": "calc(100% - 180px)",
    "left": "10px",
    "top": "150px",
    "width": "266px"
   },
   "toc_section_display": true,
   "toc_window_display": true
  },
  "varInspector": {
   "cols": {
    "lenName": 16,
    "lenType": 16,
    "lenVar": 40
   },
   "kernels_config": {
    "python": {
     "delete_cmd_postfix": "",
     "delete_cmd_prefix": "del ",
     "library": "var_list.py",
     "varRefreshCmd": "print(var_dic_list())"
    },
    "r": {
     "delete_cmd_postfix": ") ",
     "delete_cmd_prefix": "rm(",
     "library": "var_list.r",
     "varRefreshCmd": "cat(var_dic_list()) "
    }
   },
   "types_to_exclude": [
    "module",
    "function",
    "builtin_function_or_method",
    "instance",
    "_Feature"
   ],
   "window_display": false
  }
 },
 "nbformat": 4,
 "nbformat_minor": 2
}
