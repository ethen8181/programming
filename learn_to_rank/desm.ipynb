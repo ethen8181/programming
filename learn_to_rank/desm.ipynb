{
 "cells": [
  {
   "cell_type": "markdown",
   "metadata": {
    "toc": true
   },
   "source": [
    "<h1>Table of Contents<span class=\"tocSkip\"></span></h1>\n",
    "<div class=\"toc\"><ul class=\"toc-item\"><li><span><a href=\"#Information-Retrieval\" data-toc-modified-id=\"Information-Retrieval-1\"><span class=\"toc-item-num\">1&nbsp;&nbsp;</span>Information Retrieval</a></span><ul class=\"toc-item\"><li><span><a href=\"#BM25\" data-toc-modified-id=\"BM25-1.1\"><span class=\"toc-item-num\">1.1&nbsp;&nbsp;</span>BM25</a></span></li><li><span><a href=\"#Word2Vec\" data-toc-modified-id=\"Word2Vec-1.2\"><span class=\"toc-item-num\">1.2&nbsp;&nbsp;</span>Word2Vec</a></span></li></ul></li></ul></div>"
   ]
  },
  {
   "cell_type": "code",
   "execution_count": 1,
   "metadata": {},
   "outputs": [
    {
     "name": "stdout",
     "output_type": "stream",
     "text": [
      "Ethen 2018-11-19 11:26:26 \n",
      "\n",
      "CPython 3.6.4\n",
      "IPython 6.4.0\n",
      "\n",
      "numpy 1.14.1\n",
      "pandas 0.23.0\n",
      "sklearn 0.19.1\n",
      "matplotlib 2.2.2\n",
      "nltk 3.2.5\n",
      "gensim 3.6.0\n"
     ]
    }
   ],
   "source": [
    "# 1. magic for inline plot\n",
    "# 2. magic to print version\n",
    "# 3. magic so that the notebook will reload external python modules\n",
    "# 4. magic to enable retina (high resolution) plots\n",
    "# https://gist.github.com/minrk/3301035\n",
    "%matplotlib inline\n",
    "%load_ext watermark\n",
    "%load_ext autoreload\n",
    "%autoreload 2\n",
    "%config InlineBackend.figure_format='retina'\n",
    "\n",
    "import os\n",
    "import time\n",
    "import nltk\n",
    "import numpy as np\n",
    "import pandas as pd\n",
    "import matplotlib.pyplot as plt\n",
    "from sklearn.model_selection import train_test_split\n",
    "\n",
    "# change default style figure and font size\n",
    "plt.rcParams['figure.figsize'] = 8, 6\n",
    "plt.rcParams['font.size'] = 12\n",
    "\n",
    "%watermark -a 'Ethen' -d -t -v -p numpy,pandas,sklearn,matplotlib,nltk,gensim"
   ]
  },
  {
   "cell_type": "markdown",
   "metadata": {},
   "source": [
    "# Information Retrieval"
   ]
  },
  {
   "cell_type": "code",
   "execution_count": 2,
   "metadata": {},
   "outputs": [
    {
     "name": "stdout",
     "output_type": "stream",
     "text": [
      "dimension:  (50000, 10)\n"
     ]
    },
    {
     "data": {
      "text/html": [
       "<div>\n",
       "<style scoped>\n",
       "    .dataframe tbody tr th:only-of-type {\n",
       "        vertical-align: middle;\n",
       "    }\n",
       "\n",
       "    .dataframe tbody tr th {\n",
       "        vertical-align: top;\n",
       "    }\n",
       "\n",
       "    .dataframe thead th {\n",
       "        text-align: right;\n",
       "    }\n",
       "</style>\n",
       "<table border=\"1\" class=\"dataframe\">\n",
       "  <thead>\n",
       "    <tr style=\"text-align: right;\">\n",
       "      <th></th>\n",
       "      <th>Unnamed: 0</th>\n",
       "      <th>id</th>\n",
       "      <th>title</th>\n",
       "      <th>publication</th>\n",
       "      <th>author</th>\n",
       "      <th>date</th>\n",
       "      <th>year</th>\n",
       "      <th>month</th>\n",
       "      <th>url</th>\n",
       "      <th>content</th>\n",
       "    </tr>\n",
       "  </thead>\n",
       "  <tbody>\n",
       "    <tr>\n",
       "      <th>0</th>\n",
       "      <td>0</td>\n",
       "      <td>17283</td>\n",
       "      <td>House Republicans Fret About Winning Their Hea...</td>\n",
       "      <td>New York Times</td>\n",
       "      <td>Carl Hulse</td>\n",
       "      <td>2016-12-31</td>\n",
       "      <td>2016.0</td>\n",
       "      <td>12.0</td>\n",
       "      <td>NaN</td>\n",
       "      <td>WASHINGTON  —   Congressional Republicans have...</td>\n",
       "    </tr>\n",
       "    <tr>\n",
       "      <th>1</th>\n",
       "      <td>1</td>\n",
       "      <td>17284</td>\n",
       "      <td>Rift Between Officers and Residents as Killing...</td>\n",
       "      <td>New York Times</td>\n",
       "      <td>Benjamin Mueller and Al Baker</td>\n",
       "      <td>2017-06-19</td>\n",
       "      <td>2017.0</td>\n",
       "      <td>6.0</td>\n",
       "      <td>NaN</td>\n",
       "      <td>After the bullet shells get counted, the blood...</td>\n",
       "    </tr>\n",
       "    <tr>\n",
       "      <th>2</th>\n",
       "      <td>2</td>\n",
       "      <td>17285</td>\n",
       "      <td>Tyrus Wong, ‘Bambi’ Artist Thwarted by Racial ...</td>\n",
       "      <td>New York Times</td>\n",
       "      <td>Margalit Fox</td>\n",
       "      <td>2017-01-06</td>\n",
       "      <td>2017.0</td>\n",
       "      <td>1.0</td>\n",
       "      <td>NaN</td>\n",
       "      <td>When Walt Disney’s “Bambi” opened in 1942, cri...</td>\n",
       "    </tr>\n",
       "    <tr>\n",
       "      <th>3</th>\n",
       "      <td>3</td>\n",
       "      <td>17286</td>\n",
       "      <td>Among Deaths in 2016, a Heavy Toll in Pop Musi...</td>\n",
       "      <td>New York Times</td>\n",
       "      <td>William McDonald</td>\n",
       "      <td>2017-04-10</td>\n",
       "      <td>2017.0</td>\n",
       "      <td>4.0</td>\n",
       "      <td>NaN</td>\n",
       "      <td>Death may be the great equalizer, but it isn’t...</td>\n",
       "    </tr>\n",
       "    <tr>\n",
       "      <th>4</th>\n",
       "      <td>4</td>\n",
       "      <td>17287</td>\n",
       "      <td>Kim Jong-un Says North Korea Is Preparing to T...</td>\n",
       "      <td>New York Times</td>\n",
       "      <td>Choe Sang-Hun</td>\n",
       "      <td>2017-01-02</td>\n",
       "      <td>2017.0</td>\n",
       "      <td>1.0</td>\n",
       "      <td>NaN</td>\n",
       "      <td>SEOUL, South Korea  —   North Korea’s leader, ...</td>\n",
       "    </tr>\n",
       "  </tbody>\n",
       "</table>\n",
       "</div>"
      ],
      "text/plain": [
       "   Unnamed: 0     id                                              title  \\\n",
       "0           0  17283  House Republicans Fret About Winning Their Hea...   \n",
       "1           1  17284  Rift Between Officers and Residents as Killing...   \n",
       "2           2  17285  Tyrus Wong, ‘Bambi’ Artist Thwarted by Racial ...   \n",
       "3           3  17286  Among Deaths in 2016, a Heavy Toll in Pop Musi...   \n",
       "4           4  17287  Kim Jong-un Says North Korea Is Preparing to T...   \n",
       "\n",
       "      publication                         author        date    year  month  \\\n",
       "0  New York Times                     Carl Hulse  2016-12-31  2016.0   12.0   \n",
       "1  New York Times  Benjamin Mueller and Al Baker  2017-06-19  2017.0    6.0   \n",
       "2  New York Times                   Margalit Fox  2017-01-06  2017.0    1.0   \n",
       "3  New York Times               William McDonald  2017-04-10  2017.0    4.0   \n",
       "4  New York Times                  Choe Sang-Hun  2017-01-02  2017.0    1.0   \n",
       "\n",
       "   url                                            content  \n",
       "0  NaN  WASHINGTON  —   Congressional Republicans have...  \n",
       "1  NaN  After the bullet shells get counted, the blood...  \n",
       "2  NaN  When Walt Disney’s “Bambi” opened in 1942, cri...  \n",
       "3  NaN  Death may be the great equalizer, but it isn’t...  \n",
       "4  NaN  SEOUL, South Korea  —   North Korea’s leader, ...  "
      ]
     },
     "execution_count": 2,
     "metadata": {},
     "output_type": "execute_result"
    }
   ],
   "source": [
    "# https://www.kaggle.com/snapcrack/all-the-news\n",
    "# https://www.kaggle.com/girianantharaman/dual-embeddings-space-model-demo\n",
    "\n",
    "DATA_DIR = os.path.join('data', 'all-the-news')\n",
    "data_path = os.path.join(DATA_DIR, 'articles1.csv')\n",
    "\n",
    "df = pd.read_csv(data_path, sep=',')\n",
    "print('dimension: ', df.shape)\n",
    "df.head()"
   ]
  },
  {
   "cell_type": "code",
   "execution_count": 3,
   "metadata": {},
   "outputs": [
    {
     "data": {
      "text/plain": [
       "'WASHINGTON  —   Congressional Republicans have a new fear when it comes to their    health care lawsuit against the Obama administration: They might win. The incoming Trump administration could choose to no longer defend the executive branch against the suit, which challenges the administration’s authority to spend billions of dollars on health insurance subsidies for   and   Americans, handing House Republicans a big victory on    issues. But a sudden loss of the disputed subsidies could conceivably cause the health care program to implode, leaving millions of people without access to health insurance before Republicans have prepared a replacement. That could lead to chaos in the insurance market and spur a political backlash just as Republicans gain full control of the government. To stave off that outcome, Republicans could find themselves in the awkward position of appropriating huge sums to temporarily prop up the Obama health care law, angering conservative voters who have been demanding an end to the law for years. In another twist, Donald J. Trump’s administration, worried about preserving executive branch prerogatives, could choose to fight its Republican allies in the House on some central questions in the dispute. Eager to avoid an ugly political pileup, Republicans on Capitol Hill and the Trump transition team are gaming out how to handle the lawsuit, which, after the election, has been put in limbo until at least late February by the United States Court of Appeals for the District of Columbia Circuit. They are not yet ready to divulge their strategy. “Given that this pending litigation involves the Obama administration and Congress, it would be inappropriate to comment,” said Phillip J. Blando, a spokesman for the Trump transition effort. “Upon taking office, the Trump administration will evaluate this case and all related aspects of the Affordable Care Act. ” In a potentially   decision in 2015, Judge Rosemary M. Collyer ruled that House Republicans had the standing to sue the executive branch over a spending dispute and that the Obama administration had been distributing the health insurance subsidies, in violation of the Constitution, without approval from Congress. The Justice Department, confident that Judge Collyer’s decision would be reversed, quickly appealed, and the subsidies have remained in place during the appeal. In successfully seeking a temporary halt in the proceedings after Mr. Trump won, House Republicans last month told the court that they “and the  ’s transition team currently are discussing potential options for resolution of this matter, to take effect after the  ’s inauguration on Jan. 20, 2017. ” The suspension of the case, House lawyers said, will “provide the   and his future administration time to consider whether to continue prosecuting or to otherwise resolve this appeal. ” Republican leadership officials in the House acknowledge the possibility of “cascading effects” if the   payments, which have totaled an estimated $13 billion, are suddenly stopped. Insurers that receive the subsidies in exchange for paying    costs such as deductibles and   for eligible consumers could race to drop coverage since they would be losing money. Over all, the loss of the subsidies could destabilize the entire program and cause a lack of confidence that leads other insurers to seek a quick exit as well. Anticipating that the Trump administration might not be inclined to mount a vigorous fight against the House Republicans given the  ’s dim view of the health care law, a team of lawyers this month sought to intervene in the case on behalf of two participants in the health care program. In their request, the lawyers predicted that a deal between House Republicans and the new administration to dismiss or settle the case “will produce devastating consequences for the individuals who receive these reductions, as well as for the nation’s health insurance and health care systems generally. ” No matter what happens, House Republicans say, they want to prevail on two overarching concepts: the congressional power of the purse, and the right of Congress to sue the executive branch if it violates the Constitution regarding that spending power. House Republicans contend that Congress never appropriated the money for the subsidies, as required by the Constitution. In the suit, which was initially championed by John A. Boehner, the House speaker at the time, and later in House committee reports, Republicans asserted that the administration, desperate for the funding, had required the Treasury Department to provide it despite widespread internal skepticism that the spending was proper. The White House said that the spending was a permanent part of the law passed in 2010, and that no annual appropriation was required  —   even though the administration initially sought one. Just as important to House Republicans, Judge Collyer found that Congress had the standing to sue the White House on this issue  —   a ruling that many legal experts said was flawed  —   and they want that precedent to be set to restore congressional leverage over the executive branch. But on spending power and standing, the Trump administration may come under pressure from advocates of presidential authority to fight the House no matter their shared views on health care, since those precedents could have broad repercussions. It is a complicated set of dynamics illustrating how a quick legal victory for the House in the Trump era might come with costs that Republicans never anticipated when they took on the Obama White House.'"
      ]
     },
     "execution_count": 3,
     "metadata": {},
     "output_type": "execute_result"
    }
   ],
   "source": [
    "content = df.loc[0, 'content']\n",
    "content"
   ]
  },
  {
   "cell_type": "code",
   "execution_count": 4,
   "metadata": {},
   "outputs": [],
   "source": [
    "import re\n",
    "from nltk.corpus import stopwords\n",
    "\n",
    "\n",
    "stop_words = set(stopwords.words('english'))\n",
    "\n",
    "\n",
    "def normalize_text(text):\n",
    "\n",
    "    # remove special characters\\whitespaces\n",
    "    text = re.sub(r'[^a-zA-Z\\s]', '', text, re.I | re.A)\n",
    "\n",
    "    # lower case & tokenize text\n",
    "    tokens = re.split(r'\\s+', text.lower().strip())\n",
    "\n",
    "    # filter stopwords out of text &\n",
    "    # re-create text from filtered tokens\n",
    "    text = ' '.join(token for token in tokens if token not in stop_words)\n",
    "    return text"
   ]
  },
  {
   "cell_type": "code",
   "execution_count": 5,
   "metadata": {},
   "outputs": [
    {
     "data": {
      "text/plain": [
       "'washington congressional republicans new fear comes health care lawsuit obama administration might win incoming trump administration could choose longer defend executive branch suit challenges administrations authority spend billions dollars health insurance subsidies americans handing house republicans big victory issues sudden loss disputed subsidies could conceivably cause health care program implode leaving millions people without access health insurance republicans prepared replacement could lead chaos insurance market spur political backlash republicans gain full control government stave outcome republicans could find awkward position appropriating huge sums temporarily prop obama health care law angering conservative voters demanding end law years another twist donald j trumps administration worried preserving executive branch prerogatives could choose fight republican allies house central questions dispute eager avoid ugly political pileup republicans capitol hill trump transition team gaming handle lawsuit election put limbo least late february united states court appeals district columbia circuit yet ready divulge strategy given pending litigation involves obama administration congress would inappropriate comment said phillip j blando spokesman trump transition effort upon taking office trump administration evaluate case related aspects affordable care act potentially decision judge rosemary collyer ruled house republicans standing sue executive branch spending dispute obama administration distributing health insurance subsidies violation constitution without approval congress justice department confident judge collyers decision would reversed quickly appealed subsidies remained place appeal successfully seeking temporary halt proceedings mr trump house republicans last month told court transition team currently discussing potential options resolution matter take effect inauguration jan suspension case house lawyers said provide future administration time consider whether continue prosecuting otherwise resolve appeal republican leadership officials house acknowledge possibility cascading effects payments totaled estimated billion suddenly stopped insurers receive subsidies exchange paying costs deductibles eligible consumers could race drop coverage since would losing money loss subsidies could destabilize entire program cause lack confidence leads insurers seek quick exit well anticipating trump administration might inclined mount vigorous fight house republicans given dim view health care law team lawyers month sought intervene case behalf two participants health care program request lawyers predicted deal house republicans new administration dismiss settle case produce devastating consequences individuals receive reductions well nations health insurance health care systems generally matter happens house republicans say want prevail two overarching concepts congressional power purse right congress sue executive branch violates constitution regarding spending power house republicans contend congress never appropriated money subsidies required constitution suit initially championed john boehner house speaker time later house committee reports republicans asserted administration desperate funding required treasury department provide despite widespread internal skepticism spending proper white house said spending permanent part law passed annual appropriation required even though administration initially sought one important house republicans judge collyer found congress standing sue white house issue ruling many legal experts said flawed want precedent set restore congressional leverage executive branch spending power standing trump administration may come pressure advocates presidential authority fight house matter shared views health care since precedents could broad repercussions complicated set dynamics illustrating quick legal victory house trump era might come costs republicans never anticipated took obama white house'"
      ]
     },
     "execution_count": 5,
     "metadata": {},
     "output_type": "execute_result"
    }
   ],
   "source": [
    "cleaned_content = normalize_text(content)\n",
    "cleaned_content"
   ]
  },
  {
   "cell_type": "code",
   "execution_count": 6,
   "metadata": {},
   "outputs": [],
   "source": [
    "CENTROIDS_PATH = './inputs/centroids/'\n",
    "BM25_PATH = './inputs/bm25/'\n",
    "    \n",
    "if not os.path.isdir(CENTROIDS_PATH):\n",
    "    os.makedirs(CENTROIDS_PATH)\n",
    "\n",
    "if not os.path.isdir(BM25_PATH):\n",
    "    os.makedirs(BM25_PATH)"
   ]
  },
  {
   "cell_type": "code",
   "execution_count": 7,
   "metadata": {},
   "outputs": [
    {
     "name": "stderr",
     "output_type": "stream",
     "text": [
      "50000it [00:50, 981.52it/s] \n",
      "42571it [00:50, 846.87it/s] \n",
      "49999it [00:50, 982.36it/s] "
     ]
    },
    {
     "name": "stdout",
     "output_type": "stream",
     "text": [
      "elapsed:  152.11539769172668\n"
     ]
    },
    {
     "name": "stderr",
     "output_type": "stream",
     "text": [
      "\n"
     ]
    }
   ],
   "source": [
    "from utils import CsvTextPreprocessor\n",
    "\n",
    "\n",
    "CONTENT_INDEX = 9\n",
    "CONTENT_DIR = './inputs/contents'  # original text\n",
    "TOKENS_PATH = './inputs/tokens'  # normalized text\n",
    "text_preprocessor = CsvTextPreprocessor(CONTENT_DIR, TOKENS_PATH)\n",
    "\n",
    "start = time.time()        \n",
    "text_preprocessor.preprocess(DATA_DIR, CONTENT_INDEX)\n",
    "elapsed = time.time() - start\n",
    "print('elapsed: ', elapsed)"
   ]
  },
  {
   "cell_type": "markdown",
   "metadata": {},
   "source": [
    "## BM25"
   ]
  },
  {
   "cell_type": "code",
   "execution_count": 8,
   "metadata": {},
   "outputs": [],
   "source": [
    "import glob\n",
    "\n",
    "class BM25Sentences:\n",
    "\n",
    "    def __init__(self, input_dir):\n",
    "        self.input_dir = input_dir\n",
    "\n",
    "    def __iter__(self):\n",
    "        text_files = os.path.join(self.input_dir, '*.txt')\n",
    "        for file_path in glob.iglob(text_files):\n",
    "            with open(file_path) as f:\n",
    "                for line in f:\n",
    "                    yield file_path, line.split(' ')"
   ]
  },
  {
   "cell_type": "code",
   "execution_count": 10,
   "metadata": {},
   "outputs": [
    {
     "data": {
      "text/plain": [
       "['political', 'stability', 'economic', 'health']"
      ]
     },
     "execution_count": 10,
     "metadata": {},
     "output_type": "execute_result"
    }
   ],
   "source": [
    "from utils import normalize_text\n",
    "\n",
    "query = 'political stability and economic health'\n",
    "query_words = normalize_text(query).split(' ')\n",
    "query_words"
   ]
  },
  {
   "cell_type": "code",
   "execution_count": 11,
   "metadata": {},
   "outputs": [
    {
     "name": "stderr",
     "output_type": "stream",
     "text": [
      "142462it [02:39, 893.45it/s] \n"
     ]
    },
    {
     "name": "stdout",
     "output_type": "stream",
     "text": [
      "elapsed:  160.083251953125\n"
     ]
    },
    {
     "data": {
      "text/plain": [
       "<bm25.BM25 at 0x11b96add8>"
      ]
     },
     "execution_count": 11,
     "metadata": {},
     "output_type": "execute_result"
    }
   ],
   "source": [
    "from bm25 import BM25\n",
    "\n",
    "start = time.time()\n",
    "sentences = BM25Sentences(TOKENS_PATH)\n",
    "bm25 = BM25().fit(sentences)\n",
    "elapsed = time.time() - start\n",
    "print('elapsed: ', elapsed)\n",
    "\n",
    "bm25"
   ]
  },
  {
   "cell_type": "code",
   "execution_count": 12,
   "metadata": {},
   "outputs": [
    {
     "name": "stdout",
     "output_type": "stream",
     "text": [
      "142462\n",
      "142462\n"
     ]
    },
    {
     "data": {
      "text/plain": [
       "array([0.        , 0.        , 0.        , 0.        , 3.53871261])"
      ]
     },
     "execution_count": 12,
     "metadata": {},
     "output_type": "execute_result"
    }
   ],
   "source": [
    "scores = bm25.search(query_words)\n",
    "scores = np.array(scores)\n",
    "print(len(scores))\n",
    "print(len(bm25.doc_path_))\n",
    "scores[:5]"
   ]
  },
  {
   "cell_type": "code",
   "execution_count": 13,
   "metadata": {},
   "outputs": [
    {
     "data": {
      "text/plain": [
       "[(68539, 15.81140841689766),\n",
       " (14662, 14.613784082568912),\n",
       " (95402, 14.064168286153397),\n",
       " (70024, 13.972153952455397),\n",
       " (102903, 13.965064742436493)]"
      ]
     },
     "execution_count": 13,
     "metadata": {},
     "output_type": "execute_result"
    }
   ],
   "source": [
    "import numpy as np\n",
    "\n",
    "count = 5\n",
    "ids = np.argpartition(scores, -count)[-count:]\n",
    "best = sorted(zip(ids, scores[ids]), key=lambda x: -x[1])\n",
    "best"
   ]
  },
  {
   "cell_type": "code",
   "execution_count": 14,
   "metadata": {},
   "outputs": [
    {
     "name": "stdout",
     "output_type": "stream",
     "text": [
      "['u trails switzerland singapore economic competitiveness new global index finds americas infrastructure health system primary education lagging world economic forums index also notes three u strengths large market financial sophistication labor efficiency economies worldwide u rank top basic requirements pillars institutions infrastructure macroeconomic environment health primary education years global competitiveness index says authors add u high ranking supported innovation business sophistication market size financial market development labor market efficiency higher education third straight year u hasnt ranked global economic competitiveness since past decade u fallen top five twice sixth seventh notable findings index index heart nearly report takes worlds economic temperature ranks economies according wefs managing board member richard samans years edition identifies large challenge build prosperous inclusive world economic zeitgeist samans says one rising income inequality mounting social political tensions general feeling uncertainty future referring worlds current economic status fourth industrial revolution report lists ways economic gains reach worlds population list includes business carry innovations also sound institutions public private basic infrastructure health education macroeconomic stability labor financial human capital markets heres top along percentage separates worlds best switzerland best singapore best united states best netherlands best germany best sweden best united kingdom best japan best hong kong sar best finland best bottom economies congo democratic rep best venezuela best liberia best sierra leone best mozambique best malawi . 02% best, 135. burundi 47. 33% best, 136. chad 49. 27% best, 137. mauritania 49. 33% best, 138. yemen 52. 84% best, compile index, world economic forum uses 12 economic ”pillars” range four basic requirements — country’s institutions infrastructure macroeconomic environment health primary education — factors: higher education training goods market efficiency labor market efficiency financial market development technological readiness market size business sophistication innovation.']\n",
      "['want receive updates partners sponsors great britains decision extricate eu consequences unknown friday morning market immune great britains currency pound fallen lowest levels since ftse dax plummeted u markets opened red gold commodity many investors flee times uncertainty traders around globe prepared volatile day amid question future look like u k untethered european union health economy significantly influenced policies regulations govern financial systems problem goes far beyond change regulations bottom line one really knows happen either great britain eu economic problem markets dont respond well uncertainty understandable great britains historic move shed formal integration europe almost six decades resignation prime minister one fell swoop would send markets bit frenzy country wont face daunting task creating new currency point serious concern grexit scottish referendum many political economic policies remain intertwined larger european body great britain first country actually leave european union first make sense relatively brief guidance provided article severing tie means important tenets governing like major laws regulations trade arrangements need updated renegotiated independently within eu trade partners outside theres fact great britain need new leader oversee new changes since prime minister david cameron called vote first place stepped conclusion could make road stability long arduous one part explanation markets reaction friday morning fact many didnt anticipate vote would actually swing direction advocating leaving eu markets also dont like surprises said markets far nearly volatile periods actual economic crisis financial meltdown thats somewhat comforting feared rift britain eu would plunge global economy tailspin still reaction significant friday morning billion lost decline ftse justin wolfers noted american markets moved news brexit news u presidential elections past years course may outright benefit melee betting safety stability things like shorting british currency u k banks theres reason fear spiral volatility least u k end anytime soon stock markets currency already taking beating worried property markets next additionally major economic players investors global investment banks may shift global strategies moving jobs u k publicly supporting campaign stay attached e u one forecast separation play politically economically alone something worry bourree lam contributed reporting article']\n",
      "['election takes one factor largely overlooked family factor first glance looks different previous presidential elections republican party presidential nominee usually better married voters counties families certainly true donald trump cnn exit poll found instance trump among married voters winning percent lost decisively among unmarried see table marriage gap electorate large marriage gap calculated taking difference two candidates married adding difference two candidates unmarried fact surpasses gender gap also found cnn exit poll electorate source cnn exit poll trumps advantage among married electorate also paralleled performance among families general trump better counties families worse counties families figure indicates analysis voting data indicates trumps vote share decreased percentage points every percentage point increase share single parents county sources cnn measure america county data accounts classical republican advantage among voters traditional families elsewhere argued cultural economic factors help account republican edge among married families specifically one reason married americans tend socially conservative religious unmarried peers explanation gotten lot attention think economic security big factor well know men women children married families likely enjoy financial success economic stability private health insurance means married adults typically pay taxes depend less upon government financial welfare financial factors probably help explain marrieds likely vote republican standard story partisanship family demography completely explain closer look exit polls indicates trump slightly worse among married percent trump percent romney slightly better among unmarried percent trump percent romney compared romney fact cnn exit poll marriage gap shown figure larger two primary presidential contenders gap points versus points source cnn exit poll likewise romney worse trump counties single parents figure indicates romneys vote share decreased percentage points every ten percentage point increase share single parents county versus trumps decrease percentage points sources cnn measure america county data fact counties flipped obama trump higher rates single parenthood typical republican pattern figure shows counties somewhat family instability proved open switching obama trump specifically average share single parents consistently republican counties percent red counties percent consistently democratic counties blue counties percent counties purple counties sources cnn election results measure america county data note red counties voted romney trump blue counties voted obama clinton purple counties voted obama trump would counties disproportionately midwest prove open trump message undoubtedly concerns motivations related trade immigration race important explaining rise trump counties obama previously breakdown family predominantly middle american counties may also played role giving rise concerns social fabric lower levels physical psychological health economic insecurity could made trump attractive candidate change make america great particularly whites predominate counties time move electionhillary blames america firsthillary says voter suppression cost electionin recent decades argued marriage disappears whites seen marked declines marriage family stability psychological social economic consequences retreat marriage destabilizing fallout retreat marriage may also helped make middle americans open dramatic political changes including case switching barack obama donald j trump another way frame trump made inroads among unmarried counties traditional family lost ground w bradford wilcox senior fellow institute family studies visiting scholar american enterprise institute. jon mcewan economics research assistant brigham young university. piece originally appeared family studies. reprinted permission.']\n",
      "['president barack obama reacted united kingdom decision exit european union praising globalist organization important force change celebrated european union political body done much promote stability stimulate economic growth foster spread democratic values ideals across continent beyond obama signaled respect united kingdoms decision even though visited london april urge country stay eu people united kingdom spoken respect decision adding special relationship united states united kingdom enduring obama warned april united states would put uk back queue trade talks decided leave eu tried call global stability spite shocking vote united kingdom european union remain indispensable partners united states even begin negotiating ongoing relationship ensure continued stability security prosperity europe great britain northern ireland world said obama currently traveling california planning deliver speech global entrepreneurship summit later today']\n",
      "['barack obamas final speech president touted nearly decade economic improvement told eight years ago america would reverse great recession reboot auto industry unleash longest stretch job creation history might said sights set little high said great applause despite cheery retrospective outgoing president also words warning particularly important link countrys political stability economic health polarized country suggested fastest route economic ruin likewise dysfunctional economy produce political polarization inseparable looking economy stood obama took office january impossible deny progress made today economy growing wages incomes home values retirement accounts rising poverty falling wealthy paying fairer share taxes even stock market shatters records unemployment rate near low obama said many would dispute whether tax code indeed fairer fact th president entered office one worst recessions recent memory leaves economy significantly stronger found point fact colleague bourree lam wrote final jobs report obama presidency showed presided months consecutive job growth feat surpassing many predecessors though one partly enabled job loss sustained early years administration staggering end term unemployment rate hover percent half nadir recession theres much debate quality jobs added criticism decreasing participation rate last year obamas presidency economy showed sign strength wage growth despite gains economy still shows signs weakness farewell speech obama addressed fact many americans continue struggle underemployment insufficient wages higher costs living even small portion wealthy americans grow richer uneven progress isnt frustrating threat basic tenets fairness possibility fuel faith country suggested democracy wont work without sense everyone economic opportunity obama said touching inequality social mobility two issues referenced administration wake donald trumps election one couldnt help remember growing inequality focus parties election gop blamed obama democratic policies position seems brought polls specific base white voters frustrated job loss limited economic mobility obama spoke dynamic somewhat indirectly top one percent amassed bigger share wealth income many families inner cities rural counties left behind factory worker waitress health care worker struggle pay bills convinced game fixed government serves interests powerful recipe cynicism polarization politics said statements obama attempted bridge gap americans share burden economic suffering remain divided within electorate region race occupation political affiliation salve groups obamas statements also contained warning wooed trumps promises bring back jobs middle america rust belt feel would still thriving economically democratic policies next wave economic dislocation wont come overseas come relentless pace automation makes many good jobs obsolete said prescription future threat stands direct opposition trumps platform locking foreign workers closing borders lowering individual corporate tax rates must forge new social compact guarantee kids education need give workers power unionize better wages update social safety net reflect way live make reforms tax code corporations individuals reap new economy dont avoid obligations country thats made success possible obama predictably ended optimistic note asking americans vigilant afraid find common ground reason division economy reminded doesnt game']\n"
     ]
    }
   ],
   "source": [
    "for ids, scores in best:\n",
    "    file_path = bm25.doc_path_[ids]\n",
    "    with open(file_path) as f:\n",
    "        content = f.readlines()\n",
    "        print(content)"
   ]
  },
  {
   "cell_type": "markdown",
   "metadata": {},
   "source": [
    "## Word2Vec"
   ]
  },
  {
   "cell_type": "code",
   "execution_count": 15,
   "metadata": {},
   "outputs": [],
   "source": [
    "import glob\n",
    "import logging\n",
    "from gensim.models import Word2Vec\n",
    "\n",
    "\n",
    "class MySentences:\n",
    "    def __init__(self, input_dir, sent_tokenize=False, yield_file_path=False):\n",
    "        self.input_dir = input_dir\n",
    "        self.sent_tokenize = sent_tokenize\n",
    "        self.yield_file_path = yield_file_path\n",
    "\n",
    "        self._file_count = None\n",
    "\n",
    "    def __iter__(self):\n",
    "        file_count = 0\n",
    "        text_files = os.path.join(self.input_dir, '*.txt')\n",
    "        for file_path in glob.iglob(text_files):\n",
    "            with open(file_path) as f:\n",
    "                for line in f:\n",
    "                    if self.sent_tokenize:\n",
    "                        for sentence in nltk.sent_tokenize(line):\n",
    "                            splitted = sentence.split(' ')\n",
    "                            if self.yield_file_path:\n",
    "                                yield file_path, splitted\n",
    "                            else:\n",
    "                                yield splitted\n",
    "                    else:\n",
    "                        splitted = line.split(' ')\n",
    "                        if self.yield_file_path:\n",
    "                            yield file_path, splitted\n",
    "                        else:\n",
    "                            yield splitted\n",
    "      \n",
    "            file_count += 1\n",
    "\n",
    "        self._file_count = file_count\n",
    "\n",
    "    def __len__(self):\n",
    "        if self._file_count is not None:\n",
    "            return self._file_count\n",
    "        else:\n",
    "            file_count = 0\n",
    "            text_files = os.path.join(self.input_dir, '*.txt')\n",
    "            for _ in glob.iglob(text_files):\n",
    "                file_count += 1\n",
    "\n",
    "            self._file_count = file_count\n",
    "            return file_count"
   ]
  },
  {
   "cell_type": "code",
   "execution_count": 16,
   "metadata": {},
   "outputs": [
    {
     "name": "stderr",
     "output_type": "stream",
     "text": [
      "2018-11-19 11:31:44,514 : INFO : loading Word2Vec object from ./models/word2vec\n",
      "2018-11-19 11:31:46,007 : INFO : loading wv recursively from ./models/word2vec.wv.* with mmap=None\n",
      "2018-11-19 11:31:46,008 : INFO : loading vectors from ./models/word2vec.wv.vectors.npy with mmap=None\n",
      "2018-11-19 11:31:46,484 : INFO : setting ignored attribute vectors_norm to None\n",
      "2018-11-19 11:31:46,486 : INFO : loading vocabulary recursively from ./models/word2vec.vocabulary.* with mmap=None\n",
      "2018-11-19 11:31:46,487 : INFO : loading trainables recursively from ./models/word2vec.trainables.* with mmap=None\n",
      "2018-11-19 11:31:46,487 : INFO : loading syn1neg from ./models/word2vec.trainables.syn1neg.npy with mmap=None\n",
      "2018-11-19 11:31:46,831 : INFO : setting ignored attribute cum_table to None\n",
      "2018-11-19 11:31:46,832 : INFO : loaded ./models/word2vec\n"
     ]
    },
    {
     "data": {
      "text/plain": [
       "<gensim.models.word2vec.Word2Vec at 0x1af569f28>"
      ]
     },
     "execution_count": 16,
     "metadata": {},
     "output_type": "execute_result"
    }
   ],
   "source": [
    "logging.basicConfig(format='%(asctime)s : %(levelname)s : %(message)s', level=logging.INFO)\n",
    "size = 100\n",
    "\n",
    "MODEL_DIR = './models'\n",
    "if not os.path.isdir(MODEL_DIR):\n",
    "    os.makedirs(MODEL_DIR, exist_ok=True)\n",
    "\n",
    "WORD2VEC_CHECKPOINT = os.path.join(MODEL_DIR, 'word2vec')\n",
    "if os.path.exists(WORD2VEC_CHECKPOINT):\n",
    "    model = Word2Vec.load(WORD2VEC_CHECKPOINT)\n",
    "else:\n",
    "    sentences = MySentences(TOKENS_PATH, sent_tokenize=True)\n",
    "    start = time.time()\n",
    "    model = Word2Vec(sentences, size=size, min_count=1, workers=8)\n",
    "    elapse = time.time() - start\n",
    "    print('training word2vec, elapse', elapse)\n",
    "    model.save(WORD2VEC_CHECKPOINT)\n",
    "\n",
    "model"
   ]
  },
  {
   "cell_type": "code",
   "execution_count": 17,
   "metadata": {},
   "outputs": [
    {
     "name": "stderr",
     "output_type": "stream",
     "text": [
      "2018-11-19 11:31:47,745 : INFO : precomputing L2-norms of word weight vectors\n",
      "/Users/mingyuliu/anaconda3/lib/python3.6/site-packages/gensim/matutils.py:737: FutureWarning: Conversion of the second argument of issubdtype from `int` to `np.signedinteger` is deprecated. In future, it will be treated as `np.int64 == np.dtype(int).type`.\n",
      "  if np.issubdtype(vec.dtype, np.int):\n"
     ]
    },
    {
     "data": {
      "text/plain": [
       "[('congress', 0.5660451650619507),\n",
       " ('mcconnell', 0.5639157295227051),\n",
       " ('senates', 0.5626640915870667),\n",
       " ('congressional', 0.5412375926971436),\n",
       " ('senators', 0.5374283194541931),\n",
       " ('compromise', 0.521332323551178),\n",
       " ('bipartisan', 0.4992099404335022),\n",
       " ('lawmakers', 0.4846542775630951),\n",
       " ('legislation', 0.4817521572113037),\n",
       " ('cornyn', 0.4757631719112396)]"
      ]
     },
     "execution_count": 17,
     "metadata": {},
     "output_type": "execute_result"
    }
   ],
   "source": [
    "model.wv.most_similar(positive=['texas', 'senate'], negative=['alabama'])"
   ]
  },
  {
   "cell_type": "code",
   "execution_count": 18,
   "metadata": {},
   "outputs": [
    {
     "data": {
      "text/plain": [
       "array([[-1.15044944e-01, -1.23589449e-01, -3.17708403e-01, ...,\n",
       "        -5.46056449e-01, -4.26160991e-02,  3.38331640e-01],\n",
       "       [-1.16323628e-01, -1.14829942e-04, -1.83716163e-01, ...,\n",
       "        -4.59382236e-01,  7.80692771e-02,  2.33324707e-01],\n",
       "       [ 1.74659625e-01, -2.44787801e-02, -1.74992323e-01, ...,\n",
       "        -3.57166618e-01, -8.44258815e-02,  3.32570553e-01],\n",
       "       ...,\n",
       "       [-6.19058535e-02, -3.33593898e-02, -1.30370945e-01, ...,\n",
       "        -2.35101551e-01,  3.42206731e-02,  2.22871929e-01],\n",
       "       [-1.12095596e-02, -5.11139221e-02, -7.98190460e-02, ...,\n",
       "        -2.68821448e-01, -5.53974323e-03,  1.96674615e-01],\n",
       "       [-7.09969923e-02, -2.63407007e-02, -1.14711694e-01, ...,\n",
       "        -2.63222098e-01, -3.43595035e-02,  2.01708406e-01]], dtype=float32)"
      ]
     },
     "execution_count": 18,
     "metadata": {},
     "output_type": "execute_result"
    }
   ],
   "source": [
    "model.trainables.syn1neg"
   ]
  },
  {
   "cell_type": "code",
   "execution_count": 19,
   "metadata": {},
   "outputs": [
    {
     "data": {
      "text/plain": [
       "array([[ 1.6682332e+00,  2.1501987e+00, -3.4519074e+00, ...,\n",
       "        -9.8638493e-01,  3.0872801e-01, -8.4184754e-01],\n",
       "       [ 4.0478511e+00, -1.0189250e+00,  2.3866029e+00, ...,\n",
       "        -2.0242831e-01,  2.4158988e+00, -6.1949694e-01],\n",
       "       [ 1.8393631e+00, -2.4332662e+00,  3.9833120e-01, ...,\n",
       "        -3.1544128e-01,  4.7272205e-01,  2.5445123e+00],\n",
       "       ...,\n",
       "       [ 1.0556578e-02, -1.7846090e-03,  3.8046867e-03, ...,\n",
       "         9.8366261e-05, -2.0594260e-02, -2.6757052e-02],\n",
       "       [ 3.7142928e-03,  8.9221317e-03,  2.8417742e-02, ...,\n",
       "         2.9896203e-02, -4.5573595e-03, -2.3104765e-02],\n",
       "       [ 1.1918565e-03, -8.8695716e-03,  3.6429144e-02, ...,\n",
       "         2.7563004e-02, -1.3972600e-03, -1.9709809e-02]], dtype=float32)"
      ]
     },
     "execution_count": 19,
     "metadata": {},
     "output_type": "execute_result"
    }
   ],
   "source": [
    "model.wv.vectors"
   ]
  },
  {
   "cell_type": "code",
   "execution_count": 20,
   "metadata": {},
   "outputs": [
    {
     "data": {
      "text/plain": [
       "['said', 'trump', 'would', 'one', 'people']"
      ]
     },
     "execution_count": 20,
     "metadata": {},
     "output_type": "execute_result"
    }
   ],
   "source": [
    "model.wv.index2word[:5]"
   ]
  },
  {
   "cell_type": "code",
   "execution_count": 53,
   "metadata": {},
   "outputs": [
    {
     "data": {
      "text/plain": [
       "[('congress', 0.56604517),\n",
       " ('mcconnell', 0.5639157),\n",
       " ('senates', 0.56266415),\n",
       " ('congressional', 0.5412376),\n",
       " ('senators', 0.5374283),\n",
       " ('compromise', 0.52133226),\n",
       " ('bipartisan', 0.49920994),\n",
       " ('lawmakers', 0.48465428),\n",
       " ('legislation', 0.4817521),\n",
       " ('cornyn', 0.47576317)]"
      ]
     },
     "execution_count": 53,
     "metadata": {},
     "output_type": "execute_result"
    }
   ],
   "source": [
    "from keyedvectors import most_similar\n",
    "\n",
    "# check word similarity of in and out\n",
    "\n",
    "# in-similarity\n",
    "most_similar(model.wv.vectors, model.wv.vocab, model.wv.index2word,\n",
    "             positive=['texas', 'senate'], negative=['alabama'], topn=10)"
   ]
  },
  {
   "cell_type": "code",
   "execution_count": 54,
   "metadata": {},
   "outputs": [
    {
     "data": {
      "text/plain": [
       "[('senators', 0.8506255),\n",
       " ('senates', 0.842402),\n",
       " ('cornyn', 0.8409874),\n",
       " ('senate,', 0.8402041),\n",
       " ('nunes,', 0.8382237),\n",
       " ('whitehouse,', 0.8379873),\n",
       " ('grillings', 0.83711666),\n",
       " ('systemthe', 0.8369872),\n",
       " ('senate.', 0.8369804),\n",
       " ('cosponsoring', 0.83695364)]"
      ]
     },
     "execution_count": 54,
     "metadata": {},
     "output_type": "execute_result"
    }
   ],
   "source": [
    "# do nltk.word_tokenize, stemming ??\n",
    "# out-similarity\n",
    "most_similar(model.trainables.syn1neg, model.wv.vocab, model.wv.index2word,\n",
    "             positive=['texas', 'senate'], negative=['alabama'], topn=10)"
   ]
  },
  {
   "cell_type": "code",
   "execution_count": 21,
   "metadata": {},
   "outputs": [
    {
     "data": {
      "text/plain": [
       "array([-0.8053016 , -0.20635933,  0.26323155, -1.3916781 , -1.6074103 ,\n",
       "       -0.6458612 ,  3.6251957 ,  1.924907  ,  1.7238611 , -3.0091443 ,\n",
       "       -3.644323  , -2.2989883 ,  0.4058073 , -1.8312562 ,  1.2772194 ,\n",
       "        0.99042547,  1.1072534 ,  1.4322779 ,  1.4491457 , -0.0270129 ,\n",
       "       -0.32702562,  2.3497567 ,  0.7401319 , -1.6613798 , -1.8708793 ,\n",
       "       -1.6488732 ,  0.13329391, -2.4221842 ,  0.81547606,  0.26860705,\n",
       "       -1.8837483 , -2.0518198 ,  0.18068574, -3.856494  , -1.8311516 ,\n",
       "       -0.65552324, -0.8590028 ,  1.8917407 , -1.0743737 , -2.530846  ,\n",
       "       -1.7569964 ,  0.01815351,  0.43278348, -1.7510601 ,  0.83483505,\n",
       "        0.91933   ,  1.4509525 , -4.130169  , -1.6613231 , -2.3731368 ,\n",
       "        4.643101  , -4.2266436 , -1.0283322 , -0.580952  ,  2.476184  ,\n",
       "        0.10395367, -2.7749097 ,  4.268075  ,  0.926306  ,  2.1863344 ,\n",
       "        2.3218188 , -1.3676759 , -1.640588  ,  2.7934365 ,  1.7173072 ,\n",
       "       -0.02814626,  1.0236717 , -0.61047035, -0.8806903 , -0.30142537,\n",
       "       -0.5448558 ,  2.9555583 , -2.551631  ,  1.0134063 , -1.5588006 ,\n",
       "       -0.46843213,  1.4730207 ,  0.48233727,  1.0740433 , -3.476973  ,\n",
       "        2.8588    ,  0.49477   , -0.06015218, -0.41482666,  0.43549293,\n",
       "       -4.6540413 , -0.02776664, -0.58834493, -1.3694304 , -0.88958746,\n",
       "       -0.03183487, -1.2301753 ,  1.2550871 , -0.548518  , -0.66717404,\n",
       "       -2.178354  ,  0.00657768, -2.0839052 , -1.5239162 , -1.5308572 ],\n",
       "      dtype=float32)"
      ]
     },
     "execution_count": 21,
     "metadata": {},
     "output_type": "execute_result"
    }
   ],
   "source": [
    "def get_embedding(word, out=False):\n",
    "    \"\"\"get the in and out embedding.\"\"\"\n",
    "    if word in model.wv.vocab:\n",
    "        if out:\n",
    "            return model.trainables.syn1neg[model.wv.vocab[word].index]\n",
    "        else:\n",
    "            return model.wv.word_vec(word)\n",
    "    else:\n",
    "        return np.zeros(size)\n",
    "    \n",
    "    \n",
    "get_embedding('texas')"
   ]
  },
  {
   "cell_type": "code",
   "execution_count": 22,
   "metadata": {},
   "outputs": [
    {
     "name": "stdout",
     "output_type": "stream",
     "text": [
      "(100,)\n"
     ]
    },
    {
     "data": {
      "text/plain": [
       "array([ 1.80335259e+00, -1.25592148e+00,  1.07672417e+00,  1.48030376e+00,\n",
       "       -8.97015214e-01, -1.88996458e+00, -1.36558509e+00, -9.24432278e-02,\n",
       "       -1.36952734e+00, -8.14530969e-01, -1.71751094e+00, -7.22950578e-01,\n",
       "       -2.20678568e-01, -2.23531055e+00,  1.62976861e-01,  4.88344252e-01,\n",
       "        3.09180975e+00,  1.17521095e+00, -2.75864124e-01,  2.44087338e+00,\n",
       "        8.79394174e-01,  1.46664238e+00, -1.29474211e+00, -9.56055820e-01,\n",
       "        1.84187025e-01,  1.10502258e-01, -4.38267924e-02,  5.14714003e-01,\n",
       "        1.25214052e+00, -1.80455238e-01, -7.30888844e-02,  1.20776606e+00,\n",
       "       -6.28649056e-01,  1.19478035e+00,  4.53989059e-01, -1.55133533e+00,\n",
       "       -2.66639829e+00, -9.99739766e-01,  1.26152921e+00,  9.12181854e-01,\n",
       "       -3.48918986e+00,  3.42816949e+00, -6.37068570e-01, -1.85933501e-01,\n",
       "       -5.15830040e-01, -3.06389034e-01, -1.47171807e+00,  9.96897876e-01,\n",
       "       -5.54930687e-01,  9.95828286e-02, -4.64269459e-01, -1.17028028e-01,\n",
       "       -5.70893943e-01,  1.62453306e+00, -2.13066435e+00, -1.88487887e+00,\n",
       "        9.01900291e-01,  9.51431543e-02,  1.89776611e+00, -2.32018828e-02,\n",
       "        1.96288514e+00, -1.41559577e+00, -7.48923481e-01, -1.07667291e+00,\n",
       "        9.94396508e-02,  6.42728388e-01, -1.15109861e+00, -7.73575157e-02,\n",
       "        1.35948753e+00,  1.90920997e+00, -1.17500854e+00,  2.61833310e+00,\n",
       "        1.72204137e+00,  5.77979565e-01,  1.09440756e+00, -7.25982308e-01,\n",
       "        1.29726815e+00, -1.54612136e+00,  1.59016514e+00, -8.87947321e-01,\n",
       "       -2.04231501e+00, -1.50019932e+00, -4.09247965e-01, -2.09457278e+00,\n",
       "        5.52052855e-01,  1.35276958e-01,  1.60877991e+00, -1.36051226e+00,\n",
       "        7.80889809e-01, -2.34377480e+00,  1.12894046e+00, -3.89017761e-02,\n",
       "        2.48469257e+00, -1.00878766e-04,  1.59348047e+00, -2.28332281e+00,\n",
       "       -9.73101139e-01,  3.99850368e+00,  1.17880714e+00,  1.52598572e+00],\n",
       "      dtype=float32)"
      ]
     },
     "execution_count": 22,
     "metadata": {},
     "output_type": "execute_result"
    }
   ],
   "source": [
    "query_in = np.array([get_embedding(word) for word in query_words]).mean(axis=0)\n",
    "print(query_in.shape)\n",
    "query_in"
   ]
  },
  {
   "cell_type": "code",
   "execution_count": 23,
   "metadata": {},
   "outputs": [
    {
     "name": "stderr",
     "output_type": "stream",
     "text": [
      "142462it [06:00, 401.97it/s]"
     ]
    },
    {
     "name": "stdout",
     "output_type": "stream",
     "text": [
      "elapsed:  360.60191106796265\n"
     ]
    },
    {
     "name": "stderr",
     "output_type": "stream",
     "text": [
      "\n"
     ]
    }
   ],
   "source": [
    "from tqdm import tqdm\n",
    "\n",
    "start = time.time()\n",
    "\n",
    "sentences = MySentences(TOKENS_PATH, sent_tokenize=False, yield_file_path=True)\n",
    "\n",
    "doc_path = []\n",
    "centroid_in = np.zeros((len(sentences), size), dtype=np.float32)\n",
    "centroid_out = np.zeros_like(centroid_in, dtype=np.float32)\n",
    "\n",
    "for idx, (file_path, sentence) in tqdm(enumerate(sentences)):\n",
    "    # compute the central embedding representation for each document\n",
    "    centroid_in[idx] = np.mean([get_embedding(word) for word in sentence], axis=0)\n",
    "    centroid_out[idx] = np.mean([get_embedding(word, out=True) for word in sentence], axis=0)\n",
    "    doc_path.append(file_path)\n",
    "\n",
    "elapsed = time.time() - start\n",
    "print('elapsed: ', elapsed)"
   ]
  },
  {
   "cell_type": "code",
   "execution_count": 24,
   "metadata": {},
   "outputs": [
    {
     "data": {
      "text/plain": [
       "NearestNeighbors(algorithm='auto', leaf_size=30, metric='euclidean',\n",
       "         metric_params=None, n_jobs=-1, n_neighbors=6, p=2, radius=1.0)"
      ]
     },
     "execution_count": 24,
     "metadata": {},
     "output_type": "execute_result"
    }
   ],
   "source": [
    "from sklearn.preprocessing import normalize\n",
    "from sklearn.neighbors import NearestNeighbors\n",
    "\n",
    "topn = 5\n",
    "n_jobs = -1\n",
    "normed_factors = normalize(centroid_in)\n",
    "knn = NearestNeighbors(\n",
    "    n_neighbors=topn + 1, metric='euclidean', n_jobs=n_jobs)\n",
    "knn.fit(normed_factors)"
   ]
  },
  {
   "cell_type": "code",
   "execution_count": 25,
   "metadata": {},
   "outputs": [
    {
     "data": {
      "text/plain": [
       "array([[ 51876,  95005, 141087,  29223,  76819, 110946]])"
      ]
     },
     "execution_count": 25,
     "metadata": {},
     "output_type": "execute_result"
    }
   ],
   "source": [
    "distances, indices = knn.kneighbors(query_in.reshape(1, -1))\n",
    "indices"
   ]
  },
  {
   "cell_type": "code",
   "execution_count": 26,
   "metadata": {},
   "outputs": [
    {
     "name": "stdout",
     "output_type": "stream",
     "text": [
      "['robert e rubin council foreign relations u treasury secretary progress economy made since financial crisis real sense country adrift faith institutions eroding income inequality job insecurity sluggish wage growth even improved performance fraying social fabric technological development lesser extent globalization contribute productivity growth also put pressure wages jobs poverty rate unconscionably high many feel american promise hard work leading better life reach united states however still holds worlds best hand question play cards need policy regime effectively promotes growth widespread income gains greater economic security context economy undergoing transformation three objectives interdependent mutually reinforcing taken together constitute one overarching goal inclusive growth could turn restore sense common purpose confidence future social cohesion inclusive growth agenda would address three broad categories challenges first public investment second structural reform innovation finally intermediate fiscal outlook public investment begin overdue action infrastructure including addressing deferred maintenance estimated trillion dollars repairing expanding bridges railways airports ports would create jobs immediately tighten labor markets improve wages increase productivity capacity economy years come economic success also requires increased funding basic applied research broadened access internet targeted investments future next need structural reform many critical areas often conjunction public investment twenty percent children live poverty thats moral disgrace highly counterproductive economically breaking intergenerational cycle poverty early family intervention transitional public employment provide jobs workforce readiness policy interventions could significantly reduce social costs increase productivity likewise nations policies fail us morally harm us economically alternatives incarceration many nonviolent crimes shorter sentences better rehabilitation prison vastly improved programs could produce great direct cost savings including reduced recidivism substantial productivity gains better equipping released prisoners workforce reform also include immigration measures provide fair path citizenship recognize immense contribution immigrants also need level playing field workers opt collective bargaining apply sensible balance costs benefits regulation address climate change improve education develop innovative measures address ongoing wage job pressure transformative technological development measures might include public employment free lifelong learning effective retraining substantially expanded tax credit finally achieve inclusive growth must address unsound economically harmful intermediate projected fiscal conditions current trajectory likely increasingly undermine business confidence creating uncertainty future policy exacerbating concerns washingtons ability govern diminishes resilience face another economic geopolitical crisis reduces capacity fund public investment national security crowds private investment recovers future point could trigger financial market economic destabilization certain extent risks already materializing constructive fiscal regime would pair immediate public investment boost current demand future productivity measures effectively address trajectory would require increased revenue raised progressively putting social insurance federal programs sustainable financial footing also rigorously scrutinize defense nondefense sides budget improve programmatic efficiency relevance longer wait address challenges greater effects harsher measures required fundamental challenge upon else depends reestablishing willingness among members congress engage principled compromise across policy political divides make difficult decisions focus facts analysis recognizing politics always involved achieve broadly shared economic success languish long caught vicious cycle failure achieve inclusive growth undermined public trust congresss commitment governing turn necessary achieve inclusive growth act policies promote inclusive growth could restore support governance initiate virtuous cycle spurring constructive policy us contribute positive outcome even different policy views using means available emails social media campaign contributions insist elected officials engage making system work inclusive growth offers economic vision reflects reinforces countrys broad values policies exist achieve us make happen read topic lawrence summers next president make infrastructure spending priority george f charlestons port needs deepening congress job catherine rampell busy watching trump circus congress stopped showing work']\n",
      "['defining prosperity accurately prosperity defining eight years recovery great recession unemployment rate dropped percent stock market pushing record highs consumer confidence seems robust yet economy doesnt feel good looks anxieties lurk explanation argues ruchir sharma doesnt feel like typical business cycle recovery isnt entered new era low economic growth high political disappointment democratic system requires economic growth raise living standards support activist government expectations present advanced democracies longer realistic global economy changed ways reduce growth sharma top investment strategist morgan stanley lays thesis current issue foreign affairs standard recovery low interest rates big government budget deficits repayment private debt surplus inventories investments suffice restore satisfactory economic growth sharmas logic didnt happen great recession deeper forces dominated writes causes current slowdown summed three ds depopulation deleveraging deglobalization end world war ii financial crisis global economy supercharged explosive population growth debt boom fueled investment boosted productivity astonishing increase flows goods money people today three trends begun sharply decelerate families fewer children banks expanding lending countries engaging less trade sharma calls trap inherited president trump sharma worries political consequences much economic effects already seems breeding ground nationalist populist surges many countries read trump britains brexit russias vladimir putin frances marine le pen expects tension discontent many governments still trying push economies reach unrealistic growth targets desperation understandable voters accepted new economic reality either growing disconnect political mood economic reality could prove dangerous leaders scapegoating foreigners launching military adventures divert publics attention economy note sharma forecasting anything like another great depression even repetition great recession hes simply predicting extended slowdown economic growth region world growing fast writes none expect united states europe developed nations means anything percent annually seen healthy says would big drop united states since world war ii american economy usually grown year percent better economies still take advantage existing technologies workers growth rates faster fast china russia vietnam grown annual rates percent better wont continue world economy slow fair theres technical consensus issues consider another recent report innovation experts michael mandel bret swanson contrary sharma predict productivity boom would boost annual u economic growth closer percent year target trump administration percent recent years argue roughly percent u business sectors including manufacturing construction health care transportation underinvested digital technologies changing say promises major gains efficiency economic growth point arbitrate views rather acknowledge legitimate differences still sharmas broader point remains real threat economic slowdown political stability decades advanced democracies including united states adopted similar political model assumed economic growth could deliver social peace loyalty democratic values protective social institutions widely called welfare state elsewhere social safety net united states shielded economic upsets personal misfortune democracy mitigated capitalisms worst excesses systems victims critics could bought model required people took granted dynamic economy could boost living standards expand welfare benefits assurance gone missing best model desperately needs repair worst busted read robert samuelsons archive read topic robert e rubin hurting poor hurt economy lawrence summers global economy entered unexplored dangerous territory sebastian mallaby sorry trump americas economy already pretty great peter navarro wilbur ross trump would stimulate u economy lawrence summers focus growth middle class']\n",
      "['american exceptionalism propelled exceptionally free markets tempting think united states freer economy western european countries particularly scandinavian social democracies punishing tax burdens lavish even coddling welfare states late american economy indeed freest west something strange happened since economic freedom united states dropped alarming rate meanwhile number welfare states become least robustly capitalist united states maybe big welfare states needed become better capitalists afford socialism counterintuitive even paradoxical dynamic suggests tantalizing hypothesis americas shabby unpopular safety net least partly responsible capitalisms flagging fortunes land free could americans arent socialist enough want capitalism work makes sense might think americas falling economic freedom american economy freest west lagging behind asias hong kong singapore average economic freedom rating wealthy developed member countries organization economic cooperation development oecd slipped bit since turn millennium fast americas nowhere reversal rising trend economic freedom evident united states write authors fraser institutes economic freedom world report noting decline economic freedom united states three times greater average decline found oecd heritage foundation canadian fraser institute produce annual index economic freedom scoring worlds countries four five main areas breaks number subcomponents main rubrics include size government tax burdens protection property rights soundness legal system monetary stability openness global trade levels regulation business labor capital markets scores areas subareas combined generate overall economic freedom score rankings reflect ideas means people economies free strong labor unions redistribution likely hurt help countrys score care think tanks ideologically loaded measure economic freedom matters economic freedom measured predicts higher rates economic growth higher levels wealth predict happier healthier longer lives higher levels economic freedom also linked greater political liberty civil rights well higher scores social progress index based indicators social justice human nutrition medical care tolerance inclusion authors fraser report estimate drop american economic freedom could cut us historic growth rate percent half difference percent percent growth rate roughly difference output economy tripling rather octupling lifetime thats huge deal period economic freedom scores canada denmark improved lot according conservative libertarian definitions economic freedom canadians enjoy socialized health care system economic freedom americans danes one worlds generous welfare states much hells going redistributive state regulatory state separable make headway question crucial clearly distinguish two conceptually empirically separable aspects big government regulatory state redistributive state redistributive state moves money around taxes transfer programs regulatory state places sorts restrictions requirements economic life necessary democrats republicans assume lots regulation lots redistribution go hand hand easy miss one without relationship two uneasy best cant really understand politics behind americas declining economic freedom fail distinguish regulatory fiscal aspects economic policy standard republican economic policy thinking says cuts tax rates government spending unleash latent productive potential economy boosting rates growth indeed taxes government spending high cuts produce gains returning resources private sector important see questions government control versus private sector control economic resources categorically different questions freedom markets free markets require presence good regulation define protect property rights facilitate market processes consistent application clear law absence bad regulation interferes productive economic activity government tax spend little yet still stomp markets conversely government withdraw lots money economy taxes still totally nail optimal balance good bad regulation whether countrys market economy free open competitive relatively unmolested government question regulation question taxation redistribution primarily big government republicans generally support less meddlesome regulatory approach theyre power tend much persistent cutting taxes social welfare spending reducing economically harmful regulatory frictions youre worried americas declining economic freedom serious problem recent years effect cutting taxes spending distribute income upward leave least vulnerable bad luck globalization disruptive innovation vagaries business cycles spending cuts came militarys titanic budget would help thats rarely happens least connected constituencies expensive ones first get dinged budget hawks tax cuts unlikely boost growth lower taxes make government seem cheaper really leads voters ask less government spending driving deficit increasing portion gdp devoted paying interest government debt isnt way return resources private sector meanwhile wages flat declining millions americans decades people increasingly believe economy rigged favor rich sense economic insecurity mounts people anxiously cast answers easing grip regulatory state good answer united states close association free market efforts produce growth slashing redistributive state made unattractive answer even republican voters thats least part reason gop wound nominating candidate addition promising cut entitlement spending openly favors protectionist trade policy giant infrastructure projects huge subsidies domestic manufacturing energy production donald trumps economic policy worst possible worlds doubly ironic doubly depressing recognize sort big redistributive state fight necessarily enemy economic freedom contrary high levels social welfare spending actually drive political demand reform regulatory state thats lesson canada denmarks march free economy rankings welfare state isnt free lunch cheap date economic theory tells big government ought hurt economic growth high levels taxation reduce incentive work redistribution leaky bucket moving money around always ends wasting moreover dollar spent private sector generally beneficial effect economy dollar spent government add big governments tax heavily spend freely social transfers ought hurt economic growth matters moral perspective lot things equal people better every measure theyre wealthier relative economic equality nice nice relatively equal shares mean smaller shares everyone small differences rate put money savings account lead vast differences account balance years road thanks compounding nature interest small reduction rate economic growth leave societys least people much poorer absolute terms might heres puzzle general rule nations grow wealthier public demands better government services increasing government spending percentage gdp known wagners law according standard growth theory ongoing increase size government ought exert downward pressure rates growth dont see expected effect data national growth trends amazingly stable look family advanced liberal democratic countries countries spend smaller portion national income social transfer programs gain little terms growth relative countries spend much lavishly social programs peter lindert economist university california davis, calls ”free lunch paradox.” lindert’s label puzzle somewhat misleading, big expensive welfare states are, obviously, expensive. come expense growth. standard economic theory isn’t completely wrong. it’s democracies embraced generous social spending found ways afford minimizing offsetting effects. you’re careful numbers, fact find small negative effect social welfare spending growth. still, according economic theory, lunch ought really expensive. it’s not. three main reasons big welfare states don’t hurt growth much might think. first, lindert emphasized, tend efficient tax systems minimize market distortions. tax something, people tend avoid it. tax income, united states does, people work little less, means certain economic gains never materialize, leaving everyone little poorer. taxing consumption, many european peers do, less likely discourage productive moneymaking, though discourage spending. that’s bad. less consumption means savings, savings puts capital capitalism, financing economic activity creates growth. advantages, too. consumption taxes usually structured national sales taxes (or vats, taxes) paid small amounts continuous basis, extremely cheap collect (and hard avoid) less income taxes, mitigates counterproductively demoralizing aspect taxation. big welfare states also likely tax addictive stuff, people tend buy whatever price, well unhealthy polluting stuff. harnesses otherwise fiscally behavior minimize costs health care environmental damage. second, transfer programs relatively direct effects. workers productive jobs training experience, example, unemployment benefits offer displaced workers time find good, fit. there’s also evidence health care benefits aren’t linked employment promote economic entrepreneurship. fans redistributive programs tend oversell kind upside growth, really some. moreover, makes sense countries devoted programs would time amplify aspects. can’t assume government spending affects growth way. composition spending — well cuts spending — matters. cuts spending hurt growth much help. really hurt increase economic anxiety generate demand economic policy. third, lots regulatory state policies hurt growth by, say, impeding healthy competition closing foreign trade, like high levels redistribution better like policies, you’ll eventually consider getting rid them. get rid them, economic freedom score heritage foundation fraser institute goes up. sort compensatory economic liberalization big welfare states indirectly promote growth, less explains countries like canada, denmark, sweden become robustly capitalist past several decades. needed better capitalists afford socialism. works pretty well. bundle together fiscal efficiency, offsetting effects, compensatory liberalization, wind big government, high levels social welfare spending little negative consequences growth. call ” .” missing political genuine reform enthusiasts small government ready reply. fine, they’ll say. big government work policies offset drag growth. less intrusive regulatory state smaller redistributive state: . all, formula hong kong singapore, rank no. 1 no. 2 economic freedom. clearly that’s best bet economic freedom. argument ignores two things. first, hong kong singapore authoritarian technocracies, liberal democracies, suggests (though doesn’t prove) special recipe requires nondemocratic government work. bring democracy picture, important political lesson canadian danish rise economic freedom becomes clear: democratically popular welfare programs become politically nonnegotiable fixed points, come exert intense pressure fiscal economic policy make sustainable. political demand economic liberalization come somewhere. there’s generally little organic, popular democratic appetite capitalist creative destruction. constant ”disruption” scary, way markets generate wealth hard comprehend, many us find competitive intuitively objectionable. it’s danes swedes canadians ever loved ”neoliberal” market reforms. fought bitterly rolled back. welfare states creaking weight, enough public willing, thanks sense economic security provided welfare state, listen experts warned redistributive state would become unsustainable without downsizing regulatory state. sound generous system social insurance offers certain peace mind makes real risks increased economic dynamism seem tolerable democratic public, opening political possibility stabilizing welfare state economic liberalization. sense baseline economic security precisely many millions americans lack. learning lesson donald trump america’s declining economic freedom profoundly serious problem. it’s already putting brakes dynamism growth, leaving millions americans bitter sense panic prospects. demand answers. ordinary voters aren’t policy wonks. gripped economic anxiety, turn demagogues promise measures make intuitive economic sense, actually make economic problems worse. may dodge trump presidency time, fail fix feedback loop declining economic freedom increasingly acute sense economic anxiety, risk plunging world’s biggest economy linchpin global stability political economic death spiral. it’s ridiculous understatement say it’s important doesn’t happen. republicans libertarians need stare hard framed picture donald trump reflect idea stale economic agenda focused cutting taxes slashing government spending unlikely deliver gains. instead likely continue backfire exacerbating economic anxiety public’s sense system rigged. gaze donald long enough, fascist lips whisper ”thank you,” explain close confusing identification fiscal orthodoxy ”free market” economic policy helps authoritarian populists like — hurts political prospects regulatory state reforms would actually make american markets freer. wilkinson vice president policy niskanen center.']\n",
      "['cnn leaders policies change elections nations interests pacific power united states enduring interest region stable free prosperous advance objectives trump administration need coherent strategy draws tools power military diplomatic least economic next decades region world impact americas economic fortunes asia pacific noted recent center strategic international studies csis report reinvigorating u economic strategy asia pacific region home half worlds economies billions asians join middle class worlds economic center gravity move toward region linking american exports growth jobs pacific ever signs emerging future already evident across country pacific northwest south demand asia driving growth us exports meat grains produce automobiles capital equipment energy health care financial services software already trade asia directly supports three million us jobs potential deliver much cannot take bright future granted growth asia faces increasing headwinds nationalism protectionism rise across region challenges institutions rules norms threaten americas security economic opportunity china poses particular challenge united states countrys spectacular rise become worlds economy short decades created huge opportunities us exporters investors noted csis report slowing growth stalled reforms mercantilist policies creating difficult environment china beijing pursuing assertive policies externally united states benefits cooperative relationship cannot sustained advance interests countries even expanding cooperation washington must willing challenge beijing seeks undermine order actions threaten us interests face opportunities challenges trump administration must us leadership asia pacific job one strengthen foundations economy tax regulatory reform infrastructure investment better education training spending basic research economic muscle home profound importance asia equates economic strength security projection power administration build solid strategic foundations involvement asia pacific guided past eight us administrations strong security presence reinforced robust investment regional economic order support democratic values remains best way advance american interests partnership tpp designed promote americas vision freer fairer trade investment asia pacific successful agreement would greatly increase access us goods services worlds dynamic markets strengthening rules critical areas ensuring open internet protecting intellectual property limiting role state marketplace new administrations decision withdraw tpp puts benefits risk could leave dangerous vacuum region undermining us security prosperity likely give momentum agreements asia exclude united states promote high standards strengthen chinas already muscular hand region undermine allies partners urge administration use opportunity withdrawal meet tpp partners outline areas concern devise negotiating agenda rectify deficiencies administration also look new ways open markets advance high standards critical economic progress st century noted recent report tpp powerful effect incentivizing asian countries work united states building stronger order success extended areas economic policy advocating greater transparency asia builds infrastructure promoting high standards technology key finding report successful strategy requires washington work closely treaty allies region particularly japan south korea australia well partners india singapore administration must also coordinate closely us private sector must develop effective messages explain importance asia pacific american people implementing kind strategy complicated popular preference rebuild home rather lead abroad false dilemma americas domestic prosperity inextricably linked international leadership vacuum us leadership asia filled less benevolent players would take decades reverse huge economic cost way lost markets legitimacy smart strategic economic policy incoming administration opportunity build firm foundation americas pacific century seize chance']\n",
      "['egyptian president abdel fattah address united nations general assembly focused economic issues surprisingly strong critique globalism sisi argued developing countries afforded sufficient opportunity achieve sustainable development require conducive international environment provides larger share international trade finance mechanisms transfer technology well influx investments debt settlement addition necessity conducive national environment development egypt also stresses importance harnessing global monetary system establish fair global economic system one provides equal opportunities development contributes minimizing gap developed developing countries sisi added spoke length egypts support u n convention climate change saying efforts confront climate change must take consideration equity right development well adherence principles international law importance universal benefit refraining harm enhancing cooperation participation different countries prospective projects accordance rules regulate international financial institutions headed world bank sisi segued assault globalism interesting contrast since treaties nothing exercises globalism world become global village result positive impact communications technology revolution well freedom capital flow investments global trade however continue see another side globalization one produced number social economic challenges globalization linked rise poverty expansion inequality gap undermining social contract number developing countries factors combined exerted pressure institutional cohesion countries perhaps challenges pressures constitute biggest incentive international community work diligently provide state institutions countries best possible means undertake responsibilities meet needs aspirations peoples sisi praised success egyptian people enforcing achieve stability protect state institutions even safeguard society fragmentation chaos celebrated progress human rights including paving way women occupy seats house representatives expanding representation youth within implementing giant national projects improve national infrastructure returned theme egyptian stability passage seems intended get international critics ease government often denounced authoritarian middle east continues suffer bloody conflicts egypt managed preserve stability midst highly unstable region thanks solidity institutions peoples awareness great cultural heritage international community must acknowledge support fact benefit region world large egypt may continue act anchor stability middle east sparing efforts carrying natural role working regional international parties restore security stability region sisi talked agonizing situation syria promoting egypts willingness take half million refugees conflict treating egyptians terms providing healthcare education housing called immediate comprehensive halt hostile acts across syria praised ceasefire agreement russia united states positive step direction sisi expressed support political solution would end bloodshed chaos preserving territorial integrity security syria state institutions described conflict core regional instability middle east proposed resolve ending israeli occupation negotiations progress peace process order reach final settlement sustainable peace basis solution thus welcome current efforts based genuine desire improve situation palestinian territories palestinian people continue suffer state affairs must rectified focus ending occupation reclaiming rights palestinian people via peace agreement consistent resolutions international legitimacy one guarantees palestinians right state achieves security israel within context normal relations region egyptian president said regretted situation libya said direct implications egyptian national security expressed support libyas national unity government sisi called lifting arms embargo libya declaring place terrorism militias libya time come restore institutions libyan state would seem declaration libyan unity government strong reliable enough armed islamic state invaders warlord gangs ruling much country western powers reluctant drop weapons libya fear government would lose control sisi called restoration legitimate government yemen way u n peace negotiations said egypt would continue providing humanitarian assistance yemenis caught conflict went reject foreign interference arab affairs denounced attempts foment sectarian strife arab world called unity spoke length egypts involvement africa mentioning unrest somalia crisis south sudan sisi devoted final passages speech phenomenon terrorism hostility towards right life represents said become urgent threat international peace security terrorism constitutes threat entity state favor extremist ideology utilizes religion veil behind conduct monstrous acts menace destinies peoples necessitates intensive regional international cooperation egypt always keen stress endeavor defeat terrorism never achieve ends unless address roots phenomenon confront terrorist groups decisiveness refute extremist ideologies give birth terrorism proponents egypt calls upon international community take possible measures prevent terrorism exploiting advances information technology contributed endowing phenomena terrorism ideological extremism dangerous new dimensions grained global reach essential end broadcasting channels hosting websites incite violence extremism went urge united nations educational scientific cultural organization unesco give greater attention addressing cultural aspects development peacemaking elimination destructive ideologies including via access knowledge transfer technology confronting extremist ideologies mankinds obligation reclaim essence humanity sharing knowledge technology without monopoly uniting face challenges sisi declared']\n",
      "['principal challenge th century threat totalitarianism fascism imperial communism soviet union major challenge facing us early part st century integration theme integration reaches across issues cultural affairs economics national security integration defined finding community particular challenge world transformed broader global currents live era celebrates disruption part politics knowing preserve era globalization led unleashing sometimes coordinated sometimes unintentional transnational trade migration terror technology good much richer gangnam style bad much exacted price local national cohesion applauded disintegrating trends others exhibit wariness economist tyler cowen projects average foreseeing america divided vast underclass subsisting beans distracted various psychotropic amusements demographer joel kotkin warned rise new feudalism united states nations fracture rigid castes powerful either support trends feel unable counter many western populaces restless rise radical outsiders bernie sanders donald trump fueled part escalating anxiety public disintegration understanding stakes disintegration crucial grasping underlying forces driving public debates across much industrialized world political economic cultural elites attempted divide body politic various siloed identity groups social scientists harvards robert putnam noted alarm rising social disengagement alienation american society feedback loops social media may encourage even isolation cling tribal circles cast aspersions run afoul ideological views identity politics anchored tribalistic collectivism many ways stands opposed project republican deliberation entails argument heterogeneity respect individual culture war limited decisions private actors administrative state also capable using vast powers law pummel dissenters sexual revolution become flashpoint banner wish use state attack freedom conscience instance calls tax churches dissent mores sexual revolution demands state use power crush alternative conceptions human existence conflicts go far beyond sexual revolution speak broader breakdown conventions necessary maintain intellectual cultural freedom respect dignity individual belief tolerance virtue acceptance dialogue intellectual exploration vehicles enlightenment intellectual parochialism partial source attacks intellectual liberty oppose free inquiry campus radicals technocratic culture czars part lack moral imagination collectivism plays role see fellow citizens part common public square part collective alien easier justify suppressing ideas economically face challenge integration rise global trade compacts combined advances technology slashed manufacturing jobs across nation meanwhile shift toward globalized labor force increases legal illegal immigration disrupted much domestic job market many jobs used ticket middle class either pay diminished wages longer exist economic churn decline fields rise others force great good however churn necessarily growth many people ladder opportunity broken many workers without advanced training seen wages stagnate decline recent immigrants especially face hard economic road much th century immigrants wages eventually caught variety reasons longer trends taken toll middle class according u census data median household income peaked choice policymakers favor business interests expense market principles middle class exacerbates divisions economy connected businesses get supply indentured servants expanded programs financial titans protected market risk big fail stagnation middle accompanied broader slowdown economic growth adjusted inflation economy grown percent annually since half percent annual rate create less polarized integrated economy could things could work improve access education training training skills panacea many jobs expected demand next decade aides experienced decline wages according national employment law project reforming immigration flows ensure tighter labor market jobs various skill levels improve wages jobs thereby strengthen consumer spending american worker economic growth terrorism feeds upon exacerbates civic breakdown terrorist threat facing united states two sides terrorism directed supported major national international actors attacks decentralized terrorist actors many nurtured united states boston marathon bombers geopolitical actions targeting isiss home base instance part strategy coping terrorist threat alone likely solve deeper challenge radicalization part cultural question caused small minority portion consists immigrants children radicalize europe united states turn societies welcomed raised doesnt seem absence government funding boston bombers many paris attackers domestic terrorists enjoyed riches welfare state lack economic success may part answer france instance unemployment remains much higher immigrants native born brookings report finds unemployment remains biggest obstacle integration biggest impediment advancement immigrants children grandchildren however job alone keep someone terrorist san bernardino demonstrates network alienation reaches across communities network relies upon communal atomization makes easier view live around oneself enemies strengthening communities targeting infrastructure network complement geopolitical efforts terrorism sociopolitical disintegration poses threat communities economic vitality exercise liberties restoring integration would strengthen republic ideals liberty economy provides economic growth would create economic energy fortify nations finances reinvigorated public square would allow free expression ideas terrorists enablers rely upon fissures societies integration combat ideology alienated terror give practitioners ideology fewer places hide ideally key part task integration would include restoring faith governing institutions according polls americans believe nation heading wrong direction see around broken neighborhoods increased economic uncertainty political class often unable unwilling respond real problems across much western world witnessing rise disruptive political movements scramble conventional political alliances symptom alienated public fear disruption degenerate demagoguery statesmen step forward address real concerns demagogues addressing concerns integration help ensure united states remains responsible global actor faces challenges future spirit optimism openness gop much gain taking lead integration would integrative vision appeal many core elements republican electoral coalition would also help party reach new voters integration would economic message hope struggling voters working middle classes face intolerance republicans could rally open public square recognizes free consciences applauds moral seriousness advancing message americans together republicans could counter unfair narrative gop party selfishness always somewhat risky reduce complexity political challenges single concept key terms afford valuable lens organizing current problems cracking idea commonwealth poses threat hopes ordered liberty rich lowry among others warned moment republic faith law belief perfection current laws conviction law general serves valuable purpose necessary sustaining republican order defend essential rights defending integration would mean placing americans crushing yoke enforced homogeneity instead would entail creating society individual difference respected recognized project integration diverse people varied walks life would view coming together create great experiment republic']\n"
     ]
    }
   ],
   "source": [
    "for index in indices.ravel():\n",
    "    file_path = doc_path[index]\n",
    "    with open(file_path) as f:\n",
    "        content = f.readlines()\n",
    "        print(content)"
   ]
  }
 ],
 "metadata": {
  "kernelspec": {
   "display_name": "Python 3",
   "language": "python",
   "name": "python3"
  },
  "language_info": {
   "codemirror_mode": {
    "name": "ipython",
    "version": 3
   },
   "file_extension": ".py",
   "mimetype": "text/x-python",
   "name": "python",
   "nbconvert_exporter": "python",
   "pygments_lexer": "ipython3",
   "version": "3.6.4"
  },
  "toc": {
   "nav_menu": {},
   "number_sections": true,
   "sideBar": true,
   "skip_h1_title": false,
   "title_cell": "Table of Contents",
   "title_sidebar": "Contents",
   "toc_cell": true,
   "toc_position": {
    "height": "calc(100% - 180px)",
    "left": "10px",
    "top": "150px",
    "width": "244px"
   },
   "toc_section_display": true,
   "toc_window_display": true
  },
  "varInspector": {
   "cols": {
    "lenName": 16,
    "lenType": 16,
    "lenVar": 40
   },
   "kernels_config": {
    "python": {
     "delete_cmd_postfix": "",
     "delete_cmd_prefix": "del ",
     "library": "var_list.py",
     "varRefreshCmd": "print(var_dic_list())"
    },
    "r": {
     "delete_cmd_postfix": ") ",
     "delete_cmd_prefix": "rm(",
     "library": "var_list.r",
     "varRefreshCmd": "cat(var_dic_list()) "
    }
   },
   "types_to_exclude": [
    "module",
    "function",
    "builtin_function_or_method",
    "instance",
    "_Feature"
   ],
   "window_display": false
  }
 },
 "nbformat": 4,
 "nbformat_minor": 2
}
