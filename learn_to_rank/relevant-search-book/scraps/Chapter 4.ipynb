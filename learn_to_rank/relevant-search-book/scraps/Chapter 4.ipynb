{
 "cells": [
  {
   "cell_type": "code",
   "execution_count": 51,
   "metadata": {
    "collapsed": false
   },
   "outputs": [],
   "source": [
    "import indexer as ind\n",
    "import requests\n",
    "reload(ind)\n",
    "url = ind.es_url + \"/\" + ind.tmdb"
   ]
  },
  {
   "cell_type": "code",
   "execution_count": 52,
   "metadata": {
    "collapsed": false
   },
   "outputs": [
    {
     "name": "stdout",
     "output_type": "stream",
     "text": [
      "200\n",
      "Indexing 2 movies\n"
     ]
    }
   ],
   "source": [
    "docs = [{\"title\":\"the bunny thing\"},{\"title\":\"the bunny thing\"}]\n",
    "ind.index_docs(docs)"
   ]
  },
  {
   "cell_type": "code",
   "execution_count": 55,
   "metadata": {
    "collapsed": false
   },
   "outputs": [
    {
     "data": {
      "text/plain": [
       "u'{\"took\":2,\"timed_out\":false,\"_shards\":{\"total\":1,\"successful\":1,\"failed\":0},\"hits\":{\"total\":2,\"max_score\":1.0,\"hits\":[{\"_index\":\"tmdb\",\"_type\":\"movie\",\"_id\":\"0\",\"_score\":1.0,\"_source\":{\"title\": \"the bunny thing\"}},{\"_index\":\"tmdb\",\"_type\":\"movie\",\"_id\":\"1\",\"_score\":1.0,\"_source\":{\"title\": \"the bunny thing\"}}]}}'"
      ]
     },
     "execution_count": 55,
     "metadata": {},
     "output_type": "execute_result"
    }
   ],
   "source": [
    "requests.get(url + \"/_search\").text"
   ]
  },
  {
   "cell_type": "code",
   "execution_count": 86,
   "metadata": {
    "collapsed": false
   },
   "outputs": [
    {
     "name": "stdout",
     "output_type": "stream",
     "text": [
      "{u'end_offset': 4, u'token': u'fire', u'type': u'<ALPHANUM>', u'start_offset': 0, u'position': 1}\n",
      "{u'end_offset': 9, u'token': u'with', u'type': u'<ALPHANUM>', u'start_offset': 5, u'position': 2}\n",
      "{u'end_offset': 14, u'token': u'fire', u'type': u'<ALPHANUM>', u'start_offset': 10, u'position': 3}\n"
     ]
    }
   ],
   "source": [
    "resp = requests.delete(url)\n",
    "resp = requests.put(url, data=\"\"\"\n",
    "{\n",
    "  \"settings\" : {\n",
    "    \"index\" : {\n",
    "      \"number_of_shards\" : 1,\n",
    "      \"number_of_replicas\" : 0\n",
    "    },\n",
    "    \"analysis\": {\n",
    "      \"analyzer\": {\n",
    "        \"fulltext_analyzer\": {\n",
    "          \"type\": \"custom\",\n",
    "          \"tokenizer\": \"whitespace\",\n",
    "          \"filter\": [\n",
    "            \"lowercase\",\n",
    "            \"type_as_payload\"\n",
    "          ]\n",
    "        },\n",
    "        \"fulltext_analyzer2\": {\n",
    "          \"type\": \"custom\",\n",
    "          \"tokenizer\": \"whitespace\",\n",
    "          \"filter\": [\n",
    "            \"lowercase\",\n",
    "            \"type_as_payload\"\n",
    "          ]\n",
    "        }\n",
    "      }\n",
    "    }\n",
    "  }\n",
    "}\n",
    "\"\"\")\n",
    "if not resp.ok:\n",
    "    print resp.text\n",
    "else:\n",
    "    resp = requests.get(url + \"/_analyze?analyzer=standard\", \n",
    "                        data=\"Fire with Fire\")\n",
    "    if resp.ok:\n",
    "        tokens = resp.json()['tokens']\n",
    "        for token in tokens:\n",
    "            print token\n",
    "    "
   ]
  },
  {
   "cell_type": "code",
   "execution_count": null,
   "metadata": {
    "collapsed": true
   },
   "outputs": [],
   "source": []
  }
 ],
 "metadata": {
  "kernelspec": {
   "display_name": "Python 2",
   "language": "python",
   "name": "python2"
  },
  "language_info": {
   "codemirror_mode": {
    "name": "ipython",
    "version": 2
   },
   "file_extension": ".py",
   "mimetype": "text/x-python",
   "name": "python",
   "nbconvert_exporter": "python",
   "pygments_lexer": "ipython2",
   "version": "2.7.6"
  }
 },
 "nbformat": 4,
 "nbformat_minor": 0
}
