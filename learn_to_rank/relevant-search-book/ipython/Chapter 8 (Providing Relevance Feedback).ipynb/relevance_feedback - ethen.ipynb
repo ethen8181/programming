{
 "cells": [
  {
   "cell_type": "markdown",
   "metadata": {
    "toc": true
   },
   "source": [
    "<h1>Table of Contents<span class=\"tocSkip\"></span></h1>\n",
    "<div class=\"toc\"><ul class=\"toc-item\"><li><span><a href=\"#Relevance-Feedback\" data-toc-modified-id=\"Relevance-Feedback-1\"><span class=\"toc-item-num\">1&nbsp;&nbsp;</span>Relevance Feedback</a></span><ul class=\"toc-item\"><li><span><a href=\"#Match-Phrase-Prefix-Query\" data-toc-modified-id=\"Match-Phrase-Prefix-Query-1.1\"><span class=\"toc-item-num\">1.1&nbsp;&nbsp;</span>Match Phrase Prefix Query</a></span></li><li><span><a href=\"#Completion\" data-toc-modified-id=\"Completion-1.2\"><span class=\"toc-item-num\">1.2&nbsp;&nbsp;</span>Completion</a></span></li><li><span><a href=\"#Correcting-Typos\" data-toc-modified-id=\"Correcting-Typos-1.3\"><span class=\"toc-item-num\">1.3&nbsp;&nbsp;</span>Correcting Typos</a></span></li><li><span><a href=\"#Faceting\" data-toc-modified-id=\"Faceting-1.4\"><span class=\"toc-item-num\">1.4&nbsp;&nbsp;</span>Faceting</a></span></li><li><span><a href=\"#Alternate-Sorting\" data-toc-modified-id=\"Alternate-Sorting-1.5\"><span class=\"toc-item-num\">1.5&nbsp;&nbsp;</span>Alternate Sorting</a></span></li><li><span><a href=\"#What-Information-to-Present\" data-toc-modified-id=\"What-Information-to-Present-1.6\"><span class=\"toc-item-num\">1.6&nbsp;&nbsp;</span>What Information to Present</a></span></li><li><span><a href=\"#Grouping-Similar-Documents\" data-toc-modified-id=\"Grouping-Similar-Documents-1.7\"><span class=\"toc-item-num\">1.7&nbsp;&nbsp;</span>Grouping Similar Documents</a></span></li><li><span><a href=\"#No-Results\" data-toc-modified-id=\"No-Results-1.8\"><span class=\"toc-item-num\">1.8&nbsp;&nbsp;</span>No Results</a></span></li></ul></li></ul></div>"
   ]
  },
  {
   "cell_type": "markdown",
   "metadata": {},
   "source": [
    "# Relevance Feedback"
   ]
  },
  {
   "cell_type": "markdown",
   "metadata": {},
   "source": [
    "Steering search conversation:\n",
    "\n",
    "- Explain to user how their query is being interpreted or help them understand why a particular document is a match.\n",
    "- Correct mistakes such as typos and misspellings.\n",
    "- Suggest other searches that will provide better result.\n",
    "\n",
    "Common relevance feedback:\n",
    "\n",
    "- Search as you type.\n",
    "- Search completion.\n",
    "- Post-search suggestion.\n",
    "\n",
    "\n",
    "Search completion is usually represented as drop-down menu to aid the user as they type.\n",
    "\n",
    "- With too few queries, we may have insufficient data to build a satisfactory completion experience.\n",
    "- With too many queries, we'll have to prioritize what's important from a large, diverse set of completion candidates.\n",
    "- We should also consider whether old search traffic becomes obsolete for our application.\n",
    "- We should ensure the search completion doesn't lead to search query that has 0 results."
   ]
  },
  {
   "cell_type": "code",
   "execution_count": 1,
   "metadata": {},
   "outputs": [],
   "source": [
    "import json\n",
    "import requests"
   ]
  },
  {
   "cell_type": "code",
   "execution_count": 2,
   "metadata": {},
   "outputs": [
    {
     "data": {
      "text/plain": [
       "{'poster_path': '/mfMndRWFbzXbTx0g3rHUXFAxyOh.jpg',\n",
       " 'production_countries': [{'iso_3166_1': 'US',\n",
       "   'name': 'United States of America'}],\n",
       " 'revenue': 0,\n",
       " 'overview': 'When the FBI hires her to go undercover at a college sorority, Molly Morris (Miley Cyrus) must transform herself from a tough, streetwise private investigator to a refined, sophisticated university girl to help protect the daughter of a one-time Mobster. With several suspects on her list, Molly unexpectedly discovers that not everyone is who they appear to be, including herself.',\n",
       " 'video': False,\n",
       " 'id': 93837,\n",
       " 'genres': [{'id': 28, 'name': 'Action'}, {'id': 35, 'name': 'Comedy'}],\n",
       " 'title': 'So Undercover',\n",
       " 'tagline': \"Meet the FBI's new secret weapon\",\n",
       " 'vote_count': 55,\n",
       " 'homepage': '',\n",
       " 'belongs_to_collection': None,\n",
       " 'original_language': 'en',\n",
       " 'status': 'Released',\n",
       " 'spoken_languages': [{'iso_639_1': 'en', 'name': 'English'}],\n",
       " 'imdb_id': 'tt1766094',\n",
       " 'adult': False,\n",
       " 'backdrop_path': '/o4Tt60z94Hbgk8adeZG9WE4S2im.jpg',\n",
       " 'production_companies': [{'name': 'Exclusive Media Group', 'id': 11448}],\n",
       " 'release_date': '2012-01-01',\n",
       " 'popularity': 0.345124796829192,\n",
       " 'original_title': 'So Undercover',\n",
       " 'budget': 0,\n",
       " 'cast': [{'name': 'Miley Cyrus',\n",
       "   'character': 'Molly',\n",
       "   'id': 76594,\n",
       "   'credit_id': '52fe49419251416c750c21c9',\n",
       "   'cast_id': 10,\n",
       "   'profile_path': '/4cWl6nJTQMexqZFFDfaJucwhqGY.jpg',\n",
       "   'order': 0},\n",
       "  {'name': 'Joshua Bowman',\n",
       "   'character': 'Nicholas',\n",
       "   'id': 139835,\n",
       "   'credit_id': '52fe49419251416c750c21cd',\n",
       "   'cast_id': 11,\n",
       "   'profile_path': '/FOSRcKOJqCZzpFhBCzlEphp5F.jpg',\n",
       "   'order': 1},\n",
       "  {'name': 'Eloise Mumford',\n",
       "   'character': 'Sasha',\n",
       "   'id': 222130,\n",
       "   'credit_id': '52fe49419251416c750c21d1',\n",
       "   'cast_id': 12,\n",
       "   'profile_path': '/6yT9OjHcnG55iGjq7XFvd2qpYT2.jpg',\n",
       "   'order': 2},\n",
       "  {'name': 'Jeremy Piven',\n",
       "   'character': 'Armon',\n",
       "   'id': 12799,\n",
       "   'credit_id': '52fe49419251416c750c21d5',\n",
       "   'cast_id': 13,\n",
       "   'profile_path': '/qtho4ZUcValnVvscTGgyWfUr4VP.jpg',\n",
       "   'order': 3},\n",
       "  {'name': 'Autumn Reeser',\n",
       "   'character': 'Bizzy',\n",
       "   'id': 74607,\n",
       "   'credit_id': '52fe49419251416c750c21d9',\n",
       "   'cast_id': 14,\n",
       "   'profile_path': '/vZlZQkQzQ0PSCnQT77vqEFnYsoO.jpg',\n",
       "   'order': 4},\n",
       "  {'name': 'Alexis Knapp',\n",
       "   'character': 'Taylor',\n",
       "   'id': 999790,\n",
       "   'credit_id': '52fe49419251416c750c21dd',\n",
       "   'cast_id': 15,\n",
       "   'profile_path': '/jhQeoRHhCig8dtJxthKChQmAERQ.jpg',\n",
       "   'order': 5},\n",
       "  {'name': 'Matthew Settle',\n",
       "   'character': 'Professor Talloway',\n",
       "   'id': 33286,\n",
       "   'credit_id': '52fe49419251416c750c21e1',\n",
       "   'cast_id': 16,\n",
       "   'profile_path': '/neODd3vTVEb7TXOWEZC44ZZu1yk.jpg',\n",
       "   'order': 6},\n",
       "  {'name': 'Megan Park',\n",
       "   'character': 'Cotton',\n",
       "   'id': 55615,\n",
       "   'credit_id': '52fe49419251416c750c21e5',\n",
       "   'cast_id': 17,\n",
       "   'profile_path': '/AjIaQKbjMgYcJxalCBM4MGREss0.jpg',\n",
       "   'order': 7},\n",
       "  {'name': \"Mike O'Malley\",\n",
       "   'character': 'Sam',\n",
       "   'id': 87192,\n",
       "   'credit_id': '52fe49419251416c750c21e9',\n",
       "   'cast_id': 18,\n",
       "   'profile_path': '/9VwiKnQySJN7buvCg53v4NB5Tj7.jpg',\n",
       "   'order': 8},\n",
       "  {'name': 'Kelly Osbourne',\n",
       "   'character': 'Becky',\n",
       "   'id': 178425,\n",
       "   'credit_id': '52fe49419251416c750c21ed',\n",
       "   'cast_id': 19,\n",
       "   'profile_path': '/ub2UobCm9Fe4PYWgerPQkdXMSQA.jpg',\n",
       "   'order': 9},\n",
       "  {'name': 'Lauren McKnight',\n",
       "   'character': 'Alex',\n",
       "   'id': 560298,\n",
       "   'credit_id': '52fe49419251416c750c21f1',\n",
       "   'cast_id': 20,\n",
       "   'profile_path': None,\n",
       "   'order': 10}],\n",
       " 'directors': [{'name': 'Tom Vaughan',\n",
       "   'department': 'Directing',\n",
       "   'job': 'Director',\n",
       "   'credit_id': '52fe49419251416c750c2195',\n",
       "   'profile_path': '/opDMR3lConDBNSiVmqt4h6TMFBF.jpg',\n",
       "   'id': 56717}],\n",
       " 'vote_average': 5.9,\n",
       " 'runtime': 94}"
      ]
     },
     "execution_count": 2,
     "metadata": {},
     "output_type": "execute_result"
    }
   ],
   "source": [
    "def extract():\n",
    "    with open('../tmdb.json') as f:\n",
    "        return json.loads(f.read())\n",
    "    \n",
    "    \n",
    "movies = extract()\n",
    "\n",
    "# we can check some sample movie id, to check a sense of what\n",
    "# the data looks like\n",
    "# movie_ids = ['93837', '8193', '8195', '5', '8202', '11']\n",
    "movies['93837']"
   ]
  },
  {
   "cell_type": "code",
   "execution_count": 3,
   "metadata": {},
   "outputs": [],
   "source": [
    "class ElasticSearchUtils:\n",
    "\n",
    "    def __init__(self, index_name='tmdb', base_url='http://localhost:9200'):\n",
    "        self.base_url = base_url\n",
    "        self.index_name = index_name\n",
    "        self.index_url = self.base_url + '/' + self.index_name\n",
    "        self.index_type_name = '_doc'\n",
    "        self.index_type_url = self.index_url + '/' + self.index_type_name\n",
    "        self.headers = {'Content-Type': 'application/json'}\n",
    "\n",
    "    def reindex(self, movies, analysis_settings, mapping_settings=None):\n",
    "        \"\"\"\n",
    "        Reindex takes analyzer and field mappings, recreates the index, and then reindexes\n",
    "        TMDB movies using the _bulk index API. There are other ways for modifying the configuration\n",
    "        of the index besides dropping and restarting, however for convenience and because our data\n",
    "        isn't truly that large, we'll just delete and start from scratch when we need to.\n",
    "        \"\"\"\n",
    "        response = requests.delete(self.index_url)\n",
    "        print('deleted {} index: '.format(self.index_name), response.status_code)\n",
    "\n",
    "        # create the index with explicit settings\n",
    "        # We need to explicitly set number of shards to 1 to eliminate the impact of \n",
    "        # distributed IDF on our small collection\n",
    "        # See also 'Relavance is Broken!'\n",
    "        # http://www.elastic.co/guide/en/elasticsearch/guide/current/relevance-is-broken.html\n",
    "        settings = {\n",
    "            'settings': {\n",
    "                'index': {\n",
    "                    'number_of_replicas': 1,\n",
    "                    'number_of_shards': 1\n",
    "                } \n",
    "            }\n",
    "        }\n",
    "        if analysis_settings is not None:\n",
    "            settings['settings']['analysis'] = analysis_settings\n",
    "        \n",
    "        if mapping_settings is not None:\n",
    "            settings['mappings'] = mapping_settings\n",
    "\n",
    "        response = requests.put(self.index_url, data=json.dumps(settings), headers=self.headers)\n",
    "        print('Created {} index: '.format(self.index_name), response.status_code)\n",
    "\n",
    "        self._bulk_index(movies)\n",
    "\n",
    "    def _bulk_index(self, movies):\n",
    "        bulk_index_cmd = ''\n",
    "        for movie_id, movie in movies.items():\n",
    "            index_cmd = {\n",
    "                'index': {\n",
    "                    '_index': self.index_name,\n",
    "                    '_type': self.index_type_name,\n",
    "                    '_id': movie_id\n",
    "                }\n",
    "            }\n",
    "            bulk_index_cmd += (json.dumps(index_cmd) + '\\n' + json.dumps(movie) + '\\n')\n",
    "\n",
    "        response = requests.post(self.base_url + '/_bulk',\n",
    "                                 data=bulk_index_cmd,\n",
    "                                 headers=self.headers)\n",
    " \n",
    "        print('Bulk index into {} index:'.format(self.index_name), response.status_code)\n",
    "\n",
    "    def search(self, query, verbose=False):\n",
    "        search_url = self.index_type_url + '/_search'\n",
    "        response = requests.get(search_url, data=json.dumps(query), headers=self.headers)\n",
    "\n",
    "        search_hits = json.loads(response.text)['hits']['hits']\n",
    "        for idx, hit in enumerate(search_hits):\n",
    "            source = hit['_source']\n",
    "            print(\"%s\\t%s\\t%s\" % (idx + 1, hit['_score'], source['title']))\n",
    "            \n",
    "            if verbose:\n",
    "                cast_names = []\n",
    "                cast_characters = []\n",
    "                for cast in source['cast']:\n",
    "                    cast_names.append(cast['name'])\n",
    "                    cast_characters.append(cast['character'])\n",
    "\n",
    "                director_names = [director['name'] for director in source['directors']]\n",
    "\n",
    "                print('director: ', director_names)\n",
    "                print('cast: ', cast_names)\n",
    "                print('character: ', cast_characters)\n",
    "                print('overview:', source['overview'])\n",
    "                if '_explanation' in hit:\n",
    "                    result = ElasticSearchUtils.flatten_explain(hit['_explanation'])\n",
    "                    print(result)\n",
    "\n",
    "                print('=============================================')\n",
    "   \n",
    "    @staticmethod          \n",
    "    def flatten_explain(explain_json, depth=0):\n",
    "        \n",
    "        # getting rid of potential next line character to make things prettier\n",
    "        description = explain_json['description'].replace('\\n', '')\n",
    "        result = ' ' * (depth * 2) + '%s, %s\\n' % (explain_json['value'], description)\n",
    "        if 'details' in explain_json:\n",
    "            for detail in explain_json['details']:\n",
    "                result += ElasticSearchUtils.flatten_explain(detail, depth=depth + 1)\n",
    "\n",
    "        return result\n",
    "\n",
    "    def validate(self, query):\n",
    "        url = self.index_type_url + '/_validate/query?explain'\n",
    "        response = requests.get(url, data=json.dumps(query), headers=self.headers)\n",
    "        return json.loads(response.text)"
   ]
  },
  {
   "cell_type": "code",
   "execution_count": 4,
   "metadata": {},
   "outputs": [
    {
     "name": "stdout",
     "output_type": "stream",
     "text": [
      "deleted tmdb index:  200\n",
      "Created tmdb index:  200\n",
      "Bulk index into tmdb index: 200\n"
     ]
    }
   ],
   "source": [
    "# explanation of analyzer's role\n",
    "# https://qbox.io/blog/elasticsearch-english-analyzer-customize\n",
    "analysis_settings = {\n",
    "    'filter': {\n",
    "        'bigram_filter': {\n",
    "            'type': 'shingle',\n",
    "            'max_shingle_size': 2,\n",
    "            'min_shingle_size': 2,\n",
    "            'output_unigrams': False\n",
    "        },\n",
    "        'english_stemmer': {\n",
    "            'type': 'stemmer',\n",
    "            'name': 'english'\n",
    "        }\n",
    "    },\n",
    "    'analyzer': {\n",
    "        'english_bigram': {\n",
    "            'type': 'custom',\n",
    "            'tokenizer': 'standard',\n",
    "            'filter': ['lowercase', 'english_stemmer', 'bigram_filter']\n",
    "        },\n",
    "        # for search completion, we should preserve readability during analysis\n",
    "        # so no stemming is performed\n",
    "        'completion_analyzer': {\n",
    "            'tokenizer': 'standard',\n",
    "            'filter': [\n",
    "                'standard',\n",
    "                'lowercase',\n",
    "                'bigram_filter'\n",
    "            ]\n",
    "        }\n",
    "    }\n",
    "}\n",
    "\n",
    "mapping_settings = {\n",
    "    '_doc': {\n",
    "        'properties': {\n",
    "            'title': {\n",
    "                'type': 'text',\n",
    "                'analyzer': 'english',\n",
    "                'copy_to': 'completion'\n",
    "            },\n",
    "            'completion': {\n",
    "                'type': 'text',\n",
    "                'analyzer': 'completion_analyzer'\n",
    "            }\n",
    "        }\n",
    "    }\n",
    "}\n",
    "\n",
    "es_utils = ElasticSearchUtils()\n",
    "es_utils.reindex(movies, analysis_settings, mapping_settings)"
   ]
  },
  {
   "cell_type": "markdown",
   "metadata": {},
   "source": [
    "## Match Phrase Prefix Query"
   ]
  },
  {
   "cell_type": "code",
   "execution_count": 5,
   "metadata": {},
   "outputs": [
    {
     "name": "stdout",
     "output_type": "stream",
     "text": [
      "1\t29.129747\tStar Trek: Generations\n",
      "2\t25.174505\tStar Trek: The Motion Picture\n",
      "3\t25.174505\tStar Trek: First Contact\n",
      "4\t22.16494\tStar Trek II: The Wrath of Khan\n",
      "5\t22.16494\tStar Trek III: The Search for Spock\n",
      "6\t22.16494\tStar Trek IV: The Voyage Home\n",
      "7\t22.16494\tStar Trek V: The Final Frontier\n",
      "8\t22.16494\tStar Trek VI: The Undiscovered Country\n"
     ]
    }
   ],
   "source": [
    "# https://www.elastic.co/guide/en/elasticsearch/reference/current/query-dsl-match-query-phrase-prefix.html\n",
    "user_search = 'star tr'\n",
    "query = {\n",
    "    'query': {\n",
    "        'match_phrase_prefix': {\n",
    "            'title': user_search\n",
    "        }\n",
    "    }\n",
    "}\n",
    "es_utils.search(query)"
   ]
  },
  {
   "cell_type": "markdown",
   "metadata": {},
   "source": [
    "## Completion"
   ]
  },
  {
   "cell_type": "markdown",
   "metadata": {},
   "source": [
    "The completion suggester provides the search as we type functionality. It is specialized search index that is stored in parallel with the normal search index."
   ]
  },
  {
   "cell_type": "code",
   "execution_count": 6,
   "metadata": {},
   "outputs": [],
   "source": [
    "# https://www.elastic.co/blog/you-complete-me\n",
    "# https://www.elastic.co/blog/found-elasticsearch-from-the-bottom-up\n",
    "# https://www.elastic.co/guide/en/elasticsearch/reference/current/search-suggesters-completion.html\n",
    "\n",
    "\n",
    "# name_suggest is a field that will be indexed as type 'suggestion'\n",
    "# we index the suggest field by providing the mandatory 'input' field,\n",
    "# which is the text that will match the query and an optional 'weight' field\n",
    "# that allows us to control the ordering of the suggestion returned\n",
    "hotel1 = {\n",
    "    'name': 'Mercure Hotel Munich',\n",
    "    'city': 'Munich',\n",
    "    'name_suggest': [\n",
    "        {'input': 'Mercure Hotel Munich'},\n",
    "        {'input': 'Mercure Munich'}\n",
    "    ]\n",
    "}\n",
    "hotel2 = {\n",
    "    'name': 'Hotel Monaco',\n",
    "    'city': 'Munich',\n",
    "    'name_suggest': [\n",
    "        {'input': 'Monaco Munich'},\n",
    "        {'input': 'Hotel Monaco'}\n",
    "    ]\n",
    "}\n",
    "hotel3 = {\n",
    "    'name': 'Courtyard by Marriot Munich City',\n",
    "    'city': 'Munich',\n",
    "    'name_suggest': [\n",
    "        {'input': 'Courtyard by Marriot Munich City'},\n",
    "        {'input': 'Marriot Munich City'}\n",
    "    ]\n",
    "}\n",
    "\n",
    "hotels = {\n",
    "    '1': hotel1,\n",
    "    '2': hotel2,\n",
    "    '3': hotel3\n",
    "}"
   ]
  },
  {
   "cell_type": "code",
   "execution_count": 7,
   "metadata": {},
   "outputs": [
    {
     "name": "stdout",
     "output_type": "stream",
     "text": [
      "deleted hotels index:  200\n",
      "Created hotels index:  200\n",
      "Bulk index into hotels index: 200\n"
     ]
    }
   ],
   "source": [
    "mapping_settings = {\n",
    "    '_doc': {\n",
    "        'properties': {\n",
    "            'name': {'type': 'text'},\n",
    "            'city': {'type': 'text'},\n",
    "            'name_suggest': {'type': 'completion'}\n",
    "        }\n",
    "    }\n",
    "}\n",
    "\n",
    "es_utils = ElasticSearchUtils(index_name='hotels')\n",
    "es_utils.reindex(hotels, analysis_settings=None, mapping_settings=mapping_settings)"
   ]
  },
  {
   "cell_type": "code",
   "execution_count": 9,
   "metadata": {},
   "outputs": [
    {
     "data": {
      "text/plain": [
       "[{'text': 'Mercure Hotel Munich',\n",
       "  '_index': 'hotels',\n",
       "  '_type': '_doc',\n",
       "  '_id': '1',\n",
       "  '_score': 1.0,\n",
       "  '_source': {'name': 'Mercure Hotel Munich',\n",
       "   'city': 'Munich',\n",
       "   'name_suggest': [{'input': 'Mercure Hotel Munich'},\n",
       "    {'input': 'Mercure Munich'}]}},\n",
       " {'text': 'Monaco Munich',\n",
       "  '_index': 'hotels',\n",
       "  '_type': '_doc',\n",
       "  '_id': '2',\n",
       "  '_score': 1.0,\n",
       "  '_source': {'name': 'Hotel Monaco',\n",
       "   'city': 'Munich',\n",
       "   'name_suggest': [{'input': 'Monaco Munich'}, {'input': 'Hotel Monaco'}]}},\n",
       " {'text': 'Marriot Munich City',\n",
       "  '_index': 'hotels',\n",
       "  '_type': '_doc',\n",
       "  '_id': '3',\n",
       "  '_score': 1.0,\n",
       "  '_source': {'name': 'Courtyard by Marriot Munich City',\n",
       "   'city': 'Munich',\n",
       "   'name_suggest': [{'input': 'Courtyard by Marriot Munich City'},\n",
       "    {'input': 'Marriot Munich City'}]}}]"
      ]
     },
     "execution_count": 9,
     "metadata": {},
     "output_type": "execute_result"
    }
   ],
   "source": [
    "url = es_utils.index_url + '/_search'\n",
    "query = {\n",
    "    'suggest' : {\n",
    "        'hotel_suggest': {\n",
    "            'text' : 'm',\n",
    "            'completion' : {\n",
    "                'field' : 'name_suggest'\n",
    "            }\n",
    "        }\n",
    "    }\n",
    "}\n",
    "\n",
    "# here the only word that starts with m is Mercure Hotel Munich,\n",
    "# that's why when we use the suggestion syntax to ask for suggestions, it is\n",
    "# the only result that was returned\n",
    "response = requests.post(url, data=json.dumps(query), headers=es_utils.headers)\n",
    "json.loads(response.text)['suggest']['hotel_suggest'][0]['options']"
   ]
  },
  {
   "cell_type": "markdown",
   "metadata": {},
   "source": [
    "## Correcting Typos"
   ]
  },
  {
   "cell_type": "markdown",
   "metadata": {},
   "source": [
    "If the search engine receives a query that contains an obvious typo or if the original search query returns 0 result, it replaces the user's query with the correction that the user likely intended. It also notifies the user that the \"corrected\" query was searched instead. If the user's the query seems like it contains a typo, but is a bit ambiguous of whether it's actually a typo, then our search engine should retrieve the result using the user's original search query, but also suggest a different query so the user can click on it to execute the suggested query.\n",
    "\n",
    "Regardless of which approach we take, we should clearly convey what we're doing in the UI so the user won't become disoriented."
   ]
  },
  {
   "cell_type": "code",
   "execution_count": 10,
   "metadata": {},
   "outputs": [
    {
     "name": "stdout",
     "output_type": "stream",
     "text": [
      "deleted tmdb index:  200\n",
      "Created tmdb index:  200\n",
      "Bulk index into tmdb index: 200\n"
     ]
    }
   ],
   "source": [
    "# https://www.elastic.co/guide/en/elasticsearch/reference/current/search-suggesters-phrase.html\n",
    "# https://qbox.io/blog/how-to-build-did-you-mean-feature-with-elasticsearch-phrase-suggester\n",
    "mapping_setting = {\n",
    "    '_doc': {\n",
    "        'properties': {\n",
    "            'title': {\n",
    "                'type': 'text',\n",
    "                'analyzer': 'english',\n",
    "                # or we can use fields to index the same field in different ways for different purposes\n",
    "                'copy_to': 'suggestion'\n",
    "            },\n",
    "            # the genres field will be used to perform aggregation later,\n",
    "            # hence it will not be indexed\n",
    "            # https://www.elastic.co/guide/en/elasticsearch/reference/current/fielddata.html\n",
    "            'genres': {\n",
    "                'properties': {\n",
    "                    'name': {\n",
    "                        'type': 'keyword'\n",
    "                    }\n",
    "                }\n",
    "            }\n",
    "        }\n",
    "    }\n",
    "}\n",
    "es_utils = ElasticSearchUtils()\n",
    "es_utils.reindex(movies, analysis_settings=None, mapping_settings=mapping_setting)"
   ]
  },
  {
   "cell_type": "code",
   "execution_count": 11,
   "metadata": {},
   "outputs": [
    {
     "data": {
      "text/plain": [
       "{'took': 37,\n",
       " 'timed_out': False,\n",
       " '_shards': {'total': 1, 'successful': 1, 'skipped': 0, 'failed': 0},\n",
       " 'hits': {'total': 0, 'max_score': 0.0, 'hits': []},\n",
       " 'suggest': {'simple_phrase': [{'text': 'star trec',\n",
       "    'offset': 0,\n",
       "    'length': 9,\n",
       "    'options': [{'text': 'star trek', 'score': 0.005635708},\n",
       "     {'text': 'star they', 'score': 0.0026878999},\n",
       "     {'text': 'star true', 'score': 0.0026878999},\n",
       "     {'text': 'star three', 'score': 0.0022539154},\n",
       "     {'text': 'star tracy', 'score': 0.0022539154}]}]}}"
      ]
     },
     "execution_count": 11,
     "metadata": {},
     "output_type": "execute_result"
    }
   ],
   "source": [
    "url = es_utils.index_url + '/_search'\n",
    "query = {\n",
    "    'suggest': {\n",
    "        'text': 'star trec',\n",
    "        'simple_phrase': {\n",
    "            'phrase': {'field': 'suggestion'}\n",
    "        }\n",
    "    }\n",
    "}\n",
    "\n",
    "# our suggestions are listed under the options list\n",
    "response = requests.post(url, data=json.dumps(query), headers=es_utils.headers)\n",
    "json.loads(response.text)"
   ]
  },
  {
   "cell_type": "code",
   "execution_count": 12,
   "metadata": {},
   "outputs": [
    {
     "data": {
      "text/plain": [
       "{'simple_phrase': [{'text': 'star trec',\n",
       "   'offset': 0,\n",
       "   'length': 9,\n",
       "   'options': [{'text': 'star trek',\n",
       "     'score': 0.005635708,\n",
       "     'collate_match': True},\n",
       "    {'text': 'star they', 'score': 0.0026878999, 'collate_match': True},\n",
       "    {'text': 'star true', 'score': 0.0026878999, 'collate_match': False},\n",
       "    {'text': 'star three', 'score': 0.0022539154, 'collate_match': False},\n",
       "    {'text': 'star tracy', 'score': 0.0022539154, 'collate_match': False}]}]}"
      ]
     },
     "execution_count": 12,
     "metadata": {},
     "output_type": "execute_result"
    }
   ],
   "source": [
    "url = es_utils.index_url + '/_search'\n",
    "query = {\n",
    "    # we can specify the query along with the suggestion, so\n",
    "    # we don't have to make two separate request\n",
    "    'query': {\n",
    "        'match': {\n",
    "            'title': 'star trec'\n",
    "        }\n",
    "    },\n",
    "    'suggest': {\n",
    "        'text': 'star trec',\n",
    "        'simple_phrase': {\n",
    "            'phrase': {\n",
    "                'field': 'suggestion',\n",
    "                \n",
    "                # collate will issue the suggestion to ensure there're\n",
    "                # documents that match the suggestion, and by specifying\n",
    "                # prune = True, the payload returned will have an additional\n",
    "                # 'collate_match' that tells us whether there's a match or not.\n",
    "                'collate': {\n",
    "                    'query': {\n",
    "                        'source': {\n",
    "                            # notice that we are using match_phrase here, e.g.\n",
    "                            # for the suggestion 'star three', it might remain in the\n",
    "                            # suggestion because some document contains the word\n",
    "                            # star or three, even though none included the phrase 'star three'\n",
    "                            'match_phrase': {\n",
    "                                # the special suggestion parameter will be replaced\n",
    "                                # with the text of each suggestion\n",
    "                                '{{field_name}}': '{{suggestion}}'\n",
    "                            }\n",
    "                        }\n",
    "                    },\n",
    "                    'params': {'field_name': 'title'},\n",
    "                    'prune': True\n",
    "                }\n",
    "            }\n",
    "        }\n",
    "    }\n",
    "}\n",
    "\n",
    "# our suggestions are listed under the options list\n",
    "response = requests.post(url, data=json.dumps(query), headers=es_utils.headers)\n",
    "result = json.loads(response.text)['suggest']\n",
    "result"
   ]
  },
  {
   "cell_type": "markdown",
   "metadata": {},
   "source": [
    "## Faceting"
   ]
  },
  {
   "cell_type": "markdown",
   "metadata": {},
   "source": [
    "Most e-commerce search engine has a facet on the left that allows the user to filter by various facet, e.g. brand, gender. By giving the users more options to guide themselves, not only does it increases the likelihood that they'll find what they are actually looking for and make the purchase, but we can also fret less about complex ranking."
   ]
  },
  {
   "cell_type": "code",
   "execution_count": 13,
   "metadata": {},
   "outputs": [
    {
     "data": {
      "text/plain": [
       "{'genres': {'doc_count_error_upper_bound': 0,\n",
       "  'sum_other_doc_count': 341,\n",
       "  'buckets': [{'key': 'Drama', 'doc_count': 374},\n",
       "   {'key': 'Comedy', 'doc_count': 277},\n",
       "   {'key': 'Thriller', 'doc_count': 274},\n",
       "   {'key': 'Action', 'doc_count': 264},\n",
       "   {'key': 'Adventure', 'doc_count': 216},\n",
       "   {'key': 'Crime', 'doc_count': 166},\n",
       "   {'key': 'Science Fiction', 'doc_count': 146},\n",
       "   {'key': 'Romance', 'doc_count': 143},\n",
       "   {'key': 'Fantasy', 'doc_count': 108},\n",
       "   {'key': 'Family', 'doc_count': 97}]}}"
      ]
     },
     "execution_count": 13,
     "metadata": {},
     "output_type": "execute_result"
    }
   ],
   "source": [
    "url = es_utils.index_url + '/_search'\n",
    "\n",
    "query = {\n",
    "    'aggs': {\n",
    "        'genres': {\n",
    "            'terms': {\n",
    "                'field': 'genres.name'\n",
    "            }\n",
    "        }\n",
    "    },\n",
    "    'size': 0\n",
    "}\n",
    "\n",
    "response = requests.post(url, data=json.dumps(query), headers=es_utils.headers)\n",
    "result = json.loads(response.text)['aggregations']\n",
    "result"
   ]
  },
  {
   "cell_type": "code",
   "execution_count": 14,
   "metadata": {},
   "outputs": [
    {
     "data": {
      "text/plain": [
       "{'genres': {'doc_count_error_upper_bound': 0,\n",
       "  'sum_other_doc_count': 33,\n",
       "  'buckets': [{'key': 'Science Fiction', 'doc_count': 146},\n",
       "   {'key': 'Action', 'doc_count': 88},\n",
       "   {'key': 'Thriller', 'doc_count': 69},\n",
       "   {'key': 'Adventure', 'doc_count': 65},\n",
       "   {'key': 'Drama', 'doc_count': 29},\n",
       "   {'key': 'Comedy', 'doc_count': 26},\n",
       "   {'key': 'Fantasy', 'doc_count': 23},\n",
       "   {'key': 'Mystery', 'doc_count': 16},\n",
       "   {'key': 'Horror', 'doc_count': 15},\n",
       "   {'key': 'Crime', 'doc_count': 13}]}}"
      ]
     },
     "execution_count": 14,
     "metadata": {},
     "output_type": "execute_result"
    }
   ],
   "source": [
    "# the user can then use the facet to perform various filtering,\n",
    "# note that in the UI, we also want to let the user know that\n",
    "# they are performing filtering on the search result\n",
    "# https://www.elastic.co/guide/en/elasticsearch/reference/current/search-request-post-filter.html\n",
    "url = es_utils.index_url + '/_search'\n",
    "\n",
    "query = {\n",
    "    'query': {\n",
    "        'bool': {\n",
    "            'filter': [\n",
    "                {\n",
    "                    'term': {\n",
    "                        'genres.name': 'Science Fiction'\n",
    "                    }\n",
    "                }\n",
    "            ]\n",
    "        }\n",
    "    },\n",
    "    'aggs': {\n",
    "        'genres': {\n",
    "            'terms': {\n",
    "                'field': 'genres.name'\n",
    "            }\n",
    "        }\n",
    "    },\n",
    "    'size': 0\n",
    "}\n",
    "\n",
    "response = requests.post(url, data=json.dumps(query), headers=es_utils.headers)\n",
    "result = json.loads(response.text)['aggregations']\n",
    "result"
   ]
  },
  {
   "cell_type": "markdown",
   "metadata": {},
   "source": [
    "## Alternate Sorting"
   ]
  },
  {
   "cell_type": "markdown",
   "metadata": {},
   "source": [
    "Usually a search engine will sort the results based on relevancy, or so called best match. But we can provide additional ranking options. e.g. one common one is to sort by price. Be careful when sorting by price from lowest to highest to make sure the results are still relevant, e.g. user search for fitbit, but the cheapest result that shows up when doing a sort by price from low to high returns fitbit wristband as the first result."
   ]
  },
  {
   "cell_type": "markdown",
   "metadata": {},
   "source": [
    "## What Information to Present"
   ]
  },
  {
   "cell_type": "markdown",
   "metadata": {},
   "source": [
    "Depending on the application, things may vary.\n",
    "\n",
    "e.g. title, image, short description, price (for e-commerce), location & datetime (for event based search)\n",
    "\n",
    "For text-heavy documents, highlighting text that resulted in the document to match the user's query is an important form of relevance feedback. Users will appreciate having the opportunity to read through the matches in the context that they appeared in to get a sense of whether the document is a good fit for them before clicking on the document to dig deeper."
   ]
  },
  {
   "cell_type": "code",
   "execution_count": 15,
   "metadata": {},
   "outputs": [
    {
     "data": {
      "text/plain": [
       "{'title': ['<em>Star</em> <em>Trek</em>: Generations']}"
      ]
     },
     "execution_count": 15,
     "metadata": {},
     "output_type": "execute_result"
    }
   ],
   "source": [
    "# TODO didn't dig that deep into this, could come back to this\n",
    "# https://www.elastic.co/guide/en/elasticsearch/reference/current/search-request-highlighting.html\n",
    "url = es_utils.index_url + '/_search'\n",
    "query = {\n",
    "    'query': {\n",
    "        'match': {\n",
    "            'title': 'star trek'\n",
    "        }\n",
    "    },\n",
    "    'highlight': {\n",
    "        'fields': {\n",
    "            # we specify the field we would like to highlight\n",
    "            # and the type of highlight we would like to use\n",
    "            'title': {\n",
    "                'type': 'plain'\n",
    "            }\n",
    "        }\n",
    "    },\n",
    "    'size': 5\n",
    "}\n",
    "\n",
    "# our suggestions are listed under the options list\n",
    "response = requests.post(url, data=json.dumps(query), headers=es_utils.headers)\n",
    "\n",
    "# for the search hits, the high light is stored under\n",
    "search_hits = json.loads(response.text)['hits']['hits']\n",
    "search_hits[0]['highlight']"
   ]
  },
  {
   "cell_type": "markdown",
   "metadata": {},
   "source": [
    "## Grouping Similar Documents"
   ]
  },
  {
   "cell_type": "markdown",
   "metadata": {},
   "source": [
    "- Documents that are similar can be presented together to reduce the user's cognitive burden.\n",
    "- Documents that are near-duplicates should not be shown to the user.\n",
    "- https://github.com/o19s/relevant-search-book/blob/master/ipython/Chapter%208%20(Providing%20Relevance%20Feedback).ipynb/Search%20Result%20Listing.ipynb"
   ]
  },
  {
   "cell_type": "markdown",
   "metadata": {},
   "source": [
    "## No Results"
   ]
  },
  {
   "cell_type": "markdown",
   "metadata": {},
   "source": [
    "Sometimes our user may issue a request that end-up having no results. In this scenario, it's better to fall back to an alternate result instead of showing no results. e.g. showing popular documents, re-vise the user's query to a closest suggestion. And communicate to the user what happened."
   ]
  }
 ],
 "metadata": {
  "kernelspec": {
   "display_name": "Python 3",
   "language": "python",
   "name": "python3"
  },
  "language_info": {
   "codemirror_mode": {
    "name": "ipython",
    "version": 3
   },
   "file_extension": ".py",
   "mimetype": "text/x-python",
   "name": "python",
   "nbconvert_exporter": "python",
   "pygments_lexer": "ipython3",
   "version": "3.6.4"
  },
  "toc": {
   "nav_menu": {},
   "number_sections": true,
   "sideBar": true,
   "skip_h1_title": false,
   "title_cell": "Table of Contents",
   "title_sidebar": "Contents",
   "toc_cell": true,
   "toc_position": {
    "height": "calc(100% - 180px)",
    "left": "10px",
    "top": "150px",
    "width": "256px"
   },
   "toc_section_display": true,
   "toc_window_display": true
  },
  "varInspector": {
   "cols": {
    "lenName": 16,
    "lenType": 16,
    "lenVar": 40
   },
   "kernels_config": {
    "python": {
     "delete_cmd_postfix": "",
     "delete_cmd_prefix": "del ",
     "library": "var_list.py",
     "varRefreshCmd": "print(var_dic_list())"
    },
    "r": {
     "delete_cmd_postfix": ") ",
     "delete_cmd_prefix": "rm(",
     "library": "var_list.r",
     "varRefreshCmd": "cat(var_dic_list()) "
    }
   },
   "types_to_exclude": [
    "module",
    "function",
    "builtin_function_or_method",
    "instance",
    "_Feature"
   ],
   "window_display": false
  }
 },
 "nbformat": 4,
 "nbformat_minor": 2
}
