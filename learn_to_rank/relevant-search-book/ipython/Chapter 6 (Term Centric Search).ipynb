{
 "metadata": {
  "name": ""
 },
 "nbformat": 3,
 "nbformat_minor": 0,
 "worksheets": [
  {
   "cells": [
    {
     "cell_type": "heading",
     "level": 1,
     "metadata": {},
     "source": [
      "Setup Code from Prev Chapters (run first)"
     ]
    },
    {
     "cell_type": "code",
     "collapsed": false,
     "input": [
      "import requests\n",
      "import json\n",
      "import os\n",
      "\n",
      "# Some utilities for flattening the explain into something a bit more\n",
      "# readable. Pass Explain JSON, get something readable (ironically this is what Solr's default output is :-p)\n",
      "def flatten(l):\n",
      "    [item for sublist in l for item in sublist]\n",
      "\n",
      "def simplerExplain(explainJson, depth=0):\n",
      "    result = \" \" * (depth * 2) + \"%s, %s\\n\" % (explainJson['value'], explainJson['description'])\n",
      "    #print json.dumps(explainJson, indent=True)\n",
      "    if 'details' in explainJson:\n",
      "        for detail in explainJson['details']:\n",
      "            result += simplerExplain(detail, depth=depth+1)\n",
      "    return result\n",
      "\n",
      "\n",
      "# To speed up the pace of development, we really need to focus more heavily on the analysis and query\n",
      "# settings of the search engine, rather than fidly bits of the http interface.\n",
      "#\n",
      "# To that end, we're going to collapse some of the code you were introduced to in chapter 3 into more general functions,\n",
      "# so we can reuse them. Largely, this is the exact same code you saw in chapter 3 some more generality.\n",
      "\n",
      "## Analyze\n",
      "## The analyze function is a helper for accessing the _analyze endpoint like we did in chapter 3. Recall,\n",
      "## given a field or analyzer, passing some text to _analyze will return the token stream that results from\n",
      "## that analyzer. This token stream, if you recall, shows us exactly how the search engine translate text\n",
      "## into individual tokens to be consumed by the underlying data structures. When we debug analysis, we see\n",
      "## matches we need to expect.\n",
      "def analyze(text, field=None, analyzer=None):\n",
      "    whatToAnalyze = ''\n",
      "    if field is not None:\n",
      "        whatToAnalyze = \"field=%s\" % field\n",
      "    elif analyzer is not None:\n",
      "        whatToAnalyze = \"analyzer=%s\" % analyzer\n",
      "    resp = requests.get(\"http://localhost:9200/tmdb/_analyze?%s&format=yaml\" % whatToAnalyze, \n",
      "                        data=text)\n",
      "    print resp.text\n",
      "    \n",
      "## Search\n",
      "## Next we need to wrap up our execution of query DSL queries. The function 'search' will execute the passed query DSL\n",
      "## query and display the results. \n",
      "## If a scoring explain is associated with the results, then it also gets displayed,\n",
      "## We'll also be sure to dump the query DSL\n",
      "def search(query, verbose=False):\n",
      "    url = 'http://localhost:9200/tmdb/movie/_search'\n",
      "    httpResp = requests.get(url, data=json.dumps(query))\n",
      "    if httpResp.status_code != 200:\n",
      "        print \"Search Failed <%s>\" % httpResp.status_code\n",
      "        print \"%s\" % httpResp.text\n",
      "    searchHits = json.loads(httpResp.text)['hits']\n",
      "    print \"Num\\tRelevance Score\\t\\tMovie Title\"\n",
      "    for idx, hit in enumerate(searchHits['hits']):\n",
      "            castNames = []            \n",
      "            castCharacters = []                        \n",
      "            directorNames = []\n",
      "            for cast in hit['_source']['cast']:\n",
      "                castNames.append(cast['name'])\n",
      "                castCharacters.append(cast['character'])\n",
      "            for director in hit['_source']['directors']:\n",
      "                directorNames.append(director['name'])\n",
      "            print \"%s\\t%s\\t\\t%s\" % (idx + 1, hit['_score'], hit['_source']['title'])\n",
      "            if verbose:\n",
      "                print \"%s\" % hit['_source']['title']\n",
      "                print \"%s\" % hit['_source']['tagline']        \n",
      "                print \"%s\" % hit['_source']['overview']        \n",
      "                print \"%s\" % hit['_id']\n",
      "                print \"DIRS %s\" % directorNames\n",
      "                print \"CAST %s\" % castNames\n",
      "                print \"CHAR %s\" % castCharacters\n",
      "                if '_explanation' in hit:\n",
      "                    print \"%s\" % simplerExplain(hit['_explanation'])\n",
      "                    print \"*************************************\"\n",
      "    \n",
      "    if verbose:\n",
      "        httpResp = requests.get('http://localhost:9200' + \n",
      "                    '/tmdb/movie/_validate/query?explain',\n",
      "                     data=json.dumps({'query': query['query']}))\n",
      "        print json.loads(httpResp.text)\n",
      "\n",
      "## Reindex\n",
      "## Reindex takes analyzer and field mappings, recreates the index, and then reindexes\n",
      "## TMDB movies using the _bulk index API. There are other ways for modifying the configuration\n",
      "## of the index besides dropping and restarting, however for convenience and because our data\n",
      "## isn't truly that large, we'll just delete and start from scratch when we need to.\n",
      "def reindex(analysisSettings, mappingSettings=None, movieDict={}):\n",
      "    # Destroy any existing index (equiv to SQL \"drop table\")\n",
      "    resp = requests.delete(\"http://localhost:9200/tmdb\")\n",
      "    print \"Delete TMDB Index <%s>\" % resp.status_code\n",
      "    \n",
      "    # Create the index with explicit settings\n",
      "    # We need to explicitely set number of shards to 1 to eliminate the impact of \n",
      "    # distributed IDF on our small collection\n",
      "    # See also \"Relavance is Broken!\"\n",
      "    # http://www.elastic.co/guide/en/elasticsearch/guide/current/relevance-is-broken.html\n",
      "    settings = {\n",
      "        \"settings\": {\n",
      "            \"number_of_shards\": 1,\n",
      "            \"index\": {\n",
      "                \"analysis\" : analysisSettings,\n",
      "            }\n",
      "        }\n",
      "    }\n",
      "    if mappingSettings:\n",
      "        settings['mappings'] = mappingSettings\n",
      "    resp = requests.put(\"http://localhost:9200/tmdb\", data=json.dumps(settings))\n",
      "    print \"Create TMDB Index <%s>\" % resp.status_code\n",
      "    if resp.status_code != 200:\n",
      "        print resp.text\n",
      "    \n",
      "    # Bulk index title & overview to the movie endpoint\n",
      "    print \"Indexing %i movies\" % len(movieDict.keys())\n",
      "    bulkMovies = \"\"\n",
      "    for id, movie in movieDict.iteritems():\n",
      "        addCmd = {\"index\": {\"_index\": \"tmdb\", \"_type\": \"movie\", \"_id\": movie[\"id\"]}}\n",
      "        esDoc  = movie\n",
      "        bulkMovies += json.dumps(addCmd) + \"\\n\" + json.dumps(esDoc) + \"\\n\"\n",
      "    resp = requests.post(\"http://localhost:9200/_bulk\", data=bulkMovies)\n",
      "    print \"Bulk Index into TMDB Index <%s>\" % resp.status_code\n",
      "\n",
      "\n",
      "## Extract\n",
      "## major difference between our use of TMDB here and in chapter 3: pulling more data. Not only do we access the \n",
      "## movie endpoint, we also extract the credits -- pulling in the cast (actors and such) and extracting the director.\n",
      "def extract(movieIds=[], numMovies=10000):\n",
      "    if len(movieIds) == 0:\n",
      "        try:\n",
      "            f = open('tmdb.json')\n",
      "            if f:\n",
      "                return json.loads(f.read());\n",
      "        except IOError:\n",
      "            pass       \n",
      "    return movieDict"
     ],
     "language": "python",
     "metadata": {},
     "outputs": [],
     "prompt_number": 1
    },
    {
     "cell_type": "heading",
     "level": 1,
     "metadata": {},
     "source": [
      "Index to ES, Chapter 5 Settings"
     ]
    },
    {
     "cell_type": "code",
     "collapsed": false,
     "input": [
      "movieDict = extract([])\n",
      "\n",
      "analysisSettings = {\n",
      "   \"analyzer\" : {\n",
      "      \"default\" : {\n",
      "        \"type\" : \"english\"\n",
      "      },\n",
      "      \"english_bigrams\": {\n",
      "          \"type\": \"custom\",\n",
      "          \"tokenizer\": \"standard\",\n",
      "          \"filter\": [\n",
      "            \"standard\",\n",
      "            \"lowercase\",\n",
      "            \"porter_stem\",\n",
      "            \"bigram_filter\"\n",
      "          ]\n",
      "      }\n",
      "    },\n",
      "  \"filter\": {\n",
      "    \"bigram_filter\": {\n",
      "        \"type\": \"shingle\",\n",
      "        \"max_shingle_size\":2,\n",
      "        \"min_shingle_size\":2,\n",
      "        \"output_unigrams\":\"false\"\n",
      "    }\n",
      "  }\n",
      "}\n",
      "\n",
      "            \n",
      "mappingSettings = {\n",
      "    'movie': {\n",
      "        'properties': {\n",
      "            \"cast\": {\n",
      "               'properties': {\n",
      "                  'name': {\n",
      "                      'type': 'string',\n",
      "                      'analyzer': 'english',\n",
      "                      'fields': {\n",
      "                         \"bigramed\": {\n",
      "                            \"type\": \"string\",\n",
      "                            \"analyzer\": \"english_bigrams\"\n",
      "                        }     \n",
      "                      }\n",
      "                   }\n",
      "                   \n",
      "               }\n",
      "            },\n",
      "            \"directors\": {\n",
      "               'properties': {\n",
      "                  'name': {\n",
      "                      'type': 'string',\n",
      "                      'analyzer': 'english',\n",
      "                      'fields': {\n",
      "                         \"bigramed\": {\n",
      "                            \"type\": \"string\",\n",
      "                            \"analyzer\": \"english_bigrams\"\n",
      "                        }     \n",
      "                      }\n",
      "                   }\n",
      "                   \n",
      "               }\n",
      "            }            \n",
      "        }\n",
      "    }\n",
      "}\n",
      "\n",
      "reindex(analysisSettings, mappingSettings, movieDict)"
     ],
     "language": "python",
     "metadata": {},
     "outputs": [
      {
       "output_type": "stream",
       "stream": "stdout",
       "text": [
        "Delete TMDB Index <200>\n",
        "Create TMDB Index <200>"
       ]
      },
      {
       "output_type": "stream",
       "stream": "stdout",
       "text": [
        "\n",
        "Indexing 3051 movies\n",
        "Bulk Index into TMDB Index <200>"
       ]
      },
      {
       "output_type": "stream",
       "stream": "stdout",
       "text": [
        "\n"
       ]
      }
     ],
     "prompt_number": 2
    },
    {
     "cell_type": "heading",
     "level": 1,
     "metadata": {},
     "source": [
      "6.2.2, Listing 3 -- Most Fields undue promotion due to director AND cast member"
     ]
    },
    {
     "cell_type": "code",
     "collapsed": false,
     "input": [
      "usersSearch = 'star trek patrick stewart william shatner'\n",
      "query = {\n",
      "    'query': {\n",
      "        'multi_match': { \n",
      "            'query': usersSearch,  #User's query\n",
      "            'fields': ['title', 'overview', 'cast.name.bigramed', 'directors.name.bigramed'],      \n",
      "            'type': 'most_fields'\n",
      "         }\n",
      "    },\n",
      "    'size': 5,\n",
      "    'explain': True\n",
      "}\n",
      "search(query)"
     ],
     "language": "python",
     "metadata": {},
     "outputs": [
      {
       "output_type": "stream",
       "stream": "stdout",
       "text": [
        "Num\tRelevance Score\t\tMovie Title\n",
        "1\t0.5415871\t\tStar Trek V: The Final Frontier\n",
        "2\t0.39785004\t\tStar Trek: Generations\n",
        "3\t0.35108924\t\tStar Trek IV: The Voyage Home\n",
        "4\t0.3037074\t\tStar Trek: Nemesis\n",
        "5\t0.19542062\t\tStar Trek: Insurrection\n"
       ]
      }
     ],
     "prompt_number": 3
    },
    {
     "cell_type": "code",
     "collapsed": false,
     "input": [],
     "language": "python",
     "metadata": {},
     "outputs": [],
     "prompt_number": 21
    },
    {
     "cell_type": "heading",
     "level": 1,
     "metadata": {},
     "source": [
      "6.3.2, Listing 7 Query Parser"
     ]
    },
    {
     "cell_type": "code",
     "collapsed": false,
     "input": [
      "usersSearch = 'star trek patrick stewart william shatner'\n",
      "query = {\n",
      "    'query': {\n",
      "        'query_string': { \n",
      "            'query': usersSearch,  #User's query\n",
      "            'fields': ['title', 'overview', 'cast.name.bigramed', 'directors.name.bigramed'],      \n",
      "         }\n",
      "    },\n",
      "    'size': 5,\n",
      "    'explain': True\n",
      "}\n",
      "search(query)\n"
     ],
     "language": "python",
     "metadata": {},
     "outputs": [
      {
       "output_type": "stream",
       "stream": "stdout",
       "text": [
        "Num\tRelevance Score\t\tMovie Title\n",
        "1\t1.5344285\t\tStar Trek IV: The Voyage Home\n",
        "2\t1.0545591\t\tStar Trek: Nemesis\n",
        "3\t0.7853979\t\tStar Trek\n",
        "4\t0.6283183\t\tStar Trek: The Motion Picture\n",
        "5\t0.6283183\t\tStar Trek: Insurrection\n"
       ]
      }
     ],
     "prompt_number": 4
    },
    {
     "cell_type": "heading",
     "level": 1,
     "metadata": {},
     "source": [
      "Listing 8 -- Searching fields that work in sync"
     ]
    },
    {
     "cell_type": "code",
     "collapsed": false,
     "input": [
      "usersSearch = 'star trek patrick stewart william shatner'\n",
      "query = {\n",
      "    'query': {\n",
      "        'query_string': { \n",
      "            'query': usersSearch,  #User's query\n",
      "            'fields': ['title', 'overview',\n",
      "  \t\t\t     'cast.name', 'directors.name'],  #A    \n",
      "         }\n",
      "    },\n",
      "    'size': 5,\n",
      "    'explain': True\n",
      "}\n",
      "search(query)\n"
     ],
     "language": "python",
     "metadata": {},
     "outputs": [
      {
       "output_type": "stream",
       "stream": "stdout",
       "text": [
        "Num\tRelevance Score\t\tMovie Title\n",
        "1\t3.03831\t\tStar Trek V: The Final Frontier\n",
        "2\t2.282416\t\tStar Trek: Generations\n",
        "3\t1.7969469\t\tStar Trek: Nemesis\n",
        "4\t1.4064612\t\tStar Trek IV: The Voyage Home\n",
        "5\t1.3728689\t\tStar Trek: The Motion Picture\n"
       ]
      }
     ],
     "prompt_number": 5
    },
    {
     "cell_type": "heading",
     "level": 1,
     "metadata": {},
     "source": [
      "6.3.5, Listing 9 -- Tuning Term-Centric Search"
     ]
    },
    {
     "cell_type": "code",
     "collapsed": false,
     "input": [
      "usersSearch = 'star trek patrick stewart william shatner'\n",
      "query = {\n",
      "    'query': {\n",
      "        'query_string': { \n",
      "            'query': usersSearch,  #User's query\n",
      "            'fields': ['title', 'overview', \n",
      "   'cast.name^10', 'directors.name'], #A\n",
      "           }\n",
      "    },\n",
      "    'size': 5,\n",
      "    'explain': True\n",
      "}\n",
      "search(query) "
     ],
     "language": "python",
     "metadata": {},
     "outputs": [
      {
       "output_type": "stream",
       "stream": "stdout",
       "text": [
        "Num\tRelevance Score\t\tMovie Title\n",
        "1\t1.0774436\t\tStar Trek: Generations\n",
        "2\t0.5772292\t\tStar Trek V: The Final Frontier\n",
        "3\t0.5421376\t\tStar Trek II: The Wrath of Khan\n",
        "4\t0.5140026\t\tStar Trek: Nemesis\n",
        "5\t0.49798664\t\tStar Trek: The Motion Picture\n"
       ]
      }
     ],
     "prompt_number": 6
    },
    {
     "cell_type": "heading",
     "level": 1,
     "metadata": {},
     "source": [
      "6.4.1, Listings 10&11 Combining Fields into Custom All Fields"
     ]
    },
    {
     "cell_type": "code",
     "collapsed": false,
     "input": [
      "mappingSettings = {\n",
      "    'movie': {\n",
      "        'properties': {\n",
      "            # Because of a bug, you have to be very explicit\n",
      "            # about analyzers for cross_field search\n",
      "            \"title\": {\n",
      "              'type': 'string',\n",
      "              'analyzer': 'english',\n",
      "            },\n",
      "            \"overview\": {\n",
      "              'type': 'string',\n",
      "              'analyzer': 'english',\n",
      "            },            \n",
      "            \"people\": {\n",
      "              'properties': {\n",
      "                  'name': {\n",
      "                      'type': 'string',\n",
      "                      'analyzer': 'english',\n",
      "                      'fields': {\n",
      "                         \"bigramed\": {\n",
      "                            \"type\": \"string\",\n",
      "                            \"analyzer\": \"english_bigrams\",\n",
      "                        }     \n",
      "                      }\n",
      "                   }\n",
      "                   \n",
      "               }                       \n",
      "            },\n",
      "            \"cast\": {\n",
      "               'properties': {\n",
      "                  'name': {\n",
      "                      'type': 'string',\n",
      "                      'analyzer': 'english',\n",
      "                      'copy_to': 'people.name',\n",
      "                      'fields': {\n",
      "                         \"bigramed\": {\n",
      "                            \"type\": \"string\",\n",
      "                            \"analyzer\": \"english_bigrams\"\n",
      "                        }     \n",
      "                      }\n",
      "                   }\n",
      "                   \n",
      "               }\n",
      "            },\n",
      "            \"directors\": {\n",
      "               'properties': {\n",
      "                  'name': {\n",
      "                      'type': 'string',\n",
      "                      'analyzer': 'english',\n",
      "                      'copy_to': 'people.name',                      \n",
      "                      'fields': {\n",
      "                         \"bigramed\": {\n",
      "                            \"type\": \"string\",\n",
      "                            \"analyzer\": \"english_bigrams\"\n",
      "                        }     \n",
      "                      }\n",
      "                   }\n",
      "                   \n",
      "               }\n",
      "            }            \n",
      "        }\n",
      "    }\n",
      "}\n",
      "\n",
      "reindex(analysisSettings, mappingSettings, movieDict)"
     ],
     "language": "python",
     "metadata": {},
     "outputs": [
      {
       "output_type": "stream",
       "stream": "stdout",
       "text": [
        "Delete TMDB Index <200>\n",
        "Create TMDB Index <200>"
       ]
      },
      {
       "output_type": "stream",
       "stream": "stdout",
       "text": [
        "\n",
        "Indexing 3051 movies\n",
        "Bulk Index into TMDB Index <200>"
       ]
      },
      {
       "output_type": "stream",
       "stream": "stdout",
       "text": [
        "\n"
       ]
      }
     ],
     "prompt_number": 7
    },
    {
     "cell_type": "heading",
     "level": 1,
     "metadata": {},
     "source": [
      "6.4.1, Listing 12 -- Simple use of a custom all field"
     ]
    },
    {
     "cell_type": "code",
     "collapsed": false,
     "input": [
      "usersSearch = 'patrick stewart william shatner'\n",
      "query = {\n",
      "    'query': {\n",
      "        'match': { \n",
      "            'people.name': usersSearch,  #User's query\n",
      "         }\n",
      "    },\n",
      "    'size': 5,\n",
      "    'explain': True\n",
      "}\n",
      "search(query)"
     ],
     "language": "python",
     "metadata": {},
     "outputs": [
      {
       "output_type": "stream",
       "stream": "stdout",
       "text": [
        "Num\tRelevance Score\t\tMovie Title\n",
        "1\t1.3773818\t\tStar Trek: Generations\n",
        "2\t0.6629994\t\tShowtime\n",
        "3\t0.65602106\t\tThe Wild\n",
        "4\t0.5989805\t\tBill & Ted's Bogus Journey\n",
        "5\t0.58601415\t\tStar Trek V: The Final Frontier\n"
       ]
      }
     ],
     "prompt_number": 8
    },
    {
     "cell_type": "heading",
     "level": 1,
     "metadata": {},
     "source": [
      "Listing 13 -- Searching _all"
     ]
    },
    {
     "cell_type": "code",
     "collapsed": false,
     "input": [
      "usersSearch = 'star trek patrick stewart william shatner'\n",
      "query = {\n",
      "    'query': {\n",
      "        'match': { \n",
      "            '_all': usersSearch,  #User's query\n",
      "         }\n",
      "    },\n",
      "    'size': 5,\n",
      "    'explain': True\n",
      "}\n",
      "search(query)\n"
     ],
     "language": "python",
     "metadata": {},
     "outputs": [
      {
       "output_type": "stream",
       "stream": "stdout",
       "text": [
        "Num\tRelevance Score\t\tMovie Title\n",
        "1\t0.9441141\t\tStar Trek: Generations\n",
        "2\t0.577018\t\tStar Trek: Insurrection\n",
        "3\t0.577018\t\tStar Trek: First Contact\n",
        "4\t0.56560814\t\tStar Trek V: The Final Frontier\n",
        "5\t0.5166054\t\tStar Trek: Nemesis\n"
       ]
      }
     ],
     "prompt_number": 9
    },
    {
     "cell_type": "heading",
     "level": 1,
     "metadata": {},
     "source": [
      "6.4.2, Listing 14 -- Cross Field Search over useful fields"
     ]
    },
    {
     "cell_type": "code",
     "collapsed": false,
     "input": [
      "usersSearch = 'star trek patrick stewart william shatner'\n",
      "query = {\n",
      "    'query': {\n",
      "        'multi_match': { \n",
      "            'query': usersSearch,  #User's query\n",
      "            'fields': ['title', 'overview', 'cast.name', 'directors.name'],\n",
      "            'type': 'cross_fields',\n",
      "         }\n",
      "    },\n",
      "    'size': 5,\n",
      "    'explain': True\n",
      "}\n",
      "search(query)"
     ],
     "language": "python",
     "metadata": {},
     "outputs": [
      {
       "output_type": "stream",
       "stream": "stdout",
       "text": [
        "Num\tRelevance Score\t\tMovie Title\n",
        "1\t1.9040859\t\tStar Trek: Generations\n",
        "2\t1.6575186\t\tStar Trek V: The Final Frontier\n",
        "3\t1.3508359\t\tStar Trek: Nemesis\n",
        "4\t1.1206487\t\tStar Trek: The Motion Picture\n",
        "5\t1.0781065\t\tStar Trek: Insurrection\n"
       ]
      }
     ],
     "prompt_number": 10
    },
    {
     "cell_type": "heading",
     "level": 1,
     "metadata": {},
     "source": [
      "6.5.1 -- Listing 15 -- Our Search combining term-centric all field (people.name) w/ other fields "
     ]
    },
    {
     "cell_type": "code",
     "collapsed": false,
     "input": [
      "usersSearch = 'star trek patrick stewart william shatner'\n",
      "query = {\n",
      "    'query': {\n",
      "        'multi_match': { \n",
      "            'query': usersSearch,  #User's query\n",
      "            'fields': ['title', 'overview', 'people.name'],\n",
      "            'type': 'most_fields',\n",
      "         }\n",
      "    },\n",
      "    'size': 5,\n",
      "    'explain': True\n",
      "}\n",
      "search(query)"
     ],
     "language": "python",
     "metadata": {},
     "outputs": [
      {
       "output_type": "stream",
       "stream": "stdout",
       "text": [
        "Num\tRelevance Score\t\tMovie Title\n",
        "1\t0.7104292\t\tStar Trek: Generations\n",
        "2\t0.5998383\t\tStar Trek IV: The Voyage Home\n",
        "3\t0.50374436\t\tStar Trek: Nemesis\n",
        "4\t0.35599363\t\tStar Trek\n",
        "5\t0.3373023\t\tStar Trek: The Motion Picture\n"
       ]
      }
     ],
     "prompt_number": 11
    },
    {
     "cell_type": "heading",
     "level": 1,
     "metadata": {},
     "source": [
      "6.5.2, Listing 16 -- Searching two field groupings \u2013 people and text"
     ]
    },
    {
     "cell_type": "code",
     "collapsed": false,
     "input": [
      "usersSearch = 'star trek patrick stewart william shatner'\n",
      "query = {\n",
      "    'query': {\n",
      "        'bool': {\n",
      "            'should': [ #A\n",
      "                {\n",
      "                   'multi_match': { \n",
      "                      'query': usersSearch,  #User's query\n",
      "                      'fields': ['directors.name.bigramed', #B \n",
      "                                 'cast.name.bigramed'],\n",
      "                      'type': 'cross_fields'\n",
      "                      }\n",
      "                 },\n",
      "                {\n",
      "                   'multi_match': {\n",
      "                     'query': usersSearch,  #User's query\n",
      "                     'fields': ['overview', 'title'],\n",
      "                     'type': 'cross_fields'                                \n",
      "                   }\n",
      "                },\n",
      "            ]\n",
      "        }\n",
      "    },\n",
      "    'size': 5,\n",
      "    'explain': True\n",
      "}\n",
      "search(query) "
     ],
     "language": "python",
     "metadata": {},
     "outputs": [
      {
       "output_type": "stream",
       "stream": "stdout",
       "text": [
        "Num\tRelevance Score\t\tMovie Title\n",
        "1\t1.0273641\t\tStar Trek IV: The Voyage Home\n",
        "2\t0.68675935\t\tStar Trek: Nemesis\n",
        "3\t0.60375434\t\tStar Trek: Generations\n",
        "4\t0.5925658\t\tStar Trek V: The Final Frontier\n",
        "5\t0.43066317\t\tStar Trek: Insurrection\n"
       ]
      }
     ],
     "prompt_number": 12
    },
    {
     "cell_type": "heading",
     "level": 1,
     "metadata": {},
     "source": [
      "6.5.3 Listing 17 Greedy Term-Centric Paired With Highly Discriminating Like Fields"
     ]
    },
    {
     "cell_type": "code",
     "collapsed": false,
     "input": [
      "usersSearch = 'star trek patrick stewart william shatner'\n",
      "query = {\n",
      "    'query': {\n",
      "        'bool': {\n",
      "            'should': [ #A\n",
      "                {\n",
      "                   'multi_match': { \n",
      "                      'query': usersSearch,  #User's query\n",
      "                      'fields': ['directors.name.bigramed', #B \n",
      "\t\t\t\t      'cast.name.bigramed'],\n",
      "                      'type': 'cross_fields'\n",
      "                   }\n",
      "                 },\n",
      "                {\n",
      "                   'multi_match': {\n",
      "                     'query': usersSearch,  #User's query\n",
      "                     'fields': ['overview', 'title', #C\n",
      "                                 'directors.name', 'cast.name'],\n",
      "                     'type': 'cross_fields'                                \n",
      "                   }\n",
      "                },\n",
      "            ]\n",
      "        }\n",
      "    },\n",
      "    'size': 5,\n",
      "    'explain': True\n",
      "}\n",
      "search(query) \n"
     ],
     "language": "python",
     "metadata": {},
     "outputs": [
      {
       "output_type": "stream",
       "stream": "stdout",
       "text": [
        "Num\tRelevance Score\t\tMovie Title\n",
        "1\t1.6669365\t\tStar Trek: Generations\n",
        "2\t1.5123603\t\tStar Trek V: The Final Frontier\n",
        "3\t1.0779369\t\tStar Trek: Nemesis\n",
        "4\t0.9057324\t\tStar Trek: The Motion Picture\n",
        "5\t0.8793935\t\tStar Trek: Insurrection\n"
       ]
      }
     ],
     "prompt_number": 13
    },
    {
     "cell_type": "code",
     "collapsed": false,
     "input": [],
     "language": "python",
     "metadata": {},
     "outputs": []
    }
   ],
   "metadata": {}
  }
 ]
}