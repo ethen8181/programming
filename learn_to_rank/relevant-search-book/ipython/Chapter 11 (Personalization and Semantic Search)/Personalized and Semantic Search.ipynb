{
 "cells": [
  {
   "cell_type": "code",
   "execution_count": 1,
   "metadata": {
    "collapsed": true
   },
   "outputs": [],
   "source": [
    "from elasticsearch import Elasticsearch"
   ]
  },
  {
   "cell_type": "code",
   "execution_count": 2,
   "metadata": {
    "collapsed": true
   },
   "outputs": [],
   "source": [
    "es = Elasticsearch()"
   ]
  },
  {
   "cell_type": "code",
   "execution_count": 4,
   "metadata": {
    "collapsed": false
   },
   "outputs": [],
   "source": [
    "es.indices.create('ch_11')"
   ]
  },
  {
   "cell_type": "code",
   "execution_count": 5,
   "metadata": {
    "collapsed": false
   },
   "outputs": [
    {
     "data": {
      "text/plain": [
       "{u'_shards': {u'failed': 0, u'successful': 5, u'total': 5},\n",
       " u'hits': {u'hits': [], u'max_score': None, u'total': 0},\n",
       " u'timed_out': False,\n",
       " u'took': 98}"
      ]
     },
     "execution_count": 5,
     "metadata": {},
     "output_type": "execute_result"
    }
   ],
   "source": [
    "# base query\n",
    "body = {\n",
    "    'query': {\n",
    "        'multi_match': {\n",
    "            'query': 'summer dress',\n",
    "            'fields': ['title^3', 'description']}}}\n",
    "es.search('ch_11',body=body)"
   ]
  },
  {
   "cell_type": "code",
   "execution_count": 6,
   "metadata": {
    "collapsed": false
   },
   "outputs": [
    {
     "data": {
      "text/plain": [
       "{u'_shards': {u'failed': 0, u'successful': 5, u'total': 5},\n",
       " u'hits': {u'hits': [], u'max_score': None, u'total': 0},\n",
       " u'timed_out': False,\n",
       " u'took': 21}"
      ]
     },
     "execution_count": 6,
     "metadata": {},
     "output_type": "execute_result"
    }
   ],
   "source": [
    "# method 1 - boost specific high affinity ids\n",
    "body = {\n",
    "    'query': {\n",
    "        'function_score': {\n",
    "            'query': {\n",
    "                'multi_match': {\n",
    "                    'query': 'summer dress',\n",
    "                    'fields': ['title^3', 'description']}},\n",
    "            'functions': [{\n",
    "                'filter': {\n",
    "                    'terms': {\n",
    "                        'id': ['123','234','345']}},\n",
    "                'weight': 1.1}]}}}\n",
    "es.search('ch_11',body=body)"
   ]
  },
  {
   "cell_type": "code",
   "execution_count": 7,
   "metadata": {
    "collapsed": false
   },
   "outputs": [
    {
     "data": {
      "text/plain": [
       "{u'_shards': {u'failed': 0, u'successful': 5, u'total': 5},\n",
       " u'hits': {u'hits': [], u'max_score': None, u'total': 0},\n",
       " u'timed_out': False,\n",
       " u'took': 7}"
      ]
     },
     "execution_count": 7,
     "metadata": {},
     "output_type": "execute_result"
    }
   ],
   "source": [
    "# method 2 - boost users_who_might_like\n",
    "body = {\n",
    "    'query': {\n",
    "        'function_score': {\n",
    "            'query': {\n",
    "                'multi_match': {\n",
    "                    'query': 'summer dress',\n",
    "                    'fields': ['title^3', 'description']}},\n",
    "            'functions': [{\n",
    "                'filter': {\n",
    "                    'term': {\n",
    "                        'users_who_might_like': '999'}},\n",
    "                'weight': 1.1}]}}}\n",
    "es.search('ch_11',body=body)"
   ]
  },
  {
   "cell_type": "code",
   "execution_count": 11,
   "metadata": {
    "collapsed": false
   },
   "outputs": [
    {
     "data": {
      "text/plain": [
       "{u'_shards': {u'failed': 0, u'successful': 5, u'total': 5},\n",
       " u'hits': {u'hits': [], u'max_score': None, u'total': 0},\n",
       " u'timed_out': False,\n",
       " u'took': 10}"
      ]
     },
     "execution_count": 11,
     "metadata": {},
     "output_type": "execute_result"
    }
   ],
   "source": [
    "# method 3 - boost related items\n",
    "body = {\n",
    "    'query': {\n",
    "        'function_score': {\n",
    "            'query': {\n",
    "                'multi_match': {\n",
    "                    'query': 'hello',\n",
    "                    'fields': ['title^3', 'description']}},\n",
    "            'functions': [{\n",
    "                'filter': {\n",
    "                    'terms': {\n",
    "                        'related_items': ['123','234','345']}},\n",
    "                'weight': 1.1}]}}}\n",
    "es.search('ch_11',body=body)"
   ]
  }
 ],
 "metadata": {
  "kernelspec": {
   "display_name": "Python 2",
   "language": "python",
   "name": "python2"
  },
  "language_info": {
   "codemirror_mode": {
    "name": "ipython",
    "version": 2
   },
   "file_extension": ".py",
   "mimetype": "text/x-python",
   "name": "python",
   "nbconvert_exporter": "python",
   "pygments_lexer": "ipython2",
   "version": "2.7.6"
  }
 },
 "nbformat": 4,
 "nbformat_minor": 0
}
