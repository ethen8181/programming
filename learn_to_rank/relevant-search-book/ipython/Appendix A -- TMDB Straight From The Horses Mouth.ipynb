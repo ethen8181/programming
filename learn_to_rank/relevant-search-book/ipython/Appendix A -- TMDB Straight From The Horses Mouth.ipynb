{
 "metadata": {
  "name": ""
 },
 "nbformat": 3,
 "nbformat_minor": 0,
 "worksheets": [
  {
   "cells": [
    {
     "cell_type": "heading",
     "level": 1,
     "metadata": {},
     "source": [
      "Boilerplate Code"
     ]
    },
    {
     "cell_type": "code",
     "collapsed": false,
     "input": [
      "import requests\n",
      "import json\n",
      "import os\n",
      "import time\n",
      "from requests.exceptions import ConnectionError\n",
      "\n",
      "# you'll need to have an API key for TMDB\n",
      "# to run these examples,\n",
      "# run export TMDB_API_KEY=<YourAPIKey>\n",
      "tmdb_api_key = os.environ[\"TMDB_API_KEY\"]\n",
      "# Setup tmdb as its own session, caching requests\n",
      "# (we only want to cache tmdb, not elasticsearch)\n",
      "# Get your TMDB API key from\n",
      "#  https://www.themoviedb.org/documentation/api\n",
      "# then in shell do export TMDB_API_KEY=<Your Key>\n",
      "tmdb_api = requests.Session()\n",
      "tmdb_api.params={'api_key': tmdb_api_key}"
     ],
     "language": "python",
     "metadata": {},
     "outputs": [],
     "prompt_number": 22
    },
    {
     "cell_type": "heading",
     "level": 1,
     "metadata": {},
     "source": [
      "Getting a List of Movies"
     ]
    },
    {
     "cell_type": "code",
     "collapsed": false,
     "input": [
      "def movieList(maxMovies=10000):\n",
      "    url = 'https://api.themoviedb.org/3/movie/top_rated'\n",
      "    movieIds = [];\n",
      "    numPages = maxMovies / 20    \n",
      "    for page in range(1, numPages + 1): #A\n",
      "        if page % 10 == 0:\n",
      "            time.sleep(3)  # Sleep for 3 seconds every tenth request\n",
      "        try:\n",
      "            httpResp = tmdb_api.get(url, params={'page': page})  #B\n",
      "        except Exception as e:\n",
      "            print e            \n",
      "            print len(movieIds)\n",
      "        jsonResponse = json.loads(httpResp.text) #C\n",
      "        movies = jsonResponse['results']\n",
      "        for movie in movies: #D\n",
      "            movieIds.append(movie['id'])\n",
      "    return movieIds\n"
     ],
     "language": "python",
     "metadata": {},
     "outputs": [],
     "prompt_number": 34
    },
    {
     "cell_type": "heading",
     "level": 1,
     "metadata": {},
     "source": [
      "Extract Using TMDB"
     ]
    },
    {
     "cell_type": "code",
     "collapsed": false,
     "input": [
      "def getCastAndCrew(movieId, movie):\n",
      "    httpResp = tmdb_api.get(\"https://api.themoviedb.org/3/movie/%s/credits\" % movieId) \n",
      "    credits = json.loads(httpResp.text) #C\n",
      "    try:\n",
      "        crew = credits['crew']\n",
      "        directors = []\n",
      "        for crewMember in crew: #D\n",
      "            if crewMember['job'] == 'Director':\n",
      "                directors.append(crewMember)\n",
      "    except KeyError as e:\n",
      "        print e\n",
      "        print credits\n",
      "    movie['cast'] = credits['cast'] #E\n",
      "    movie['directors'] = directors \n",
      "\n",
      "def extract(movieIds=[], numMovies=10000):\n",
      "    movieDict = {}\n",
      "    for idx, movieId in enumerate(movieIds):\n",
      "        try:\n",
      "            httpResp = tmdb_api.get(\"https://api.themoviedb.org/3/movie/%s\" % movieId)\n",
      "            movie = json.loads(httpResp.text)\n",
      "            getCastAndCrew(movieId, movie)               \n",
      "            movieDict[movieId] = movie\n",
      "            if int(httpResp.headers['x-ratelimit-remaining']) < 10:\n",
      "                print \"Sleeping due to rate limit, On %s/%s (%s remaining API TMDB requests allowed)\" % \\\n",
      "                    (idx, len(movieIds), httpResp.headers['x-ratelimit-remaining'])\n",
      "                time.sleep(6)\n",
      "        except ConnectionError as e:\n",
      "            print e\n",
      "    return movieDict"
     ],
     "language": "python",
     "metadata": {},
     "outputs": [],
     "prompt_number": 48
    },
    {
     "cell_type": "heading",
     "level": 1,
     "metadata": {},
     "source": [
      "Reindex to Elasticsearch"
     ]
    },
    {
     "cell_type": "code",
     "collapsed": false,
     "input": [
      "def reindex(analysisSettings={}, mappingSettings={}, movieDict={}):\n",
      "    settings = { #A\n",
      "        \"settings\": {\n",
      "            \"number_of_shards\": 1, #B\n",
      "            \"index\": {\n",
      "                \"analysis\" : analysisSettings, #C\n",
      "            }}}\n",
      "\n",
      "    if mappingSettings:\n",
      "        settings['mappings'] = mappingSettings #C\n",
      "\n",
      "    resp = requests.delete(\"http://localhost:9200/tmdb\") #D\n",
      "    resp = requests.put(\"http://localhost:9200/tmdb\", \n",
      "                        data=json.dumps(settings))\n",
      "\n",
      "    bulkMovies = \"\"\n",
      "    for id, movie in movieDict.iteritems(): \n",
      "        addCmd = {\"index\": {\"_index\": \"tmdb\", #E\n",
      "                            \"_type\": \"movie\",\n",
      "                            \"_id\": movie[\"id\"]}}\n",
      "        bulkMovies += json.dumps(addCmd) + \"\\n\" + json.dumps(movie) + \"\\n\"\n",
      "    resp = requests.post(\"http://localhost:9200/_bulk\", data=bulkMovies)"
     ],
     "language": "python",
     "metadata": {},
     "outputs": [],
     "prompt_number": 24
    },
    {
     "cell_type": "code",
     "collapsed": false,
     "input": [
      "movieIds = movieList()\n"
     ],
     "language": "python",
     "metadata": {},
     "outputs": [
      {
       "output_type": "stream",
       "stream": "stdout",
       "text": [
        "('Connection aborted.', ResponseNotReady())\n",
        "320\n",
        "('Connection aborted.', ResponseNotReady())"
       ]
      },
      {
       "output_type": "stream",
       "stream": "stdout",
       "text": [
        "\n",
        "460\n",
        "('Connection aborted.', ResponseNotReady())"
       ]
      },
      {
       "output_type": "stream",
       "stream": "stdout",
       "text": [
        "\n",
        "500\n",
        "('Connection aborted.', ResponseNotReady())"
       ]
      },
      {
       "output_type": "stream",
       "stream": "stdout",
       "text": [
        "\n",
        "540\n",
        "('Connection aborted.', ResponseNotReady())"
       ]
      },
      {
       "output_type": "stream",
       "stream": "stdout",
       "text": [
        "\n",
        "600\n",
        "('Connection aborted.', ResponseNotReady())"
       ]
      },
      {
       "output_type": "stream",
       "stream": "stdout",
       "text": [
        "\n",
        "680\n",
        "('Connection aborted.', ResponseNotReady())"
       ]
      },
      {
       "output_type": "stream",
       "stream": "stdout",
       "text": [
        "\n",
        "980\n",
        "('Connection aborted.', ResponseNotReady())"
       ]
      },
      {
       "output_type": "stream",
       "stream": "stdout",
       "text": [
        "\n",
        "1080\n",
        "('Connection aborted.', ResponseNotReady())"
       ]
      },
      {
       "output_type": "stream",
       "stream": "stdout",
       "text": [
        "\n",
        "1560\n",
        "('Connection aborted.', ResponseNotReady())"
       ]
      },
      {
       "output_type": "stream",
       "stream": "stdout",
       "text": [
        "\n",
        "1740\n",
        "('Connection aborted.', ResponseNotReady())"
       ]
      },
      {
       "output_type": "stream",
       "stream": "stdout",
       "text": [
        "\n",
        "1980\n",
        "('Connection aborted.', ResponseNotReady())"
       ]
      },
      {
       "output_type": "stream",
       "stream": "stdout",
       "text": [
        "\n",
        "2300\n",
        "('Connection aborted.', ResponseNotReady())"
       ]
      },
      {
       "output_type": "stream",
       "stream": "stdout",
       "text": [
        "\n",
        "2380\n",
        "('Connection aborted.', ResponseNotReady())"
       ]
      },
      {
       "output_type": "stream",
       "stream": "stdout",
       "text": [
        "\n",
        "2440\n",
        "('Connection aborted.', ResponseNotReady())"
       ]
      },
      {
       "output_type": "stream",
       "stream": "stdout",
       "text": [
        "\n",
        "2620\n",
        "('Connection aborted.', ResponseNotReady())"
       ]
      },
      {
       "output_type": "stream",
       "stream": "stdout",
       "text": [
        "\n",
        "2860\n",
        "('Connection aborted.', ResponseNotReady())"
       ]
      },
      {
       "output_type": "stream",
       "stream": "stdout",
       "text": [
        "\n",
        "2900\n",
        "('Connection aborted.', ResponseNotReady())"
       ]
      },
      {
       "output_type": "stream",
       "stream": "stdout",
       "text": [
        "\n",
        "3280\n",
        "('Connection aborted.', ResponseNotReady())"
       ]
      },
      {
       "output_type": "stream",
       "stream": "stdout",
       "text": [
        "\n",
        "3360\n",
        "('Connection aborted.', ResponseNotReady())"
       ]
      },
      {
       "output_type": "stream",
       "stream": "stdout",
       "text": [
        "\n",
        "3420\n",
        "('Connection aborted.', ResponseNotReady())"
       ]
      },
      {
       "output_type": "stream",
       "stream": "stdout",
       "text": [
        "\n",
        "3560\n",
        "('Connection aborted.', ResponseNotReady())"
       ]
      },
      {
       "output_type": "stream",
       "stream": "stdout",
       "text": [
        "\n",
        "3620\n"
       ]
      }
     ],
     "prompt_number": 25
    },
    {
     "cell_type": "code",
     "collapsed": false,
     "input": [
      "movieDict = extract(movieIds)\n",
      "reindex(movieDict=movieDict)"
     ],
     "language": "python",
     "metadata": {},
     "outputs": [
      {
       "output_type": "stream",
       "stream": "stdout",
       "text": [
        "Sleeping due to rate limit, On 15/3857 (9 remaining API TMDB requests allowed)\n",
        "Sleeping due to rate limit, On 16/3857 (7 remaining API TMDB requests allowed)"
       ]
      },
      {
       "output_type": "stream",
       "stream": "stdout",
       "text": [
        "\n",
        "Sleeping due to rate limit, On 32/3857 (9 remaining API TMDB requests allowed)"
       ]
      },
      {
       "output_type": "stream",
       "stream": "stdout",
       "text": [
        "\n",
        "Sleeping due to rate limit, On 33/3857 (7 remaining API TMDB requests allowed)"
       ]
      },
      {
       "output_type": "stream",
       "stream": "stdout",
       "text": [
        "\n",
        "Sleeping due to rate limit, On 49/3857 (9 remaining API TMDB requests allowed)"
       ]
      },
      {
       "output_type": "stream",
       "stream": "stdout",
       "text": [
        "\n",
        "Sleeping due to rate limit, On 50/3857 (7 remaining API TMDB requests allowed)"
       ]
      },
      {
       "output_type": "stream",
       "stream": "stdout",
       "text": [
        "\n",
        "Sleeping due to rate limit, On 66/3857 (9 remaining API TMDB requests allowed)"
       ]
      },
      {
       "output_type": "stream",
       "stream": "stdout",
       "text": [
        "\n",
        "Sleeping due to rate limit, On 67/3857 (7 remaining API TMDB requests allowed)"
       ]
      },
      {
       "output_type": "stream",
       "stream": "stdout",
       "text": [
        "\n",
        "Sleeping due to rate limit, On 83/3857 (9 remaining API TMDB requests allowed)"
       ]
      },
      {
       "output_type": "stream",
       "stream": "stdout",
       "text": [
        "\n",
        "Sleeping due to rate limit, On 84/3857 (7 remaining API TMDB requests allowed)"
       ]
      },
      {
       "output_type": "stream",
       "stream": "stdout",
       "text": [
        "\n",
        "('Connection aborted.', ResponseNotReady())"
       ]
      },
      {
       "output_type": "stream",
       "stream": "stdout",
       "text": [
        "\n",
        "('Connection aborted.', ResponseNotReady())"
       ]
      },
      {
       "output_type": "stream",
       "stream": "stdout",
       "text": [
        "\n",
        "Sleeping due to rate limit, On 100/3857 (9 remaining API TMDB requests allowed)"
       ]
      },
      {
       "output_type": "stream",
       "stream": "stdout",
       "text": [
        "\n",
        "Sleeping due to rate limit, On 101/3857 (7 remaining API TMDB requests allowed)"
       ]
      },
      {
       "output_type": "stream",
       "stream": "stdout",
       "text": [
        "\n",
        "Sleeping due to rate limit, On 117/3857 (9 remaining API TMDB requests allowed)"
       ]
      },
      {
       "output_type": "stream",
       "stream": "stdout",
       "text": [
        "\n",
        "Sleeping due to rate limit, On 118/3857 (7 remaining API TMDB requests allowed)"
       ]
      },
      {
       "output_type": "stream",
       "stream": "stdout",
       "text": [
        "\n",
        "Sleeping due to rate limit, On 134/3857 (9 remaining API TMDB requests allowed)"
       ]
      },
      {
       "output_type": "stream",
       "stream": "stdout",
       "text": [
        "\n",
        "Sleeping due to rate limit, On 135/3857 (7 remaining API TMDB requests allowed)"
       ]
      },
      {
       "output_type": "stream",
       "stream": "stdout",
       "text": [
        "\n",
        "Sleeping due to rate limit, On 151/3857 (9 remaining API TMDB requests allowed)"
       ]
      },
      {
       "output_type": "stream",
       "stream": "stdout",
       "text": [
        "\n",
        "Sleeping due to rate limit, On 152/3857 (7 remaining API TMDB requests allowed)"
       ]
      },
      {
       "output_type": "stream",
       "stream": "stdout",
       "text": [
        "\n",
        "Sleeping due to rate limit, On 168/3857 (9 remaining API TMDB requests allowed)"
       ]
      },
      {
       "output_type": "stream",
       "stream": "stdout",
       "text": [
        "\n",
        "Sleeping due to rate limit, On 169/3857 (7 remaining API TMDB requests allowed)"
       ]
      },
      {
       "output_type": "stream",
       "stream": "stdout",
       "text": [
        "\n",
        "Sleeping due to rate limit, On 185/3857 (9 remaining API TMDB requests allowed)"
       ]
      },
      {
       "output_type": "stream",
       "stream": "stdout",
       "text": [
        "\n",
        "Sleeping due to rate limit, On 186/3857 (7 remaining API TMDB requests allowed)"
       ]
      },
      {
       "output_type": "stream",
       "stream": "stdout",
       "text": [
        "\n",
        "Sleeping due to rate limit, On 202/3857 (9 remaining API TMDB requests allowed)"
       ]
      },
      {
       "output_type": "stream",
       "stream": "stdout",
       "text": [
        "\n",
        "Sleeping due to rate limit, On 203/3857 (7 remaining API TMDB requests allowed)"
       ]
      },
      {
       "output_type": "stream",
       "stream": "stdout",
       "text": [
        "\n",
        "Sleeping due to rate limit, On 219/3857 (9 remaining API TMDB requests allowed)"
       ]
      },
      {
       "output_type": "stream",
       "stream": "stdout",
       "text": [
        "\n",
        "Sleeping due to rate limit, On 220/3857 (7 remaining API TMDB requests allowed)"
       ]
      },
      {
       "output_type": "stream",
       "stream": "stdout",
       "text": [
        "\n",
        "('Connection aborted.', ResponseNotReady())"
       ]
      },
      {
       "output_type": "stream",
       "stream": "stdout",
       "text": [
        "\n",
        "Sleeping due to rate limit, On 236/3857 (9 remaining API TMDB requests allowed)"
       ]
      },
      {
       "output_type": "stream",
       "stream": "stdout",
       "text": [
        "\n",
        "Sleeping due to rate limit, On 237/3857 (7 remaining API TMDB requests allowed)"
       ]
      },
      {
       "output_type": "stream",
       "stream": "stdout",
       "text": [
        "\n",
        "Sleeping due to rate limit, On 253/3857 (9 remaining API TMDB requests allowed)"
       ]
      },
      {
       "output_type": "stream",
       "stream": "stdout",
       "text": [
        "\n",
        "Sleeping due to rate limit, On 254/3857 (7 remaining API TMDB requests allowed)"
       ]
      },
      {
       "output_type": "stream",
       "stream": "stdout",
       "text": [
        "\n",
        "('Connection aborted.', ResponseNotReady())"
       ]
      },
      {
       "output_type": "stream",
       "stream": "stdout",
       "text": [
        "\n",
        "Sleeping due to rate limit, On 271/3857 (7 remaining API TMDB requests allowed)"
       ]
      },
      {
       "output_type": "stream",
       "stream": "stdout",
       "text": [
        "\n",
        "Sleeping due to rate limit, On 272/3857 (5 remaining API TMDB requests allowed)"
       ]
      },
      {
       "output_type": "stream",
       "stream": "stdout",
       "text": [
        "\n",
        "Sleeping due to rate limit, On 288/3857 (9 remaining API TMDB requests allowed)"
       ]
      },
      {
       "output_type": "stream",
       "stream": "stdout",
       "text": [
        "\n",
        "Sleeping due to rate limit, On 289/3857 (7 remaining API TMDB requests allowed)"
       ]
      },
      {
       "output_type": "stream",
       "stream": "stdout",
       "text": [
        "\n",
        "Sleeping due to rate limit, On 305/3857 (9 remaining API TMDB requests allowed)"
       ]
      },
      {
       "output_type": "stream",
       "stream": "stdout",
       "text": [
        "\n",
        "Sleeping due to rate limit, On 306/3857 (7 remaining API TMDB requests allowed)"
       ]
      },
      {
       "output_type": "stream",
       "stream": "stdout",
       "text": [
        "\n",
        "Sleeping due to rate limit, On 322/3857 (9 remaining API TMDB requests allowed)"
       ]
      },
      {
       "output_type": "stream",
       "stream": "stdout",
       "text": [
        "\n",
        "Sleeping due to rate limit, On 323/3857 (7 remaining API TMDB requests allowed)"
       ]
      },
      {
       "output_type": "stream",
       "stream": "stdout",
       "text": [
        "\n",
        "Sleeping due to rate limit, On 339/3857 (9 remaining API TMDB requests allowed)"
       ]
      },
      {
       "output_type": "stream",
       "stream": "stdout",
       "text": [
        "\n",
        "Sleeping due to rate limit, On 340/3857 (7 remaining API TMDB requests allowed)"
       ]
      },
      {
       "output_type": "stream",
       "stream": "stdout",
       "text": [
        "\n",
        "('Connection aborted.', ResponseNotReady())"
       ]
      },
      {
       "output_type": "stream",
       "stream": "stdout",
       "text": [
        "\n",
        "Sleeping due to rate limit, On 356/3857 (9 remaining API TMDB requests allowed)"
       ]
      },
      {
       "output_type": "stream",
       "stream": "stdout",
       "text": [
        "\n",
        "Sleeping due to rate limit, On 357/3857 (7 remaining API TMDB requests allowed)"
       ]
      },
      {
       "output_type": "stream",
       "stream": "stdout",
       "text": [
        "\n",
        "Sleeping due to rate limit, On 373/3857 (9 remaining API TMDB requests allowed)"
       ]
      },
      {
       "output_type": "stream",
       "stream": "stdout",
       "text": [
        "\n",
        "Sleeping due to rate limit, On 374/3857 (7 remaining API TMDB requests allowed)"
       ]
      },
      {
       "output_type": "stream",
       "stream": "stdout",
       "text": [
        "\n",
        "('Connection aborted.', ResponseNotReady())"
       ]
      },
      {
       "output_type": "stream",
       "stream": "stdout",
       "text": [
        "\n",
        "Sleeping due to rate limit, On 390/3857 (9 remaining API TMDB requests allowed)"
       ]
      },
      {
       "output_type": "stream",
       "stream": "stdout",
       "text": [
        "\n",
        "Sleeping due to rate limit, On 391/3857 (7 remaining API TMDB requests allowed)"
       ]
      },
      {
       "output_type": "stream",
       "stream": "stdout",
       "text": [
        "\n",
        "Sleeping due to rate limit, On 407/3857 (9 remaining API TMDB requests allowed)"
       ]
      },
      {
       "output_type": "stream",
       "stream": "stdout",
       "text": [
        "\n",
        "Sleeping due to rate limit, On 408/3857 (7 remaining API TMDB requests allowed)"
       ]
      },
      {
       "output_type": "stream",
       "stream": "stdout",
       "text": [
        "\n",
        "Sleeping due to rate limit, On 424/3857 (9 remaining API TMDB requests allowed)"
       ]
      },
      {
       "output_type": "stream",
       "stream": "stdout",
       "text": [
        "\n",
        "Sleeping due to rate limit, On 425/3857 (7 remaining API TMDB requests allowed)"
       ]
      },
      {
       "output_type": "stream",
       "stream": "stdout",
       "text": [
        "\n",
        "Sleeping due to rate limit, On 441/3857 (9 remaining API TMDB requests allowed)"
       ]
      },
      {
       "output_type": "stream",
       "stream": "stdout",
       "text": [
        "\n",
        "Sleeping due to rate limit, On 442/3857 (7 remaining API TMDB requests allowed)"
       ]
      },
      {
       "output_type": "stream",
       "stream": "stdout",
       "text": [
        "\n",
        "Sleeping due to rate limit, On 458/3857 (9 remaining API TMDB requests allowed)"
       ]
      },
      {
       "output_type": "stream",
       "stream": "stdout",
       "text": [
        "\n",
        "Sleeping due to rate limit, On 459/3857 (7 remaining API TMDB requests allowed)"
       ]
      },
      {
       "output_type": "stream",
       "stream": "stdout",
       "text": [
        "\n",
        "Sleeping due to rate limit, On 475/3857 (9 remaining API TMDB requests allowed)"
       ]
      },
      {
       "output_type": "stream",
       "stream": "stdout",
       "text": [
        "\n",
        "Sleeping due to rate limit, On 476/3857 (7 remaining API TMDB requests allowed)"
       ]
      },
      {
       "output_type": "stream",
       "stream": "stdout",
       "text": [
        "\n",
        "Sleeping due to rate limit, On 492/3857 (9 remaining API TMDB requests allowed)"
       ]
      },
      {
       "output_type": "stream",
       "stream": "stdout",
       "text": [
        "\n",
        "Sleeping due to rate limit, On 493/3857 (7 remaining API TMDB requests allowed)"
       ]
      },
      {
       "output_type": "stream",
       "stream": "stdout",
       "text": [
        "\n",
        "('Connection aborted.', ResponseNotReady())"
       ]
      },
      {
       "output_type": "stream",
       "stream": "stdout",
       "text": [
        "\n",
        "Sleeping due to rate limit, On 509/3857 (9 remaining API TMDB requests allowed)"
       ]
      },
      {
       "output_type": "stream",
       "stream": "stdout",
       "text": [
        "\n",
        "Sleeping due to rate limit, On 510/3857 (7 remaining API TMDB requests allowed)"
       ]
      },
      {
       "output_type": "stream",
       "stream": "stdout",
       "text": [
        "\n",
        "Sleeping due to rate limit, On 526/3857 (9 remaining API TMDB requests allowed)"
       ]
      },
      {
       "output_type": "stream",
       "stream": "stdout",
       "text": [
        "\n",
        "Sleeping due to rate limit, On 527/3857 (7 remaining API TMDB requests allowed)"
       ]
      },
      {
       "output_type": "stream",
       "stream": "stdout",
       "text": [
        "\n",
        "Sleeping due to rate limit, On 543/3857 (9 remaining API TMDB requests allowed)"
       ]
      },
      {
       "output_type": "stream",
       "stream": "stdout",
       "text": [
        "\n",
        "Sleeping due to rate limit, On 544/3857 (7 remaining API TMDB requests allowed)"
       ]
      },
      {
       "output_type": "stream",
       "stream": "stdout",
       "text": [
        "\n",
        "Sleeping due to rate limit, On 560/3857 (9 remaining API TMDB requests allowed)"
       ]
      },
      {
       "output_type": "stream",
       "stream": "stdout",
       "text": [
        "\n",
        "Sleeping due to rate limit, On 561/3857 (7 remaining API TMDB requests allowed)"
       ]
      },
      {
       "output_type": "stream",
       "stream": "stdout",
       "text": [
        "\n",
        "('Connection aborted.', ResponseNotReady())"
       ]
      },
      {
       "output_type": "stream",
       "stream": "stdout",
       "text": [
        "\n",
        "Sleeping due to rate limit, On 577/3857 (9 remaining API TMDB requests allowed)"
       ]
      },
      {
       "output_type": "stream",
       "stream": "stdout",
       "text": [
        "\n",
        "Sleeping due to rate limit, On 578/3857 (7 remaining API TMDB requests allowed)"
       ]
      },
      {
       "output_type": "stream",
       "stream": "stdout",
       "text": [
        "\n",
        "Sleeping due to rate limit, On 594/3857 (9 remaining API TMDB requests allowed)"
       ]
      },
      {
       "output_type": "stream",
       "stream": "stdout",
       "text": [
        "\n",
        "Sleeping due to rate limit, On 595/3857 (7 remaining API TMDB requests allowed)"
       ]
      },
      {
       "output_type": "stream",
       "stream": "stdout",
       "text": [
        "\n",
        "('Connection aborted.', ResponseNotReady())"
       ]
      },
      {
       "output_type": "stream",
       "stream": "stdout",
       "text": [
        "\n",
        "Sleeping due to rate limit, On 611/3857 (9 remaining API TMDB requests allowed)"
       ]
      },
      {
       "ename": "KeyboardInterrupt",
       "evalue": "",
       "output_type": "pyerr",
       "traceback": [
        "\u001b[0;31m---------------------------------------------------------------------------\u001b[0m\n\u001b[0;31mKeyboardInterrupt\u001b[0m                         Traceback (most recent call last)",
        "\u001b[0;32m<ipython-input-49-6f50656759ba>\u001b[0m in \u001b[0;36m<module>\u001b[0;34m()\u001b[0m\n\u001b[0;32m----> 1\u001b[0;31m \u001b[0mmovieDict\u001b[0m \u001b[0;34m=\u001b[0m \u001b[0mextract\u001b[0m\u001b[0;34m(\u001b[0m\u001b[0mmovieIds\u001b[0m\u001b[0;34m)\u001b[0m\u001b[0;34m\u001b[0m\u001b[0m\n\u001b[0m\u001b[1;32m      2\u001b[0m \u001b[0mreindex\u001b[0m\u001b[0;34m(\u001b[0m\u001b[0mmovieDict\u001b[0m\u001b[0;34m=\u001b[0m\u001b[0mmovieDict\u001b[0m\u001b[0;34m)\u001b[0m\u001b[0;34m\u001b[0m\u001b[0m\n",
        "\u001b[0;32m<ipython-input-48-b772d955e36b>\u001b[0m in \u001b[0;36mextract\u001b[0;34m(movieIds, numMovies)\u001b[0m\n\u001b[1;32m     24\u001b[0m             \u001b[0;32mif\u001b[0m \u001b[0mint\u001b[0m\u001b[0;34m(\u001b[0m\u001b[0mhttpResp\u001b[0m\u001b[0;34m.\u001b[0m\u001b[0mheaders\u001b[0m\u001b[0;34m[\u001b[0m\u001b[0;34m'x-ratelimit-remaining'\u001b[0m\u001b[0;34m]\u001b[0m\u001b[0;34m)\u001b[0m \u001b[0;34m<\u001b[0m \u001b[0;36m10\u001b[0m\u001b[0;34m:\u001b[0m\u001b[0;34m\u001b[0m\u001b[0m\n\u001b[1;32m     25\u001b[0m                 \u001b[0;32mprint\u001b[0m \u001b[0;34m\"Sleeping due to rate limit, On %s/%s (%s remaining API TMDB requests allowed)\"\u001b[0m \u001b[0;34m%\u001b[0m                     \u001b[0;34m(\u001b[0m\u001b[0midx\u001b[0m\u001b[0;34m,\u001b[0m \u001b[0mlen\u001b[0m\u001b[0;34m(\u001b[0m\u001b[0mmovieIds\u001b[0m\u001b[0;34m)\u001b[0m\u001b[0;34m,\u001b[0m \u001b[0mhttpResp\u001b[0m\u001b[0;34m.\u001b[0m\u001b[0mheaders\u001b[0m\u001b[0;34m[\u001b[0m\u001b[0;34m'x-ratelimit-remaining'\u001b[0m\u001b[0;34m]\u001b[0m\u001b[0;34m)\u001b[0m\u001b[0;34m\u001b[0m\u001b[0m\n\u001b[0;32m---> 26\u001b[0;31m                 \u001b[0mtime\u001b[0m\u001b[0;34m.\u001b[0m\u001b[0msleep\u001b[0m\u001b[0;34m(\u001b[0m\u001b[0;36m6\u001b[0m\u001b[0;34m)\u001b[0m\u001b[0;34m\u001b[0m\u001b[0m\n\u001b[0m\u001b[1;32m     27\u001b[0m         \u001b[0;32mexcept\u001b[0m \u001b[0mConnectionError\u001b[0m \u001b[0;32mas\u001b[0m \u001b[0me\u001b[0m\u001b[0;34m:\u001b[0m\u001b[0;34m\u001b[0m\u001b[0m\n\u001b[1;32m     28\u001b[0m             \u001b[0;32mprint\u001b[0m \u001b[0me\u001b[0m\u001b[0;34m\u001b[0m\u001b[0m\n",
        "\u001b[0;31mKeyboardInterrupt\u001b[0m: "
       ]
      },
      {
       "output_type": "stream",
       "stream": "stdout",
       "text": [
        "\n"
       ]
      }
     ],
     "prompt_number": 49
    },
    {
     "cell_type": "code",
     "collapsed": false,
     "input": [],
     "language": "python",
     "metadata": {},
     "outputs": []
    }
   ],
   "metadata": {}
  }
 ]
}