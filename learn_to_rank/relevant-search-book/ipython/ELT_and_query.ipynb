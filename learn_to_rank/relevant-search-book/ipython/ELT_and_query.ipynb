{
 "metadata": {
  "name": ""
 },
 "nbformat": 3,
 "nbformat_minor": 0,
 "worksheets": [
  {
   "cells": [
    {
     "cell_type": "markdown",
     "metadata": {},
     "source": [
      "#Setup"
     ]
    },
    {
     "cell_type": "code",
     "collapsed": false,
     "input": [
      "import requests\n",
      "import json\n",
      "import os\n",
      "import pickle\n",
      "    \n",
      "elasticSearchUrl = \"http://es:9200\"\n",
      "\n",
      "tmdb_api_key = os.environ[\"TMDB_API_KEY\"]\n",
      "\n",
      "# POSSIBLE SEARCHES\n",
      "# most popular (don't know what popular means though): https://api.themoviedb.org/3/discover/movie?api_key=ae700a17fe68acb1deb66c34b41c174f&sort_by=popularity.desc\n",
      "# movies sorted by vote (instead of popularity) with a vote count above 100 https://api.themoviedb.org/3/discover/movie?api_key=ae700a17fe68acb1deb66c34b41c174f&sort_by=vote_average.desc&vote_count.gte=100\n",
      "# \"best\" movies released in the past 5 years: https://api.themoviedb.org/3/discover/movie?api_key=ae700a17fe68acb1deb66c34b41c174f&sort_by=vote_average.desc&vote_count.gte=100&primary_release_year.gte=2009\n",
      "# * most voted upon (good way to get movies that everyone will know but which will include good and bad movies) https://api.themoviedb.org/3/discover/movie?api_key=ae700a17fe68acb1deb66c34b41c174f&sort_by=vote_count.desc&vote_count.gte=100\n",
      "# most popular kids movies https://api.themoviedb.org/3/discover/movie?api_key=ae700a17fe68acb1deb66c34b41c174f&sort_by=vote_count.desc&certification_country=US&certification.lte=G\n",
      "# highest revenues https://api.themoviedb.org/3/discover/movie?api_key=ae700a17fe68acb1deb66c34b41c174f&sort_by=revenue.desc\n",
      "\n",
      "# movie example ids [24428, 27205, 19995, 155, 68721, 70160, 68718, 49051, 49026, 37724]\n",
      "# person id 3223\n",
      "\n",
      "# Other searches\n",
      "# All people associated with a movie curl \"https://api.themoviedb.org/3/movie/24428/credits?api_key=ae700a17fe68acb1deb66c34b41c174f\" | jq '.[\"cast\"][][\"name\"]'\n"
     ],
     "language": "python",
     "metadata": {},
     "outputs": [],
     "prompt_number": 48
    },
    {
     "cell_type": "markdown",
     "metadata": {},
     "source": [
      "#Extraction"
     ]
    },
    {
     "cell_type": "code",
     "collapsed": false,
     "input": [
      "#setup\n",
      "num_pages = 20\n",
      "start_page = 0\n",
      "ids = []"
     ],
     "language": "python",
     "metadata": {},
     "outputs": []
    },
    {
     "cell_type": "code",
     "collapsed": false,
     "input": [
      "#scoop together the first num_pages of popular movie ids\n",
      "for page in xrange(start_page,num_pages):\n",
      "    try:\n",
      "        r = requests.get(\"https://api.themoviedb.org/3/discover/movie?\"\n",
      "                     + \"api_key={0}&\".format(tmdb_api_key)\n",
      "                     + \"sort_by=vote_count.desc&\"\n",
      "                     + \"page={0}\".format(page+1))\n",
      "        ids.extend([mov[\"id\"] for mov in r.json()[\"results\"]])\n",
      "    except Exception, e:\n",
      "        print e\n",
      "        break\n",
      "\n",
      "start_page = page\n",
      "\"Found {0} ids\".format(len(set(ids)))"
     ],
     "language": "python",
     "metadata": {},
     "outputs": [
      {
       "metadata": {},
       "output_type": "pyout",
       "prompt_number": 51,
       "text": [
        "'Found 400 ids'"
       ]
      }
     ],
     "prompt_number": 51
    },
    {
     "cell_type": "code",
     "collapsed": false,
     "input": [
      "# get movies from ids (setup)\n",
      "movies = []\n",
      "start_index = 0 #just in case anything interrupts us"
     ],
     "language": "python",
     "metadata": {},
     "outputs": [],
     "prompt_number": 52
    },
    {
     "cell_type": "code",
     "collapsed": false,
     "input": [
      "# get movies from ids (execute)\n",
      "#   if this fails then at least it saves the index where it left off\n",
      "for index, id in enumerate(ids[start_index:]):\n",
      "    try:\n",
      "        r = requests.get(\"https://api.themoviedb.org/3/movie/{0}?\".format(id)\n",
      "                     + \"api_key={0}&\".format(tmdb_api_key))\n",
      "        movies.append(r.json())\n",
      "    except Exception, e:\n",
      "        print e\n",
      "        break\n",
      "    \n",
      "print \"got to index {0}\".format(index)\n",
      "start_index = index"
     ],
     "language": "python",
     "metadata": {},
     "outputs": [
      {
       "output_type": "stream",
       "stream": "stdout",
       "text": [
        "got to index 399\n"
       ]
      }
     ],
     "prompt_number": 53
    },
    {
     "cell_type": "markdown",
     "metadata": {},
     "source": [
      "#Enrichment"
     ]
    },
    {
     "cell_type": "code",
     "collapsed": false,
     "input": [
      "# enrichment?: maybe join in keywords and actors\n",
      "# enrichment might be a good guise for getting interesting data like people's names"
     ],
     "language": "python",
     "metadata": {},
     "outputs": []
    },
    {
     "cell_type": "markdown",
     "metadata": {},
     "source": [
      "###(store for convenience)"
     ]
    },
    {
     "cell_type": "code",
     "collapsed": false,
     "input": [
      "# save the movies so that you don't have to pull them all down each time\n",
      "pickle.dump(movies,open(\"movies.p\",\"wb\"))"
     ],
     "language": "python",
     "metadata": {},
     "outputs": [],
     "prompt_number": 54
    },
    {
     "cell_type": "code",
     "collapsed": false,
     "input": [
      "# load from saved movie set\n",
      "movies = pickle.load(open(\"movies.p\",\"rb\"))"
     ],
     "language": "python",
     "metadata": {},
     "outputs": [],
     "prompt_number": 55
    },
    {
     "cell_type": "markdown",
     "metadata": {},
     "source": [
      "#Transform"
     ]
    },
    {
     "cell_type": "code",
     "collapsed": false,
     "input": [
      "# transformation: make it ammenable to ES\n",
      "batch_size = 12\n",
      "num_batches = len(movies)/batch_size\n",
      "if len(movies)%batch_size != 0:\n",
      "    #then there's an additional partial batch to account for\n",
      "    num_batches += 1    \n",
      "\n",
      "batches = []\n",
      "for batch_num in xrange(num_batches):\n",
      "    movs = movies[batch_num*batch_size:(batch_num+1)*batch_size]\n",
      "    json_docs = []\n",
      "    for mov in movs:\n",
      "        mov_short = {}\n",
      "        mov_short[\"id\"] = mov[\"id\"]\n",
      "        mov_short[\"title\"] = mov[\"title\"]\n",
      "        mov_short[\"overview\"] = mov[\"overview\"]\n",
      "        mov_short[\"tagline\"] = mov[\"tagline\"]\n",
      "        mov_short[\"release_date\"] = mov[\"release_date\"]\n",
      "        mov_short[\"budget\"] = mov[\"budget\"]\n",
      "        mov_short[\"revenue\"] = mov[\"revenue\"]\n",
      "        mov_short[\"vote_count\"] = mov[\"vote_count\"]\n",
      "        mov_short[\"vote_average\"] = mov[\"vote_average\"]\n",
      "        mov_short[\"runtime\"] = mov[\"runtime\"]\n",
      "        mov_short[\"production_companies\"] = mov[\"production_companies\"]\n",
      "        mov_short[\"genres\"] = [genre[\"name\"] for genre in mov[\"genres\"]]\n",
      "        mov_short[\"production_companies\"] = [prod_co[\"name\"] for prod_co in mov[\"production_companies\"]]    \n",
      "\n",
      "        addCmd = {\"index\": {\"_index\": \"tmdb\", \"_type\": \"movie\", \"_id\": mov_short[\"id\"]}}\n",
      "        json_docs.append(json.dumps(addCmd))\n",
      "        json_docs.append(json.dumps(mov_short))\n",
      "    batches.append(\"\\n\".join(json_docs)+\"\\n\")"
     ],
     "language": "python",
     "metadata": {},
     "outputs": [],
     "prompt_number": 102
    },
    {
     "cell_type": "markdown",
     "metadata": {},
     "source": [
      "#Index"
     ]
    },
    {
     "cell_type": "code",
     "collapsed": false,
     "input": [
      "#set up index (analysis and mapping)\n",
      "#create index with analyzers\n",
      "#create mapping (drop _all, map fields to "
     ],
     "language": "python",
     "metadata": {},
     "outputs": [],
     "prompt_number": 86
    },
    {
     "cell_type": "code",
     "collapsed": false,
     "input": [
      "#index \n",
      "for batch in batches:\n",
      "    r = requests.post(elasticSearchUrl + \"/_bulk\", data=batch)\n"
     ],
     "language": "python",
     "metadata": {},
     "outputs": [],
     "prompt_number": 99
    },
    {
     "cell_type": "code",
     "collapsed": false,
     "input": [
      "mov_short"
     ],
     "language": "python",
     "metadata": {},
     "outputs": [
      {
       "metadata": {},
       "output_type": "pyout",
       "prompt_number": 100,
       "text": [
        "{'budget': 35000000,\n",
        " 'genres': [u'Comedy', u'Crime'],\n",
        " 'id': 51540,\n",
        " 'overview': u'For Nick (Jason Bateman), Kurt (Jason Sudeikis) and Dale (Charlie Day), the only thing that would make the daily grind more tolerable would be to grind their intolerable bosses (Kevin Spacey, Colin Farrell, Jennifer Aniston) into dust. Quitting is not an option, so, with the benefit of a few-too-many drinks and some dubious advice from a hustling ex-con (Jamie Foxx), the three friends devise a convoluted and seemingly foolproof plan to rid themselves of their respective employers... permanently.',\n",
        " 'production_companies': [u'New Line Cinema', u'Rat Entertainment'],\n",
        " 'release_date': u'2011-07-08',\n",
        " 'revenue': 117,\n",
        " 'runtime': 98,\n",
        " 'tagline': u'Ever wish your boss was dead?',\n",
        " 'title': u'Horrible Bosses',\n",
        " 'vote_average': 6.4,\n",
        " 'vote_count': 595}"
       ]
      }
     ],
     "prompt_number": 100
    },
    {
     "cell_type": "code",
     "collapsed": false,
     "input": [
      "print batches[0]"
     ],
     "language": "python",
     "metadata": {},
     "outputs": [
      {
       "output_type": "stream",
       "stream": "stdout",
       "text": [
        "{\"index\": {\"_type\": \"movie\", \"_id\": 24428, \"_index\": \"tmdb\"}}\n",
        "{\"genres\": [\"Action\", \"Adventure\", \"Science Fiction\"], \"production_companies\": [\"Paramount Pictures\", \"Marvel Studios\"], \"title\": \"The Avengers\", \"overview\": \"When an unexpected enemy emerges and threatens global safety and security, Nick Fury, director of the international peacekeeping agency known as S.H.I.E.L.D., finds himself in need of a team to pull the world back from the brink of disaster. Spanning the globe, a daring recruitment effort begins!\", \"release_date\": \"2012-05-04\", \"revenue\": 1518594910, \"budget\": 220000000, \"vote_count\": 6535, \"tagline\": \"Some assembly required.\", \"vote_average\": 7.2, \"runtime\": 143, \"id\": 24428}\n",
        "{\"index\": {\"_type\": \"movie\", \"_id\": 27205, \"_index\": \"tmdb\"}}\n",
        "{\"genres\": [\"Action\", \"Adventure\", \"Mystery\", \"Science Fiction\", \"Thriller\"], \"production_companies\": [\"Warner Bros.\", \"Legendary Pictures\", \"Syncopy\"], \"title\": \"Inception\", \"overview\": \"Cobb, a skilled thief who commits corporate espionage by infiltrating the subconscious of his targets is offered a chance to regain his old life as payment for a task considered to be impossible: \\\"inception\\\", the implantation of another person's idea into a target's subconscious.\", \"release_date\": \"2010-07-16\", \"revenue\": 825500000, \"budget\": 160000000, \"vote_count\": 6353, \"tagline\": \"Your mind is the scene of the crime.\", \"vote_average\": 7.6, \"runtime\": 148, \"id\": 27205}\n",
        "{\"index\": {\"_type\": \"movie\", \"_id\": 19995, \"_index\": \"tmdb\"}}\n",
        "{\"genres\": [\"Action\", \"Adventure\", \"Fantasy\", \"Science Fiction\"], \"production_companies\": [\"20th Century Fox\", \"Dune Entertainment\", \"Ingenious Film Partners\", \"Lightstorm Entertainment\"], \"title\": \"Avatar\", \"overview\": \"In the 22nd century, a paraplegic Marine is dispatched to the moon Pandora on a unique mission, but becomes torn between following orders and protecting an alien civilization.\", \"release_date\": \"2009-12-18\", \"revenue\": 2781505847, \"budget\": 237000000, \"vote_count\": 6075, \"tagline\": \"Enter the World of Pandora.\", \"vote_average\": 7.0, \"runtime\": 162, \"id\": 19995}\n",
        "{\"index\": {\"_type\": \"movie\", \"_id\": 155, \"_index\": \"tmdb\"}}\n",
        "{\"genres\": [\"Action\", \"Crime\", \"Drama\", \"Thriller\"], \"production_companies\": [\"Warner Bros. Pictures\", \"Legendary Pictures\", \"DC Comics\", \"Syncopy\"], \"title\": \"The Dark Knight\", \"overview\": \"Batman raises the stakes in his war on crime. With the help of Lt. Jim Gordon and District Attorney Harvey Dent, Batman sets out to dismantle the remaining criminal organizations that plague the streets. The partnership proves to be effective, but they soon find themselves prey to a reign of chaos unleashed by a rising criminal mastermind known to the terrified citizens of Gotham as the Joker.\", \"release_date\": \"2008-07-18\", \"revenue\": 1001921825, \"budget\": 185000000, \"vote_count\": 5306, \"tagline\": \"Why So Serious?\", \"vote_average\": 7.8, \"runtime\": 152, \"id\": 155}\n",
        "{\"index\": {\"_type\": \"movie\", \"_id\": 68721, \"_index\": \"tmdb\"}}\n",
        "{\"genres\": [\"Action\", \"Adventure\", \"Science Fiction\"], \"production_companies\": [\"Marvel Studios\", \"Paramount Pictures\", \"DMG Entertainment\"], \"title\": \"Iron Man 3\", \"overview\": \"The brash-but-brilliant industrialist Tony Stark faces an enemy whose reach knows no bounds. When Stark finds his personal world destroyed at his enemy\\u2019s hands, he embarks on a harrowing quest to find those responsible. This journey, at every turn, will test his mettle. With his back against the wall, Stark is left to survive by his own devices, relying on his ingenuity and instincts to protect those closest to him. As he fights his way back, Stark discovers the answer to the question that has secretly haunted him: does the man make the suit or does the suit make the man?\", \"release_date\": \"2013-05-03\", \"revenue\": 1215439994, \"budget\": 200000000, \"vote_count\": 5160, \"tagline\": \"Unleash the power behind the armor.\", \"vote_average\": 6.8, \"runtime\": 130, \"id\": 68721}\n",
        "{\"index\": {\"_type\": \"movie\", \"_id\": 70160, \"_index\": \"tmdb\"}}\n",
        "{\"genres\": [\"Adventure\", \"Fantasy\", \"Science Fiction\"], \"production_companies\": [\"Lionsgate\", \"Color Force\"], \"title\": \"The Hunger Games\", \"overview\": \"Every year in the ruins of what was once North America, the nation of Panem forces each of its twelve districts to send a teenage boy and girl to compete in the Hunger Games.  Part twisted entertainment, part government intimidation tactic, the Hunger Games are a nationally televised event in which \\u201cTributes\\u201d must fight with one another until one survivor remains.  Pitted against highly-trained Tributes who have prepared for these Games their entire lives, Katniss is forced to rely upon her sharp instincts as well as the mentorship of drunken former victor Haymitch Abernathy.  If she\\u2019s ever to return home to District 12, Katniss must make impossible choices in the arena that weigh survival against humanity and life against love. The world will be watching.\", \"release_date\": \"2012-03-23\", \"revenue\": 691210692, \"budget\": 75000000, \"vote_count\": 5016, \"tagline\": \"May The Odds Be Ever In Your Favor.\", \"vote_average\": 6.5, \"runtime\": 142, \"id\": 70160}\n",
        "{\"index\": {\"_type\": \"movie\", \"_id\": 68718, \"_index\": \"tmdb\"}}\n",
        "{\"genres\": [\"Drama\", \"Western\"], \"production_companies\": [\"The Weinstein Company\", \"Columbia Pictures\"], \"title\": \"Django Unchained\", \"overview\": \"With the help of a German bounty hunter, a freed slave sets out to rescue his wife from a brutal Mississippi plantation owner.\", \"release_date\": \"2012-12-25\", \"revenue\": 162805434, \"budget\": 100000000, \"vote_count\": 4918, \"tagline\": \"Life, liberty and the pursuit of vengeance.\", \"vote_average\": 7.4, \"runtime\": 165, \"id\": 68718}\n",
        "{\"index\": {\"_type\": \"movie\", \"_id\": 49051, \"_index\": \"tmdb\"}}\n",
        "{\"genres\": [\"Action\", \"Adventure\", \"Fantasy\"], \"production_companies\": [\"Metro-Goldwyn-Mayer (MGM)\", \"WingNut Films\", \"New Line Cinema\"], \"title\": \"The Hobbit: An Unexpected Journey\", \"overview\": \"Bilbo Baggins, a hobbit enjoying his quiet life, is swept into an epic quest by Gandalf the Grey and thirteen dwarves who seek to reclaim their mountain home from Smaug, the dragon.\", \"release_date\": \"2012-12-14\", \"revenue\": 1017003568, \"budget\": 250000000, \"vote_count\": 4803, \"tagline\": \"From the smallest beginnings come the greatest legends.\", \"vote_average\": 6.7, \"runtime\": 169, \"id\": 49051}\n",
        "{\"index\": {\"_type\": \"movie\", \"_id\": 49026, \"_index\": \"tmdb\"}}\n",
        "{\"genres\": [\"Action\", \"Crime\", \"Drama\", \"Thriller\"], \"production_companies\": [\"Syncopy\", \"Warner Bros.\", \"Legendary Pictures\", \"DC Entertainment\"], \"title\": \"The Dark Knight Rises\", \"overview\": \"Following the death of District Attorney Harvey Dent, Batman assumes responsibility for Dent's crimes to protect the late attorney's reputation and is subsequently hunted by the Gotham City Police Department. Eight years later, Batman encounters the mysterious Selina Kyle and the villainous Bane, a new terrorist leader who overwhelms Gotham's finest. The Dark Knight resurfaces to protect a city that has branded him an enemy.\", \"release_date\": \"2012-07-20\", \"revenue\": 1081041287, \"budget\": 250000000, \"vote_count\": 4706, \"tagline\": \"The Legend Ends\", \"vote_average\": 7.3, \"runtime\": 165, \"id\": 49026}\n",
        "{\"index\": {\"_type\": \"movie\", \"_id\": 37724, \"_index\": \"tmdb\"}}\n",
        "{\"genres\": [\"Action\", \"Adventure\", \"Thriller\"], \"production_companies\": [\"Eon Productions\", \"Danjaq\", \"B23\"], \"title\": \"Skyfall\", \"overview\": \"When Bond's latest assignment goes gravely wrong and agents around the world are exposed, MI6 is attacked forcing M to relocate the agency. These events cause her authority and position to be challenged by Gareth Mallory (Ralph Fiennes), the new Chairman of the Intelligence and Security Committee. With MI6 now compromised from both inside and out, M is left with one ally she can trust: Bond. 007 takes to the shadows - aided only by field agent, Eve (Naomie Harris) - following a trail to the mysterious Silva (Javier Bardem), whose lethal and hidden motives have yet to reveal themselves.\", \"release_date\": \"2012-11-10\", \"revenue\": 1108694081, \"budget\": 200000000, \"vote_count\": 4334, \"tagline\": \"Think on your sins.\", \"vote_average\": 6.6, \"runtime\": 143, \"id\": 37724}\n",
        "{\"index\": {\"_type\": \"movie\", \"_id\": 1726, \"_index\": \"tmdb\"}}\n",
        "{\"genres\": [\"Action\", \"Adventure\", \"Science Fiction\"], \"production_companies\": [\"Dark Blades Films\", \"Paramount Pictures\", \"Marvel Enterprises\", \"Marvel Studios\", \"Fairview Entertainment\"], \"title\": \"Iron Man\", \"overview\": \"After escaping from kidnappers using makeshift power armor, an ultra rich inventor and weapons maker turns his creation into a force for good by using it to fight crime. But his skills are stretched to the limit when he must face the evil Iron Monger.\", \"release_date\": \"2008-05-01\", \"revenue\": 585174222, \"budget\": 140000000, \"vote_count\": 4124, \"tagline\": \"Heroes aren't born. They're built.\", \"vote_average\": 7.1, \"runtime\": 126, \"id\": 1726}\n",
        "{\"index\": {\"_type\": \"movie\", \"_id\": 603, \"_index\": \"tmdb\"}}\n",
        "{\"genres\": [\"Action\", \"Adventure\", \"Science Fiction\", \"Thriller\"], \"production_companies\": [\"Silver Pictures\", \"Warner Bros.\", \"Village Roadshow Pictures\", \"Groucho II Film Partnership\"], \"title\": \"The Matrix\", \"overview\": \"Thomas A. Anderson is a man living two lives. By day he is an average computer programmer and by night a malevolent hacker known as Neo, who finds himself targeted by the police when he is contacted by Morpheus, a legendary computer hacker, who reveals the shocking truth about our reality.\", \"release_date\": \"1999-03-30\", \"revenue\": 463517383, \"budget\": 63000000, \"vote_count\": 4101, \"tagline\": \"Welcome to the Real World.\", \"vote_average\": 7.6, \"runtime\": 136, \"id\": 603}\n",
        "\n"
       ]
      }
     ],
     "prompt_number": 105
    },
    {
     "cell_type": "code",
     "collapsed": false,
     "input": [],
     "language": "python",
     "metadata": {},
     "outputs": []
    }
   ],
   "metadata": {}
  }
 ]
}