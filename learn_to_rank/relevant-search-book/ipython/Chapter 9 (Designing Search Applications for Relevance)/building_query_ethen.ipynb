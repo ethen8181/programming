{
 "cells": [
  {
   "cell_type": "markdown",
   "metadata": {
    "toc": true
   },
   "source": [
    "<h1>Table of Contents<span class=\"tocSkip\"></span></h1>\n",
    "<div class=\"toc\"><ul class=\"toc-item\"><li><span><a href=\"#Gather-information-&amp;-requirements.\" data-toc-modified-id=\"Gather-information-&amp;-requirements.-1\"><span class=\"toc-item-num\">1&nbsp;&nbsp;</span>Gather information &amp; requirements.</a></span></li><li><span><a href=\"#Designing-Search-Experience\" data-toc-modified-id=\"Designing-Search-Experience-2\"><span class=\"toc-item-num\">2&nbsp;&nbsp;</span>Designing Search Experience</a></span></li><li><span><a href=\"#Deploy,-Monitor-&amp;-Improve\" data-toc-modified-id=\"Deploy,-Monitor-&amp;-Improve-3\"><span class=\"toc-item-num\">3&nbsp;&nbsp;</span>Deploy, Monitor &amp; Improve</a></span></li></ul></div>"
   ]
  },
  {
   "cell_type": "markdown",
   "metadata": {},
   "source": [
    "## Gather information & requirements."
   ]
  },
  {
   "cell_type": "markdown",
   "metadata": {},
   "source": [
    "Both from a user perspective and business perspective.\n",
    "\n",
    "- List down user personas and ask ourselves what type of information will we need to answer all of our users' questions and where will we get this information.\n",
    "- Understanding what business needs."
   ]
  },
  {
   "cell_type": "markdown",
   "metadata": {},
   "source": [
    "## Designing Search Experience"
   ]
  },
  {
   "cell_type": "markdown",
   "metadata": {},
   "source": [
    "Our two main goal for search is:\n",
    "\n",
    "1. return results that fulfill the user's request for the information that they are looking for as quickly as possible.\n",
    "2. provide them with relevance feedback.\n",
    "\n",
    "During this process it will be useful to classify our base signals into groups, by doing so, it will simplify to process of balancing the relevance scores between various signals.\n",
    "\n",
    "As we start building various sub-queries, it's important to test each query in isolation first before combing various pieces into an overarching query. That way we can later focus on the high-level signal rather than worrying about the base signals.\n",
    "\n",
    "We can use human judgement/feedback to rate the results we're returning. Once the search result is deployed, we also have access to user behavior from the search logs that reflects the quality of our search application."
   ]
  },
  {
   "cell_type": "markdown",
   "metadata": {},
   "source": [
    "## Deploy, Monitor & Improve"
   ]
  },
  {
   "cell_type": "markdown",
   "metadata": {},
   "source": [
    "After our application is deployed there are several metrics that we can track:\n",
    "\n",
    "- Time On Page.\n",
    "- Click Through Rate\n",
    "- Conversion Rate\n",
    "- Retention - If the user comes back to our service regularly, then they are finding it useful.\n",
    "- Deep Paging - If users regularly needs to go to the second or third page, this may be a symptom of a relevance problem. Why aren't the ideal results on the first page.\n",
    "- Number of reformatting - Did you user change their search several times in a row.\n",
    "\n",
    "Whatever metrics we use, the absolute value is often times less important than the change in value overtime. If we see an unexpected degradation in metrics, then we should try and see if there's an underlying problem (e.g. some queries are leading to bad results, e.g. people search for french restaurants such the search results contain fast food restaurant because of french fries)."
   ]
  }
 ],
 "metadata": {
  "kernelspec": {
   "display_name": "Python 3",
   "language": "python",
   "name": "python3"
  },
  "language_info": {
   "codemirror_mode": {
    "name": "ipython",
    "version": 3
   },
   "file_extension": ".py",
   "mimetype": "text/x-python",
   "name": "python",
   "nbconvert_exporter": "python",
   "pygments_lexer": "ipython3",
   "version": "3.6.4"
  },
  "toc": {
   "nav_menu": {},
   "number_sections": true,
   "sideBar": true,
   "skip_h1_title": false,
   "title_cell": "Table of Contents",
   "title_sidebar": "Contents",
   "toc_cell": true,
   "toc_position": {
    "height": "calc(100% - 180px)",
    "left": "10px",
    "top": "150px",
    "width": "273px"
   },
   "toc_section_display": true,
   "toc_window_display": true
  },
  "varInspector": {
   "cols": {
    "lenName": 16,
    "lenType": 16,
    "lenVar": 40
   },
   "kernels_config": {
    "python": {
     "delete_cmd_postfix": "",
     "delete_cmd_prefix": "del ",
     "library": "var_list.py",
     "varRefreshCmd": "print(var_dic_list())"
    },
    "r": {
     "delete_cmd_postfix": ") ",
     "delete_cmd_prefix": "rm(",
     "library": "var_list.r",
     "varRefreshCmd": "cat(var_dic_list()) "
    }
   },
   "types_to_exclude": [
    "module",
    "function",
    "builtin_function_or_method",
    "instance",
    "_Feature"
   ],
   "window_display": false
  }
 },
 "nbformat": 4,
 "nbformat_minor": 2
}
