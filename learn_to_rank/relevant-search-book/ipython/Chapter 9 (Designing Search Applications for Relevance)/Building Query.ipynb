{
 "cells": [
  {
   "cell_type": "code",
   "execution_count": 1196,
   "metadata": {
    "collapsed": false
   },
   "outputs": [],
   "source": [
    "from pprint import pprint \n",
    "\n",
    "from elasticsearch import Elasticsearch\n",
    "\n",
    "es = Elasticsearch()\n",
    "\n",
    "# names\n",
    "yowl = 'yowl'\n",
    "restaurant = 'restaurant'\n",
    "\n",
    "location = 'location'\n",
    "name = 'name'\n",
    "cuisine_high_q = 'cuisine_high_q'\n",
    "cuisine_low_q = 'cuisine_low_q'\n",
    "menu = 'menu'\n",
    "description = 'description'\n",
    "price = 'price'\n",
    "rating = 'rating'\n",
    "has_discount = 'has_discount'\n",
    "promoted = 'promoted'\n",
    "engaged = 'engaged'\n",
    "\n",
    "apples_bees = 'apples bees'\n",
    "burger_kink = 'burger kink'\n",
    "pizza_hit = 'pizza hit'\n",
    "taco_belly = 'taco belly'\n",
    "wednesdays = 'wednesdays'\n",
    "\n",
    "def recreate_index():\n",
    "    \n",
    "    try:\n",
    "        es.indices.delete(yowl)\n",
    "    except:\n",
    "        pass\n",
    "\n",
    "    body = {\n",
    "        'settings': {\n",
    "            # just one shard, no replicas for testing\n",
    "            'number_of_shards': 1,\n",
    "            'number_of_replicas': 0,\n",
    "        },\n",
    "        \"mappings\": {\n",
    "            restaurant: {\n",
    "                \"properties\": {\n",
    "                    location: {\n",
    "                        \"type\": \"geo_point\"\n",
    "                    }\n",
    "                }\n",
    "            }\n",
    "        }\n",
    "    }\n",
    "    es.indices.create(yowl, body)\n",
    "\n",
    "def index_docs(docs):\n",
    "    recreate_index()\n",
    "    for doc in docs:\n",
    "        es.index(yowl,restaurant,doc)\n",
    "    es.indices.flush(yowl)\n",
    "    \n",
    "def search(query):\n",
    "    docs = es.search(yowl, restaurant, query)['hits']['hits']\n",
    "    docs = [dict(name=doc['_source']['name'],score=doc['_score']) for doc in docs]\n",
    "    pprint(docs)\n",
    "    return docs\n",
    "    \n",
    "def assert_in(query, names):\n",
    "    \"\"\"\n",
    "    asserts all named restaurants are in the results\n",
    "    \"\"\"\n",
    "    if isinstance(names,basestring):\n",
    "        names = [names]\n",
    "    result = es.search(yowl,restaurant,body=query)\n",
    "    docs = result['hits']['hits']\n",
    "    names_in_result = [ doc['_source']['name'] for doc in docs]\n",
    "    for name in names:\n",
    "        assert name in names_in_result\n",
    "        \n",
    "def assert_not_in(query, names):\n",
    "    \"\"\"\n",
    "    asserts all named restaurants are in the results\n",
    "    \"\"\"\n",
    "    if isinstance(names,basestring):\n",
    "        names = [names]\n",
    "    result = es.search(yowl,restaurant,body=query)\n",
    "    docs = result['hits']['hits']\n",
    "    names_in_result = [ doc['_source']['name'] for doc in docs]\n",
    "    for name in names:\n",
    "        assert not name in names_in_result\n",
    "        \n",
    "def assert_first(query, name):\n",
    "    \"\"\"\n",
    "    asserts all named restaurants are in the results\n",
    "    \"\"\"\n",
    "    result = es.search(yowl,restaurant,body=query)\n",
    "    docs = result['hits']['hits']\n",
    "    first_name = docs[0]['_source']['name']\n",
    "    assert name == first_name\n"
   ]
  },
  {
   "cell_type": "code",
   "execution_count": 1204,
   "metadata": {
    "collapsed": true
   },
   "outputs": [],
   "source": [
    "index_docs([\n",
    "    {  # strong in content, weak in location and business\n",
    "        name: pizza_hit,\n",
    "        location: {\n",
    "            'lat': 36.06,\n",
    "            'lon': -86.84\n",
    "        },\n",
    "        price: 'D',\n",
    "        rating: 'S',\n",
    "        description: 'pizza! pizza! pizza!',\n",
    "        cuisine_high_q: 'italian, pizza',\n",
    "        cuisine_low_q: 'pizza',\n",
    "        engaged: True,\n",
    "    },\n",
    "    {  # strong in location, weak in content and business\n",
    "        name: taco_belly,\n",
    "        location: {\n",
    "            'lat': 36.154547,\n",
    "            'lon': -86.782277\n",
    "        },\n",
    "        price: 'D',\n",
    "        rating: 'S',\n",
    "        description: 'we sell tacos and carbonated beverages - sometimes we sell pizza',\n",
    "        cuisine_low_q: 'mexican, fastfood',\n",
    "        engaged: True,\n",
    "    },\n",
    "    {  # strong in business, weak in location and content\n",
    "        name: burger_kink,\n",
    "        location: {\n",
    "            'lat': 36.06,\n",
    "            'lon': -86.84\n",
    "        },\n",
    "        price: 'D',\n",
    "        rating: 'S',\n",
    "        description: 'burgers and rarely we also have pizza - hey, but it\\'s good!',\n",
    "        cuisine_low_q: 'fastfood, american',\n",
    "        has_discount: True,\n",
    "        promoted: True,\n",
    "        engaged: True,\n",
    "    },\n",
    "    {  # doesn't match\n",
    "        name: apples_bees,\n",
    "        location: {\n",
    "            'lat': 30.154547,\n",
    "            'lon': -80.782277\n",
    "        },\n",
    "        price: 'DD',\n",
    "        rating: 'SSS',\n",
    "        description: 'no wedge shaped food here',\n",
    "        cuisine_low_q: 'american',\n",
    "        has_discount: True,\n",
    "        promoted: True,\n",
    "        engaged: True,\n",
    "    }\n",
    "])"
   ]
  },
  {
   "cell_type": "markdown",
   "metadata": {},
   "source": [
    "### Content"
   ]
  },
  {
   "cell_type": "code",
   "execution_count": 1205,
   "metadata": {
    "collapsed": false
   },
   "outputs": [
    {
     "name": "stdout",
     "output_type": "stream",
     "text": [
      "[{'name': u'pizza hit', 'score': 1.5118824},\n",
      " {'name': u'taco belly', 'score': 0.017503675},\n",
      " {'name': u'burger kink', 'score': 0.014002941}]\n"
     ]
    }
   ],
   "source": [
    "query = {\n",
    "    'query': {\n",
    "        'multi_match': {\n",
    "            'query': 'pizza',\n",
    "            'fields': ['name^10', 'cuisine_high_q^10', 'cuisine_low_q^4', 'menu^2', 'description^1'],\n",
    "            'tie_breaker': 0.3,\n",
    "        },\n",
    "    }\n",
    "}\n",
    "search(query);"
   ]
  },
  {
   "cell_type": "markdown",
   "metadata": {},
   "source": [
    "### Customer Preferences"
   ]
  },
  {
   "cell_type": "code",
   "execution_count": 1211,
   "metadata": {
    "collapsed": false
   },
   "outputs": [
    {
     "name": "stdout",
     "output_type": "stream",
     "text": [
      "[{'name': u'pizza hit', 'score': 0.0},\n",
      " {'name': u'taco belly', 'score': 0.0},\n",
      " {'name': u'burger kink', 'score': 0.0}]\n"
     ]
    }
   ],
   "source": [
    "query = { \n",
    "    'query': {\n",
    "        'bool': {\n",
    "            'filter': [\n",
    "                {'match':{\n",
    "                    price: 'D',\n",
    "                }},\n",
    "                {'match':{\n",
    "                    rating: 'S',\n",
    "                }}\n",
    "            ]\n",
    "        }\n",
    "    }\n",
    "}\n",
    "search(query);"
   ]
  },
  {
   "cell_type": "markdown",
   "metadata": {},
   "source": [
    "### Location"
   ]
  },
  {
   "cell_type": "code",
   "execution_count": 1200,
   "metadata": {
    "collapsed": false
   },
   "outputs": [
    {
     "name": "stdout",
     "output_type": "stream",
     "text": [
      "[{'name': u'pizza hit', 'score': 1.0},\n",
      " {'name': u'taco belly', 'score': 1.0},\n",
      " {'name': u'burger kink', 'score': 1.0}]\n"
     ]
    }
   ],
   "source": [
    "query = {\n",
    "    'filter': {\n",
    "        'geo_bounding_box': { \n",
    "            location: {\n",
    "                'top_left': {\n",
    "                    'lat': 36.35,\n",
    "                    'lon': -86.88,\n",
    "                },\n",
    "                'bottom_right': {\n",
    "                    'lat': 36.05,\n",
    "                    'lon': -86.68,\n",
    "                }\n",
    "            } \n",
    "        }\n",
    "    }\n",
    "}\n",
    "search(query);"
   ]
  },
  {
   "cell_type": "code",
   "execution_count": 1201,
   "metadata": {
    "collapsed": false
   },
   "outputs": [
    {
     "name": "stdout",
     "output_type": "stream",
     "text": [
      "[{'name': u'taco belly', 'score': 1.0},\n",
      " {'name': u'pizza hit', 'score': 0.38580385},\n",
      " {'name': u'burger kink', 'score': 0.38580385},\n",
      " {'name': u'apples bees', 'score': 0.0}]\n"
     ]
    }
   ],
   "source": [
    "# boost\n",
    "query = {\n",
    "    'query': {\n",
    "        'function_score': {\n",
    "            'functions': [{\n",
    "                'gauss': {\n",
    "                    location: { \n",
    "                        'origin': {\n",
    "                                'lat': 36.154547,\n",
    "                                'lon': -86.782277\n",
    "                        },\n",
    "                        'offset': '0km',\n",
    "                        'scale':  '10km'\n",
    "                    }\n",
    "                }\n",
    "            }\n",
    "        ]}\n",
    "    }\n",
    "}\n",
    "search(query);"
   ]
  },
  {
   "cell_type": "markdown",
   "metadata": {},
   "source": [
    "### Business"
   ]
  },
  {
   "cell_type": "code",
   "execution_count": 1208,
   "metadata": {
    "collapsed": false
   },
   "outputs": [
    {
     "name": "stdout",
     "output_type": "stream",
     "text": [
      "[{'name': u'burger kink', 'score': 1.0},\n",
      " {'name': u'apples bees', 'score': 1.0},\n",
      " {'name': u'pizza hit', 'score': 0.2},\n",
      " {'name': u'taco belly', 'score': 0.2}]\n"
     ]
    }
   ],
   "source": [
    "query = {\n",
    "    'query': {\n",
    "        'function_score': {\n",
    "            'functions': [{\n",
    "                'filter': {\n",
    "                    'bool': {\n",
    "                        'should': [\n",
    "                            { 'term': { has_discount: True }},\n",
    "                            { 'term': { promoted: True }},\n",
    "                            { 'term': { engaged: True }},                        \n",
    "                        ]\n",
    "                    }\n",
    "                },\n",
    "                'script_score' : {\n",
    "                    'script': \"\"\"\n",
    "                        0.3*doc['has_discount'].value +\n",
    "                        0.5*doc['promoted'].value +\n",
    "                        0.2*doc['engaged'].value\n",
    "                    \"\"\"\n",
    "                }\n",
    "            }]\n",
    "        }\n",
    "    }\n",
    "}\n",
    "search(query);"
   ]
  },
  {
   "cell_type": "markdown",
   "metadata": {},
   "source": [
    "### Combined"
   ]
  },
  {
   "cell_type": "code",
   "execution_count": 1216,
   "metadata": {
    "collapsed": false
   },
   "outputs": [
    {
     "name": "stdout",
     "output_type": "stream",
     "text": [
      "[{'name': u'pizza hit', 'score': 0.2143936},\n",
      " {'name': u'taco belly', 'score': 0.022148103},\n",
      " {'name': u'burger kink', 'score': 0.014803776}]\n"
     ]
    }
   ],
   "source": [
    "query = {\n",
    "    'filter': {\n",
    "        'bool': {\n",
    "            'filter': [\n",
    "                { # location filter\n",
    "                    'geo_bounding_box': { \n",
    "                        location: {\n",
    "                            'top_left': {\n",
    "                                'lat': 36.35,\n",
    "                                'lon': -86.88,\n",
    "                            },\n",
    "                            'bottom_right': {\n",
    "                                'lat': 36.05,\n",
    "                                'lon': -86.68,\n",
    "                            }\n",
    "                        } \n",
    "                    }\n",
    "                },\n",
    "                { # customer preference\n",
    "                    'match':{\n",
    "                        'price': 'D',\n",
    "                }},\n",
    "                { # customer preference\n",
    "                    'match':{\n",
    "                        'rating': 'S',\n",
    "                }}\n",
    "            ]}\n",
    "    },\n",
    "    'query': {\n",
    "        'function_score': {\n",
    "            'score_mode': 'sum',\n",
    "            'query': { # content\n",
    "                'multi_match': {\n",
    "                    'query': 'pizza',\n",
    "                    'fields': ['name^10', 'cuisine_high_q^10', 'cuisine_low_q^4', 'menu^2', 'description^1'],\n",
    "                },\n",
    "            },\n",
    "            'functions': [\n",
    "                { # business concerns\n",
    "                    'weight': 1,\n",
    "                    'filter': {\n",
    "                        'bool': {\n",
    "                            'should': [\n",
    "                                { 'term': { has_discount: True }},\n",
    "                                { 'term': { promoted: True }},\n",
    "                                { 'term': { engaged: True }},                        \n",
    "                            ]\n",
    "                        }\n",
    "                    },\n",
    "                    'script_score' : {\n",
    "                        'script': \"\"\"\n",
    "                            0.3*doc['has_discount'].value +\n",
    "                            0.5*doc['promoted'].value +\n",
    "                            0.2*doc['engaged'].value\n",
    "                        \"\"\"\n",
    "                    }\n",
    "                },\n",
    "                { # location\n",
    "                    'weight': 1,\n",
    "                    'gauss': {\n",
    "                        'location': { \n",
    "                            'origin': {\n",
    "                                    'lat': 36.154547,\n",
    "                                    'lon': -86.782277\n",
    "                            },\n",
    "                            'offset': '0km',\n",
    "                            'scale':  '4km', \n",
    "                        }\n",
    "                    },\n",
    "                },\n",
    "                { # content weight\n",
    "                    'weight': 0\n",
    "                }\n",
    "            ]\n",
    "        }\n",
    "    }\n",
    "}\n",
    "search(query);"
   ]
  },
  {
   "cell_type": "code",
   "execution_count": null,
   "metadata": {
    "collapsed": true
   },
   "outputs": [],
   "source": []
  }
 ],
 "metadata": {
  "kernelspec": {
   "display_name": "Python 2",
   "language": "python",
   "name": "python2"
  },
  "language_info": {
   "codemirror_mode": {
    "name": "ipython",
    "version": 2
   },
   "file_extension": ".py",
   "mimetype": "text/x-python",
   "name": "python",
   "nbconvert_exporter": "python",
   "pygments_lexer": "ipython2",
   "version": "2.7.6"
  }
 },
 "nbformat": 4,
 "nbformat_minor": 0
}
