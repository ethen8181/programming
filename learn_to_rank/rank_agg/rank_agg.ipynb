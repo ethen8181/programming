{
 "cells": [
  {
   "cell_type": "markdown",
   "metadata": {
    "toc": true
   },
   "source": [
    "<h1>Table of Contents<span class=\"tocSkip\"></span></h1>\n",
    "<div class=\"toc\"><ul class=\"toc-item\"></ul></div>"
   ]
  },
  {
   "cell_type": "code",
   "execution_count": 1,
   "metadata": {},
   "outputs": [
    {
     "name": "stdout",
     "output_type": "stream",
     "text": [
      "Ethen 2019-02-28 19:24:47 \n",
      "\n",
      "CPython 3.6.4\n",
      "IPython 6.4.0\n",
      "\n",
      "numpy 1.14.2\n",
      "pandas 0.23.4\n",
      "sklearn 0.20.2\n",
      "matplotlib 2.2.3\n"
     ]
    }
   ],
   "source": [
    "# 1. magic for inline plot\n",
    "# 2. magic to print version\n",
    "# 3. magic so that the notebook will reload external python modules\n",
    "# 4. magic to enable retina (high resolution) plots\n",
    "# https://gist.github.com/minrk/3301035\n",
    "%matplotlib inline\n",
    "%load_ext watermark\n",
    "%load_ext autoreload\n",
    "%autoreload 2\n",
    "%config InlineBackend.figure_format='retina'\n",
    "\n",
    "import numpy as np\n",
    "import pandas as pd\n",
    "import matplotlib.pyplot as plt\n",
    "from sklearn.model_selection import train_test_split\n",
    "\n",
    "# change default style figure and font size\n",
    "plt.rcParams['figure.figsize'] = 8, 6\n",
    "plt.rcParams['font.size'] = 12\n",
    "\n",
    "%watermark -a 'Ethen' -d -t -v -p numpy,pandas,sklearn,matplotlib"
   ]
  },
  {
   "cell_type": "markdown",
   "metadata": {},
   "source": [
    "- https://vene.ro/blog/kemeny-young-optimal-rank-aggregation-in-python.html\n",
    "- http://www.aaai.org/Papers/AAAI/2006/AAAI06-099.pdf\n",
    "- https://github.com/ethen8181/programming/blob/master/OR/OR_starter.ipynb\n",
    "\n",
    "- The Athletic Wizard: Alicia Spinnet, Ginny Weasley, Gwendolyn Morgan, Robin Higgy, Debbie Muntz \n",
    "- The Daily Prophet: Alicia, Ginny, Robin, Gwendolyn, Debbie \n",
    "- Quidditch News: Robin, Ginny, Gwendolyn, Debbie, Alicia \n",
    "- Seeker Weekly: Gwendolyn, Ginny, Robin, Debbie, Alicia \n",
    "- The Quibbler: Debbie, Ginny, Robin, Gwendolyn, Alicia"
   ]
  },
  {
   "cell_type": "code",
   "execution_count": 2,
   "metadata": {},
   "outputs": [],
   "source": [
    "cols = \"Alicia Ginny Gwendolyn Robin Debbie\".split()\n",
    "\n",
    "ranks = np.array([[0, 1, 2, 3, 4],\n",
    "                  [0, 1, 3, 2, 4],\n",
    "                  [3, 1, 2, 4, 0],\n",
    "                  [1, 2, 3, 4, 0],\n",
    "                  [4, 1, 3, 2, 0]])\n",
    "\n",
    "# ranks = np.array([[0, 1, 2, 3, 4],\n",
    "#                   [0, 1, 3, 2, 4],\n",
    "#                   [4, 1, 2, 0, 3],\n",
    "#                   [4, 1, 0, 2, 3],\n",
    "#                   [4, 1, 3, 2, 0]])"
   ]
  },
  {
   "cell_type": "markdown",
   "metadata": {},
   "source": [
    "The Kendall tau distance between two ranked lists is defined as the number of pairwise disagreements in the relative rankings of items in the two lists."
   ]
  },
  {
   "cell_type": "code",
   "execution_count": 3,
   "metadata": {},
   "outputs": [
    {
     "data": {
      "text/plain": [
       "4"
      ]
     },
     "execution_count": 3,
     "metadata": {},
     "output_type": "execute_result"
    }
   ],
   "source": [
    "from itertools import combinations\n",
    "\n",
    "\n",
    "def kendall_tau_dist(rank1, rank2):\n",
    "    tau = 0\n",
    "    n_candidates = len(rank1)\n",
    "    for i, j in combinations(range(n_candidates), 2):\n",
    "        tau += np.sign(rank1[i] - rank1[j]) == np.sign(rank2[j] - rank2[i])\n",
    "\n",
    "    return tau\n",
    "\n",
    "\n",
    "kendall_tau_dist(ranks[0], ranks[3])"
   ]
  },
  {
   "cell_type": "code",
   "execution_count": 4,
   "metadata": {},
   "outputs": [
    {
     "data": {
      "text/plain": [
       "4"
      ]
     },
     "execution_count": 4,
     "metadata": {},
     "output_type": "execute_result"
    }
   ],
   "source": [
    "def kendall_tau_distance(s,t):\n",
    "    \"\"\"\n",
    "    Computes the Kendall tau distance between two full lists of ranks,\n",
    "    which counts all discordant pairs (where s(i) < s(j) but t(i) > t(j),\n",
    "    or vice versa) and divides by:\n",
    "            k*(k-1)/2\n",
    "    This is a slow version of the distance; a faster version can be\n",
    "    implemented using a version of merge sort (TODO).\n",
    "    s,t should be array-like (lists are OK).\n",
    "    If s,t are *not* full, this function should not be used.\n",
    "    \"\"\"\n",
    "    numDiscordant = 0\n",
    "    for i in range(0,len(s)):\n",
    "        for j in range(i+1,len(t)):\n",
    "            if (s[i] < s[j] and t[i] > t[j]):# or (s[i] > s[j] and t[i] < t[j]):\n",
    "                numDiscordant += 1\n",
    "    return numDiscordant# 2.0*numDiscordant/(len(s)*(len(s)-1))\n",
    "\n",
    "\n",
    "kendall_tau_distance(ranks[0], ranks[3])"
   ]
  },
  {
   "cell_type": "markdown",
   "metadata": {},
   "source": [
    "Now that we have a distance metric, we can formulate a loss function to minimize in rank-space. We are looking for a ranking $\\hat\\tau$ that satisfies\n",
    "\n",
    "\\begin{align}\n",
    "\\sum_i d(\\hat\\tau, \\tau_i) \\leq \\sum_i d(\\tau, \\tau_i) \\text{ for all } \\tau\n",
    "\\end{align}"
   ]
  },
  {
   "cell_type": "code",
   "execution_count": 5,
   "metadata": {},
   "outputs": [],
   "source": [
    "from itertools import permutations\n",
    "\n",
    "\n",
    "def rank_agg_brute(ranks):\n",
    "    min_dist = np.inf\n",
    "    best_rank = None\n",
    "    n_candidates = ranks.shape[1]\n",
    "    \n",
    "    count = 0\n",
    "    for candidate_rank in permutations(range(n_candidates)):\n",
    "        dist = np.sum(kendall_tau_dist(candidate_rank, rank) for rank in ranks)\n",
    "        if dist < min_dist:\n",
    "            min_dist = dist\n",
    "            best_rank = candidate_rank\n",
    "            \n",
    "            \n",
    "        count += 1\n",
    "    \n",
    "    return min_dist, best_rank"
   ]
  },
  {
   "cell_type": "code",
   "execution_count": 6,
   "metadata": {},
   "outputs": [
    {
     "name": "stdout",
     "output_type": "stream",
     "text": [
      "best dist:  15\n",
      "best rank:  (1, 2, 3, 4, 0)\n",
      "best rank name:  ['Ginny', 'Gwendolyn', 'Robin', 'Debbie', 'Alicia']\n"
     ]
    }
   ],
   "source": [
    "best_dist, best_rank = rank_agg_brute(ranks)\n",
    "best_rank_name = [cols[i] for i in best_rank]\n",
    "\n",
    "print('best dist: ', best_dist)\n",
    "print('best rank: ', best_rank)\n",
    "print('best rank name: ', best_rank_name)"
   ]
  },
  {
   "cell_type": "code",
   "execution_count": 9,
   "metadata": {},
   "outputs": [
    {
     "data": {
      "text/plain": [
       "array([[0, 1, 1, 3, 0],\n",
       "       [0, 0, 5, 5, 0],\n",
       "       [0, 0, 0, 1, 0],\n",
       "       [0, 0, 0, 0, 0],\n",
       "       [1, 1, 1, 1, 0]])"
      ]
     },
     "execution_count": 9,
     "metadata": {},
     "output_type": "execute_result"
    }
   ],
   "source": [
    "def build_graph(ranks):\n",
    "    n_voters, n_candidates = ranks.shape\n",
    "    edge_weights = np.zeros((n_candidates, n_candidates), np.int)\n",
    "    for i, j in combinations(range(n_candidates), 2):\n",
    "        preference = ranks[:, i] - ranks[:, j]\n",
    "        prefer_i_over_j = np.sum(preference < 0)\n",
    "        prefer_j_over_i = np.sum(preference > 0)\n",
    "        if prefer_i_over_j > prefer_j_over_i:\n",
    "            edge_weights[i, j] = prefer_i_over_j - prefer_j_over_i\n",
    "        elif prefer_i_over_j < prefer_j_over_i:\n",
    "            edge_weights[j, i] = prefer_j_over_i - prefer_i_over_j\n",
    "        # draw no edge if equivalent preference\n",
    "\n",
    "    return edge_weights\n",
    "\n",
    "\n",
    "build_graph(ranks)"
   ]
  },
  {
   "cell_type": "code",
   "execution_count": null,
   "metadata": {},
   "outputs": [],
   "source": []
  },
  {
   "cell_type": "code",
   "execution_count": 10,
   "metadata": {},
   "outputs": [
    {
     "ename": "ModuleNotFoundError",
     "evalue": "No module named 'lp_solve'",
     "output_type": "error",
     "traceback": [
      "\u001b[0;31m---------------------------------------------------------------------------\u001b[0m",
      "\u001b[0;31mModuleNotFoundError\u001b[0m                       Traceback (most recent call last)",
      "\u001b[0;32m<ipython-input-10-07bf93afc4ac>\u001b[0m in \u001b[0;36m<module>\u001b[0;34m()\u001b[0m\n\u001b[0;32m----> 1\u001b[0;31m \u001b[0;32mfrom\u001b[0m \u001b[0mlp_solve\u001b[0m \u001b[0;32mimport\u001b[0m \u001b[0mlp_solve\u001b[0m\u001b[0;34m\u001b[0m\u001b[0m\n\u001b[0m\u001b[1;32m      2\u001b[0m \u001b[0;34m\u001b[0m\u001b[0m\n\u001b[1;32m      3\u001b[0m \u001b[0;32mdef\u001b[0m \u001b[0mrankaggr_lp\u001b[0m\u001b[0;34m(\u001b[0m\u001b[0mranks\u001b[0m\u001b[0;34m)\u001b[0m\u001b[0;34m:\u001b[0m\u001b[0;34m\u001b[0m\u001b[0m\n\u001b[1;32m      4\u001b[0m     \u001b[0;34m\"\"\"Kemeny-Young optimal rank aggregation\"\"\"\u001b[0m\u001b[0;34m\u001b[0m\u001b[0m\n\u001b[1;32m      5\u001b[0m \u001b[0;34m\u001b[0m\u001b[0m\n",
      "\u001b[0;31mModuleNotFoundError\u001b[0m: No module named 'lp_solve'"
     ]
    }
   ],
   "source": [
    "from lp_solve import lp_solve\n",
    "\n",
    "def rankaggr_lp(ranks):\n",
    "    \"\"\"Kemeny-Young optimal rank aggregation\"\"\"\n",
    "\n",
    "    n_voters, n_candidates = ranks.shape\n",
    "    \n",
    "    # maximize c.T * x\n",
    "    edge_weights = _build_graph(ranks)\n",
    "    c = -1 * edge_weights.ravel()  \n",
    "\n",
    "    idx = lambda i, j: n_candidates * i + j\n",
    "\n",
    "    # constraints for every pair\n",
    "    pairwise_constraints = np.zeros(((n_candidates * (n_candidates - 1)) / 2,\n",
    "                                     n_candidates ** 2))\n",
    "    for row, (i, j) in zip(pairwise_constraints,\n",
    "                           combinations(range(n_candidates), 2)):\n",
    "        row[[idx(i, j), idx(j, i)]] = 1\n",
    "\n",
    "    # and for every cycle of length 3\n",
    "    triangle_constraints = np.zeros(((n_candidates * (n_candidates - 1) *\n",
    "                                     (n_candidates - 2)),\n",
    "                                     n_candidates ** 2))\n",
    "    for row, (i, j, k) in zip(triangle_constraints,\n",
    "                              permutations(range(n_candidates), 3)):\n",
    "        row[[idx(i, j), idx(j, k), idx(k, i)]] = 1\n",
    "\n",
    "    constraints = np.vstack([pairwise_constraints, triangle_constraints])\n",
    "    constraint_rhs = np.hstack([np.ones(len(pairwise_constraints)),\n",
    "                                np.ones(len(triangle_constraints))])\n",
    "    constraint_signs = np.hstack([np.zeros(len(pairwise_constraints)),  # ==\n",
    "                                  np.ones(len(triangle_constraints))])  # >=\n",
    "\n",
    "    obj, x, duals = lp_solve(c, constraints, constraint_rhs, constraint_signs,\n",
    "                             xint=range(1, 1 + n_candidates ** 2))\n",
    "\n",
    "    x = np.array(x).reshape((n_candidates, n_candidates))\n",
    "    aggr_rank = x.sum(axis=1)\n",
    "\n",
    "    return obj, aggr_rank"
   ]
  },
  {
   "cell_type": "markdown",
   "metadata": {},
   "source": [
    "Borda’s Method:\n",
    "\n",
    "(1) Voters rank the entire list of candidates from first choice to last choice.\n",
    "\n",
    "(2) For each ballot, the lowest rank candidate is given 1 point, the second lowest 2\n",
    "points, and so on until the highest ranked candidate is given a number of points\n",
    "equal to the number of candidates.\n",
    "\n",
    "(3) The total number of points for each candidate is summed across all ballots. This\n",
    "number of points is called the Borda count.\n",
    "\n",
    "(4) The candidate with the highest Borda count wins\n",
    "\n",
    "https://www2.math.uconn.edu/~gageonea/math1030f13/1-2_notes.pdf"
   ]
  }
 ],
 "metadata": {
  "kernelspec": {
   "display_name": "Python 3",
   "language": "python",
   "name": "python3"
  },
  "language_info": {
   "codemirror_mode": {
    "name": "ipython",
    "version": 3
   },
   "file_extension": ".py",
   "mimetype": "text/x-python",
   "name": "python",
   "nbconvert_exporter": "python",
   "pygments_lexer": "ipython3",
   "version": "3.6.4"
  },
  "toc": {
   "nav_menu": {},
   "number_sections": true,
   "sideBar": true,
   "skip_h1_title": false,
   "title_cell": "Table of Contents",
   "title_sidebar": "Contents",
   "toc_cell": true,
   "toc_position": {
    "height": "calc(100% - 180px)",
    "left": "10px",
    "top": "150px",
    "width": "214px"
   },
   "toc_section_display": true,
   "toc_window_display": true
  },
  "varInspector": {
   "cols": {
    "lenName": 16,
    "lenType": 16,
    "lenVar": 40
   },
   "kernels_config": {
    "python": {
     "delete_cmd_postfix": "",
     "delete_cmd_prefix": "del ",
     "library": "var_list.py",
     "varRefreshCmd": "print(var_dic_list())"
    },
    "r": {
     "delete_cmd_postfix": ") ",
     "delete_cmd_prefix": "rm(",
     "library": "var_list.r",
     "varRefreshCmd": "cat(var_dic_list()) "
    }
   },
   "types_to_exclude": [
    "module",
    "function",
    "builtin_function_or_method",
    "instance",
    "_Feature"
   ],
   "window_display": false
  }
 },
 "nbformat": 4,
 "nbformat_minor": 2
}
