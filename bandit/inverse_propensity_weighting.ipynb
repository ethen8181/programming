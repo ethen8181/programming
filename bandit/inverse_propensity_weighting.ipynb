{
 "cells": [
  {
   "cell_type": "markdown",
   "metadata": {
    "toc": true
   },
   "source": [
    "<h1>Table of Contents<span class=\"tocSkip\"></span></h1>\n",
    "<div class=\"toc\"><ul class=\"toc-item\"><li><span><a href=\"#Inverse-Probability-of-Treatment-Weighting-(IPTW)\" data-toc-modified-id=\"Inverse-Probability-of-Treatment-Weighting-(IPTW)-1\"><span class=\"toc-item-num\">1&nbsp;&nbsp;</span>Inverse Probability of Treatment Weighting (IPTW)</a></span></li></ul></div>"
   ]
  },
  {
   "cell_type": "code",
   "execution_count": 2,
   "metadata": {},
   "outputs": [
    {
     "name": "stdout",
     "output_type": "stream",
     "text": [
      "Ethen 2019-04-30 21:14:27 \n",
      "\n",
      "CPython 3.6.4\n",
      "IPython 6.4.0\n",
      "\n",
      "numpy 1.14.2\n",
      "pandas 0.23.4\n",
      "sklearn 0.20.2\n",
      "matplotlib 2.2.3\n"
     ]
    }
   ],
   "source": [
    "# 1. magic for inline plot\n",
    "# 2. magic to print version\n",
    "# 3. magic so that the notebook will reload external python modules\n",
    "# 4. magic to enable retina (high resolution) plots\n",
    "# https://gist.github.com/minrk/3301035\n",
    "%matplotlib inline\n",
    "%load_ext watermark\n",
    "%load_ext autoreload\n",
    "%autoreload 2\n",
    "%config InlineBackend.figure_format='retina'\n",
    "\n",
    "import numpy as np\n",
    "import pandas as pd\n",
    "import matplotlib.pyplot as plt\n",
    "from sklearn.model_selection import train_test_split\n",
    "\n",
    "# change default style figure and font size\n",
    "plt.rcParams['figure.figsize'] = 8, 6\n",
    "plt.rcParams['font.size'] = 12\n",
    "\n",
    "%watermark -a 'Ethen' -d -t -v -p numpy,pandas,sklearn,matplotlib"
   ]
  },
  {
   "cell_type": "markdown",
   "metadata": {},
   "source": [
    "# Inverse Probability of Treatment Weighting (IPTW)"
   ]
  },
  {
   "cell_type": "markdown",
   "metadata": {},
   "source": [
    "**Inverse Probability/Propensity of Treatment Weighting** is another method for estimating casual effects. Rather than doing matching, we could use all of the data, but down-weight some and up-weight the others.\n",
    "\n",
    "As a motivating example, we'll focus on the situation where there's just a single binary confounded that we'll call $X$. Let's also imagine that among people who have this confounder value equal to $1$. So, $X = 1$. The probability of treatment is equal to 0.1. i.e. the propensity score for people with $X = 1$ is equal to $0.1$. Now let's look at the other group of people, these are individuals who have $X = 0$. Here the probability of treatment is equal to $0.8$. Hence, in our scenario, people with $X = 1$ will unlikely to receive the treatment, 10% chance, where as people with $X = 0$ are very likely to receive it, 80% chance.\n",
    "\n",
    "If we were to do propensity score matching on the $X = 1$ group, we would match 1 treated subject with a randomly selected control subject (it's randomly selected because with a propensity score of 0.1, for every 1 treated subject we would have 9 control subject). So rather than matching, where we're discarding some of our data, we could use all of the data, but down-weight some and up-weight others. In this case, what we could do this up-weight the treated subject 9 times.\n",
    "\n",
    "The actual implementation of this idea is essentially what's called inverse propensity weighting. Where for treated subject, we would weight it by the inverse of $P(A=1|X)$, i.e. the probability of receiving the treatment and for control subject, we would weight by the inverse of $P(A=0|X)$. Hence in our $X=1$ example, each treated and control subject would receive a weight of $1/0.1$ and $1/0.9$ respectively. So even though there might be more control subject than the treated subject, after applying the weighting, the effective amount of data in our downstream analysis is now equal."
   ]
  },
  {
   "cell_type": "markdown",
   "metadata": {},
   "source": [
    "- https://www.coursera.org/learn/crash-course-in-causality/lecture/8BBAz/more-intuition-for-iptw-estimation\n",
    "- https://www.coursera.org/learn/crash-course-in-causality/resources/DTosM\n",
    "- https://florianwilhelm.info/2017/04/causal_inference_propensity_score/#fn-pearl2"
   ]
  },
  {
   "cell_type": "markdown",
   "metadata": {},
   "source": [
    "In the original population, some people were more likely to get treated than other people, based on their $X's$. In the pseudo-population, everyone is equally likely to be treated, regardless of their $X$ values.\n",
    "\n",
    "Someone who was likely to be treated, given their covariates, but wasn't will have a large weight\n",
    "\n",
    "\n",
    "- IPTW estimation works because it creates an unconfounded pseudo-population.\n",
    "- Marginal structural models are models of the mean of the potential outcome as a function of possible values of treatment.\n",
    "\n",
    "doubly robust estimation, also known as augmented inverse probability of treatment weighting"
   ]
  }
 ],
 "metadata": {
  "kernelspec": {
   "display_name": "Python 3",
   "language": "python",
   "name": "python3"
  },
  "language_info": {
   "codemirror_mode": {
    "name": "ipython",
    "version": 3
   },
   "file_extension": ".py",
   "mimetype": "text/x-python",
   "name": "python",
   "nbconvert_exporter": "python",
   "pygments_lexer": "ipython3",
   "version": "3.6.4"
  },
  "toc": {
   "nav_menu": {},
   "number_sections": true,
   "sideBar": true,
   "skip_h1_title": false,
   "title_cell": "Table of Contents",
   "title_sidebar": "Contents",
   "toc_cell": true,
   "toc_position": {
    "height": "calc(100% - 180px)",
    "left": "10px",
    "top": "150px",
    "width": "275px"
   },
   "toc_section_display": true,
   "toc_window_display": true
  },
  "varInspector": {
   "cols": {
    "lenName": 16,
    "lenType": 16,
    "lenVar": 40
   },
   "kernels_config": {
    "python": {
     "delete_cmd_postfix": "",
     "delete_cmd_prefix": "del ",
     "library": "var_list.py",
     "varRefreshCmd": "print(var_dic_list())"
    },
    "r": {
     "delete_cmd_postfix": ") ",
     "delete_cmd_prefix": "rm(",
     "library": "var_list.r",
     "varRefreshCmd": "cat(var_dic_list()) "
    }
   },
   "types_to_exclude": [
    "module",
    "function",
    "builtin_function_or_method",
    "instance",
    "_Feature"
   ],
   "window_display": false
  }
 },
 "nbformat": 4,
 "nbformat_minor": 2
}
