{
 "cells": [
  {
   "cell_type": "markdown",
   "metadata": {
    "toc": true
   },
   "source": [
    "<h1>Table of Contents<span class=\"tocSkip\"></span></h1>\n",
    "<div class=\"toc\"><ul class=\"toc-item\"><li><span><a href=\"#Contextual-Bandit\" data-toc-modified-id=\"Contextual-Bandit-1\"><span class=\"toc-item-num\">1&nbsp;&nbsp;</span>Contextual Bandit</a></span><ul class=\"toc-item\"><li><span><a href=\"#Replay-Estimator\" data-toc-modified-id=\"Replay-Estimator-1.1\"><span class=\"toc-item-num\">1.1&nbsp;&nbsp;</span>Replay Estimator</a></span></li><li><span><a href=\"#Direct-Method-Estimator\" data-toc-modified-id=\"Direct-Method-Estimator-1.2\"><span class=\"toc-item-num\">1.2&nbsp;&nbsp;</span>Direct Method Estimator</a></span></li><li><span><a href=\"#Inverse-Propensity-Estimator\" data-toc-modified-id=\"Inverse-Propensity-Estimator-1.3\"><span class=\"toc-item-num\">1.3&nbsp;&nbsp;</span>Inverse Propensity Estimator</a></span></li></ul></li></ul></div>"
   ]
  },
  {
   "cell_type": "code",
   "execution_count": 1,
   "metadata": {},
   "outputs": [
    {
     "name": "stdout",
     "output_type": "stream",
     "text": [
      "Ethen 2019-03-03 16:42:37 \n",
      "\n",
      "CPython 3.6.4\n",
      "IPython 6.4.0\n",
      "\n",
      "numpy 1.14.2\n",
      "pandas 0.23.4\n",
      "sklearn 0.20.2\n",
      "matplotlib 2.2.3\n"
     ]
    }
   ],
   "source": [
    "# 1. magic for inline plot\n",
    "# 2. magic to print version\n",
    "# 3. magic so that the notebook will reload external python modules\n",
    "# 4. magic to enable retina (high resolution) plots\n",
    "# https://gist.github.com/minrk/3301035\n",
    "%matplotlib inline\n",
    "%load_ext watermark\n",
    "%load_ext autoreload\n",
    "%autoreload 2\n",
    "%config InlineBackend.figure_format='retina'\n",
    "\n",
    "import numpy as np\n",
    "import pandas as pd\n",
    "import matplotlib.pyplot as plt\n",
    "from lightgbm import LGBMClassifier\n",
    "from sklearn.model_selection import train_test_split\n",
    "\n",
    "%watermark -a 'Ethen' -d -t -v -p numpy,pandas,sklearn,matplotlib,lightgbm"
   ]
  },
  {
   "cell_type": "markdown",
   "metadata": {},
   "source": [
    "# Contextual Bandit"
   ]
  },
  {
   "cell_type": "markdown",
   "metadata": {},
   "source": [
    "- https://github.com/smn-ailab/ysaito-qiita\n",
    "- https://github.com/colby-j-wise/Multi-Arm_Contextual_Bandit_Problem/blob/master/LinUCB.ipynb\n",
    "- http://www.cs.columbia.edu/~jebara/6998/hw2.pdf\n",
    "- http://www.cs.columbia.edu/~jebara/6998/\n",
    "- http://manikvarma.org/downloads/XC/XMLRepository.html\n",
    "- https://arxiv.org/pdf/1003.0146.pdf\n",
    "- https://arxiv.org/pdf/1003.5956.pdf\n",
    "- https://arxiv.org/pdf/1103.4601v2.pdf\n",
    "- http://john-maxwell.com/post/2017-03-17/"
   ]
  },
  {
   "cell_type": "code",
   "execution_count": 2,
   "metadata": {},
   "outputs": [
    {
     "name": "stdout",
     "output_type": "stream",
     "text": [
      "dimension:  (10000, 102)\n"
     ]
    },
    {
     "data": {
      "text/html": [
       "<div>\n",
       "<style scoped>\n",
       "    .dataframe tbody tr th:only-of-type {\n",
       "        vertical-align: middle;\n",
       "    }\n",
       "\n",
       "    .dataframe tbody tr th {\n",
       "        vertical-align: top;\n",
       "    }\n",
       "\n",
       "    .dataframe thead th {\n",
       "        text-align: right;\n",
       "    }\n",
       "</style>\n",
       "<table border=\"1\" class=\"dataframe\">\n",
       "  <thead>\n",
       "    <tr style=\"text-align: right;\">\n",
       "      <th></th>\n",
       "      <th>0</th>\n",
       "      <th>1</th>\n",
       "      <th>2</th>\n",
       "      <th>3</th>\n",
       "      <th>4</th>\n",
       "      <th>5</th>\n",
       "      <th>6</th>\n",
       "      <th>7</th>\n",
       "      <th>8</th>\n",
       "      <th>9</th>\n",
       "      <th>...</th>\n",
       "      <th>92</th>\n",
       "      <th>93</th>\n",
       "      <th>94</th>\n",
       "      <th>95</th>\n",
       "      <th>96</th>\n",
       "      <th>97</th>\n",
       "      <th>98</th>\n",
       "      <th>99</th>\n",
       "      <th>100</th>\n",
       "      <th>101</th>\n",
       "    </tr>\n",
       "  </thead>\n",
       "  <tbody>\n",
       "    <tr>\n",
       "      <th>0</th>\n",
       "      <td>2</td>\n",
       "      <td>0</td>\n",
       "      <td>5</td>\n",
       "      <td>0</td>\n",
       "      <td>0</td>\n",
       "      <td>37</td>\n",
       "      <td>6</td>\n",
       "      <td>0</td>\n",
       "      <td>0</td>\n",
       "      <td>0</td>\n",
       "      <td>...</td>\n",
       "      <td>0</td>\n",
       "      <td>0</td>\n",
       "      <td>1</td>\n",
       "      <td>3</td>\n",
       "      <td>0</td>\n",
       "      <td>0</td>\n",
       "      <td>17</td>\n",
       "      <td>30</td>\n",
       "      <td>4</td>\n",
       "      <td>0</td>\n",
       "    </tr>\n",
       "    <tr>\n",
       "      <th>1</th>\n",
       "      <td>8</td>\n",
       "      <td>0</td>\n",
       "      <td>1</td>\n",
       "      <td>3</td>\n",
       "      <td>36</td>\n",
       "      <td>0</td>\n",
       "      <td>0</td>\n",
       "      <td>0</td>\n",
       "      <td>0</td>\n",
       "      <td>0</td>\n",
       "      <td>...</td>\n",
       "      <td>0</td>\n",
       "      <td>0</td>\n",
       "      <td>3</td>\n",
       "      <td>0</td>\n",
       "      <td>1</td>\n",
       "      <td>5</td>\n",
       "      <td>1</td>\n",
       "      <td>0</td>\n",
       "      <td>0</td>\n",
       "      <td>10</td>\n",
       "    </tr>\n",
       "    <tr>\n",
       "      <th>2</th>\n",
       "      <td>5</td>\n",
       "      <td>0</td>\n",
       "      <td>3</td>\n",
       "      <td>0</td>\n",
       "      <td>0</td>\n",
       "      <td>0</td>\n",
       "      <td>0</td>\n",
       "      <td>0</td>\n",
       "      <td>0</td>\n",
       "      <td>0</td>\n",
       "      <td>...</td>\n",
       "      <td>0</td>\n",
       "      <td>0</td>\n",
       "      <td>0</td>\n",
       "      <td>0</td>\n",
       "      <td>23</td>\n",
       "      <td>0</td>\n",
       "      <td>11</td>\n",
       "      <td>3</td>\n",
       "      <td>0</td>\n",
       "      <td>0</td>\n",
       "    </tr>\n",
       "    <tr>\n",
       "      <th>3</th>\n",
       "      <td>4</td>\n",
       "      <td>0</td>\n",
       "      <td>77</td>\n",
       "      <td>0</td>\n",
       "      <td>0</td>\n",
       "      <td>13</td>\n",
       "      <td>0</td>\n",
       "      <td>0</td>\n",
       "      <td>0</td>\n",
       "      <td>0</td>\n",
       "      <td>...</td>\n",
       "      <td>0</td>\n",
       "      <td>5</td>\n",
       "      <td>0</td>\n",
       "      <td>0</td>\n",
       "      <td>0</td>\n",
       "      <td>2</td>\n",
       "      <td>4</td>\n",
       "      <td>0</td>\n",
       "      <td>0</td>\n",
       "      <td>0</td>\n",
       "    </tr>\n",
       "    <tr>\n",
       "      <th>4</th>\n",
       "      <td>2</td>\n",
       "      <td>1</td>\n",
       "      <td>43</td>\n",
       "      <td>0</td>\n",
       "      <td>2</td>\n",
       "      <td>44</td>\n",
       "      <td>1</td>\n",
       "      <td>0</td>\n",
       "      <td>0</td>\n",
       "      <td>0</td>\n",
       "      <td>...</td>\n",
       "      <td>0</td>\n",
       "      <td>0</td>\n",
       "      <td>0</td>\n",
       "      <td>0</td>\n",
       "      <td>0</td>\n",
       "      <td>0</td>\n",
       "      <td>0</td>\n",
       "      <td>13</td>\n",
       "      <td>0</td>\n",
       "      <td>0</td>\n",
       "    </tr>\n",
       "  </tbody>\n",
       "</table>\n",
       "<p>5 rows × 102 columns</p>\n",
       "</div>"
      ],
      "text/plain": [
       "   0    1    2    3    4    5    6    7    8    9   ...   92   93   94   95   \\\n",
       "0    2    0    5    0    0   37    6    0    0    0 ...     0    0    1    3   \n",
       "1    8    0    1    3   36    0    0    0    0    0 ...     0    0    3    0   \n",
       "2    5    0    3    0    0    0    0    0    0    0 ...     0    0    0    0   \n",
       "3    4    0   77    0    0   13    0    0    0    0 ...     0    5    0    0   \n",
       "4    2    1   43    0    2   44    1    0    0    0 ...     0    0    0    0   \n",
       "\n",
       "   96   97   98   99   100  101  \n",
       "0    0    0   17   30    4    0  \n",
       "1    1    5    1    0    0   10  \n",
       "2   23    0   11    3    0    0  \n",
       "3    0    2    4    0    0    0  \n",
       "4    0    0    0   13    0    0  \n",
       "\n",
       "[5 rows x 102 columns]"
      ]
     },
     "execution_count": 2,
     "metadata": {},
     "output_type": "execute_result"
    }
   ],
   "source": [
    "def get_data(file_path):\n",
    "    \"\"\"\n",
    "    Read in CSV data file and remove 'timestamp' column.\n",
    "\n",
    "    Parameters\n",
    "    ----------\n",
    "    file_path : str\n",
    "\n",
    "    Returns\n",
    "    -------\n",
    "    data : pd.Dataframe\n",
    "        DataFrame that consists of action, reward & context vectors.\n",
    "    \"\"\"\n",
    "    data = pd.read_csv(file_path, sep=' ', header=None)\n",
    "    return data.loc[:, :101]\n",
    "\n",
    "\n",
    "path = 'dataset.txt'\n",
    "data = get_data(path)\n",
    "print('dimension: ', data.shape)\n",
    "data.head()"
   ]
  },
  {
   "cell_type": "markdown",
   "metadata": {},
   "source": [
    "- The first column in the dataset is the action that was performed. This is a value $a_t \\in \\{1, ..., 10\\}$\n",
    "- The second column is a binary value indicating if a reward was obtained, $y_t \\in \\{0, 1\\}$\n",
    "- The remaining 100 columns are the context which is a represented as vector $x_t \\in \\mathbb{R}^{100}$"
   ]
  },
  {
   "cell_type": "code",
   "execution_count": 3,
   "metadata": {},
   "outputs": [
    {
     "data": {
      "text/plain": [
       "4     1047\n",
       "7     1035\n",
       "1     1020\n",
       "5     1005\n",
       "8      999\n",
       "9      988\n",
       "10     987\n",
       "2      982\n",
       "3      974\n",
       "6      963\n",
       "Name: 0, dtype: int64"
      ]
     },
     "execution_count": 3,
     "metadata": {},
     "output_type": "execute_result"
    }
   ],
   "source": [
    "data.loc[:, 0].value_counts()"
   ]
  },
  {
   "cell_type": "code",
   "execution_count": 4,
   "metadata": {},
   "outputs": [
    {
     "data": {
      "text/plain": [
       "array([0, 0, 0, ..., 1, 0, 0])"
      ]
     },
     "execution_count": 4,
     "metadata": {},
     "output_type": "execute_result"
    }
   ],
   "source": [
    "contexts = data.loc[:, 2:].values\n",
    "actions = data.loc[:, 0].values - 1\n",
    "rewards = data.loc[:, 1].values\n",
    "rewards"
   ]
  },
  {
   "cell_type": "code",
   "execution_count": 5,
   "metadata": {},
   "outputs": [],
   "source": [
    "class LinearUCBArm:\n",
    "\n",
    "    def __init__(self, arm_idx, n_features, alpha=0.1):\n",
    "        self.alpha = alpha\n",
    "        self.arm_idx = arm_idx\n",
    "        self.n_features = n_features\n",
    "\n",
    "        self.A_ = np.identity(n_features)\n",
    "        self.b_ = np.zeros(n_features)\n",
    "\n",
    "    def get_ucb(self, x):\n",
    "        # we can cache the inverse and only update the cache\n",
    "        # whenever there's a update if the inverse is too expensive\n",
    "        A_inv = np.linalg.inv(self.A_)\n",
    "        self.theta_ = A_inv @ self.b_\n",
    "        self.stdev_ = np.sqrt(x.T @ A_inv @ x)\n",
    "        self.ucb_ = self.theta_ @ x + self.alpha + self.stdev_\n",
    "        return self.ucb_\n",
    "\n",
    "    def update_arm(self, x, reward):\n",
    "        x = x.reshape((1, -1))\n",
    "        self.A_ += x.T @ x\n",
    "        self.b_ += reward * x.ravel()\n",
    "        return self"
   ]
  },
  {
   "cell_type": "code",
   "execution_count": 6,
   "metadata": {},
   "outputs": [
    {
     "data": {
      "text/plain": [
       "89.9443097808648"
      ]
     },
     "execution_count": 6,
     "metadata": {},
     "output_type": "execute_result"
    }
   ],
   "source": [
    "arm_idx = 1\n",
    "data_idx = 1\n",
    "n_features = 100\n",
    "linear_ucb_arm = LinearUCBArm(arm_idx, n_features)\n",
    "\n",
    "context = contexts[data_idx]\n",
    "reward = rewards[data_idx]\n",
    "ucb = linear_ucb_arm.get_ucb(context)\n",
    "linear_ucb_arm.update_arm(context, reward)\n",
    "ucb"
   ]
  },
  {
   "cell_type": "code",
   "execution_count": 7,
   "metadata": {},
   "outputs": [
    {
     "data": {
      "text/plain": [
       "[<__main__.LinearUCBArm at 0x112bd7860>,\n",
       " <__main__.LinearUCBArm at 0x112bd7668>,\n",
       " <__main__.LinearUCBArm at 0x112bd7828>,\n",
       " <__main__.LinearUCBArm at 0x112bd7898>,\n",
       " <__main__.LinearUCBArm at 0x112bd78d0>,\n",
       " <__main__.LinearUCBArm at 0x112bd7908>,\n",
       " <__main__.LinearUCBArm at 0x112bd7940>,\n",
       " <__main__.LinearUCBArm at 0x112bd7978>,\n",
       " <__main__.LinearUCBArm at 0x112bd79b0>,\n",
       " <__main__.LinearUCBArm at 0x112bd79e8>]"
      ]
     },
     "execution_count": 7,
     "metadata": {},
     "output_type": "execute_result"
    }
   ],
   "source": [
    "class LinearUCB:\n",
    "    # TODO warm up?\n",
    "\n",
    "    def __init__(self, n_arms, n_features, alpha=0.1):\n",
    "        self.alpha = alpha\n",
    "        self.n_arms = n_arms\n",
    "        self.n_features = n_features\n",
    "        self.arms_ = self._init_arms()\n",
    "        self.counts_ = np.zeros(n_arms, dtype=np.int)\n",
    "  \n",
    "    def _init_arms(self):\n",
    "        return [\n",
    "            LinearUCBArm(arm_idx, self.n_features, self.alpha)\n",
    "            for arm_idx in range(self.n_arms)\n",
    "        ]\n",
    "\n",
    "    def get_ucbs(self, x):\n",
    "        return [arm.get_ucb(x) for arm in self.arms_]\n",
    "\n",
    "    def choose_arm(self, x):\n",
    "        ucbs = self.get_ucbs(x)\n",
    "        return np.argmax(ucbs)\n",
    "    \n",
    "    def update_arm(self, x, chosen_arm, reward):\n",
    "        self.arms_[chosen_arm].update_arm(x, reward)\n",
    "        self.counts_[chosen_arm] += 1\n",
    "        return self\n",
    "\n",
    "\n",
    "n_arms = 10\n",
    "n_features = 100\n",
    "policy = LinearUCB(n_arms, n_features)\n",
    "policy.arms_"
   ]
  },
  {
   "cell_type": "markdown",
   "metadata": {},
   "source": [
    "## Replay Estimator"
   ]
  },
  {
   "cell_type": "code",
   "execution_count": 8,
   "metadata": {},
   "outputs": [],
   "source": [
    "from tqdm import trange\n",
    "\n",
    "\n",
    "class ReplayEstimator:\n",
    "    \n",
    "    def __init__(self, policy):\n",
    "        self.policy = policy\n",
    "\n",
    "    def estimate(self, contexts: np.ndarray, actions: np.ndarray, rewards: np.ndarray):\n",
    "        policy = self.policy\n",
    "        n_rows = contexts.shape[0]\n",
    "\n",
    "        cum_reward = 0.0\n",
    "        valid_events = 0\n",
    "        ctr_history = []\n",
    "\n",
    "        for i in trange(n_rows):\n",
    "            context = contexts[i]\n",
    "            action = actions[i]\n",
    "            chosen_arm = policy.choose_arm(context)\n",
    "\n",
    "            # if the policy selects a different arm from the one\n",
    "            # that was taken by the logging policy, then the event\n",
    "            # is completely ignored, and the algorithm proceeds to\n",
    "            # the next event without any change in its state\n",
    "            if chosen_arm == action:\n",
    "                reward = rewards[i]\n",
    "                cum_reward += reward\n",
    "                valid_events += 1\n",
    "                policy.update_arm(context, chosen_arm, reward)\n",
    "\n",
    "            ctr = 0 if valid_events == 0 else cum_reward / valid_events\n",
    "            ctr_history.append(ctr)\n",
    "\n",
    "        self.policy_ = policy\n",
    "        return ctr_history"
   ]
  },
  {
   "cell_type": "code",
   "execution_count": 9,
   "metadata": {},
   "outputs": [
    {
     "name": "stderr",
     "output_type": "stream",
     "text": [
      "100%|██████████| 10000/10000 [00:39<00:00, 255.62it/s]"
     ]
    },
    {
     "name": "stdout",
     "output_type": "stream",
     "text": [
      "first few records:  [0, 0, 0, 0, 0, 0, 0, 0, 0, 0, 0, 0, 0, 0, 0, 0, 0, 0, 0, 0]\n",
      "last few records:  [0.18662674650698602, 0.18662674650698602, 0.18662674650698602, 0.18662674650698602, 0.18662674650698602, 0.18662674650698602, 0.18662674650698602, 0.18662674650698602, 0.18662674650698602, 0.1864406779661017, 0.1864406779661017, 0.18725099601593626, 0.18725099601593626, 0.18725099601593626, 0.18725099601593626, 0.18725099601593626, 0.18725099601593626, 0.18725099601593626, 0.18725099601593626, 0.18725099601593626]\n"
     ]
    },
    {
     "name": "stderr",
     "output_type": "stream",
     "text": [
      "\n"
     ]
    }
   ],
   "source": [
    "replay = ReplayEstimator(policy)\n",
    "ctr_history = replay.estimate(contexts, actions, rewards)\n",
    "print('first few records: ', ctr_history[:20])\n",
    "print('last few records: ', ctr_history[-20:])"
   ]
  },
  {
   "cell_type": "code",
   "execution_count": 10,
   "metadata": {},
   "outputs": [
    {
     "data": {
      "text/plain": [
       "array([ 94, 125, 100,  97,  92,  99, 102,  97, 100,  98])"
      ]
     },
     "execution_count": 10,
     "metadata": {},
     "output_type": "execute_result"
    }
   ],
   "source": [
    "replay.policy_.counts_"
   ]
  },
  {
   "cell_type": "code",
   "execution_count": 11,
   "metadata": {},
   "outputs": [
    {
     "data": {
      "image/png": "[encoded data removed]",
      "text/plain": [
       "<Figure size 576x432 with 1 Axes>"
      ]
     },
     "metadata": {
      "image/png": {
       "height": 361,
       "width": 504
      }
     },
     "output_type": "display_data"
    }
   ],
   "source": [
    "# change default style figure and font size\n",
    "plt.rcParams['figure.figsize'] = 8, 6\n",
    "plt.rcParams['font.size'] = 12\n",
    "\n",
    "print('arm counts:', replay.policy_.counts_)\n",
    "plt.plot(ctr_history)\n",
    "plt.show()"
   ]
  },
  {
   "cell_type": "markdown",
   "metadata": {},
   "source": [
    "## Direct Method Estimator"
   ]
  },
  {
   "cell_type": "code",
   "execution_count": 26,
   "metadata": {},
   "outputs": [],
   "source": [
    "class DirectMethodEstimator:\n",
    "    \n",
    "    def __init__(self, policy, classifier):\n",
    "        self.policy = policy\n",
    "        self.classifier = classifier\n",
    "        \n",
    "    def estimate(self, contexts, actions, rewards, fit_params=None):\n",
    "        policy = self.policy\n",
    "        classifier = self.classifier\n",
    "        \n",
    "        # action column becomes the last column, and is marked as a\n",
    "        # categorical variable\n",
    "        data = np.hstack((contexts, actions.reshape(-1, 1)))\n",
    "\n",
    "        fit_params = {} if fit_params is None else fit_params\n",
    "        categorical_feature = fit_params.get('categorical_feature', [])\n",
    "        categorical_feature.append(data.shape[1])\n",
    "        fit_params['categorical_feature'] = categorical_feature\n",
    "        classifier.fit(data, rewards, **fit_params)\n",
    "\n",
    "        cum_reward = 0.0\n",
    "        valid_events = 0\n",
    "        ctr_history = []\n",
    "        n_rows = contexts.shape[0]\n",
    "        for i in trange(n_rows):\n",
    "            context = contexts[i]\n",
    "            action = actions[i]\n",
    "            chosen_arm = policy.choose_arm(context)\n",
    "\n",
    "            data_row = np.hstack((context, action)).reshape(1, -1)\n",
    "            reward = classifier.predict(data_row)[0]\n",
    "            cum_reward += reward\n",
    "            valid_events += 1\n",
    "            policy.update_arm(context, chosen_arm, reward)\n",
    "\n",
    "            ctr = cum_reward / valid_events\n",
    "            ctr_history.append(ctr)\n",
    "\n",
    "        self.policy_ = policy\n",
    "        self.classifier_ = classifier\n",
    "        return ctr_history    "
   ]
  },
  {
   "cell_type": "code",
   "execution_count": 27,
   "metadata": {},
   "outputs": [
    {
     "name": "stderr",
     "output_type": "stream",
     "text": [
      "/Users/mingyuliu/anaconda3/lib/python3.6/site-packages/lightgbm/basic.py:1209: UserWarning: categorical_feature in Dataset is overridden.\n",
      "New categorical_feature is [101]\n",
      "  'New categorical_feature is {}'.format(sorted(list(categorical_feature))))\n",
      "100%|██████████| 10000/10000 [00:46<00:00, 215.95it/s]"
     ]
    },
    {
     "name": "stdout",
     "output_type": "stream",
     "text": [
      "first few records:  [0.0, 0.0, 0.0, 0.0, 0.2, 0.16666666666666666, 0.14285714285714285, 0.125, 0.1111111111111111, 0.2, 0.18181818181818182, 0.16666666666666666, 0.15384615384615385, 0.14285714285714285, 0.13333333333333333, 0.1875, 0.17647058823529413, 0.16666666666666666, 0.15789473684210525, 0.15]\n",
      "last few records:  [0.10379721470794509, 0.10378681626928471, 0.10377641991385356, 0.10376602564102565, 0.10375563345017526, 0.10374524334067695, 0.10373485531190547, 0.10372446936323589, 0.10371408549404344, 0.1037037037037037, 0.10369332399159244, 0.1037830264211369, 0.10377264084859401, 0.10376225735441265, 0.10385192596298148, 0.10384153661464586, 0.10383114934480345, 0.10392078415683137, 0.1039103910391039, 0.1039]\n"
     ]
    },
    {
     "name": "stderr",
     "output_type": "stream",
     "text": [
      "\n"
     ]
    }
   ],
   "source": [
    "lgb = LGBMClassifier(\n",
    "    n_jobs=-1,\n",
    "    max_depth=6,\n",
    "    subsample=1,\n",
    "    n_estimators=100,\n",
    "    learning_rate=0.1,\n",
    "    colsample_bytree=1,\n",
    "    boosting_type='gbdt',\n",
    "    importance_type='gain')\n",
    "\n",
    "direct = DirectMethodEstimator(policy, lgb)\n",
    "ctr_history = direct.estimate(contexts, actions, rewards)\n",
    "print('first few records: ', ctr_history[:20])\n",
    "print('last few records: ', ctr_history[-20:])"
   ]
  },
  {
   "cell_type": "code",
   "execution_count": 28,
   "metadata": {},
   "outputs": [
    {
     "name": "stdout",
     "output_type": "stream",
     "text": [
      "arm counts: [ 758 2495 1232  826  871  959 1687  841 1446  824]\n"
     ]
    },
    {
     "data": {
      "image/png": "[encoded data removed]",
      "text/plain": [
       "<Figure size 576x432 with 1 Axes>"
      ]
     },
     "metadata": {
      "image/png": {
       "height": 361,
       "width": 504
      }
     },
     "output_type": "display_data"
    }
   ],
   "source": [
    "print('arm counts:', direct.policy_.counts_)\n",
    "plt.plot(ctr_history)\n",
    "plt.show()"
   ]
  },
  {
   "cell_type": "markdown",
   "metadata": {},
   "source": [
    "## Inverse Propensity Estimator"
   ]
  },
  {
   "cell_type": "code",
   "execution_count": 29,
   "metadata": {},
   "outputs": [],
   "source": [
    "class InversePropensityEstimator:\n",
    "    \"\"\"\n",
    "\n",
    "    \"\"\"\n",
    "    \n",
    "    def __init__(self, policy, classifier):\n",
    "        self.policy = policy\n",
    "        self.classifier = classifier\n",
    "\n",
    "    def estimate(self, contexts, actions, rewards, fit_params=None):\n",
    "        policy = self.policy\n",
    "        classifier = self.classifier\n",
    "\n",
    "        fit_params = {} if fit_params is None else fit_params\n",
    "        classifier.fit(contexts, actions, **fit_params)\n",
    "        propensity = classifier.predict_proba(contexts)\n",
    "\n",
    "        n_rows = contexts.shape[0]\n",
    "\n",
    "        actual_reward = 0.0\n",
    "        potential_reward = 0\n",
    "        ctr_history = []\n",
    "\n",
    "        for i in trange(n_rows):\n",
    "            context = contexts[i]\n",
    "            action = actions[i]\n",
    "            chosen_arm = policy.choose_arm(context)\n",
    "\n",
    "            if chosen_arm == action:\n",
    "                reward = rewards[i]\n",
    "                actual_reward += reward / propensity[i, chosen_arm]\n",
    "                potential_reward += 1 / propensity[i, chosen_arm]\n",
    "                policy.update_arm(context, chosen_arm, reward)\n",
    "\n",
    "            ctr = 0 if potential_reward == 0 else actual_reward / potential_reward\n",
    "            ctr_history.append(ctr)\n",
    "\n",
    "        self.policy_ = policy\n",
    "        self.classifier_ = classifier\n",
    "        return ctr_history"
   ]
  },
  {
   "cell_type": "code",
   "execution_count": 30,
   "metadata": {},
   "outputs": [
    {
     "name": "stderr",
     "output_type": "stream",
     "text": [
      "100%|██████████| 10000/10000 [00:40<00:00, 244.94it/s]"
     ]
    },
    {
     "name": "stdout",
     "output_type": "stream",
     "text": [
      "first few records:  [0, 0, 0, 0, 1.0, 1.0, 1.0, 1.0, 1.0, 1.0, 1.0, 1.0, 1.0, 1.0, 1.0, 1.0, 1.0, 1.0, 1.0, 1.0]\n",
      "last few records:  [0.6561036340566933, 0.6561036340566933, 0.6561036340566933, 0.6561036340566933, 0.6561036340566933, 0.6561036340566933, 0.6561036340566933, 0.6561036340566933, 0.6561036340566933, 0.6561036340566933, 0.6561036340566933, 0.6564926697392622, 0.6564926697392622, 0.6564926697392622, 0.6569618664551788, 0.6569618664551788, 0.6569618664551788, 0.6569618664551788, 0.6569618664551788, 0.6569618664551788]\n"
     ]
    },
    {
     "name": "stderr",
     "output_type": "stream",
     "text": [
      "\n"
     ]
    }
   ],
   "source": [
    "lgb = LGBMClassifier(\n",
    "    n_jobs=-1,\n",
    "    max_depth=6,\n",
    "    subsample=1,\n",
    "    n_estimators=100,\n",
    "    learning_rate=0.1,\n",
    "    colsample_bytree=1,\n",
    "    boosting_type='gbdt',\n",
    "    importance_type='gain')\n",
    "\n",
    "inverse_propensity = InversePropensityEstimator(policy, lgb)\n",
    "ctr_history = inverse_propensity.estimate(contexts, actions, rewards)\n",
    "print('first few records: ', ctr_history[:20])\n",
    "print('last few records: ', ctr_history[-20:])"
   ]
  },
  {
   "cell_type": "code",
   "execution_count": 31,
   "metadata": {},
   "outputs": [
    {
     "name": "stdout",
     "output_type": "stream",
     "text": [
      "arm counts: [ 824 2710 1351  905  930 1021 1839  888 1567  880]\n"
     ]
    },
    {
     "data": {
      "image/png": "[encoded data removed]",
      "text/plain": [
       "<Figure size 576x432 with 1 Axes>"
      ]
     },
     "metadata": {
      "image/png": {
       "height": 361,
       "width": 488
      }
     },
     "output_type": "display_data"
    }
   ],
   "source": [
    "print('arm counts:', inverse_propensity.policy_.counts_)\n",
    "plt.plot(ctr_history)\n",
    "plt.show()"
   ]
  }
 ],
 "metadata": {
  "kernelspec": {
   "display_name": "Python 3",
   "language": "python",
   "name": "python3"
  },
  "language_info": {
   "codemirror_mode": {
    "name": "ipython",
    "version": 3
   },
   "file_extension": ".py",
   "mimetype": "text/x-python",
   "name": "python",
   "nbconvert_exporter": "python",
   "pygments_lexer": "ipython3",
   "version": "3.6.4"
  },
  "toc": {
   "nav_menu": {},
   "number_sections": true,
   "sideBar": true,
   "skip_h1_title": false,
   "title_cell": "Table of Contents",
   "title_sidebar": "Contents",
   "toc_cell": true,
   "toc_position": {
    "height": "calc(100% - 180px)",
    "left": "10px",
    "top": "150px",
    "width": "270px"
   },
   "toc_section_display": true,
   "toc_window_display": true
  },
  "varInspector": {
   "cols": {
    "lenName": 16,
    "lenType": 16,
    "lenVar": 40
   },
   "kernels_config": {
    "python": {
     "delete_cmd_postfix": "",
     "delete_cmd_prefix": "del ",
     "library": "var_list.py",
     "varRefreshCmd": "print(var_dic_list())"
    },
    "r": {
     "delete_cmd_postfix": ") ",
     "delete_cmd_prefix": "rm(",
     "library": "var_list.r",
     "varRefreshCmd": "cat(var_dic_list()) "
    }
   },
   "types_to_exclude": [
    "module",
    "function",
    "builtin_function_or_method",
    "instance",
    "_Feature"
   ],
   "window_display": false
  }
 },
 "nbformat": 4,
 "nbformat_minor": 2
}
