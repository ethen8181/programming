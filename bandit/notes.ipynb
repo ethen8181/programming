{
 "cells": [
  {
   "cell_type": "markdown",
   "metadata": {
    "toc": true
   },
   "source": [
    "<h1>Table of Contents<span class=\"tocSkip\"></span></h1>\n",
    "<div class=\"toc\"><ul class=\"toc-item\"><li><span><a href=\"#Matching\" data-toc-modified-id=\"Matching-1\"><span class=\"toc-item-num\">1&nbsp;&nbsp;</span>Matching</a></span></li><li><span><a href=\"#Propensity-Score\" data-toc-modified-id=\"Propensity-Score-2\"><span class=\"toc-item-num\">2&nbsp;&nbsp;</span>Propensity Score</a></span></li><li><span><a href=\"#Inverse-Probability-of-Treatment-Weighting\" data-toc-modified-id=\"Inverse-Probability-of-Treatment-Weighting-3\"><span class=\"toc-item-num\">3&nbsp;&nbsp;</span>Inverse Probability of Treatment Weighting</a></span></li><li><span><a href=\"#McNemar’s-Test\" data-toc-modified-id=\"McNemar’s-Test-4\"><span class=\"toc-item-num\">4&nbsp;&nbsp;</span>McNemar’s Test</a></span></li><li><span><a href=\"#Reference\" data-toc-modified-id=\"Reference-5\"><span class=\"toc-item-num\">5&nbsp;&nbsp;</span>Reference</a></span></li></ul></div>"
   ]
  },
  {
   "cell_type": "markdown",
   "metadata": {},
   "source": [
    "Correlation doesn't imply causation, and even if there is a causation, the direction might be unclear.\n",
    "\n",
    "- Are physically active people more likely to prioritize living near green spaces? Because we like to exercise, we plan to move near the park.\n",
    "- Does green space in urban environment cause people to exercise more? If there was a park like this near where we live, we would exercise more."
   ]
  },
  {
   "cell_type": "markdown",
   "metadata": {},
   "source": [
    "- Potential Outcome: outcome we would see under each possible treatment option.\n",
    "- Counterfactual Outcome: outcome that would have been observed had the treatment been different. i.e. What would have happened (contrary to what have actually happened).\n",
    "\n",
    "We denote $Y^a$ as the outcome that would have been observed if treatment was set to $A = a$.\n",
    "\n",
    "Before the treatment decision is being made, any outcome is a potential outcome. After the study, there is a observed outcome and a counterfactual outcome."
   ]
  },
  {
   "cell_type": "markdown",
   "metadata": {},
   "source": [
    "A typical statement that people make in the real world follows a pattern like this:\n",
    "\n",
    "> I took ibuprofen and my headache is gone, therefore the medicine worked.\n",
    "\n",
    "But this statement is only telling us $Y^1=1$, it doesn't tell us what would have happened had we not taken ibuprofen, $Y^0=?$. We can only state that there is a casual effect if $Y^1 \\neq Y^0$.\n",
    "\n",
    "This is known as the **fundamental problem of casual inferencing** as we can only observe one potential outcome for each person. However, with certain assumptions, we can estimate population level causal effects. In other words, it is possible for us to answer questions such as: what would the rate of headache remission be if everyone took ibuprofen when they had a headache versus if no one did.\n",
    "\n",
    "Thus the next question is, how do I use observed data to link observed outcome to potential outcome."
   ]
  },
  {
   "cell_type": "markdown",
   "metadata": {},
   "source": [
    "- Positivity Assumption: For every set of values for $X$, treatment assignment was not deterministic: $P(A=a|X=x) > 0$ for all $a$ and $x$. This assumption ensures we can have some data at every level of $X$ for people who are treated and not treated. In some cases where people with certain diseases might be ineligible for a particular treatment, we wouldn't want to make inference about that population, so we would probably exclude them from the study.\n",
    "- Stable Unit Treatment Value Assumption (SUTVA): Treatment assignment of one unit does not affect the outcome of another unit, i.e. no interference between units.\n",
    "- Ignorability Assumption: Given pre-treatment covariates $X$, treatment assignment is independent of the potential outcome. $Y^1, Y^0 \\perp A | X$ (here, $\\perp$ denotes independence). So among people with the same values of $X$, we could essentially think of treatment as being randomly assigned. This is also referred to as \"no unmeasured confounders' assumption\".\n",
    "- Consistency:"
   ]
  },
  {
   "cell_type": "markdown",
   "metadata": {},
   "source": [
    "We're mainly interested in the relationship between means of different potential outcomes.\n",
    "\n",
    "\\begin{align}\n",
    "E(Y^1 - Y^0)\n",
    "\\end{align}"
   ]
  },
  {
   "cell_type": "markdown",
   "metadata": {},
   "source": [
    "Confounding Variables: Defined as variables that affect the treatment and outcome.\n",
    "\n",
    "e.g. If older people are at higher risk of cardiovascular disease (the outcome), and are more likely to receive statins (the treatment), then age is a confounder.\n",
    "\n",
    "Confounding Control:\n",
    "\n",
    "- We're interested in identifying a set of variables $X$ that will make the ignorability assumption hold. If we do this, then the set of variables will be sufficient enough to control for confounding. And we would then be able to use statistical methods to control for these variables and estimate casual effects."
   ]
  },
  {
   "cell_type": "markdown",
   "metadata": {},
   "source": [
    "DAG (Direct Acyclic Graph) encode assumptions about dependencies between nodes/variables\n",
    "\n",
    "A DAG will tell us:\n",
    "\n",
    "- which variables are independent from each other\n",
    "- which variables are conditionally independent from each other\n",
    "- ways we can simplify the joint distribution"
   ]
  },
  {
   "cell_type": "markdown",
   "metadata": {},
   "source": [
    "To identify a set of variables that are sufficient to control for confounding. We need to:\n",
    "\n",
    "- **block backdoor paths** from treatment to outcome.\n",
    "- it does not include any descendants of treatment."
   ]
  },
  {
   "cell_type": "markdown",
   "metadata": {},
   "source": [
    "## Matching"
   ]
  },
  {
   "cell_type": "markdown",
   "metadata": {},
   "source": [
    "Matching is a method that attempts to make an observational study more like a randomized trial. The main idea is to match individuals in the treated group $A=1$ to individuals in the control group $A=0$ on the covariates $X$.\n",
    "\n",
    "In a randomized trial, for any particular age, there should be about the same number of treated and untreated people. In the cases where older people are more likely to get $A=1$, if we were to match treated people to control people of the same age, there will be about the same number of treated and controls at any age. Once the data are matched, we can treat it as if it was a randomized trial.\n",
    "\n",
    "Matching can help reveal lack of overlap in covariate distribution.\n",
    "\n",
    "We can't exactly match on the full set of covariates, so what we'll do is try and make sure the distribution of covariates is balanced between the groups, also referred to as stochastic balance (The distribution of confounders being similar for treated and untreated subjects). This is similar to the notion of estimating the causal effect of the treatment on the treated.\n",
    "\n",
    "\n",
    "When performing matching, we typically can't match exactly. We first need to choose some metrics of closeness. e.g.\n",
    "\n",
    "- Mahalanobis Distance\n",
    "- Robust Mahalanobis Distance. The motivation is that outliers can create large distance between subjects, even if the covariates are otherwise similar. Hence the rank of covariates might be more relevant, i.e. highest and second highest ranked values of covariates perhaps should be treated as similar, even if the values are far apart.\n",
    "    - We replace each covariate value with its rank.\n",
    "    - Constant diagonal covariance matrix.\n",
    "    - Perform Mahalanobis Distance on the rank.\n",
    "    \n",
    "\n",
    "Assessing balance after the match using standardized mean difference. A standardized difference is the difference between groups, divided by the pooled standard deviation.\n",
    "\n",
    "\\begin{align}\n",
    "\\frac{\\bar{X}_{treatment} - \\bar{X}_{control}}{\\sqrt{\\frac{s^2_{treatment} + s^2_{treatment}}{2}}}\n",
    "\\end{align}\n",
    "\n",
    "- It is a measure that does not depend on sample size.\n",
    "- Often times, absolute value is reported.\n",
    "- We calculate it for each of the variable that we matched on.\n",
    "- Rule of thumb:\n",
    "    - value <0.1 indicate adequate balance.\n",
    "    - value 0.1-0.2 are not too alarming.\n",
    "    - value >0.2 indicate serious imbalance.\n",
    "\n",
    "Assume that we've already matched our data, we've checked for balance. And we're happy with that and now we're ready to analyze our outcome data.\n",
    "    \n",
    "If there is a large treatment effect, then we expect the observed difference in mean of the outcome between matched pairs to be very different from the difference in means if we randomly permute the treatment labels. There is a treatment effect, so the labels are meaningful. If there was no treatment effect, randomly switching the labels shouldn't matter."
   ]
  },
  {
   "cell_type": "markdown",
   "metadata": {},
   "source": [
    "## Propensity Score"
   ]
  },
  {
   "cell_type": "markdown",
   "metadata": {},
   "source": [
    "The propensity score is the probability of receiving treatment, rather than control, given covariates $X$.\n",
    "\n",
    "We'll define $A=1$ for treatment and $A=0$ for control. The propensity score for subject $i$ is denoted as $\\pi_i$.\n",
    "\n",
    "\\begin{align}\n",
    "\\pi_i = P(A=1 | X_i)\n",
    "\\end{align}\n",
    "\n",
    "As an example, if a person had a propensity score of 0.3, that would mean that given their particular covariates, there was a 30% chance that they'll receive the treatment."
   ]
  },
  {
   "cell_type": "markdown",
   "metadata": {},
   "source": [
    "## Inverse Probability of Treatment Weighting"
   ]
  },
  {
   "cell_type": "markdown",
   "metadata": {},
   "source": [
    "In the original population, some people were more likely to get treated than other people, based on their $X's$. In the pseudo-population, everyone is equally likely to be treated, regardless of their $X$ values.\n",
    "\n",
    "Someone who was likely to be treated, given their covariates, but wasn't will have a large weight\n",
    "\n",
    "\n",
    "- IPTW estimation works because it creates an unconfounded pseudo-population.\n",
    "- Marginal structural models are models of the mean of the potential outcome as a function of possible values of treatment.\n",
    "\n",
    "doubly robust estimation, also known as augmented inverse probability of treatment weighting"
   ]
  },
  {
   "cell_type": "markdown",
   "metadata": {},
   "source": [
    "## McNemar’s Test"
   ]
  },
  {
   "cell_type": "markdown",
   "metadata": {},
   "source": [
    "- https://machinelearningmastery.com/mcnemars-test-for-machine-learning/\n",
    "- https://www.theanalysisfactor.com/difference-between-chi-square-test-and-mcnemar-test/\n",
    "- https://sebastianraschka.com/blog/2018/model-evaluation-selection-part4.html\n",
    "- http://rasbt.github.io/mlxtend/api_subpackages/mlxtend.evaluate/#mcnemar"
   ]
  },
  {
   "cell_type": "markdown",
   "metadata": {},
   "source": [
    "## Reference"
   ]
  },
  {
   "cell_type": "markdown",
   "metadata": {},
   "source": [
    "- http://www.degeneratestate.org/posts/2018/Mar/24/causal-inference-with-python-part-1-potential-outcomes/\n",
    "- https://github.com/ijmbarr/notes-on-causal-inference\n",
    "- http://laurence-wong.com/software/\n",
    "- https://github.com/laurencium/Causalinference\n",
    "- https://github.com/jrfiedler/causal_inference_python_code\n",
    "- https://github.com/vlaskinvlad/coursera-causality-crash-course\n",
    "- http://www.rebeccabarter.com/blog/2017-07-05-ip-weighting/"
   ]
  }
 ],
 "metadata": {
  "kernelspec": {
   "display_name": "Python 3",
   "language": "python",
   "name": "python3"
  },
  "language_info": {
   "codemirror_mode": {
    "name": "ipython",
    "version": 3
   },
   "file_extension": ".py",
   "mimetype": "text/x-python",
   "name": "python",
   "nbconvert_exporter": "python",
   "pygments_lexer": "ipython3",
   "version": "3.6.4"
  },
  "toc": {
   "nav_menu": {},
   "number_sections": true,
   "sideBar": true,
   "skip_h1_title": false,
   "title_cell": "Table of Contents",
   "title_sidebar": "Contents",
   "toc_cell": true,
   "toc_position": {
    "height": "calc(100% - 180px)",
    "left": "10px",
    "top": "150px",
    "width": "284px"
   },
   "toc_section_display": true,
   "toc_window_display": true
  },
  "varInspector": {
   "cols": {
    "lenName": 16,
    "lenType": 16,
    "lenVar": 40
   },
   "kernels_config": {
    "python": {
     "delete_cmd_postfix": "",
     "delete_cmd_prefix": "del ",
     "library": "var_list.py",
     "varRefreshCmd": "print(var_dic_list())"
    },
    "r": {
     "delete_cmd_postfix": ") ",
     "delete_cmd_prefix": "rm(",
     "library": "var_list.r",
     "varRefreshCmd": "cat(var_dic_list()) "
    }
   },
   "types_to_exclude": [
    "module",
    "function",
    "builtin_function_or_method",
    "instance",
    "_Feature"
   ],
   "window_display": false
  }
 },
 "nbformat": 4,
 "nbformat_minor": 2
}
