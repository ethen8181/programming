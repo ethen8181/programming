{
 "cells": [
  {
   "cell_type": "code",
   "execution_count": 15,
   "metadata": {},
   "outputs": [],
   "source": [
    "import sys\n",
    "import pandas as pd\n",
    "import random\n",
    "import numpy as np"
   ]
  },
  {
   "cell_type": "code",
   "execution_count": 16,
   "metadata": {},
   "outputs": [],
   "source": [
    "def greedy(dataset, queries, bdict):\n",
    "    qdict = {}\n",
    "    for q in queries.values:\n",
    "        if q[0] not in qdict.keys():\n",
    "            qdict[q[0]] = dataset.loc[(dataset.Keyword == q[0])].sort_values(by = 'Bid Value', ascending = False).values\n",
    "            \n",
    "    calc_rev = 0\n",
    "    revenue = 0\n",
    "    new_budget = bdict.copy()\n",
    "    queries_new = queries[0].values\n",
    "    for q in queries_new:\n",
    "        for b in qdict[q]:\n",
    "            if new_budget[b[0]] - b[2] >= 0:\n",
    "                new_budget[b[0]] -= b[2]\n",
    "                revenue += b[2]\n",
    "                break\n",
    "    calc_rev += revenue\n",
    "    return calc_rev"
   ]
  },
  {
   "cell_type": "code",
   "execution_count": 17,
   "metadata": {},
   "outputs": [],
   "source": [
    "def msvv(dataset, queries, bdict):\n",
    "    qdict = {}\n",
    "    for q in queries[0].values:\n",
    "        if q not in qdict.keys():\n",
    "            qdict[q] = dataset.loc[(dataset.Keyword == q)].values\n",
    "\n",
    "    calc_rev = 0\n",
    "    spentbdict = dict.fromkeys(bdict, 0)\n",
    "    revenue = 0\t\n",
    "    queries_new = queries[0].values\n",
    "    for q in queries_new:\n",
    "        m_bid, m_adv = 0, 0\n",
    "        msvv = 0\n",
    "        for b in qdict[q]:\n",
    "            cmsvv = (b[2] * (1 - np.exp((spentbdict[b[0]] / bdict[b[0]]) - 1)))\n",
    "            if (msvv < cmsvv) and ((spentbdict[b[0]] + b[2]) <= bdict[b[0]]):\n",
    "                msvv = cmsvv\n",
    "                mbid = b[2]\n",
    "                madv = b[0]\n",
    "        spentbdict[madv] += mbid\n",
    "        revenue += mbid\n",
    "    calc_rev += revenue\n",
    "    return calc_rev"
   ]
  },
  {
   "cell_type": "code",
   "execution_count": 18,
   "metadata": {},
   "outputs": [],
   "source": [
    "def balance(bidder_dataset, queries, budget_dict):\n",
    "    qdict = {}\n",
    "    for q in queries[0].values:\n",
    "        if q not in qdict.keys():\n",
    "            qdict[q] = dataset.loc[(dataset.Keyword == q)].values\n",
    "\n",
    "    calc_rev = 0\n",
    "    revenue = 0\n",
    "    new_budget = bdict.copy()\n",
    "    queries_new = queries[0].values\n",
    "    for q in queries_new:\n",
    "        m, mbid, madv = 0, 0, 0\n",
    "        for b in qdict[q]:\n",
    "            if m < new_budget[b[0]] and new_budget[b[0]] >= b[2]:\n",
    "                m = new_budget[b[0]]\n",
    "                mbid = b[2]\n",
    "                madv = b[0]\n",
    "        new_budget[madv] -= mbid\n",
    "        revenue += mbid\n",
    "    calc_rev += revenue\t\n",
    "    return calc_rev"
   ]
  },
  {
   "cell_type": "code",
   "execution_count": 19,
   "metadata": {},
   "outputs": [],
   "source": [
    "dataset = pd.read_csv('bidder_dataset.csv')\n",
    "queries = pd.read_csv('queries.txt', header = None)\n",
    "algo = sys.argv[1]"
   ]
  },
  {
   "cell_type": "code",
   "execution_count": 24,
   "metadata": {},
   "outputs": [],
   "source": [
    "budget =  dataset.loc[(dataset.Budget > 0)]\n",
    "bdict = budget.set_index('Advertiser')['Budget'].to_dict()\n",
    "random.seed(0)"
   ]
  },
  {
   "cell_type": "code",
   "execution_count": 25,
   "metadata": {},
   "outputs": [
    {
     "name": "stdout",
     "output_type": "stream",
     "text": [
      "17671.0\n",
      "0.99\n"
     ]
    }
   ],
   "source": [
    "avg_rev = 0\n",
    "if (algo == \"greedy\"):\n",
    "    calc_rev = greedy(dataset, queries, bdict)\n",
    "    for i in range(100):\n",
    "        queries_new = queries.sample(frac=1)\n",
    "        calc_rev1 = greedy(dataset, queries_new, bdict)\n",
    "        avg_rev += calc_rev1\n",
    "    avg_rev = avg_rev/100\n",
    "elif (algo == \"msvv\"):\n",
    "    calc_rev = msvv(dataset, queries, bdict)\n",
    "    for i in range(100):\n",
    "        queries_new = queries.sample(frac=1)\n",
    "        calc_rev1 = msvv(dataset, queries_new, bdict)\n",
    "        avg_rev += calc_rev1\n",
    "    avg_rev = avg_rev/100\n",
    "elif (algo == \"balance\"):\n",
    "    calc_rev = balance(dataset, queries, bdict)\n",
    "    for i in range(100):\n",
    "        queries_new = queries.sample(frac=1)\n",
    "        calc_rev1 = balance(dataset, queries_new, bdict)\n",
    "        avg_rev += calc_rev1\n",
    "    avg_rev = avg_rev/100\n",
    "    \n",
    "print (round(calc_rev,2))\n",
    "print (round(avg_rev/sum(bdict.values()),2))"
   ]
  },
  {
   "cell_type": "code",
   "execution_count": null,
   "metadata": {},
   "outputs": [],
   "source": [
    "\n"
   ]
  },
  {
   "cell_type": "code",
   "execution_count": null,
   "metadata": {},
   "outputs": [],
   "source": []
  },
  {
   "cell_type": "code",
   "execution_count": null,
   "metadata": {},
   "outputs": [],
   "source": []
  }
 ],
 "metadata": {
  "kernelspec": {
   "display_name": "Python 3 (ipykernel)",
   "language": "python",
   "name": "python3"
  },
  "language_info": {
   "codemirror_mode": {
    "name": "ipython",
    "version": 3
   },
   "file_extension": ".py",
   "mimetype": "text/x-python",
   "name": "python",
   "nbconvert_exporter": "python",
   "pygments_lexer": "ipython3",
   "version": "3.7.11"
  },
  "toc": {
   "base_numbering": 1,
   "nav_menu": {},
   "number_sections": true,
   "sideBar": true,
   "skip_h1_title": false,
   "title_cell": "Table of Contents",
   "title_sidebar": "Contents",
   "toc_cell": false,
   "toc_position": {},
   "toc_section_display": true,
   "toc_window_display": false
  }
 },
 "nbformat": 4,
 "nbformat_minor": 2
}
