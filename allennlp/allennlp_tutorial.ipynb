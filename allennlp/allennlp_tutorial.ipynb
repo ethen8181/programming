{
 "cells": [
  {
   "cell_type": "markdown",
   "metadata": {
    "toc": true
   },
   "source": [
    "<h1>Table of Contents<span class=\"tocSkip\"></span></h1>\n",
    "<div class=\"toc\"><ul class=\"toc-item\"><li><span><a href=\"#AllenNLP-WalkThrough---Part-of-Speech-Tagging\" data-toc-modified-id=\"AllenNLP-WalkThrough---Part-of-Speech-Tagging-1\"><span class=\"toc-item-num\">1&nbsp;&nbsp;</span>AllenNLP WalkThrough - Part of Speech Tagging</a></span><ul class=\"toc-item\"><li><span><a href=\"#DatasetReader\" data-toc-modified-id=\"DatasetReader-1.1\"><span class=\"toc-item-num\">1.1&nbsp;&nbsp;</span><a href=\"https://allenai.github.io/allennlp-docs/api/allennlp.data.dataset_readers.dataset_reader.html\" target=\"_blank\">DatasetReader</a></a></span><ul class=\"toc-item\"><li><span><a href=\"#text_to_instance\" data-toc-modified-id=\"text_to_instance-1.1.1\"><span class=\"toc-item-num\">1.1.1&nbsp;&nbsp;</span>text_to_instance</a></span></li><li><span><a href=\"#_read\" data-toc-modified-id=\"_read-1.1.2\"><span class=\"toc-item-num\">1.1.2&nbsp;&nbsp;</span>_read</a></span></li><li><span><a href=\"#init\" data-toc-modified-id=\"init-1.1.3\"><span class=\"toc-item-num\">1.1.3&nbsp;&nbsp;</span>init</a></span></li></ul></li><li><span><a href=\"#Vocabulary\" data-toc-modified-id=\"Vocabulary-1.2\"><span class=\"toc-item-num\">1.2&nbsp;&nbsp;</span><a href=\"https://allenai.github.io/allennlp-docs/api/allennlp.data.vocabulary.html\" target=\"_blank\">Vocabulary</a></a></span></li><li><span><a href=\"#Iterators\" data-toc-modified-id=\"Iterators-1.3\"><span class=\"toc-item-num\">1.3&nbsp;&nbsp;</span><a href=\"https://allenai.github.io/allennlp-docs/api/allennlp.data.iterators.html\" target=\"_blank\">Iterators</a></a></span></li><li><span><a href=\"#Model\" data-toc-modified-id=\"Model-1.4\"><span class=\"toc-item-num\">1.4&nbsp;&nbsp;</span><a href=\"https://allenai.github.io/allennlp-docs/api/allennlp.models.model.html#allennlp.models.model.Model\" target=\"_blank\">Model</a></a></span><ul class=\"toc-item\"><li><span><a href=\"#Embedder\" data-toc-modified-id=\"Embedder-1.4.1\"><span class=\"toc-item-num\">1.4.1&nbsp;&nbsp;</span>Embedder</a></span></li><li><span><a href=\"#Encoder\" data-toc-modified-id=\"Encoder-1.4.2\"><span class=\"toc-item-num\">1.4.2&nbsp;&nbsp;</span>Encoder</a></span></li><li><span><a href=\"#init\" data-toc-modified-id=\"init-1.4.3\"><span class=\"toc-item-num\">1.4.3&nbsp;&nbsp;</span>init</a></span></li><li><span><a href=\"#forward\" data-toc-modified-id=\"forward-1.4.4\"><span class=\"toc-item-num\">1.4.4&nbsp;&nbsp;</span>forward</a></span></li><li><span><a href=\"#get_metrics\" data-toc-modified-id=\"get_metrics-1.4.5\"><span class=\"toc-item-num\">1.4.5&nbsp;&nbsp;</span>get_metrics</a></span></li></ul></li><li><span><a href=\"#Trainer\" data-toc-modified-id=\"Trainer-1.5\"><span class=\"toc-item-num\">1.5&nbsp;&nbsp;</span>Trainer</a></span></li><li><span><a href=\"#Predictor\" data-toc-modified-id=\"Predictor-1.6\"><span class=\"toc-item-num\">1.6&nbsp;&nbsp;</span>Predictor</a></span></li><li><span><a href=\"#Serialization-&amp;-DeSerialization\" data-toc-modified-id=\"Serialization-&amp;-DeSerialization-1.7\"><span class=\"toc-item-num\">1.7&nbsp;&nbsp;</span>Serialization &amp; DeSerialization</a></span></li></ul></li><li><span><a href=\"#Reference\" data-toc-modified-id=\"Reference-2\"><span class=\"toc-item-num\">2&nbsp;&nbsp;</span>Reference</a></span></li></ul></div>"
   ]
  },
  {
   "cell_type": "code",
   "execution_count": 1,
   "metadata": {},
   "outputs": [
    {
     "name": "stdout",
     "output_type": "stream",
     "text": [
      "Ethen 2019-10-16 12:39:59 \n",
      "\n",
      "CPython 3.6.4\n",
      "IPython 7.7.0\n",
      "\n",
      "numpy 1.16.5\n",
      "torch 1.3.0\n",
      "allennlp 0.9.0\n",
      "nltk 3.2.5\n"
     ]
    }
   ],
   "source": [
    "# 1. magic for inline plot\n",
    "# 2. magic to print version\n",
    "# 3. magic so that the notebook will reload external python modules\n",
    "# 4. magic to enable retina (high resolution) plots\n",
    "# https://gist.github.com/minrk/3301035\n",
    "%matplotlib inline\n",
    "%load_ext watermark\n",
    "%load_ext autoreload\n",
    "%autoreload 2\n",
    "%config InlineBackend.figure_format='retina'\n",
    "\n",
    "import os\n",
    "import time\n",
    "import torch\n",
    "import numpy as np\n",
    "import torch.nn as nn\n",
    "import torch.optim as optim\n",
    "from overrides import overrides\n",
    "from typing import Iterator, List, Dict, Tuple\n",
    "\n",
    "%watermark -a 'Ethen' -d -t -v -p numpy,torch,allennlp,nltk"
   ]
  },
  {
   "cell_type": "markdown",
   "metadata": {},
   "source": [
    "# AllenNLP WalkThrough - Part of Speech Tagging"
   ]
  },
  {
   "cell_type": "markdown",
   "metadata": {},
   "source": [
    "The problem of Part of Speech Tagging looks like the following: given a sentence (e.g. \"The dog ate the apple\") we want to predict the part-of-speech tags for each word [\"DET\", \"NN\", \"V\", \"DET\", \"NN\"]. This this documentation, we'll walkthrough the process of using the AllenNLP framework to solve for this particular problem.\n",
    "\n",
    "AllenNLP at its core is a framework for constructing pipelines to train NLP models. We can leverage different components of the framework or implement our custom components at different steps to tackle various NLP problems.\n",
    "\n",
    "A typical AllenNLP pipeline is composed of the following components:\n",
    "\n",
    "- DatasetReader: Extracts necessary information from the data and turns them into a list of `Instance` objects.\n",
    "- Model: The model to be trained. This is where we define the various architecture of the neural network.\n",
    "- Iterator: Batches the data.\n",
    "- Trainer: Handles training/optimization and metric recording.\n",
    "- Predictor: Generates predictions from raw strings.\n",
    "\n",
    "Each of these components is loosely coupled, meaning it is easy to swap different components in without having to change other parts of your code. To take full advantage of all the features available, we'll need to spend some time and understand what each component is responsible for and what protocols it must respect for these parts to work well together."
   ]
  },
  {
   "cell_type": "code",
   "execution_count": 2,
   "metadata": {},
   "outputs": [
    {
     "data": {
      "text/plain": [
       "<torch._C.Generator at 0x12a7b64d0>"
      ]
     },
     "execution_count": 2,
     "metadata": {},
     "output_type": "execute_result"
    }
   ],
   "source": [
    "# some constant parameters we can tweak along the way\n",
    "seed = 1\n",
    "batch_size = 32\n",
    "embedding_dim = 100\n",
    "hidden_dim = 128\n",
    "lr = 0.1\n",
    "num_epochs = 1\n",
    "\n",
    "torch.manual_seed(seed)"
   ]
  },
  {
   "cell_type": "markdown",
   "metadata": {},
   "source": [
    "## [DatasetReader](https://allenai.github.io/allennlp-docs/api/allennlp.data.dataset_readers.dataset_reader.html)"
   ]
  },
  {
   "cell_type": "markdown",
   "metadata": {},
   "source": [
    "In AllenNLP each training example is represented as an `Instance` consisting of `Fields` of various types. A `DatasetReader` defines the logic to generate those instances (typically) from data stored on disk.\n",
    "\n",
    "Typically to create a `DatasetReader` we'd implement two methods:\n",
    "\n",
    "- `text_to_instance`. The naming for this method is slightly misleading, as it handles not only our text, but also labels, metadata, and anything else that we model will need later on. The essence of this method is to take the data for a single example and pack it into an `Instance` object. Instance objects are very similar to dictionaries, and all you need to know about them in practice is that they are instantiated with a dictionary mapping field names to `Field`.\n",
    "\n",
    "- `_read` takes the path to an input file and returns an Iterator of `Instances`. (It will probably delegate most of its work to `text_to_instance`.)\n",
    "\n",
    "We'll introduce more as we go along."
   ]
  },
  {
   "cell_type": "code",
   "execution_count": 3,
   "metadata": {},
   "outputs": [],
   "source": [
    "from allennlp.data import Instance\n",
    "from allennlp.data.fields import TextField, SequenceLabelField\n",
    "from allennlp.data.dataset_readers import DatasetReader\n",
    "from allennlp.data.token_indexers import TokenIndexer, SingleIdTokenIndexer\n",
    "from allennlp.data.tokenizers import Token"
   ]
  },
  {
   "cell_type": "code",
   "execution_count": 4,
   "metadata": {},
   "outputs": [],
   "source": [
    "class PosDatasetReader(DatasetReader):\n",
    "    \"\"\"\n",
    "    DatasetReader for PoS tagging data, one sentence per line, like\n",
    "\n",
    "    The\\u0001DET dog\\u0001NN ate\\u0001V the\\u0001DET apple\\u0001NN\n",
    "    \n",
    "    i.e. we have the corresponding part of speech tagging for each token in the sentence\n",
    "    where each token and tag is delimited by a \\u0001 symbol and each pair is then delimited\n",
    "    by a white-space.\n",
    "    \"\"\"\n",
    "\n",
    "    def __init__(self,\n",
    "                 token_indexers: Dict[str, TokenIndexer] = None,\n",
    "                 lazy: bool = False,\n",
    "                 token_tag_delimiter: str = '\\u0001') -> None:\n",
    "        super().__init__(lazy=lazy)\n",
    "        self.token_indexers = token_indexers or {'tokens': SingleIdTokenIndexer()}\n",
    "        self.token_tag_delimiter = token_tag_delimiter\n",
    "\n",
    "    @overrides\n",
    "    def text_to_instance(self, tokens: List[Token], tags: List[str] = None) -> Instance:\n",
    "        sentence_field = TextField(tokens, self.token_indexers)\n",
    "        fields = {'sentence': sentence_field}\n",
    "\n",
    "        if tags:\n",
    "            label_field = SequenceLabelField(labels=tags, sequence_field=sentence_field)\n",
    "            fields['labels'] = label_field\n",
    "\n",
    "        return Instance(fields)\n",
    "\n",
    "    @overrides\n",
    "    def _read(self, file_path: str) -> Iterator[Instance]:\n",
    "        \"\"\"takes a filename and produces a stream of Instance.\"\"\"\n",
    "        with open(file_path) as f:\n",
    "            for line in f:\n",
    "                pairs = line.strip().split()\n",
    "                sentence, tags = zip(*(pair.split(self.token_tag_delimiter) for pair in pairs))\n",
    "                yield self.text_to_instance([Token(word) for word in sentence], tags) "
   ]
  },
  {
   "cell_type": "markdown",
   "metadata": {},
   "source": [
    "### text_to_instance"
   ]
  },
  {
   "cell_type": "markdown",
   "metadata": {},
   "source": [
    "A couple of things to notice. The first is that the tokens variable is a `List[Token]` (and not a `List[str]`). If we use some of the built in tokenizer, e.g. `WordTokenizer`, that's already the output we'll get. If we have pre-tokenized data, we just need to wrap each string token in a call to `Token`.\n",
    "\n",
    "Another thing to notice is that the tags/labels are optional. This is so that after we train a model we can use it to make predictions on untagged data (which clearly won't have any tags).\n",
    "\n",
    "We've mentioned in the previous section that `Instance` is a dictionary of `Field`. Now is a good time to touch upon `Field`. `Field` objects in AllenNLP handles the conversion of our data into tensors, these tensors are then fed into the model.\n",
    "\n",
    "Here we're using the `TextField` for our tokens. The `TextField` does what all good NLP libraries do: it converts a sequence of tokens into integers. Be careful here though, since this is all the `TextField` does. It doesn’t clean the text, tokenize the text, etc.. we'll need to do that yourself. `TextField` takes an additional argument on `init`: the token indexer. Though the `TextField` handles converting tokens to integers, we need to tell it how to do this. Why? Because we might want to use a character-level model instead of a word-level model. AllenNLP gives us the flexibility of specifying these attributes.\n",
    "\n",
    "As for the tags/labels. We put them in a `SequenceLabelField`, which is for labels corresponding to each element of a sequence. If we had a label that applied to the entire sentence, for example \"sentiment\", we would instead use a `LabelField`.\n",
    "\n",
    "Finally, we just return an Instance containing the dict field_name -> Field.\n",
    "\n",
    "Usually a `DatasetReader` will need to have a `dict` of `TokenIndexer`s that specify how we want to convert text tokens into indices. For instance, we will usually have a `SingleIdTokenIndexer` which maps each word to a unique ID, and you might also (or instead) have a TokenCharactersIndexer, which maps each word to a sequence of indices corresponding to its characters."
   ]
  },
  {
   "cell_type": "markdown",
   "metadata": {},
   "source": [
    "### _read"
   ]
  },
  {
   "cell_type": "markdown",
   "metadata": {},
   "source": [
    "The main purpose of this method is to produce a stream of `Instance`.\n",
    "\n",
    "We split each line on spaces to get pairs word###TAG, split each pair to get tuples (word, tag), use zip to break those into a list of words and a list of tags, wrap each word in Token (as described in the previous section), and then call `text_to_instance`.\n",
    "\n",
    "The reason for splitting the logic into two functions is that `text_to_instance` is useful on its own, for instance, if you build an interactive demo for your model and want to produce Instances from user-supplied sentences."
   ]
  },
  {
   "cell_type": "markdown",
   "metadata": {},
   "source": [
    "### init"
   ]
  },
  {
   "cell_type": "markdown",
   "metadata": {},
   "source": [
    "The `__init__` method takes in the token indexer that we'll use for the `TextField` and a `lazy` parameter.\n",
    "\n",
    "- `lazy`. If we're working with datasets that don't fit into memory. AllenNLP can lazily load the data (only read the data into memory when you actually need it). This does impose some additional complexity and runtime overhead.\n",
    "\n",
    "We can also add other parameters to make our reader more customizable, e.g. provide various options for the tokenization part."
   ]
  },
  {
   "cell_type": "code",
   "execution_count": 5,
   "metadata": {},
   "outputs": [
    {
     "name": "stdout",
     "output_type": "stream",
     "text": [
      "[nltk_data] Downloading package treebank to\n",
      "[nltk_data]     /Users/mingyuliu/nltk_data...\n",
      "[nltk_data]   Package treebank is already up-to-date!\n",
      "[nltk_data] Downloading package universal_tagset to\n",
      "[nltk_data]     /Users/mingyuliu/nltk_data...\n",
      "[nltk_data]   Package universal_tagset is already up-to-date!\n",
      "number of sentences:  3914\n"
     ]
    },
    {
     "data": {
      "text/plain": [
       "[('Pierre', 'NOUN'),\n",
       " ('Vinken', 'NOUN'),\n",
       " (',', '.'),\n",
       " ('61', 'NUM'),\n",
       " ('years', 'NOUN'),\n",
       " ('old', 'ADJ'),\n",
       " (',', '.'),\n",
       " ('will', 'VERB'),\n",
       " ('join', 'VERB'),\n",
       " ('the', 'DET'),\n",
       " ('board', 'NOUN'),\n",
       " ('as', 'ADP'),\n",
       " ('a', 'DET'),\n",
       " ('nonexecutive', 'ADJ'),\n",
       " ('director', 'NOUN'),\n",
       " ('Nov.', 'NOUN'),\n",
       " ('29', 'NUM'),\n",
       " ('.', '.')]"
      ]
     },
     "execution_count": 5,
     "metadata": {},
     "output_type": "execute_result"
    }
   ],
   "source": [
    "import nltk\n",
    "from nltk.corpus import treebank\n",
    "\n",
    "nltk.download('treebank')\n",
    "nltk.download('universal_tagset')\n",
    "\n",
    "sentences = treebank.tagged_sents(tagset='universal')\n",
    "print('number of sentences: ', len(sentences))\n",
    "sentences[0]"
   ]
  },
  {
   "cell_type": "markdown",
   "metadata": {},
   "source": [
    "We would write out the file, so that each line of our dataset looks something like:\n",
    "\n",
    "`The###DET dog###NN ate###V the###DET apple###NN`"
   ]
  },
  {
   "cell_type": "code",
   "execution_count": 6,
   "metadata": {},
   "outputs": [],
   "source": [
    "def write_nltk_treebank_tagged_sents(sentences: List[Tuple[str, str]], output_filename: str,\n",
    "                                     token_tag_delimiter: str = '\\u0001') -> None:\n",
    "    directory, _ = os.path.split(output_filename)\n",
    "    if not os.path.exists(directory):\n",
    "        os.makedirs(directory, exist_ok=True)\n",
    "\n",
    "    with open(output_filename, 'w') as f:\n",
    "        for sentence in sentences:\n",
    "            line = ' '.join(token + token_tag_delimiter + tag for token, tag in sentence)\n",
    "            f.write(line + '\\n')"
   ]
  },
  {
   "cell_type": "code",
   "execution_count": 7,
   "metadata": {},
   "outputs": [],
   "source": [
    "validation_size = 0.2\n",
    "sentences = treebank.tagged_sents(tagset='universal')\n",
    "\n",
    "train_index = 1 - int(validation_size * len(sentences)) \n",
    "training_sentences = sentences[:train_index]\n",
    "validation_sentences = sentences[train_index:]\n",
    "\n",
    "train_dataset_path = 'data/treebank_tagged_sents_train.txt'\n",
    "validation_dataset_path = 'data/treebank_tagged_sents_validation.txt'\n",
    "write_nltk_treebank_tagged_sents(training_sentences, train_dataset_path)\n",
    "write_nltk_treebank_tagged_sents(validation_sentences, validation_dataset_path)"
   ]
  },
  {
   "cell_type": "code",
   "execution_count": 8,
   "metadata": {},
   "outputs": [
    {
     "name": "stderr",
     "output_type": "stream",
     "text": [
      "3133it [00:00, 12789.90it/s]\n",
      "781it [00:00, 18248.09it/s]\n"
     ]
    },
    {
     "data": {
      "text/plain": [
       "[Pierre,\n",
       " Vinken,\n",
       " ,,\n",
       " 61,\n",
       " years,\n",
       " old,\n",
       " ,,\n",
       " will,\n",
       " join,\n",
       " the,\n",
       " board,\n",
       " as,\n",
       " a,\n",
       " nonexecutive,\n",
       " director,\n",
       " Nov.,\n",
       " 29,\n",
       " .]"
      ]
     },
     "execution_count": 8,
     "metadata": {},
     "output_type": "execute_result"
    }
   ],
   "source": [
    "reader = PosDatasetReader()\n",
    "train_dataset = reader.read(train_dataset_path)\n",
    "validation_dataset = reader.read(validation_dataset_path)\n",
    "\n",
    "# for example, we can access the first element of the Stream of Instance\n",
    "# and access the TextField, which we keyed as 'sentence', and access the\n",
    "# tokens attribute to look at the tokenized word\n",
    "train_dataset[0].fields['sentence'].tokens"
   ]
  },
  {
   "cell_type": "markdown",
   "metadata": {},
   "source": [
    "## [Vocabulary](https://allenai.github.io/allennlp-docs/api/allennlp.data.vocabulary.html)"
   ]
  },
  {
   "cell_type": "markdown",
   "metadata": {},
   "source": [
    "The other thing that goes hand in hand with our `DatasetReader` and `Iterator` that we'll discuss in then next section is `Vocabulary`. To build the vocabulary, you need to pass through all the text. We can only convert fields into tensors after you know what the vocabulary is."
   ]
  },
  {
   "cell_type": "code",
   "execution_count": 9,
   "metadata": {},
   "outputs": [
    {
     "name": "stderr",
     "output_type": "stream",
     "text": [
      "100%|██████████| 3914/3914 [00:00<00:00, 48085.70it/s]\n"
     ]
    },
    {
     "data": {
      "text/plain": [
       "Vocabulary with namespaces:  tokens, Size: 12410 || labels, Size: 12 || Non Padded Namespaces: {'*labels', '*tags'}"
      ]
     },
     "execution_count": 9,
     "metadata": {},
     "output_type": "execute_result"
    }
   ],
   "source": [
    "from allennlp.data.vocabulary import Vocabulary\n",
    "\n",
    "vocab = Vocabulary.from_instances(train_dataset + validation_dataset)\n",
    "vocab"
   ]
  },
  {
   "cell_type": "code",
   "execution_count": 10,
   "metadata": {},
   "outputs": [
    {
     "data": {
      "text/plain": [
       "['NOUN',\n",
       " 'VERB',\n",
       " '.',\n",
       " 'ADP',\n",
       " 'DET',\n",
       " 'X',\n",
       " 'ADJ',\n",
       " 'NUM',\n",
       " 'PRT',\n",
       " 'ADV',\n",
       " 'PRON',\n",
       " 'CONJ']"
      ]
     },
     "execution_count": 10,
     "metadata": {},
     "output_type": "execute_result"
    }
   ],
   "source": [
    "# look at the distinct labels we have in our dataset\n",
    "[vocab.get_token_from_index(i, 'labels') for i in range(vocab.get_vocab_size('labels'))]"
   ]
  },
  {
   "cell_type": "markdown",
   "metadata": {},
   "source": [
    "## [Iterators](https://allenai.github.io/allennlp-docs/api/allennlp.data.iterators.html)"
   ]
  },
  {
   "cell_type": "markdown",
   "metadata": {},
   "source": [
    "Neural networks are usually trained on mini batches of tensors, not lists of data. Therefore, datasets need to be batched and converted to tensors. This seems trivial at first glance, but there is a lot of subtlety here. To list just a few things we have to consider:\n",
    "\n",
    "- Sequences of different lengths need to be padded\n",
    "- To minimize padding, sequences of similar lengths can be put in the same batch\n",
    "- Tensors need to be sent to the GPU if using the GPU\n",
    "- Data needs to be shuffled at the end of each epoch during training, but we don't want to shuffle in the midst of an epoch in order to cover all examples evenly\n",
    "\n",
    "Thankfully, AllenNLP has several convenient iterators that will take care of all of these problems behind the scenes, Therefore, you will rarely have to implement your own Iterators from scratch."
   ]
  },
  {
   "cell_type": "code",
   "execution_count": 11,
   "metadata": {},
   "outputs": [],
   "source": [
    "from allennlp.data.iterators import BucketIterator\n",
    "\n",
    "iterator = BucketIterator(batch_size=batch_size, sorting_keys=[('sentence', 'num_tokens')])\n",
    "iterator.index_with(vocab)"
   ]
  },
  {
   "cell_type": "markdown",
   "metadata": {},
   "source": [
    "The `BucketIterator` batches sequences of similar lengths together to minimize padding. `sorting_keys` keyword argument tells the iterator which field to reference when determining the text length of each instance. Here `sentence` is the key to our `TextField` and `num_tokens` is a padding key keyword that tells it to sort according to the number of tokens for that field.\n",
    "\n",
    "Iterators are responsible for converting our text to numerical ids. We pass the vocabulary we built earlier so that the Iterator knows how to map our text to integers."
   ]
  },
  {
   "cell_type": "code",
   "execution_count": 12,
   "metadata": {},
   "outputs": [
    {
     "data": {
      "text/plain": [
       "{'sentence': {'tokens': tensor([[  93,  556,    5,  ...,    0,    0,    0],\n",
       "          [ 128,   23,   11,  ...,    0,    0,    0],\n",
       "          [  19,  284, 1559,  ...,    0,    0,    0],\n",
       "          ...,\n",
       "          [  58,    3, 1254,  ...,    0,    0,    0],\n",
       "          [ 557, 2524,   11,  ...,    0,    0,    0],\n",
       "          [ 221,  916, 1186,  ...,    0,    0,    0]])},\n",
       " 'labels': tensor([[ 4,  0,  3,  ...,  0,  0,  0],\n",
       "         [10,  1,  5,  ...,  0,  0,  0],\n",
       "         [ 4,  0,  1,  ...,  0,  0,  0],\n",
       "         ...,\n",
       "         [ 3,  4,  6,  ...,  0,  0,  0],\n",
       "         [ 7,  0,  5,  ...,  0,  0,  0],\n",
       "         [11,  0,  0,  ...,  0,  0,  0]])}"
      ]
     },
     "execution_count": 12,
     "metadata": {},
     "output_type": "execute_result"
    }
   ],
   "source": [
    "# have a peak at how the output from the iterator would look like\n",
    "# when passing in the train_dataset from earlier\n",
    "batch = next(iter(iterator(train_dataset)))\n",
    "batch"
   ]
  },
  {
   "cell_type": "code",
   "execution_count": 13,
   "metadata": {},
   "outputs": [
    {
     "data": {
      "text/plain": [
       "torch.Size([32, 35])"
      ]
     },
     "execution_count": 13,
     "metadata": {},
     "output_type": "execute_result"
    }
   ],
   "source": [
    "batch['sentence']['tokens'].shape"
   ]
  },
  {
   "cell_type": "markdown",
   "metadata": {},
   "source": [
    "Note the `tokens` key is the key name that we've specified for our `token_indexers`."
   ]
  },
  {
   "cell_type": "markdown",
   "metadata": {},
   "source": [
    "## [Model](https://allenai.github.io/allennlp-docs/api/allennlp.models.model.html#allennlp.models.model.Model)"
   ]
  },
  {
   "cell_type": "code",
   "execution_count": 14,
   "metadata": {},
   "outputs": [],
   "source": [
    "from allennlp.models import Model\n",
    "from allennlp.modules.text_field_embedders import TextFieldEmbedder, BasicTextFieldEmbedder\n",
    "from allennlp.modules.token_embedders import Embedding\n",
    "from allennlp.modules.seq2seq_encoders import Seq2SeqEncoder, PytorchSeq2SeqWrapper\n",
    "from allennlp.nn.util import get_text_field_mask, sequence_cross_entropy_with_logits\n",
    "from allennlp.training.metrics import CategoricalAccuracy"
   ]
  },
  {
   "cell_type": "markdown",
   "metadata": {},
   "source": [
    "Now that we've prepared the data, the next part is the `Model`. AllenNLP models is mostly a subclass of `torch.nn.Module`. How the forward pass looks like is mainly up to us. The only key difference is that AllenNLP models are required to compute the loss function within the forward method during training and return a dictionary for every forward pass that includes that loss value. This output is what the downstream `Trainer` expects. (we'll touch upon in the next section).\n",
    "\n",
    "AllenNLP models are generally composed from the following components:\n",
    "\n",
    "- A token embedder\n",
    "- An encoder\n",
    "- (For seq-to-seq models) A decoder\n",
    "\n",
    "In this example, we will create a model that consists of an embedding layer, a sequence encoder, and a feedforward network that predicts the tags."
   ]
  },
  {
   "cell_type": "markdown",
   "metadata": {},
   "source": [
    "### Embedder"
   ]
  },
  {
   "cell_type": "markdown",
   "metadata": {},
   "source": [
    "The embedder maps a sequence of token ids (or character ids) into a sequence of tensors.\n",
    "\n",
    "For embedding the tokens we'll use the `BasicTextFieldEmbedder` which takes a mapping from index names to embeddings. If we go back to where we defined our `DatasetReader`, the key to our token_indexers was called `tokens`, so our mapping just needs an embedding corresponding to that index. \n",
    "\n",
    "We'll also use the `Vocabulary` to find how many embeddings we need and our `embedding_dim` parameter to specify the output dimension."
   ]
  },
  {
   "cell_type": "code",
   "execution_count": 15,
   "metadata": {},
   "outputs": [],
   "source": [
    "token_embedding = Embedding(num_embeddings=vocab.get_vocab_size('tokens'),\n",
    "                            embedding_dim=embedding_dim)\n",
    "word_embeddings = BasicTextFieldEmbedder({'tokens': token_embedding})"
   ]
  },
  {
   "cell_type": "markdown",
   "metadata": {},
   "source": [
    "### Encoder"
   ]
  },
  {
   "cell_type": "markdown",
   "metadata": {},
   "source": [
    "We next need to specify the sequence encoder. AllenNLP provides a `PytorchSeq2SeqWrapper` that has some extra functionality to the built-in PyTorch module. In AllenNLP, we do everything batch first, so we specify that as well."
   ]
  },
  {
   "cell_type": "code",
   "execution_count": 16,
   "metadata": {},
   "outputs": [],
   "source": [
    "lstm = PytorchSeq2SeqWrapper(torch.nn.LSTM(embedding_dim, hidden_dim, batch_first=True))"
   ]
  },
  {
   "cell_type": "markdown",
   "metadata": {},
   "source": [
    "We can define and instantiate the model."
   ]
  },
  {
   "cell_type": "code",
   "execution_count": 17,
   "metadata": {},
   "outputs": [],
   "source": [
    "class LstmTagger(Model):\n",
    "\n",
    "    def __init__(self,\n",
    "                 word_embeddings: TextFieldEmbedder,\n",
    "                 encoder: Seq2SeqEncoder,\n",
    "                 vocab: Vocabulary) -> None:\n",
    "\n",
    "        super().__init__(vocab)\n",
    "        self.word_embeddings = word_embeddings\n",
    "        self.encoder = encoder\n",
    "        self.hidden2class = nn.Linear(encoder.get_output_dim(),\n",
    "                                      vocab.get_vocab_size('labels'))\n",
    "        self.accuracy = CategoricalAccuracy()\n",
    "\n",
    "    @overrides\n",
    "    def forward(self,\n",
    "                sentence: Dict[str, torch.Tensor],\n",
    "                labels: torch.Tensor = None) -> Dict[str, torch.Tensor]:\n",
    "\n",
    "        mask = get_text_field_mask(sentence)\n",
    "        embeddings = self.word_embeddings(sentence)\n",
    "        encoder_out = self.encoder(embeddings, mask)\n",
    "        class_logits = self.hidden2class(encoder_out)\n",
    "        output = {'class_logits': class_logits}\n",
    "\n",
    "        if labels is not None:\n",
    "            self.accuracy(class_logits, labels, mask)\n",
    "            output['loss'] = sequence_cross_entropy_with_logits(class_logits, labels, mask)\n",
    "\n",
    "        return output\n",
    "\n",
    "    @overrides\n",
    "    def get_metrics(self, reset: bool = False) -> Dict[str, float]:\n",
    "        return {\"accuracy\": self.accuracy.get_metric(reset)}"
   ]
  },
  {
   "cell_type": "code",
   "execution_count": 18,
   "metadata": {},
   "outputs": [
    {
     "data": {
      "text/plain": [
       "{'class_logits': tensor([[[-0.0594,  0.0619, -0.0828,  ...,  0.0825, -0.0795,  0.0140],\n",
       "          [-0.0686,  0.0632, -0.0823,  ...,  0.0803, -0.0797,  0.0129],\n",
       "          [-0.0729,  0.0613, -0.0810,  ...,  0.0801, -0.0799,  0.0128],\n",
       "          ...,\n",
       "          [-0.0422,  0.0618, -0.0874,  ...,  0.0809, -0.0773,  0.0100],\n",
       "          [-0.0422,  0.0618, -0.0874,  ...,  0.0809, -0.0773,  0.0100],\n",
       "          [-0.0422,  0.0618, -0.0874,  ...,  0.0809, -0.0773,  0.0100]],\n",
       " \n",
       "         [[-0.0604,  0.0624, -0.0809,  ...,  0.0825, -0.0782,  0.0138],\n",
       "          [-0.0698,  0.0618, -0.0785,  ...,  0.0831, -0.0788,  0.0144],\n",
       "          [-0.0747,  0.0592, -0.0799,  ...,  0.0833, -0.0791,  0.0129],\n",
       "          ...,\n",
       "          [-0.0422,  0.0618, -0.0874,  ...,  0.0809, -0.0773,  0.0100],\n",
       "          [-0.0422,  0.0618, -0.0874,  ...,  0.0809, -0.0773,  0.0100],\n",
       "          [-0.0422,  0.0618, -0.0874,  ...,  0.0809, -0.0773,  0.0100]],\n",
       " \n",
       "         [[-0.0600,  0.0608, -0.0820,  ...,  0.0826, -0.0793,  0.0134],\n",
       "          [-0.0690,  0.0611, -0.0800,  ...,  0.0808, -0.0809,  0.0132],\n",
       "          [-0.0728,  0.0616, -0.0798,  ...,  0.0797, -0.0781,  0.0117],\n",
       "          ...,\n",
       "          [-0.0422,  0.0618, -0.0874,  ...,  0.0809, -0.0773,  0.0100],\n",
       "          [-0.0422,  0.0618, -0.0874,  ...,  0.0809, -0.0773,  0.0100],\n",
       "          [-0.0422,  0.0618, -0.0874,  ...,  0.0809, -0.0773,  0.0100]],\n",
       " \n",
       "         ...,\n",
       " \n",
       "         [[-0.0594,  0.0625, -0.0826,  ...,  0.0843, -0.0784,  0.0147],\n",
       "          [-0.0696,  0.0615, -0.0808,  ...,  0.0837, -0.0789,  0.0138],\n",
       "          [-0.0744,  0.0601, -0.0790,  ...,  0.0826, -0.0784,  0.0126],\n",
       "          ...,\n",
       "          [-0.0422,  0.0618, -0.0874,  ...,  0.0809, -0.0773,  0.0100],\n",
       "          [-0.0422,  0.0618, -0.0874,  ...,  0.0809, -0.0773,  0.0100],\n",
       "          [-0.0422,  0.0618, -0.0874,  ...,  0.0809, -0.0773,  0.0100]],\n",
       " \n",
       "         [[-0.0587,  0.0616, -0.0832,  ...,  0.0837, -0.0819,  0.0140],\n",
       "          [-0.0661,  0.0627, -0.0809,  ...,  0.0822, -0.0811,  0.0153],\n",
       "          [-0.0725,  0.0597, -0.0809,  ...,  0.0832, -0.0803,  0.0131],\n",
       "          ...,\n",
       "          [-0.0422,  0.0618, -0.0874,  ...,  0.0809, -0.0773,  0.0100],\n",
       "          [-0.0422,  0.0618, -0.0874,  ...,  0.0809, -0.0773,  0.0100],\n",
       "          [-0.0422,  0.0618, -0.0874,  ...,  0.0809, -0.0773,  0.0100]],\n",
       " \n",
       "         [[-0.0580,  0.0619, -0.0810,  ...,  0.0823, -0.0796,  0.0155],\n",
       "          [-0.0682,  0.0628, -0.0795,  ...,  0.0802, -0.0781,  0.0147],\n",
       "          [-0.0732,  0.0611, -0.0797,  ...,  0.0797, -0.0778,  0.0121],\n",
       "          ...,\n",
       "          [-0.0422,  0.0618, -0.0874,  ...,  0.0809, -0.0773,  0.0100],\n",
       "          [-0.0422,  0.0618, -0.0874,  ...,  0.0809, -0.0773,  0.0100],\n",
       "          [-0.0422,  0.0618, -0.0874,  ...,  0.0809, -0.0773,  0.0100]]],\n",
       "        grad_fn=<AddBackward0>),\n",
       " 'loss': tensor(2.4979, grad_fn=<DivBackward0>)}"
      ]
     },
     "execution_count": 18,
     "metadata": {},
     "output_type": "execute_result"
    }
   ],
   "source": [
    "model = LstmTagger(word_embeddings, lstm, vocab)\n",
    "\n",
    "# we can now unpack the batch and feed it to the model\n",
    "model(**batch)"
   ]
  },
  {
   "cell_type": "markdown",
   "metadata": {},
   "source": [
    "### init"
   ]
  },
  {
   "cell_type": "markdown",
   "metadata": {},
   "source": [
    "Notice that the `word_embeddings` and `encoder` parameter type is the base class of the embedder and encoder that we're using. This is so that we can mix and match different embedder and encoder to see which one works best for our problem. "
   ]
  },
  {
   "cell_type": "markdown",
   "metadata": {},
   "source": [
    "### forward"
   ]
  },
  {
   "cell_type": "markdown",
   "metadata": {},
   "source": [
    "Each Instance in our dataset will get (batched with other instances and) fed into forward. The forward method expects dicts of tensors as input, and it expects their names to be the names of the fields in our Instance. In this case we have a sentence field and (possibly) a labels field, so we'll construct our forward accordingly.\n",
    "\n",
    "Then the core logic inside the forward method is pretty much identical to a regular PyTorch module, where we feed through each layer and make an update on the model based on the loss computed if the labels were provided.\n",
    "\n",
    "The other interesting part is the `get_text_field_mask` method. AllenNLP is designed to operate on batched inputs, but different input sequences have different lengths. Behind the scenes AllenNLP is padding the shorter inputs so that the batch has uniform shape, which means our computations should use a mask to exclude the padding. Here we use the utility function `get_text_field_mask`, which returns a tensor of 0s and 1s corresponding to the padded and unpadded locations.\n",
    "\n",
    "The output of the forward pass should consist of the dictionary with the `loss` key if we wish to use this Model allow-side `Trainer` (we'll discuss in the next section).\n",
    "\n",
    "Note that for this model, we are using the various modules/building blocks that comes with AllenNLP, this doesn't mean we can't implement our own if we desire."
   ]
  },
  {
   "cell_type": "markdown",
   "metadata": {},
   "source": [
    "### get_metrics"
   ]
  },
  {
   "cell_type": "markdown",
   "metadata": {},
   "source": [
    "This method gives us the flexibility to log additional metrics that we care about. In this case, we've computed an accuracy metric that gets updated for each forward pass during the training phase."
   ]
  },
  {
   "cell_type": "markdown",
   "metadata": {},
   "source": [
    "## Trainer"
   ]
  },
  {
   "cell_type": "markdown",
   "metadata": {},
   "source": [
    "One of the pain points in flexible framework such as PyTorch has been doing the training after defining the model and dataset. Often times, we will need to write a lot of boilerplate code just do get a training loop. AllenNLP includes a Trainer class that handles most of the gory details of training models. After passing in all the necessary parameters, we can call `.train` to train it.\n",
    "\n",
    "Of course, this type of stuff can be a double-edged sword. Some people enjoy having the ability of customize the logic of the training loop. Some frameworks such as `fastai`, `keras` gives user the flexibility of adding different callbacks to do certain customization to the training loop.\n",
    "\n",
    "The next code chunk contains boilerplate code to move our model to a GPU if we have access to one and define a optimizer to train the model. After that, we have all the bare minimum parameter we need to use the `Trainer` class."
   ]
  },
  {
   "cell_type": "code",
   "execution_count": 19,
   "metadata": {},
   "outputs": [],
   "source": [
    "if torch.cuda.is_available():\n",
    "    cuda_device = 0\n",
    "    model = model.cuda(cuda_device)\n",
    "else:\n",
    "    cuda_device = -1\n",
    "\n",
    "optimizer = optim.SGD(model.parameters(), lr=lr)"
   ]
  },
  {
   "cell_type": "code",
   "execution_count": 20,
   "metadata": {},
   "outputs": [
    {
     "name": "stderr",
     "output_type": "stream",
     "text": [
      "accuracy: 0.2710, loss: 2.2887 ||: 100%|██████████| 98/98 [00:04<00:00, 12.46it/s]\n",
      "accuracy: 0.2942, loss: 2.1996 ||: 100%|██████████| 25/25 [00:00<00:00, 93.16it/s]\n"
     ]
    },
    {
     "data": {
      "text/plain": [
       "{'best_epoch': 0,\n",
       " 'peak_cpu_memory_MB': 281.448448,\n",
       " 'training_duration': '0:00:05.105103',\n",
       " 'training_start_epoch': 0,\n",
       " 'training_epochs': 0,\n",
       " 'epoch': 0,\n",
       " 'training_accuracy': 0.2709646621050957,\n",
       " 'training_loss': 2.288691924542797,\n",
       " 'training_cpu_memory_MB': 281.448448,\n",
       " 'validation_accuracy': 0.2942000700595506,\n",
       " 'validation_loss': 2.1996138000488283,\n",
       " 'best_validation_accuracy': 0.2942000700595506,\n",
       " 'best_validation_loss': 2.1996138000488283}"
      ]
     },
     "execution_count": 20,
     "metadata": {},
     "output_type": "execute_result"
    }
   ],
   "source": [
    "from allennlp.training.trainer import Trainer\n",
    "\n",
    "trainer = Trainer(model=model,\n",
    "                  optimizer=optimizer,\n",
    "                  iterator=iterator,\n",
    "                  train_dataset=train_dataset,\n",
    "                  validation_dataset=validation_dataset,\n",
    "                  patience=10,\n",
    "                  num_epochs=num_epochs,\n",
    "                  cuda_device=cuda_device)\n",
    "trainer.train()"
   ]
  },
  {
   "cell_type": "markdown",
   "metadata": {},
   "source": [
    "The `patience` parameter tells the model to stop training early if it ever spends 10 epochs without the validation loss improving."
   ]
  },
  {
   "cell_type": "markdown",
   "metadata": {},
   "source": [
    "## Predictor"
   ]
  },
  {
   "cell_type": "markdown",
   "metadata": {},
   "source": [
    "To look at the predictions that our model is making AllenNLP contains a Predictor abstraction that takes inputs, converts them to Instances, feeds them through our model, and returns JSON-serializable results.\n",
    "\n",
    "Often we would need to implement our own Predictor, but AllenNLP already has a `SentenceTaggerPredictor` that works perfectly here, so we can use it:"
   ]
  },
  {
   "cell_type": "code",
   "execution_count": 21,
   "metadata": {},
   "outputs": [
    {
     "data": {
      "text/plain": [
       "[[1.0909396409988403,\n",
       "  0.4385592043399811,\n",
       "  0.31348735094070435,\n",
       "  0.13350334763526917,\n",
       "  0.025357957929372787,\n",
       "  -0.08668269962072372,\n",
       "  -0.09077221155166626,\n",
       "  -0.3937018811702728,\n",
       "  -0.4038070738315582,\n",
       "  -0.2952311635017395,\n",
       "  -0.4099676311016083,\n",
       "  -0.44397521018981934],\n",
       " [1.2171101570129395,\n",
       "  0.49549663066864014,\n",
       "  0.3667411804199219,\n",
       "  0.14575660228729248,\n",
       "  0.04426472261548042,\n",
       "  -0.09919136762619019,\n",
       "  -0.10866188257932663,\n",
       "  -0.4294317662715912,\n",
       "  -0.4424012303352356,\n",
       "  -0.3495985269546509,\n",
       "  -0.44820138812065125,\n",
       "  -0.5019956827163696],\n",
       " [1.2918710708618164,\n",
       "  0.5304681062698364,\n",
       "  0.39806458353996277,\n",
       "  0.15120328962802887,\n",
       "  0.05403636395931244,\n",
       "  -0.10640920698642731,\n",
       "  -0.118183434009552,\n",
       "  -0.4506247043609619,\n",
       "  -0.4670730531215668,\n",
       "  -0.38250482082366943,\n",
       "  -0.47143977880477905,\n",
       "  -0.5378031134605408],\n",
       " [1.3367035388946533,\n",
       "  0.5492392182350159,\n",
       "  0.4162611961364746,\n",
       "  0.1528242826461792,\n",
       "  0.06382136791944504,\n",
       "  -0.11439871788024902,\n",
       "  -0.12318845093250275,\n",
       "  -0.46197694540023804,\n",
       "  -0.48187172412872314,\n",
       "  -0.40053749084472656,\n",
       "  -0.4874059557914734,\n",
       "  -0.5609055757522583],\n",
       " [1.3636566400527954,\n",
       "  0.5623111724853516,\n",
       "  0.42607587575912476,\n",
       "  0.15552277863025665,\n",
       "  0.06280740350484848,\n",
       "  -0.11359301209449768,\n",
       "  -0.12815722823143005,\n",
       "  -0.4692894220352173,\n",
       "  -0.49262890219688416,\n",
       "  -0.4138672351837158,\n",
       "  -0.4962881803512573,\n",
       "  -0.573527455329895]]"
      ]
     },
     "execution_count": 21,
     "metadata": {},
     "output_type": "execute_result"
    }
   ],
   "source": [
    "from allennlp.predictors import SentenceTaggerPredictor\n",
    "\n",
    "predictor = SentenceTaggerPredictor(model, dataset_reader=reader)\n",
    "\n",
    "# we can provide completely new text to the predict method and access\n",
    "# the 'class_logits' key to get the predicted class/part of speech tag for each token\n",
    "class_logits = predictor.predict('The dog ate the apple')['class_logits']\n",
    "class_logits"
   ]
  },
  {
   "cell_type": "code",
   "execution_count": 22,
   "metadata": {},
   "outputs": [
    {
     "name": "stdout",
     "output_type": "stream",
     "text": [
      "['NOUN', 'NOUN', 'NOUN', 'NOUN', 'NOUN']\n"
     ]
    }
   ],
   "source": [
    "class_ids = np.argmax(class_logits, axis=-1)\n",
    "print([vocab.get_token_from_index(i, 'labels') for i in class_ids])"
   ]
  },
  {
   "cell_type": "markdown",
   "metadata": {},
   "source": [
    "## Serialization & DeSerialization"
   ]
  },
  {
   "cell_type": "markdown",
   "metadata": {},
   "source": [
    "We would need to save both the model and the vocabulary."
   ]
  },
  {
   "cell_type": "code",
   "execution_count": 23,
   "metadata": {},
   "outputs": [],
   "source": [
    "# Here's how to save the model.\n",
    "model_checkpoint_dir = 'models'\n",
    "if not os.path.exists(model_checkpoint_dir):\n",
    "    os.makedirs(model_checkpoint_dir, exist_ok=True)\n",
    "\n",
    "model_filename = os.path.join(model_checkpoint_dir, 'model.pt')\n",
    "with open(model_filename, 'wb') as f:\n",
    "    torch.save(model.state_dict(), f)\n",
    "\n",
    "vocab_filename = os.path.join(model_checkpoint_dir, 'vocabulary.allennlp')\n",
    "vocab.save_to_files(vocab_filename)"
   ]
  },
  {
   "cell_type": "code",
   "execution_count": 24,
   "metadata": {},
   "outputs": [],
   "source": [
    "# And here's how to reload the model.\n",
    "vocab2 = Vocabulary.from_files(vocab_filename)\n",
    "model2 = LstmTagger(word_embeddings, lstm, vocab2)\n",
    "\n",
    "with open(model_filename, 'rb') as f:\n",
    "    model2.load_state_dict(torch.load(f))\n",
    "\n",
    "if cuda_device > -1:\n",
    "    model2.cuda(cuda_device)"
   ]
  },
  {
   "cell_type": "code",
   "execution_count": 25,
   "metadata": {},
   "outputs": [],
   "source": [
    "# generate the predictions again\n",
    "predictor2 = SentenceTaggerPredictor(model2, dataset_reader=reader)\n",
    "class_logits2 = predictor2.predict(\"The dog ate the apple\")['class_logits']\n",
    "np.testing.assert_array_almost_equal(class_logits2, class_logits)"
   ]
  },
  {
   "cell_type": "markdown",
   "metadata": {},
   "source": [
    "There are a lot of different improvements that we can work on, but hopefully this gives a taste of what a NLP pipeline looks like in AllenNLP."
   ]
  },
  {
   "cell_type": "markdown",
   "metadata": {},
   "source": [
    "# Reference"
   ]
  },
  {
   "cell_type": "markdown",
   "metadata": {},
   "source": [
    "- [Github: AllenNLP Tutorial - Getting Started with AllenNLP](https://allennlp.org/tutorials)\n",
    "- [Blog: An In-Depth Tutorial to AllenNLP (From Basics to ELMo and BERT)](https://mlexplained.com/2019/01/30/an-in-depth-tutorial-to-allennlp-from-basics-to-elmo-and-bert/)\n",
    "- [Blog: Part-of-Speech tagging tutorial with the Keras Deep Learning library](https://becominghuman.ai/part-of-speech-tagging-tutorial-with-the-keras-deep-learning-library-d7f93fa05537)"
   ]
  }
 ],
 "metadata": {
  "kernelspec": {
   "display_name": "Python 3",
   "language": "python",
   "name": "python3"
  },
  "language_info": {
   "codemirror_mode": {
    "name": "ipython",
    "version": 3
   },
   "file_extension": ".py",
   "mimetype": "text/x-python",
   "name": "python",
   "nbconvert_exporter": "python",
   "pygments_lexer": "ipython3",
   "version": "3.6.4"
  },
  "toc": {
   "nav_menu": {},
   "number_sections": true,
   "sideBar": true,
   "skip_h1_title": false,
   "title_cell": "Table of Contents",
   "title_sidebar": "Contents",
   "toc_cell": true,
   "toc_position": {
    "height": "calc(100% - 180px)",
    "left": "10px",
    "top": "150px",
    "width": "296px"
   },
   "toc_section_display": true,
   "toc_window_display": true
  },
  "varInspector": {
   "cols": {
    "lenName": 16,
    "lenType": 16,
    "lenVar": 40
   },
   "kernels_config": {
    "python": {
     "delete_cmd_postfix": "",
     "delete_cmd_prefix": "del ",
     "library": "var_list.py",
     "varRefreshCmd": "print(var_dic_list())"
    },
    "r": {
     "delete_cmd_postfix": ") ",
     "delete_cmd_prefix": "rm(",
     "library": "var_list.r",
     "varRefreshCmd": "cat(var_dic_list()) "
    }
   },
   "types_to_exclude": [
    "module",
    "function",
    "builtin_function_or_method",
    "instance",
    "_Feature"
   ],
   "window_display": false
  }
 },
 "nbformat": 4,
 "nbformat_minor": 2
}
