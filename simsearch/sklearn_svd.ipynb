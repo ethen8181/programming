{
 "cells": [
  {
   "cell_type": "code",
   "execution_count": 1,
   "metadata": {},
   "outputs": [
    {
     "name": "stdout",
     "output_type": "stream",
     "text": [
      "Ethen 2018-06-27 18:13:54 \n",
      "\n",
      "CPython 3.6.4\n",
      "IPython 6.4.0\n",
      "\n",
      "numpy 1.14.5\n",
      "pandas 0.23.0\n",
      "sklearn 0.19.1\n",
      "matplotlib 2.2.2\n"
     ]
    }
   ],
   "source": [
    "# 1. magic for inline plot\n",
    "# 2. magic to print version\n",
    "# 3. magic so that the notebook will reload external python modules\n",
    "# 4. magic to enable retina (high resolution) plots\n",
    "# https://gist.github.com/minrk/3301035\n",
    "%matplotlib inline\n",
    "%load_ext watermark\n",
    "%load_ext autoreload\n",
    "%autoreload 2\n",
    "%config InlineBackend.figure_format = 'retina'\n",
    "\n",
    "import numpy as np\n",
    "import pandas as pd\n",
    "import matplotlib.pyplot as plt\n",
    "from sklearn.model_selection import train_test_split\n",
    "\n",
    "# change default style figure and font size\n",
    "plt.rcParams['figure.figsize'] = 8, 6\n",
    "plt.rcParams['font.size'] = 12\n",
    "\n",
    "%watermark -a 'Ethen' -d -t -v -p numpy,pandas,sklearn,matplotlib"
   ]
  },
  {
   "cell_type": "code",
   "execution_count": 42,
   "metadata": {},
   "outputs": [
    {
     "data": {
      "text/plain": [
       "['human interface computer',\n",
       " 'survey user computer system response time',\n",
       " 'eps user interface system',\n",
       " 'system human system eps',\n",
       " 'user response time',\n",
       " 'trees',\n",
       " 'graph trees',\n",
       " 'graph minors trees',\n",
       " 'graph minors survey']"
      ]
     },
     "execution_count": 42,
     "metadata": {},
     "output_type": "execute_result"
    }
   ],
   "source": [
    "documents = [\"Human machine interface for lab abc computer applications\",\n",
    "             \"A survey of user opinion of computer system response time\",\n",
    "             \"The EPS user interface management system\",\n",
    "             \"System and human system engineering testing of EPS\",              \n",
    "             \"Relation of user perceived response time to error measurement\",\n",
    "             \"The generation of random binary unordered trees\",\n",
    "             \"The intersection graph of paths in trees\",\n",
    "             \"Graph minors IV Widths of trees and well quasi ordering\",\n",
    "             \"Graph minors A survey\"]\n",
    "# remove common words and tokenize# remov \n",
    "stoplist = set('for a of the and to in'.split())\n",
    "texts = [[word for word in document.lower().split() if word not in stoplist]\n",
    "         for document in documents]\n",
    "\n",
    "# remove words that appear only once\n",
    "from collections import defaultdict\n",
    "frequency = defaultdict(int)\n",
    "for text in texts:\n",
    "    for token in text:\n",
    "        frequency[token] += 1\n",
    "\n",
    "documents = [' '.join(token for token in text if frequency[token] > 1) for text in texts]\n",
    "documents"
   ]
  },
  {
   "cell_type": "code",
   "execution_count": 43,
   "metadata": {},
   "outputs": [
    {
     "data": {
      "text/plain": [
       "array([[ 0.05667254,  0.47343916],\n",
       "       [ 0.18010825,  0.79236365],\n",
       "       [ 0.09075478,  0.75546177],\n",
       "       [ 0.07471199,  0.64032022],\n",
       "       [ 0.0925438 ,  0.5943493 ],\n",
       "       [ 0.70927442, -0.14650451],\n",
       "       [ 0.8988797 , -0.15386956],\n",
       "       [ 0.92873325, -0.1359042 ],\n",
       "       [ 0.61873361,  0.04443583]])"
      ]
     },
     "execution_count": 43,
     "metadata": {},
     "output_type": "execute_result"
    }
   ],
   "source": [
    "from sklearn.pipeline import Pipeline\n",
    "from sklearn.datasets import load_iris\n",
    "from sklearn.decomposition import TruncatedSVD\n",
    "from sklearn.feature_extraction.text import TfidfVectorizer\n",
    "\n",
    "stoplist = set('for a of the and to in'.split())\n",
    "tfidf = TfidfVectorizer(stop_words = stoplist)\n",
    "svd = TruncatedSVD(n_components = 2)\n",
    "pipeline = Pipeline([\n",
    "    ('tfidf', tfidf),\n",
    "    ('svd', svd)\n",
    "])\n",
    "X_lsa = pipeline.fit_transform(documents)\n",
    "X_lsa"
   ]
  },
  {
   "cell_type": "code",
   "execution_count": 48,
   "metadata": {},
   "outputs": [
    {
     "data": {
      "text/plain": [
       "array([0.04746224, 0.36739683])"
      ]
     },
     "execution_count": 48,
     "metadata": {},
     "output_type": "execute_result"
    }
   ],
   "source": [
    "docs = [\"Human computer interaction\".lower()]\n",
    "vec2_lsi = pipeline.transform(docs).ravel()\n",
    "vec2_lsi"
   ]
  },
  {
   "cell_type": "code",
   "execution_count": 58,
   "metadata": {},
   "outputs": [
    {
     "data": {
      "text/plain": [
       "[(0, 1.0),\n",
       " (2, 0.9999999111618154),\n",
       " (3, 0.9999955503612504),\n",
       " (4, 0.9993760074162686),\n",
       " (1, 0.9945583674009802)]"
      ]
     },
     "execution_count": 58,
     "metadata": {},
     "output_type": "execute_result"
    }
   ],
   "source": [
    "def similar_items(X_lsa, doc_id=0, N=5):\n",
    "    item_norms = np.linalg.norm(X_lsa, axis=-1)\n",
    "    scores = X_lsa.dot(X_lsa[doc_id]) / item_norms\n",
    "    best = np.argpartition(scores, -N)[-N:]\n",
    "    return sorted(zip(best, scores[best] / item_norms[doc_id]), key=lambda x: -x[1])\n",
    "\n",
    "\n",
    "similar_items(X_lsa)"
   ]
  },
  {
   "cell_type": "code",
   "execution_count": 61,
   "metadata": {},
   "outputs": [
    {
     "data": {
      "text/plain": [
       "[(2, 0.9999602608651891),\n",
       " (0, 0.9999564142214454),\n",
       " (3, 0.9999241125730483),\n",
       " (4, 0.9996622252720809),\n",
       " (1, 0.9954877002928035)]"
      ]
     },
     "execution_count": 61,
     "metadata": {},
     "output_type": "execute_result"
    }
   ],
   "source": [
    "def similar_items(X_lsa, vec2_lsi, N=5):\n",
    "    item_norms = np.linalg.norm(X_lsa, axis=1)\n",
    "    scores = X_lsa.dot(vec2_lsi) / item_norms\n",
    "    best = np.argpartition(scores, -N)[-N:]\n",
    "    return sorted(zip(best, scores[best] / np.linalg.norm(vec2_lsi)), key=lambda x: -x[1])\n",
    "\n",
    "\n",
    "similar_items(X_lsa, vec2_lsi)"
   ]
  },
  {
   "cell_type": "code",
   "execution_count": 49,
   "metadata": {},
   "outputs": [
    {
     "data": {
      "text/plain": [
       "array([0.        , 0.53361154, 0.        , 0.        , 0.53361154,\n",
       "       0.        , 0.        , 0.        , 0.46395983, 0.        ,\n",
       "       0.        , 0.46395983])"
      ]
     },
     "execution_count": 49,
     "metadata": {},
     "output_type": "execute_result"
    }
   ],
   "source": [
    "tfidf = pipeline.named_steps['tfidf']\n",
    "vocab = tfidf.get_feature_names()\n",
    "vocab_size = len(vocab)\n",
    "\n",
    "vec1_lsi = X_lsa[2, :]\n",
    "vec1_tfidf = tfidf.transform([documents[2]]).A.ravel()\n",
    "vec1_tfidf"
   ]
  },
  {
   "cell_type": "code",
   "execution_count": 47,
   "metadata": {},
   "outputs": [
    {
     "data": {
      "text/plain": [
       "(2, 12)"
      ]
     },
     "execution_count": 47,
     "metadata": {},
     "output_type": "execute_result"
    }
   ],
   "source": [
    "svd = pipeline.named_steps['svd']\n",
    "svd.components_.shape"
   ]
  },
  {
   "cell_type": "code",
   "execution_count": 50,
   "metadata": {},
   "outputs": [
    {
     "data": {
      "text/plain": [
       "array([ 0.        ,  0.21558392,  0.        ,  0.        ,  0.21175185,\n",
       "        0.        ,  0.        ,  0.        ,  0.31136407,  0.        ,\n",
       "       -0.        ,  0.26126043])"
      ]
     },
     "execution_count": 50,
     "metadata": {},
     "output_type": "execute_result"
    }
   ],
   "source": [
    "norms = np.linalg.norm(vec1_lsi) * np.linalg.norm(vec2_lsi) \n",
    "word_sims = vec1_tfidf * np.dot(svd.components_.T, vec2_lsi) / norms\n",
    "word_sims"
   ]
  },
  {
   "cell_type": "code",
   "execution_count": 51,
   "metadata": {},
   "outputs": [
    {
     "data": {
      "text/plain": [
       "[(8, 0.3113640685065232),\n",
       " (11, 0.2612604265486649),\n",
       " (1, 0.21558391641981317),\n",
       " (4, 0.21175184939018935),\n",
       " (0, 0.0),\n",
       " (2, 0.0),\n",
       " (3, 0.0),\n",
       " (5, 0.0),\n",
       " (6, 0.0),\n",
       " (7, 0.0),\n",
       " (9, 0.0),\n",
       " (10, -0.0)]"
      ]
     },
     "execution_count": 51,
     "metadata": {},
     "output_type": "execute_result"
    }
   ],
   "source": [
    "word_sims = sorted(enumerate(word_sims), key=lambda item: -item[1])\n",
    "word_sims"
   ]
  },
  {
   "cell_type": "code",
   "execution_count": 52,
   "metadata": {},
   "outputs": [
    {
     "name": "stdout",
     "output_type": "stream",
     "text": [
      "           system  +0.311              trees  -0.000\n",
      "             user  +0.261               time  0.000\n",
      "              eps  +0.216             survey  0.000\n",
      "        interface  +0.212           response  0.000\n",
      "                                      minors  0.000\n",
      "                                       human  0.000\n",
      "                                       graph  0.000\n",
      "                                    computer  0.000\n",
      "\n"
     ]
    }
   ],
   "source": [
    "def printWordSims(word_sims, dictionary, topn=10, min_pos=0.1, max_neg=0.01):\n",
    "    \"\"\"\n",
    "    Internal function used by `interpretMatch` to display the contributing\n",
    "    words.\n",
    "    \"\"\"\n",
    "    # TODO - First create the list of results in interpretMatch, then\n",
    "    #        in this function just do the printing, and adapt the column\n",
    "    #        width to the maximum word length in the results...\n",
    "\n",
    "    # Build up the table of results to display.        \n",
    "    tableStr = ''\n",
    "    for i in range(0, topn):\n",
    "        pos_word_id, pos_word_val = word_sims[i]\n",
    "        neg_word_id, neg_word_val = word_sims[-(i + 1)]\n",
    "\n",
    "        pos_word = dictionary[pos_word_id]\n",
    "        neg_word = dictionary[neg_word_id]                       \n",
    "\n",
    "        # If neither words pass the thresholds, break.\n",
    "        if ((pos_word_val <= min_pos) and (neg_word_val >= max_neg)):\n",
    "            break\n",
    "\n",
    "        # Only display the positive word if the value passes the threshold.\n",
    "        if (pos_word_val > min_pos):\n",
    "            tableStr += '  %15s  +%.3f' % (pos_word, pos_word_val)\n",
    "        # Otherwise add empty space.\n",
    "        else:\n",
    "            # e.g.,     '          freedom  +0.440'\n",
    "            tableStr += '                         '\n",
    "\n",
    "        # Only display the negative word if the value passes the threshold.\n",
    "        if (neg_word_val < max_neg):\n",
    "            tableStr += '    %15s  %.3f\\n' % (neg_word, neg_word_val)\n",
    "        # Otherwise just end the line.\n",
    "        else:\n",
    "            tableStr += '\\n'\n",
    "\n",
    "    print(tableStr)\n",
    "    \n",
    "    \n",
    "printWordSims(word_sims, vocab)"
   ]
  },
  {
   "cell_type": "code",
   "execution_count": null,
   "metadata": {},
   "outputs": [],
   "source": [
    "vocab_size = len(dictionary.token2id)\n",
    "\n",
    "vec1_lsi = sparse2dense(lsi[vec1_tfidf], lsi.num_topics)\n",
    "vec2_lsi = sparse2dense(lsi[vec2_tfidf], lsi.num_topics)\n",
    "vec1_tfidf = sparse2dense(vec1_tfidf, vocab_size)"
   ]
  },
  {
   "cell_type": "code",
   "execution_count": 14,
   "metadata": {},
   "outputs": [
    {
     "data": {
      "text/html": [
       "<div>\n",
       "<style scoped>\n",
       "    .dataframe tbody tr th:only-of-type {\n",
       "        vertical-align: middle;\n",
       "    }\n",
       "\n",
       "    .dataframe tbody tr th {\n",
       "        vertical-align: top;\n",
       "    }\n",
       "\n",
       "    .dataframe thead th {\n",
       "        text-align: right;\n",
       "    }\n",
       "</style>\n",
       "<table border=\"1\" class=\"dataframe\">\n",
       "  <thead>\n",
       "    <tr style=\"text-align: right;\">\n",
       "      <th></th>\n",
       "      <th>abc</th>\n",
       "      <th>applications</th>\n",
       "      <th>binary</th>\n",
       "      <th>computer</th>\n",
       "      <th>engineering</th>\n",
       "      <th>eps</th>\n",
       "      <th>error</th>\n",
       "      <th>generation</th>\n",
       "      <th>graph</th>\n",
       "      <th>human</th>\n",
       "      <th>...</th>\n",
       "      <th>random</th>\n",
       "      <th>relation</th>\n",
       "      <th>response</th>\n",
       "      <th>survey</th>\n",
       "      <th>testing</th>\n",
       "      <th>time</th>\n",
       "      <th>trees</th>\n",
       "      <th>unordered</th>\n",
       "      <th>user</th>\n",
       "      <th>widths</th>\n",
       "    </tr>\n",
       "  </thead>\n",
       "  <tbody>\n",
       "    <tr>\n",
       "      <th>concept1</th>\n",
       "      <td>0.053842</td>\n",
       "      <td>0.053842</td>\n",
       "      <td>0.053385</td>\n",
       "      <td>0.181679</td>\n",
       "      <td>0.048573</td>\n",
       "      <td>0.129152</td>\n",
       "      <td>0.092299</td>\n",
       "      <td>0.053385</td>\n",
       "      <td>0.433814</td>\n",
       "      <td>0.086501</td>\n",
       "      <td>...</td>\n",
       "      <td>0.053385</td>\n",
       "      <td>0.092299</td>\n",
       "      <td>0.214161</td>\n",
       "      <td>0.377852</td>\n",
       "      <td>0.048573</td>\n",
       "      <td>0.214161</td>\n",
       "      <td>0.262912</td>\n",
       "      <td>0.053385</td>\n",
       "      <td>0.262830</td>\n",
       "      <td>0.143002</td>\n",
       "    </tr>\n",
       "    <tr>\n",
       "      <th>concept2</th>\n",
       "      <td>0.104054</td>\n",
       "      <td>0.104054</td>\n",
       "      <td>-0.066833</td>\n",
       "      <td>0.208323</td>\n",
       "      <td>0.121922</td>\n",
       "      <td>0.271183</td>\n",
       "      <td>0.125538</td>\n",
       "      <td>-0.066833</td>\n",
       "      <td>-0.321092</td>\n",
       "      <td>0.190862</td>\n",
       "      <td>...</td>\n",
       "      <td>-0.066833</td>\n",
       "      <td>0.125538</td>\n",
       "      <td>0.226469</td>\n",
       "      <td>-0.002877</td>\n",
       "      <td>0.121922</td>\n",
       "      <td>0.226469</td>\n",
       "      <td>-0.262954</td>\n",
       "      <td>-0.066833</td>\n",
       "      <td>0.343158</td>\n",
       "      <td>-0.130742</td>\n",
       "    </tr>\n",
       "  </tbody>\n",
       "</table>\n",
       "<p>2 rows × 33 columns</p>\n",
       "</div>"
      ],
      "text/plain": [
       "               abc  applications    binary  computer  engineering       eps  \\\n",
       "concept1  0.053842      0.053842  0.053385  0.181679     0.048573  0.129152   \n",
       "concept2  0.104054      0.104054 -0.066833  0.208323     0.121922  0.271183   \n",
       "\n",
       "             error  generation     graph     human    ...       random  \\\n",
       "concept1  0.092299    0.053385  0.433814  0.086501    ...     0.053385   \n",
       "concept2  0.125538   -0.066833 -0.321092  0.190862    ...    -0.066833   \n",
       "\n",
       "          relation  response    survey   testing      time     trees  \\\n",
       "concept1  0.092299  0.214161  0.377852  0.048573  0.214161  0.262912   \n",
       "concept2  0.125538  0.226469 -0.002877  0.121922  0.226469 -0.262954   \n",
       "\n",
       "          unordered      user    widths  \n",
       "concept1   0.053385  0.262830  0.143002  \n",
       "concept2  -0.066833  0.343158 -0.130742  \n",
       "\n",
       "[2 rows x 33 columns]"
      ]
     },
     "execution_count": 14,
     "metadata": {},
     "output_type": "execute_result"
    }
   ],
   "source": [
    "# mapping of words to latent factors/concepts,\n",
    "# i.e. each concept is a linear combination of words\n",
    "tfidf = pipeline.named_steps['tfidf']\n",
    "vocab = tfidf.get_feature_names()\n",
    "pd.DataFrame(svd.components_, index = ['concept1', 'concept2'], columns = vocab)"
   ]
  },
  {
   "cell_type": "code",
   "execution_count": 15,
   "metadata": {},
   "outputs": [
    {
     "name": "stdout",
     "output_type": "stream",
     "text": [
      "total variance explained: 0.19366296540275155\n"
     ]
    },
    {
     "data": {
      "text/html": [
       "<div>\n",
       "<style scoped>\n",
       "    .dataframe tbody tr th:only-of-type {\n",
       "        vertical-align: middle;\n",
       "    }\n",
       "\n",
       "    .dataframe tbody tr th {\n",
       "        vertical-align: top;\n",
       "    }\n",
       "\n",
       "    .dataframe thead th {\n",
       "        text-align: right;\n",
       "    }\n",
       "</style>\n",
       "<table border=\"1\" class=\"dataframe\">\n",
       "  <thead>\n",
       "    <tr style=\"text-align: right;\">\n",
       "      <th></th>\n",
       "      <th>concept1</th>\n",
       "      <th>concept2</th>\n",
       "    </tr>\n",
       "  </thead>\n",
       "  <tbody>\n",
       "    <tr>\n",
       "      <th>human machine interface for lab abc computer applications</th>\n",
       "      <td>0.223864</td>\n",
       "      <td>0.391323</td>\n",
       "    </tr>\n",
       "    <tr>\n",
       "      <th>a survey of user opinion of computer system response time</th>\n",
       "      <td>0.567122</td>\n",
       "      <td>0.453591</td>\n",
       "    </tr>\n",
       "    <tr>\n",
       "      <th>the eps user interface management system</th>\n",
       "      <td>0.301517</td>\n",
       "      <td>0.520548</td>\n",
       "    </tr>\n",
       "    <tr>\n",
       "      <th>system and human system engineering testing of eps</th>\n",
       "      <td>0.150874</td>\n",
       "      <td>0.342541</td>\n",
       "    </tr>\n",
       "    <tr>\n",
       "      <th>relation of user perceived response time to error measurement</th>\n",
       "      <td>0.378285</td>\n",
       "      <td>0.465380</td>\n",
       "    </tr>\n",
       "    <tr>\n",
       "      <th>the generation of random binary unordered trees</th>\n",
       "      <td>0.190848</td>\n",
       "      <td>-0.216111</td>\n",
       "    </tr>\n",
       "    <tr>\n",
       "      <th>the intersection graph of paths in trees</th>\n",
       "      <td>0.475839</td>\n",
       "      <td>-0.427388</td>\n",
       "    </tr>\n",
       "    <tr>\n",
       "      <th>graph minors iv widths of trees and well quasi ordering</th>\n",
       "      <td>0.577473</td>\n",
       "      <td>-0.477549</td>\n",
       "    </tr>\n",
       "    <tr>\n",
       "      <th>graph minors a survey</th>\n",
       "      <td>0.673129</td>\n",
       "      <td>-0.310700</td>\n",
       "    </tr>\n",
       "  </tbody>\n",
       "</table>\n",
       "</div>"
      ],
      "text/plain": [
       "                                                    concept1  concept2\n",
       "human machine interface for lab abc computer ap...  0.223864  0.391323\n",
       "a survey of user opinion of computer system res...  0.567122  0.453591\n",
       "the eps user interface management system            0.301517  0.520548\n",
       "system and human system engineering testing of eps  0.150874  0.342541\n",
       "relation of user perceived response time to err...  0.378285  0.465380\n",
       "the generation of random binary unordered trees     0.190848 -0.216111\n",
       "the intersection graph of paths in trees            0.475839 -0.427388\n",
       "graph minors iv widths of trees and well quasi ...  0.577473 -0.477549\n",
       "graph minors a survey                               0.673129 -0.310700"
      ]
     },
     "execution_count": 15,
     "metadata": {},
     "output_type": "execute_result"
    }
   ],
   "source": [
    "svd = pipeline.named_steps['svd']\n",
    "print('total variance explained:', np.sum(svd.explained_variance_))\n",
    "\n",
    "# mapping of document to latent factors/concepts,\n",
    "# i.e. Eech document is a linear combination of the concepts\n",
    "pd.DataFrame(X_lsa, index = documents, columns = ['concept1', 'concept2'])"
   ]
  },
  {
   "cell_type": "code",
   "execution_count": 9,
   "metadata": {},
   "outputs": [
    {
     "data": {
      "text/html": [
       "<div>\n",
       "<style scoped>\n",
       "    .dataframe tbody tr th:only-of-type {\n",
       "        vertical-align: middle;\n",
       "    }\n",
       "\n",
       "    .dataframe tbody tr th {\n",
       "        vertical-align: top;\n",
       "    }\n",
       "\n",
       "    .dataframe thead th {\n",
       "        text-align: right;\n",
       "    }\n",
       "</style>\n",
       "<table border=\"1\" class=\"dataframe\">\n",
       "  <thead>\n",
       "    <tr style=\"text-align: right;\">\n",
       "      <th></th>\n",
       "      <th>Human machine interface for lab abc computer applications</th>\n",
       "      <th>A survey of user opinion of computer system response time</th>\n",
       "      <th>The EPS user interface management system</th>\n",
       "      <th>System and human system engineering testing of EPS</th>\n",
       "      <th>Relation of user perceived response time to error measurement</th>\n",
       "      <th>The generation of random binary unordered trees</th>\n",
       "      <th>The intersection graph of paths in trees</th>\n",
       "      <th>Graph minors IV Widths of trees and well quasi ordering</th>\n",
       "      <th>Graph minors A survey</th>\n",
       "    </tr>\n",
       "  </thead>\n",
       "  <tbody>\n",
       "    <tr>\n",
       "      <th>Human machine interface for lab abc computer applications</th>\n",
       "      <td>1.000000</td>\n",
       "      <td>0.929942</td>\n",
       "      <td>0.999986</td>\n",
       "      <td>0.994520</td>\n",
       "      <td>0.986761</td>\n",
       "      <td>-0.321932</td>\n",
       "      <td>-0.210590</td>\n",
       "      <td>-0.170502</td>\n",
       "      <td>0.087079</td>\n",
       "    </tr>\n",
       "    <tr>\n",
       "      <th>A survey of user opinion of computer system response time</th>\n",
       "      <td>0.929942</td>\n",
       "      <td>1.000000</td>\n",
       "      <td>0.931906</td>\n",
       "      <td>0.886403</td>\n",
       "      <td>0.977265</td>\n",
       "      <td>0.048753</td>\n",
       "      <td>0.163624</td>\n",
       "      <td>0.203766</td>\n",
       "      <td>0.447288</td>\n",
       "    </tr>\n",
       "    <tr>\n",
       "      <th>The EPS user interface management system</th>\n",
       "      <td>0.999986</td>\n",
       "      <td>0.931906</td>\n",
       "      <td>1.000000</td>\n",
       "      <td>0.993943</td>\n",
       "      <td>0.987619</td>\n",
       "      <td>-0.316835</td>\n",
       "      <td>-0.205329</td>\n",
       "      <td>-0.165199</td>\n",
       "      <td>0.092436</td>\n",
       "    </tr>\n",
       "    <tr>\n",
       "      <th>System and human system engineering testing of EPS</th>\n",
       "      <td>0.994520</td>\n",
       "      <td>0.886403</td>\n",
       "      <td>0.993943</td>\n",
       "      <td>1.000000</td>\n",
       "      <td>0.964398</td>\n",
       "      <td>-0.419150</td>\n",
       "      <td>-0.311640</td>\n",
       "      <td>-0.272585</td>\n",
       "      <td>-0.017549</td>\n",
       "    </tr>\n",
       "    <tr>\n",
       "      <th>Relation of user perceived response time to error measurement</th>\n",
       "      <td>0.986761</td>\n",
       "      <td>0.977265</td>\n",
       "      <td>0.987619</td>\n",
       "      <td>0.964398</td>\n",
       "      <td>1.000000</td>\n",
       "      <td>-0.164124</td>\n",
       "      <td>-0.049259</td>\n",
       "      <td>-0.008439</td>\n",
       "      <td>0.247490</td>\n",
       "    </tr>\n",
       "    <tr>\n",
       "      <th>The generation of random binary unordered trees</th>\n",
       "      <td>-0.321932</td>\n",
       "      <td>0.048753</td>\n",
       "      <td>-0.316835</td>\n",
       "      <td>-0.419150</td>\n",
       "      <td>-0.164124</td>\n",
       "      <td>1.000000</td>\n",
       "      <td>0.993327</td>\n",
       "      <td>0.987790</td>\n",
       "      <td>0.915133</td>\n",
       "    </tr>\n",
       "    <tr>\n",
       "      <th>The intersection graph of paths in trees</th>\n",
       "      <td>-0.210590</td>\n",
       "      <td>0.163624</td>\n",
       "      <td>-0.205329</td>\n",
       "      <td>-0.311640</td>\n",
       "      <td>-0.049259</td>\n",
       "      <td>0.993327</td>\n",
       "      <td>1.000000</td>\n",
       "      <td>0.999166</td>\n",
       "      <td>0.955523</td>\n",
       "    </tr>\n",
       "    <tr>\n",
       "      <th>Graph minors IV Widths of trees and well quasi ordering</th>\n",
       "      <td>-0.170502</td>\n",
       "      <td>0.203766</td>\n",
       "      <td>-0.165199</td>\n",
       "      <td>-0.272585</td>\n",
       "      <td>-0.008439</td>\n",
       "      <td>0.987790</td>\n",
       "      <td>0.999166</td>\n",
       "      <td>1.000000</td>\n",
       "      <td>0.966767</td>\n",
       "    </tr>\n",
       "    <tr>\n",
       "      <th>Graph minors A survey</th>\n",
       "      <td>0.087079</td>\n",
       "      <td>0.447288</td>\n",
       "      <td>0.092436</td>\n",
       "      <td>-0.017549</td>\n",
       "      <td>0.247490</td>\n",
       "      <td>0.915133</td>\n",
       "      <td>0.955523</td>\n",
       "      <td>0.966767</td>\n",
       "      <td>1.000000</td>\n",
       "    </tr>\n",
       "  </tbody>\n",
       "</table>\n",
       "</div>"
      ],
      "text/plain": [
       "                                                    Human machine interface for lab abc computer applications  \\\n",
       "Human machine interface for lab abc computer ap...                                           1.000000           \n",
       "A survey of user opinion of computer system res...                                           0.929942           \n",
       "The EPS user interface management system                                                     0.999986           \n",
       "System and human system engineering testing of EPS                                           0.994520           \n",
       "Relation of user perceived response time to err...                                           0.986761           \n",
       "The generation of random binary unordered trees                                             -0.321932           \n",
       "The intersection graph of paths in trees                                                    -0.210590           \n",
       "Graph minors IV Widths of trees and well quasi ...                                          -0.170502           \n",
       "Graph minors A survey                                                                        0.087079           \n",
       "\n",
       "                                                    A survey of user opinion of computer system response time  \\\n",
       "Human machine interface for lab abc computer ap...                                           0.929942           \n",
       "A survey of user opinion of computer system res...                                           1.000000           \n",
       "The EPS user interface management system                                                     0.931906           \n",
       "System and human system engineering testing of EPS                                           0.886403           \n",
       "Relation of user perceived response time to err...                                           0.977265           \n",
       "The generation of random binary unordered trees                                              0.048753           \n",
       "The intersection graph of paths in trees                                                     0.163624           \n",
       "Graph minors IV Widths of trees and well quasi ...                                           0.203766           \n",
       "Graph minors A survey                                                                        0.447288           \n",
       "\n",
       "                                                    The EPS user interface management system  \\\n",
       "Human machine interface for lab abc computer ap...                                  0.999986   \n",
       "A survey of user opinion of computer system res...                                  0.931906   \n",
       "The EPS user interface management system                                            1.000000   \n",
       "System and human system engineering testing of EPS                                  0.993943   \n",
       "Relation of user perceived response time to err...                                  0.987619   \n",
       "The generation of random binary unordered trees                                    -0.316835   \n",
       "The intersection graph of paths in trees                                           -0.205329   \n",
       "Graph minors IV Widths of trees and well quasi ...                                 -0.165199   \n",
       "Graph minors A survey                                                               0.092436   \n",
       "\n",
       "                                                    System and human system engineering testing of EPS  \\\n",
       "Human machine interface for lab abc computer ap...                                           0.994520    \n",
       "A survey of user opinion of computer system res...                                           0.886403    \n",
       "The EPS user interface management system                                                     0.993943    \n",
       "System and human system engineering testing of EPS                                           1.000000    \n",
       "Relation of user perceived response time to err...                                           0.964398    \n",
       "The generation of random binary unordered trees                                             -0.419150    \n",
       "The intersection graph of paths in trees                                                    -0.311640    \n",
       "Graph minors IV Widths of trees and well quasi ...                                          -0.272585    \n",
       "Graph minors A survey                                                                       -0.017549    \n",
       "\n",
       "                                                    Relation of user perceived response time to error measurement  \\\n",
       "Human machine interface for lab abc computer ap...                                           0.986761               \n",
       "A survey of user opinion of computer system res...                                           0.977265               \n",
       "The EPS user interface management system                                                     0.987619               \n",
       "System and human system engineering testing of EPS                                           0.964398               \n",
       "Relation of user perceived response time to err...                                           1.000000               \n",
       "The generation of random binary unordered trees                                             -0.164124               \n",
       "The intersection graph of paths in trees                                                    -0.049259               \n",
       "Graph minors IV Widths of trees and well quasi ...                                          -0.008439               \n",
       "Graph minors A survey                                                                        0.247490               \n",
       "\n",
       "                                                    The generation of random binary unordered trees  \\\n",
       "Human machine interface for lab abc computer ap...                                        -0.321932   \n",
       "A survey of user opinion of computer system res...                                         0.048753   \n",
       "The EPS user interface management system                                                  -0.316835   \n",
       "System and human system engineering testing of EPS                                        -0.419150   \n",
       "Relation of user perceived response time to err...                                        -0.164124   \n",
       "The generation of random binary unordered trees                                            1.000000   \n",
       "The intersection graph of paths in trees                                                   0.993327   \n",
       "Graph minors IV Widths of trees and well quasi ...                                         0.987790   \n",
       "Graph minors A survey                                                                      0.915133   \n",
       "\n",
       "                                                    The intersection graph of paths in trees  \\\n",
       "Human machine interface for lab abc computer ap...                                 -0.210590   \n",
       "A survey of user opinion of computer system res...                                  0.163624   \n",
       "The EPS user interface management system                                           -0.205329   \n",
       "System and human system engineering testing of EPS                                 -0.311640   \n",
       "Relation of user perceived response time to err...                                 -0.049259   \n",
       "The generation of random binary unordered trees                                     0.993327   \n",
       "The intersection graph of paths in trees                                            1.000000   \n",
       "Graph minors IV Widths of trees and well quasi ...                                  0.999166   \n",
       "Graph minors A survey                                                               0.955523   \n",
       "\n",
       "                                                    Graph minors IV Widths of trees and well quasi ordering  \\\n",
       "Human machine interface for lab abc computer ap...                                          -0.170502         \n",
       "A survey of user opinion of computer system res...                                           0.203766         \n",
       "The EPS user interface management system                                                    -0.165199         \n",
       "System and human system engineering testing of EPS                                          -0.272585         \n",
       "Relation of user perceived response time to err...                                          -0.008439         \n",
       "The generation of random binary unordered trees                                              0.987790         \n",
       "The intersection graph of paths in trees                                                     0.999166         \n",
       "Graph minors IV Widths of trees and well quasi ...                                           1.000000         \n",
       "Graph minors A survey                                                                        0.966767         \n",
       "\n",
       "                                                    Graph minors A survey  \n",
       "Human machine interface for lab abc computer ap...               0.087079  \n",
       "A survey of user opinion of computer system res...               0.447288  \n",
       "The EPS user interface management system                         0.092436  \n",
       "System and human system engineering testing of EPS              -0.017549  \n",
       "Relation of user perceived response time to err...               0.247490  \n",
       "The generation of random binary unordered trees                  0.915133  \n",
       "The intersection graph of paths in trees                         0.955523  \n",
       "Graph minors IV Widths of trees and well quasi ...               0.966767  \n",
       "Graph minors A survey                                            1.000000  "
      ]
     },
     "execution_count": 9,
     "metadata": {},
     "output_type": "execute_result"
    }
   ],
   "source": [
    "from sklearn.preprocessing import normalize\n",
    "\n",
    "X_normed = normalize(X_lsa, axis = 1)\n",
    "similarity = X_normed @ X_normed.T\n",
    "pd.DataFrame(similarity, index = documents, columns = documents)"
   ]
  }
 ],
 "metadata": {
  "kernelspec": {
   "display_name": "Python 3",
   "language": "python",
   "name": "python3"
  },
  "language_info": {
   "codemirror_mode": {
    "name": "ipython",
    "version": 3
   },
   "file_extension": ".py",
   "mimetype": "text/x-python",
   "name": "python",
   "nbconvert_exporter": "python",
   "pygments_lexer": "ipython3",
   "version": "3.6.4"
  },
  "toc": {
   "nav_menu": {},
   "number_sections": true,
   "sideBar": true,
   "skip_h1_title": false,
   "title_cell": "Table of Contents",
   "title_sidebar": "Contents",
   "toc_cell": false,
   "toc_position": {
    "height": "calc(100% - 180px)",
    "left": "10px",
    "top": "150px",
    "width": "245px"
   },
   "toc_section_display": true,
   "toc_window_display": true
  },
  "varInspector": {
   "cols": {
    "lenName": 16,
    "lenType": 16,
    "lenVar": 40
   },
   "kernels_config": {
    "python": {
     "delete_cmd_postfix": "",
     "delete_cmd_prefix": "del ",
     "library": "var_list.py",
     "varRefreshCmd": "print(var_dic_list())"
    },
    "r": {
     "delete_cmd_postfix": ") ",
     "delete_cmd_prefix": "rm(",
     "library": "var_list.r",
     "varRefreshCmd": "cat(var_dic_list()) "
    }
   },
   "types_to_exclude": [
    "module",
    "function",
    "builtin_function_or_method",
    "instance",
    "_Feature"
   ],
   "window_display": false
  }
 },
 "nbformat": 4,
 "nbformat_minor": 2
}
