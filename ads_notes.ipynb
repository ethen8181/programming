{
 "cells": [
  {
   "cell_type": "markdown",
   "metadata": {},
   "source": [
    "## Display Lumascape\n",
    "\n",
    "### Agency\n",
    "\n",
    "Agency are companies that help marketers create, place and buy media.\n",
    "\n",
    "### Agency Trading Desk (ATD)\n",
    "\n",
    "ATD offers programmatic media buying. In other words, marketers pay the agency to build/buy the technology required and operate it on their behalf. Many ATDs are owned by large agencies, but ATD can be independent as well.\n",
    "\n",
    "### Retargeting\n",
    "\n",
    "After doing some online-shopping, we start to see the store's ads start to follow them around the rest of the internet. Companies in this space are specialized to perform this function. Some are experts in cross-device retargeting, some built their name on search targeting.\n",
    "\n",
    "### Dynamic Creative Optimization\n",
    "\n",
    "Help marketers discover which creative asset performs best. e.g. test different call to actions, color scheme to see which one performs best. i.e. put the right message in front of the right customers.\n",
    "\n",
    "From a technology standpoint, creative optimization companies allows marketers to break an ad apart into different pieces and create different version of those pieces for different audiences. So an ad would have different dynamic placeholders, and generated specific message based on the data from DSP or DMP (Data Management Platform. Platform that offers analytics service to help people make their ads data actionable).\n",
    "\n",
    "### Demand Side Platform (DSP)\n",
    "\n",
    "A core component of programmatic media buying.\n",
    "\n",
    "DSP provides to tools for marketers to bid and buy inventory (Ad inventory is the total amount of space that a publisher has available for advertisements at any given time, when an inventory is sold through ad exchange, which are entities involved in real-time bidding system for programmatic buying) in real time from publisher. marketers can create campaign, set date range, target criteria, price cap, how much they wish to spend, etc.\n",
    "\n",
    "\n",
    "### Ad Exchanges\n",
    "\n",
    "Ad exchanges, like DSPs and SSPs, are one of the core components of the programmatic advertising space.\n",
    "\n",
    "Ad exchanges are like NASDAQ, NYSE. It facilitate transactions and provide liquidity to buyers and sellers.\n",
    "\n",
    "### Server Side Platform (SSP)\n",
    "\n",
    "Along with ad exchanges and DSPs, SSPs are the other core service within the programmatic media ecosystem. It comes with tools that favor the selling side, thus they are designed to help the publishers monetize their inventory. e.g. demand optimization: publishers could set rules on what demand they would like to take or not take. e.g. the rules could be advertiser block, category block, price floor.\n",
    "\n",
    "\n",
    "### Publisher Tools\n",
    "\n",
    "The most hodge-podge category on the entire landscape. e.g.\n",
    "\n",
    "- AppNexus, inventory forecasting, price recommendation, cross-platform revenue analytics, automated guaranteed (package inventory and sell it on a guaranteed basis).\n",
    "\n",
    "\n",
    "### Ad Network\n",
    "\n",
    "At the most basic level, ad networks pool inventory of unsold ads from publishers and sell it to advertisers. They earn money by taking a cut of ad revenue.\n",
    "\n",
    "\n",
    "### Ad Server\n",
    "\n",
    "The ad server is the core decision engine of the entire ecosystem. More than any other category, there’s a clear leader in this category, and that’s DoubleClick by a mile.\n",
    "\n",
    "Ad Servers are convenient since they allow both marketers and publishers to centralize the nuts and bolts of getting an ad on a web page. A marketer/advertiser can upload their creative in a single place without having to contact the publisher. Hence they can pull reporting from one place that uses the same tracking technology.\n",
    "\n",
    "By having a separate ad server, it allows both parties to maintain their own independent set of reports and audit each other when it comes time to do the billing.\n",
    "\n",
    "\n",
    "- http://www.adopsinsider.com/data-management-platform/what-is-a-data-management-platform/\n",
    "- https://digiday.com/media/what-is-a-dmp-data-management-platform/\n",
    "- http://www.adopsinsider.com/ad-ops-basics/dynamic-creative-optimization-where-online-data-meets-advertising-creative/\n",
    "- https://www.lumapartners.com/luma-institute/lumascapes/display-ad-tech-lumascape/\n",
    "- http://whatis.techtarget.com/definition/ad-inventory-advertising-inventory\n",
    "- https://martechtoday.com/martech-landscape-what-is-an-ad-network-157618"
   ]
  }
 ],
 "metadata": {
  "kernelspec": {
   "display_name": "Python 3",
   "language": "python",
   "name": "python3"
  },
  "language_info": {
   "codemirror_mode": {
    "name": "ipython",
    "version": 3
   },
   "file_extension": ".py",
   "mimetype": "text/x-python",
   "name": "python",
   "nbconvert_exporter": "python",
   "pygments_lexer": "ipython3",
   "version": "3.6.4"
  },
  "toc": {
   "nav_menu": {},
   "number_sections": true,
   "sideBar": true,
   "skip_h1_title": false,
   "title_cell": "Table of Contents",
   "title_sidebar": "Contents",
   "toc_cell": false,
   "toc_position": {},
   "toc_section_display": true,
   "toc_window_display": false
  },
  "varInspector": {
   "cols": {
    "lenName": 16,
    "lenType": 16,
    "lenVar": 40
   },
   "kernels_config": {
    "python": {
     "delete_cmd_postfix": "",
     "delete_cmd_prefix": "del ",
     "library": "var_list.py",
     "varRefreshCmd": "print(var_dic_list())"
    },
    "r": {
     "delete_cmd_postfix": ") ",
     "delete_cmd_prefix": "rm(",
     "library": "var_list.r",
     "varRefreshCmd": "cat(var_dic_list()) "
    }
   },
   "types_to_exclude": [
    "module",
    "function",
    "builtin_function_or_method",
    "instance",
    "_Feature"
   ],
   "window_display": false
  }
 },
 "nbformat": 4,
 "nbformat_minor": 2
}
