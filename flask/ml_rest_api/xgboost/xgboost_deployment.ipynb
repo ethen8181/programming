{
 "cells": [
  {
   "cell_type": "markdown",
   "metadata": {
    "toc": true
   },
   "source": [
    "<h1>Table of Contents<span class=\"tocSkip\"></span></h1>\n",
    "<div class=\"toc\"><ul class=\"toc-item\"></ul></div>"
   ]
  },
  {
   "cell_type": "code",
   "execution_count": 4,
   "metadata": {},
   "outputs": [
    {
     "name": "stdout",
     "output_type": "stream",
     "text": [
      "Ethen 2018-10-09 15:55:30 \n",
      "\n",
      "CPython 3.6.4\n",
      "IPython 6.4.0\n",
      "\n",
      "numpy 1.14.1\n",
      "pandas 0.23.0\n",
      "sklearn 0.19.1\n",
      "matplotlib 2.2.2\n",
      "xgboost 0.7\n"
     ]
    }
   ],
   "source": [
    "# 1. magic for inline plot\n",
    "# 2. magic to print version\n",
    "# 3. magic so that the notebook will reload external python modules\n",
    "# 4. magic to enable retina (high resolution) plots\n",
    "# https://gist.github.com/minrk/3301035\n",
    "%matplotlib inline\n",
    "%load_ext watermark\n",
    "%load_ext autoreload\n",
    "%autoreload 2\n",
    "%config InlineBackend.figure_format='retina'\n",
    "\n",
    "import re\n",
    "import numpy as np\n",
    "import pandas as pd\n",
    "import matplotlib.pyplot as plt\n",
    "from sklearn.model_selection import train_test_split\n",
    "\n",
    "# change default style figure and font size\n",
    "plt.rcParams['figure.figsize'] = 8, 6\n",
    "plt.rcParams['font.size'] = 12\n",
    "\n",
    "%watermark -a 'Ethen' -d -t -v -p numpy,pandas,sklearn,matplotlib,xgboost"
   ]
  },
  {
   "cell_type": "code",
   "execution_count": 1,
   "metadata": {},
   "outputs": [
    {
     "data": {
      "text/html": [
       "<div>\n",
       "<style scoped>\n",
       "    .dataframe tbody tr th:only-of-type {\n",
       "        vertical-align: middle;\n",
       "    }\n",
       "\n",
       "    .dataframe tbody tr th {\n",
       "        vertical-align: top;\n",
       "    }\n",
       "\n",
       "    .dataframe thead th {\n",
       "        text-align: right;\n",
       "    }\n",
       "</style>\n",
       "<table border=\"1\" class=\"dataframe\">\n",
       "  <thead>\n",
       "    <tr style=\"text-align: right;\">\n",
       "      <th></th>\n",
       "      <th>PassengerId</th>\n",
       "      <th>Survived</th>\n",
       "      <th>Pclass</th>\n",
       "      <th>Name</th>\n",
       "      <th>Sex</th>\n",
       "      <th>Age</th>\n",
       "      <th>SibSp</th>\n",
       "      <th>Parch</th>\n",
       "      <th>Ticket</th>\n",
       "      <th>Fare</th>\n",
       "      <th>Cabin</th>\n",
       "      <th>Embarked</th>\n",
       "    </tr>\n",
       "  </thead>\n",
       "  <tbody>\n",
       "    <tr>\n",
       "      <th>0</th>\n",
       "      <td>1</td>\n",
       "      <td>0</td>\n",
       "      <td>3</td>\n",
       "      <td>Braund, Mr. Owen Harris</td>\n",
       "      <td>male</td>\n",
       "      <td>22.0</td>\n",
       "      <td>1</td>\n",
       "      <td>0</td>\n",
       "      <td>A/5 21171</td>\n",
       "      <td>7.2500</td>\n",
       "      <td>NaN</td>\n",
       "      <td>S</td>\n",
       "    </tr>\n",
       "    <tr>\n",
       "      <th>1</th>\n",
       "      <td>2</td>\n",
       "      <td>1</td>\n",
       "      <td>1</td>\n",
       "      <td>Cumings, Mrs. John Bradley (Florence Briggs Th...</td>\n",
       "      <td>female</td>\n",
       "      <td>38.0</td>\n",
       "      <td>1</td>\n",
       "      <td>0</td>\n",
       "      <td>PC 17599</td>\n",
       "      <td>71.2833</td>\n",
       "      <td>C85</td>\n",
       "      <td>C</td>\n",
       "    </tr>\n",
       "    <tr>\n",
       "      <th>2</th>\n",
       "      <td>3</td>\n",
       "      <td>1</td>\n",
       "      <td>3</td>\n",
       "      <td>Heikkinen, Miss. Laina</td>\n",
       "      <td>female</td>\n",
       "      <td>26.0</td>\n",
       "      <td>0</td>\n",
       "      <td>0</td>\n",
       "      <td>STON/O2. 3101282</td>\n",
       "      <td>7.9250</td>\n",
       "      <td>NaN</td>\n",
       "      <td>S</td>\n",
       "    </tr>\n",
       "    <tr>\n",
       "      <th>3</th>\n",
       "      <td>4</td>\n",
       "      <td>1</td>\n",
       "      <td>1</td>\n",
       "      <td>Futrelle, Mrs. Jacques Heath (Lily May Peel)</td>\n",
       "      <td>female</td>\n",
       "      <td>35.0</td>\n",
       "      <td>1</td>\n",
       "      <td>0</td>\n",
       "      <td>113803</td>\n",
       "      <td>53.1000</td>\n",
       "      <td>C123</td>\n",
       "      <td>S</td>\n",
       "    </tr>\n",
       "    <tr>\n",
       "      <th>4</th>\n",
       "      <td>5</td>\n",
       "      <td>0</td>\n",
       "      <td>3</td>\n",
       "      <td>Allen, Mr. William Henry</td>\n",
       "      <td>male</td>\n",
       "      <td>35.0</td>\n",
       "      <td>0</td>\n",
       "      <td>0</td>\n",
       "      <td>373450</td>\n",
       "      <td>8.0500</td>\n",
       "      <td>NaN</td>\n",
       "      <td>S</td>\n",
       "    </tr>\n",
       "  </tbody>\n",
       "</table>\n",
       "</div>"
      ],
      "text/plain": [
       "   PassengerId  Survived  Pclass  \\\n",
       "0            1         0       3   \n",
       "1            2         1       1   \n",
       "2            3         1       3   \n",
       "3            4         1       1   \n",
       "4            5         0       3   \n",
       "\n",
       "                                                Name     Sex   Age  SibSp  \\\n",
       "0                            Braund, Mr. Owen Harris    male  22.0      1   \n",
       "1  Cumings, Mrs. John Bradley (Florence Briggs Th...  female  38.0      1   \n",
       "2                             Heikkinen, Miss. Laina  female  26.0      0   \n",
       "3       Futrelle, Mrs. Jacques Heath (Lily May Peel)  female  35.0      1   \n",
       "4                           Allen, Mr. William Henry    male  35.0      0   \n",
       "\n",
       "   Parch            Ticket     Fare Cabin Embarked  \n",
       "0      0         A/5 21171   7.2500   NaN        S  \n",
       "1      0          PC 17599  71.2833   C85        C  \n",
       "2      0  STON/O2. 3101282   7.9250   NaN        S  \n",
       "3      0            113803  53.1000  C123        S  \n",
       "4      0            373450   8.0500   NaN        S  "
      ]
     },
     "execution_count": 1,
     "metadata": {},
     "output_type": "execute_result"
    }
   ],
   "source": [
    "# https://towardsdatascience.com/xgboost-deployment-made-easy-6e11f4b3f817\n",
    "train = pd.read_csv(\"all/train.csv\")\n",
    "test = pd.read_csv(\"all/test.csv\")\n",
    "train.head()"
   ]
  },
  {
   "cell_type": "code",
   "execution_count": 2,
   "metadata": {},
   "outputs": [
    {
     "data": {
      "text/plain": [
       "<xgboost.core.Booster at 0x10c433c88>"
      ]
     },
     "execution_count": 2,
     "metadata": {},
     "output_type": "execute_result"
    }
   ],
   "source": [
    "X_y_train = xgb.DMatrix(data=train[['Pclass', 'Age', 'Fare', 'SibSp', 'Parch']], \n",
    "                        label=train['Survived'])\n",
    "X_test = xgb.DMatrix(data=test[['Pclass', 'Age', 'Fare', 'SibSp', 'Parch']])\n",
    "\n",
    "params = {\n",
    "          'base_score': np.mean(train['Survived']),\n",
    "          'eta': 0.1,\n",
    "          'max_depth': 3,\n",
    "          'gamma' :3,\n",
    "          'objective'   :'reg:linear',\n",
    "          'eval_metric' :'mae'\n",
    "         }\n",
    "model = xgb.train(params=params, \n",
    "                  dtrain=X_y_train, \n",
    "                  num_boost_round=3)\n",
    "model"
   ]
  },
  {
   "cell_type": "code",
   "execution_count": 8,
   "metadata": {},
   "outputs": [
    {
     "data": {
      "image/svg+xml": [
       "<?xml version=\"1.0\" encoding=\"UTF-8\" standalone=\"no\"?>\n",
       "<!DOCTYPE svg PUBLIC \"-//W3C//DTD SVG 1.1//EN\"\n",
       " \"http://www.w3.org/Graphics/SVG/1.1/DTD/svg11.dtd\">\n",
       "<!-- Generated by graphviz version 2.40.1 (20161225.0304)\n",
       " -->\n",
       "<!-- Title: %3 Pages: 1 -->\n",
       "<svg width=\"493pt\" height=\"487pt\"\n",
       " viewBox=\"0.00 0.00 492.54 486.95\" xmlns=\"http://www.w3.org/2000/svg\" xmlns:xlink=\"http://www.w3.org/1999/xlink\">\n",
       "<g id=\"graph0\" class=\"graph\" transform=\"scale(1 1) rotate(0) translate(4 482.9546)\">\n",
       "<title>%3</title>\n",
       "<polygon fill=\"#ffffff\" stroke=\"transparent\" points=\"-4,4 -4,-482.9546 488.5371,-482.9546 488.5371,4 -4,4\"/>\n",
       "<!-- 0 -->\n",
       "<g id=\"node1\" class=\"node\">\n",
       "<title>0</title>\n",
       "<ellipse fill=\"none\" stroke=\"#000000\" cx=\"242.0186\" cy=\"-437.33\" rx=\"41.7496\" ry=\"41.7496\"/>\n",
       "<text text-anchor=\"middle\" x=\"242.0186\" y=\"-433.13\" font-family=\"Times,serif\" font-size=\"14.00\" fill=\"#000000\">Pclass&lt;3</text>\n",
       "</g>\n",
       "<!-- 1 -->\n",
       "<g id=\"node2\" class=\"node\">\n",
       "<title>1</title>\n",
       "<ellipse fill=\"none\" stroke=\"#000000\" cx=\"179.0186\" cy=\"-286.1563\" rx=\"59.5981\" ry=\"59.5981\"/>\n",
       "<text text-anchor=\"middle\" x=\"179.0186\" y=\"-281.9563\" font-family=\"Times,serif\" font-size=\"14.00\" fill=\"#000000\">Fare&lt;13.6459</text>\n",
       "</g>\n",
       "<!-- 0&#45;&gt;1 -->\n",
       "<g id=\"edge1\" class=\"edge\">\n",
       "<title>0&#45;&gt;1</title>\n",
       "<path fill=\"none\" stroke=\"#0000ff\" d=\"M218.2483,-402.9312C213.3459,-394.889 208.5413,-386.188 204.791,-377.7054 201.4318,-370.1074 198.3975,-361.9598 195.6902,-353.7721\"/>\n",
       "<polygon fill=\"#0000ff\" stroke=\"#0000ff\" points=\"199.0084,-352.6566 192.6624,-344.1726 192.3326,-354.7623 199.0084,-352.6566\"/>\n",
       "<text text-anchor=\"middle\" x=\"239.6323\" y=\"-366.5054\" font-family=\"Times,serif\" font-size=\"14.00\" fill=\"#000000\">yes, missing</text>\n",
       "</g>\n",
       "<!-- 2 -->\n",
       "<g id=\"node3\" class=\"node\">\n",
       "<title>2</title>\n",
       "<ellipse fill=\"none\" stroke=\"#000000\" cx=\"305.0186\" cy=\"-286.1563\" rx=\"40.7642\" ry=\"40.7642\"/>\n",
       "<text text-anchor=\"middle\" x=\"305.0186\" y=\"-281.9563\" font-family=\"Times,serif\" font-size=\"14.00\" fill=\"#000000\">Age&lt;6.5</text>\n",
       "</g>\n",
       "<!-- 0&#45;&gt;2 -->\n",
       "<g id=\"edge2\" class=\"edge\">\n",
       "<title>0&#45;&gt;2</title>\n",
       "<path fill=\"none\" stroke=\"#ff0000\" d=\"M262.7962,-400.9077C266.7568,-393.3503 270.6973,-385.3568 274.0186,-377.7054 279.8791,-364.2042 285.3628,-349.2078 290.0399,-335.3255\"/>\n",
       "<polygon fill=\"#ff0000\" stroke=\"#ff0000\" points=\"293.4882,-336.0445 293.2969,-325.4514 286.8405,-333.8517 293.4882,-336.0445\"/>\n",
       "<text text-anchor=\"middle\" x=\"287.0186\" y=\"-366.5054\" font-family=\"Times,serif\" font-size=\"14.00\" fill=\"#000000\">no</text>\n",
       "</g>\n",
       "<!-- 3 -->\n",
       "<g id=\"node4\" class=\"node\">\n",
       "<title>3</title>\n",
       "<polygon fill=\"none\" stroke=\"#000000\" points=\"116.0557,-149.3036 -.0186,-149.3036 -.0186,-113.3036 116.0557,-113.3036 116.0557,-149.3036\"/>\n",
       "<text text-anchor=\"middle\" x=\"58.0186\" y=\"-127.1036\" font-family=\"Times,serif\" font-size=\"14.00\" fill=\"#000000\">leaf=&#45;0.00640085</text>\n",
       "</g>\n",
       "<!-- 1&#45;&gt;3 -->\n",
       "<g id=\"edge3\" class=\"edge\">\n",
       "<title>1&#45;&gt;3</title>\n",
       "<path fill=\"none\" stroke=\"#0000ff\" d=\"M136.3389,-244.0668C125.8801,-232.9312 115.0422,-220.6477 105.791,-208.6073 93.6119,-192.7563 81.7862,-173.6594 72.9474,-158.4125\"/>\n",
       "<polygon fill=\"#0000ff\" stroke=\"#0000ff\" points=\"75.8478,-156.4331 67.8536,-149.4801 69.767,-159.9007 75.8478,-156.4331\"/>\n",
       "<text text-anchor=\"middle\" x=\"140.6323\" y=\"-197.4073\" font-family=\"Times,serif\" font-size=\"14.00\" fill=\"#000000\">yes, missing</text>\n",
       "</g>\n",
       "<!-- 4 -->\n",
       "<g id=\"node5\" class=\"node\">\n",
       "<title>4</title>\n",
       "<ellipse fill=\"none\" stroke=\"#000000\" cx=\"179.0186\" cy=\"-131.3036\" rx=\"45.1081\" ry=\"45.1081\"/>\n",
       "<text text-anchor=\"middle\" x=\"179.0186\" y=\"-127.1036\" font-family=\"Times,serif\" font-size=\"14.00\" fill=\"#000000\">Age&lt;42.5</text>\n",
       "</g>\n",
       "<!-- 1&#45;&gt;4 -->\n",
       "<g id=\"edge4\" class=\"edge\">\n",
       "<title>1&#45;&gt;4</title>\n",
       "<path fill=\"none\" stroke=\"#ff0000\" d=\"M179.0186,-226.2862C179.0186,-213.52 179.0186,-200.0815 179.0186,-187.4605\"/>\n",
       "<polygon fill=\"#ff0000\" stroke=\"#ff0000\" points=\"182.5187,-187.0837 179.0186,-177.0838 175.5187,-187.0838 182.5187,-187.0837\"/>\n",
       "<text text-anchor=\"middle\" x=\"186.0186\" y=\"-197.4073\" font-family=\"Times,serif\" font-size=\"14.00\" fill=\"#000000\">no</text>\n",
       "</g>\n",
       "<!-- 5 -->\n",
       "<g id=\"node8\" class=\"node\">\n",
       "<title>5</title>\n",
       "<ellipse fill=\"none\" stroke=\"#000000\" cx=\"305.0186\" cy=\"-131.3036\" rx=\"40.8067\" ry=\"40.8067\"/>\n",
       "<text text-anchor=\"middle\" x=\"305.0186\" y=\"-127.1036\" font-family=\"Times,serif\" font-size=\"14.00\" fill=\"#000000\">SibSp&lt;3</text>\n",
       "</g>\n",
       "<!-- 2&#45;&gt;5 -->\n",
       "<g id=\"edge7\" class=\"edge\">\n",
       "<title>2&#45;&gt;5</title>\n",
       "<path fill=\"none\" stroke=\"#0000ff\" d=\"M305.0186,-245.0652C305.0186,-225.7491 305.0186,-202.5311 305.0186,-182.1213\"/>\n",
       "<polygon fill=\"#0000ff\" stroke=\"#0000ff\" points=\"308.5187,-182.0494 305.0186,-172.0495 301.5187,-182.0495 308.5187,-182.0494\"/>\n",
       "<text text-anchor=\"middle\" x=\"314.3496\" y=\"-197.4073\" font-family=\"Times,serif\" font-size=\"14.00\" fill=\"#000000\">yes</text>\n",
       "</g>\n",
       "<!-- 6 -->\n",
       "<g id=\"node9\" class=\"node\">\n",
       "<title>6</title>\n",
       "<polygon fill=\"none\" stroke=\"#000000\" points=\"472.5557,-149.3036 363.4814,-149.3036 363.4814,-113.3036 472.5557,-113.3036 472.5557,-149.3036\"/>\n",
       "<text text-anchor=\"middle\" x=\"418.0186\" y=\"-127.1036\" font-family=\"Times,serif\" font-size=\"14.00\" fill=\"#000000\">leaf=&#45;0.0162228</text>\n",
       "</g>\n",
       "<!-- 2&#45;&gt;6 -->\n",
       "<g id=\"edge8\" class=\"edge\">\n",
       "<title>2&#45;&gt;6</title>\n",
       "<path fill=\"none\" stroke=\"#ff0000\" d=\"M329.2599,-252.9365C350.0017,-224.5124 379.4664,-184.1346 398.6614,-157.8303\"/>\n",
       "<polygon fill=\"#ff0000\" stroke=\"#ff0000\" points=\"401.6824,-159.6279 404.7498,-149.4868 396.0278,-155.5016 401.6824,-159.6279\"/>\n",
       "<text text-anchor=\"middle\" x=\"404.3013\" y=\"-197.4073\" font-family=\"Times,serif\" font-size=\"14.00\" fill=\"#000000\">no, missing</text>\n",
       "</g>\n",
       "<!-- 9 -->\n",
       "<g id=\"node6\" class=\"node\">\n",
       "<title>9</title>\n",
       "<polygon fill=\"none\" stroke=\"#000000\" points=\"105.3942,-36 .6429,-36 .6429,0 105.3942,0 105.3942,-36\"/>\n",
       "<text text-anchor=\"middle\" x=\"53.0186\" y=\"-13.8\" font-family=\"Times,serif\" font-size=\"14.00\" fill=\"#000000\">leaf=0.0335449</text>\n",
       "</g>\n",
       "<!-- 4&#45;&gt;9 -->\n",
       "<g id=\"edge5\" class=\"edge\">\n",
       "<title>4&#45;&gt;9</title>\n",
       "<path fill=\"none\" stroke=\"#0000ff\" d=\"M145.2529,-100.9403C125.0072,-82.7347 99.5859,-59.875 80.5614,-42.7675\"/>\n",
       "<polygon fill=\"#0000ff\" stroke=\"#0000ff\" points=\"82.8685,-40.1352 73.0924,-36.0512 78.188,-45.3402 82.8685,-40.1352\"/>\n",
       "<text text-anchor=\"middle\" x=\"118.3496\" y=\"-56.8\" font-family=\"Times,serif\" font-size=\"14.00\" fill=\"#000000\">yes</text>\n",
       "</g>\n",
       "<!-- 10 -->\n",
       "<g id=\"node7\" class=\"node\">\n",
       "<title>10</title>\n",
       "<polygon fill=\"none\" stroke=\"#000000\" points=\"234.8942,-36 123.1429,-36 123.1429,0 234.8942,0 234.8942,-36\"/>\n",
       "<text text-anchor=\"middle\" x=\"179.0186\" y=\"-13.8\" font-family=\"Times,serif\" font-size=\"14.00\" fill=\"#000000\">leaf=0.00980747</text>\n",
       "</g>\n",
       "<!-- 4&#45;&gt;10 -->\n",
       "<g id=\"edge6\" class=\"edge\">\n",
       "<title>4&#45;&gt;10</title>\n",
       "<path fill=\"none\" stroke=\"#ff0000\" d=\"M179.0186,-85.8716C179.0186,-72.579 179.0186,-58.428 179.0186,-46.5063\"/>\n",
       "<polygon fill=\"#ff0000\" stroke=\"#ff0000\" points=\"182.5187,-46.273 179.0186,-36.273 175.5187,-46.2731 182.5187,-46.273\"/>\n",
       "<text text-anchor=\"middle\" x=\"211.3013\" y=\"-56.8\" font-family=\"Times,serif\" font-size=\"14.00\" fill=\"#000000\">no, missing</text>\n",
       "</g>\n",
       "<!-- 11 -->\n",
       "<g id=\"node10\" class=\"node\">\n",
       "<title>11</title>\n",
       "<polygon fill=\"none\" stroke=\"#000000\" points=\"357.3942,-36 252.6429,-36 252.6429,0 357.3942,0 357.3942,-36\"/>\n",
       "<text text-anchor=\"middle\" x=\"305.0186\" y=\"-13.8\" font-family=\"Times,serif\" font-size=\"14.00\" fill=\"#000000\">leaf=0.0521093</text>\n",
       "</g>\n",
       "<!-- 5&#45;&gt;11 -->\n",
       "<g id=\"edge9\" class=\"edge\">\n",
       "<title>5&#45;&gt;11</title>\n",
       "<path fill=\"none\" stroke=\"#0000ff\" d=\"M305.0186,-90.3984C305.0186,-75.6935 305.0186,-59.451 305.0186,-46.0831\"/>\n",
       "<polygon fill=\"#0000ff\" stroke=\"#0000ff\" points=\"308.5187,-46.0629 305.0186,-36.0629 301.5187,-46.0629 308.5187,-46.0629\"/>\n",
       "<text text-anchor=\"middle\" x=\"339.6323\" y=\"-56.8\" font-family=\"Times,serif\" font-size=\"14.00\" fill=\"#000000\">yes, missing</text>\n",
       "</g>\n",
       "<!-- 12 -->\n",
       "<g id=\"node11\" class=\"node\">\n",
       "<title>12</title>\n",
       "<polygon fill=\"none\" stroke=\"#000000\" points=\"484.5557,-36 375.4814,-36 375.4814,0 484.5557,0 484.5557,-36\"/>\n",
       "<text text-anchor=\"middle\" x=\"430.0186\" y=\"-13.8\" font-family=\"Times,serif\" font-size=\"14.00\" fill=\"#000000\">leaf=&#45;0.0224916</text>\n",
       "</g>\n",
       "<!-- 5&#45;&gt;12 -->\n",
       "<g id=\"edge10\" class=\"edge\">\n",
       "<title>5&#45;&gt;12</title>\n",
       "<path fill=\"none\" stroke=\"#ff0000\" d=\"M334.6403,-103.0126C340.9316,-97.2613 347.6109,-91.341 354.0186,-86 364.2605,-77.4629 367.8607,-76.6369 378.0186,-68 387.0769,-60.298 396.5682,-51.4321 404.9255,-43.3249\"/>\n",
       "<polygon fill=\"#ff0000\" stroke=\"#ff0000\" points=\"407.5524,-45.6508 412.2369,-36.1478 402.6487,-40.6553 407.5524,-45.6508\"/>\n",
       "<text text-anchor=\"middle\" x=\"400.0186\" y=\"-56.8\" font-family=\"Times,serif\" font-size=\"14.00\" fill=\"#000000\">no</text>\n",
       "</g>\n",
       "</g>\n",
       "</svg>\n"
      ],
      "text/plain": [
       "<graphviz.dot.Digraph at 0x10d04dd30>"
      ]
     },
     "execution_count": 8,
     "metadata": {},
     "output_type": "execute_result"
    }
   ],
   "source": [
    "xgb.to_graphviz(model,num_trees=0)"
   ]
  },
  {
   "cell_type": "code",
   "execution_count": 9,
   "metadata": {},
   "outputs": [
    {
     "name": "stdout",
     "output_type": "stream",
     "text": [
      "num trees:  3\n"
     ]
    },
    {
     "data": {
      "text/plain": [
       "'0:[Pclass<3] yes=1,no=2,missing=1\\n\\t1:[Fare<13.6459] yes=3,no=4,missing=3\\n\\t\\t3:leaf=-0.00640085\\n\\t\\t4:[Age<42.5] yes=9,no=10,missing=10\\n\\t\\t\\t9:leaf=0.0335449\\n\\t\\t\\t10:leaf=0.00980747\\n\\t2:[Age<6.5] yes=5,no=6,missing=6\\n\\t\\t5:[SibSp<3] yes=11,no=12,missing=11\\n\\t\\t\\t11:leaf=0.0521093\\n\\t\\t\\t12:leaf=-0.0224916\\n\\t\\t6:leaf=-0.0162228\\n'"
      ]
     },
     "execution_count": 9,
     "metadata": {},
     "output_type": "execute_result"
    }
   ],
   "source": [
    "model_dump = model.get_dump()\n",
    "print('num trees: ', len(model_dump))\n",
    "model_dump[0]"
   ]
  },
  {
   "cell_type": "code",
   "execution_count": 11,
   "metadata": {},
   "outputs": [
    {
     "data": {
      "text/plain": [
       "['0:[Pclass<3] yes=1,no=2,missing=1',\n",
       " '\\t1:[Fare<13.6459] yes=3,no=4,missing=3',\n",
       " '\\t\\t3:leaf=-0.00640085',\n",
       " '\\t\\t4:[Age<42.5] yes=9,no=10,missing=10',\n",
       " '\\t\\t\\t9:leaf=0.0335449',\n",
       " '\\t\\t\\t10:leaf=0.00980747',\n",
       " '\\t2:[Age<6.5] yes=5,no=6,missing=6',\n",
       " '\\t\\t5:[SibSp<3] yes=11,no=12,missing=11',\n",
       " '\\t\\t\\t11:leaf=0.0521093',\n",
       " '\\t\\t\\t12:leaf=-0.0224916',\n",
       " '\\t\\t6:leaf=-0.0162228',\n",
       " '']"
      ]
     },
     "execution_count": 11,
     "metadata": {},
     "output_type": "execute_result"
    }
   ],
   "source": [
    "tree = model_dump[0]\n",
    "splitted = tree.split('\\n')\n",
    "splitted"
   ]
  },
  {
   "cell_type": "code",
   "execution_count": 5,
   "metadata": {},
   "outputs": [],
   "source": [
    "def string_parser(s):\n",
    "    if len(re.findall(r\":leaf=\", s)) == 0:\n",
    "        out  = re.findall(r\"[\\w.-]+\", s)\n",
    "        tabs = re.findall(r\"[\\t]+\", s)\n",
    "        if (out[4] == out[8]):\n",
    "            missing_value_handling = (\" or np.isnan(x['\" + out[1] + \"']) \")\n",
    "        else:\n",
    "            missing_value_handling = \"\"\n",
    "            \n",
    "        if len(tabs) > 0:\n",
    "            return (re.findall(r\"[\\t]+\", s)[0].replace('\\t', '    ') + \n",
    "                    '        if state == ' + out[0] + ':\\n' +\n",
    "                    re.findall(r\"[\\t]+\", s)[0].replace('\\t', '    ') +\n",
    "                    '            state = (' + out[4] +  \n",
    "                    ' if ' +  \"x['\" + out[1] +\"']<\" + out[2] + missing_value_handling + \n",
    "                    ' else ' + out[6] + ')\\n' )\n",
    "\n",
    "        else:\n",
    "            return ('        if state == ' + out[0] + ':\\n' +\n",
    "                    '            state = (' + out[4] +  \n",
    "                    ' if ' +  \"x['\" + out[1] +\"']<\" + out[2] + missing_value_handling +\n",
    "                    ' else ' + out[6] + ')\\n' )\n",
    "    else:\n",
    "        out = re.findall(r\"[\\d.-]+\", s)\n",
    "        return (re.findall(r\"[\\t]+\", s)[0].replace('\\t', '    ') + \n",
    "                '        if state == ' + out[0] + ':\\n    ' +\n",
    "                re.findall(r\"[\\t]+\", s)[0].replace('\\t', '    ') + \n",
    "                '        return ' + out[1] + '\\n')\n",
    "      \n",
    "def tree_parser(tree, i):\n",
    "    if i == 0:\n",
    "        return ('    if num_booster == 0:\\n        state = 0\\n'\n",
    "             + \"\".join([string_parser(tree.split('\\n')[i]) \n",
    "                        for i in range(len(tree.split('\\n'))-1)]))\n",
    "    else:\n",
    "        return ('    elif num_booster == '+str(i)+':\\n        state = 0\\n'\n",
    "             + \"\".join([string_parser(tree.split('\\n')[i]) \n",
    "                        for i in range(len(tree.split('\\n'))-1)])) \n",
    "    \n",
    "def model_to_py(base_score, model, out_file):\n",
    "    trees = model.get_dump()\n",
    "    result = [\"import numpy as np\\n\\n\" \n",
    "             +\"def xgb_tree(x, num_booster):\\n\"]\n",
    "    \n",
    "    for i in range(len(trees)):\n",
    "        result.append(tree_parser(trees[i], i))\n",
    "    \n",
    "    with open(out_file, 'a') as the_file:\n",
    "        the_file.write(\"\".join(result) + \"\\ndef xgb_predict(x):\\n    predict = \" \n",
    "                       + str(base_score) + \"\\n\"\n",
    "                       + \"# initialize prediction with base score\\n\" \n",
    "                       + \"    for i in range(\" \n",
    "                       + str(len(trees))  \n",
    "                       + \"):\\n        predict = predict + xgb_tree(x, i)\"\n",
    "                       + \"\\n    return predict\")"
   ]
  },
  {
   "cell_type": "code",
   "execution_count": 12,
   "metadata": {},
   "outputs": [],
   "source": [
    "model_to_py(params['base_score'], model, 'xgb_model.py')"
   ]
  },
  {
   "cell_type": "code",
   "execution_count": 17,
   "metadata": {},
   "outputs": [
    {
     "data": {
      "text/plain": [
       "0.34158018383838384"
      ]
     },
     "execution_count": 17,
     "metadata": {},
     "output_type": "execute_result"
    }
   ],
   "source": [
    "import xgb_model\n",
    "\n",
    "data1 = {'Pclass': 3, 'Age': 34.5, 'Fare': 7.8292, 'SibSp': 0, 'Parch': 0}\n",
    "xgb_model.xgb_predict(data1)"
   ]
  },
  {
   "cell_type": "code",
   "execution_count": 18,
   "metadata": {},
   "outputs": [
    {
     "data": {
      "text/plain": [
       "0.3717296318383838"
      ]
     },
     "execution_count": 18,
     "metadata": {},
     "output_type": "execute_result"
    }
   ],
   "source": [
    "data1 = {'Pclass': 2, 'Age': 62.0, 'Fare': 9.6875, 'SibSp': 0, 'Parch': 0}\n",
    "xgb_model.xgb_predict(data1)"
   ]
  },
  {
   "cell_type": "code",
   "execution_count": 16,
   "metadata": {},
   "outputs": [
    {
     "data": {
      "text/html": [
       "<div>\n",
       "<style scoped>\n",
       "    .dataframe tbody tr th:only-of-type {\n",
       "        vertical-align: middle;\n",
       "    }\n",
       "\n",
       "    .dataframe tbody tr th {\n",
       "        vertical-align: top;\n",
       "    }\n",
       "\n",
       "    .dataframe thead th {\n",
       "        text-align: right;\n",
       "    }\n",
       "</style>\n",
       "<table border=\"1\" class=\"dataframe\">\n",
       "  <thead>\n",
       "    <tr style=\"text-align: right;\">\n",
       "      <th></th>\n",
       "      <th>Pclass</th>\n",
       "      <th>Age</th>\n",
       "      <th>Fare</th>\n",
       "      <th>SibSp</th>\n",
       "      <th>Parch</th>\n",
       "      <th>pred</th>\n",
       "    </tr>\n",
       "  </thead>\n",
       "  <tbody>\n",
       "    <tr>\n",
       "      <th>0</th>\n",
       "      <td>3</td>\n",
       "      <td>34.5</td>\n",
       "      <td>7.8292</td>\n",
       "      <td>0</td>\n",
       "      <td>0</td>\n",
       "      <td>0.34158</td>\n",
       "    </tr>\n",
       "    <tr>\n",
       "      <th>1</th>\n",
       "      <td>3</td>\n",
       "      <td>47.0</td>\n",
       "      <td>7.0000</td>\n",
       "      <td>1</td>\n",
       "      <td>0</td>\n",
       "      <td>0.34158</td>\n",
       "    </tr>\n",
       "    <tr>\n",
       "      <th>2</th>\n",
       "      <td>2</td>\n",
       "      <td>62.0</td>\n",
       "      <td>9.6875</td>\n",
       "      <td>0</td>\n",
       "      <td>0</td>\n",
       "      <td>0.37173</td>\n",
       "    </tr>\n",
       "  </tbody>\n",
       "</table>\n",
       "</div>"
      ],
      "text/plain": [
       "   Pclass   Age    Fare  SibSp  Parch     pred\n",
       "0       3  34.5  7.8292      0      0  0.34158\n",
       "1       3  47.0  7.0000      1      0  0.34158\n",
       "2       2  62.0  9.6875      0      0  0.37173"
      ]
     },
     "execution_count": 16,
     "metadata": {},
     "output_type": "execute_result"
    }
   ],
   "source": [
    "prediction = model.predict(X_test)\n",
    "test['pred'] = prediction\n",
    "test[['Pclass', 'Age', 'Fare', 'SibSp', 'Parch', 'pred']].head(3)"
   ]
  }
 ],
 "metadata": {
  "kernelspec": {
   "display_name": "Python 3",
   "language": "python",
   "name": "python3"
  },
  "language_info": {
   "codemirror_mode": {
    "name": "ipython",
    "version": 3
   },
   "file_extension": ".py",
   "mimetype": "text/x-python",
   "name": "python",
   "nbconvert_exporter": "python",
   "pygments_lexer": "ipython3",
   "version": "3.6.4"
  },
  "toc": {
   "nav_menu": {},
   "number_sections": true,
   "sideBar": true,
   "skip_h1_title": false,
   "title_cell": "Table of Contents",
   "title_sidebar": "Contents",
   "toc_cell": true,
   "toc_position": {
    "height": "calc(100% - 180px)",
    "left": "10px",
    "top": "150px",
    "width": "213px"
   },
   "toc_section_display": true,
   "toc_window_display": true
  },
  "varInspector": {
   "cols": {
    "lenName": 16,
    "lenType": 16,
    "lenVar": 40
   },
   "kernels_config": {
    "python": {
     "delete_cmd_postfix": "",
     "delete_cmd_prefix": "del ",
     "library": "var_list.py",
     "varRefreshCmd": "print(var_dic_list())"
    },
    "r": {
     "delete_cmd_postfix": ") ",
     "delete_cmd_prefix": "rm(",
     "library": "var_list.r",
     "varRefreshCmd": "cat(var_dic_list()) "
    }
   },
   "types_to_exclude": [
    "module",
    "function",
    "builtin_function_or_method",
    "instance",
    "_Feature"
   ],
   "window_display": false
  }
 },
 "nbformat": 4,
 "nbformat_minor": 2
}
