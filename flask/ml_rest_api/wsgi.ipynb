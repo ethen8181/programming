{
 "cells": [
  {
   "cell_type": "markdown",
   "metadata": {
    "toc": true
   },
   "source": [
    "<h1>Table of Contents<span class=\"tocSkip\"></span></h1>\n",
    "<div class=\"toc\"><ul class=\"toc-item\"><li><span><a href=\"#WSGI\" data-toc-modified-id=\"WSGI-1\"><span class=\"toc-item-num\">1&nbsp;&nbsp;</span>WSGI</a></span></li><li><span><a href=\"#Reference\" data-toc-modified-id=\"Reference-2\"><span class=\"toc-item-num\">2&nbsp;&nbsp;</span>Reference</a></span></li></ul></div>"
   ]
  },
  {
   "cell_type": "markdown",
   "metadata": {},
   "source": [
    "# WSGI"
   ]
  },
  {
   "cell_type": "markdown",
   "metadata": {},
   "source": [
    "**WSGI (pronounced wiz-gee) stands for [Web Server Gateway Interface](https://en.wikipedia.org/wiki/Web_Server_Gateway_Interface)**. It was created as an implementation-agnostic interface between web servers and web applications or frameworks to promote common ground for portable web application development in Python. Without this standard, it can become confusing or troublesome as the developers' choice of web framework will limit their choice of usable web servers, and vice versa.\n",
    "\n",
    "The same idea can be seen in the Java world. Java has many web application frameworks available, but Java's \"servlet\" API makes it possible for applications written with any Java web application framework to run in any web server that supports the servlet API.\n",
    "\n",
    "We can read the spec here in [PEP 333](https://www.python.org/dev/peps/pep-0333/), Long story short, it boils down to the concept of the python app making a callable object (e.g. a function) available to the web server. When the web server receives a request from the client that should be processed by the python app, it calls this function. The python app runs and returns the result to the web server, and the server passes it on to the client.\n",
    "\n",
    "In the Python world, **Flask is a popular lightweight framework for writing WSGI compliant web applications in Python**. The Flask framework is implemented using the Werkzeug library, which is a library that consists of a large set of utilities designed to make writing WSGI compliant Python applications easier.\n",
    "\n",
    "**[uWSGI](https://uwsgi-docs.readthedocs.io/en/latest/index.html) is a popular web server that implements the WSGI standard**. Don't get confused by the name. WSGI is a specification, uWSGI is a web server. That little \"u\" in the front makes a big difference. **It's pretty common to pair Flask and uWSGI since they both talk WSGI**.\n",
    "\n",
    "The uWSGI server is a full fledged HTTP server that is quite capable of running production web apps. However, it's not as performant as nginx (pronounced engine-x) at serving static content, so if we need super high throughput for static content, then we have the option of sticking nginx in front of our uWSGI server. This gives us the following data flow from the client to the python app: \n",
    "\n",
    "<img src=\"img/python_app_flow.png\" height=\"60%\" width=\"60%\">\n",
    "\n",
    "Here nginx is served as what is called a proxy server. Now, you might be asking Why can't nginx directly call my Flask application? Because nginx doesn't support the WSGI spec. Technically nginx could implement the WSGI spec if they wanted, they just haven't. That being the case, we need a web server that does implement the spec, which is what the uWSGI server is for.\n",
    "\n",
    "When we do put nginx in front of our uWSGI server, they will communicate over a low level protocol known as **uwsgi**. This might be a bit confusing as the naming isn't that great. When we reference uWSGI you are talking about an http server. When we say uwsgi (all lowercase) we are referring to a binary protocol that the uWSGI server uses to talk to other servers like nginx.\n",
    "\n",
    "So to recap, the point of WSGI is to allow any web server to work with any Python application as long as both sides implement the spec. In other words, WSGI is a contract between Python applications (Flask, Django, etc) and web servers (UWSGI, Gunicorn, etc). The benefit is that we can change web servers with little effort because we know they comply with the WSGI specification and these servers are the one that are responsible for loading our Python web application using the WSGI interface."
   ]
  },
  {
   "cell_type": "code",
   "execution_count": 1,
   "metadata": {},
   "outputs": [
    {
     "data": {
      "text/plain": [
       "<Response [200]>"
      ]
     },
     "execution_count": 1,
     "metadata": {},
     "output_type": "execute_result"
    }
   ],
   "source": [
    "import requests\n",
    "\n",
    "show = \"south park\"\n",
    "urlshow = \"%20\".join(show.split(\" \"))\n",
    "\n",
    "base = 'http://api.tvmaze.com/singlesearch/shows?q='\n",
    "request_info = requests.get(base + urlshow)\n",
    "request_info"
   ]
  },
  {
   "cell_type": "code",
   "execution_count": 4,
   "metadata": {},
   "outputs": [
    {
     "data": {
      "text/plain": [
       "{'id': 112,\n",
       " 'url': 'http://www.tvmaze.com/shows/112/south-park',\n",
       " 'name': 'South Park',\n",
       " 'type': 'Animation',\n",
       " 'language': 'English',\n",
       " 'genres': ['Comedy'],\n",
       " 'status': 'Running',\n",
       " 'runtime': 30,\n",
       " 'premiered': '1997-08-13',\n",
       " 'officialSite': 'http://southpark.cc.com',\n",
       " 'schedule': {'time': '22:00', 'days': ['Wednesday']},\n",
       " 'rating': {'average': 8.7},\n",
       " 'weight': 99,\n",
       " 'network': {'id': 23,\n",
       "  'name': 'Comedy Central',\n",
       "  'country': {'name': 'United States',\n",
       "   'code': 'US',\n",
       "   'timezone': 'America/New_York'}},\n",
       " 'webChannel': None,\n",
       " 'externals': {'tvrage': 5266, 'thetvdb': 75897, 'imdb': 'tt0121955'},\n",
       " 'image': {'medium': 'http://static.tvmaze.com/uploads/images/medium_portrait/0/935.jpg',\n",
       "  'original': 'http://static.tvmaze.com/uploads/images/original_untouched/0/935.jpg'},\n",
       " 'summary': '<p><b>South Park</b> is an adult comedy animation show centred around 4 children in the small town of south park. Its humour is often dark involving satirical elements and mocking current real-life events.</p>',\n",
       " 'updated': 1539196886,\n",
       " '_links': {'self': {'href': 'http://api.tvmaze.com/shows/112'},\n",
       "  'previousepisode': {'href': 'http://api.tvmaze.com/episodes/1536450'},\n",
       "  'nextepisode': {'href': 'http://api.tvmaze.com/episodes/1536451'}}}"
      ]
     },
     "execution_count": 4,
     "metadata": {},
     "output_type": "execute_result"
    }
   ],
   "source": [
    "import json\n",
    "\n",
    "json.loads(request_info.text)"
   ]
  },
  {
   "cell_type": "markdown",
   "metadata": {},
   "source": [
    "# Reference"
   ]
  },
  {
   "cell_type": "markdown",
   "metadata": {},
   "source": [
    "- [Stackoverflow: What is the point of uWSGI?](https://stackoverflow.com/questions/38601440/what-is-the-point-of-uwsgi)\n",
    "- [Blog: An introduction into the WSGI ecosystem](http://www.ultravioletsoftware.com/single-post/2017/03/23/An-introduction-into-the-WSGI-ecosystem)\n",
    "- [Blog: WSGI Servers](https://www.fullstackpython.com/wsgi-servers.html)"
   ]
  }
 ],
 "metadata": {
  "kernelspec": {
   "display_name": "Python 3",
   "language": "python",
   "name": "python3"
  },
  "language_info": {
   "codemirror_mode": {
    "name": "ipython",
    "version": 3
   },
   "file_extension": ".py",
   "mimetype": "text/x-python",
   "name": "python",
   "nbconvert_exporter": "python",
   "pygments_lexer": "ipython3",
   "version": "3.6.4"
  },
  "toc": {
   "nav_menu": {},
   "number_sections": true,
   "sideBar": true,
   "skip_h1_title": false,
   "title_cell": "Table of Contents",
   "title_sidebar": "Contents",
   "toc_cell": true,
   "toc_position": {
    "height": "calc(100% - 180px)",
    "left": "10px",
    "top": "150px",
    "width": "246px"
   },
   "toc_section_display": true,
   "toc_window_display": true
  },
  "varInspector": {
   "cols": {
    "lenName": 16,
    "lenType": 16,
    "lenVar": 40
   },
   "kernels_config": {
    "python": {
     "delete_cmd_postfix": "",
     "delete_cmd_prefix": "del ",
     "library": "var_list.py",
     "varRefreshCmd": "print(var_dic_list())"
    },
    "r": {
     "delete_cmd_postfix": ") ",
     "delete_cmd_prefix": "rm(",
     "library": "var_list.r",
     "varRefreshCmd": "cat(var_dic_list()) "
    }
   },
   "types_to_exclude": [
    "module",
    "function",
    "builtin_function_or_method",
    "instance",
    "_Feature"
   ],
   "window_display": false
  }
 },
 "nbformat": 4,
 "nbformat_minor": 2
}
