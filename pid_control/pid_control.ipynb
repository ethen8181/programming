{
 "cells": [
  {
   "cell_type": "markdown",
   "id": "57820f4d",
   "metadata": {
    "toc": true
   },
   "source": [
    "<h1>Table of Contents<span class=\"tocSkip\"></span></h1>\n",
    "<div class=\"toc\"><ul class=\"toc-item\"><li><span><a href=\"#PID-Controller\" data-toc-modified-id=\"PID-Controller-1\"><span class=\"toc-item-num\">1&nbsp;&nbsp;</span>PID Controller</a></span></li><li><span><a href=\"#Reference\" data-toc-modified-id=\"Reference-2\"><span class=\"toc-item-num\">2&nbsp;&nbsp;</span>Reference</a></span></li></ul></div>"
   ]
  },
  {
   "cell_type": "markdown",
   "id": "7600de1c",
   "metadata": {},
   "source": [
    "# PID Controller"
   ]
  },
  {
   "cell_type": "markdown",
   "id": "a4fa76d3",
   "metadata": {},
   "source": [
    "The core idea behind a control system is to figure out how to generate the appropriate actuator signal (input) so our system will produce the controlled variable (output) to as close as where we want it to be (reference).\n",
    "\n",
    "PID controller is a commonly used controller to achieve this goal, where:\n",
    "\n",
    "- P, stands for Proportional Error, responding to current error. This term checks the difference between the current value with the desired value.\n",
    "- I, stands for Integral Error, responding to the past error. This term sums up the input signal over time, keeping a running total.\n",
    "- D, stands for Derivative Error: responding to future error. This term measures the error rate change, i.e. how fast the error is growing or shrinking.\n",
    "\n",
    "These 3 factors contributes to the controller's overall output, and we as engineers, decide the weighting for each of the factor."
   ]
  },
  {
   "cell_type": "markdown",
   "id": "12339837",
   "metadata": {},
   "source": [
    "# Reference"
   ]
  },
  {
   "cell_type": "markdown",
   "id": "8195a3ad",
   "metadata": {},
   "source": [
    "- [Youtube: Understanding PID Control](https://www.youtube.com/watch?v=wkfEZmsQqiA&list=PLn8PRpmsu08pQBgjxYFXSsODEF3Jqmm-y)"
   ]
  }
 ],
 "metadata": {
  "kernelspec": {
   "display_name": "Python 3 (ipykernel)",
   "language": "python",
   "name": "python3"
  },
  "language_info": {
   "codemirror_mode": {
    "name": "ipython",
    "version": 3
   },
   "file_extension": ".py",
   "mimetype": "text/x-python",
   "name": "python",
   "nbconvert_exporter": "python",
   "pygments_lexer": "ipython3",
   "version": "3.7.11"
  },
  "toc": {
   "base_numbering": 1,
   "nav_menu": {},
   "number_sections": true,
   "sideBar": true,
   "skip_h1_title": false,
   "title_cell": "Table of Contents",
   "title_sidebar": "Contents",
   "toc_cell": true,
   "toc_position": {
    "height": "calc(100% - 180px)",
    "left": "10px",
    "top": "150px",
    "width": "244.7px"
   },
   "toc_section_display": true,
   "toc_window_display": true
  }
 },
 "nbformat": 4,
 "nbformat_minor": 5
}
