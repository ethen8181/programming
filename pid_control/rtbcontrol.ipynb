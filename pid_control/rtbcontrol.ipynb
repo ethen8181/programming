{
 "cells": [
  {
   "cell_type": "markdown",
   "metadata": {
    "toc": true
   },
   "source": [
    "<h1>Table of Contents<span class=\"tocSkip\"></span></h1>\n",
    "<div class=\"toc\"><ul class=\"toc-item\"><li><span><a href=\"#RTB-Control\" data-toc-modified-id=\"RTB-Control-1\"><span class=\"toc-item-num\">1&nbsp;&nbsp;</span>RTB Control</a></span><ul class=\"toc-item\"><li><span><a href=\"#Evaluation\" data-toc-modified-id=\"Evaluation-1.1\"><span class=\"toc-item-num\">1.1&nbsp;&nbsp;</span>Evaluation</a></span></li><li><span><a href=\"#Ray-Tune\" data-toc-modified-id=\"Ray-Tune-1.2\"><span class=\"toc-item-num\">1.2&nbsp;&nbsp;</span>Ray Tune</a></span></li></ul></li></ul></div>"
   ]
  },
  {
   "cell_type": "code",
   "execution_count": 1,
   "metadata": {
    "ExecuteTime": {
     "end_time": "2021-08-15T00:09:00.046181Z",
     "start_time": "2021-08-15T00:08:58.196875Z"
    }
   },
   "outputs": [
    {
     "name": "stdout",
     "output_type": "stream",
     "text": [
      "Ethen 2021-08-14 17:09:00 \n",
      "\n",
      "CPython 3.6.4\n",
      "IPython 7.15.0\n",
      "\n",
      "numpy 1.18.5\n",
      "pandas 1.0.5\n",
      "sklearn 0.0\n",
      "matplotlib 3.1.0\n"
     ]
    }
   ],
   "source": [
    "# 1. magic for inline plot\n",
    "# 2. magic to print version\n",
    "# 3. magic so that the notebook will reload external python modules\n",
    "# 4. magic to enable retina (high resolution) plots\n",
    "# https://gist.github.com/minrk/3301035\n",
    "%matplotlib inline\n",
    "%load_ext watermark\n",
    "%load_ext autoreload\n",
    "%autoreload 2\n",
    "%config InlineBackend.figure_format='retina'\n",
    "\n",
    "import os\n",
    "import time\n",
    "import numpy as np\n",
    "import pandas as pd\n",
    "import matplotlib.pyplot as plt\n",
    "from sklearn.model_selection import train_test_split\n",
    "\n",
    "# change default style figure and font size\n",
    "plt.rcParams['figure.figsize'] = 8, 6\n",
    "plt.rcParams['font.size'] = 12\n",
    "\n",
    "# prevent scientific notations\n",
    "pd.set_option('display.float_format', lambda x: '%.3f' % x)\n",
    "\n",
    "%watermark -a 'Ethen' -d -t -v -p numpy,pandas,sklearn,matplotlib"
   ]
  },
  {
   "cell_type": "code",
   "execution_count": 2,
   "metadata": {
    "ExecuteTime": {
     "end_time": "2021-08-15T00:09:00.224342Z",
     "start_time": "2021-08-15T00:09:00.050053Z"
    }
   },
   "outputs": [
    {
     "name": "stdout",
     "output_type": "stream",
     "text": [
      "0\t51\t0.000154\t1\r\n",
      "0\t87\t0.000140\t1\r\n",
      "0\t33\t0.000322\t1\r\n",
      "0\t65\t0.000100\t1\r\n",
      "0\t238\t0.000169\t1\r\n",
      "0\t65\t0.000174\t1\r\n",
      "0\t6\t0.000115\t1\r\n",
      "0\t129\t0.000046\t1\r\n",
      "0\t57\t0.000265\t1\r\n",
      "0\t81\t0.000128\t1\r\n"
     ]
    }
   ],
   "source": [
    "!head exp-data/train.txt"
   ]
  },
  {
   "cell_type": "markdown",
   "metadata": {},
   "source": [
    "# RTB Control"
   ]
  },
  {
   "cell_type": "markdown",
   "metadata": {},
   "source": [
    "- https://github.com/wnzhang/rtbcontrol\n",
    "- https://resourcium.org/journey/pid-control-brief-introduction"
   ]
  },
  {
   "cell_type": "code",
   "execution_count": 3,
   "metadata": {
    "ExecuteTime": {
     "end_time": "2021-08-15T00:09:00.328120Z",
     "start_time": "2021-08-15T00:09:00.227092Z"
    }
   },
   "outputs": [
    {
     "name": "stdout",
     "output_type": "stream",
     "text": [
      "(100000, 4)\n"
     ]
    },
    {
     "data": {
      "text/html": [
       "<div>\n",
       "<style scoped>\n",
       "    .dataframe tbody tr th:only-of-type {\n",
       "        vertical-align: middle;\n",
       "    }\n",
       "\n",
       "    .dataframe tbody tr th {\n",
       "        vertical-align: top;\n",
       "    }\n",
       "\n",
       "    .dataframe thead th {\n",
       "        text-align: right;\n",
       "    }\n",
       "</style>\n",
       "<table border=\"1\" class=\"dataframe\">\n",
       "  <thead>\n",
       "    <tr style=\"text-align: right;\">\n",
       "      <th></th>\n",
       "      <th>clicks</th>\n",
       "      <th>bids</th>\n",
       "      <th>ctrs</th>\n",
       "      <th>dummy</th>\n",
       "    </tr>\n",
       "  </thead>\n",
       "  <tbody>\n",
       "    <tr>\n",
       "      <th>0</th>\n",
       "      <td>0</td>\n",
       "      <td>51</td>\n",
       "      <td>0.000</td>\n",
       "      <td>1</td>\n",
       "    </tr>\n",
       "    <tr>\n",
       "      <th>1</th>\n",
       "      <td>0</td>\n",
       "      <td>87</td>\n",
       "      <td>0.000</td>\n",
       "      <td>1</td>\n",
       "    </tr>\n",
       "    <tr>\n",
       "      <th>2</th>\n",
       "      <td>0</td>\n",
       "      <td>33</td>\n",
       "      <td>0.000</td>\n",
       "      <td>1</td>\n",
       "    </tr>\n",
       "    <tr>\n",
       "      <th>3</th>\n",
       "      <td>0</td>\n",
       "      <td>65</td>\n",
       "      <td>0.000</td>\n",
       "      <td>1</td>\n",
       "    </tr>\n",
       "    <tr>\n",
       "      <th>4</th>\n",
       "      <td>0</td>\n",
       "      <td>238</td>\n",
       "      <td>0.000</td>\n",
       "      <td>1</td>\n",
       "    </tr>\n",
       "  </tbody>\n",
       "</table>\n",
       "</div>"
      ],
      "text/plain": [
       "   clicks  bids  ctrs  dummy\n",
       "0       0    51 0.000      1\n",
       "1       0    87 0.000      1\n",
       "2       0    33 0.000      1\n",
       "3       0    65 0.000      1\n",
       "4       0   238 0.000      1"
      ]
     },
     "execution_count": 3,
     "metadata": {},
     "output_type": "execute_result"
    }
   ],
   "source": [
    "input_path = 'exp-data/train.txt'\n",
    "\n",
    "df_train = pd.read_csv(input_path, sep='\\t', header=None, names=['clicks', 'bids', 'ctrs', 'dummy'])\n",
    "print(df_train.shape)\n",
    "df_train.head()"
   ]
  },
  {
   "cell_type": "code",
   "execution_count": 4,
   "metadata": {
    "ExecuteTime": {
     "end_time": "2021-08-15T00:09:00.360236Z",
     "start_time": "2021-08-15T00:09:00.330166Z"
    }
   },
   "outputs": [],
   "source": [
    "def compute_enhanced_cpc_bid(base_bid: int, base_ctr: float, ctr: float) -> int:\n",
    "    return int(base_bid * ctr / base_ctr)"
   ]
  },
  {
   "cell_type": "code",
   "execution_count": 5,
   "metadata": {
    "ExecuteTime": {
     "end_time": "2021-08-15T00:09:00.410182Z",
     "start_time": "2021-08-15T00:09:00.365661Z"
    }
   },
   "outputs": [],
   "source": [
    "import math\n",
    "\n",
    "\n",
    "def simulate(\n",
    "    df: pd.DataFrame,\n",
    "    target_metric: str,\n",
    "    reference_point: float,\n",
    "    control_rounds: int,\n",
    "    param_p: float,\n",
    "    param_i: float,\n",
    "    param_d: float\n",
    ") -> pd.DataFrame:\n",
    "    base_ctr = df['clicks'].sum() / df['clicks'].shape[0]\n",
    "    clicks = df['clicks'].tolist()\n",
    "    bids = df['bids'].tolist()\n",
    "    ctrs = df['ctrs'].tolist()\n",
    "    \n",
    "    total_cost = 0.0\n",
    "    total_clicks = 1\n",
    "    total_wins = 0\n",
    "\n",
    "    ecpc_records = []\n",
    "    bids_records = []\n",
    "    phi_records = []\n",
    "    win_rate_records = []\n",
    "\n",
    "    # the i term in pid controller\n",
    "    error_sum = 0.0\n",
    "\n",
    "    control_batch_size = len(clicks) // control_rounds\n",
    "    for i in range(control_rounds):\n",
    "        # update pid controller\n",
    "        if i == 0:\n",
    "            phi = 0.0\n",
    "        else:\n",
    "            if target_metric == 'ecpc':\n",
    "                metric_value = ecpc_records[i - 1]\n",
    "                metric_value_delta = ecpc_records[i - 2] - ecpc_records[i - 1]\n",
    "            elif target_metric == 'win_rate':\n",
    "                metric_value = win_rate_records[i - 1]\n",
    "                metric_value_delta = win_rate_records[i - 2] - win_rate_records[i - 1]\n",
    "\n",
    "            error = reference_point - metric_value\n",
    "            error_sum += error\n",
    "            phi = param_p * error + param_i * error_sum\n",
    "            if i > 1:\n",
    "                phi += param_d * metric_value_delta\n",
    "\n",
    "        phi = max(phi, min_phi)\n",
    "        phi = min(phi, max_phi)\n",
    "\n",
    "        batch_start = i * control_batch_size\n",
    "        batch_end = (i + 1) * control_batch_size\n",
    "        for j in range(batch_start, batch_end):\n",
    "            click = clicks[j]\n",
    "            bid = bids[j]\n",
    "            ctr = ctrs[j]\n",
    "\n",
    "            # update bid\n",
    "            enhanced_cpc_bid = compute_enhanced_cpc_bid(base_bid, base_ctr, ctr)\n",
    "            adjusted_bid = enhanced_cpc_bid * math.exp(phi)\n",
    "            adjusted_bid = max(min_bid, adjusted_bid)\n",
    "\n",
    "            if adjusted_bid >= bid:\n",
    "                total_wins += 1\n",
    "                total_clicks += click\n",
    "                total_cost += bid\n",
    "\n",
    "        ecpc = total_cost / total_clicks\n",
    "        ecpc_records.append(ecpc)\n",
    "\n",
    "        win_rate = total_wins / batch_end\n",
    "        win_rate_records.append(win_rate)\n",
    "\n",
    "        phi_records.append(phi)\n",
    "        bids_records.append(adjusted_bid)\n",
    "\n",
    "    df_records = pd.DataFrame({\n",
    "        'bids': bids_records,\n",
    "        'phi': phi_records,\n",
    "        'win_rate': win_rate_records,\n",
    "        'ecpc': ecpc_records\n",
    "    })\n",
    "    return df_records"
   ]
  },
  {
   "cell_type": "code",
   "execution_count": 6,
   "metadata": {
    "ExecuteTime": {
     "end_time": "2021-08-15T00:09:00.538131Z",
     "start_time": "2021-08-15T00:09:00.414454Z"
    }
   },
   "outputs": [
    {
     "data": {
      "text/html": [
       "<div>\n",
       "<style scoped>\n",
       "    .dataframe tbody tr th:only-of-type {\n",
       "        vertical-align: middle;\n",
       "    }\n",
       "\n",
       "    .dataframe tbody tr th {\n",
       "        vertical-align: top;\n",
       "    }\n",
       "\n",
       "    .dataframe thead th {\n",
       "        text-align: right;\n",
       "    }\n",
       "</style>\n",
       "<table border=\"1\" class=\"dataframe\">\n",
       "  <thead>\n",
       "    <tr style=\"text-align: right;\">\n",
       "      <th></th>\n",
       "      <th>bids</th>\n",
       "      <th>phi</th>\n",
       "      <th>win_rate</th>\n",
       "      <th>ecpc</th>\n",
       "    </tr>\n",
       "  </thead>\n",
       "  <tbody>\n",
       "    <tr>\n",
       "      <th>0</th>\n",
       "      <td>15.000</td>\n",
       "      <td>0.000</td>\n",
       "      <td>0.160</td>\n",
       "      <td>3249.333</td>\n",
       "    </tr>\n",
       "    <tr>\n",
       "      <th>1</th>\n",
       "      <td>445.239</td>\n",
       "      <td>5.000</td>\n",
       "      <td>0.571</td>\n",
       "      <td>54562.000</td>\n",
       "    </tr>\n",
       "    <tr>\n",
       "      <th>2</th>\n",
       "      <td>11.639</td>\n",
       "      <td>-2.000</td>\n",
       "      <td>0.386</td>\n",
       "      <td>54733.333</td>\n",
       "    </tr>\n",
       "    <tr>\n",
       "      <th>3</th>\n",
       "      <td>5.000</td>\n",
       "      <td>-2.000</td>\n",
       "      <td>0.294</td>\n",
       "      <td>54834.667</td>\n",
       "    </tr>\n",
       "    <tr>\n",
       "      <th>4</th>\n",
       "      <td>5.000</td>\n",
       "      <td>-2.000</td>\n",
       "      <td>0.238</td>\n",
       "      <td>55035.333</td>\n",
       "    </tr>\n",
       "    <tr>\n",
       "      <th>5</th>\n",
       "      <td>5.000</td>\n",
       "      <td>-2.000</td>\n",
       "      <td>0.207</td>\n",
       "      <td>41475.750</td>\n",
       "    </tr>\n",
       "    <tr>\n",
       "      <th>6</th>\n",
       "      <td>5.000</td>\n",
       "      <td>0.594</td>\n",
       "      <td>0.220</td>\n",
       "      <td>47222.500</td>\n",
       "    </tr>\n",
       "    <tr>\n",
       "      <th>7</th>\n",
       "      <td>5.000</td>\n",
       "      <td>-2.000</td>\n",
       "      <td>0.196</td>\n",
       "      <td>47353.500</td>\n",
       "    </tr>\n",
       "    <tr>\n",
       "      <th>8</th>\n",
       "      <td>5.000</td>\n",
       "      <td>-2.000</td>\n",
       "      <td>0.176</td>\n",
       "      <td>47427.750</td>\n",
       "    </tr>\n",
       "    <tr>\n",
       "      <th>9</th>\n",
       "      <td>5.000</td>\n",
       "      <td>-2.000</td>\n",
       "      <td>0.162</td>\n",
       "      <td>38043.200</td>\n",
       "    </tr>\n",
       "    <tr>\n",
       "      <th>10</th>\n",
       "      <td>136.652</td>\n",
       "      <td>1.873</td>\n",
       "      <td>0.216</td>\n",
       "      <td>45576.500</td>\n",
       "    </tr>\n",
       "    <tr>\n",
       "      <th>11</th>\n",
       "      <td>5.000</td>\n",
       "      <td>-2.000</td>\n",
       "      <td>0.201</td>\n",
       "      <td>45681.833</td>\n",
       "    </tr>\n",
       "    <tr>\n",
       "      <th>12</th>\n",
       "      <td>5.000</td>\n",
       "      <td>-2.000</td>\n",
       "      <td>0.188</td>\n",
       "      <td>45811.167</td>\n",
       "    </tr>\n",
       "    <tr>\n",
       "      <th>13</th>\n",
       "      <td>5.000</td>\n",
       "      <td>-2.000</td>\n",
       "      <td>0.176</td>\n",
       "      <td>45848.000</td>\n",
       "    </tr>\n",
       "    <tr>\n",
       "      <th>14</th>\n",
       "      <td>5.000</td>\n",
       "      <td>-2.000</td>\n",
       "      <td>0.166</td>\n",
       "      <td>39449.000</td>\n",
       "    </tr>\n",
       "    <tr>\n",
       "      <th>15</th>\n",
       "      <td>74.801</td>\n",
       "      <td>0.849</td>\n",
       "      <td>0.183</td>\n",
       "      <td>29198.818</td>\n",
       "    </tr>\n",
       "    <tr>\n",
       "      <th>16</th>\n",
       "      <td>2819.850</td>\n",
       "      <td>5.000</td>\n",
       "      <td>0.230</td>\n",
       "      <td>36623.154</td>\n",
       "    </tr>\n",
       "    <tr>\n",
       "      <th>17</th>\n",
       "      <td>17.112</td>\n",
       "      <td>0.894</td>\n",
       "      <td>0.243</td>\n",
       "      <td>34974.600</td>\n",
       "    </tr>\n",
       "    <tr>\n",
       "      <th>18</th>\n",
       "      <td>194.321</td>\n",
       "      <td>2.630</td>\n",
       "      <td>0.278</td>\n",
       "      <td>41389.938</td>\n",
       "    </tr>\n",
       "    <tr>\n",
       "      <th>19</th>\n",
       "      <td>24.782</td>\n",
       "      <td>-1.385</td>\n",
       "      <td>0.267</td>\n",
       "      <td>41494.250</td>\n",
       "    </tr>\n",
       "    <tr>\n",
       "      <th>20</th>\n",
       "      <td>5.000</td>\n",
       "      <td>-0.808</td>\n",
       "      <td>0.259</td>\n",
       "      <td>37123.444</td>\n",
       "    </tr>\n",
       "    <tr>\n",
       "      <th>21</th>\n",
       "      <td>49.784</td>\n",
       "      <td>1.828</td>\n",
       "      <td>0.273</td>\n",
       "      <td>38877.368</td>\n",
       "    </tr>\n",
       "    <tr>\n",
       "      <th>22</th>\n",
       "      <td>25.287</td>\n",
       "      <td>0.340</td>\n",
       "      <td>0.270</td>\n",
       "      <td>39629.105</td>\n",
       "    </tr>\n",
       "    <tr>\n",
       "      <th>23</th>\n",
       "      <td>16.002</td>\n",
       "      <td>0.065</td>\n",
       "      <td>0.265</td>\n",
       "      <td>38095.400</td>\n",
       "    </tr>\n",
       "    <tr>\n",
       "      <th>24</th>\n",
       "      <td>8.676</td>\n",
       "      <td>1.062</td>\n",
       "      <td>0.272</td>\n",
       "      <td>36447.409</td>\n",
       "    </tr>\n",
       "    <tr>\n",
       "      <th>25</th>\n",
       "      <td>120.459</td>\n",
       "      <td>1.901</td>\n",
       "      <td>0.289</td>\n",
       "      <td>40700.409</td>\n",
       "    </tr>\n",
       "    <tr>\n",
       "      <th>26</th>\n",
       "      <td>10.167</td>\n",
       "      <td>-0.816</td>\n",
       "      <td>0.281</td>\n",
       "      <td>40774.545</td>\n",
       "    </tr>\n",
       "    <tr>\n",
       "      <th>27</th>\n",
       "      <td>8.403</td>\n",
       "      <td>-0.436</td>\n",
       "      <td>0.271</td>\n",
       "      <td>40821.545</td>\n",
       "    </tr>\n",
       "    <tr>\n",
       "      <th>28</th>\n",
       "      <td>12.652</td>\n",
       "      <td>-0.458</td>\n",
       "      <td>0.263</td>\n",
       "      <td>40881.045</td>\n",
       "    </tr>\n",
       "    <tr>\n",
       "      <th>29</th>\n",
       "      <td>17.157</td>\n",
       "      <td>-0.490</td>\n",
       "      <td>0.257</td>\n",
       "      <td>40988.091</td>\n",
       "    </tr>\n",
       "    <tr>\n",
       "      <th>30</th>\n",
       "      <td>5.000</td>\n",
       "      <td>-0.549</td>\n",
       "      <td>0.251</td>\n",
       "      <td>41083.955</td>\n",
       "    </tr>\n",
       "    <tr>\n",
       "      <th>31</th>\n",
       "      <td>8.257</td>\n",
       "      <td>-0.597</td>\n",
       "      <td>0.245</td>\n",
       "      <td>41157.682</td>\n",
       "    </tr>\n",
       "    <tr>\n",
       "      <th>32</th>\n",
       "      <td>5.000</td>\n",
       "      <td>-0.633</td>\n",
       "      <td>0.238</td>\n",
       "      <td>41198.864</td>\n",
       "    </tr>\n",
       "    <tr>\n",
       "      <th>33</th>\n",
       "      <td>9.384</td>\n",
       "      <td>-0.651</td>\n",
       "      <td>0.233</td>\n",
       "      <td>41249.500</td>\n",
       "    </tr>\n",
       "    <tr>\n",
       "      <th>34</th>\n",
       "      <td>10.144</td>\n",
       "      <td>-0.679</td>\n",
       "      <td>0.228</td>\n",
       "      <td>41319.955</td>\n",
       "    </tr>\n",
       "    <tr>\n",
       "      <th>35</th>\n",
       "      <td>5.000</td>\n",
       "      <td>-0.717</td>\n",
       "      <td>0.223</td>\n",
       "      <td>41372.773</td>\n",
       "    </tr>\n",
       "    <tr>\n",
       "      <th>36</th>\n",
       "      <td>5.000</td>\n",
       "      <td>-0.743</td>\n",
       "      <td>0.217</td>\n",
       "      <td>41409.136</td>\n",
       "    </tr>\n",
       "    <tr>\n",
       "      <th>37</th>\n",
       "      <td>5.000</td>\n",
       "      <td>-0.761</td>\n",
       "      <td>0.212</td>\n",
       "      <td>41454.045</td>\n",
       "    </tr>\n",
       "    <tr>\n",
       "      <th>38</th>\n",
       "      <td>6.379</td>\n",
       "      <td>-0.786</td>\n",
       "      <td>0.208</td>\n",
       "      <td>39697.304</td>\n",
       "    </tr>\n",
       "    <tr>\n",
       "      <th>39</th>\n",
       "      <td>45.975</td>\n",
       "      <td>0.273</td>\n",
       "      <td>0.205</td>\n",
       "      <td>38385.167</td>\n",
       "    </tr>\n",
       "  </tbody>\n",
       "</table>\n",
       "</div>"
      ],
      "text/plain": [
       "       bids    phi  win_rate      ecpc\n",
       "0    15.000  0.000     0.160  3249.333\n",
       "1   445.239  5.000     0.571 54562.000\n",
       "2    11.639 -2.000     0.386 54733.333\n",
       "3     5.000 -2.000     0.294 54834.667\n",
       "4     5.000 -2.000     0.238 55035.333\n",
       "5     5.000 -2.000     0.207 41475.750\n",
       "6     5.000  0.594     0.220 47222.500\n",
       "7     5.000 -2.000     0.196 47353.500\n",
       "8     5.000 -2.000     0.176 47427.750\n",
       "9     5.000 -2.000     0.162 38043.200\n",
       "10  136.652  1.873     0.216 45576.500\n",
       "11    5.000 -2.000     0.201 45681.833\n",
       "12    5.000 -2.000     0.188 45811.167\n",
       "13    5.000 -2.000     0.176 45848.000\n",
       "14    5.000 -2.000     0.166 39449.000\n",
       "15   74.801  0.849     0.183 29198.818\n",
       "16 2819.850  5.000     0.230 36623.154\n",
       "17   17.112  0.894     0.243 34974.600\n",
       "18  194.321  2.630     0.278 41389.938\n",
       "19   24.782 -1.385     0.267 41494.250\n",
       "20    5.000 -0.808     0.259 37123.444\n",
       "21   49.784  1.828     0.273 38877.368\n",
       "22   25.287  0.340     0.270 39629.105\n",
       "23   16.002  0.065     0.265 38095.400\n",
       "24    8.676  1.062     0.272 36447.409\n",
       "25  120.459  1.901     0.289 40700.409\n",
       "26   10.167 -0.816     0.281 40774.545\n",
       "27    8.403 -0.436     0.271 40821.545\n",
       "28   12.652 -0.458     0.263 40881.045\n",
       "29   17.157 -0.490     0.257 40988.091\n",
       "30    5.000 -0.549     0.251 41083.955\n",
       "31    8.257 -0.597     0.245 41157.682\n",
       "32    5.000 -0.633     0.238 41198.864\n",
       "33    9.384 -0.651     0.233 41249.500\n",
       "34   10.144 -0.679     0.228 41319.955\n",
       "35    5.000 -0.717     0.223 41372.773\n",
       "36    5.000 -0.743     0.217 41409.136\n",
       "37    5.000 -0.761     0.212 41454.045\n",
       "38    6.379 -0.786     0.208 39697.304\n",
       "39   45.975  0.273     0.205 38385.167"
      ]
     },
     "execution_count": 6,
     "metadata": {},
     "output_type": "execute_result"
    }
   ],
   "source": [
    "# hyper parameters\n",
    "target_metric = 'ecpc'\n",
    "reference_point = 40000.0\n",
    "# target_metric = 'win_rate'\n",
    "# reference_point = 0.15\n",
    "\n",
    "control_rounds = 40\n",
    "\n",
    "base_bid = 69\n",
    "min_bid = 5\n",
    "\n",
    "# part of pid controller\n",
    "param_p = 0.0005\n",
    "param_i = 0.000001\n",
    "param_d = 0.0001\n",
    "min_phi = -2\n",
    "max_phi = 5\n",
    "\n",
    "\n",
    "df_records = simulate(\n",
    "    df_train,\n",
    "    target_metric,\n",
    "    reference_point,\n",
    "    control_rounds,\n",
    "    param_p,\n",
    "    param_i,\n",
    "    param_d\n",
    ")\n",
    "df_records.head(50)"
   ]
  },
  {
   "cell_type": "code",
   "execution_count": 7,
   "metadata": {
    "ExecuteTime": {
     "end_time": "2021-08-15T00:09:00.763857Z",
     "start_time": "2021-08-15T00:09:00.539821Z"
    }
   },
   "outputs": [
    {
     "ename": "NameError",
     "evalue": "name 'hi' is not defined",
     "output_type": "error",
     "traceback": [
      "\u001b[0;31m---------------------------------------------------------------------------\u001b[0m",
      "\u001b[0;31mNameError\u001b[0m                                 Traceback (most recent call last)",
      "\u001b[0;32m<ipython-input-7-55ca6286e3e4>\u001b[0m in \u001b[0;36m<module>\u001b[0;34m\u001b[0m\n\u001b[0;32m----> 1\u001b[0;31m \u001b[0mhi\u001b[0m\u001b[0;34m\u001b[0m\u001b[0m\n\u001b[0m",
      "\u001b[0;31mNameError\u001b[0m: name 'hi' is not defined"
     ]
    }
   ],
   "source": [
    "hi"
   ]
  },
  {
   "cell_type": "code",
   "execution_count": null,
   "metadata": {
    "ExecuteTime": {
     "end_time": "2021-08-15T00:09:00.771261Z",
     "start_time": "2021-08-15T00:08:58.332Z"
    }
   },
   "outputs": [],
   "source": [
    "def plot_records(df_records: pd.DataFrame, target_metric: str, reference_point: float):\n",
    "    fig, (ax1, ax2) = plt.subplots(1, 2)\n",
    "\n",
    "    ax1.plot(df_records[target_metric])\n",
    "    ax1.set_xlabel('iterations')\n",
    "    ax1.set_ylabel(target_metric)\n",
    "    ax1.axhline(y=reference_point, color='r', linestyle='-')\n",
    "\n",
    "    ax2.plot(df_records['bids'])\n",
    "    ax2.set_xlabel('iterations')\n",
    "    ax2.set_ylabel('bids')\n",
    "\n",
    "    plt.tight_layout()\n",
    "    plt.show()"
   ]
  },
  {
   "cell_type": "code",
   "execution_count": null,
   "metadata": {
    "ExecuteTime": {
     "end_time": "2021-08-15T00:09:00.772673Z",
     "start_time": "2021-08-15T00:08:58.336Z"
    }
   },
   "outputs": [],
   "source": [
    "# change default style figure and font size\n",
    "plt.rcParams['figure.figsize'] = 8, 6\n",
    "plt.rcParams['font.size'] = 12\n",
    "\n",
    "plt.plot(df_records[target_metric])\n",
    "plt.show()"
   ]
  },
  {
   "cell_type": "code",
   "execution_count": null,
   "metadata": {
    "ExecuteTime": {
     "end_time": "2021-08-15T00:09:00.773988Z",
     "start_time": "2021-08-15T00:08:58.338Z"
    }
   },
   "outputs": [],
   "source": [
    "plt.plot(df_records['bids'])\n",
    "plt.show()"
   ]
  },
  {
   "cell_type": "markdown",
   "metadata": {},
   "source": [
    "## Evaluation"
   ]
  },
  {
   "cell_type": "code",
   "execution_count": null,
   "metadata": {
    "ExecuteTime": {
     "end_time": "2021-08-15T00:09:00.775949Z",
     "start_time": "2021-08-15T00:08:58.424Z"
    }
   },
   "outputs": [],
   "source": [
    "def compute_settling_time(metrics, reference_point, error_band=0.1):\n",
    "    settled = False\n",
    "    settling_time = 0\n",
    "    for i, value in enumerate(metrics):\n",
    "        error = reference_point - value\n",
    "        if abs(error) / reference_point <= error_band and not settled:\n",
    "            settled = True\n",
    "            settling_time = i\n",
    "        elif abs(error) / reference_point > error_band:\n",
    "            settled = False\n",
    "            settling_time = len(metrics)\n",
    "\n",
    "    return settling_time"
   ]
  },
  {
   "cell_type": "code",
   "execution_count": null,
   "metadata": {
    "ExecuteTime": {
     "end_time": "2021-08-15T00:09:00.778341Z",
     "start_time": "2021-08-15T00:08:58.426Z"
    }
   },
   "outputs": [],
   "source": [
    "def compute_rise_time(metrics, reference_point, error_band=0.1):\n",
    "    rise_time = 0\n",
    "    for i, value in enumerate(metrics):\n",
    "        error = reference_point - value\n",
    "        if abs(error) / reference_point <= error_band:\n",
    "            rise_time = i\n",
    "            break\n",
    "\n",
    "    return rise_time"
   ]
  },
  {
   "cell_type": "code",
   "execution_count": null,
   "metadata": {
    "ExecuteTime": {
     "end_time": "2021-08-15T00:09:00.779789Z",
     "start_time": "2021-08-15T00:08:58.428Z"
    }
   },
   "outputs": [],
   "source": [
    "def compute_rmse_ss(metrics, reference_point):\n",
    "    settled = False\n",
    "    settling_time = compute_settling_time(metrics, reference_point)\n",
    "    rmse = 0.0\n",
    "    rounds = len(metrics)\n",
    "    if settling_time >= rounds:\n",
    "        settling_time = rounds - 1\n",
    "    for i in range(settling_time, rounds):\n",
    "        rmse += (metrics[i] - reference_point) * (metrics[i] - reference_point)\n",
    "    rmse /= (rounds - settling_time)\n",
    "    rmse = math.sqrt(rmse) / reference_point\n",
    "    return rmse"
   ]
  },
  {
   "cell_type": "code",
   "execution_count": null,
   "metadata": {
    "ExecuteTime": {
     "end_time": "2021-08-15T00:09:00.781025Z",
     "start_time": "2021-08-15T00:08:58.429Z"
    }
   },
   "outputs": [],
   "source": [
    "compute_settling_time(df_records[target_metric], reference_point)"
   ]
  },
  {
   "cell_type": "code",
   "execution_count": null,
   "metadata": {
    "ExecuteTime": {
     "end_time": "2021-08-15T00:09:00.782279Z",
     "start_time": "2021-08-15T00:08:58.431Z"
    }
   },
   "outputs": [],
   "source": [
    "compute_rise_time(df_records[target_metric], reference_point)"
   ]
  },
  {
   "cell_type": "code",
   "execution_count": null,
   "metadata": {
    "ExecuteTime": {
     "end_time": "2021-08-15T00:09:00.783639Z",
     "start_time": "2021-08-15T00:08:58.433Z"
    }
   },
   "outputs": [],
   "source": [
    "compute_rmse_ss(df_records[target_metric], reference_point)"
   ]
  },
  {
   "cell_type": "markdown",
   "metadata": {},
   "source": [
    "## Ray Tune"
   ]
  },
  {
   "cell_type": "code",
   "execution_count": null,
   "metadata": {
    "ExecuteTime": {
     "end_time": "2021-08-15T00:09:00.785129Z",
     "start_time": "2021-08-15T00:08:58.531Z"
    }
   },
   "outputs": [],
   "source": [
    "from ray import tune\n",
    "\n",
    "\n",
    "def training_function(\n",
    "    config,\n",
    "    checkpoint_dir=None,\n",
    "    df=None,\n",
    "    target_metric='ecpc',\n",
    "    reference_point=40000,\n",
    "    control_rounds=40\n",
    "):\n",
    "    \"\"\"\n",
    "    https://docs.ray.io/en/master/tune/api_docs/trainable.html#tune-with-parameters\n",
    "    \"\"\"\n",
    "    param_p, param_i, param_d = config[\"param_p\"], config[\"param_i\"], config[\"param_d\"]\n",
    "    df_records = simulate(\n",
    "        df,\n",
    "        target_metric,\n",
    "        reference_point,\n",
    "        control_rounds,\n",
    "        param_p,\n",
    "        param_i,\n",
    "        param_d\n",
    "    )\n",
    "    score = compute_settling_time(df_records[target_metric], reference_point)\n",
    "    tune.report(score=score)"
   ]
  },
  {
   "cell_type": "code",
   "execution_count": null,
   "metadata": {
    "ExecuteTime": {
     "end_time": "2021-08-15T00:09:00.786525Z",
     "start_time": "2021-08-15T00:08:58.543Z"
    }
   },
   "outputs": [],
   "source": [
    "target_metric = 'win_rate'\n",
    "reference_point = 0.3\n",
    "run = tune.with_parameters(\n",
    "    training_function,\n",
    "    df=df_train,\n",
    "    target_metric=target_metric,\n",
    "    reference_point=reference_point,\n",
    "    control_rounds=control_rounds\n",
    ")\n",
    "\n",
    "analysis = tune.run(\n",
    "    run,\n",
    "    config={\n",
    "        \"param_p\": tune.grid_search([0.0005, 0.001, 0.01, 0.1, 0.5]),\n",
    "        \"param_i\": tune.choice([0.0005, 0.001, 0.01, 0.1, 0.5]),\n",
    "        \"param_d\": tune.grid_search([0.0005, 0.001, 0.01, 0.1, 0.5])\n",
    "    }\n",
    ")\n",
    "\n",
    "# Get a dataframe for analyzing trial results.\n",
    "df_analysis_results = analysis.results_df\n",
    "df_analysis_results"
   ]
  },
  {
   "cell_type": "code",
   "execution_count": null,
   "metadata": {
    "ExecuteTime": {
     "end_time": "2021-08-15T00:09:00.787782Z",
     "start_time": "2021-08-15T00:08:58.544Z"
    }
   },
   "outputs": [],
   "source": [
    "best_config = analysis.get_best_config(metric=\"score\", mode=\"min\")\n",
    "print(best_config)"
   ]
  },
  {
   "cell_type": "code",
   "execution_count": null,
   "metadata": {
    "ExecuteTime": {
     "end_time": "2021-08-15T00:09:00.789049Z",
     "start_time": "2021-08-15T00:08:58.547Z"
    }
   },
   "outputs": [],
   "source": [
    "df_records = simulate(\n",
    "    df_train,\n",
    "    target_metric,\n",
    "    reference_point,\n",
    "    control_rounds,\n",
    "    **best_config\n",
    ")\n",
    "df_records"
   ]
  },
  {
   "cell_type": "code",
   "execution_count": null,
   "metadata": {
    "ExecuteTime": {
     "end_time": "2021-08-15T00:09:00.790419Z",
     "start_time": "2021-08-15T00:08:58.549Z"
    }
   },
   "outputs": [],
   "source": [
    "def plot_records(df_records: pd.DataFrame):\n",
    "    fig, (ax1, ax2) = plt.subplots(1, 2)\n",
    "\n",
    "    ax1.plot(df_records[target_metric])\n",
    "    ax1.set_xlabel('iterations')\n",
    "    ax1.set_ylabel(target_metric)\n",
    "\n",
    "    ax2.plot(df_records['bids'])\n",
    "    ax2.set_xlabel('iterations')\n",
    "    ax2.set_ylabel('bids')\n",
    "\n",
    "    plt.tight_layout()\n",
    "    plt.show()\n",
    "    \n",
    "    \n",
    "    \n",
    "plot_records(df_records)"
   ]
  },
  {
   "cell_type": "code",
   "execution_count": null,
   "metadata": {
    "ExecuteTime": {
     "end_time": "2021-08-15T00:09:00.791873Z",
     "start_time": "2021-08-15T00:08:58.552Z"
    }
   },
   "outputs": [],
   "source": [
    "input_path = 'exp-data/test.txt'\n",
    "df_test = pd.read_csv(input_path, sep='\\t', header=None, names=['clicks', 'bids', 'ctrs', 'dummy'])\n",
    "print(df_test.shape)\n",
    "df_test.head()"
   ]
  },
  {
   "cell_type": "code",
   "execution_count": null,
   "metadata": {
    "ExecuteTime": {
     "end_time": "2021-08-15T00:09:00.794127Z",
     "start_time": "2021-08-15T00:08:58.555Z"
    }
   },
   "outputs": [],
   "source": [
    "df_records = simulate(\n",
    "    df_test,\n",
    "    target_metric,\n",
    "    reference_point,\n",
    "    control_rounds,\n",
    "    **best_config\n",
    ")\n",
    "df_records"
   ]
  },
  {
   "cell_type": "code",
   "execution_count": null,
   "metadata": {
    "ExecuteTime": {
     "end_time": "2021-08-15T00:09:00.796234Z",
     "start_time": "2021-08-15T00:08:58.556Z"
    }
   },
   "outputs": [],
   "source": [
    "compute_settling_time(df_records[target_metric], reference_point)"
   ]
  },
  {
   "cell_type": "code",
   "execution_count": null,
   "metadata": {
    "ExecuteTime": {
     "end_time": "2021-08-15T00:09:00.798124Z",
     "start_time": "2021-08-15T00:08:58.558Z"
    }
   },
   "outputs": [],
   "source": [
    "plt.plot(df_records[target_metric])\n",
    "plt.show()"
   ]
  },
  {
   "cell_type": "code",
   "execution_count": null,
   "metadata": {
    "ExecuteTime": {
     "end_time": "2021-08-15T00:09:00.799924Z",
     "start_time": "2021-08-15T00:08:58.559Z"
    }
   },
   "outputs": [],
   "source": [
    "plt.plot(df_records['bids'])\n",
    "plt.show()"
   ]
  }
 ],
 "metadata": {
  "kernelspec": {
   "display_name": "Python 3 (ipykernel)",
   "language": "python",
   "name": "python3"
  },
  "language_info": {
   "codemirror_mode": {
    "name": "ipython",
    "version": 3
   },
   "file_extension": ".py",
   "mimetype": "text/x-python",
   "name": "python",
   "nbconvert_exporter": "python",
   "pygments_lexer": "ipython3",
   "version": "3.7.11"
  },
  "toc": {
   "base_numbering": 1,
   "nav_menu": {},
   "number_sections": true,
   "sideBar": true,
   "skip_h1_title": false,
   "title_cell": "Table of Contents",
   "title_sidebar": "Contents",
   "toc_cell": true,
   "toc_position": {
    "height": "calc(100% - 180px)",
    "left": "10px",
    "top": "150px",
    "width": "276.188px"
   },
   "toc_section_display": true,
   "toc_window_display": true
  },
  "varInspector": {
   "cols": {
    "lenName": 16,
    "lenType": 16,
    "lenVar": 40
   },
   "kernels_config": {
    "python": {
     "delete_cmd_postfix": "",
     "delete_cmd_prefix": "del ",
     "library": "var_list.py",
     "varRefreshCmd": "print(var_dic_list())"
    },
    "r": {
     "delete_cmd_postfix": ") ",
     "delete_cmd_prefix": "rm(",
     "library": "var_list.r",
     "varRefreshCmd": "cat(var_dic_list()) "
    }
   },
   "types_to_exclude": [
    "module",
    "function",
    "builtin_function_or_method",
    "instance",
    "_Feature"
   ],
   "window_display": false
  }
 },
 "nbformat": 4,
 "nbformat_minor": 4
}
