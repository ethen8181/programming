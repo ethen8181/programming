{
 "cells": [
  {
   "cell_type": "markdown",
   "metadata": {
    "toc": true
   },
   "source": [
    "<h1>Table of Contents<span class=\"tocSkip\"></span></h1>\n",
    "<div class=\"toc\"><ul class=\"toc-item\"><li><span><a href=\"#Lessons-learned-from-building-practical-deep-learning-systems\" data-toc-modified-id=\"Lessons-learned-from-building-practical-deep-learning-systems-1\"><span class=\"toc-item-num\">1&nbsp;&nbsp;</span>Lessons learned from building practical deep learning systems</a></span><ul class=\"toc-item\"><li><span><a href=\"#More-Data-or-Better-Data\" data-toc-modified-id=\"More-Data-or-Better-Data-1.1\"><span class=\"toc-item-num\">1.1&nbsp;&nbsp;</span>More Data or Better Data</a></span></li><li><span><a href=\"#Simple-Model->>-Complex-Model\" data-toc-modified-id=\"Simple-Model->>-Complex-Model-1.2\"><span class=\"toc-item-num\">1.2&nbsp;&nbsp;</span>Simple Model &gt;&gt; Complex Model</a></span></li><li><span><a href=\"#Sometimes-We-Do-Need-Complex-Model\" data-toc-modified-id=\"Sometimes-We-Do-Need-Complex-Model-1.3\"><span class=\"toc-item-num\">1.3&nbsp;&nbsp;</span>Sometimes We Do Need Complex Model</a></span></li><li><span><a href=\"#We-Should-Care-About-Feature-Engineering\" data-toc-modified-id=\"We-Should-Care-About-Feature-Engineering-1.4\"><span class=\"toc-item-num\">1.4&nbsp;&nbsp;</span>We Should Care About Feature Engineering</a></span></li><li><span><a href=\"#Supervised-v.s.-Unsupervised-Learning\" data-toc-modified-id=\"Supervised-v.s.-Unsupervised-Learning-1.5\"><span class=\"toc-item-num\">1.5&nbsp;&nbsp;</span>Supervised v.s. Unsupervised Learning</a></span></li><li><span><a href=\"#Everything-Is-An-Ensemble\" data-toc-modified-id=\"Everything-Is-An-Ensemble-1.6\"><span class=\"toc-item-num\">1.6&nbsp;&nbsp;</span>Everything Is An Ensemble</a></span></li><li><span><a href=\"#There-Are-Biases-In-Our-Data\" data-toc-modified-id=\"There-Are-Biases-In-Our-Data-1.7\"><span class=\"toc-item-num\">1.7&nbsp;&nbsp;</span>There Are Biases In Our Data</a></span></li><li><span><a href=\"#Think-About-Models-In-The-Wild\" data-toc-modified-id=\"Think-About-Models-In-The-Wild-1.8\"><span class=\"toc-item-num\">1.8&nbsp;&nbsp;</span>Think About Models In The Wild</a></span></li><li><span><a href=\"#The-Right-Evaluation-Approach\" data-toc-modified-id=\"The-Right-Evaluation-Approach-1.9\"><span class=\"toc-item-num\">1.9&nbsp;&nbsp;</span>The Right Evaluation Approach</a></span></li><li><span><a href=\"#Do-Not-Underestimate-The-Value-of-System-And-Framework\" data-toc-modified-id=\"Do-Not-Underestimate-The-Value-of-System-And-Framework-1.10\"><span class=\"toc-item-num\">1.10&nbsp;&nbsp;</span>Do Not Underestimate The Value of System And Framework</a></span></li><li><span><a href=\"#Our-AI-Infrastructure-Will-Have-Two-Masters\" data-toc-modified-id=\"Our-AI-Infrastructure-Will-Have-Two-Masters-1.11\"><span class=\"toc-item-num\">1.11&nbsp;&nbsp;</span>Our AI Infrastructure Will Have Two Masters</a></span></li><li><span><a href=\"#There-Is-ML-Beyond-Deep-Learning\" data-toc-modified-id=\"There-Is-ML-Beyond-Deep-Learning-1.12\"><span class=\"toc-item-num\">1.12&nbsp;&nbsp;</span>There Is ML Beyond Deep Learning</a></span></li></ul></li><li><span><a href=\"#Reference\" data-toc-modified-id=\"Reference-2\"><span class=\"toc-item-num\">2&nbsp;&nbsp;</span>Reference</a></span></li></ul></div>"
   ]
  },
  {
   "cell_type": "markdown",
   "metadata": {},
   "source": [
    "# Lessons learned from building practical deep learning systems"
   ]
  },
  {
   "cell_type": "markdown",
   "metadata": {},
   "source": [
    "## More Data or Better Data"
   ]
  },
  {
   "cell_type": "markdown",
   "metadata": {},
   "source": [
    "The claim is more data usually beats better algorithm. But in a lot of cases, our model's performance will plateau after a certain point. i.e. our performance on the test set does not improve even if we add more data to our training set.\n",
    "\n",
    "In some cases, better data is what actually makes more progress. e.g. In the era of deep learning, we often times leverage pre-trained models. One important step is to make sure we fine tune it on better data (data for the specific domain that we are solving for)."
   ]
  },
  {
   "cell_type": "markdown",
   "metadata": {},
   "source": [
    "## Simple Model >> Complex Model"
   ]
  },
  {
   "cell_type": "markdown",
   "metadata": {},
   "source": [
    "Given two models that perform more or less equally, we should always prefer the less complex one. i.e. Deep Learning might not be preferred, even if it sequeezes a +1% in accuracy, because:\n",
    "\n",
    "- Faster to iterate\n",
    "- Reduces system complexity, hence maintenance.\n",
    "- Explainability."
   ]
  },
  {
   "cell_type": "markdown",
   "metadata": {},
   "source": [
    "## Sometimes We Do Need Complex Model"
   ]
  },
  {
   "cell_type": "markdown",
   "metadata": {},
   "source": [
    "After establishing a baseline with a simpler model, in domains whether every little bits of accuracy matters, we do wish to introduce a more complex model. When doing so, both the complexity of the feature and the model needs to be on par with each other. To elaborate, if all of our features are engineered for a linear model, then switching to a non-linear model without changing how we engineer our features might not improve upon the baseline, giving us the false conclusion that more complex models don't work."
   ]
  },
  {
   "cell_type": "markdown",
   "metadata": {},
   "source": [
    "## We Should Care About Feature Engineering"
   ]
  },
  {
   "cell_type": "markdown",
   "metadata": {},
   "source": [
    "Hand engineered features ensure we can connect the inputs to our model directly with the business. Even with recent papers on deep learning methods, a lot of hand engineered features are still injected into the model."
   ]
  },
  {
   "cell_type": "markdown",
   "metadata": {},
   "source": [
    "## Supervised v.s. Unsupervised Learning"
   ]
  },
  {
   "cell_type": "markdown",
   "metadata": {},
   "source": [
    "Some of the recent advancement in machine learning is how to intelligently combine the two approaches. Although supervised learning is directly tied to the label/target that we care about, in some cases, getting the label is an expensive process, and knowing how to leverage unsupervised learning to reduce the need of more label data or to be more efficient with our data becomes important. In the recent advancements in deep learning, this is often coined as self-supervised or semi-supervised learning."
   ]
  },
  {
   "cell_type": "markdown",
   "metadata": {},
   "source": [
    "## Everything Is An Ensemble"
   ]
  },
  {
   "cell_type": "markdown",
   "metadata": {},
   "source": [
    "Ensembles are the way to turn any model into a feature, if we don't know if the way to go is to use gradient boosted trees, factorization machines, or feed forward deep learning, then treat each mdoel as a feature and feed them into an ensemble. e.g. wide and deep model."
   ]
  },
  {
   "cell_type": "markdown",
   "metadata": {},
   "source": [
    "## There Are Biases In Our Data"
   ]
  },
  {
   "cell_type": "markdown",
   "metadata": {},
   "source": [
    "When training a simple binary classifier for good/bad answer, defining the positive and negative labels can be an non-trivial task. e.g. Are the following examples a positive or a negative?\n",
    "\n",
    "- Funny uninformative answers with many upvotes.\n",
    "- Short uninformative answer by a well-known expert in the field.\n",
    "- Very long informative answer that nobody upvotes.\n",
    "- Informative answer with many grammar/spelling mistakes.\n",
    "\n",
    "There is also the curse of presentation bias.\n",
    "\n",
    "- User can only click on what we decide to show, but what we decide to show is the result of what our previous model predicted is good. Collecting an unbias data to train our next model becomes an important topic.\n",
    "- There is a position bias, user tend to interact with the top results regardless of their \"quality\"."
   ]
  },
  {
   "cell_type": "markdown",
   "metadata": {},
   "source": [
    "## Think About Models In The Wild"
   ]
  },
  {
   "cell_type": "markdown",
   "metadata": {},
   "source": [
    "Desired properties of models in production:\n",
    "\n",
    "- Easily extensible. Should be able to learn from additional data. e.g. can we incorporate prior into the model.\n",
    "- Knows what it does not know. Model uncertainty in prediction, and enable fall-back to manual. e.g. in the medical domain, if the model was given a disease that it was never trained on, what now? Can the model give the feedback of, hey, I don't know what to do with this unseen data point."
   ]
  },
  {
   "cell_type": "markdown",
   "metadata": {},
   "source": [
    "## The Right Evaluation Approach"
   ]
  },
  {
   "cell_type": "markdown",
   "metadata": {},
   "source": [
    "When building a machine learning system, there's always the offline and the online experimentation part. We typically start with an initial hypothesis, build a model and pick a metric to evaluate offline. After validating our hypothesis offline, we then deploy it as an A/B test online to test the hypothesis in real world settings. Some times, the offline metric and online metric might not correlate with each other, and we would need to figure out why. e.g. One of the potential reasons could be the discrepancy in the online serving code and offline training code. If the deployment code and training code are written by different people/teams then there could be a situation where the feature engineering steps are handled differently in the two pipelines."
   ]
  },
  {
   "cell_type": "markdown",
   "metadata": {},
   "source": [
    "## Do Not Underestimate The Value of System And Framework"
   ]
  },
  {
   "cell_type": "markdown",
   "metadata": {},
   "source": [
    "Moving to a more modern framework and erasing a lot of previous tech debt is sometimes needed for us to innovate faster."
   ]
  },
  {
   "cell_type": "markdown",
   "metadata": {},
   "source": [
    "## Our AI Infrastructure Will Have Two Masters"
   ]
  },
  {
   "cell_type": "markdown",
   "metadata": {},
   "source": [
    "When developing ML solutions, we will have two different targets/modes and we will need to combine both mode at some point.\n",
    "\n",
    "- Mode 1: ML experimentation, flexibility, easy to use.\n",
    "- Mode 2: ML production. performance, scalability."
   ]
  },
  {
   "cell_type": "markdown",
   "metadata": {},
   "source": [
    "## There Is ML Beyond Deep Learning"
   ]
  },
  {
   "cell_type": "markdown",
   "metadata": {},
   "source": [
    "Gradient Boosted Tree (XGBoost) for life."
   ]
  },
  {
   "cell_type": "markdown",
   "metadata": {},
   "source": [
    "# Reference"
   ]
  },
  {
   "cell_type": "markdown",
   "metadata": {},
   "source": [
    "- [Youtube: Practical Deep Learning Systems](https://www.youtube.com/watch?v=5ygO8FxNB8c)\n",
    "- [SlideShare: Lessons learned from building practical deep learning systems](https://www.slideshare.net/xamat/lessons-learned-from-building-practical-deep-learning-systems)"
   ]
  }
 ],
 "metadata": {
  "kernelspec": {
   "display_name": "Python 3",
   "language": "python",
   "name": "python3"
  },
  "language_info": {
   "codemirror_mode": {
    "name": "ipython",
    "version": 3
   },
   "file_extension": ".py",
   "mimetype": "text/x-python",
   "name": "python",
   "nbconvert_exporter": "python",
   "pygments_lexer": "ipython3",
   "version": "3.6.4"
  },
  "toc": {
   "nav_menu": {},
   "number_sections": true,
   "sideBar": true,
   "skip_h1_title": false,
   "title_cell": "Table of Contents",
   "title_sidebar": "Contents",
   "toc_cell": true,
   "toc_position": {
    "height": "calc(100% - 180px)",
    "left": "10px",
    "top": "150px",
    "width": "287.594px"
   },
   "toc_section_display": true,
   "toc_window_display": true
  },
  "varInspector": {
   "cols": {
    "lenName": 16,
    "lenType": 16,
    "lenVar": 40
   },
   "kernels_config": {
    "python": {
     "delete_cmd_postfix": "",
     "delete_cmd_prefix": "del ",
     "library": "var_list.py",
     "varRefreshCmd": "print(var_dic_list())"
    },
    "r": {
     "delete_cmd_postfix": ") ",
     "delete_cmd_prefix": "rm(",
     "library": "var_list.r",
     "varRefreshCmd": "cat(var_dic_list()) "
    }
   },
   "types_to_exclude": [
    "module",
    "function",
    "builtin_function_or_method",
    "instance",
    "_Feature"
   ],
   "window_display": false
  }
 },
 "nbformat": 4,
 "nbformat_minor": 4
}
