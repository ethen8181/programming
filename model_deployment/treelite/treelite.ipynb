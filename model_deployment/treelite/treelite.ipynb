{
 "cells": [
  {
   "cell_type": "markdown",
   "metadata": {
    "toc": true
   },
   "source": [
    "<h1>Table of Contents<span class=\"tocSkip\"></span></h1>\n",
    "<div class=\"toc\"><ul class=\"toc-item\"><li><span><a href=\"#Treelite\" data-toc-modified-id=\"Treelite-1\"><span class=\"toc-item-num\">1&nbsp;&nbsp;</span>Treelite</a></span></li></ul></div>"
   ]
  },
  {
   "cell_type": "markdown",
   "metadata": {},
   "source": [
    "# Treelite"
   ]
  },
  {
   "cell_type": "markdown",
   "metadata": {},
   "source": [
    "https://github.com/dmlc/treelite"
   ]
  },
  {
   "cell_type": "markdown",
   "metadata": {},
   "source": [
    "```bash\n",
    "git clone --recursive https://github.com/dmlc/treelite.git\n",
    "cd treelite\n",
    "\n",
    "mkdir build\n",
    "cd build\n",
    "\n",
    "cmake .. -DCMAKE_CXX_COMPILER=g++-7 -DCMAKE_C_COMPILER=gcc-7\n",
    "\n",
    "make\n",
    "\n",
    "cd ../python\n",
    "python setup.py install\n",
    "```"
   ]
  },
  {
   "cell_type": "code",
   "execution_count": 1,
   "metadata": {},
   "outputs": [
    {
     "name": "stdout",
     "output_type": "stream",
     "text": [
      "dimensions of X = (506, 13)\n",
      "dimensions of y = (506,)\n"
     ]
    }
   ],
   "source": [
    "from sklearn.datasets import load_boston\n",
    "\n",
    "X, y = load_boston(return_X_y=True)\n",
    "print('dimensions of X = {}'.format(X.shape))\n",
    "print('dimensions of y = {}'.format(y.shape))"
   ]
  },
  {
   "cell_type": "code",
   "execution_count": 2,
   "metadata": {},
   "outputs": [
    {
     "name": "stdout",
     "output_type": "stream",
     "text": [
      "[0]\ttrain-rmse:3.89049\n",
      "[1]\ttrain-rmse:3.38204\n",
      "[2]\ttrain-rmse:3.10513\n",
      "[3]\ttrain-rmse:2.84322\n",
      "[4]\ttrain-rmse:2.6058\n",
      "[5]\ttrain-rmse:2.45425\n",
      "[6]\ttrain-rmse:2.29526\n",
      "[7]\ttrain-rmse:2.1792\n",
      "[8]\ttrain-rmse:2.09359\n",
      "[9]\ttrain-rmse:1.96872\n",
      "[10]\ttrain-rmse:1.93416\n",
      "[11]\ttrain-rmse:1.83528\n",
      "[12]\ttrain-rmse:1.7875\n",
      "[13]\ttrain-rmse:1.71018\n",
      "[14]\ttrain-rmse:1.64747\n",
      "[15]\ttrain-rmse:1.57359\n",
      "[16]\ttrain-rmse:1.49626\n",
      "[17]\ttrain-rmse:1.43896\n",
      "[18]\ttrain-rmse:1.37123\n",
      "[19]\ttrain-rmse:1.30187\n"
     ]
    },
    {
     "data": {
      "text/plain": [
       "<xgboost.core.Booster at 0x11de15278>"
      ]
     },
     "execution_count": 2,
     "metadata": {},
     "output_type": "execute_result"
    }
   ],
   "source": [
    "import xgboost\n",
    "\n",
    "params = {\n",
    "    'max_depth':3, 'eta':1, 'silent':1,\n",
    "    'objective':'reg:linear',\n",
    "    'eval_metric':'rmse'\n",
    "}\n",
    "\n",
    "dtrain = xgboost.DMatrix(X, label=y)\n",
    "bst = xgboost.train(params, dtrain, 20, [(dtrain, 'train')])\n",
    "bst"
   ]
  },
  {
   "cell_type": "code",
   "execution_count": 3,
   "metadata": {},
   "outputs": [
    {
     "data": {
      "text/plain": [
       "<treelite.frontend.Model at 0x11de151d0>"
      ]
     },
     "execution_count": 3,
     "metadata": {},
     "output_type": "execute_result"
    }
   ],
   "source": [
    "import treelite\n",
    "\n",
    "model = treelite.Model.from_xgboost(bst)\n",
    "model"
   ]
  },
  {
   "cell_type": "code",
   "execution_count": 4,
   "metadata": {},
   "outputs": [
    {
     "name": "stdout",
     "output_type": "stream",
     "text": [
      "[18:23:30] /Users/mingyuliu/treelite/src/compiler/ast_native.cc:43: Using ASTNativeCompiler\n",
      "[18:23:30] /Users/mingyuliu/treelite/src/compiler/ast/split.cc:23: Parallel compilation disabled; all member trees will be dumped to a single source file. This may increase compilation time and memory usage.\n",
      "[18:23:30] /Users/mingyuliu/treelite/src/c_api/c_api.cc:286: Code generation finished. Writing code to files...\n",
      "[18:23:30] /Users/mingyuliu/treelite/src/c_api/c_api.cc:291: Writing file recipe.json...\n",
      "[18:23:30] /Users/mingyuliu/treelite/src/c_api/c_api.cc:291: Writing file main.c...\n",
      "[18:23:30] /Users/mingyuliu/treelite/src/c_api/c_api.cc:291: Writing file header.h...\n",
      "[18:23:30] /Users/mingyuliu/anaconda3/lib/python3.6/site-packages/treelite-0.9-py3.6.egg/treelite/contrib/util.py:97: Compiling sources files in directory /var/folders/b6/fy5cl70s7nq6g7275rkdpd6m3967fj/T/tmpr3a200gz into object files (*.o)...\n",
      "[18:23:30] /Users/mingyuliu/anaconda3/lib/python3.6/site-packages/treelite-0.9-py3.6.egg/treelite/contrib/util.py:126: Generating dynamic shared library /var/folders/b6/fy5cl70s7nq6g7275rkdpd6m3967fj/T/tmpr3a200gz/predictor.dylib...\n",
      "[18:23:30] /Users/mingyuliu/anaconda3/lib/python3.6/site-packages/treelite-0.9-py3.6.egg/treelite/contrib/__init__.py:202: Generated shared library in 0.74 seconds\n"
     ]
    }
   ],
   "source": [
    "toolchain = 'gcc'\n",
    "\n",
    "model.export_lib(toolchain=toolchain, libpath='./mymodel.dylib', verbose=True)"
   ]
  },
  {
   "cell_type": "code",
   "execution_count": 5,
   "metadata": {},
   "outputs": [
    {
     "name": "stdout",
     "output_type": "stream",
     "text": [
      "[18:23:30] /Users/mingyuliu/anaconda3/lib/python3.6/site-packages/treelite-0.9-py3.6.egg/treelite/runtime/treelite_runtime/predictor.py:283: Dynamic shared library /Users/mingyuliu/Desktop/treelite/mymodel.dylib has been successfully loaded into memory\n"
     ]
    },
    {
     "data": {
      "text/plain": [
       "<treelite_runtime.predictor.Predictor at 0x1068000f0>"
      ]
     },
     "execution_count": 5,
     "metadata": {},
     "output_type": "execute_result"
    }
   ],
   "source": [
    "import treelite.runtime\n",
    "\n",
    "predictor = treelite.runtime.Predictor('./mymodel.dylib', verbose=True)\n",
    "predictor"
   ]
  },
  {
   "cell_type": "code",
   "execution_count": 8,
   "metadata": {},
   "outputs": [],
   "source": [
    "batch = treelite.runtime.Batch.from_npy2d(X)"
   ]
  },
  {
   "cell_type": "code",
   "execution_count": 12,
   "metadata": {},
   "outputs": [
    {
     "name": "stdout",
     "output_type": "stream",
     "text": [
      "69.8 µs ± 1.65 µs per loop (mean ± std. dev. of 7 runs, 10000 loops each)\n"
     ]
    }
   ],
   "source": [
    "%%timeit\n",
    "bst.predict(dtrain)"
   ]
  },
  {
   "cell_type": "code",
   "execution_count": 13,
   "metadata": {},
   "outputs": [
    {
     "name": "stdout",
     "output_type": "stream",
     "text": [
      "51.7 µs ± 5.06 µs per loop (mean ± std. dev. of 7 runs, 10000 loops each)\n"
     ]
    }
   ],
   "source": [
    "%%timeit\n",
    "predictor.predict(batch)"
   ]
  }
 ],
 "metadata": {
  "kernelspec": {
   "display_name": "Python 3",
   "language": "python",
   "name": "python3"
  },
  "language_info": {
   "codemirror_mode": {
    "name": "ipython",
    "version": 3
   },
   "file_extension": ".py",
   "mimetype": "text/x-python",
   "name": "python",
   "nbconvert_exporter": "python",
   "pygments_lexer": "ipython3",
   "version": "3.6.4"
  },
  "toc": {
   "nav_menu": {},
   "number_sections": true,
   "sideBar": true,
   "skip_h1_title": false,
   "title_cell": "Table of Contents",
   "title_sidebar": "Contents",
   "toc_cell": true,
   "toc_position": {
    "height": "calc(100% - 180px)",
    "left": "10px",
    "top": "150px",
    "width": "282px"
   },
   "toc_section_display": true,
   "toc_window_display": true
  },
  "varInspector": {
   "cols": {
    "lenName": 16,
    "lenType": 16,
    "lenVar": 40
   },
   "kernels_config": {
    "python": {
     "delete_cmd_postfix": "",
     "delete_cmd_prefix": "del ",
     "library": "var_list.py",
     "varRefreshCmd": "print(var_dic_list())"
    },
    "r": {
     "delete_cmd_postfix": ") ",
     "delete_cmd_prefix": "rm(",
     "library": "var_list.r",
     "varRefreshCmd": "cat(var_dic_list()) "
    }
   },
   "types_to_exclude": [
    "module",
    "function",
    "builtin_function_or_method",
    "instance",
    "_Feature"
   ],
   "window_display": false
  }
 },
 "nbformat": 4,
 "nbformat_minor": 2
}
