{
 "cells": [
  {
   "cell_type": "code",
   "execution_count": 2,
   "id": "ab5316d4",
   "metadata": {},
   "outputs": [
    {
     "name": "stderr",
     "output_type": "stream",
     "text": [
      "Reusing dataset fashion_mnist (/home/mingyuliu/.cache/huggingface/datasets/fashion_mnist/fashion_mnist/1.0.0/8d6c32399aa01613d96e2cbc9b13638f359ef62bb33612b077b4c247f6ef99c1)\n"
     ]
    },
    {
     "data": {
      "application/vnd.jupyter.widget-view+json": {
       "model_id": "01c1ffa7e52e41449744ccb5b160d4bc",
       "version_major": 2,
       "version_minor": 0
      },
      "text/plain": [
       "  0%|          | 0/2 [00:00<?, ?it/s]"
      ]
     },
     "metadata": {},
     "output_type": "display_data"
    },
    {
     "data": {
      "text/plain": [
       "DatasetDict({\n",
       "    train: Dataset({\n",
       "        features: ['image', 'label'],\n",
       "        num_rows: 60000\n",
       "    })\n",
       "    test: Dataset({\n",
       "        features: ['image', 'label'],\n",
       "        num_rows: 10000\n",
       "    })\n",
       "})"
      ]
     },
     "execution_count": 2,
     "metadata": {},
     "output_type": "execute_result"
    }
   ],
   "source": [
    "import torch\n",
    "import numpy as np\n",
    "import torch.nn as nn\n",
    "import torch.nn.functional as F\n",
    "import pytorch_lightning as pl\n",
    "from datasets import load_dataset\n",
    "from torch.utils.data import DataLoader\n",
    "\n",
    "dataset_dict = load_dataset(\"fashion_mnist\")\n",
    "dataset_dict"
   ]
  },
  {
   "cell_type": "code",
   "execution_count": 3,
   "id": "704d81fa",
   "metadata": {},
   "outputs": [
    {
     "name": "stdout",
     "output_type": "stream",
     "text": [
      "<class 'PIL.PngImagePlugin.PngImageFile'>\n"
     ]
    },
    {
     "data": {
      "image/png": "[encoded data removed]",
      "text/plain": [
       "<PIL.Image.Image image mode=L size=50x50 at 0x7F53F0182D10>"
      ]
     },
     "metadata": {},
     "output_type": "display_data"
    }
   ],
   "source": [
    "temp = dataset_dict['train'][0]['image']\n",
    "print(type(temp))\n",
    "temp.resize((50, 50)).show()"
   ]
  },
  {
   "cell_type": "code",
   "execution_count": 4,
   "id": "a78cdee0",
   "metadata": {},
   "outputs": [],
   "source": [
    "from torchvision.transforms import Compose, Normalize, ToTensor\n",
    "\n",
    "normalize = Normalize(mean=(0.286,), std=(0.353,))\n",
    "transformations = Compose([ToTensor(), normalize])"
   ]
  },
  {
   "cell_type": "code",
   "execution_count": 5,
   "id": "6cdc1ac3",
   "metadata": {},
   "outputs": [],
   "source": [
    "def transform_fn(examples):\n",
    "    examples[\"pixel_values\"] = [transformations(img) for img in examples[\"image\"]]\n",
    "    del examples[\"image\"]\n",
    "    return examples"
   ]
  },
  {
   "cell_type": "code",
   "execution_count": 6,
   "id": "2c14b94b",
   "metadata": {},
   "outputs": [
    {
     "data": {
      "text/plain": [
       "DatasetDict({\n",
       "    train: Dataset({\n",
       "        features: ['image', 'label'],\n",
       "        num_rows: 60000\n",
       "    })\n",
       "    test: Dataset({\n",
       "        features: ['image', 'label'],\n",
       "        num_rows: 10000\n",
       "    })\n",
       "})"
      ]
     },
     "execution_count": 6,
     "metadata": {},
     "output_type": "execute_result"
    }
   ],
   "source": [
    "dataset_transformed_dict = dataset_dict.with_transform(transform_fn)\n",
    "dataset_transformed_dict"
   ]
  },
  {
   "cell_type": "code",
   "execution_count": 7,
   "id": "14a55fde",
   "metadata": {},
   "outputs": [
    {
     "data": {
      "text/plain": [
       "{'label': tensor([4, 6]),\n",
       " 'pixel_values': tensor([[[[-0.8102, -0.8102, -0.8102,  ..., -0.8102, -0.8102, -0.8102],\n",
       "           [-0.8102, -0.8102, -0.8102,  ..., -0.8102, -0.8102, -0.8102],\n",
       "           [-0.8102, -0.8102, -0.8102,  ..., -0.8102, -0.8102, -0.8102],\n",
       "           ...,\n",
       "           [-0.8102, -0.8102, -0.8102,  ..., -0.8102, -0.8102, -0.8102],\n",
       "           [-0.8102, -0.8102, -0.8102,  ..., -0.8102, -0.8102, -0.8102],\n",
       "           [-0.8102, -0.8102, -0.8102,  ..., -0.8102, -0.8102, -0.8102]]],\n",
       " \n",
       " \n",
       "         [[[-0.8102, -0.8102, -0.8102,  ..., -0.8102, -0.8102, -0.8102],\n",
       "           [-0.8102, -0.8102, -0.8102,  ..., -0.8102, -0.8102, -0.8102],\n",
       "           [-0.8102, -0.8102, -0.8102,  ..., -0.8102, -0.8102, -0.8102],\n",
       "           ...,\n",
       "           [-0.8102, -0.8102, -0.8102,  ..., -0.8102, -0.8102, -0.8102],\n",
       "           [-0.8102, -0.8102, -0.8102,  ..., -0.8102, -0.8102, -0.8102],\n",
       "           [-0.8102, -0.8102, -0.8102,  ..., -0.8102, -0.8102, -0.8102]]]])}"
      ]
     },
     "execution_count": 7,
     "metadata": {},
     "output_type": "execute_result"
    }
   ],
   "source": [
    "batch_size = 2\n",
    "data_loader = DataLoader(dataset_transformed_dict['train'], batch_size=batch_size, shuffle=True)\n",
    "examples = next(iter(data_loader))\n",
    "examples"
   ]
  },
  {
   "cell_type": "code",
   "execution_count": 8,
   "id": "9615be67",
   "metadata": {},
   "outputs": [],
   "source": [
    "from torchmetrics import Accuracy\n",
    "\n",
    "class ClassificationModule(pl.LightningModule):\n",
    "\n",
    "    def __init__(self, n_classes: int, learning_rate: float):\n",
    "        super().__init__()\n",
    "        \n",
    "        self.n_classes = n_classes\n",
    "        self.learning_rate = learning_rate\n",
    "        self.convnet = nn.Sequential(nn.Conv2d(1, 32, 5), nn.PReLU(),\n",
    "                                     nn.MaxPool2d(2, stride=2),\n",
    "                                     nn.Conv2d(32, 64, 5), nn.PReLU(),\n",
    "                                     nn.MaxPool2d(2, stride=2))\n",
    "\n",
    "        self.fc = nn.Sequential(nn.Linear(64 * 4 * 4, 256),\n",
    "                                nn.PReLU(),\n",
    "                                nn.Linear(256, 256),\n",
    "                                nn.PReLU()\n",
    "                                )\n",
    "        self.fc1 = nn.Linear(256, n_classes)\n",
    "        \n",
    "        self.train_accuracy = Accuracy()\n",
    "        self.val_accuracy = Accuracy()\n",
    "\n",
    "    def forward(self, pixel_values_batch):        \n",
    "        output = self.convnet(pixel_values_batch)\n",
    "        output = output.view(output.size()[0], -1)\n",
    "        output = self.fc(output)\n",
    "        return self.fc1(output)\n",
    "    \n",
    "    def training_step(self, batch):\n",
    "        loss = self.compute_metric(batch, split='train')\n",
    "        self.log('train_loss', loss, prog_bar=True, on_step=True, on_epoch=True)\n",
    "        self.log('train_accuracy', self.train_accuracy, prog_bar=True, on_step=True, on_epoch=True)\n",
    "        return loss\n",
    "\n",
    "    def validation_step(self, batch, batch_idx):\n",
    "        loss = self.compute_metric(batch, split='val')\n",
    "        self.log('val_loss', loss, prog_bar=True, on_step=True, on_epoch=True)\n",
    "        self.log('val_accuracy', self.val_accuracy, prog_bar=True, on_step=True, on_epoch=True)\n",
    "        return loss\n",
    "\n",
    "    def configure_optimizers(self):\n",
    "        return torch.optim.Adam(self.parameters(), lr=self.learning_rate)\n",
    "\n",
    "    def compute_metric(self, batch, split):\n",
    "        pixel_values_batch = batch['pixel_values']\n",
    "        labels_batch = batch['label']\n",
    "        output_batch = self(pixel_values_batch)\n",
    "        loss = F.cross_entropy(output_batch, labels_batch)\n",
    "        pred_batch = output_batch.argmax(dim=1)\n",
    "        if split == 'train':\n",
    "            self.train_accuracy.update(pred_batch, labels_batch)\n",
    "        elif split == 'val':\n",
    "            self.val_accuracy.update(pred_batch, labels_batch)\n",
    "        \n",
    "        return loss\n",
    "\n",
    "    def get_embedding(self, pixel_values_batch):\n",
    "        with torch.no_grad():\n",
    "            output = self.convnet(pixel_values_batch)\n",
    "            output = output.view(output.size()[0], -1)\n",
    "            output = self.fc(output)\n",
    "\n",
    "        return output"
   ]
  },
  {
   "cell_type": "code",
   "execution_count": 9,
   "id": "833de768",
   "metadata": {},
   "outputs": [
    {
     "data": {
      "text/plain": [
       "tensor([[-0.0654, -0.0521, -0.0539, -0.0142, -0.0256, -0.0109, -0.1167,  0.0472,\n",
       "         -0.0188, -0.0584],\n",
       "        [-0.0557, -0.0254, -0.0499, -0.0318, -0.0036,  0.0111, -0.0803,  0.0413,\n",
       "         -0.0222, -0.0335]], grad_fn=<AddmmBackward0>)"
      ]
     },
     "execution_count": 9,
     "metadata": {},
     "output_type": "execute_result"
    }
   ],
   "source": [
    "classification_module = ClassificationModule(\n",
    "    n_classes=10,\n",
    "    learning_rate=0.01\n",
    ")\n",
    "outputs = classification_module(examples['pixel_values'])\n",
    "outputs"
   ]
  },
  {
   "cell_type": "code",
   "execution_count": 10,
   "id": "8110a1a8",
   "metadata": {},
   "outputs": [],
   "source": [
    "batch_size = 256\n",
    "train_data_loader = DataLoader(dataset_transformed_dict['train'], batch_size=batch_size, shuffle=True, num_workers=4)\n",
    "val_data_loader = DataLoader(dataset_transformed_dict['test'], batch_size=batch_size, shuffle=False, num_workers=4)"
   ]
  },
  {
   "cell_type": "code",
   "execution_count": 11,
   "id": "1d28d4fe",
   "metadata": {},
   "outputs": [
    {
     "name": "stderr",
     "output_type": "stream",
     "text": [
      "GPU available: False, used: False\n",
      "TPU available: False, using: 0 TPU cores\n",
      "IPU available: False, using: 0 IPUs\n",
      "HPU available: False, using: 0 HPUs\n"
     ]
    }
   ],
   "source": [
    "from pytorch_lightning.loggers import CSVLogger\n",
    "from pytorch_lightning.callbacks import EarlyStopping\n",
    "\n",
    "callbacks = [EarlyStopping(monitor='val_loss')]\n",
    "csv_logger = CSVLogger(save_dir=os.getcwd())\n",
    "trainer = pl.Trainer(logger=csv_logger, callbacks=callbacks, max_epochs=10)"
   ]
  },
  {
   "cell_type": "code",
   "execution_count": 12,
   "id": "63948511",
   "metadata": {},
   "outputs": [
    {
     "name": "stderr",
     "output_type": "stream",
     "text": [
      "\n",
      "  | Name           | Type       | Params\n",
      "----------------------------------------------\n",
      "0 | convnet        | Sequential | 52.1 K\n",
      "1 | fc             | Sequential | 328 K \n",
      "2 | fc1            | Linear     | 2.6 K \n",
      "3 | train_accuracy | Accuracy   | 0     \n",
      "4 | val_accuracy   | Accuracy   | 0     \n",
      "----------------------------------------------\n",
      "382 K     Trainable params\n",
      "0         Non-trainable params\n",
      "382 K     Total params\n",
      "1.531     Total estimated model params size (MB)\n"
     ]
    },
    {
     "data": {
      "application/vnd.jupyter.widget-view+json": {
       "model_id": "",
       "version_major": 2,
       "version_minor": 0
      },
      "text/plain": [
       "Sanity Checking: 0it [00:00, ?it/s]"
      ]
     },
     "metadata": {},
     "output_type": "display_data"
    },
    {
     "data": {
      "application/vnd.jupyter.widget-view+json": {
       "model_id": "88c9f9c2fdf945ef993f902f7be9b2b4",
       "version_major": 2,
       "version_minor": 0
      },
      "text/plain": [
       "Training: 0it [00:00, ?it/s]"
      ]
     },
     "metadata": {},
     "output_type": "display_data"
    },
    {
     "data": {
      "application/vnd.jupyter.widget-view+json": {
       "model_id": "",
       "version_major": 2,
       "version_minor": 0
      },
      "text/plain": [
       "Validation: 0it [00:00, ?it/s]"
      ]
     },
     "metadata": {},
     "output_type": "display_data"
    },
    {
     "data": {
      "application/vnd.jupyter.widget-view+json": {
       "model_id": "",
       "version_major": 2,
       "version_minor": 0
      },
      "text/plain": [
       "Validation: 0it [00:00, ?it/s]"
      ]
     },
     "metadata": {},
     "output_type": "display_data"
    },
    {
     "data": {
      "application/vnd.jupyter.widget-view+json": {
       "model_id": "",
       "version_major": 2,
       "version_minor": 0
      },
      "text/plain": [
       "Validation: 0it [00:00, ?it/s]"
      ]
     },
     "metadata": {},
     "output_type": "display_data"
    },
    {
     "data": {
      "application/vnd.jupyter.widget-view+json": {
       "model_id": "",
       "version_major": 2,
       "version_minor": 0
      },
      "text/plain": [
       "Validation: 0it [00:00, ?it/s]"
      ]
     },
     "metadata": {},
     "output_type": "display_data"
    },
    {
     "data": {
      "application/vnd.jupyter.widget-view+json": {
       "model_id": "",
       "version_major": 2,
       "version_minor": 0
      },
      "text/plain": [
       "Validation: 0it [00:00, ?it/s]"
      ]
     },
     "metadata": {},
     "output_type": "display_data"
    },
    {
     "data": {
      "application/vnd.jupyter.widget-view+json": {
       "model_id": "",
       "version_major": 2,
       "version_minor": 0
      },
      "text/plain": [
       "Validation: 0it [00:00, ?it/s]"
      ]
     },
     "metadata": {},
     "output_type": "display_data"
    },
    {
     "data": {
      "application/vnd.jupyter.widget-view+json": {
       "model_id": "",
       "version_major": 2,
       "version_minor": 0
      },
      "text/plain": [
       "Validation: 0it [00:00, ?it/s]"
      ]
     },
     "metadata": {},
     "output_type": "display_data"
    },
    {
     "data": {
      "application/vnd.jupyter.widget-view+json": {
       "model_id": "",
       "version_major": 2,
       "version_minor": 0
      },
      "text/plain": [
       "Validation: 0it [00:00, ?it/s]"
      ]
     },
     "metadata": {},
     "output_type": "display_data"
    }
   ],
   "source": [
    "trainer.fit(classification_module, train_dataloaders=train_data_loader, val_dataloaders=val_data_loader)"
   ]
  },
  {
   "cell_type": "code",
   "execution_count": 13,
   "id": "e54d3129",
   "metadata": {},
   "outputs": [
    {
     "data": {
      "text/plain": [
       "torch.Size([2, 256])"
      ]
     },
     "execution_count": 13,
     "metadata": {},
     "output_type": "execute_result"
    }
   ],
   "source": [
    "classification_module.get_embedding(examples['pixel_values']).shape"
   ]
  },
  {
   "cell_type": "markdown",
   "id": "90b66285",
   "metadata": {},
   "source": [
    "## Triplet Loss"
   ]
  },
  {
   "cell_type": "code",
   "execution_count": 14,
   "id": "4b8d384e",
   "metadata": {},
   "outputs": [
    {
     "data": {
      "text/plain": [
       "{'label': tensor([9, 0, 0, 3, 0]),\n",
       " 'pixel_values': tensor([[[[-0.8102, -0.8102, -0.8102,  ..., -0.8102, -0.8102, -0.8102],\n",
       "           [-0.8102, -0.8102, -0.8102,  ..., -0.8102, -0.8102, -0.8102],\n",
       "           [-0.8102, -0.8102, -0.8102,  ..., -0.8102, -0.8102, -0.8102],\n",
       "           ...,\n",
       "           [-0.8102, -0.8102, -0.8102,  ..., -0.8102, -0.8102, -0.8102],\n",
       "           [-0.8102, -0.8102, -0.8102,  ..., -0.8102, -0.8102, -0.8102],\n",
       "           [-0.8102, -0.8102, -0.8102,  ..., -0.8102, -0.8102, -0.8102]]],\n",
       " \n",
       " \n",
       "         [[[-0.8102, -0.8102, -0.8102,  ..., -0.8102, -0.8102, -0.8102],\n",
       "           [-0.8102, -0.8102, -0.8102,  ..., -0.8102, -0.8102, -0.8102],\n",
       "           [-0.8102, -0.8102, -0.8102,  ..., -0.8102, -0.8102, -0.8102],\n",
       "           ...,\n",
       "           [-0.8102, -0.8102, -0.8102,  ..., -0.8102, -0.8102, -0.8102],\n",
       "           [-0.8102, -0.8102, -0.8102,  ..., -0.8102, -0.8102, -0.8102],\n",
       "           [-0.8102, -0.8102, -0.8102,  ..., -0.8102, -0.8102, -0.8102]]],\n",
       " \n",
       " \n",
       "         [[[-0.8102, -0.8102, -0.8102,  ..., -0.8102, -0.8102, -0.8102],\n",
       "           [-0.8102, -0.8102, -0.8102,  ..., -0.8102, -0.8102, -0.8102],\n",
       "           [-0.8102, -0.8102, -0.8102,  ..., -0.8102, -0.8102, -0.8102],\n",
       "           ...,\n",
       "           [-0.8102, -0.8102, -0.8102,  ..., -0.8102, -0.8102, -0.8102],\n",
       "           [-0.8102, -0.8102, -0.8102,  ..., -0.8102, -0.8102, -0.8102],\n",
       "           [-0.8102, -0.8102, -0.8102,  ..., -0.8102, -0.8102, -0.8102]]],\n",
       " \n",
       " \n",
       "         [[[-0.8102, -0.8102, -0.8102,  ..., -0.8102, -0.8102, -0.8102],\n",
       "           [-0.8102, -0.8102, -0.8102,  ..., -0.8102, -0.8102, -0.8102],\n",
       "           [-0.8102, -0.8102, -0.8102,  ..., -0.8102, -0.8102, -0.8102],\n",
       "           ...,\n",
       "           [-0.8102, -0.8102, -0.8102,  ..., -0.8102, -0.8102, -0.8102],\n",
       "           [-0.8102, -0.8102, -0.8102,  ..., -0.8102, -0.8102, -0.8102],\n",
       "           [-0.8102, -0.8102, -0.8102,  ..., -0.8102, -0.8102, -0.8102]]],\n",
       " \n",
       " \n",
       "         [[[-0.8102, -0.8102, -0.8102,  ..., -0.8102, -0.8102, -0.8102],\n",
       "           [-0.8102, -0.8102, -0.8102,  ..., -0.8102, -0.8102, -0.8102],\n",
       "           [-0.8102, -0.8102, -0.8102,  ..., -0.8102, -0.8102, -0.8102],\n",
       "           ...,\n",
       "           [-0.8102, -0.8102, -0.8102,  ..., -0.8102, -0.8102, -0.8102],\n",
       "           [-0.8102, -0.8102, -0.8102,  ..., -0.8102, -0.8102, -0.8102],\n",
       "           [-0.8102, -0.8102, -0.8102,  ..., -0.8102, -0.8102, -0.8102]]]])}"
      ]
     },
     "execution_count": 14,
     "metadata": {},
     "output_type": "execute_result"
    }
   ],
   "source": [
    "batch_size = 5\n",
    "data_loader = DataLoader(dataset_transformed_dict['train'], batch_size=batch_size, shuffle=False)\n",
    "examples = next(iter(data_loader))\n",
    "examples"
   ]
  },
  {
   "cell_type": "code",
   "execution_count": 15,
   "id": "5495b50f",
   "metadata": {},
   "outputs": [],
   "source": [
    "# def hardest_negative(loss_values):\n",
    "#     hard_negative = np.argmax(loss_values)\n",
    "#     return hard_negative if loss_values[hard_negative] > 0 else None\n",
    "\n",
    "\n",
    "# def random_hard_negative(loss_values):\n",
    "#     hard_negatives = np.where(loss_values > 0)[0]\n",
    "#     return np.random.choice(hard_negatives) if len(hard_negatives) > 0 else None\n",
    "\n",
    "\n",
    "# def semihard_negative(loss_values, margin):\n",
    "#     semihard_negatives = np.where(np.logical_and(loss_values < margin, loss_values > 0))[0]\n",
    "#     return np.random.choice(semihard_negatives) if len(semihard_negatives) > 0 else None"
   ]
  },
  {
   "cell_type": "code",
   "execution_count": 16,
   "id": "7c819240",
   "metadata": {},
   "outputs": [],
   "source": [
    "import random\n",
    "\n",
    "\n",
    "def get_triplets(output_batch, labels_batch, margin: float = 1.0):\n",
    "    triplets = []\n",
    "    with torch.no_grad():\n",
    "        distance_matrix = torch.cdist(output_batch, output_batch)\n",
    "\n",
    "        for label in set(labels_batch.cpu().numpy()):\n",
    "            label_mask = labels_batch == label\n",
    "            positive_indices = label_mask.nonzero(as_tuple=True)[0]\n",
    "            if len(positive_indices) < 2:\n",
    "                continue\n",
    "\n",
    "            negative_indices = torch.logical_not(label_mask).nonzero(as_tuple=True)[0]\n",
    "            # sample positive pairs, combination of pairs that have the same label\n",
    "            # in a particular input batch\n",
    "            # [[1, 2],\n",
    "            #  [1, 4],\n",
    "            #  [2, 4]]\n",
    "            anchor_positives = torch.combinations(positive_indices)\n",
    "            ap_distances = distance_matrix[anchor_positives[:, 0], anchor_positives[:, 1]]\n",
    "            # for every one the the anchor record, lookup the distance for all the negative indices\n",
    "            an_distances = distance_matrix[\n",
    "                anchor_positives[:, 0].unsqueeze(dim=1),\n",
    "                negative_indices.unsqueeze(dim=0)\n",
    "            ]\n",
    "            # loss values looks something like the following\n",
    "            # tensor([[1.4446, 1.2542],\n",
    "            #         [0.8806, 0.6901],\n",
    "            #         [0.9336, 1.5853]])\n",
    "            # where the number of rows is the number of anchored samples,\n",
    "            # and number of columns is the number of anchored negative samples\n",
    "            # each cell represents the triplet loss between each pair\n",
    "            loss_values = ap_distances.unsqueeze(dim=1) - an_distances + margin\n",
    "            for i, loss_value in enumerate(loss_values):\n",
    "                hard_negatives = (loss_value > 0).nonzero(as_tuple=True)[0]\n",
    "                if len(hard_negatives) > 0:\n",
    "                    anchor_positive = anchor_positives[i]\n",
    "                    hard_negative = hard_negatives[random.randrange(len(hard_negatives))]\n",
    "                    triplets.append([anchor_positive[0], anchor_positive[1], hard_negative])\n",
    "\n",
    "    return torch.LongTensor(triplets)"
   ]
  },
  {
   "cell_type": "code",
   "execution_count": 40,
   "id": "6a741a61",
   "metadata": {},
   "outputs": [],
   "source": [
    "class TripletModule(pl.LightningModule):\n",
    "\n",
    "    def __init__(self, learning_rate: float, margin: float = 1.0):\n",
    "        super().__init__()\n",
    "\n",
    "        self.learning_rate = learning_rate\n",
    "        self.convnet = nn.Sequential(nn.Conv2d(1, 32, 5), nn.PReLU(),\n",
    "                                     nn.MaxPool2d(2, stride=2),\n",
    "                                     nn.Conv2d(32, 64, 5), nn.PReLU(),\n",
    "                                     nn.MaxPool2d(2, stride=2))\n",
    "\n",
    "        self.fc = nn.Sequential(nn.Linear(64 * 4 * 4, 256),\n",
    "                                nn.PReLU(),\n",
    "                                nn.Linear(256, 256),\n",
    "                                nn.PReLU()\n",
    "                                )\n",
    "        \n",
    "        self.triplet_loss = nn.TripletMarginLoss(margin)\n",
    "        self.train_accuracy = Accuracy()\n",
    "        self.val_accuracy = Accuracy()\n",
    "\n",
    "    def forward(self, pixel_values_batch):        \n",
    "        output = self.convnet(pixel_values_batch)\n",
    "        output = output.view(output.size()[0], -1)\n",
    "        output = self.fc(output)\n",
    "        return output\n",
    "    \n",
    "    def training_step(self, batch):\n",
    "        loss = self.compute_metric(batch, split='train')\n",
    "        self.log('train_loss', loss, prog_bar=True, on_step=True, on_epoch=True)\n",
    "        self.log('train_accuracy', self.train_accuracy, prog_bar=True, on_step=True, on_epoch=True)\n",
    "        return loss\n",
    "\n",
    "    def validation_step(self, batch, batch_idx):\n",
    "        loss = self.compute_metric(batch, split='val')\n",
    "        self.log('val_loss', loss, prog_bar=True, on_step=True, on_epoch=True)\n",
    "        self.log('val_accuracy', self.val_accuracy, prog_bar=True, on_step=True, on_epoch=True)\n",
    "        return loss\n",
    "\n",
    "    def configure_optimizers(self):\n",
    "        return torch.optim.Adam(self.parameters(), lr=self.learning_rate)\n",
    "\n",
    "    def compute_metric(self, batch, split):\n",
    "        pixel_values_batch = batch['pixel_values']\n",
    "        labels_batch = batch['label']\n",
    "        output_batch = self(pixel_values_batch)\n",
    "        triplets = get_triplets(output_batch, labels_batch)\n",
    "        loss = self.triplet_loss(\n",
    "            output_batch[triplets[:, 0]],\n",
    "            output_batch[triplets[:, 1]],\n",
    "            output_batch[triplets[:, 2]]\n",
    "        )\n",
    "\n",
    "        pred_batch = output_batch.argmax(dim=1)\n",
    "        if split == 'train':\n",
    "            self.train_accuracy.update(pred_batch, labels_batch)\n",
    "        elif split == 'val':\n",
    "            self.val_accuracy.update(pred_batch, labels_batch)\n",
    "        \n",
    "        return loss\n",
    "    \n",
    "    def get_embedding(self, pixel_values_batch):\n",
    "        with torch.no_grad():\n",
    "            return self(pixel_values_batch)"
   ]
  },
  {
   "cell_type": "code",
   "execution_count": 42,
   "id": "c2d318de",
   "metadata": {},
   "outputs": [
    {
     "data": {
      "text/plain": [
       "tensor([[ 0.0975,  0.1213, -0.0118,  ...,  0.1768, -0.0196,  0.0240],\n",
       "        [ 0.0373,  0.1125, -0.0132,  ...,  0.1379, -0.0075, -0.0066],\n",
       "        [-0.0004,  0.0445, -0.0068,  ...,  0.0468,  0.0284, -0.0086],\n",
       "        [-0.0042,  0.0692, -0.0049,  ...,  0.0335,  0.0506, -0.0063],\n",
       "        [ 0.0488,  0.0666, -0.0185,  ...,  0.1263,  0.0495, -0.0051]],\n",
       "       grad_fn=<PreluBackward0>)"
      ]
     },
     "execution_count": 42,
     "metadata": {},
     "output_type": "execute_result"
    }
   ],
   "source": [
    "triplet_module = TripletModule(\n",
    "    learning_rate=0.01\n",
    ")\n",
    "output_batch = triplet_module(examples['pixel_values'])\n",
    "output_batch"
   ]
  },
  {
   "cell_type": "code",
   "execution_count": 43,
   "id": "a5d5f551",
   "metadata": {},
   "outputs": [
    {
     "data": {
      "text/plain": [
       "tensor([[1, 2, 1],\n",
       "        [1, 4, 0],\n",
       "        [2, 4, 1]])"
      ]
     },
     "execution_count": 43,
     "metadata": {},
     "output_type": "execute_result"
    }
   ],
   "source": [
    "labels_batch = examples['label']\n",
    "loss_values = get_triplets(output_batch, labels_batch)\n",
    "loss_values"
   ]
  },
  {
   "cell_type": "code",
   "execution_count": 44,
   "id": "d333bed9",
   "metadata": {},
   "outputs": [],
   "source": [
    "batch_size = 256\n",
    "train_data_loader = DataLoader(dataset_transformed_dict['train'],\n",
    "                               batch_size=batch_size, shuffle=True, num_workers=4, drop_last=True)\n",
    "val_data_loader = DataLoader(dataset_transformed_dict['test'],\n",
    "                             batch_size=batch_size, shuffle=False, num_workers=4, drop_last=True)"
   ]
  },
  {
   "cell_type": "code",
   "execution_count": 45,
   "id": "af7d505b",
   "metadata": {},
   "outputs": [
    {
     "name": "stderr",
     "output_type": "stream",
     "text": [
      "GPU available: False, used: False\n",
      "TPU available: False, using: 0 TPU cores\n",
      "IPU available: False, using: 0 IPUs\n",
      "HPU available: False, using: 0 HPUs\n"
     ]
    }
   ],
   "source": [
    "from pytorch_lightning.loggers import CSVLogger\n",
    "from pytorch_lightning.callbacks import EarlyStopping\n",
    "\n",
    "callbacks = [EarlyStopping(monitor='val_loss')]\n",
    "csv_logger = CSVLogger(save_dir=os.getcwd())\n",
    "trainer = pl.Trainer(logger=csv_logger, callbacks=callbacks, max_epochs=8)"
   ]
  },
  {
   "cell_type": "code",
   "execution_count": 46,
   "id": "968c4d8f",
   "metadata": {},
   "outputs": [
    {
     "name": "stderr",
     "output_type": "stream",
     "text": [
      "\n",
      "  | Name           | Type              | Params\n",
      "-----------------------------------------------------\n",
      "0 | convnet        | Sequential        | 52.1 K\n",
      "1 | fc             | Sequential        | 328 K \n",
      "2 | triplet_loss   | TripletMarginLoss | 0     \n",
      "3 | train_accuracy | Accuracy          | 0     \n",
      "4 | val_accuracy   | Accuracy          | 0     \n",
      "-----------------------------------------------------\n",
      "380 K     Trainable params\n",
      "0         Non-trainable params\n",
      "380 K     Total params\n",
      "1.521     Total estimated model params size (MB)\n"
     ]
    },
    {
     "data": {
      "application/vnd.jupyter.widget-view+json": {
       "model_id": "",
       "version_major": 2,
       "version_minor": 0
      },
      "text/plain": [
       "Sanity Checking: 0it [00:00, ?it/s]"
      ]
     },
     "metadata": {},
     "output_type": "display_data"
    },
    {
     "data": {
      "application/vnd.jupyter.widget-view+json": {
       "model_id": "ba9ccceda75244e5a0db088505603fa7",
       "version_major": 2,
       "version_minor": 0
      },
      "text/plain": [
       "Training: 0it [00:00, ?it/s]"
      ]
     },
     "metadata": {},
     "output_type": "display_data"
    },
    {
     "data": {
      "application/vnd.jupyter.widget-view+json": {
       "model_id": "",
       "version_major": 2,
       "version_minor": 0
      },
      "text/plain": [
       "Validation: 0it [00:00, ?it/s]"
      ]
     },
     "metadata": {},
     "output_type": "display_data"
    },
    {
     "data": {
      "application/vnd.jupyter.widget-view+json": {
       "model_id": "",
       "version_major": 2,
       "version_minor": 0
      },
      "text/plain": [
       "Validation: 0it [00:00, ?it/s]"
      ]
     },
     "metadata": {},
     "output_type": "display_data"
    },
    {
     "data": {
      "application/vnd.jupyter.widget-view+json": {
       "model_id": "",
       "version_major": 2,
       "version_minor": 0
      },
      "text/plain": [
       "Validation: 0it [00:00, ?it/s]"
      ]
     },
     "metadata": {},
     "output_type": "display_data"
    },
    {
     "data": {
      "application/vnd.jupyter.widget-view+json": {
       "model_id": "",
       "version_major": 2,
       "version_minor": 0
      },
      "text/plain": [
       "Validation: 0it [00:00, ?it/s]"
      ]
     },
     "metadata": {},
     "output_type": "display_data"
    },
    {
     "data": {
      "application/vnd.jupyter.widget-view+json": {
       "model_id": "",
       "version_major": 2,
       "version_minor": 0
      },
      "text/plain": [
       "Validation: 0it [00:00, ?it/s]"
      ]
     },
     "metadata": {},
     "output_type": "display_data"
    },
    {
     "data": {
      "application/vnd.jupyter.widget-view+json": {
       "model_id": "",
       "version_major": 2,
       "version_minor": 0
      },
      "text/plain": [
       "Validation: 0it [00:00, ?it/s]"
      ]
     },
     "metadata": {},
     "output_type": "display_data"
    },
    {
     "data": {
      "application/vnd.jupyter.widget-view+json": {
       "model_id": "",
       "version_major": 2,
       "version_minor": 0
      },
      "text/plain": [
       "Validation: 0it [00:00, ?it/s]"
      ]
     },
     "metadata": {},
     "output_type": "display_data"
    }
   ],
   "source": [
    "trainer.fit(triplet_module, train_dataloaders=train_data_loader, val_dataloaders=val_data_loader)"
   ]
  },
  {
   "cell_type": "code",
   "execution_count": 60,
   "id": "81e5b9d7",
   "metadata": {},
   "outputs": [],
   "source": [
    "%load_ext tensorboard"
   ]
  },
  {
   "cell_type": "markdown",
   "id": "d69b21fe",
   "metadata": {},
   "source": [
    "## Validation"
   ]
  },
  {
   "cell_type": "code",
   "execution_count": 47,
   "id": "c84ec55b",
   "metadata": {},
   "outputs": [
    {
     "data": {
      "text/plain": [
       "array([[-0.02374348, -0.0330015 , -0.01327282, ..., -0.02302296,\n",
       "        -0.02591417, -0.07701071],\n",
       "       [-0.02785763, -0.03012087, -0.02293666, ..., -0.01449264,\n",
       "        -0.02499893, -0.01534667],\n",
       "       [-0.01808958, -0.02305187, -0.02700065, ..., -0.02027208,\n",
       "        -0.01377209, -0.0205295 ],\n",
       "       [-0.02022461, -0.02194866, -0.02869061, ..., -0.01896765,\n",
       "        -0.01464459, -0.02315643],\n",
       "       [-0.02493794, -0.02058965, -0.03398969, ..., -0.01907356,\n",
       "        -0.01696688, -0.03401559]], dtype=float32)"
      ]
     },
     "execution_count": 47,
     "metadata": {},
     "output_type": "execute_result"
    }
   ],
   "source": [
    "triplet_embedding = triplet_module.get_embedding(examples['pixel_values']).cpu().numpy()\n",
    "triplet_embedding"
   ]
  },
  {
   "cell_type": "code",
   "execution_count": 64,
   "id": "081f92e7",
   "metadata": {},
   "outputs": [
    {
     "data": {
      "text/plain": [
       "tensor([63, 17, 17, 17, 17])"
      ]
     },
     "execution_count": 64,
     "metadata": {},
     "output_type": "execute_result"
    }
   ],
   "source": [
    "triplet_module(examples['pixel_values']).shape"
   ]
  },
  {
   "cell_type": "code",
   "execution_count": 62,
   "id": "36d4415c",
   "metadata": {},
   "outputs": [
    {
     "data": {
      "text/plain": [
       "(5, 256)"
      ]
     },
     "execution_count": 62,
     "metadata": {},
     "output_type": "execute_result"
    }
   ],
   "source": [
    "classification_embedding.shape"
   ]
  },
  {
   "cell_type": "code",
   "execution_count": 48,
   "id": "0640b4ca",
   "metadata": {},
   "outputs": [
    {
     "data": {
      "text/plain": [
       "array([[-0.18590035,  0.69543445, -0.12769291, ..., -0.38221785,\n",
       "        -0.07774707, -0.14000985],\n",
       "       [-1.1597943 , -0.84390825, -0.85677   , ..., -0.39835724,\n",
       "        -0.8526008 , -0.5245402 ],\n",
       "       [-0.56920743, -0.28905666, -0.3798801 , ..., -0.24877268,\n",
       "        -0.2996576 , -0.20176551],\n",
       "       [-0.8669773 , -0.18268648, -0.19739115, ..., -0.16345558,\n",
       "        -0.25248703, -0.26821074],\n",
       "       [-0.5066965 , -0.236029  , -0.5352296 , ..., -0.18034178,\n",
       "        -0.18281743, -0.14495897]], dtype=float32)"
      ]
     },
     "execution_count": 48,
     "metadata": {},
     "output_type": "execute_result"
    }
   ],
   "source": [
    "classification_embedding = classification_module.get_embedding(examples['pixel_values']).cpu().numpy()\n",
    "classification_embedding"
   ]
  },
  {
   "cell_type": "code",
   "execution_count": 49,
   "id": "751b52e5",
   "metadata": {},
   "outputs": [],
   "source": [
    "import faiss\n",
    "\n",
    "\n",
    "def create_index(module, data_loader):\n",
    "    # https://github.com/facebookresearch/faiss/wiki/MetricType-and-distances#how-can-i-index-vectors-for-cosine-similarity\n",
    "    faiss_index = faiss.IndexHNSWFlat(256, 32, faiss.METRIC_INNER_PRODUCT)\n",
    "\n",
    "    for examples in data_loader:\n",
    "        embedding = module.get_embedding(examples['pixel_values']).cpu().numpy()\n",
    "        faiss.normalize_L2(embedding)\n",
    "        faiss_index.add(embedding)\n",
    "    \n",
    "    return faiss_index\n"
   ]
  },
  {
   "cell_type": "code",
   "execution_count": 50,
   "id": "c7f897bf",
   "metadata": {},
   "outputs": [
    {
     "name": "stdout",
     "output_type": "stream",
     "text": [
      "9984\n"
     ]
    }
   ],
   "source": [
    "faiss_index = create_index(classification_module, val_data_loader)\n",
    "print(faiss_index.ntotal)"
   ]
  },
  {
   "cell_type": "code",
   "execution_count": 52,
   "id": "9c56db49",
   "metadata": {},
   "outputs": [],
   "source": [
    "input_example = dataset_transformed_dict['test'][0]['pixel_values'].unsqueeze(dim=0)\n",
    "input_embedding = classification_module.get_embedding(input_example).cpu().numpy()\n",
    "faiss.normalize_L2(input_embedding)"
   ]
  },
  {
   "cell_type": "code",
   "execution_count": 53,
   "id": "741c66df",
   "metadata": {},
   "outputs": [
    {
     "data": {
      "text/plain": [
       "array([[   0, 5151, 9363, 4320, 7402]])"
      ]
     },
     "execution_count": 53,
     "metadata": {},
     "output_type": "execute_result"
    }
   ],
   "source": [
    "distances, indices = faiss_index.search(input_embedding, 5)\n",
    "indices"
   ]
  },
  {
   "cell_type": "code",
   "execution_count": 54,
   "id": "f0707ae2",
   "metadata": {},
   "outputs": [
    {
     "data": {
      "image/png": "[encoded data removed]",
      "text/plain": [
       "<PIL.Image.Image image mode=L size=50x50 at 0x7F537464D310>"
      ]
     },
     "metadata": {},
     "output_type": "display_data"
    },
    {
     "data": {
      "image/png": "[encoded data removed]",
      "text/plain": [
       "<PIL.Image.Image image mode=L size=50x50 at 0x7F52B8EFD210>"
      ]
     },
     "metadata": {},
     "output_type": "display_data"
    },
    {
     "data": {
      "image/png": "[encoded data removed]",
      "text/plain": [
       "<PIL.Image.Image image mode=L size=50x50 at 0x7F52B8EFD210>"
      ]
     },
     "metadata": {},
     "output_type": "display_data"
    },
    {
     "data": {
      "image/png": "[encoded data removed]",
      "text/plain": [
       "<PIL.Image.Image image mode=L size=50x50 at 0x7F52B8EFD210>"
      ]
     },
     "metadata": {},
     "output_type": "display_data"
    },
    {
     "data": {
      "image/png": "[encoded data removed]",
      "text/plain": [
       "<PIL.Image.Image image mode=L size=50x50 at 0x7F536A3AA3D0>"
      ]
     },
     "metadata": {},
     "output_type": "display_data"
    }
   ],
   "source": [
    "for index in indices[0]:\n",
    "    index = int(index)\n",
    "    dataset_dict['test'][index]['image'].resize((50, 50)).show()"
   ]
  },
  {
   "cell_type": "code",
   "execution_count": 55,
   "id": "ccb83425",
   "metadata": {},
   "outputs": [
    {
     "name": "stdout",
     "output_type": "stream",
     "text": [
      "9984\n"
     ]
    }
   ],
   "source": [
    "faiss_index = create_index(triplet_module, val_data_loader)\n",
    "print(faiss_index.ntotal)"
   ]
  },
  {
   "cell_type": "code",
   "execution_count": 56,
   "id": "c2e506c3",
   "metadata": {},
   "outputs": [],
   "source": [
    "input_example = dataset_transformed_dict['test'][0]['pixel_values'].unsqueeze(dim=0)\n",
    "input_embedding = triplet_module.get_embedding(input_example).cpu().numpy()\n",
    "faiss.normalize_L2(input_embedding)"
   ]
  },
  {
   "cell_type": "code",
   "execution_count": 57,
   "id": "fcc78829",
   "metadata": {},
   "outputs": [
    {
     "data": {
      "text/plain": [
       "array([[   0, 5788, 8871, 6052, 9034]])"
      ]
     },
     "execution_count": 57,
     "metadata": {},
     "output_type": "execute_result"
    }
   ],
   "source": [
    "distances, indices = faiss_index.search(input_embedding, 5)\n",
    "indices"
   ]
  },
  {
   "cell_type": "code",
   "execution_count": 58,
   "id": "f226bdc7",
   "metadata": {},
   "outputs": [
    {
     "data": {
      "image/png": "[encoded data removed]",
      "text/plain": [
       "<PIL.Image.Image image mode=L size=50x50 at 0x7F537491C5D0>"
      ]
     },
     "metadata": {},
     "output_type": "display_data"
    },
    {
     "data": {
      "image/png": "[encoded data removed]",
      "text/plain": [
       "<PIL.Image.Image image mode=L size=50x50 at 0x7F5374917E90>"
      ]
     },
     "metadata": {},
     "output_type": "display_data"
    },
    {
     "data": {
      "image/png": "[encoded data removed]",
      "text/plain": [
       "<PIL.Image.Image image mode=L size=50x50 at 0x7F537491C5D0>"
      ]
     },
     "metadata": {},
     "output_type": "display_data"
    },
    {
     "data": {
      "image/png": "[encoded data removed]",
      "text/plain": [
       "<PIL.Image.Image image mode=L size=50x50 at 0x7F537491C5D0>"
      ]
     },
     "metadata": {},
     "output_type": "display_data"
    },
    {
     "data": {
      "image/png": "[encoded data removed]",
      "text/plain": [
       "<PIL.Image.Image image mode=L size=50x50 at 0x7F537491C5D0>"
      ]
     },
     "metadata": {},
     "output_type": "display_data"
    }
   ],
   "source": [
    "for index in indices[0]:\n",
    "    index = int(index)\n",
    "    dataset_dict['test'][index]['image'].resize((50, 50)).show()"
   ]
  },
  {
   "cell_type": "markdown",
   "id": "061805ed",
   "metadata": {},
   "source": [
    "# Reference"
   ]
  },
  {
   "cell_type": "markdown",
   "id": "45f53f4f",
   "metadata": {},
   "source": [
    "- https://pytorch-lightning.readthedocs.io/en/latest/notebooks/lightning_examples/mnist-hello-world.html"
   ]
  }
 ],
 "metadata": {
  "kernelspec": {
   "display_name": "Python 3 (ipykernel)",
   "language": "python",
   "name": "python3"
  },
  "language_info": {
   "codemirror_mode": {
    "name": "ipython",
    "version": 3
   },
   "file_extension": ".py",
   "mimetype": "text/x-python",
   "name": "python",
   "nbconvert_exporter": "python",
   "pygments_lexer": "ipython3",
   "version": "3.7.10"
  }
 },
 "nbformat": 4,
 "nbformat_minor": 5
}
