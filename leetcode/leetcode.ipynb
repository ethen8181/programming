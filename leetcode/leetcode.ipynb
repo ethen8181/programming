{
 "cells": [
  {
   "cell_type": "markdown",
   "metadata": {
    "toc": true
   },
   "source": [
    "<h1>Table of Contents<span class=\"tocSkip\"></span></h1>\n",
    "<div class=\"toc\"><ul class=\"toc-item\"><li><span><a href=\"#Leetcode\" data-toc-modified-id=\"Leetcode-1\"><span class=\"toc-item-num\">1&nbsp;&nbsp;</span>Leetcode</a></span><ul class=\"toc-item\"><li><span><a href=\"#001.-Two-Sums\" data-toc-modified-id=\"001.-Two-Sums-1.1\"><span class=\"toc-item-num\">1.1&nbsp;&nbsp;</span>001. Two Sums</a></span></li><li><span><a href=\"#003.-Longest-Substring-Without-Repeating-Characters\" data-toc-modified-id=\"003.-Longest-Substring-Without-Repeating-Characters-1.2\"><span class=\"toc-item-num\">1.2&nbsp;&nbsp;</span>003. Longest Substring Without Repeating Characters</a></span></li><li><span><a href=\"#007.-Reverse-Digits-of-an-Integer.\" data-toc-modified-id=\"007.-Reverse-Digits-of-an-Integer.-1.3\"><span class=\"toc-item-num\">1.3&nbsp;&nbsp;</span>007. Reverse Digits of an Integer.</a></span></li><li><span><a href=\"#026.-Remove-Duplicates-from-Sorted-Array\" data-toc-modified-id=\"026.-Remove-Duplicates-from-Sorted-Array-1.4\"><span class=\"toc-item-num\">1.4&nbsp;&nbsp;</span>026. Remove Duplicates from Sorted Array</a></span></li><li><span><a href=\"#027.-Remove-Element\" data-toc-modified-id=\"027.-Remove-Element-1.5\"><span class=\"toc-item-num\">1.5&nbsp;&nbsp;</span>027. Remove Element</a></span></li><li><span><a href=\"#035.-Search-Insert-Position\" data-toc-modified-id=\"035.-Search-Insert-Position-1.6\"><span class=\"toc-item-num\">1.6&nbsp;&nbsp;</span>035. Search Insert Position</a></span></li><li><span><a href=\"#053.-Maximum-Subarray\" data-toc-modified-id=\"053.-Maximum-Subarray-1.7\"><span class=\"toc-item-num\">1.7&nbsp;&nbsp;</span>053. Maximum Subarray</a></span></li><li><span><a href=\"#058.-Length-of-Last-Word\" data-toc-modified-id=\"058.-Length-of-Last-Word-1.8\"><span class=\"toc-item-num\">1.8&nbsp;&nbsp;</span>058. Length of Last Word</a></span></li><li><span><a href=\"#066.-Plus-One\" data-toc-modified-id=\"066.-Plus-One-1.9\"><span class=\"toc-item-num\">1.9&nbsp;&nbsp;</span>066. Plus One</a></span></li><li><span><a href=\"#070.-Climbing-Stairs\" data-toc-modified-id=\"070.-Climbing-Stairs-1.10\"><span class=\"toc-item-num\">1.10&nbsp;&nbsp;</span>070. Climbing Stairs</a></span></li><li><span><a href=\"#077.-Combinations\" data-toc-modified-id=\"077.-Combinations-1.11\"><span class=\"toc-item-num\">1.11&nbsp;&nbsp;</span>077. Combinations</a></span></li><li><span><a href=\"#088.-Merge-Sorted-Array\" data-toc-modified-id=\"088.-Merge-Sorted-Array-1.12\"><span class=\"toc-item-num\">1.12&nbsp;&nbsp;</span>088. Merge Sorted Array</a></span></li><li><span><a href=\"#091.-Decode-Ways\" data-toc-modified-id=\"091.-Decode-Ways-1.13\"><span class=\"toc-item-num\">1.13&nbsp;&nbsp;</span>091. Decode Ways</a></span></li><li><span><a href=\"#094.-Binary-Tree-Inorder-Traversal\" data-toc-modified-id=\"094.-Binary-Tree-Inorder-Traversal-1.14\"><span class=\"toc-item-num\">1.14&nbsp;&nbsp;</span>094. Binary Tree Inorder Traversal</a></span></li><li><span><a href=\"#098.-Validate-Binary-Search-Tree\" data-toc-modified-id=\"098.-Validate-Binary-Search-Tree-1.15\"><span class=\"toc-item-num\">1.15&nbsp;&nbsp;</span>098. Validate Binary Search Tree</a></span></li><li><span><a href=\"#108.-Convert-Sorted-Array-to-Binary-Search-Tree\" data-toc-modified-id=\"108.-Convert-Sorted-Array-to-Binary-Search-Tree-1.16\"><span class=\"toc-item-num\">1.16&nbsp;&nbsp;</span>108. Convert Sorted Array to Binary Search Tree</a></span></li><li><span><a href=\"#121.-Best-Time-to-Buy-and-Sell-Stock\" data-toc-modified-id=\"121.-Best-Time-to-Buy-and-Sell-Stock-1.17\"><span class=\"toc-item-num\">1.17&nbsp;&nbsp;</span>121. Best Time to Buy and Sell Stock</a></span></li><li><span><a href=\"#121.-Best-Time-to-Buy-and-Sell-Stock-II\" data-toc-modified-id=\"121.-Best-Time-to-Buy-and-Sell-Stock-II-1.18\"><span class=\"toc-item-num\">1.18&nbsp;&nbsp;</span>121. Best Time to Buy and Sell Stock II</a></span></li><li><span><a href=\"#155.-Min-Stack\" data-toc-modified-id=\"155.-Min-Stack-1.19\"><span class=\"toc-item-num\">1.19&nbsp;&nbsp;</span>155. Min Stack</a></span></li><li><span><a href=\"#167.-Two-Sum-II---Input-array-is-sorted\" data-toc-modified-id=\"167.-Two-Sum-II---Input-array-is-sorted-1.20\"><span class=\"toc-item-num\">1.20&nbsp;&nbsp;</span>167. Two Sum II - Input array is sorted</a></span></li><li><span><a href=\"#169.-Majority-Element\" data-toc-modified-id=\"169.-Majority-Element-1.21\"><span class=\"toc-item-num\">1.21&nbsp;&nbsp;</span>169. Majority Element</a></span></li><li><span><a href=\"#198.-House-Robber\" data-toc-modified-id=\"198.-House-Robber-1.22\"><span class=\"toc-item-num\">1.22&nbsp;&nbsp;</span>198. House Robber</a></span></li><li><span><a href=\"#200.-Number-of-Islands\" data-toc-modified-id=\"200.-Number-of-Islands-1.23\"><span class=\"toc-item-num\">1.23&nbsp;&nbsp;</span>200. Number of Islands</a></span></li><li><span><a href=\"#203.-Remove-Linked-List-Elements\" data-toc-modified-id=\"203.-Remove-Linked-List-Elements-1.24\"><span class=\"toc-item-num\">1.24&nbsp;&nbsp;</span>203. Remove Linked List Elements</a></span></li><li><span><a href=\"#206.-Reverse-Linked-List\" data-toc-modified-id=\"206.-Reverse-Linked-List-1.25\"><span class=\"toc-item-num\">1.25&nbsp;&nbsp;</span>206. Reverse Linked List</a></span></li><li><span><a href=\"#207.-Course-Schedule\" data-toc-modified-id=\"207.-Course-Schedule-1.26\"><span class=\"toc-item-num\">1.26&nbsp;&nbsp;</span>207. Course Schedule</a></span></li><li><span><a href=\"#215.-kth-largest-Element-in-an-Array\" data-toc-modified-id=\"215.-kth-largest-Element-in-an-Array-1.27\"><span class=\"toc-item-num\">1.27&nbsp;&nbsp;</span>215. kth-largest Element in an Array</a></span></li><li><span><a href=\"#217.-Contains-Duplicate\" data-toc-modified-id=\"217.-Contains-Duplicate-1.28\"><span class=\"toc-item-num\">1.28&nbsp;&nbsp;</span>217. Contains Duplicate</a></span></li><li><span><a href=\"#230.-Kth-Smallest-Element-in-a-BST\" data-toc-modified-id=\"230.-Kth-Smallest-Element-in-a-BST-1.29\"><span class=\"toc-item-num\">1.29&nbsp;&nbsp;</span>230. Kth Smallest Element in a BST</a></span></li><li><span><a href=\"#242.-Valid-Anagram\" data-toc-modified-id=\"242.-Valid-Anagram-1.30\"><span class=\"toc-item-num\">1.30&nbsp;&nbsp;</span>242. Valid Anagram</a></span></li><li><span><a href=\"#283.-Move-Zeroes\" data-toc-modified-id=\"283.-Move-Zeroes-1.31\"><span class=\"toc-item-num\">1.31&nbsp;&nbsp;</span>283. Move Zeroes</a></span></li><li><span><a href=\"#289.-Game-of-Life\" data-toc-modified-id=\"289.-Game-of-Life-1.32\"><span class=\"toc-item-num\">1.32&nbsp;&nbsp;</span>289. Game of Life</a></span></li><li><span><a href=\"#347.-Top-K-Frequent-Elements\" data-toc-modified-id=\"347.-Top-K-Frequent-Elements-1.33\"><span class=\"toc-item-num\">1.33&nbsp;&nbsp;</span>347. Top K Frequent Elements</a></span></li><li><span><a href=\"#350.-Intersection-of-Two-Arrays-II\" data-toc-modified-id=\"350.-Intersection-of-Two-Arrays-II-1.34\"><span class=\"toc-item-num\">1.34&nbsp;&nbsp;</span>350. Intersection of Two Arrays II</a></span></li><li><span><a href=\"#448.-Find-All-Numbers-Disappeared-in-an-Array\" data-toc-modified-id=\"448.-Find-All-Numbers-Disappeared-in-an-Array-1.35\"><span class=\"toc-item-num\">1.35&nbsp;&nbsp;</span>448. Find All Numbers Disappeared in an Array</a></span></li><li><span><a href=\"#502-IPO\" data-toc-modified-id=\"502-IPO-1.36\"><span class=\"toc-item-num\">1.36&nbsp;&nbsp;</span>502 IPO</a></span></li><li><span><a href=\"#682.-Baseball-Game\" data-toc-modified-id=\"682.-Baseball-Game-1.37\"><span class=\"toc-item-num\">1.37&nbsp;&nbsp;</span>682. Baseball Game</a></span></li></ul></li><li><span><a href=\"#Reference\" data-toc-modified-id=\"Reference-2\"><span class=\"toc-item-num\">2&nbsp;&nbsp;</span>Reference</a></span></li></ul></div>"
   ]
  },
  {
   "cell_type": "markdown",
   "metadata": {},
   "source": [
    "# Leetcode"
   ]
  },
  {
   "cell_type": "markdown",
   "metadata": {},
   "source": [
    "## 001. Two Sums"
   ]
  },
  {
   "cell_type": "markdown",
   "metadata": {},
   "source": [
    "Given an array of integers, return indices of the two numbers such that they add up to a specific target.\n",
    "\n",
    "You may assume that each input would have exactly one solution, and you may not use the same element twice.\n",
    "\n",
    "Example:\n",
    "\n",
    "Given nums = [2, 7, 11, 15], target = 9,\n",
    "\n",
    "Because nums[0] + nums[1] = 2 + 7 = 9, return [0, 1]."
   ]
  },
  {
   "cell_type": "code",
   "execution_count": 1,
   "metadata": {},
   "outputs": [],
   "source": [
    "def solution(nums, target):\n",
    "    d = {}\n",
    "    for i, num in enumerate(nums):\n",
    "        diff = target - num\n",
    "        if diff in d:\n",
    "            result = [d[diff], i]\n",
    "            return result\n",
    "\n",
    "        d[num] = i"
   ]
  },
  {
   "cell_type": "code",
   "execution_count": 2,
   "metadata": {},
   "outputs": [
    {
     "data": {
      "text/plain": [
       "[0, 1]"
      ]
     },
     "execution_count": 2,
     "metadata": {},
     "output_type": "execute_result"
    }
   ],
   "source": [
    "target = 9\n",
    "nums = [2, 7, 11, 15]\n",
    "solution(nums, target)"
   ]
  },
  {
   "cell_type": "markdown",
   "metadata": {},
   "source": [
    "C++ syntax:\n",
    "\n",
    "```cpp\n",
    "#include <unordered_map>\n",
    "#include <vector>\n",
    "using namespace std;\n",
    "\n",
    "vector<int> twoSum(vector<int>& nums, int target) {\n",
    "\tunordered_map<int, int> hash;\n",
    "\tfor (int i = 0; i < nums.size(); i++) {\n",
    "\t\tint numberToFind = target - nums[i];\n",
    "\t\tif (hash.find(numberToFind) != hash.end()) {\n",
    "\t\t\tvector<int> result {hash[numberToFind], i};\n",
    "\t\t\treturn result;\n",
    "\t\t}\n",
    "\t\thash[nums[i]] = i;\n",
    "\t}\n",
    "}\n",
    "```"
   ]
  },
  {
   "cell_type": "markdown",
   "metadata": {},
   "source": [
    "## 003. Longest Substring Without Repeating Characters\n",
    "\n",
    "Given a string, find the length of the longest substring without repeating characters.\n",
    "\n",
    "Examples:\n",
    "\n",
    "Given \"abcabcbb\", the answer is \"abc\", which the length is 3.\n",
    "\n",
    "Given \"bbbbb\", the answer is \"b\", with the length of 1.\n",
    "\n",
    "Given \"pwwkew\", the answer is \"wke\", with the length of 3. Note that the answer must be a substring, \"pwke\" is a subsequence and not a substring.\n",
    "\n",
    "https://discuss.leetcode.com/topic/11632/a-python-solution-85ms-o-n"
   ]
  },
  {
   "cell_type": "code",
   "execution_count": 3,
   "metadata": {},
   "outputs": [],
   "source": [
    "def solution(string):\n",
    "    used = {}\n",
    "    start = 0\n",
    "    answer = 0\n",
    "    for i, c in enumerate(string):\n",
    "        # hit repeated word, refresh the start position\n",
    "        if c in used:\n",
    "            start = max(start, used[c] + 1)\n",
    "        \n",
    "        # compare the refreshed position word with the\n",
    "        # old word to see which one is longer\n",
    "        answer = max(answer, i - start + 1)\n",
    "        used[c] = i\n",
    "\n",
    "    return answer"
   ]
  },
  {
   "cell_type": "code",
   "execution_count": 4,
   "metadata": {},
   "outputs": [
    {
     "data": {
      "text/plain": [
       "5"
      ]
     },
     "execution_count": 4,
     "metadata": {},
     "output_type": "execute_result"
    }
   ],
   "source": [
    "string = 'abcabcbb'\n",
    "string = 'pwwkew'\n",
    "string = 'bbbbb'\n",
    "string = 'ethten'\n",
    "string = \"tmmzuxt\"\n",
    "solution(string)"
   ]
  },
  {
   "cell_type": "markdown",
   "metadata": {},
   "source": [
    "## 007. Reverse Digits of an Integer.\n",
    "\n",
    "Example1: x = 123, return 321 Example2: x = -123, return -321\n",
    "\n",
    "Here are some good questions to ask before coding. Bonus points for you if you have already thought through this!\n",
    "\n",
    "- If the integer's last digit is 0, what should the output be? ie, cases such as 10, 100.\n",
    "- Did you notice that the reversed integer might overflow? Assume the input is a 32-bit integer, then the reverse of 1000000003 overflows. How should you handle such cases? For the purpose of this problem, assume that your function returns 0 when the reversed integer overflows.\n",
    "\n",
    "Note: The input is assumed to be a 32-bit signed integer. Your function should return 0 when the reversed integer overflows.\n",
    "\n",
    "https://discuss.leetcode.com/topic/6104/my-accepted-15-lines-of-code-for-java/2"
   ]
  },
  {
   "cell_type": "code",
   "execution_count": 5,
   "metadata": {},
   "outputs": [],
   "source": [
    "def solution(num):\n",
    "    int_max = 2 ** 31 - 1\n",
    "    sign = 1 if num >= 0 else -1\n",
    "    num = abs(num)\n",
    "    result = 0\n",
    "\n",
    "    while num:\n",
    "        # multiply by 10 to advance the digit\n",
    "        new_result = result * 10 + num % 10\n",
    "        if new_result >= int_max:\n",
    "            return 0\n",
    "\n",
    "        num //= 10\n",
    "        result = new_result\n",
    "\n",
    "    result *= sign\n",
    "    return result"
   ]
  },
  {
   "cell_type": "code",
   "execution_count": 6,
   "metadata": {},
   "outputs": [
    {
     "data": {
      "text/plain": [
       "4321"
      ]
     },
     "execution_count": 6,
     "metadata": {},
     "output_type": "execute_result"
    }
   ],
   "source": [
    "num = 1234\n",
    "solution(num)"
   ]
  },
  {
   "cell_type": "markdown",
   "metadata": {},
   "source": [
    "## 026. Remove Duplicates from Sorted Array\n",
    "\n",
    "Given a sorted array, remove the duplicates in place such that each element appear only once and return the new length.\n",
    "\n",
    "Do not allocate extra space for another array, you must do this in place with constant memory.\n",
    "\n",
    "For example, Given input array nums = [1,1,2],\n",
    "\n",
    "Your function should return length = 2, with the first two elements of nums being 1 and 2 respectively. It doesn't matter what you leave beyond the new length.\n",
    "\n",
    "https://discuss.leetcode.com/topic/8907/share-my-clean-c-code"
   ]
  },
  {
   "cell_type": "code",
   "execution_count": 7,
   "metadata": {},
   "outputs": [],
   "source": [
    "def solution(nums):\n",
    "    n_duplicates = 0\n",
    "    for j in range(1, len(nums)):\n",
    "        if nums[j] == nums[j - 1]:\n",
    "            n_duplicates += 1\n",
    "        else:\n",
    "            # jump to the place where the duplicate\n",
    "            # occured, since it doesn't matter what we\n",
    "            # leave beyond the new length, we don't need\n",
    "            # to erase the duplicated elements afterwards\n",
    "            nums[j - n_duplicates] = nums[j]\n",
    "\n",
    "    length = len(nums) - n_duplicates\n",
    "    return length"
   ]
  },
  {
   "cell_type": "code",
   "execution_count": 8,
   "metadata": {},
   "outputs": [
    {
     "name": "stdout",
     "output_type": "stream",
     "text": [
      "length: 3\n"
     ]
    },
    {
     "data": {
      "text/plain": [
       "[1, 5, 3, 5, 3]"
      ]
     },
     "execution_count": 8,
     "metadata": {},
     "output_type": "execute_result"
    }
   ],
   "source": [
    "nums = [1, 1, 1, 5, 3]\n",
    "print('length:', solution(nums))\n",
    "nums"
   ]
  },
  {
   "cell_type": "markdown",
   "metadata": {},
   "source": [
    "## 027. Remove Element\n",
    "\n",
    "Given an array and a value, remove all instances of that value in place and return the new length.\n",
    "\n",
    "Do not allocate extra space for another array, you must do this in place with constant memory.\n",
    "\n",
    "The order of elements can be changed. It doesn't matter what you leave beyond the new length.\n",
    "\n",
    "Example: Given input array nums = [3,2,2,3], val = 3\n",
    "\n",
    "Your function should return length = 2, with the first two elements of nums being 2.\n",
    "\n",
    "> Very similar idea to 026. Remove Duplicates from Sorted Array"
   ]
  },
  {
   "cell_type": "code",
   "execution_count": 9,
   "metadata": {},
   "outputs": [],
   "source": [
    "def solution(nums, val):\n",
    "    position = 0\n",
    "    for j in range(len(nums)):\n",
    "        if nums[j] == val:\n",
    "            position += 1\n",
    "        else:\n",
    "            nums[j - position] = nums[j]\n",
    "\n",
    "    length = len(nums) - position\n",
    "    return length"
   ]
  },
  {
   "cell_type": "code",
   "execution_count": 10,
   "metadata": {},
   "outputs": [
    {
     "name": "stdout",
     "output_type": "stream",
     "text": [
      "length: 2\n"
     ]
    },
    {
     "data": {
      "text/plain": [
       "[2, 2, 2, 3]"
      ]
     },
     "execution_count": 10,
     "metadata": {},
     "output_type": "execute_result"
    }
   ],
   "source": [
    "val = 3\n",
    "nums = [3, 2, 2, 3]\n",
    "\n",
    "print('length:', solution(nums, val))\n",
    "nums"
   ]
  },
  {
   "cell_type": "markdown",
   "metadata": {},
   "source": [
    "## \t035. Search Insert Position"
   ]
  },
  {
   "cell_type": "markdown",
   "metadata": {},
   "source": [
    "Given a sorted array and a target value, return the index if the target is found. If not, return the index where it would be if it were inserted in order.\n",
    "\n",
    "You may assume no duplicates in the array.\n",
    "\n",
    "Here are few examples. [1,3,5,6], 5 → 2 [1,3,5,6], 2 → 1 [1,3,5,6], 7 → 4 [1,3,5,6], 0 → 0"
   ]
  },
  {
   "cell_type": "code",
   "execution_count": 11,
   "metadata": {},
   "outputs": [],
   "source": [
    "def solution(nums, target):\n",
    "    \"\"\"modification of binary search\"\"\"\n",
    "    low = 0\n",
    "    high = len(nums)\n",
    "    while low < high:\n",
    "        mid = low + (high - low) // 2\n",
    "        if nums[mid] == target:\n",
    "            return mid\n",
    "        elif nums[mid] < target:\n",
    "            low = mid + 1\n",
    "        else:\n",
    "            high = mid\n",
    "\n",
    "    return low"
   ]
  },
  {
   "cell_type": "code",
   "execution_count": 12,
   "metadata": {},
   "outputs": [
    {
     "data": {
      "text/plain": [
       "2"
      ]
     },
     "execution_count": 12,
     "metadata": {},
     "output_type": "execute_result"
    }
   ],
   "source": [
    "nums = [1, 3, 5, 6]\n",
    "target = 4\n",
    "solution(nums, target)"
   ]
  },
  {
   "cell_type": "markdown",
   "metadata": {},
   "source": [
    "## 053. Maximum Subarray\n",
    "\n",
    "Find the contiguous subarray within an array (containing at least one number) which has the largest sum.\n",
    "\n",
    "For example, given the array [-2,1,-3,4,-1,2,1,-5,4],the contiguous subarray [4,-1,2,1] has the largest sum = 6.\n",
    "\n",
    "Kadane's algorithm\n",
    "https://www.youtube.com/watch?v=86CQq3pKSUw"
   ]
  },
  {
   "cell_type": "code",
   "execution_count": 13,
   "metadata": {},
   "outputs": [],
   "source": [
    "def solution(nums):\n",
    "    max_global = nums[0]\n",
    "    max_current = nums[0]\n",
    "    for i in range(1, len(nums)):\n",
    "        # the maximum subarray ending at the current index\n",
    "        max_current = max(nums[i], nums[i] + max_current)\n",
    "        max_global = max(max_current, max_global)\n",
    "        \n",
    "    return max_global"
   ]
  },
  {
   "cell_type": "code",
   "execution_count": 14,
   "metadata": {},
   "outputs": [
    {
     "data": {
      "text/plain": [
       "5"
      ]
     },
     "execution_count": 14,
     "metadata": {},
     "output_type": "execute_result"
    }
   ],
   "source": [
    "nums = [-2, 3, 2, -1]\n",
    "solution(nums)"
   ]
  },
  {
   "cell_type": "markdown",
   "metadata": {},
   "source": [
    "## 058. Length of Last Word\n",
    "\n",
    "Given a string s consists of upper/lower-case alphabets and empty space characters ' ', return the length of last word in the string.\n",
    "\n",
    "If the last word does not exist, return 0.\n",
    "\n",
    "Note: A word is defined as a character sequence consists of non-space characters only.\n",
    "\n",
    "For example, \n",
    "Given s = \"Hello World\", return 5.\n",
    "Given s = \"b a \", return 1.\n",
    "\n",
    "https://discuss.leetcode.com/topic/17312/7-lines-4ms-c-solution"
   ]
  },
  {
   "cell_type": "code",
   "execution_count": 15,
   "metadata": {},
   "outputs": [],
   "source": [
    "def solution(s):\n",
    "    length = 0\n",
    "    tail = len(s) - 1\n",
    "    # Start from the tail of the input string and move backwards to find\n",
    "    # the first non-space character (essentially the .trim method)\n",
    "    # and the first tail > 0 will check for edge cases such as ''\n",
    "    while tail > 0 and s[tail] == ' ':\n",
    "        tail -= 1\n",
    "\n",
    "    # Then from this character, move backwards and count the number of\n",
    "    # non-space characters until we pass over the head of s or meet a\n",
    "    # space character    \n",
    "    while tail >= 0 and s[tail] != ' ':\n",
    "        length += 1\n",
    "        tail -= 1\n",
    "\n",
    "    return length"
   ]
  },
  {
   "cell_type": "code",
   "execution_count": 16,
   "metadata": {},
   "outputs": [
    {
     "data": {
      "text/plain": [
       "1"
      ]
     },
     "execution_count": 16,
     "metadata": {},
     "output_type": "execute_result"
    }
   ],
   "source": [
    "s = 'Hello World'\n",
    "s = 'b a '\n",
    "s = 'a'\n",
    "solution(s)"
   ]
  },
  {
   "cell_type": "markdown",
   "metadata": {},
   "source": [
    "## 066. Plus One\n",
    "\n",
    "Given a non-negative integer represented as a non-empty array of digits, plus one to the integer.\n",
    "\n",
    "You may assume the integer do not contain any leading zero, except the number 0 itself.\n",
    "\n",
    "The digits are stored such that the most significant digit is at the head of the list."
   ]
  },
  {
   "cell_type": "code",
   "execution_count": 17,
   "metadata": {},
   "outputs": [],
   "source": [
    "def solution(digits):\n",
    "    n = len(digits)\n",
    "    for i in reversed(range(n)):\n",
    "        # if it doesn't need to carry over to the next digit\n",
    "        if digits[i] < 9:\n",
    "            digits[i] += 1\n",
    "            return digits\n",
    "        else:\n",
    "            digits[i] = 0\n",
    "    \n",
    "    # for cases where all digits are 9\n",
    "    # the resulting number will have more digits than the original input\n",
    "    digits[0] = 1\n",
    "    digits.append(0)\n",
    "    return digits"
   ]
  },
  {
   "cell_type": "code",
   "execution_count": 18,
   "metadata": {},
   "outputs": [
    {
     "data": {
      "text/plain": [
       "[1, 0, 0]"
      ]
     },
     "execution_count": 18,
     "metadata": {},
     "output_type": "execute_result"
    }
   ],
   "source": [
    "digits = [9]\n",
    "digits = [9, 9]\n",
    "solution(digits)\n",
    "digits"
   ]
  },
  {
   "cell_type": "markdown",
   "metadata": {},
   "source": [
    "## 070. Climbing Stairs\n",
    "\n",
    "You are climbing a stair case. It takes n steps to reach to the top.\n",
    "\n",
    "Each time you can either climb 1 or 2 steps. In how many distinct ways can you climb to the top?\n",
    "\n",
    "Note: Given n will be a positive integer.\n",
    "\n",
    "https://leetcode.com/problems/climbing-stairs/solution/"
   ]
  },
  {
   "cell_type": "code",
   "execution_count": 19,
   "metadata": {},
   "outputs": [],
   "source": [
    "def solution(n):\n",
    "    \"\"\"\n",
    "    fibonacci number in disguise\n",
    "    f(n) = f(n - 1) + f(n - 2)\n",
    "    \n",
    "    Time complexity: O(n) for the single loop\n",
    "    Space complexity: O(1) constant variables\n",
    "    \"\"\"\n",
    "    if n == 1:\n",
    "        return n\n",
    "    \n",
    "    third = 0\n",
    "    # first two number in the fibonacci sequence\n",
    "    first = 1\n",
    "    second = 2\n",
    "    for i in range(3, n + 1):\n",
    "        third = first + second\n",
    "        first = second\n",
    "        second = third\n",
    "    \n",
    "    return second"
   ]
  },
  {
   "cell_type": "code",
   "execution_count": 20,
   "metadata": {},
   "outputs": [
    {
     "data": {
      "text/plain": [
       "5"
      ]
     },
     "execution_count": 20,
     "metadata": {},
     "output_type": "execute_result"
    }
   ],
   "source": [
    "n = 4\n",
    "solution(n)"
   ]
  },
  {
   "cell_type": "markdown",
   "metadata": {},
   "source": [
    "## 077. Combinations\n",
    "\n",
    "Given two integers n and k, return all possible combinations of k numbers out of 1 ... n.\n",
    "\n",
    "For example,\n",
    "If n = 4 and k = 2, a solution is:\n",
    "\n",
    "```\n",
    "[\n",
    "  [2,4],\n",
    "  [3,4],\n",
    "  [2,3],\n",
    "  [1,2],\n",
    "  [1,3],\n",
    "  [1,4],\n",
    "]\n",
    "```\n",
    "\n",
    "https://discuss.leetcode.com/topic/25958/ac-python-backtracking-iterative-solution-60-ms"
   ]
  },
  {
   "cell_type": "code",
   "execution_count": 21,
   "metadata": {},
   "outputs": [],
   "source": [
    "def solution(n, k):\n",
    "    \"\"\"backtracking\"\"\"\n",
    "    ans = []\n",
    "    stack = []\n",
    "    x = 1\n",
    "    while True:\n",
    "        l = len(stack)\n",
    "        if l == k:\n",
    "            ans.append(stack[:])\n",
    "\n",
    "        # since we're inserting the numbers\n",
    "        # into the stack in ascending order,\n",
    "        # we want to make sure there are enough\n",
    "        # larger numbers to be inserted;\n",
    "        # 1. one combination has k numbers, and currently we already have l\n",
    "        # numbers, so we need to find another k-l numbers\n",
    "        # 2. from x to n, there are n-x+1 numbers that are larger than\n",
    "        # the numbers in the current stack\n",
    "        if l == k or n - x + 1 < k - l:\n",
    "            if not stack:\n",
    "                return ans\n",
    "\n",
    "            x = stack.pop() + 1\n",
    "        else:\n",
    "            stack.append(x)\n",
    "            x += 1"
   ]
  },
  {
   "cell_type": "code",
   "execution_count": 22,
   "metadata": {},
   "outputs": [
    {
     "data": {
      "text/plain": [
       "[[1, 2], [1, 3], [1, 4], [2, 3], [2, 4], [3, 4]]"
      ]
     },
     "execution_count": 22,
     "metadata": {},
     "output_type": "execute_result"
    }
   ],
   "source": [
    "n = 4\n",
    "k = 2\n",
    "solution(n, k)"
   ]
  },
  {
   "cell_type": "code",
   "execution_count": 23,
   "metadata": {},
   "outputs": [],
   "source": [
    "from itertools import combinations\n",
    "\n",
    "\n",
    "def solution(n, k):\n",
    "    \"\"\"faster using python module's combinations\"\"\"\n",
    "    lst = [i for i in range(1, n + 1)]\n",
    "    ans = combinations(lst, k)\n",
    "    return list(ans)"
   ]
  },
  {
   "cell_type": "code",
   "execution_count": 24,
   "metadata": {},
   "outputs": [
    {
     "data": {
      "text/plain": [
       "[(1, 2), (1, 3), (1, 4), (2, 3), (2, 4), (3, 4)]"
      ]
     },
     "execution_count": 24,
     "metadata": {},
     "output_type": "execute_result"
    }
   ],
   "source": [
    "n = 4\n",
    "k = 2\n",
    "solution(n, k)"
   ]
  },
  {
   "cell_type": "markdown",
   "metadata": {},
   "source": [
    "## 088. Merge Sorted Array\n",
    "\n",
    "Given two sorted integer arrays nums1 and nums2, merge nums2 into nums1 as one sorted array.\n",
    "\n",
    "Note:\n",
    "You may assume that nums1 has enough space (size that is greater or equal to m + n) to hold additional elements from nums2. The number of elements initialized in nums1 and nums2 are m and n respectively.\n",
    "\n",
    "https://discuss.leetcode.com/topic/5641/c-solution-runtime-o-n-in-place-easy-to-understand"
   ]
  },
  {
   "cell_type": "code",
   "execution_count": 25,
   "metadata": {},
   "outputs": [],
   "source": [
    "def solution(nums1, m, nums2, n):\n",
    "    index1 = m - 1\n",
    "    index2 = n - 1\n",
    "    index_merged = m + n - 1\n",
    "\n",
    "    # loop backwards and compare A and B to see which is bigger\n",
    "    # and fill the value to A\n",
    "    while index1 >= 0 and index2 >= 0:\n",
    "        if nums1[index1] < nums2[index2]:\n",
    "            nums1[index_merged] = nums2[index2]\n",
    "            index2 -= 1\n",
    "        else:\n",
    "            nums1[index_merged] = nums1[index1]\n",
    "            index1 -= 1\n",
    "\n",
    "        index_merged -= 1\n",
    "\n",
    "    # if there's only element left in the shorter array,\n",
    "    # copy it all to the longer array\n",
    "    while index2 >= 0:\n",
    "        nums1[index_merged] = nums2[index2]\n",
    "        index2 -= 1\n",
    "        index_merged -= 1"
   ]
  },
  {
   "cell_type": "code",
   "execution_count": 26,
   "metadata": {},
   "outputs": [
    {
     "data": {
      "text/plain": [
       "[1, 2, 3, 4, 5, 6]"
      ]
     },
     "execution_count": 26,
     "metadata": {},
     "output_type": "execute_result"
    }
   ],
   "source": [
    "nums1 = [1, 2, 4, 5, 6, 0]\n",
    "m = 5\n",
    "nums2 = [3]\n",
    "n = 1\n",
    "solution(nums1, m, nums2, n)\n",
    "nums1"
   ]
  },
  {
   "cell_type": "markdown",
   "metadata": {},
   "source": [
    "## 091. Decode Ways\n",
    "\n",
    "A message containing letters from A-Z is being encoded to numbers using the following mapping:\n",
    "\n",
    "```\n",
    "'A' -> 1\n",
    "'B' -> 2\n",
    "...\n",
    "'Z' -> 26\n",
    "```\n",
    "\n",
    "Given an encoded message containing digits, determine the total number of ways to decode it.\n",
    "\n",
    "For example, Given encoded message \"12\", it could be decoded as \"AB\" (1 2) or \"L\" (12).\n",
    "\n",
    "The number of ways decoding \"12\" is 2.\n",
    "\n",
    "https://discuss.leetcode.com/topic/35840/java-clean-dp-solution-with-explanation/2"
   ]
  },
  {
   "cell_type": "code",
   "execution_count": 27,
   "metadata": {},
   "outputs": [],
   "source": [
    "def solution(s):\n",
    "    n = len(s)\n",
    "    if n == 0 or s[0] == '0':\n",
    "        return 0\n",
    "    if n == 1:\n",
    "        return 1\n",
    "\n",
    "    prev1 = 1\n",
    "    prev2 = 1\n",
    "    for i in range(2, n + 1):\n",
    "        current = 0\n",
    "        first = int(s[i - 1])\n",
    "        second = int(s[(i - 2):i])\n",
    "        if 1 <= first and first <= 9:\n",
    "            current += prev1\n",
    "        # upper bound is 26 corresponding to Z\n",
    "        if 10 <= second and second <= 26:\n",
    "            current += prev2\n",
    "\n",
    "        prev2 = prev1\n",
    "        prev1 = current\n",
    "\n",
    "    return current"
   ]
  },
  {
   "cell_type": "code",
   "execution_count": 28,
   "metadata": {},
   "outputs": [
    {
     "data": {
      "text/plain": [
       "2"
      ]
     },
     "execution_count": 28,
     "metadata": {},
     "output_type": "execute_result"
    }
   ],
   "source": [
    "s = '12'\n",
    "solution(s)"
   ]
  },
  {
   "cell_type": "markdown",
   "metadata": {},
   "source": [
    "## 094. Binary Tree Inorder Traversal\n",
    "\n",
    "Given a binary tree, return the inorder traversal of its nodes' values.\n",
    "\n",
    "For example:\n",
    "Given binary tree [1,null,2,3]\n",
    "\n",
    "```\n",
    "   1\n",
    "    \\\n",
    "     2\n",
    "    /\n",
    "   3\n",
    "```\n",
    "return [1,3,2].\n",
    "\n",
    "Note: Recursive solution is trivial, could you do it iteratively?\n",
    "\n",
    "https://leetcode.com/problems/binary-tree-inorder-traversal/solution/"
   ]
  },
  {
   "cell_type": "code",
   "execution_count": 29,
   "metadata": {},
   "outputs": [],
   "source": [
    "class TreeNode:\n",
    "    \"\"\"Definition for a binary tree node.\"\"\"\n",
    "    def __init__(self, x):\n",
    "        self.val = x\n",
    "        self.left = None\n",
    "        self.right = None\n",
    "\n",
    "\n",
    "class Solution:\n",
    "    \"\"\"\n",
    "    In the case of binary search tree, in order traversal\n",
    "    1. traverse the left sub-tree 2. visit the root 3. traverse the right sub-tree \n",
    "    gives nodes in an ascending order\n",
    "    http://www.geeksforgeeks.org/tree-traversals-inorder-preorder-and-postorder/\n",
    "    \"\"\"\n",
    "    def inorderTraversal(self, root):\n",
    "        \"\"\"\n",
    "        :type root: TreeNode\n",
    "        :rtype: List[int]\n",
    "        \"\"\"\n",
    "        result = []\n",
    "        self.helper(root, result)\n",
    "        return result\n",
    "\n",
    "    def helper(self, root, result):\n",
    "        if root is not None:\n",
    "            self.helper(root.left, result)\n",
    "            result.append(root.val)\n",
    "            self.helper(root.right, result)"
   ]
  },
  {
   "cell_type": "code",
   "execution_count": 30,
   "metadata": {},
   "outputs": [],
   "source": [
    "class Solution:\n",
    "    \"\"\"Implementation using a stack\"\"\"\n",
    "    def inorderTraversal(self, root):\n",
    "        \"\"\"\n",
    "        :type root: TreeNode\n",
    "        :rtype: List[int]\n",
    "        \"\"\"\n",
    "        stack = []\n",
    "        result = []\n",
    "        curr = root\n",
    "        while curr is not None or stack:\n",
    "            while curr is not None:\n",
    "                stack.append(curr)\n",
    "                curr = curr.left\n",
    " \n",
    "            curr = stack.pop()\n",
    "            result.append(curr.val)\n",
    "            curr = curr.right\n",
    "\n",
    "        return result"
   ]
  },
  {
   "cell_type": "markdown",
   "metadata": {},
   "source": [
    "## 098. Validate Binary Search Tree\n",
    "\n",
    "Given a binary tree, determine if it is a valid binary search tree (BST).\n",
    "\n",
    "Assume a BST is defined as follows:\n",
    "\n",
    "The left subtree of a node contains only nodes with keys less than the node's key.\n",
    "The right subtree of a node contains only nodes with keys greater than the node's key.\n",
    "Both the left and right subtrees must also be binary search trees.\n",
    "Example 1:\n",
    "\n",
    "```\n",
    "    2\n",
    "   / \\\n",
    "  1   3\n",
    "```\n",
    "\n",
    "Binary tree [2,1,3], return true.\n",
    "\n",
    "Example 2:\n",
    "\n",
    "```\n",
    "    1\n",
    "   / \\\n",
    "  2   3\n",
    "```\n",
    "\n",
    "Binary tree [1,2,3], return false."
   ]
  },
  {
   "cell_type": "code",
   "execution_count": 31,
   "metadata": {},
   "outputs": [],
   "source": [
    "class TreeNode:\n",
    "    \"\"\"Definition for a binary tree node.\"\"\"\n",
    "    def __init__(self, x):\n",
    "        self.val = x\n",
    "        self.left = None\n",
    "        self.right = None\n",
    "\n",
    "\n",
    "def solution(root):\n",
    "    \"\"\"similar idea to 094. Binary Tree Inorder Traversal\"\"\"\n",
    "    stack = []\n",
    "    curr = root\n",
    "    prev = None\n",
    "    while curr is not None or stack:\n",
    "        while curr is not None:\n",
    "            stack.append(curr)\n",
    "            curr = curr.left\n",
    "\n",
    "        curr = stack.pop()\n",
    "        \n",
    "        # the left node should be smaller than the right node;\n",
    "        # thus if the node left is bigger than the right, this\n",
    "        # binary search tree is not valid\n",
    "        if prev is not None and prev.val >= curr.val:\n",
    "            return False\n",
    "        \n",
    "        prev = curr\n",
    "        curr = curr.right\n",
    "\n",
    "    return True"
   ]
  },
  {
   "cell_type": "markdown",
   "metadata": {},
   "source": [
    "## 108. Convert Sorted Array to Binary Search Tree\n",
    "\n",
    "Given an array where elements are sorted in ascending order, convert it to a height balanced BST.\n",
    "\n",
    "https://discuss.leetcode.com/topic/10519/an-easy-python-solution"
   ]
  },
  {
   "cell_type": "code",
   "execution_count": 32,
   "metadata": {},
   "outputs": [],
   "source": [
    "class TreeNode:\n",
    "    \"\"\"Definition for a binary tree node.\"\"\"\n",
    "    def __init__(self, val):\n",
    "        self.val = val\n",
    "        self.left = None\n",
    "        self.right = None\n",
    "        \n",
    "\n",
    "def solution(nums):\n",
    "    \n",
    "    if not nums:\n",
    "        return None\n",
    "    \n",
    "    # find the root in the middle\n",
    "    # and recursively build the left and right tree\n",
    "    mid = len(nums) // 2\n",
    "    parent = TreeNode(nums[mid])\n",
    "    parent.left = solution(nums[:mid])\n",
    "    parent.right = solution(nums[(mid + 1):])\n",
    "    return parent"
   ]
  },
  {
   "cell_type": "code",
   "execution_count": 33,
   "metadata": {},
   "outputs": [
    {
     "data": {
      "text/plain": [
       "4"
      ]
     },
     "execution_count": 33,
     "metadata": {},
     "output_type": "execute_result"
    }
   ],
   "source": [
    "nums = [1, 2, 4, 5, 6]\n",
    "tree = solution(nums)\n",
    "tree.val"
   ]
  },
  {
   "cell_type": "markdown",
   "metadata": {},
   "source": [
    "## 121. Best Time to Buy and Sell Stock\n",
    "\n",
    "Say you have an array for which the ith element is the price of a given stock on day i.\n",
    "\n",
    "If you were only permitted to complete at most one transaction (ie, buy one and sell one share of the stock), design an algorithm to find the maximum profit.\n",
    "\n",
    "Example 1:\n",
    "\n",
    "Input: [7, 1, 5, 3, 6, 4] Output: 5\n",
    "\n",
    "max. difference = 6-1 = 5 (not 7-1 = 6, as selling price needs to be larger than buying price)\n",
    "\n",
    "Example 2:\n",
    "\n",
    "Input: [7, 6, 4, 3, 1] Output: 0\n",
    "\n",
    "In this case, no transaction is done, i.e. max profit = 0.\n",
    "\n",
    "https://leetcode.com/problems/best-time-to-buy-and-sell-stock/solution/"
   ]
  },
  {
   "cell_type": "code",
   "execution_count": 34,
   "metadata": {},
   "outputs": [],
   "source": [
    "import numpy as np\n",
    "\n",
    "\n",
    "def solution(prices):\n",
    "    # maximum integer\n",
    "    min_price = np.iinfo(np.int32).max\n",
    "    max_profit = 0\n",
    "    for price in prices:\n",
    "        # keep track of the minimum\n",
    "        min_price = min(min_price, price)\n",
    "        # compare if the buy and sell decision is better\n",
    "        # than the current baseline\n",
    "        max_profit = max(max_profit, price - min_price)\n",
    "\n",
    "    return max_profit"
   ]
  },
  {
   "cell_type": "code",
   "execution_count": 35,
   "metadata": {},
   "outputs": [
    {
     "data": {
      "text/plain": [
       "5"
      ]
     },
     "execution_count": 35,
     "metadata": {},
     "output_type": "execute_result"
    }
   ],
   "source": [
    "prices = [7, 1, 5, 3, 6, 4]\n",
    "solution(prices)"
   ]
  },
  {
   "cell_type": "markdown",
   "metadata": {},
   "source": [
    "## 121. Best Time to Buy and Sell Stock II\n",
    "\n",
    "Say you have an array for which the ith element is the price of a given stock on day i.\n",
    "\n",
    "Design an algorithm to find the maximum profit. You may complete as many transactions as you like (ie, buy one and sell one share of the stock multiple times). However, you may not engage in multiple transactions at the same time (ie, you must sell the stock before you buy again).\n",
    "\n",
    "https://leetcode.com/problems/best-time-to-buy-and-sell-stock-ii/solution/"
   ]
  },
  {
   "cell_type": "code",
   "execution_count": 36,
   "metadata": {},
   "outputs": [],
   "source": [
    "def solution(prices):\n",
    "    maxprofit = 0\n",
    "    for i in range(len(prices) - 1):\n",
    "        if prices[i + 1] > prices[i]:\n",
    "            maxprofit += (prices[i + 1] - prices[i])\n",
    "\n",
    "    return maxprofit"
   ]
  },
  {
   "cell_type": "code",
   "execution_count": 37,
   "metadata": {},
   "outputs": [
    {
     "data": {
      "text/plain": [
       "12"
      ]
     },
     "execution_count": 37,
     "metadata": {},
     "output_type": "execute_result"
    }
   ],
   "source": [
    "prices = [1, 7, 2, 3, 6, 7, 6, 7]\n",
    "solution(prices)"
   ]
  },
  {
   "cell_type": "markdown",
   "metadata": {},
   "source": [
    "## 155. Min Stack"
   ]
  },
  {
   "cell_type": "markdown",
   "metadata": {},
   "source": [
    "Design a stack that supports push, pop, top, and retrieving the minimum element in constant time.\n",
    "\n",
    "- push(x) -- Push element x onto stack.\n",
    "- pop() -- Removes the element on top of the stack.\n",
    "- top() -- Get the top element.\n",
    "- getMin() -- Retrieve the minimum element in the stack.\n",
    "\n",
    "Example:\n",
    "\n",
    "```java\n",
    "MinStack minStack = new MinStack();\n",
    "minStack.push(-2);\n",
    "minStack.push(0);\n",
    "minStack.push(-3);\n",
    "minStack.getMin();   --> Returns -3.\n",
    "minStack.pop();\n",
    "minStack.top();      --> Returns 0.\n",
    "minStack.getMin();   --> Returns -2.\n",
    "```"
   ]
  },
  {
   "cell_type": "code",
   "execution_count": 7,
   "metadata": {},
   "outputs": [],
   "source": [
    "class MinStack:\n",
    "\n",
    "    def __init__(self):\n",
    "        self.stack = []\n",
    "        self.min_stack = []\n",
    "\n",
    "    def push(self, item):\n",
    "        self.stack.append(item)\n",
    "        if not self.min_stack or item <= self.get_min():\n",
    "            self.min_stack.append(item)\n",
    "\n",
    "    def pop(self):\n",
    "        top_value = self.top()\n",
    "        if top_value == self.get_min():\n",
    "            self.min_stack.pop()\n",
    "\n",
    "        self.stack.pop()\n",
    "    \n",
    "    def top(self):\n",
    "        if self.stack:\n",
    "            return self.stack[-1]\n",
    "        else:\n",
    "            None\n",
    "\n",
    "    def get_min(self):\n",
    "        if self.min_stack:\n",
    "            return self.min_stack[-1]\n",
    "        else:\n",
    "            None"
   ]
  },
  {
   "cell_type": "code",
   "execution_count": 8,
   "metadata": {},
   "outputs": [
    {
     "name": "stdout",
     "output_type": "stream",
     "text": [
      "[-2, 0]\n",
      "[-2]\n"
     ]
    }
   ],
   "source": [
    "min_stack = MinStack()\n",
    "min_stack.push(-2)\n",
    "min_stack.push(0)\n",
    "min_stack.push(-3)\n",
    "assert min_stack.get_min() == -3\n",
    "min_stack.pop()\n",
    "\n",
    "assert min_stack.top() == 0\n",
    "assert min_stack.get_min() == -2\n",
    "\n",
    "print(min_stack.stack)\n",
    "print(min_stack.min_values)"
   ]
  },
  {
   "cell_type": "code",
   "execution_count": 12,
   "metadata": {},
   "outputs": [
    {
     "name": "stdout",
     "output_type": "stream",
     "text": [
      "[-2, 0, -2]\n",
      "[-2, -2]\n"
     ]
    }
   ],
   "source": [
    "min_stack = MinStack()\n",
    "min_stack.push(-2)\n",
    "min_stack.push(0)\n",
    "min_stack.push(-2)\n",
    "min_stack.push(-3)\n",
    "assert min_stack.get_min() == -3\n",
    "min_stack.pop()\n",
    "\n",
    "assert min_stack.top() == -2\n",
    "assert min_stack.get_min() == -2\n",
    "\n",
    "print(min_stack.stack)\n",
    "print(min_stack.min_values)"
   ]
  },
  {
   "cell_type": "code",
   "execution_count": 13,
   "metadata": {},
   "outputs": [
    {
     "name": "stdout",
     "output_type": "stream",
     "text": [
      "[-2, 0]\n",
      "[-2]\n"
     ]
    }
   ],
   "source": [
    "min_stack.pop()\n",
    "print(min_stack.stack)\n",
    "print(min_stack.min_values)"
   ]
  },
  {
   "cell_type": "markdown",
   "metadata": {},
   "source": [
    "```cpp\n",
    "class MinStack {\n",
    "public:\n",
    "    stack<int> mainStack;\n",
    "    stack<int> minStack;\n",
    "    \n",
    "    void push(int x) {\n",
    "        mainStack.push(x);\n",
    "        if (minStack.empty() || getMin() >= x) {\n",
    "            minStack.push(x);\n",
    "        }\n",
    "    }\n",
    "    \n",
    "    void pop() {\n",
    "        int topItems = top();\n",
    "        if (topItems == getMin()) {\n",
    "            minStack.pop();\n",
    "        }\n",
    "        mainStack.pop();\n",
    "    }\n",
    "    \n",
    "    int top() {\n",
    "        return mainStack.top();\n",
    "    }\n",
    "\n",
    "    int getMin() {\n",
    "        return minStack.top();\n",
    "    }\n",
    "};\n",
    "```"
   ]
  },
  {
   "cell_type": "markdown",
   "metadata": {},
   "source": [
    "## 167. Two Sum II - Input array is sorted"
   ]
  },
  {
   "cell_type": "markdown",
   "metadata": {},
   "source": [
    "Given an array of integers that is already sorted in ascending order, find two numbers such that they add up to a specific target number.\n",
    "\n",
    "The function twoSum should return indices of the two numbers such that they add up to the target, where index1 must be less than index2.\n",
    "\n",
    "Note:\n",
    "\n",
    "- Your returned answers (both index1 and index2) are not zero-based.\n",
    "- You may assume that each input would have exactly one solution and you may not use the same element twice.\n",
    "\n",
    "Example:\n",
    "\n",
    "- Input: numbers = [2,7,11,15], target = 9\n",
    "- Output: [1,2]\n",
    "- Explanation: The sum of 2 and 7 is 9. Therefore index1 = 1, index2 = 2.\n",
    "\n",
    "https://leetcode.com/problems/two-sum-ii-input-array-is-sorted/discuss/51249/Python-different-solutions-(two-pointer-dictionary-binary-search)."
   ]
  },
  {
   "cell_type": "code",
   "execution_count": 3,
   "metadata": {},
   "outputs": [],
   "source": [
    "def two_sum(numbers, target):\n",
    "    \"\"\"two pointers approach\"\"\"\n",
    "    left, right = 0, len(numbers) - 1\n",
    "    while left <= right:\n",
    "        summed = numbers[left] + numbers[right]\n",
    "        if summed == target:\n",
    "            return [left + 1, right + 1]\n",
    "        elif summed < target:\n",
    "            left += 1\n",
    "        elif summed > target:\n",
    "            right -= 1"
   ]
  },
  {
   "cell_type": "code",
   "execution_count": 4,
   "metadata": {},
   "outputs": [
    {
     "data": {
      "text/plain": [
       "[0, 1]"
      ]
     },
     "execution_count": 4,
     "metadata": {},
     "output_type": "execute_result"
    }
   ],
   "source": [
    "target = 9\n",
    "numbers = [2, 7, 11, 15]\n",
    "two_sum(numbers, target)"
   ]
  },
  {
   "cell_type": "markdown",
   "metadata": {},
   "source": [
    "## 169. Majority Element\n",
    "\n",
    "Given an array of size n, find the majority element. The majority element is the element that appears more than n/2 times.\n",
    "\n",
    "You may assume that the array is non-empty and the majority element always exist in the array.\n",
    "\n",
    "https://discuss.leetcode.com/topic/6251/c-solution-using-moore-s-voting-algorithm-o-n-runtime-comlexity-an-no-extra-array-or-hash-table"
   ]
  },
  {
   "cell_type": "code",
   "execution_count": 38,
   "metadata": {},
   "outputs": [],
   "source": [
    "def solution(nums):\n",
    "    \"\"\"\n",
    "    Moore's voting algorithm\n",
    "    Idea : we cancel out each occurrence of an element e\n",
    "    with all the element that are different from e, then\n",
    "    e's count will be positive if it's an majority element\n",
    "    \"\"\"\n",
    "    count = 1\n",
    "    ans = nums[0]\n",
    "    for i in range(1, len(nums)):\n",
    "        if count == 0:\n",
    "            ans = nums[i]\n",
    "            count = 1\n",
    "        elif ans == nums[i]:\n",
    "            count += 1\n",
    "        else:\n",
    "            count -= 1\n",
    "            \n",
    "    return ans"
   ]
  },
  {
   "cell_type": "code",
   "execution_count": 39,
   "metadata": {},
   "outputs": [
    {
     "data": {
      "text/plain": [
       "7"
      ]
     },
     "execution_count": 39,
     "metadata": {},
     "output_type": "execute_result"
    }
   ],
   "source": [
    "nums = [7, 7, 7, 5, 6, 5]\n",
    "solution(nums)"
   ]
  },
  {
   "cell_type": "markdown",
   "metadata": {},
   "source": [
    "## 198. House Robber\n",
    "\n",
    "You are a professional robber planning to rob houses along a street. Each house has a certain amount of money stashed, the only constraint stopping you from robbing each of them is that adjacent houses have security system connected and it will automatically contact the police if two adjacent houses were broken into on the same night.\n",
    "\n",
    "Given a list of non-negative integers representing the amount of money of each house, determine the maximum amount of money you can rob tonight without alerting the police.\n",
    "\n",
    "https://discuss.leetcode.com/topic/11082/java-o-n-solution-space-o-1"
   ]
  },
  {
   "cell_type": "code",
   "execution_count": 40,
   "metadata": {},
   "outputs": [],
   "source": [
    "def solution(nums):\n",
    "    # Keep track of whether or not\n",
    "    # we robbed the previous house\n",
    "    robbed = 0\n",
    "    didnt_rob = 0\n",
    "    for num in nums:\n",
    "        # if we don't rob the current house\n",
    "        # determine the max of robbing and not\n",
    "        # robbing the previous house\n",
    "        didnt_rob_current = max(robbed, didnt_rob)\n",
    "\n",
    "        # if we rob the current house add the value\n",
    "        # to what we've obtain from not robbing the\n",
    "        # the previous house\n",
    "        rob_current = didnt_rob + num\n",
    "        robbed = rob_current\n",
    "        didnt_rob = didnt_rob_current\n",
    "\n",
    "    return max(robbed, didnt_rob)"
   ]
  },
  {
   "cell_type": "code",
   "execution_count": 41,
   "metadata": {},
   "outputs": [
    {
     "data": {
      "text/plain": [
       "30"
      ]
     },
     "execution_count": 41,
     "metadata": {},
     "output_type": "execute_result"
    }
   ],
   "source": [
    "nums = [1, 3, 4, 19, 11, 5, 8]\n",
    "solution(nums)"
   ]
  },
  {
   "cell_type": "markdown",
   "metadata": {},
   "source": [
    "## 200. Number of Islands\n",
    "\n",
    "Given a 2d grid map of '1's (land) and '0's (water), count the number of islands. An island is surrounded by water and is formed by connecting adjacent lands horizontally or vertically. You may assume all four edges of the grid are all surrounded by water.\n",
    "\n",
    "Example 1:\n",
    "```\n",
    "11110\n",
    "11010\n",
    "11000\n",
    "00000\n",
    "```\n",
    "Answer: 1\n",
    "\n",
    "Example 2:\n",
    "```\n",
    "11000\n",
    "11000\n",
    "00100\n",
    "00011\n",
    "```\n",
    "Answer: 3\n",
    "\n",
    "- https://discuss.leetcode.com/topic/16749/7-lines-python-14-lines-java\n",
    "- https://discuss.leetcode.com/topic/13248/very-concise-java-ac-solution"
   ]
  },
  {
   "cell_type": "code",
   "execution_count": 42,
   "metadata": {},
   "outputs": [],
   "source": [
    "def solution(grid):\n",
    "    # handle edge case of empty list\n",
    "    if not len(grid):\n",
    "        return 0\n",
    "\n",
    "    ans = 0\n",
    "    m = len(grid)\n",
    "    n = len(grid[0])\n",
    "    visited = [[False for _ in range(n)] for _ in range(m)]\n",
    "\n",
    "    def dfs(grid, i, j, visited):\n",
    "        # ensure index is within boundary\n",
    "        if i < 0 or i >= m or j < 0 or j >= n or grid[i][j] == '0' or visited[i][j]:\n",
    "            return False\n",
    "\n",
    "        visited[i][j] = True\n",
    "        for di, dj in [(-1, 0), (1, 0), (0, 1), (0, -1)]:\n",
    "            newi, newj = i + di, j + dj\n",
    "            dfs(grid, newi, newj, visited)\n",
    "\n",
    "        return True\n",
    "\n",
    "    for i in range(m):\n",
    "        for j in range(n):\n",
    "            if dfs(grid, i, j, visited):\n",
    "                ans += 1\n",
    "    return ans"
   ]
  },
  {
   "cell_type": "markdown",
   "metadata": {},
   "source": [
    "## 203. Remove Linked List Elements\n",
    "\n",
    "Remove all elements from a linked list of integers that have value val.\n",
    "\n",
    "Example\n",
    "Given: 1 --> 2 --> 6 --> 3 --> 4 --> 5 --> 6, val = 6\n",
    "\n",
    "Return: 1 --> 2 --> 3 --> 4 --> 5\n",
    "\n",
    "https://discuss.leetcode.com/topic/12725/ac-java-solution/9"
   ]
  },
  {
   "cell_type": "code",
   "execution_count": 43,
   "metadata": {},
   "outputs": [],
   "source": [
    "class ListNode:\n",
    "    \"\"\"Definition for singly-linked list.\"\"\"\n",
    "    def __init__(self, x):\n",
    "        self.val = x\n",
    "        self.next = None\n",
    "\n",
    "\n",
    "def solution(head, val):\n",
    "    # create a dummy node\n",
    "    dummy = ListNode(-1)\n",
    "    dummy.next = head\n",
    "    node = dummy\n",
    "    while node.next is not None:\n",
    "        # remove the link if the value matches,\n",
    "        # or else increment the position of the linked list\n",
    "        if node.next.val == val:\n",
    "            node.next = node.next.next\n",
    "        else:\n",
    "            node = node.next\n",
    "    \n",
    "    # return the position of the original head\n",
    "    return dummy.next"
   ]
  },
  {
   "cell_type": "markdown",
   "metadata": {},
   "source": [
    "## 206. Reverse Linked List\n",
    "\n",
    "Reverse a singly linked list.\n",
    "\n",
    "https://leetcode.com/problems/reverse-linked-list/solution/"
   ]
  },
  {
   "cell_type": "code",
   "execution_count": 44,
   "metadata": {},
   "outputs": [],
   "source": [
    "class ListNode:\n",
    "    \"\"\"Definition for singly-linked list.\"\"\"\n",
    "    def __init__(self, x):\n",
    "        self.val = x\n",
    "        self.next = None\n",
    "        \n",
    "\n",
    "def solution(head):\n",
    "    prev = None\n",
    "    curr = head\n",
    "    while curr is not None:\n",
    "        # change the current node's next pointer to\n",
    "        # point to its previous element\n",
    "        temp = curr.next\n",
    "        curr.next = prev\n",
    "        prev = curr\n",
    "        curr = temp\n",
    "\n",
    "    return prev"
   ]
  },
  {
   "cell_type": "markdown",
   "metadata": {
    "collapsed": true
   },
   "source": [
    "## 207. Course Schedule\n",
    "\n",
    "There are a total of n courses you have to take, labeled from 0 to n - 1.\n",
    "\n",
    "Some courses may have prerequisites, for example to take course 0 you have to first take course 1, which is expressed as a pair: [0,1]\n",
    "\n",
    "Given the total number of courses and a list of prerequisite pairs, is it possible for you to finish all courses?\n",
    "\n",
    "For example: \n",
    "\n",
    "2, [[1,0]] There are a total of 2 courses to take. To take course 1 you should have finished course 0. So it is possible.\n",
    "\n",
    "2, [[1,0],[0,1]] There are a total of 2 courses to take. To take course 1 you should have finished course 0, and to take course 0 you should also have finished course 1. So it is impossible.\n",
    "\n",
    "Note:\n",
    "\n",
    "The input prerequisites is a graph represented by a list of edges, not adjacency matrices. Read more about how a graph is represented. You may assume that there are no duplicate edges in the input prerequisites.\n",
    "\n",
    "click to show more hints.\n",
    "\n",
    "Hints:\n",
    "\n",
    "This problem is equivalent to finding if a cycle exists in a directed graph. If a cycle exists, no topological ordering exists and therefore it will be impossible to take all courses.\n",
    "\n",
    "---\n",
    "\n",
    "It's best to walk through the explanation in the first link before looking at the solution.\n",
    "\n",
    "- https://www.embeddedrelated.com/showarticle/799.php\n",
    "- https://discuss.leetcode.com/topic/44747/my-c-solution-23ms-beats-100-submissions/2\n",
    "- https://discuss.leetcode.com/topic/17273/18-22-lines-c-bfs-dfs-solutions"
   ]
  },
  {
   "cell_type": "code",
   "execution_count": 45,
   "metadata": {},
   "outputs": [],
   "source": [
    "from collections import defaultdict\n",
    "\n",
    "\n",
    "def solution(num_courses, prerequisites):\n",
    "    # convert the input pair to adjacent list format\n",
    "    # prerequisite's edge presentation\n",
    "    # e.g. 0 : set{[1]}, means course 0 is\n",
    "    # a prerequisite for course 1\n",
    "    graph = defaultdict(set)\n",
    "    for i, j in prerequisites:\n",
    "        graph[j].add(i)\n",
    "    \n",
    "    # compute indegree\n",
    "    indegree = [0] * num_courses\n",
    "    for _, neighbors in graph.items():\n",
    "        for neigh in neighbors:\n",
    "            indegree[neigh] += 1\n",
    "\n",
    "    # all nodes with indegree of 0 are considered the initial pending set\n",
    "    stack = [node for node in range(num_courses) if not indegree[node]]\n",
    "    counter = 0\n",
    "    while stack:\n",
    "        counter += 1\n",
    "        node = stack.pop()\n",
    "        for neigh in graph[node]:\n",
    "            # decrement neighbors' indegree\n",
    "            # if the indegree is 0 add it to the pending set\n",
    "            indegree[neigh] -= 1\n",
    "            if not indegree[neigh]:\n",
    "                stack.append(neigh)\n",
    "\n",
    "    return counter == num_courses"
   ]
  },
  {
   "cell_type": "code",
   "execution_count": 46,
   "metadata": {},
   "outputs": [
    {
     "data": {
      "text/plain": [
       "True"
      ]
     },
     "execution_count": 46,
     "metadata": {},
     "output_type": "execute_result"
    }
   ],
   "source": [
    "# to take course 1 you have to take course 0,\n",
    "# thus the edge representation would be 0 -> 1\n",
    "prerequisites = [[1, 0]]\n",
    "num_courses = 2\n",
    "solution(num_courses, prerequisites)"
   ]
  },
  {
   "cell_type": "markdown",
   "metadata": {},
   "source": [
    "## 215. kth-largest Element in an Array"
   ]
  },
  {
   "cell_type": "markdown",
   "metadata": {},
   "source": [
    "Find the kth largest element in an unsorted array. Note that it is the kth largest element in the sorted order, not the kth distinct element.\n",
    "\n",
    "For example, Given [3,2,1,5,6,4] and k = 2, return 5.\n",
    "\n",
    "Note: You may assume k is always valid, 1 ≤ k ≤ array's length.\n",
    "\n",
    "- https://discuss.leetcode.com/topic/14597/solution-explained\n",
    "- https://discuss.leetcode.com/topic/15256/4-c-solutions-using-partition-max-heap-priority_queue-and-multiset-respectively"
   ]
  },
  {
   "cell_type": "code",
   "execution_count": 47,
   "metadata": {},
   "outputs": [
    {
     "data": {
      "text/plain": [
       "5"
      ]
     },
     "execution_count": 47,
     "metadata": {},
     "output_type": "execute_result"
    }
   ],
   "source": [
    "def solution1(nums, k):\n",
    "    \"\"\"\n",
    "    The simplest approach is to sort the entire\n",
    "    input array and then access the element by it's index\n",
    "    \"\"\"\n",
    "    length = len(nums)\n",
    "    return sorted(nums)[length - k]\n",
    "\n",
    "\n",
    "k = 2\n",
    "nums = [3, 2, 1, 5, 6, 4]\n",
    "solution1(nums, k)"
   ]
  },
  {
   "cell_type": "markdown",
   "metadata": {},
   "source": [
    "The smarter approach for this problem is to use the selection algorithm (based on the partion method - the same one as used in quicksort).\n",
    "\n",
    "In [quicksort](http://interactivepython.org/runestone/static/pythonds/SortSearch/TheQuickSort.html), in each iteration, we need to select a pivot and then partition the array into three parts:\n",
    "\n",
    "- Elements smaller than the pivot;\n",
    "- Elements equal to the pivot;\n",
    "- Elements larger than the pivot.\n",
    "\n",
    "Now, let's do an example with the array `[3, 2, 1, 5, 4, 6]` in the problem statement. Let's assume in each time we select the leftmost element to be the pivot, in this case, `3`. We then use it to partition the array into the above 3 parts, which results in `[1, 2, 3, 5, 4, 6]`. Now `3` is in the third position and we know that it is the third smallest element. Now, do you recognize that this subroutine can be used to solve this problem?\n",
    "\n",
    "In fact, the above partition puts elements smaller than the pivot before the pivot and thus the pivot will then be the k-th smallest element if it is at the k-1-th position. Since the problem requires us to find the k-th largest element, we can simply modify the partition to put elements larger than the pivot before the pivot. That is, after partition, the array becomes `[5, 6, 4, 3, 1, 2]`. Now we know that 3 is the 4-th largest element. If we are asked to find the 2-th largest element, then we know it is left to 3. If we are asked to find the 5-th largest element, then we know it is right to 3 (changing whether the numbers is on the left side of the pivot or right side is optional).\n",
    "\n",
    "Psuedocode:\n",
    "\n",
    "- Initialize left to be 0 and right to be (size of array - 1);\n",
    "- Partition the array, if the pivot is at the k-1-th position, return it (we are done);\n",
    "- If the pivot is right to the k-1-th position, update right to be the left neighbor of the pivot;\n",
    "- Else update left to be the right neighbor of the pivot.\n",
    "- Repeat 2."
   ]
  },
  {
   "cell_type": "code",
   "execution_count": 48,
   "metadata": {},
   "outputs": [],
   "source": [
    "def _partition(nums, left, right):\n",
    "    \"\"\"one iteration of quicksort\"\"\"\n",
    "\n",
    "    # store the pivot point's position to\n",
    "    # perform the final swapping at the end\n",
    "    initial = left\n",
    "    pivot = nums[left]\n",
    "    left += 1\n",
    "    while left <= right:\n",
    "        if nums[left] < pivot and nums[right] > pivot:\n",
    "            nums[right], nums[left] = nums[left], nums[right]\n",
    "\n",
    "        if nums[left] >= pivot:\n",
    "            left += 1\n",
    "\n",
    "        if nums[right] <= pivot:\n",
    "            right -= 1  \n",
    "\n",
    "    nums[right], nums[initial] = nums[initial], nums[right]\n",
    "    return right\n",
    "\n",
    "\n",
    "def solution(nums, k):\n",
    "    \"\"\"\n",
    "    The smarter approach for this problem is to use the \n",
    "    selection algorithm (based on the partion method - the\n",
    "    same one as used in quicksort).\n",
    "    \"\"\"\n",
    "    left = 0\n",
    "    right = len(nums) - 1\n",
    "    while True:\n",
    "        pos = _partition(nums, left, right)\n",
    "        # kth largest element should be in the k-1-th position\n",
    "        if pos == k - 1:\n",
    "            return nums[pos]\n",
    "        elif pos > k - 1:\n",
    "            right = pos - 1\n",
    "        else:\n",
    "            left = pos + 1"
   ]
  },
  {
   "cell_type": "code",
   "execution_count": 49,
   "metadata": {},
   "outputs": [
    {
     "data": {
      "text/plain": [
       "5"
      ]
     },
     "execution_count": 49,
     "metadata": {},
     "output_type": "execute_result"
    }
   ],
   "source": [
    "k = 2\n",
    "nums = [3, 2, 1, 5, 6, 4]\n",
    "solution(nums, k)"
   ]
  },
  {
   "cell_type": "markdown",
   "metadata": {},
   "source": [
    "## 217. Contains Duplicate\n",
    "\n",
    "Given an array of integers, find if the array contains any duplicates. Your function should return true if any value appears at least twice in the array, and it should return false if every element is distinct.\n",
    "\n",
    "https://leetcode.com/problems/contains-duplicate/solution/"
   ]
  },
  {
   "cell_type": "code",
   "execution_count": 50,
   "metadata": {},
   "outputs": [],
   "source": [
    "def solution(nums):\n",
    "    nums_set = set()\n",
    "    for num in nums:\n",
    "        if num in nums_set:\n",
    "            return True\n",
    "\n",
    "        nums_set.add(num)\n",
    "\n",
    "    return False"
   ]
  },
  {
   "cell_type": "code",
   "execution_count": 51,
   "metadata": {},
   "outputs": [
    {
     "data": {
      "text/plain": [
       "True"
      ]
     },
     "execution_count": 51,
     "metadata": {},
     "output_type": "execute_result"
    }
   ],
   "source": [
    "nums = [3, 3, 1, 2]\n",
    "solution(nums)"
   ]
  },
  {
   "cell_type": "markdown",
   "metadata": {},
   "source": [
    "## 230. Kth Smallest Element in a BST\n",
    "\n",
    "Given a binary search tree, write a function kthSmallest to find the kth smallest element in it.\n",
    "\n",
    "Note: \n",
    "You may assume k is always valid, 1 ≤ k ≤ BST's total elements."
   ]
  },
  {
   "cell_type": "code",
   "execution_count": 52,
   "metadata": {},
   "outputs": [],
   "source": [
    "class TreeNode:\n",
    "    \"\"\"Definition for a binary tree node.\"\"\"\n",
    "    def __init__(self, x):\n",
    "        self.val = x\n",
    "        self.left = None\n",
    "        self.right = None\n",
    "        \n",
    "def solution(root, k):\n",
    "    \"\"\"similar idea to 094. Binary Tree Inorder Traversal\"\"\"\n",
    "    stack = []\n",
    "    curr = root\n",
    "    while curr is not None or stack:\n",
    "        while curr is not None:\n",
    "            stack.append(curr)\n",
    "            curr = curr.left\n",
    "\n",
    "        curr = stack.pop()\n",
    "        k -= 1\n",
    "        if not k:\n",
    "            return curr.val\n",
    "\n",
    "        curr = curr.right"
   ]
  },
  {
   "cell_type": "markdown",
   "metadata": {},
   "source": [
    "## 242. Valid Anagram"
   ]
  },
  {
   "cell_type": "markdown",
   "metadata": {},
   "source": [
    "Given two strings s and t, write a function to determine if t is an anagram of s.\n",
    "\n",
    "For example,\n",
    "s = \"anagram\", t = \"nagaram\", return true.\n",
    "s = \"rat\", t = \"car\", return false.\n",
    "\n",
    "Note:\n",
    "You may assume the string contains only lowercase alphabets.\n",
    "\n",
    "https://leetcode.com/problems/valid-anagram/discuss/"
   ]
  },
  {
   "cell_type": "code",
   "execution_count": 53,
   "metadata": {},
   "outputs": [],
   "source": [
    "def solution(s, t):\n",
    "    \"\"\"\n",
    "    use an array that holds the number of occurrences\n",
    "    for each character. Then for each letter in s, it\n",
    "    increases the counter by 1 while for each letter in t,\n",
    "    it decreases the counter by 1. Finally, all the counters\n",
    "    will be 0 if they two are anagrams of each other.\n",
    "    \"\"\"\n",
    "    if len(s) != len(t):\n",
    "        return False\n",
    "    else:\n",
    "        start = ord('a')\n",
    "        counts = [0] * 26\n",
    "        for i in range(len(s)):\n",
    "            counts[ord(s[i]) - start] += 1\n",
    "            counts[ord(t[i]) - start] -= 1\n",
    "\n",
    "        for count in counts:\n",
    "            if count:\n",
    "                return False\n",
    "\n",
    "        return True"
   ]
  },
  {
   "cell_type": "code",
   "execution_count": 54,
   "metadata": {},
   "outputs": [],
   "source": [
    "def solution(s, t):\n",
    "    \"\"\"alternative, slightly faster solution\"\"\"\n",
    "    if len(s) != len(t):\n",
    "        return False\n",
    "    else: \n",
    "        letters = 'abcdefghijklmnopqrstuvwxyz'\n",
    "        for letter in letters:\n",
    "            if s.count(letter) != t.count(letter):\n",
    "                return False\n",
    "        \n",
    "        return True"
   ]
  },
  {
   "cell_type": "code",
   "execution_count": 55,
   "metadata": {},
   "outputs": [
    {
     "data": {
      "text/plain": [
       "True"
      ]
     },
     "execution_count": 55,
     "metadata": {},
     "output_type": "execute_result"
    }
   ],
   "source": [
    "s = 'anagram'\n",
    "t = 'nagaram'\n",
    "solution(s, t)"
   ]
  },
  {
   "cell_type": "markdown",
   "metadata": {},
   "source": [
    "## 283. Move Zeroes\n",
    "\n",
    "Given an array nums, write a function to move all 0's to the end of it while maintaining the relative order of the non-zero elements.\n",
    "\n",
    "For example, given nums = [0, 1, 0, 3, 12], after calling your function, nums should be [1, 3, 12, 0, 0].\n",
    "\n",
    "Note:\n",
    "You must do this in-place without making a copy of the array.\n",
    "Minimize the total number of operations.\n",
    "\n",
    "\n",
    "https://leetcode.com/problems/move-zeroes/solution/"
   ]
  },
  {
   "cell_type": "code",
   "execution_count": 56,
   "metadata": {},
   "outputs": [],
   "source": [
    "def solution(nums):\n",
    "    \"\"\"\n",
    "    A two pointers problem, we keep a slower pointer\n",
    "    non_zero_index to denote the position of the last\n",
    "    non 0 element, then when we encounter a non 0 element\n",
    "    we swap the element of the current position and\n",
    "    the element at the position non_zero_index, and when\n",
    "    we perform the swap, we also increment the non_zero_index\n",
    "    to advance the position of the last non 0 element\n",
    "    \"\"\"\n",
    "    non_zero_index = 0\n",
    "    for i in range(len(nums)):\n",
    "        if nums[i] != 0:\n",
    "            nums[non_zero_index], nums[i] = nums[i], nums[non_zero_index]\n",
    "            non_zero_index += 1"
   ]
  },
  {
   "cell_type": "code",
   "execution_count": 57,
   "metadata": {},
   "outputs": [
    {
     "data": {
      "text/plain": [
       "[1, 3, 12, 0, 0]"
      ]
     },
     "execution_count": 57,
     "metadata": {},
     "output_type": "execute_result"
    }
   ],
   "source": [
    "nums = [0, 1, 0, 3, 12]\n",
    "solution(nums)\n",
    "nums"
   ]
  },
  {
   "cell_type": "markdown",
   "metadata": {},
   "source": [
    "## 289. Game of Life\n",
    "\n",
    "According to the [Wikipedia's](https://en.wikipedia.org/wiki/Conway%27s_Game_of_Life) article: \"The Game of Life, also known simply as Life, is a cellular automaton devised by the British mathematician John Horton Conway in 1970.\"\n",
    "\n",
    "Given a board with m by n cells, each cell has an initial state live (1) or dead (0). Each cell interacts with its eight neighbors (horizontal, vertical, diagonal) using the following four rules (taken from the above Wikipedia article):\n",
    "\n",
    "- Any live cell with fewer than two live neighbors dies, as if caused by under-population.\n",
    "- Any live cell with two or three live neighbors lives on to the next generation.\n",
    "- Any live cell with more than three live neighbors dies, as if by over-population..\n",
    "- Any dead cell with exactly three live neighbors becomes a live cell, as if by reproduction.\n",
    "\n",
    "Write a function to compute the next state (after one update) of the board given its current state.\n",
    "\n",
    "https://discuss.leetcode.com/topic/29054/easiest-java-solution-with-explanation"
   ]
  },
  {
   "cell_type": "code",
   "execution_count": 58,
   "metadata": {},
   "outputs": [],
   "source": [
    "def solution(board):\n",
    "    \"\"\"Use 2 bits to represent live or dead cells\"\"\"\n",
    "    if board is None or not len(board):\n",
    "        return None\n",
    "\n",
    "    def helper(board, i, j):\n",
    "        n_lives = 0\n",
    "        for row in range(i - 1, i + 2):\n",
    "            for col in range(j - 1, j + 2):\n",
    "                # exclude the current cell\n",
    "                # from the total of live cell calculation\n",
    "                if i == row and j == col:\n",
    "                    continue\n",
    "                    \n",
    "                # check for boundary to ensure the coordinates\n",
    "                # will never be off the board and add 1 to the final\n",
    "                # live cell count if the current cell is alive\n",
    "                if 0 <= row < m and 0 <= col < n and board[row][col] & 1:\n",
    "                    n_lives += 1\n",
    "        \n",
    "        # 1. live cells with 2 or 3 live neighbors lives on\n",
    "        # 2. dead cells with 3 live neighbors becomes a live cell\n",
    "        if n_lives == 3 or (board[i][j] == 1 and n_lives == 2):\n",
    "            board[i][j] |= 2\n",
    "\n",
    "    m = len(board)\n",
    "    n = len(board[0])\n",
    "    for i in range(m):\n",
    "        for j in range(n):\n",
    "            helper(board, i, j)\n",
    "    \n",
    "    # refresh the value with only the value of the next state\n",
    "    for i in range(m):\n",
    "        for j in range(n):\n",
    "            board[i][j] >>= 1"
   ]
  },
  {
   "cell_type": "code",
   "execution_count": 59,
   "metadata": {},
   "outputs": [
    {
     "name": "stdout",
     "output_type": "stream",
     "text": [
      "[[1, 1], [1, 1]]\n"
     ]
    }
   ],
   "source": [
    "board = [[1, 1], [1, 0]]\n",
    "solution(board)\n",
    "print(board)"
   ]
  },
  {
   "cell_type": "markdown",
   "metadata": {},
   "source": [
    "##  347. Top K Frequent Elements"
   ]
  },
  {
   "cell_type": "markdown",
   "metadata": {},
   "source": [
    "Given a non-empty array of integers, return the k most frequent elements.\n",
    "\n",
    "For example,\n",
    "Given [1,1,1,2,2,3] and k = 2, return [1,2].\n",
    "\n",
    "Note: \n",
    "You may assume k is always valid, 1 ≤ k ≤ number of unique elements.\n",
    "Your algorithm's time complexity must be better than O(n log n), where n is the array's size.\n",
    "\n",
    "https://leetcode.com/problems/top-k-frequent-elements/discuss/"
   ]
  },
  {
   "cell_type": "code",
   "execution_count": 60,
   "metadata": {},
   "outputs": [],
   "source": [
    "from collections import Counter\n",
    "\n",
    "\n",
    "def solution(nums, k):\n",
    "    \"\"\"\n",
    "    1. build a counter map that maps a num to its frequency\n",
    "    2. build a heap/priority queue that keeps track of k most significant entries\n",
    "    3. iterate through the final heap and get the keys\n",
    "    runtime : O(nlogk)\n",
    "    \"\"\"\n",
    "    result = [k for k, _ in Counter(nums).most_common(k)]\n",
    "    return result"
   ]
  },
  {
   "cell_type": "code",
   "execution_count": 61,
   "metadata": {},
   "outputs": [],
   "source": [
    "import heapq\n",
    "from collections import defaultdict\n",
    "\n",
    "\n",
    "def solution(nums, k):\n",
    "    \"\"\"\n",
    "    alternative implementation, note that python\n",
    "    Counter.most_common also uses heapq underneath the hood\n",
    "    \"\"\"\n",
    "    counts = defaultdict(int)\n",
    "    for num in nums:\n",
    "        counts[num] += 1\n",
    "        \n",
    "    heap = []\n",
    "    for num, count in counts.items():\n",
    "        if len(heap) < k:\n",
    "            heapq.heappush(heap, (count, num))\n",
    "        else:\n",
    "            # we only need to top-k elements, ensure\n",
    "            # the size of the heap stays at k\n",
    "            heapq.heappushpop(heap, (count, num))\n",
    "\n",
    "    # heapq pops in ascending order,\n",
    "    # reverse the resulting list in the end\n",
    "    result = []\n",
    "    while heap:\n",
    "        _, num = heapq.heappop(heap)\n",
    "        result.append(num)\n",
    "    \n",
    "    return result[::-1]"
   ]
  },
  {
   "cell_type": "code",
   "execution_count": 62,
   "metadata": {},
   "outputs": [
    {
     "data": {
      "text/plain": [
       "[1, 2]"
      ]
     },
     "execution_count": 62,
     "metadata": {},
     "output_type": "execute_result"
    }
   ],
   "source": [
    "k = 2\n",
    "nums = [1, 1, 1, 2, 2, 3]\n",
    "solution(nums, k)"
   ]
  },
  {
   "cell_type": "markdown",
   "metadata": {},
   "source": [
    "## 350. Intersection of Two Arrays II"
   ]
  },
  {
   "cell_type": "markdown",
   "metadata": {},
   "source": [
    "Given two arrays, write a function to compute their intersection.\n",
    "\n",
    "Example:\n",
    "Given nums1 = [1, 2, 2, 1], nums2 = [2, 2], return [2, 2].\n",
    "\n",
    "Note:\n",
    "Each element in the result should appear as many times as it shows in both arrays.\n",
    "The result can be in any order.\n",
    "\n",
    "https://leetcode.com/problems/intersection-of-two-arrays-ii/discuss/"
   ]
  },
  {
   "cell_type": "code",
   "execution_count": 63,
   "metadata": {},
   "outputs": [],
   "source": [
    "from collections import Counter\n",
    "\n",
    "\n",
    "def solution(nums1, nums2):\n",
    "    # intersect (&) of two Counters and use\n",
    "    # its elements() method, which returns an iterator\n",
    "    # that produces all of the items known to the Counter\n",
    "    c1 = Counter(nums1)\n",
    "    c2 = Counter(nums2)\n",
    "    return list((c1 & c2).elements())"
   ]
  },
  {
   "cell_type": "code",
   "execution_count": 64,
   "metadata": {},
   "outputs": [],
   "source": [
    "def solution(nums1, nums2):\n",
    "    \"\"\"Time: O(m + n) Space: O(m)\"\"\"\n",
    "    count = {}\n",
    "    for n in nums1:\n",
    "        count[n] = count.get(n, 0) + 1\n",
    "\n",
    "    ans = []\n",
    "    for n in nums2:\n",
    "        if n in count and count[n] != 0:\n",
    "            ans.append(n)\n",
    "            count[n] -= 1\n",
    "\n",
    "    return ans"
   ]
  },
  {
   "cell_type": "code",
   "execution_count": 65,
   "metadata": {},
   "outputs": [
    {
     "data": {
      "text/plain": [
       "[2, 2]"
      ]
     },
     "execution_count": 65,
     "metadata": {},
     "output_type": "execute_result"
    }
   ],
   "source": [
    "nums1 = [1, 2, 2, 1]\n",
    "nums2 = [2, 2]\n",
    "solution(nums1, nums2)"
   ]
  },
  {
   "cell_type": "markdown",
   "metadata": {},
   "source": [
    "## 448. Find All Numbers Disappeared in an Array"
   ]
  },
  {
   "cell_type": "markdown",
   "metadata": {},
   "source": [
    "Given an array of integers where 1 ≤ a[i] ≤ n (n = size of array), some elements appear twice and others appear once.\n",
    "\n",
    "Find all the elements of [1, n] inclusive that do not appear in this array.\n",
    "\n",
    "Could you do it without extra space and in O(n) runtime? You may assume the returned list does not count as extra space.\n",
    "\n",
    "https://leetcode.com/problems/find-all-numbers-disappeared-in-an-array/discuss/"
   ]
  },
  {
   "cell_type": "code",
   "execution_count": 66,
   "metadata": {},
   "outputs": [],
   "source": [
    "def solution(nums):\n",
    "    \"\"\"\n",
    "    first iteration negates the value at position that is\n",
    "    equal to the current element; the second iteration appends\n",
    "    position whose number remains positive, which indicates\n",
    "    the missing values\n",
    "    \"\"\"\n",
    "    for num in nums:\n",
    "        index = abs(num) - 1\n",
    "        if nums[index] > 0:\n",
    "            nums[index] = -nums[index]\n",
    "\n",
    "    ans = []\n",
    "    for i, num in enumerate(nums):\n",
    "        if num > 0:\n",
    "            ans.append(i + 1)\n",
    "\n",
    "    return ans"
   ]
  },
  {
   "cell_type": "code",
   "execution_count": 67,
   "metadata": {},
   "outputs": [
    {
     "data": {
      "text/plain": [
       "[5, 6]"
      ]
     },
     "execution_count": 67,
     "metadata": {},
     "output_type": "execute_result"
    }
   ],
   "source": [
    "nums = [4, 3, 2, 7, 8, 2, 3, 1]\n",
    "solution(nums)"
   ]
  },
  {
   "cell_type": "markdown",
   "metadata": {},
   "source": [
    "## 502 IPO"
   ]
  },
  {
   "cell_type": "markdown",
   "metadata": {},
   "source": [
    "Suppose LeetCode will start its IPO soon. In order to sell a good price of its shares to Venture Capital, LeetCode would like to work on some projects to increase its capital before the IPO. Since it has limited resources, it can only finish at most k distinct projects before the IPO. Help LeetCode design the best way to maximize its total capital after finishing at most k distinct projects.\n",
    "\n",
    "You are given several projects. For each project i, it has a pure profit Pi and a minimum capital of Ci is needed to start the corresponding project. Initially, you have W capital. When you finish a project, you will obtain its pure profit and the profit will be added to your total capital.\n",
    "\n",
    "To sum up, pick a list of at most k distinct projects from given projects to maximize your final capital, and output your final maximized capital.\n",
    "\n",
    "Example 1:\n",
    "\n",
    "- Input: k=2, W=0, Profits=[1,2,3], Capital=[0,1,1].\n",
    "- Output: 4\n",
    "- Explanation: Since your initial capital is 0, you can only start the project indexed 0. After finishing it you will obtain profit 1 and your capital becomes 1. With capital 1, you can either start the project indexed 1 or the project indexed 2. Since you can choose at most 2 projects, you need to finish the project indexed 2 to get the maximum capital. Therefore, output the final maximized capital, which is 0 + 1 + 3 = 4.\n",
    "\n",
    "https://leetcode.com/problems/ipo/discuss/98216/Python-solution-by-priority-queue-with-explanation"
   ]
  },
  {
   "cell_type": "code",
   "execution_count": 8,
   "metadata": {},
   "outputs": [],
   "source": [
    "import heapq\n",
    "\n",
    "\n",
    "def solution(k, w, profits, capital):\n",
    "    \"\"\"\n",
    "    Loop k times:\n",
    "    Add all possible projects (Capital <= W) into the priority queue with the priority = -Profit.\n",
    "    Get the project with the smallest priority (biggest Profit).\n",
    "    \"\"\"\n",
    "    projects = sorted(zip(capital, profits))\n",
    "\n",
    "    i = 0\n",
    "    answer = []\n",
    "    for _ in range(k):\n",
    "        while i < len(projects) and projects[i][0] <= w:\n",
    "            heapq.heappush(answer, -projects[i][1])\n",
    "            i += 1\n",
    "\n",
    "        if answer:\n",
    "            w -= heapq.heappop(answer)\n",
    "\n",
    "    return w"
   ]
  },
  {
   "cell_type": "code",
   "execution_count": 9,
   "metadata": {},
   "outputs": [
    {
     "data": {
      "text/plain": [
       "4"
      ]
     },
     "execution_count": 9,
     "metadata": {},
     "output_type": "execute_result"
    }
   ],
   "source": [
    "Profits = [1, 2, 3]\n",
    "Capital = [0, 1, 1]\n",
    "W = 0\n",
    "k = 2\n",
    "solution(k, W, Profits, Capital)"
   ]
  },
  {
   "cell_type": "markdown",
   "metadata": {},
   "source": [
    "## 682. Baseball Game\n",
    "\n",
    "You're now a baseball game point recorder.\n",
    "\n",
    "Given a list of strings, each string can be one of the 4 following types:\n",
    "\n",
    "- Integer (one round's score): Directly represents the number of points you get in this round.\n",
    "- \"+\" (one round's score): Represents that the points you get in this round are the sum of the last two valid round's points.\n",
    "- \"D\" (one round's score): Represents that the points you get in this round are the doubled data of the last valid round's points.\n",
    "- \"C\" (an operation, which isn't a round's score): Represents the last valid round's points you get were invalid and should be removed.\n",
    "Each round's operation is permanent and could have an impact on the round before and the round after.\n",
    "\n",
    "You need to return the sum of the points you could get in all the rounds.\n",
    "```\n",
    "Example 1:\n",
    "Input: [\"5\",\"2\",\"C\",\"D\",\"+\"]\n",
    "Output: 30\n",
    "Explanation: \n",
    "Round 1: You could get 5 points. The sum is: 5.\n",
    "Round 2: You could get 2 points. The sum is: 7.\n",
    "Operation 1: The round 2's data was invalid. The sum is: 5.  \n",
    "Round 3: You could get 10 points (the round 2's data has been removed). The sum is: 15.\n",
    "Round 4: You could get 5 + 10 = 15 points. The sum is: 30.\n",
    "\n",
    "```\n",
    "\n",
    "```\n",
    "Example 2:\n",
    "Input: [\"5\",\"-2\",\"4\",\"C\",\"D\",\"9\",\"+\",\"+\"]\n",
    "Output: 27\n",
    "Explanation: \n",
    "Round 1: You could get 5 points. The sum is: 5.\n",
    "Round 2: You could get -2 points. The sum is: 3.\n",
    "Round 3: You could get 4 points. The sum is: 7.\n",
    "Operation 1: The round 3's data is invalid. The sum is: 3.  \n",
    "Round 4: You could get -4 points (the round 3's data has been removed). The sum is: -1.\n",
    "Round 5: You could get 9 points. The sum is: 8.\n",
    "Round 6: You could get -4 + 9 = 5 points. The sum is 13.\n",
    "Round 7: You could get 9 + 5 = 14 points. The sum is 27.\n",
    "```\n",
    "\n",
    "\n",
    "Note:\n",
    "The size of the input list will be between 1 and 1000.\n",
    "Every integer represented in the list will be between -30000 and 30000.\n",
    "\n",
    "\n",
    "https://leetcode.com/problems/baseball-game/solution/"
   ]
  },
  {
   "cell_type": "code",
   "execution_count": 68,
   "metadata": {},
   "outputs": [],
   "source": [
    "def solution(ops):\n",
    "    \n",
    "    # we can of course keep track of the sum along the way\n",
    "    # instead of calling sum() on the stack at the very end\n",
    "    stack = []\n",
    "    for op in ops:\n",
    "        if op == 'C': \n",
    "            stack.pop()\n",
    "        elif op == 'D':\n",
    "            stack.append(stack[-1] * 2)\n",
    "        elif op == '+':\n",
    "            stack.append(stack[-1] + stack[-2])\n",
    "        else:\n",
    "            stack.append(int(op))\n",
    "\n",
    "    return sum(stack)"
   ]
  },
  {
   "cell_type": "code",
   "execution_count": 69,
   "metadata": {},
   "outputs": [
    {
     "data": {
      "text/plain": [
       "30"
      ]
     },
     "execution_count": 69,
     "metadata": {},
     "output_type": "execute_result"
    }
   ],
   "source": [
    "ops = ['5', '2', 'C', 'D', '+']\n",
    "solution(ops)"
   ]
  },
  {
   "cell_type": "markdown",
   "metadata": {},
   "source": [
    "# Reference\n",
    "\n",
    "- [Github: Leetcode Solutions in Python](https://github.com/csujedihy/lc-all-solutions)\n",
    "- [Github: Python / C++ 11 Solutions of LeetCode Questions](https://github.com/kamyu104/LeetCode)"
   ]
  }
 ],
 "metadata": {
  "kernelspec": {
   "display_name": "Python 3",
   "language": "python",
   "name": "python3"
  },
  "language_info": {
   "codemirror_mode": {
    "name": "ipython",
    "version": 3
   },
   "file_extension": ".py",
   "mimetype": "text/x-python",
   "name": "python",
   "nbconvert_exporter": "python",
   "pygments_lexer": "ipython3",
   "version": "3.6.4"
  },
  "toc": {
   "nav_menu": {
    "height": "12px",
    "width": "252px"
   },
   "number_sections": true,
   "sideBar": true,
   "skip_h1_title": false,
   "title_cell": "Table of Contents",
   "title_sidebar": "Contents",
   "toc_cell": true,
   "toc_position": {
    "height": "600px",
    "left": "0px",
    "right": "1207px",
    "top": "134px",
    "width": "231px"
   },
   "toc_section_display": "block",
   "toc_window_display": true
  },
  "varInspector": {
   "cols": {
    "lenName": 16,
    "lenType": 16,
    "lenVar": 40
   },
   "kernels_config": {
    "python": {
     "delete_cmd_postfix": "",
     "delete_cmd_prefix": "del ",
     "library": "var_list.py",
     "varRefreshCmd": "print(var_dic_list())"
    },
    "r": {
     "delete_cmd_postfix": ") ",
     "delete_cmd_prefix": "rm(",
     "library": "var_list.r",
     "varRefreshCmd": "cat(var_dic_list()) "
    }
   },
   "types_to_exclude": [
    "module",
    "function",
    "builtin_function_or_method",
    "instance",
    "_Feature"
   ],
   "window_display": false
  }
 },
 "nbformat": 4,
 "nbformat_minor": 2
}
