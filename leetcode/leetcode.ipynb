{
 "cells": [
  {
   "cell_type": "markdown",
   "metadata": {
    "toc": true
   },
   "source": [
    "<h1>Table of Contents<span class=\"tocSkip\"></span></h1>\n",
    "<div class=\"toc\"><ul class=\"toc-item\"><li><span><a href=\"#Leetcode\" data-toc-modified-id=\"Leetcode-1\"><span class=\"toc-item-num\">1&nbsp;&nbsp;</span>Leetcode</a></span><ul class=\"toc-item\"><li><span><a href=\"#001.-Two-Sums\" data-toc-modified-id=\"001.-Two-Sums-1.1\"><span class=\"toc-item-num\">1.1&nbsp;&nbsp;</span>001. Two Sums</a></span></li><li><span><a href=\"#003.-Longest-Substring-Without-Repeating-Characters\" data-toc-modified-id=\"003.-Longest-Substring-Without-Repeating-Characters-1.2\"><span class=\"toc-item-num\">1.2&nbsp;&nbsp;</span>003. Longest Substring Without Repeating Characters</a></span></li><li><span><a href=\"#007.-Reverse-Digits-of-an-Integer.\" data-toc-modified-id=\"007.-Reverse-Digits-of-an-Integer.-1.3\"><span class=\"toc-item-num\">1.3&nbsp;&nbsp;</span>007. Reverse Digits of an Integer.</a></span></li><li><span><a href=\"#011.-Container-With-Most-Water\" data-toc-modified-id=\"011.-Container-With-Most-Water-1.4\"><span class=\"toc-item-num\">1.4&nbsp;&nbsp;</span>011. Container With Most Water</a></span></li><li><span><a href=\"#015.-3Sum\" data-toc-modified-id=\"015.-3Sum-1.5\"><span class=\"toc-item-num\">1.5&nbsp;&nbsp;</span>015. 3Sum</a></span></li><li><span><a href=\"#020.-Valid-Parentheses\" data-toc-modified-id=\"020.-Valid-Parentheses-1.6\"><span class=\"toc-item-num\">1.6&nbsp;&nbsp;</span>020. Valid Parentheses</a></span></li><li><span><a href=\"#022.-Generate-Parentheses\" data-toc-modified-id=\"022.-Generate-Parentheses-1.7\"><span class=\"toc-item-num\">1.7&nbsp;&nbsp;</span>022. Generate Parentheses</a></span></li><li><span><a href=\"#026.-Remove-Duplicates-from-Sorted-Array\" data-toc-modified-id=\"026.-Remove-Duplicates-from-Sorted-Array-1.8\"><span class=\"toc-item-num\">1.8&nbsp;&nbsp;</span>026. Remove Duplicates from Sorted Array</a></span></li><li><span><a href=\"#027.-Remove-Element\" data-toc-modified-id=\"027.-Remove-Element-1.9\"><span class=\"toc-item-num\">1.9&nbsp;&nbsp;</span>027. Remove Element</a></span></li><li><span><a href=\"#033.-Search-in-Rotated-Sorted-Array\" data-toc-modified-id=\"033.-Search-in-Rotated-Sorted-Array-1.10\"><span class=\"toc-item-num\">1.10&nbsp;&nbsp;</span>033. Search in Rotated Sorted Array</a></span></li><li><span><a href=\"#035.-Search-Insert-Position\" data-toc-modified-id=\"035.-Search-Insert-Position-1.11\"><span class=\"toc-item-num\">1.11&nbsp;&nbsp;</span>035. Search Insert Position</a></span></li><li><span><a href=\"#039.-Combination-Sum\" data-toc-modified-id=\"039.-Combination-Sum-1.12\"><span class=\"toc-item-num\">1.12&nbsp;&nbsp;</span>039. Combination Sum</a></span></li><li><span><a href=\"#040.-Combination-Sum-II\" data-toc-modified-id=\"040.-Combination-Sum-II-1.13\"><span class=\"toc-item-num\">1.13&nbsp;&nbsp;</span>040. Combination Sum II</a></span></li><li><span><a href=\"#046.-Permutations\" data-toc-modified-id=\"046.-Permutations-1.14\"><span class=\"toc-item-num\">1.14&nbsp;&nbsp;</span>046. Permutations</a></span></li><li><span><a href=\"#053.-Maximum-Subarray\" data-toc-modified-id=\"053.-Maximum-Subarray-1.15\"><span class=\"toc-item-num\">1.15&nbsp;&nbsp;</span>053. Maximum Subarray</a></span></li><li><span><a href=\"#056.-Merge-Intervals\" data-toc-modified-id=\"056.-Merge-Intervals-1.16\"><span class=\"toc-item-num\">1.16&nbsp;&nbsp;</span>056. Merge Intervals</a></span></li><li><span><a href=\"#058.-Length-of-Last-Word\" data-toc-modified-id=\"058.-Length-of-Last-Word-1.17\"><span class=\"toc-item-num\">1.17&nbsp;&nbsp;</span>058. Length of Last Word</a></span></li><li><span><a href=\"#066.-Plus-One\" data-toc-modified-id=\"066.-Plus-One-1.18\"><span class=\"toc-item-num\">1.18&nbsp;&nbsp;</span>066. Plus One</a></span></li><li><span><a href=\"#069.-sqrt(x)\" data-toc-modified-id=\"069.-sqrt(x)-1.19\"><span class=\"toc-item-num\">1.19&nbsp;&nbsp;</span>069. sqrt(x)</a></span></li><li><span><a href=\"#070.-Climbing-Stairs\" data-toc-modified-id=\"070.-Climbing-Stairs-1.20\"><span class=\"toc-item-num\">1.20&nbsp;&nbsp;</span>070. Climbing Stairs</a></span></li><li><span><a href=\"#073.-Set-Matrix-Zeroes\" data-toc-modified-id=\"073.-Set-Matrix-Zeroes-1.21\"><span class=\"toc-item-num\">1.21&nbsp;&nbsp;</span>073. Set Matrix Zeroes</a></span></li><li><span><a href=\"#077.-Combinations\" data-toc-modified-id=\"077.-Combinations-1.22\"><span class=\"toc-item-num\">1.22&nbsp;&nbsp;</span>077. Combinations</a></span></li><li><span><a href=\"#078.-Subsets\" data-toc-modified-id=\"078.-Subsets-1.23\"><span class=\"toc-item-num\">1.23&nbsp;&nbsp;</span>078. Subsets</a></span></li><li><span><a href=\"#079.-Word-Search\" data-toc-modified-id=\"079.-Word-Search-1.24\"><span class=\"toc-item-num\">1.24&nbsp;&nbsp;</span>079. Word Search</a></span></li><li><span><a href=\"#088.-Merge-Sorted-Array\" data-toc-modified-id=\"088.-Merge-Sorted-Array-1.25\"><span class=\"toc-item-num\">1.25&nbsp;&nbsp;</span>088. Merge Sorted Array</a></span></li><li><span><a href=\"#091.-Decode-Ways\" data-toc-modified-id=\"091.-Decode-Ways-1.26\"><span class=\"toc-item-num\">1.26&nbsp;&nbsp;</span>091. Decode Ways</a></span></li><li><span><a href=\"#094.-Binary-Tree-Inorder-Traversal\" data-toc-modified-id=\"094.-Binary-Tree-Inorder-Traversal-1.27\"><span class=\"toc-item-num\">1.27&nbsp;&nbsp;</span>094. Binary Tree Inorder Traversal</a></span></li><li><span><a href=\"#098.-Validate-Binary-Search-Tree\" data-toc-modified-id=\"098.-Validate-Binary-Search-Tree-1.28\"><span class=\"toc-item-num\">1.28&nbsp;&nbsp;</span>098. Validate Binary Search Tree</a></span></li><li><span><a href=\"#100.-Same-Tree\" data-toc-modified-id=\"100.-Same-Tree-1.29\"><span class=\"toc-item-num\">1.29&nbsp;&nbsp;</span>100. Same Tree</a></span></li><li><span><a href=\"#101.-Symmetric-Tree\" data-toc-modified-id=\"101.-Symmetric-Tree-1.30\"><span class=\"toc-item-num\">1.30&nbsp;&nbsp;</span>101. Symmetric Tree</a></span></li><li><span><a href=\"#102.-Binary-Tree-Level-Order-Traversal\" data-toc-modified-id=\"102.-Binary-Tree-Level-Order-Traversal-1.31\"><span class=\"toc-item-num\">1.31&nbsp;&nbsp;</span>102. Binary Tree Level Order Traversal</a></span></li><li><span><a href=\"#104.-Maximum-Depth-of-Binary-Tree\" data-toc-modified-id=\"104.-Maximum-Depth-of-Binary-Tree-1.32\"><span class=\"toc-item-num\">1.32&nbsp;&nbsp;</span>104. Maximum Depth of Binary Tree</a></span></li><li><span><a href=\"#108.-Convert-Sorted-Array-to-Binary-Search-Tree\" data-toc-modified-id=\"108.-Convert-Sorted-Array-to-Binary-Search-Tree-1.33\"><span class=\"toc-item-num\">1.33&nbsp;&nbsp;</span>108. Convert Sorted Array to Binary Search Tree</a></span></li><li><span><a href=\"#121.-Best-Time-to-Buy-and-Sell-Stock\" data-toc-modified-id=\"121.-Best-Time-to-Buy-and-Sell-Stock-1.34\"><span class=\"toc-item-num\">1.34&nbsp;&nbsp;</span>121. Best Time to Buy and Sell Stock</a></span></li><li><span><a href=\"#122.-Best-Time-to-Buy-and-Sell-Stock-II\" data-toc-modified-id=\"122.-Best-Time-to-Buy-and-Sell-Stock-II-1.35\"><span class=\"toc-item-num\">1.35&nbsp;&nbsp;</span>122. Best Time to Buy and Sell Stock II</a></span></li><li><span><a href=\"#125.-Valid-Palindrome\" data-toc-modified-id=\"125.-Valid-Palindrome-1.36\"><span class=\"toc-item-num\">1.36&nbsp;&nbsp;</span>125. Valid Palindrome</a></span></li><li><span><a href=\"#130.-Surrounded-Regions\" data-toc-modified-id=\"130.-Surrounded-Regions-1.37\"><span class=\"toc-item-num\">1.37&nbsp;&nbsp;</span>130. Surrounded Regions</a></span></li><li><span><a href=\"#146.-LRU-Cache\" data-toc-modified-id=\"146.-LRU-Cache-1.38\"><span class=\"toc-item-num\">1.38&nbsp;&nbsp;</span>146. LRU Cache</a></span></li><li><span><a href=\"#152.-Maximum-Product-Subarray\" data-toc-modified-id=\"152.-Maximum-Product-Subarray-1.39\"><span class=\"toc-item-num\">1.39&nbsp;&nbsp;</span>152. Maximum Product Subarray</a></span></li><li><span><a href=\"#153.-Find-Minimum-in-Rotated-Sorted-Array\" data-toc-modified-id=\"153.-Find-Minimum-in-Rotated-Sorted-Array-1.40\"><span class=\"toc-item-num\">1.40&nbsp;&nbsp;</span>153. Find Minimum in Rotated Sorted Array</a></span></li><li><span><a href=\"#155.-Min-Stack\" data-toc-modified-id=\"155.-Min-Stack-1.41\"><span class=\"toc-item-num\">1.41&nbsp;&nbsp;</span>155. Min Stack</a></span></li><li><span><a href=\"#162.-Find-Peak-Element\" data-toc-modified-id=\"162.-Find-Peak-Element-1.42\"><span class=\"toc-item-num\">1.42&nbsp;&nbsp;</span>162. Find Peak Element</a></span></li><li><span><a href=\"#167.-Two-Sum-II---Input-array-is-sorted\" data-toc-modified-id=\"167.-Two-Sum-II---Input-array-is-sorted-1.43\"><span class=\"toc-item-num\">1.43&nbsp;&nbsp;</span>167. Two Sum II - Input array is sorted</a></span></li><li><span><a href=\"#169.-Majority-Element\" data-toc-modified-id=\"169.-Majority-Element-1.44\"><span class=\"toc-item-num\">1.44&nbsp;&nbsp;</span>169. Majority Element</a></span></li><li><span><a href=\"#198.-House-Robber\" data-toc-modified-id=\"198.-House-Robber-1.45\"><span class=\"toc-item-num\">1.45&nbsp;&nbsp;</span>198. House Robber</a></span></li><li><span><a href=\"#200.-Number-of-Islands\" data-toc-modified-id=\"200.-Number-of-Islands-1.46\"><span class=\"toc-item-num\">1.46&nbsp;&nbsp;</span>200. Number of Islands</a></span></li><li><span><a href=\"#203.-Remove-Linked-List-Elements\" data-toc-modified-id=\"203.-Remove-Linked-List-Elements-1.47\"><span class=\"toc-item-num\">1.47&nbsp;&nbsp;</span>203. Remove Linked List Elements</a></span></li><li><span><a href=\"#205.-Isomorphic-String\" data-toc-modified-id=\"205.-Isomorphic-String-1.48\"><span class=\"toc-item-num\">1.48&nbsp;&nbsp;</span>205. Isomorphic String</a></span></li><li><span><a href=\"#206.-Reverse-Linked-List\" data-toc-modified-id=\"206.-Reverse-Linked-List-1.49\"><span class=\"toc-item-num\">1.49&nbsp;&nbsp;</span>206. Reverse Linked List</a></span></li><li><span><a href=\"#207.-Course-Schedule\" data-toc-modified-id=\"207.-Course-Schedule-1.50\"><span class=\"toc-item-num\">1.50&nbsp;&nbsp;</span>207. Course Schedule</a></span></li><li><span><a href=\"#215.-kth-largest-Element-in-an-Array\" data-toc-modified-id=\"215.-kth-largest-Element-in-an-Array-1.51\"><span class=\"toc-item-num\">1.51&nbsp;&nbsp;</span>215. kth-largest Element in an Array</a></span></li><li><span><a href=\"#217.-Contains-Duplicate\" data-toc-modified-id=\"217.-Contains-Duplicate-1.52\"><span class=\"toc-item-num\">1.52&nbsp;&nbsp;</span>217. Contains Duplicate</a></span></li><li><span><a href=\"#227.-Basic-Calculator-II\" data-toc-modified-id=\"227.-Basic-Calculator-II-1.53\"><span class=\"toc-item-num\">1.53&nbsp;&nbsp;</span>227. Basic Calculator II</a></span></li><li><span><a href=\"#230.-Kth-Smallest-Element-in-a-BST\" data-toc-modified-id=\"230.-Kth-Smallest-Element-in-a-BST-1.54\"><span class=\"toc-item-num\">1.54&nbsp;&nbsp;</span>230. Kth Smallest Element in a BST</a></span></li><li><span><a href=\"#235--Lowest-Common-Ancestor-of-a-Binary-Search-Tree\" data-toc-modified-id=\"235--Lowest-Common-Ancestor-of-a-Binary-Search-Tree-1.55\"><span class=\"toc-item-num\">1.55&nbsp;&nbsp;</span>235  Lowest Common Ancestor of a Binary Search Tree</a></span></li><li><span><a href=\"#242.-Valid-Anagram\" data-toc-modified-id=\"242.-Valid-Anagram-1.56\"><span class=\"toc-item-num\">1.56&nbsp;&nbsp;</span>242. Valid Anagram</a></span></li><li><span><a href=\"#268.-Missing-Number\" data-toc-modified-id=\"268.-Missing-Number-1.57\"><span class=\"toc-item-num\">1.57&nbsp;&nbsp;</span>268. Missing Number</a></span></li><li><span><a href=\"#278.-First-Bad-Version\" data-toc-modified-id=\"278.-First-Bad-Version-1.58\"><span class=\"toc-item-num\">1.58&nbsp;&nbsp;</span>278. First Bad Version</a></span></li><li><span><a href=\"#283.-Move-Zeroes\" data-toc-modified-id=\"283.-Move-Zeroes-1.59\"><span class=\"toc-item-num\">1.59&nbsp;&nbsp;</span>283. Move Zeroes</a></span></li><li><span><a href=\"#286.-Walls-and-Gates\" data-toc-modified-id=\"286.-Walls-and-Gates-1.60\"><span class=\"toc-item-num\">1.60&nbsp;&nbsp;</span>286. Walls and Gates</a></span></li><li><span><a href=\"#289.-Game-of-Life\" data-toc-modified-id=\"289.-Game-of-Life-1.61\"><span class=\"toc-item-num\">1.61&nbsp;&nbsp;</span>289. Game of Life</a></span></li><li><span><a href=\"#300.-Longest-Increasing-Subsequence\" data-toc-modified-id=\"300.-Longest-Increasing-Subsequence-1.62\"><span class=\"toc-item-num\">1.62&nbsp;&nbsp;</span>300. Longest Increasing Subsequence</a></span></li><li><span><a href=\"#322.-Coin-Change\" data-toc-modified-id=\"322.-Coin-Change-1.63\"><span class=\"toc-item-num\">1.63&nbsp;&nbsp;</span>322. Coin Change</a></span></li><li><span><a href=\"#344.-Reverse-String\" data-toc-modified-id=\"344.-Reverse-String-1.64\"><span class=\"toc-item-num\">1.64&nbsp;&nbsp;</span>344. Reverse String</a></span></li><li><span><a href=\"#347.-Top-K-Frequent-Elements\" data-toc-modified-id=\"347.-Top-K-Frequent-Elements-1.65\"><span class=\"toc-item-num\">1.65&nbsp;&nbsp;</span>347. Top K Frequent Elements</a></span></li><li><span><a href=\"#349.-Intersection-of-Two-Arrays\" data-toc-modified-id=\"349.-Intersection-of-Two-Arrays-1.66\"><span class=\"toc-item-num\">1.66&nbsp;&nbsp;</span>349. Intersection of Two Arrays</a></span></li><li><span><a href=\"#359.-Logger-Rate-Limiter\" data-toc-modified-id=\"359.-Logger-Rate-Limiter-1.67\"><span class=\"toc-item-num\">1.67&nbsp;&nbsp;</span>359. Logger Rate Limiter</a></span></li><li><span><a href=\"#412-Fizzbuzz\" data-toc-modified-id=\"412-Fizzbuzz-1.68\"><span class=\"toc-item-num\">1.68&nbsp;&nbsp;</span>412 Fizzbuzz</a></span></li><li><span><a href=\"#350.-Intersection-of-Two-Arrays-II\" data-toc-modified-id=\"350.-Intersection-of-Two-Arrays-II-1.69\"><span class=\"toc-item-num\">1.69&nbsp;&nbsp;</span>350. Intersection of Two Arrays II</a></span></li><li><span><a href=\"#448.-Find-All-Numbers-Disappeared-in-an-Array\" data-toc-modified-id=\"448.-Find-All-Numbers-Disappeared-in-an-Array-1.70\"><span class=\"toc-item-num\">1.70&nbsp;&nbsp;</span>448. Find All Numbers Disappeared in an Array</a></span></li><li><span><a href=\"#502-IPO\" data-toc-modified-id=\"502-IPO-1.71\"><span class=\"toc-item-num\">1.71&nbsp;&nbsp;</span>502 IPO</a></span></li><li><span><a href=\"#547.-Number-of-Provinces\" data-toc-modified-id=\"547.-Number-of-Provinces-1.72\"><span class=\"toc-item-num\">1.72&nbsp;&nbsp;</span>547. Number of Provinces</a></span></li><li><span><a href=\"#605.-Can-Place-Flowers\" data-toc-modified-id=\"605.-Can-Place-Flowers-1.73\"><span class=\"toc-item-num\">1.73&nbsp;&nbsp;</span>605. Can Place Flowers</a></span></li><li><span><a href=\"#671-Second-Minimum-Node-In-a-Binary-Tree\" data-toc-modified-id=\"671-Second-Minimum-Node-In-a-Binary-Tree-1.74\"><span class=\"toc-item-num\">1.74&nbsp;&nbsp;</span>671 Second Minimum Node In a Binary Tree</a></span></li><li><span><a href=\"#682.-Baseball-Game\" data-toc-modified-id=\"682.-Baseball-Game-1.75\"><span class=\"toc-item-num\">1.75&nbsp;&nbsp;</span>682. Baseball Game</a></span></li><li><span><a href=\"#706.-Design-HashMap\" data-toc-modified-id=\"706.-Design-HashMap-1.76\"><span class=\"toc-item-num\">1.76&nbsp;&nbsp;</span>706. Design HashMap</a></span></li><li><span><a href=\"#744.-Find-Smallest-Letter-Greater-Than-Target\" data-toc-modified-id=\"744.-Find-Smallest-Letter-Greater-Than-Target-1.77\"><span class=\"toc-item-num\">1.77&nbsp;&nbsp;</span>744. Find Smallest Letter Greater Than Target</a></span></li><li><span><a href=\"#791.-Custom-Sort-String\" data-toc-modified-id=\"791.-Custom-Sort-String-1.78\"><span class=\"toc-item-num\">1.78&nbsp;&nbsp;</span>791. Custom Sort String</a></span></li><li><span><a href=\"#973.-K-Closest-Points-to-Origin\" data-toc-modified-id=\"973.-K-Closest-Points-to-Origin-1.79\"><span class=\"toc-item-num\">1.79&nbsp;&nbsp;</span>973. K Closest Points to Origin</a></span></li><li><span><a href=\"#977.-Squares-of-a-Sorted-Array\" data-toc-modified-id=\"977.-Squares-of-a-Sorted-Array-1.80\"><span class=\"toc-item-num\">1.80&nbsp;&nbsp;</span>977. Squares of a Sorted Array</a></span></li><li><span><a href=\"#983.-Minimum-Cost-For-Tickets\" data-toc-modified-id=\"983.-Minimum-Cost-For-Tickets-1.81\"><span class=\"toc-item-num\">1.81&nbsp;&nbsp;</span>983. Minimum Cost For Tickets</a></span></li><li><span><a href=\"#1011.-Capacity-To-Ship-Packages-Within-D-Days\" data-toc-modified-id=\"1011.-Capacity-To-Ship-Packages-Within-D-Days-1.82\"><span class=\"toc-item-num\">1.82&nbsp;&nbsp;</span>1011. Capacity To Ship Packages Within D Days</a></span></li><li><span><a href=\"#1094.-Car-Pooling\" data-toc-modified-id=\"1094.-Car-Pooling-1.83\"><span class=\"toc-item-num\">1.83&nbsp;&nbsp;</span>1094. Car Pooling</a></span></li><li><span><a href=\"#1129.-Shortest-Path-with-Alternating-Colors\" data-toc-modified-id=\"1129.-Shortest-Path-with-Alternating-Colors-1.84\"><span class=\"toc-item-num\">1.84&nbsp;&nbsp;</span>1129. Shortest Path with Alternating Colors</a></span></li><li><span><a href=\"#1268.-Search-Suggestions-System\" data-toc-modified-id=\"1268.-Search-Suggestions-System-1.85\"><span class=\"toc-item-num\">1.85&nbsp;&nbsp;</span>1268. Search Suggestions System</a></span></li></ul></li><li><span><a href=\"#Reference\" data-toc-modified-id=\"Reference-2\"><span class=\"toc-item-num\">2&nbsp;&nbsp;</span>Reference</a></span></li></ul></div>"
   ]
  },
  {
   "cell_type": "markdown",
   "metadata": {},
   "source": [
    "# Leetcode"
   ]
  },
  {
   "cell_type": "markdown",
   "metadata": {},
   "source": [
    "## 001. Two Sums"
   ]
  },
  {
   "cell_type": "markdown",
   "metadata": {},
   "source": [
    "Given an array of integers, return indices of the two numbers such that they add up to a specific target.\n",
    "\n",
    "You may assume that each input would have exactly one solution, and you may not use the same element twice.\n",
    "\n",
    "Example:\n",
    "\n",
    "Given nums = [2, 7, 11, 15], target = 9,\n",
    "\n",
    "Because nums[0] + nums[1] = 2 + 7 = 9, return [0, 1]."
   ]
  },
  {
   "cell_type": "code",
   "execution_count": 1,
   "metadata": {},
   "outputs": [],
   "source": [
    "def solution(nums, target):\n",
    "    d = {}\n",
    "    for i, num in enumerate(nums):\n",
    "        diff = target - num\n",
    "        if diff in d:\n",
    "            result = [d[diff], i]\n",
    "            return result\n",
    "\n",
    "        d[num] = i"
   ]
  },
  {
   "cell_type": "code",
   "execution_count": 2,
   "metadata": {},
   "outputs": [
    {
     "data": {
      "text/plain": [
       "[0, 1]"
      ]
     },
     "execution_count": 2,
     "metadata": {},
     "output_type": "execute_result"
    }
   ],
   "source": [
    "target = 9\n",
    "nums = [2, 7, 11, 15]\n",
    "solution(nums, target)"
   ]
  },
  {
   "cell_type": "markdown",
   "metadata": {},
   "source": [
    "C++ syntax:\n",
    "\n",
    "```cpp\n",
    "#include <unordered_map>\n",
    "#include <vector>\n",
    "using namespace std;\n",
    "\n",
    "vector<int> twoSum(vector<int>& nums, int target) {\n",
    "\tunordered_map<int, int> hash;\n",
    "\tfor (int i = 0; i < nums.size(); i++) {\n",
    "\t\tint numberToFind = target - nums[i];\n",
    "\t\tif (hash.find(numberToFind) != hash.end()) {\n",
    "\t\t\tvector<int> result {hash[numberToFind], i};\n",
    "\t\t\treturn result;\n",
    "\t\t}\n",
    "\t\thash[nums[i]] = i;\n",
    "\t}\n",
    "}\n",
    "```"
   ]
  },
  {
   "cell_type": "markdown",
   "metadata": {},
   "source": [
    "## 003. Longest Substring Without Repeating Characters"
   ]
  },
  {
   "cell_type": "markdown",
   "metadata": {},
   "source": [
    "Given a string, find the length of the longest substring without repeating characters.\n",
    "\n",
    "Examples:\n",
    "\n",
    "Given \"abcabcbb\", the answer is \"abc\", which the length is 3.\n",
    "\n",
    "Given \"bbbbb\", the answer is \"b\", with the length of 1.\n",
    "\n",
    "Given \"pwwkew\", the answer is \"wke\", with the length of 3. Note that the answer must be a substring, \"pwke\" is a subsequence and not a substring.\n",
    "\n",
    "https://leetcode.com/problems/longest-substring-without-repeating-characters/solution/"
   ]
  },
  {
   "cell_type": "code",
   "execution_count": 5,
   "metadata": {},
   "outputs": [],
   "source": [
    "def lengthOfLongestSubstring(s: str) -> int:\n",
    "    seen_char = {}\n",
    "\n",
    "    i = 0\n",
    "    answer = 0\n",
    "    for j in range(len(s)):\n",
    "        char = s[j]\n",
    "        # hit repeated word, refresh the start position\n",
    "        if char in seen_char:\n",
    "            i = max(seen_char[char], i)\n",
    "\n",
    "        seen_char[char] = j + 1\n",
    "        # compare the refreshed position word with the\n",
    "        # old word to see which one is longer\n",
    "        answer = max(answer, j - i + 1)\n",
    "\n",
    "    return answer"
   ]
  },
  {
   "cell_type": "code",
   "execution_count": 6,
   "metadata": {},
   "outputs": [
    {
     "data": {
      "text/plain": [
       "2"
      ]
     },
     "execution_count": 6,
     "metadata": {},
     "output_type": "execute_result"
    }
   ],
   "source": [
    "s = \"abba\"\n",
    "lengthOfLongestSubstring(s)"
   ]
  },
  {
   "cell_type": "code",
   "execution_count": 7,
   "metadata": {},
   "outputs": [
    {
     "data": {
      "text/plain": [
       "3"
      ]
     },
     "execution_count": 7,
     "metadata": {},
     "output_type": "execute_result"
    }
   ],
   "source": [
    "s = \"abcabcbb\"\n",
    "lengthOfLongestSubstring(s)"
   ]
  },
  {
   "cell_type": "code",
   "execution_count": 8,
   "metadata": {},
   "outputs": [
    {
     "data": {
      "text/plain": [
       "3"
      ]
     },
     "execution_count": 8,
     "metadata": {},
     "output_type": "execute_result"
    }
   ],
   "source": [
    "s = \"pwwkew\"\n",
    "lengthOfLongestSubstring(s)"
   ]
  },
  {
   "cell_type": "code",
   "execution_count": 9,
   "metadata": {},
   "outputs": [
    {
     "data": {
      "text/plain": [
       "3"
      ]
     },
     "execution_count": 9,
     "metadata": {},
     "output_type": "execute_result"
    }
   ],
   "source": [
    "s = \"dvdf\"\n",
    "lengthOfLongestSubstring(s)"
   ]
  },
  {
   "cell_type": "markdown",
   "metadata": {},
   "source": [
    "## 007. Reverse Digits of an Integer.\n",
    "\n",
    "Example1: x = 123, return 321 Example2: x = -123, return -321\n",
    "\n",
    "Here are some good questions to ask before coding. Bonus points for you if you have already thought through this!\n",
    "\n",
    "- If the integer's last digit is 0, what should the output be? ie, cases such as 10, 100.\n",
    "- Did you notice that the reversed integer might overflow? Assume the input is a 32-bit integer, then the reverse of 1000000003 overflows. How should you handle such cases? For the purpose of this problem, assume that your function returns 0 when the reversed integer overflows.\n",
    "\n",
    "Note: The input is assumed to be a 32-bit signed integer. Your function should return 0 when the reversed integer overflows.\n",
    "\n",
    "https://discuss.leetcode.com/topic/6104/my-accepted-15-lines-of-code-for-java/2"
   ]
  },
  {
   "cell_type": "code",
   "execution_count": 5,
   "metadata": {},
   "outputs": [],
   "source": [
    "def solution(num):\n",
    "    int_max = 2 ** 31 - 1\n",
    "    sign = 1 if num >= 0 else -1\n",
    "    num = abs(num)\n",
    "    result = 0\n",
    "\n",
    "    while num:\n",
    "        # multiply by 10 to advance the digit\n",
    "        new_result = result * 10 + num % 10\n",
    "        if new_result >= int_max:\n",
    "            return 0\n",
    "\n",
    "        num //= 10\n",
    "        result = new_result\n",
    "\n",
    "    result *= sign\n",
    "    return result"
   ]
  },
  {
   "cell_type": "code",
   "execution_count": 6,
   "metadata": {},
   "outputs": [
    {
     "data": {
      "text/plain": [
       "4321"
      ]
     },
     "execution_count": 6,
     "metadata": {},
     "output_type": "execute_result"
    }
   ],
   "source": [
    "num = 1234\n",
    "solution(num)"
   ]
  },
  {
   "cell_type": "markdown",
   "metadata": {},
   "source": [
    "## 011. Container With Most Water"
   ]
  },
  {
   "cell_type": "markdown",
   "metadata": {},
   "source": [
    "You are given an integer array height of length n. There are n vertical lines drawn such that the two endpoints of the ith line are (i, 0) and (i, height[i]).\n",
    "\n",
    "Find two lines that together with the x-axis form a container, such that the container contains the most water.\n",
    "\n",
    "Return the maximum amount of water a container can store."
   ]
  },
  {
   "cell_type": "code",
   "execution_count": 12,
   "metadata": {},
   "outputs": [],
   "source": [
    "from typing import List\n",
    "\n",
    "\n",
    "def maxArea(height: List[int]) -> int:\n",
    "    \"\"\"\n",
    "    Start with the maximum width container and go to a shorter width container\n",
    "    if there is a vertical line longer than the current containers shorter line.\n",
    "    This way we are compromising on the width but we are looking forward to a\n",
    "    longer length container.\n",
    "    \"\"\"\n",
    "    left = 0\n",
    "    right = len(height) - 1\n",
    "    answer = 0\n",
    "    while left < right:\n",
    "        width = right - left\n",
    "        if height[left] <= height[right]:\n",
    "            min_height = height[left]\n",
    "            left += 1\n",
    "        else:\n",
    "            min_height = height[right]\n",
    "            right -= 1\n",
    "\n",
    "        answer = max(answer, min_height * width)\n",
    "\n",
    "    return answer"
   ]
  },
  {
   "cell_type": "code",
   "execution_count": 13,
   "metadata": {},
   "outputs": [
    {
     "data": {
      "text/plain": [
       "49"
      ]
     },
     "execution_count": 13,
     "metadata": {},
     "output_type": "execute_result"
    }
   ],
   "source": [
    "height = [1,8,6,2,5,4,8,3,7]\n",
    "maxArea(height)"
   ]
  },
  {
   "cell_type": "markdown",
   "metadata": {},
   "source": [
    "## 015. 3Sum"
   ]
  },
  {
   "cell_type": "markdown",
   "metadata": {},
   "source": [
    "Given an integer array nums, return all the triplets [nums[i], nums[j], nums[k]] such that i != j, i != k, and j != k, and nums[i] + nums[j] + nums[k] == 0.\n",
    "\n",
    "Notice that the solution set must not contain duplicate triplets.\n",
    "\n",
    "https://www.youtube.com/watch?v=jzZsG8n2R9A"
   ]
  },
  {
   "cell_type": "code",
   "execution_count": 1,
   "metadata": {},
   "outputs": [],
   "source": [
    "from typing import List\n",
    "\n",
    "def threeSum(nums: List[int]) -> List[List[int]]:\n",
    "    \"\"\"\n",
    "    After we sort the input number array, it will be two nested loops.\n",
    "    where the second nested loop boils down to a two sum with sorted inputs.\n",
    "    We need to make sure we account for duplicates.\n",
    "    \"\"\"\n",
    "    nums.sort()\n",
    "    \n",
    "    results = []\n",
    "    for i in range(len(nums)):\n",
    "        # ensure there's no duplicate for the first number\n",
    "        if i > 0 and nums[i] == nums[i - 1]:\n",
    "            continue\n",
    "        first = nums[i]\n",
    "\n",
    "        left = i + 1\n",
    "        right = len(nums) - 1\n",
    "        while left < right:\n",
    "            second = nums[left]\n",
    "            third = nums[right]\n",
    "            three_sum = first + second + third\n",
    "            if three_sum == 0:\n",
    "                results.append([first, second, third])\n",
    "                left += 1\n",
    "                # ensure there's no duplicate for the second number\n",
    "                while nums[left] == nums[left - 1] and left < right:\n",
    "                    left += 1\n",
    "            elif three_sum > 0:\n",
    "                right -= 1\n",
    "            else: # smaller than 0\n",
    "                left += 1\n",
    "\n",
    "    return results"
   ]
  },
  {
   "cell_type": "code",
   "execution_count": 2,
   "metadata": {},
   "outputs": [
    {
     "data": {
      "text/plain": [
       "[[-1, -1, 2], [-1, 0, 1]]"
      ]
     },
     "execution_count": 2,
     "metadata": {},
     "output_type": "execute_result"
    }
   ],
   "source": [
    "nums = [-1,0,1,2,-1,-4]\n",
    "threeSum(nums)"
   ]
  },
  {
   "cell_type": "markdown",
   "metadata": {},
   "source": [
    "## 020. Valid Parentheses"
   ]
  },
  {
   "cell_type": "markdown",
   "metadata": {},
   "source": [
    "Given a string s containing just the characters '(', ')', '{', '}', '[' and ']', determine if the input string is valid.\n",
    "\n",
    "An input string is valid if:\n",
    "\n",
    "Open brackets must be closed by the same type of brackets.\n",
    "Open brackets must be closed in the correct order."
   ]
  },
  {
   "cell_type": "code",
   "execution_count": 79,
   "metadata": {},
   "outputs": [],
   "source": [
    "def is_valid(s):\n",
    "    stack = []\n",
    "    valid = False\n",
    "    for char in s:\n",
    "        if char == '(' or char == '{' or char == '[':\n",
    "            stack.append(char)\n",
    "        else:\n",
    "            if not stack:\n",
    "                return False\n",
    "            pop_char = stack.pop()\n",
    "            if char == ')':\n",
    "                valid = pop_char == '('\n",
    "            elif char == '}':\n",
    "                valid = pop_char == '{'\n",
    "            elif char == ']':\n",
    "                valid = pop_char == '['\n",
    "  \n",
    "            if not valid:\n",
    "                return valid\n",
    "    if stack:\n",
    "        valid = False\n",
    "    return valid"
   ]
  },
  {
   "cell_type": "code",
   "execution_count": 80,
   "metadata": {},
   "outputs": [
    {
     "data": {
      "text/plain": [
       "False"
      ]
     },
     "execution_count": 80,
     "metadata": {},
     "output_type": "execute_result"
    }
   ],
   "source": [
    "s = \"([]){\"\n",
    "is_valid(s)"
   ]
  },
  {
   "cell_type": "markdown",
   "metadata": {},
   "source": [
    "## 022. Generate Parentheses"
   ]
  },
  {
   "cell_type": "markdown",
   "metadata": {},
   "source": [
    "Given n pairs of parentheses, write a function to generate all combinations of well-formed parentheses.\n",
    "\n",
    "https://www.youtube.com/watch?v=s9fokUqJ76A"
   ]
  },
  {
   "cell_type": "code",
   "execution_count": 3,
   "metadata": {},
   "outputs": [],
   "source": [
    "from typing import List\n",
    "\n",
    "\n",
    "def generateParenthesis(n: int) -> List[str]:\n",
    "    \"\"\"    \n",
    "    we return a combination if the open parenthesis and\n",
    "    closed parenthesis count reaches n\n",
    "    \n",
    "    only add open parenthesis if open count < n\n",
    "    only add close parenthesis if close count is smaller than open parenthesis count\n",
    "    \"\"\"\n",
    "    results = []\n",
    "    stack = ['(']\n",
    "    open_count = 0\n",
    "    close_count = 0\n",
    "\n",
    "    def dfs(open_count, close_count):\n",
    "        if open_count == n and close_count == n:\n",
    "            results.append(''.join(stack))\n",
    "            return \n",
    "        \n",
    "        if close_count < open_count:\n",
    "            stack.append(')')\n",
    "            dfs(open_count, close_count + 1)\n",
    "            stack.pop()\n",
    "\n",
    "        if open_count < n:\n",
    "            stack.append('(')\n",
    "            dfs(open_count + 1, close_count)\n",
    "            stack.pop()        \n",
    "\n",
    "    dfs(1, 0)\n",
    "    return results"
   ]
  },
  {
   "cell_type": "code",
   "execution_count": 5,
   "metadata": {},
   "outputs": [
    {
     "data": {
      "text/plain": [
       "['()()()', '()(())', '(())()', '(()())', '((()))']"
      ]
     },
     "execution_count": 5,
     "metadata": {},
     "output_type": "execute_result"
    }
   ],
   "source": [
    "n = 3\n",
    "generateParenthesis(n)"
   ]
  },
  {
   "cell_type": "markdown",
   "metadata": {},
   "source": [
    "## 026. Remove Duplicates from Sorted Array"
   ]
  },
  {
   "cell_type": "markdown",
   "metadata": {},
   "source": [
    "Given a sorted array, remove the duplicates in place such that each element appear only once and return the new length.\n",
    "\n",
    "Do not allocate extra space for another array, you must do this in place with constant memory.\n",
    "\n",
    "For example, Given input array nums = [1,1,2],\n",
    "\n",
    "Your function should return length = 2, with the first two elements of nums being 1 and 2 respectively. It doesn't matter what you leave beyond the new length.\n",
    "\n",
    "- https://www.youtube.com/watch?v=DEJAZBq0FDA"
   ]
  },
  {
   "cell_type": "code",
   "execution_count": 136,
   "metadata": {},
   "outputs": [],
   "source": [
    "from typing import List\n",
    "\n",
    "def removeDuplicates(nums: List[int]) -> int:\n",
    "    \"\"\"two pointer solution.\"\"\"\n",
    "    # our pointers can start from 1 as the first element\n",
    "    # will be kept in place\n",
    "    left = 1\n",
    "    for right in range(1, len(nums)):\n",
    "        # we know the element is a unique value if it's\n",
    "        # not equal to the previous element, if it's unique\n",
    "        # we insert to the position of the left pointer, which\n",
    "        # keep tracks of the number of unique elements\n",
    "        if nums[right] != nums[right - 1]:\n",
    "            nums[left] = nums[right]\n",
    "            left += 1\n",
    "\n",
    "    return left"
   ]
  },
  {
   "cell_type": "code",
   "execution_count": 139,
   "metadata": {},
   "outputs": [
    {
     "name": "stdout",
     "output_type": "stream",
     "text": [
      "length: 5\n"
     ]
    },
    {
     "data": {
      "text/plain": [
       "[0, 1, 2, 3, 4, 2, 2, 3, 3, 4]"
      ]
     },
     "execution_count": 139,
     "metadata": {},
     "output_type": "execute_result"
    }
   ],
   "source": [
    "nums = [0,0,1,1,1,2,2,3,3,4]\n",
    "print('length:', removeDuplicates(nums))\n",
    "nums"
   ]
  },
  {
   "cell_type": "markdown",
   "metadata": {},
   "source": [
    "## 027. Remove Element"
   ]
  },
  {
   "cell_type": "markdown",
   "metadata": {},
   "source": [
    "Given an array and a value, remove all instances of that value in place and return the new length.\n",
    "\n",
    "Do not allocate extra space for another array, you must do this in place with constant memory.\n",
    "\n",
    "The order of elements can be changed. It doesn't matter what you leave beyond the new length.\n",
    "\n",
    "Example: Given input array nums = [3,2,2,3], val = 3\n",
    "\n",
    "Your function should return length = 2, with the first two elements of nums being 2.\n",
    "\n",
    "> Very similar idea to 026. Remove Duplicates from Sorted Array"
   ]
  },
  {
   "cell_type": "code",
   "execution_count": 9,
   "metadata": {},
   "outputs": [],
   "source": [
    "def solution(nums, val):\n",
    "    position = 0\n",
    "    for j in range(len(nums)):\n",
    "        if nums[j] == val:\n",
    "            position += 1\n",
    "        else:\n",
    "            nums[j - position] = nums[j]\n",
    "\n",
    "    length = len(nums) - position\n",
    "    return length"
   ]
  },
  {
   "cell_type": "code",
   "execution_count": 10,
   "metadata": {},
   "outputs": [
    {
     "name": "stdout",
     "output_type": "stream",
     "text": [
      "length: 2\n"
     ]
    },
    {
     "data": {
      "text/plain": [
       "[2, 2, 2, 3]"
      ]
     },
     "execution_count": 10,
     "metadata": {},
     "output_type": "execute_result"
    }
   ],
   "source": [
    "val = 3\n",
    "nums = [3, 2, 2, 3]\n",
    "\n",
    "print('length:', solution(nums, val))\n",
    "nums"
   ]
  },
  {
   "cell_type": "markdown",
   "metadata": {},
   "source": [
    "## 033. Search in Rotated Sorted Array"
   ]
  },
  {
   "cell_type": "markdown",
   "metadata": {},
   "source": [
    "There is an integer array nums sorted in ascending order (with distinct values).\n",
    "\n",
    "Prior to being passed to your function, nums is possibly rotated at an unknown pivot index k (1 <= k < nums.length) such that the resulting array is `[nums[k], nums[k+1], ..., nums[n-1], nums[0], nums[1], ..., nums[k-1]]` (0-indexed). For example, `[0,1,2,4,5,6,7]` might be rotated at pivot index 3 and become `[4,5,6,7,0,1,2]`.\n",
    "\n",
    "Given the array nums after the possible rotation and an integer target, return the index of target if it is in nums, or -1 if it is not in nums.\n",
    "\n",
    "- https://www.youtube.com/watch?v=U8XENwh8Oy8\n",
    "- https://leetcode.com/problems/search-in-rotated-sorted-array/"
   ]
  },
  {
   "cell_type": "code",
   "execution_count": 135,
   "metadata": {},
   "outputs": [],
   "source": [
    "from typing import List\n",
    "\n",
    "\n",
    "def search(nums: List[int], target: int) -> int:\n",
    "    left = 0\n",
    "    right = len(nums) - 1\n",
    "    while left <= right:\n",
    "        mid = (left + right) // 2\n",
    "        if nums[mid] == target:\n",
    "            return mid\n",
    "\n",
    "        # at any given point, there has to be\n",
    "        # one side of the array that is completely sorted\n",
    "        # check if the left side is sorted\n",
    "        if nums[mid] >= nums[left]:\n",
    "            if target > nums[mid] or target < nums[left]:\n",
    "                left = mid + 1\n",
    "            else:\n",
    "                right = mid\n",
    "        else:\n",
    "            if target < nums[mid] or target > nums[right]:\n",
    "                right = mid\n",
    "            else:\n",
    "                left = mid + 1\n",
    "\n",
    "    return -1"
   ]
  },
  {
   "cell_type": "code",
   "execution_count": 134,
   "metadata": {},
   "outputs": [
    {
     "name": "stdout",
     "output_type": "stream",
     "text": [
      "0 3 6\n",
      "4 3 6\n",
      "4 5 6\n",
      "4 5 5\n",
      "4 4 5\n"
     ]
    },
    {
     "data": {
      "text/plain": [
       "4"
      ]
     },
     "execution_count": 134,
     "metadata": {},
     "output_type": "execute_result"
    }
   ],
   "source": [
    "nums = [4,5,6,7,0,1,2]\n",
    "target = 0\n",
    "search(nums, target)"
   ]
  },
  {
   "cell_type": "markdown",
   "metadata": {},
   "source": [
    "## \t035. Search Insert Position"
   ]
  },
  {
   "cell_type": "markdown",
   "metadata": {},
   "source": [
    "Given a sorted array and a target value, return the index if the target is found. If not, return the index where it would be if it were inserted in order.\n",
    "\n",
    "You may assume no duplicates in the array.\n",
    "\n",
    "Here are few examples. [1,3,5,6], 5 → 2 [1,3,5,6], 2 → 1 [1,3,5,6], 7 → 4 [1,3,5,6], 0 → 0\n",
    "\n",
    "- https://leetcode.com/problems/search-insert-position/\n",
    "- https://leetcode.com/discuss/general-discussion/786126/python-powerful-ultimate-binary-search-template-solved-many-problems"
   ]
  },
  {
   "cell_type": "code",
   "execution_count": 11,
   "metadata": {},
   "outputs": [],
   "source": [
    "def solution(nums, target):\n",
    "    \"\"\"modification of binary search\"\"\"\n",
    "    left = 0\n",
    "    right = len(nums)\n",
    "    while left < right:\n",
    "        mid = left + (right - left) // 2\n",
    "        if nums[mid] == target:\n",
    "            return mid\n",
    "        elif nums[mid] > target:\n",
    "            right = mid\n",
    "        else:\n",
    "            left = mid + 1\n",
    "\n",
    "    return left"
   ]
  },
  {
   "cell_type": "code",
   "execution_count": 12,
   "metadata": {},
   "outputs": [
    {
     "data": {
      "text/plain": [
       "2"
      ]
     },
     "execution_count": 12,
     "metadata": {},
     "output_type": "execute_result"
    }
   ],
   "source": [
    "nums = [1, 3, 5, 6]\n",
    "target = 4\n",
    "solution(nums, target)"
   ]
  },
  {
   "cell_type": "markdown",
   "metadata": {},
   "source": [
    "## 039. Combination Sum"
   ]
  },
  {
   "cell_type": "markdown",
   "metadata": {},
   "source": [
    "Given an array of distinct integers candidates and a target integer target, return a list of all unique combinations of candidates where the chosen numbers sum to target. You may return the combinations in any order.\n",
    "\n",
    "The same number may be chosen from candidates an unlimited number of times. Two combinations are unique if the frequency of at least one of the chosen numbers is different.\n",
    "\n",
    "It is guaranteed that the number of unique combinations that sum up to target is less than 150 combinations for the given input."
   ]
  },
  {
   "cell_type": "code",
   "execution_count": 7,
   "metadata": {},
   "outputs": [],
   "source": [
    "from typing import List\n",
    "\n",
    "\n",
    "def combinationSum(candidates: List[int], target: int) -> List[List[int]]:\n",
    "    \"\"\"\n",
    "    The worst-case time complexity will be 2^Target.\n",
    "    If we have 1 in the list and the target is 7.\n",
    "    we have to make 7 branches to the bottom to find the combination with 1.\n",
    "    So the height of our tree would be T and the decisions can be two at a time.\n",
    "    \"\"\"\n",
    "    result = []\n",
    "    def dfs(i, current, total):\n",
    "        if total == target:\n",
    "            result.append(current[:])\n",
    "            return\n",
    "        \n",
    "        if i == len(candidates) or total > target:\n",
    "            return\n",
    "\n",
    "        candidate = candidates[i]\n",
    "        current.append(candidate)\n",
    "        # if we included a candidate, we can continue to include that candidate\n",
    "        dfs(i, current, total + candidate)\n",
    "        current.pop()\n",
    "        # then the other branch is not including that candidate at all, this\n",
    "        # ensure we won't result in duplicates\n",
    "        dfs(i + 1, current, total)\n",
    "\n",
    "    dfs(0, [], 0)\n",
    "    return result"
   ]
  },
  {
   "cell_type": "code",
   "execution_count": 8,
   "metadata": {},
   "outputs": [
    {
     "data": {
      "text/plain": [
       "[[2, 2, 3], [7]]"
      ]
     },
     "execution_count": 8,
     "metadata": {},
     "output_type": "execute_result"
    }
   ],
   "source": [
    "candidates = [2,3,6,7]\n",
    "target = 7\n",
    "combinationSum(candidates, target)"
   ]
  },
  {
   "cell_type": "markdown",
   "metadata": {},
   "source": [
    "## 040. Combination Sum II"
   ]
  },
  {
   "cell_type": "markdown",
   "metadata": {},
   "source": [
    "Given a collection of candidate numbers (candidates) and a target number (target), find all unique combinations in candidates where the candidate numbers sum to target.\n",
    "\n",
    "Each number in candidates may only be used once in the combination.\n",
    "\n",
    "Note: The solution set must not contain duplicate combinations."
   ]
  },
  {
   "cell_type": "code",
   "execution_count": 7,
   "metadata": {},
   "outputs": [],
   "source": [
    "from typing import List\n",
    "\n",
    "\n",
    "def combinationSum2(candidates: List[int], target: int) -> List[List[int]]:\n",
    "    \"\"\"Time complexity 2^n\"\"\"\n",
    "    candidates.sort()\n",
    "    result = []\n",
    "\n",
    "    def dfs(start, current, total):\n",
    "        if total == target:\n",
    "            result.append(current[:])\n",
    "            return\n",
    "\n",
    "        if total > target:\n",
    "            return\n",
    "\n",
    "        prev = -1\n",
    "        for i in range(start, len(candidates)):\n",
    "            candidate = candidates[i]\n",
    "            if candidate == prev:\n",
    "                continue\n",
    "            current.append(candidate)\n",
    "            dfs(i + 1, current, total + candidate)\n",
    "            current.pop()\n",
    "            prev = candidate\n",
    "\n",
    "    dfs(0, [], 0)\n",
    "    return result"
   ]
  },
  {
   "cell_type": "code",
   "execution_count": 8,
   "metadata": {},
   "outputs": [
    {
     "data": {
      "text/plain": [
       "[[1, 1, 6], [1, 2, 5], [1, 7], [2, 6]]"
      ]
     },
     "execution_count": 8,
     "metadata": {},
     "output_type": "execute_result"
    }
   ],
   "source": [
    "candidates = [10,1,2,7,6,1,5]\n",
    "target = 8\n",
    "combinationSum2(candidates, target)"
   ]
  },
  {
   "cell_type": "markdown",
   "metadata": {},
   "source": [
    "## 046. Permutations"
   ]
  },
  {
   "cell_type": "markdown",
   "metadata": {},
   "source": [
    "Given an array nums of distinct integers, return all the possible permutations. You can return the answer in any order.\n",
    "\n",
    "- https://www.youtube.com/watch?v=s7AvT7cGdSo\n",
    "- https://www.programcreek.com/2013/02/leetcode-permutations-java/"
   ]
  },
  {
   "cell_type": "code",
   "execution_count": 21,
   "metadata": {},
   "outputs": [],
   "source": [
    "from typing import List\n",
    "\n",
    "def permute(nums: List[int]) -> List[List[int]]:\n",
    "    def backtrack(start, end):\n",
    "        if start == end:\n",
    "            ans.append(nums[:])\n",
    "        for i in range(start, end):\n",
    "            nums[start], nums[i] = nums[i], nums[start]\n",
    "            backtrack(start+1, end)\n",
    "            nums[start], nums[i] = nums[i], nums[start]\n",
    "\n",
    "    ans = []\n",
    "    backtrack(0, len(nums))\n",
    "    return ans"
   ]
  },
  {
   "cell_type": "code",
   "execution_count": 22,
   "metadata": {},
   "outputs": [
    {
     "data": {
      "text/plain": [
       "[[1, 2, 3], [1, 3, 2], [2, 1, 3], [2, 3, 1], [3, 2, 1], [3, 1, 2]]"
      ]
     },
     "execution_count": 22,
     "metadata": {},
     "output_type": "execute_result"
    }
   ],
   "source": [
    "nums = [1,2,3]\n",
    "permute(nums)"
   ]
  },
  {
   "cell_type": "markdown",
   "metadata": {},
   "source": [
    "## 053. Maximum Subarray"
   ]
  },
  {
   "cell_type": "markdown",
   "metadata": {},
   "source": [
    "Find the contiguous subarray within an array (containing at least one number) which has the largest sum.\n",
    "\n",
    "For example, given the array [-2,1,-3,4,-1,2,1,-5,4],the contiguous subarray [4,-1,2,1] has the largest sum = 6.\n",
    "\n",
    "- https://www.youtube.com/watch?v=5WZl3MMT0Eg\n",
    "- https://medium.com/@rsinghal757/kadanes-algorithm-dynamic-programming-how-and-why-does-it-work-3fd8849ed73d"
   ]
  },
  {
   "cell_type": "code",
   "execution_count": 141,
   "metadata": {},
   "outputs": [],
   "source": [
    "from typing import List\n",
    "\n",
    "def maxSubArray(nums: List[int]) -> int:\n",
    "    \"\"\"dynamic programming bottom up\"\"\"\n",
    "    memoize = [None] * len(nums)\n",
    "    memoize[0] = nums[0]\n",
    "    global_max = nums[0]\n",
    "    for i in range(1, len(nums)):\n",
    "        result = max(nums[i], nums[i] + memoize[i - 1])\n",
    "        memoize[i] = result\n",
    "        global_max = max(global_max, result)\n",
    "    \n",
    "    return global_max"
   ]
  },
  {
   "cell_type": "code",
   "execution_count": 142,
   "metadata": {},
   "outputs": [
    {
     "data": {
      "text/plain": [
       "4"
      ]
     },
     "execution_count": 142,
     "metadata": {},
     "output_type": "execute_result"
    }
   ],
   "source": [
    "nums = [-2,1,-3,4]\n",
    "maxSubArray(nums)"
   ]
  },
  {
   "cell_type": "code",
   "execution_count": 143,
   "metadata": {},
   "outputs": [
    {
     "data": {
      "text/plain": [
       "6"
      ]
     },
     "execution_count": 143,
     "metadata": {},
     "output_type": "execute_result"
    }
   ],
   "source": [
    "nums = [-2,1,-3,4,-1,2,1,-5,4]\n",
    "maxSubArray(nums)"
   ]
  },
  {
   "cell_type": "code",
   "execution_count": 6,
   "metadata": {},
   "outputs": [],
   "source": [
    "from typing import List\n",
    "\n",
    "\n",
    "def maxSubArray(nums: List[int]) -> int:\n",
    "    answer = nums[0]\n",
    "    cur_sum = 0\n",
    "    for num in nums:\n",
    "        if cur_sum < 0:\n",
    "            cur_sum = 0\n",
    "        cur_sum += num\n",
    "        answer = max(answer, cur_sum)\n",
    "        \n",
    "    return answer"
   ]
  },
  {
   "cell_type": "code",
   "execution_count": 7,
   "metadata": {},
   "outputs": [
    {
     "data": {
      "text/plain": [
       "5"
      ]
     },
     "execution_count": 7,
     "metadata": {},
     "output_type": "execute_result"
    }
   ],
   "source": [
    "nums = [-2, 3, 2, -1]\n",
    "maxSubArray(nums)"
   ]
  },
  {
   "cell_type": "markdown",
   "metadata": {},
   "source": [
    "## 056. Merge Intervals"
   ]
  },
  {
   "cell_type": "markdown",
   "metadata": {},
   "source": [
    "Given an array of intervals where `intervals[i] = [starti, endi]`, merge all overlapping intervals, and return an array of the non-overlapping intervals that cover all the intervals in the input.\n",
    "\n",
    "https://leetcode.com/problems/merge-intervals/solution/"
   ]
  },
  {
   "cell_type": "code",
   "execution_count": 36,
   "metadata": {},
   "outputs": [],
   "source": [
    "from typing import List\n",
    "\n",
    "\n",
    "def merge(intervals: List[List[int]]) -> List[List[int]]:\n",
    "    \"\"\"\n",
    "    We sort the intervals by their start value.\n",
    "    Then, we insert the first interval into our merged list and continue considering each interval in\n",
    "    turn as follows:\n",
    "    \n",
    "    If the current interval begins after the previous interval ends,\n",
    "    then they do not overlap and we can append the current interval to merged.\n",
    "    Otherwise, they do overlap, and we merge them by updating the end of the previous\n",
    "    interval if it is less than the end of the current interval.\n",
    "    \"\"\"\n",
    "    intervals.sort()\n",
    "\n",
    "    merged = [intervals[0]]\n",
    "    for interval in intervals[1:]:\n",
    "        last_merge = merged[-1]\n",
    "        # if the starting point of the current interval\n",
    "        # is greater than the ending point of the previous\n",
    "        # interval, then the two interval can't be merged\n",
    "        if last_merge[1] < interval[0]:\n",
    "            merged.append(interval)\n",
    "        else:\n",
    "            # check if current interval's ending point is larger than\n",
    "            # the end point of the previous interval, if yes, replace range\n",
    "            if interval[1] > last_merge[1]:\n",
    "                merged[-1] = (last_merge[0], interval[1])\n",
    "\n",
    "    return merged"
   ]
  },
  {
   "cell_type": "code",
   "execution_count": 37,
   "metadata": {},
   "outputs": [
    {
     "data": {
      "text/plain": [
       "[(1, 6), [8, 10], [15, 18]]"
      ]
     },
     "execution_count": 37,
     "metadata": {},
     "output_type": "execute_result"
    }
   ],
   "source": [
    "intervals = [[1,3],[2,6],[8,10],[15,18]]\n",
    "merge(intervals)"
   ]
  },
  {
   "cell_type": "markdown",
   "metadata": {},
   "source": [
    "## 058. Length of Last Word\n",
    "\n",
    "Given a string s consists of upper/lower-case alphabets and empty space characters ' ', return the length of last word in the string.\n",
    "\n",
    "If the last word does not exist, return 0.\n",
    "\n",
    "Note: A word is defined as a character sequence consists of non-space characters only.\n",
    "\n",
    "For example, \n",
    "Given s = \"Hello World\", return 5.\n",
    "Given s = \"b a \", return 1.\n",
    "\n",
    "https://discuss.leetcode.com/topic/17312/7-lines-4ms-c-solution"
   ]
  },
  {
   "cell_type": "code",
   "execution_count": 15,
   "metadata": {},
   "outputs": [],
   "source": [
    "def solution(s):\n",
    "    length = 0\n",
    "    tail = len(s) - 1\n",
    "    # Start from the tail of the input string and move backwards to find\n",
    "    # the first non-space character (essentially the .trim method)\n",
    "    # and the first tail > 0 will check for edge cases such as ''\n",
    "    while tail > 0 and s[tail] == ' ':\n",
    "        tail -= 1\n",
    "\n",
    "    # Then from this character, move backwards and count the number of\n",
    "    # non-space characters until we pass over the head of s or meet a\n",
    "    # space character    \n",
    "    while tail >= 0 and s[tail] != ' ':\n",
    "        length += 1\n",
    "        tail -= 1\n",
    "\n",
    "    return length"
   ]
  },
  {
   "cell_type": "code",
   "execution_count": 16,
   "metadata": {},
   "outputs": [
    {
     "data": {
      "text/plain": [
       "1"
      ]
     },
     "execution_count": 16,
     "metadata": {},
     "output_type": "execute_result"
    }
   ],
   "source": [
    "s = 'Hello World'\n",
    "s = 'b a '\n",
    "s = 'a'\n",
    "solution(s)"
   ]
  },
  {
   "cell_type": "markdown",
   "metadata": {},
   "source": [
    "## 066. Plus One\n",
    "\n",
    "Given a non-negative integer represented as a non-empty array of digits, plus one to the integer.\n",
    "\n",
    "You may assume the integer do not contain any leading zero, except the number 0 itself.\n",
    "\n",
    "The digits are stored such that the most significant digit is at the head of the list."
   ]
  },
  {
   "cell_type": "code",
   "execution_count": 17,
   "metadata": {},
   "outputs": [],
   "source": [
    "def solution(digits):\n",
    "    n = len(digits)\n",
    "    for i in reversed(range(n)):\n",
    "        # if it doesn't need to carry over to the next digit\n",
    "        if digits[i] < 9:\n",
    "            digits[i] += 1\n",
    "            return digits\n",
    "        else:\n",
    "            digits[i] = 0\n",
    "    \n",
    "    # for cases where all digits are 9\n",
    "    # the resulting number will have more digits than the original input\n",
    "    digits[0] = 1\n",
    "    digits.append(0)\n",
    "    return digits"
   ]
  },
  {
   "cell_type": "code",
   "execution_count": 18,
   "metadata": {},
   "outputs": [
    {
     "data": {
      "text/plain": [
       "[1, 0, 0]"
      ]
     },
     "execution_count": 18,
     "metadata": {},
     "output_type": "execute_result"
    }
   ],
   "source": [
    "digits = [9]\n",
    "digits = [9, 9]\n",
    "solution(digits)\n",
    "digits"
   ]
  },
  {
   "cell_type": "markdown",
   "metadata": {},
   "source": [
    "## 069. sqrt(x)"
   ]
  },
  {
   "cell_type": "markdown",
   "metadata": {},
   "source": [
    "Given a non-negative integer x, compute and return the square root of x.\n",
    "\n",
    "Since the return type is an integer, the decimal digits are truncated, and only the integer part of the result is returned.\n",
    "\n",
    "Input: x = 8\n",
    "Output: 2\n",
    "Explanation: The square root of 8 is 2.82842..., and since the decimal part is truncated, 2 is returned.\n",
    "\n",
    "- https://leetcode.com/problems/sqrtx/\n",
    "- https://leetcode.com/discuss/general-discussion/786126/python-powerful-ultimate-binary-search-template-solved-many-problems"
   ]
  },
  {
   "cell_type": "code",
   "execution_count": 57,
   "metadata": {},
   "outputs": [],
   "source": [
    "def mysqrt(x):\n",
    "    if x == 1:\n",
    "        return 1\n",
    "\n",
    "    low = 0\n",
    "    high = x // 2 + 1\n",
    "    while low < high:\n",
    "        mid = (low + high) // 2\n",
    "        result = mid * mid\n",
    "        if result == x:\n",
    "            return mid\n",
    "        elif result < x:\n",
    "            low = mid + 1\n",
    "        else:\n",
    "            high = mid\n",
    "\n",
    "    return low - 1"
   ]
  },
  {
   "cell_type": "code",
   "execution_count": 55,
   "metadata": {},
   "outputs": [
    {
     "data": {
      "text/plain": [
       "0"
      ]
     },
     "execution_count": 55,
     "metadata": {},
     "output_type": "execute_result"
    }
   ],
   "source": [
    "mysqrt(1)"
   ]
  },
  {
   "cell_type": "code",
   "execution_count": 50,
   "metadata": {},
   "outputs": [
    {
     "data": {
      "text/plain": [
       "1"
      ]
     },
     "execution_count": 50,
     "metadata": {},
     "output_type": "execute_result"
    }
   ],
   "source": [
    "mysqrt(3)"
   ]
  },
  {
   "cell_type": "code",
   "execution_count": 51,
   "metadata": {},
   "outputs": [
    {
     "data": {
      "text/plain": [
       "2"
      ]
     },
     "execution_count": 51,
     "metadata": {},
     "output_type": "execute_result"
    }
   ],
   "source": [
    "mysqrt(8)"
   ]
  },
  {
   "cell_type": "markdown",
   "metadata": {},
   "source": [
    "## 070. Climbing Stairs"
   ]
  },
  {
   "cell_type": "markdown",
   "metadata": {},
   "source": [
    "You are climbing a stair case. It takes n steps to reach to the top.\n",
    "\n",
    "Each time you can either climb 1 or 2 steps. In how many distinct ways can you climb to the top?\n",
    "\n",
    "Note: Given n will be a positive integer.\n",
    "\n",
    "https://www.youtube.com/watch?v=vYquumk4nWw"
   ]
  },
  {
   "cell_type": "code",
   "execution_count": 195,
   "metadata": {},
   "outputs": [],
   "source": [
    "def climbStairs(n: int) -> int:\n",
    "    \"\"\"dynamic programming\"\"\"\n",
    "    memorize = [None] * (n + 1)\n",
    "\n",
    "    def climb(n):\n",
    "        if memorize[n] is not None:\n",
    "            return memorize[n]\n",
    "        if n == 0 or n == 1:\n",
    "            result = 1\n",
    "        else:\n",
    "            result = climb(n - 1) + climb(n - 2)\n",
    "\n",
    "        memorize[n] = result\n",
    "        return result\n",
    "    \n",
    "    result = climb(n)\n",
    "    return result"
   ]
  },
  {
   "cell_type": "code",
   "execution_count": 196,
   "metadata": {},
   "outputs": [
    {
     "name": "stdout",
     "output_type": "stream",
     "text": [
      "[1, 1, 2, 3]\n"
     ]
    },
    {
     "data": {
      "text/plain": [
       "3"
      ]
     },
     "execution_count": 196,
     "metadata": {},
     "output_type": "execute_result"
    }
   ],
   "source": [
    "climbStairs(3)"
   ]
  },
  {
   "cell_type": "markdown",
   "metadata": {},
   "source": [
    "## 073. Set Matrix Zeroes"
   ]
  },
  {
   "cell_type": "markdown",
   "metadata": {},
   "source": [
    "Given an m x n integer matrix matrix, if an element is 0, set its entire row and column to 0's.\n",
    "\n",
    "You must do it in place.\n",
    "\n",
    "- https://leetcode.com/problems/set-matrix-zeroes/solution/"
   ]
  },
  {
   "cell_type": "code",
   "execution_count": 63,
   "metadata": {},
   "outputs": [],
   "source": [
    "from typing import List\n",
    "\n",
    "def set_zeroes(matrix: List[List[int]]) -> None:\n",
    "    num_rows = len(matrix)\n",
    "    num_cols = len(matrix[0])\n",
    "\n",
    "    row = set()\n",
    "    col = set()\n",
    "    for i in range(num_rows):\n",
    "        for j in range(num_cols):\n",
    "            if matrix[i][j] == 0:\n",
    "                row.add(i)\n",
    "                col.add(j)\n",
    "\n",
    "    for i in range(num_rows):\n",
    "        for j in range(num_cols):\n",
    "            if i in row or j in col:\n",
    "                matrix[i][j] = 0\n",
    "                \n",
    "    return matrix"
   ]
  },
  {
   "cell_type": "code",
   "execution_count": 64,
   "metadata": {},
   "outputs": [
    {
     "data": {
      "text/plain": [
       "[[1, 0, 1], [0, 0, 0], [1, 0, 1]]"
      ]
     },
     "execution_count": 64,
     "metadata": {},
     "output_type": "execute_result"
    }
   ],
   "source": [
    "matrix = [[1,1,1],[1,0,1],[1,1,1]]\n",
    "set_zeroes(matrix)"
   ]
  },
  {
   "cell_type": "markdown",
   "metadata": {},
   "source": [
    "## 077. Combinations"
   ]
  },
  {
   "cell_type": "markdown",
   "metadata": {},
   "source": [
    "Given two integers n and k, return all possible combinations of k numbers out of 1 ... n.\n",
    "\n",
    "For example,\n",
    "If n = 4 and k = 2, a solution is:\n",
    "\n",
    "```\n",
    "[\n",
    "  [2,4],\n",
    "  [3,4],\n",
    "  [2,3],\n",
    "  [1,2],\n",
    "  [1,3],\n",
    "  [1,4],\n",
    "]\n",
    "```\n",
    "\n",
    "- https://www.youtube.com/watch?v=q0s6m7AiM7o\n",
    "- https://discuss.leetcode.com/topic/25958/ac-python-backtracking-iterative-solution-60-ms"
   ]
  },
  {
   "cell_type": "code",
   "execution_count": 1,
   "metadata": {},
   "outputs": [],
   "source": [
    "from typing import List\n",
    "\n",
    "\n",
    "def combine(n: int, k: int) -> List[List[int]]:\n",
    "    result = []\n",
    "\n",
    "    def backtrack(start, combination):\n",
    "        if len(combination) == k:\n",
    "            result.append(combination[:])\n",
    "            return\n",
    "        \n",
    "        for i in range(start, n + 1):\n",
    "            combination.append(i)\n",
    "            backtrack(i + 1, combination)\n",
    "            combination.pop()\n",
    "        \n",
    "    backtrack(1, [])\n",
    "    return result"
   ]
  },
  {
   "cell_type": "code",
   "execution_count": 2,
   "metadata": {},
   "outputs": [
    {
     "data": {
      "text/plain": [
       "[[1, 2], [1, 3], [1, 4], [2, 3], [2, 4], [3, 4]]"
      ]
     },
     "execution_count": 2,
     "metadata": {},
     "output_type": "execute_result"
    }
   ],
   "source": [
    "n = 4\n",
    "k = 2\n",
    "combine(n, k)"
   ]
  },
  {
   "cell_type": "code",
   "execution_count": 21,
   "metadata": {},
   "outputs": [],
   "source": [
    "def solution(n, k):\n",
    "    \"\"\"backtracking\"\"\"\n",
    "    ans = []\n",
    "    stack = []\n",
    "    x = 1\n",
    "    while True:\n",
    "        l = len(stack)\n",
    "        if l == k:\n",
    "            ans.append(stack[:])\n",
    "\n",
    "        # since we're inserting the numbers\n",
    "        # into the stack in ascending order,\n",
    "        # we want to make sure there are enough\n",
    "        # larger numbers to be inserted;\n",
    "        # 1. one combination has k numbers, and currently we already have l\n",
    "        # numbers, so we need to find another k-l numbers\n",
    "        # 2. from x to n, there are n-x+1 numbers that are larger than\n",
    "        # the numbers in the current stack\n",
    "        if l == k or n - x + 1 < k - l:\n",
    "            if not stack:\n",
    "                return ans\n",
    "\n",
    "            x = stack.pop() + 1\n",
    "        else:\n",
    "            stack.append(x)\n",
    "            x += 1"
   ]
  },
  {
   "cell_type": "code",
   "execution_count": 22,
   "metadata": {},
   "outputs": [
    {
     "data": {
      "text/plain": [
       "[[1, 2], [1, 3], [1, 4], [2, 3], [2, 4], [3, 4]]"
      ]
     },
     "execution_count": 22,
     "metadata": {},
     "output_type": "execute_result"
    }
   ],
   "source": [
    "n = 4\n",
    "k = 2\n",
    "solution(n, k)"
   ]
  },
  {
   "cell_type": "code",
   "execution_count": 23,
   "metadata": {},
   "outputs": [],
   "source": [
    "from itertools import combinations\n",
    "\n",
    "\n",
    "def solution(n, k):\n",
    "    \"\"\"faster using python module's combinations\"\"\"\n",
    "    lst = [i for i in range(1, n + 1)]\n",
    "    ans = combinations(lst, k)\n",
    "    return list(ans)"
   ]
  },
  {
   "cell_type": "code",
   "execution_count": 24,
   "metadata": {},
   "outputs": [
    {
     "data": {
      "text/plain": [
       "[(1, 2), (1, 3), (1, 4), (2, 3), (2, 4), (3, 4)]"
      ]
     },
     "execution_count": 24,
     "metadata": {},
     "output_type": "execute_result"
    }
   ],
   "source": [
    "n = 4\n",
    "k = 2\n",
    "solution(n, k)"
   ]
  },
  {
   "cell_type": "markdown",
   "metadata": {},
   "source": [
    "## 078. Subsets"
   ]
  },
  {
   "cell_type": "markdown",
   "metadata": {},
   "source": [
    "Given an integer array nums of unique elements, return all possible subsets (the power set).\n",
    "\n",
    "The solution set must not contain duplicate subsets. Return the solution in any order.\n",
    "\n",
    "- https://leetcode.com/problems/subsets/solution/"
   ]
  },
  {
   "cell_type": "code",
   "execution_count": 11,
   "metadata": {},
   "outputs": [],
   "source": [
    "from typing import List\n",
    "\n",
    "\n",
    "def subsets(nums: List[int]) -> List[List[int]]:\n",
    "    nums_length = len(nums)\n",
    "    results = []\n",
    "    \n",
    "    def backtrack(start, current, i):\n",
    "        if len(current) == i:\n",
    "            results.append(current[:])\n",
    "            return      \n",
    "        \n",
    "        for j in range(start, nums_length):\n",
    "            num = nums[j]\n",
    "            current.append(num)\n",
    "            backtrack(j + 1, current, i)\n",
    "            current.pop()\n",
    "\n",
    "    #different length of the subsets\n",
    "    for i in range(nums_length + 1):\n",
    "        backtrack(0, [], i)\n",
    "\n",
    "    return results"
   ]
  },
  {
   "cell_type": "code",
   "execution_count": 12,
   "metadata": {},
   "outputs": [
    {
     "data": {
      "text/plain": [
       "[[], [1], [2], [3], [1, 2], [1, 3], [2, 3], [1, 2, 3]]"
      ]
     },
     "execution_count": 12,
     "metadata": {},
     "output_type": "execute_result"
    }
   ],
   "source": [
    "nums = [1, 2, 3]\n",
    "subsets(nums)\n",
    "# [[],[1],[2],[1,2],[3],[1,3],[2,3],[1,2,3]]"
   ]
  },
  {
   "cell_type": "markdown",
   "metadata": {},
   "source": [
    "## 079. Word Search"
   ]
  },
  {
   "cell_type": "markdown",
   "metadata": {},
   "source": [
    "Given an m x n grid of characters board and a string word, return true if word exists in the grid.\n",
    "\n",
    "The word can be constructed from letters of sequentially adjacent cells, where adjacent cells are horizontally or vertically neighboring. The same letter cell may not be used more than once.\n",
    "\n",
    "https://leetcode.com/problems/word-search/discuss/2279013/Python3-oror-Backtracking-DFS"
   ]
  },
  {
   "cell_type": "code",
   "execution_count": 26,
   "metadata": {},
   "outputs": [],
   "source": [
    "from typing import List\n",
    "\n",
    "\n",
    "def exist(board: List[List[str]], word: str) -> bool:\n",
    "    n_rows = len(board)\n",
    "    n_cols = len(board[0])\n",
    "    directions = [(0, 1), (1, 0), (-1, 0), (0, -1)]\n",
    "    visited = set()\n",
    "    \n",
    "    def dfs(i, j, word_index):\n",
    "        if word_index == len(word):\n",
    "            return True\n",
    "        \n",
    "        outside_board = i < 0 or i >= n_rows or j < 0 or j >= n_cols\n",
    "        if outside_board and (i, j) in visited and word[word_index] != board[i][j]:\n",
    "            return False\n",
    "\n",
    "        visited.add((i, j))\n",
    "        \n",
    "        result = (dfs(i + 1, j, word_index + 1) or\n",
    "                  dfs(i - 1, j, word_index + 1) or\n",
    "                  dfs(i, j + 1, word_index + 1) or\n",
    "                  dfs(i, j - 1, word_index + 1))\n",
    "        visited.remove((i, j))\n",
    "        return result\n",
    "\n",
    "    for i in range(n_rows):\n",
    "        for j in range(n_cols):\n",
    "            if dfs(i, j, 0):\n",
    "                return True\n",
    "    return False"
   ]
  },
  {
   "cell_type": "code",
   "execution_count": 27,
   "metadata": {},
   "outputs": [
    {
     "data": {
      "text/plain": [
       "True"
      ]
     },
     "execution_count": 27,
     "metadata": {},
     "output_type": "execute_result"
    }
   ],
   "source": [
    "board = [[\"A\",\"B\",\"C\",\"E\"],[\"S\",\"F\",\"C\",\"S\"],[\"A\",\"D\",\"E\",\"E\"]]\n",
    "word = \"ABCCED\"\n",
    "exist(board, word)"
   ]
  },
  {
   "cell_type": "code",
   "execution_count": 28,
   "metadata": {},
   "outputs": [
    {
     "data": {
      "text/plain": [
       "True"
      ]
     },
     "execution_count": 28,
     "metadata": {},
     "output_type": "execute_result"
    }
   ],
   "source": [
    "board = [[\"A\",\"B\",\"C\",\"E\"],[\"S\",\"F\",\"C\",\"S\"],[\"A\",\"D\",\"E\",\"E\"]]\n",
    "word = \"SEE\"\n",
    "exist(board, word)"
   ]
  },
  {
   "cell_type": "code",
   "execution_count": 29,
   "metadata": {},
   "outputs": [
    {
     "data": {
      "text/plain": [
       "True"
      ]
     },
     "execution_count": 29,
     "metadata": {},
     "output_type": "execute_result"
    }
   ],
   "source": [
    "board = [[\"A\",\"B\",\"C\",\"E\"],[\"S\",\"F\",\"C\",\"S\"],[\"A\",\"D\",\"E\",\"E\"]]\n",
    "word = \"ABCB\"\n",
    "exist(board, word)"
   ]
  },
  {
   "cell_type": "code",
   "execution_count": 30,
   "metadata": {},
   "outputs": [
    {
     "data": {
      "text/plain": [
       "True"
      ]
     },
     "execution_count": 30,
     "metadata": {},
     "output_type": "execute_result"
    }
   ],
   "source": [
    "board = [[\"a\",\"b\"],[\"c\",\"d\"]]\n",
    "word = \"cdba\"\n",
    "exist(board, word)"
   ]
  },
  {
   "cell_type": "markdown",
   "metadata": {},
   "source": [
    "## 088. Merge Sorted Array"
   ]
  },
  {
   "cell_type": "markdown",
   "metadata": {},
   "source": [
    "Given two sorted integer arrays nums1 and nums2, merge nums2 into nums1 as one sorted array.\n",
    "\n",
    "Note:\n",
    "You may assume that nums1 has enough space (size that is greater or equal to m + n) to hold additional elements from nums2. The number of elements initialized in nums1 and nums2 are m and n respectively.\n",
    "\n",
    "- https://discuss.leetcode.com/topic/5641/c-solution-runtime-o-n-in-place-easy-to-understand\n",
    "- https://leetcode.com/problems/merge-sorted-array/discuss/2065261/Python-Two-Pointers-with-Explanation"
   ]
  },
  {
   "cell_type": "code",
   "execution_count": 144,
   "metadata": {},
   "outputs": [],
   "source": [
    "def solution(nums1, m, nums2, n):\n",
    "    index1 = m - 1\n",
    "    index2 = n - 1\n",
    "    merged_index = m + n - 1\n",
    "    \n",
    "    # loop backwards and compare nums1 and nums2 to see which is bigger\n",
    "    # and fill the value to nums1\n",
    "    while index1 >= 0 and index2 >= 0:\n",
    "        if nums1[index1] > nums2[index2]:\n",
    "            nums1[merged_index] = nums1[index1]\n",
    "            index1 -= 1\n",
    "        else:\n",
    "            nums1[merged_index] = nums2[index2]\n",
    "            index2 -= 1\n",
    "        merged_index -= 1\n",
    "\n",
    "    # if there's only element left in the shorter array,\n",
    "    # copy it all to the longer array\n",
    "    while index2 >= 0:\n",
    "        nums1[merged_index] = nums2[index2]\n",
    "        index2 -= 1\n",
    "        merged_index -= 1"
   ]
  },
  {
   "cell_type": "code",
   "execution_count": 145,
   "metadata": {},
   "outputs": [
    {
     "data": {
      "text/plain": [
       "[1]"
      ]
     },
     "execution_count": 145,
     "metadata": {},
     "output_type": "execute_result"
    }
   ],
   "source": [
    "nums1 = [0]\n",
    "m = 0\n",
    "nums2 = [1]\n",
    "n = 1\n",
    "\n",
    "solution(nums1, m, nums2, n)\n",
    "nums1"
   ]
  },
  {
   "cell_type": "code",
   "execution_count": 146,
   "metadata": {},
   "outputs": [
    {
     "data": {
      "text/plain": [
       "[1, 2, 2, 3, 5, 6]"
      ]
     },
     "execution_count": 146,
     "metadata": {},
     "output_type": "execute_result"
    }
   ],
   "source": [
    "nums1 = [1,2,3,0,0,0]\n",
    "m = 3\n",
    "nums2 = [2,5,6]\n",
    "n = 3\n",
    "\n",
    "solution(nums1, m, nums2, n)\n",
    "nums1"
   ]
  },
  {
   "cell_type": "code",
   "execution_count": 140,
   "metadata": {},
   "outputs": [
    {
     "name": "stdout",
     "output_type": "stream",
     "text": [
      "[1, 2, 4, 5, 6, 6]\n",
      "[1, 2, 4, 5, 5, 6]\n",
      "[1, 2, 4, 4, 5, 6]\n",
      "[1, 2, 3, 4, 5, 6]\n"
     ]
    },
    {
     "data": {
      "text/plain": [
       "[1, 2, 3, 4, 5, 6]"
      ]
     },
     "execution_count": 140,
     "metadata": {},
     "output_type": "execute_result"
    }
   ],
   "source": [
    "nums1 = [1, 2, 4, 5, 6, 0]\n",
    "m = 5\n",
    "nums2 = [3]\n",
    "n = 1\n",
    "solution(nums1, m, nums2, n)\n",
    "nums1"
   ]
  },
  {
   "cell_type": "markdown",
   "metadata": {},
   "source": [
    "## 091. Decode Ways\n",
    "\n",
    "A message containing letters from A-Z is being encoded to numbers using the following mapping:\n",
    "\n",
    "```\n",
    "'A' -> 1\n",
    "'B' -> 2\n",
    "...\n",
    "'Z' -> 26\n",
    "```\n",
    "\n",
    "Given an encoded message containing digits, determine the total number of ways to decode it.\n",
    "\n",
    "For example, Given encoded message \"12\", it could be decoded as \"AB\" (1 2) or \"L\" (12).\n",
    "\n",
    "The number of ways decoding \"12\" is 2.\n",
    "\n",
    "https://discuss.leetcode.com/topic/35840/java-clean-dp-solution-with-explanation/2"
   ]
  },
  {
   "cell_type": "code",
   "execution_count": 27,
   "metadata": {},
   "outputs": [],
   "source": [
    "def solution(s):\n",
    "    n = len(s)\n",
    "    if n == 0 or s[0] == '0':\n",
    "        return 0\n",
    "    if n == 1:\n",
    "        return 1\n",
    "\n",
    "    prev1 = 1\n",
    "    prev2 = 1\n",
    "    for i in range(2, n + 1):\n",
    "        current = 0\n",
    "        first = int(s[i - 1])\n",
    "        second = int(s[(i - 2):i])\n",
    "        if 1 <= first and first <= 9:\n",
    "            current += prev1\n",
    "        # upper bound is 26 corresponding to Z\n",
    "        if 10 <= second and second <= 26:\n",
    "            current += prev2\n",
    "\n",
    "        prev2 = prev1\n",
    "        prev1 = current\n",
    "\n",
    "    return current"
   ]
  },
  {
   "cell_type": "code",
   "execution_count": 28,
   "metadata": {},
   "outputs": [
    {
     "data": {
      "text/plain": [
       "2"
      ]
     },
     "execution_count": 28,
     "metadata": {},
     "output_type": "execute_result"
    }
   ],
   "source": [
    "s = '12'\n",
    "solution(s)"
   ]
  },
  {
   "cell_type": "markdown",
   "metadata": {},
   "source": [
    "## 094. Binary Tree Inorder Traversal"
   ]
  },
  {
   "cell_type": "markdown",
   "metadata": {},
   "source": [
    "Given a binary tree, return the inorder traversal of its nodes' values.\n",
    "\n",
    "For example:\n",
    "Given binary tree [1,null,2,3]\n",
    "\n",
    "```\n",
    "   1\n",
    "    \\\n",
    "     2\n",
    "    /\n",
    "   3\n",
    "```\n",
    "return [1,3,2].\n",
    "\n",
    "Note: Recursive solution is trivial, could you do it iteratively?\n",
    "\n",
    "https://leetcode.com/problems/binary-tree-inorder-traversal/solution/"
   ]
  },
  {
   "cell_type": "code",
   "execution_count": 29,
   "metadata": {},
   "outputs": [],
   "source": [
    "class TreeNode:\n",
    "    \"\"\"Definition for a binary tree node.\"\"\"\n",
    "    def __init__(self, x):\n",
    "        self.val = x\n",
    "        self.left = None\n",
    "        self.right = None\n",
    "\n",
    "\n",
    "class Solution:\n",
    "    \"\"\"\n",
    "    In the case of binary search tree, in order traversal\n",
    "    1. traverse the left sub-tree 2. visit the root 3. traverse the right sub-tree \n",
    "    gives nodes in an ascending order\n",
    "    http://www.geeksforgeeks.org/tree-traversals-inorder-preorder-and-postorder/\n",
    "    \"\"\"\n",
    "    def inorderTraversal(self, root):\n",
    "        \"\"\"\n",
    "        :type root: TreeNode\n",
    "        :rtype: List[int]\n",
    "        \"\"\"\n",
    "        result = []\n",
    "        self.helper(root, result)\n",
    "        return result\n",
    "\n",
    "    def helper(self, root, result):\n",
    "        if root is not None:\n",
    "            self.helper(root.left, result)\n",
    "            result.append(root.val)\n",
    "            self.helper(root.right, result)"
   ]
  },
  {
   "cell_type": "code",
   "execution_count": 30,
   "metadata": {},
   "outputs": [],
   "source": [
    "class Solution:\n",
    "    \"\"\"Implementation using a stack\"\"\"\n",
    "    def inorderTraversal(self, root):\n",
    "        \"\"\"\n",
    "        :type root: TreeNode\n",
    "        :rtype: List[int]\n",
    "        \"\"\"\n",
    "        stack = []\n",
    "        result = []\n",
    "        curr = root\n",
    "        while curr is not None or stack:\n",
    "            while curr is not None:\n",
    "                stack.append(curr)\n",
    "                curr = curr.left\n",
    " \n",
    "            curr = stack.pop()\n",
    "            result.append(curr.val)\n",
    "            curr = curr.right\n",
    "\n",
    "        return result"
   ]
  },
  {
   "cell_type": "markdown",
   "metadata": {},
   "source": [
    "## 098. Validate Binary Search Tree\n",
    "\n",
    "Given a binary tree, determine if it is a valid binary search tree (BST).\n",
    "\n",
    "Assume a BST is defined as follows:\n",
    "\n",
    "The left subtree of a node contains only nodes with keys less than the node's key.\n",
    "The right subtree of a node contains only nodes with keys greater than the node's key.\n",
    "Both the left and right subtrees must also be binary search trees.\n",
    "Example 1:\n",
    "\n",
    "```\n",
    "    2\n",
    "   / \\\n",
    "  1   3\n",
    "```\n",
    "\n",
    "Binary tree [2,1,3], return true.\n",
    "\n",
    "Example 2:\n",
    "\n",
    "```\n",
    "    1\n",
    "   / \\\n",
    "  2   3\n",
    "```\n",
    "\n",
    "Binary tree [1,2,3], return false."
   ]
  },
  {
   "cell_type": "code",
   "execution_count": 31,
   "metadata": {},
   "outputs": [],
   "source": [
    "class TreeNode:\n",
    "    \"\"\"Definition for a binary tree node.\"\"\"\n",
    "    def __init__(self, x):\n",
    "        self.val = x\n",
    "        self.left = None\n",
    "        self.right = None\n",
    "\n",
    "\n",
    "def solution(root):\n",
    "    \"\"\"similar idea to 094. Binary Tree Inorder Traversal\"\"\"\n",
    "    stack = []\n",
    "    curr = root\n",
    "    prev = None\n",
    "    while curr is not None or stack:\n",
    "        while curr is not None:\n",
    "            stack.append(curr)\n",
    "            curr = curr.left\n",
    "\n",
    "        curr = stack.pop()\n",
    "        \n",
    "        # the left node should be smaller than the right node;\n",
    "        # thus if the node left is bigger than the right, this\n",
    "        # binary search tree is not valid\n",
    "        if prev is not None and prev.val >= curr.val:\n",
    "            return False\n",
    "        \n",
    "        prev = curr\n",
    "        curr = curr.right\n",
    "\n",
    "    return True"
   ]
  },
  {
   "cell_type": "code",
   "execution_count": 68,
   "metadata": {},
   "outputs": [],
   "source": [
    "def solution(a):\n",
    "    digits = [0] * 10\n",
    "    max_times = 0\n",
    "    for number in a:\n",
    "        for digit_str in str(number):\n",
    "            digit = int(digit_str)\n",
    "            count = digits[digit] + 1\n",
    "            digits[digit] = count\n",
    "            if count > max_times:\n",
    "                max_times = count\n",
    "\n",
    "    answer = []\n",
    "    for index, digit in enumerate(digits):\n",
    "        if digit == max_times:\n",
    "            answer.append(index)\n",
    "            \n",
    "    return answer"
   ]
  },
  {
   "cell_type": "code",
   "execution_count": 69,
   "metadata": {},
   "outputs": [
    {
     "data": {
      "text/plain": [
       "[2, 3, 5]"
      ]
     },
     "execution_count": 69,
     "metadata": {},
     "output_type": "execute_result"
    }
   ],
   "source": [
    "a = [25, 2, 3, 57, 38, 41]\n",
    "solution(a)"
   ]
  },
  {
   "cell_type": "markdown",
   "metadata": {},
   "source": [
    "## 100. Same Tree"
   ]
  },
  {
   "cell_type": "markdown",
   "metadata": {},
   "source": [
    "Given the roots of two binary trees p and q, write a function to check if they are the same or not.\n",
    "\n",
    "Two binary trees are considered the same if they are structurally identical, and the nodes have the same value.\n",
    "\n",
    "- https://leetcode.com/problems/same-tree/\n",
    "- https://leetcode.com/explore/learn/card/recursion-ii/503/recursion-to-iteration/2693/"
   ]
  },
  {
   "cell_type": "code",
   "execution_count": null,
   "metadata": {},
   "outputs": [],
   "source": [
    "# Definition for a binary tree node.\n",
    "# class TreeNode:\n",
    "#     def __init__(self, val=0, left=None, right=None):\n",
    "#         self.val = val\n",
    "#         self.left = left\n",
    "#         self.right = right\n",
    "class Solution:\n",
    "    def isSameTree(self, p: Optional[TreeNode], q: Optional[TreeNode]) -> bool:\n",
    "        p_stack = [p]\n",
    "        q_stack = [q]\n",
    "        while p_stack and q_stack:\n",
    "            p_node = p_stack.pop()\n",
    "            q_node = q_stack.pop()\n",
    "            if p_node is None and q_node is None:\n",
    "                continue\n",
    "            if p_node is None or q_node is None:\n",
    "                return False\n",
    "            if p_node.val != q_node.val:\n",
    "                return False\n",
    "\n",
    "            p_stack.append(p_node.left)\n",
    "            q_stack.append(q_node.left)\n",
    "            p_stack.append(p_node.right)\n",
    "            q_stack.append(q_node.right)\n",
    "            \n",
    "        return True"
   ]
  },
  {
   "cell_type": "markdown",
   "metadata": {},
   "source": [
    "## 101. Symmetric Tree"
   ]
  },
  {
   "cell_type": "markdown",
   "metadata": {},
   "source": [
    "Given the root of a binary tree, check whether it is a mirror of itself (i.e., symmetric around its center).\n",
    "\n",
    "- Input: root = [1,2,2,3,4,4,3]\n",
    "- Output: true\n",
    "\n",
    "- https://leetcode.com/problems/symmetric-tree/\n",
    "- https://leetcode.com/problems/symmetric-tree/discuss/2155531/Python-stacks"
   ]
  },
  {
   "cell_type": "code",
   "execution_count": null,
   "metadata": {},
   "outputs": [],
   "source": [
    "# class TreeNode:\n",
    "#     def __init__(self, val=0, left=None, right=None):\n",
    "#         self.val = val\n",
    "#         self.left = left\n",
    "#         self.right = right\n",
    "\n",
    "def is_symmetric(root: Optional[TreeNode]) -> bool:\n",
    "    left = [root.left]\n",
    "    right = [root.right]\n",
    "    while left and right:\n",
    "        left_node = left.pop()\n",
    "        right_node = right.pop()\n",
    "        if left_node is None and right_node is None:\n",
    "            continue\n",
    "\n",
    "        if left_node is None or right_node is None:\n",
    "            return False\n",
    "\n",
    "        if left_node.val != right_node.val:\n",
    "            return False\n",
    "\n",
    "        left.append(left_node.left)\n",
    "        left.append(left_node.right)\n",
    "        right.append(right_node.right)\n",
    "        right.append(right_node.left)\n",
    "\n",
    "    return True"
   ]
  },
  {
   "cell_type": "markdown",
   "metadata": {},
   "source": [
    "## 102. Binary Tree Level Order Traversal"
   ]
  },
  {
   "cell_type": "markdown",
   "metadata": {},
   "source": [
    "Given the root of a binary tree, return the level order traversal of its nodes' values. (i.e., from left to right, level by level).\n",
    "\n",
    "https://leetcode.com/problems/binary-tree-level-order-traversal/"
   ]
  },
  {
   "cell_type": "code",
   "execution_count": null,
   "metadata": {},
   "outputs": [],
   "source": [
    "from typing import List\n",
    "from collections import deque\n",
    "\n",
    "# Definition for a binary tree node.\n",
    "class TreeNode:\n",
    "    def __init__(self, val=0, left=None, right=None):\n",
    "        self.val = val\n",
    "        self.left = left\n",
    "        self.right = right\n",
    "\n",
    "\n",
    "def levelOrder(root: TreeNode) -> List[List[int]]:\n",
    "    level_order = []\n",
    "    if root is None:\n",
    "        return level_order        \n",
    "\n",
    "    queue = deque([root])\n",
    "    while queue:\n",
    "        level = []\n",
    "        for _ in range(len(queue)):\n",
    "            node = queue.popleft()\n",
    "            level.append(node.val)\n",
    "            if node.left:\n",
    "                queue.append(node.left)\n",
    "            if node.right:\n",
    "                queue.append(node.right)\n",
    "\n",
    "        level_order.append(level)\n",
    "\n",
    "    return level_order"
   ]
  },
  {
   "cell_type": "markdown",
   "metadata": {},
   "source": [
    "## 104. Maximum Depth of Binary Tree"
   ]
  },
  {
   "cell_type": "markdown",
   "metadata": {},
   "source": [
    "Given the root of a binary tree, return its maximum depth.\n",
    "\n",
    "A binary tree's maximum depth is the number of nodes along the longest path from the root node down to the farthest leaf node."
   ]
  },
  {
   "cell_type": "code",
   "execution_count": null,
   "metadata": {},
   "outputs": [],
   "source": [
    "# Definition for a binary tree node.\n",
    "# class TreeNode:\n",
    "#     def __init__(self, val=0, left=None, right=None):\n",
    "#         self.val = val\n",
    "#         self.left = left\n",
    "#         self.right = right\n",
    "\n",
    "from collections import deque\n",
    "\n",
    "class Solution:\n",
    "    def maxDepth(self, root: Optional[TreeNode]) -> int:\n",
    "        if not root:\n",
    "            return 0\n",
    "\n",
    "        level = 1\n",
    "        queue = deque([[root, level]])\n",
    "        while queue:\n",
    "            node, level = queue.popleft()\n",
    "            if node.left:\n",
    "                queue.append([node.left, level + 1])\n",
    "            if node.right:\n",
    "                queue.append([node.right, level + 1])\n",
    "        return level"
   ]
  },
  {
   "cell_type": "markdown",
   "metadata": {},
   "source": [
    "## 108. Convert Sorted Array to Binary Search Tree\n",
    "\n",
    "Given an array where elements are sorted in ascending order, convert it to a height balanced BST.\n",
    "\n",
    "https://discuss.leetcode.com/topic/10519/an-easy-python-solution"
   ]
  },
  {
   "cell_type": "code",
   "execution_count": 32,
   "metadata": {},
   "outputs": [],
   "source": [
    "class TreeNode:\n",
    "    \"\"\"Definition for a binary tree node.\"\"\"\n",
    "    def __init__(self, val):\n",
    "        self.val = val\n",
    "        self.left = None\n",
    "        self.right = None\n",
    "        \n",
    "\n",
    "def solution(nums):\n",
    "    \n",
    "    if not nums:\n",
    "        return None\n",
    "    \n",
    "    # find the root in the middle\n",
    "    # and recursively build the left and right tree\n",
    "    mid = len(nums) // 2\n",
    "    parent = TreeNode(nums[mid])\n",
    "    parent.left = solution(nums[:mid])\n",
    "    parent.right = solution(nums[(mid + 1):])\n",
    "    return parent"
   ]
  },
  {
   "cell_type": "code",
   "execution_count": 33,
   "metadata": {},
   "outputs": [
    {
     "data": {
      "text/plain": [
       "4"
      ]
     },
     "execution_count": 33,
     "metadata": {},
     "output_type": "execute_result"
    }
   ],
   "source": [
    "nums = [1, 2, 4, 5, 6]\n",
    "tree = solution(nums)\n",
    "tree.val"
   ]
  },
  {
   "cell_type": "markdown",
   "metadata": {},
   "source": [
    "## 121. Best Time to Buy and Sell Stock"
   ]
  },
  {
   "cell_type": "markdown",
   "metadata": {},
   "source": [
    "Say you have an array for which the ith element is the price of a given stock on day i.\n",
    "\n",
    "If you were only permitted to complete at most one transaction (ie, buy one and sell one share of the stock), design an algorithm to find the maximum profit.\n",
    "\n",
    "Example 1:\n",
    "\n",
    "Input: [7, 1, 5, 3, 6, 4] Output: 5\n",
    "\n",
    "max. difference = 6-1 = 5 (not 7-1 = 6, as selling price needs to be larger than buying price)\n",
    "\n",
    "Example 2:\n",
    "\n",
    "Input: [7, 6, 4, 3, 1] Output: 0\n",
    "\n",
    "In this case, no transaction is done, i.e. max profit = 0.\n",
    "\n",
    "- https://leetcode.com/problems/best-time-to-buy-and-sell-stock/solution/\n",
    "- https://leetcode.com/discuss/study-guide/1490172/Dynamic-programming-is-simple"
   ]
  },
  {
   "cell_type": "code",
   "execution_count": 210,
   "metadata": {},
   "outputs": [],
   "source": [
    "from typing import List\n",
    "\n",
    "def maxProfit(prices: List[int]) -> int:\n",
    "    \"\"\"very similar to maximum subarray\"\"\"\n",
    "    min_buy_price = prices[0]\n",
    "    max_profit = 0\n",
    "\n",
    "    for i in range(1, len(prices)):\n",
    "        min_buy_price = min(min_buy_price, prices[i])\n",
    "        max_profit = max(max_profit, prices[i] - min_buy_price)\n",
    "\n",
    "    return max_profit"
   ]
  },
  {
   "cell_type": "code",
   "execution_count": 211,
   "metadata": {},
   "outputs": [
    {
     "data": {
      "text/plain": [
       "5"
      ]
     },
     "execution_count": 211,
     "metadata": {},
     "output_type": "execute_result"
    }
   ],
   "source": [
    "prices = [7, 1, 5, 3, 6, 4]\n",
    "maxProfit(prices)"
   ]
  },
  {
   "cell_type": "markdown",
   "metadata": {},
   "source": [
    "## 122. Best Time to Buy and Sell Stock II"
   ]
  },
  {
   "cell_type": "markdown",
   "metadata": {},
   "source": [
    "Say you have an array for which the ith element is the price of a given stock on day i.\n",
    "\n",
    "Design an algorithm to find the maximum profit. You may complete as many transactions as you like (ie, buy one and sell one share of the stock multiple times). However, you may not engage in multiple transactions at the same time (ie, you must sell the stock before you buy again).\n",
    "\n",
    "https://leetcode.com/problems/best-time-to-buy-and-sell-stock-ii/solution/"
   ]
  },
  {
   "cell_type": "code",
   "execution_count": 36,
   "metadata": {},
   "outputs": [],
   "source": [
    "def solution(prices):\n",
    "    maxprofit = 0\n",
    "    for i in range(len(prices) - 1):\n",
    "        if prices[i + 1] > prices[i]:\n",
    "            maxprofit += (prices[i + 1] - prices[i])\n",
    "\n",
    "    return maxprofit"
   ]
  },
  {
   "cell_type": "code",
   "execution_count": 37,
   "metadata": {},
   "outputs": [
    {
     "data": {
      "text/plain": [
       "12"
      ]
     },
     "execution_count": 37,
     "metadata": {},
     "output_type": "execute_result"
    }
   ],
   "source": [
    "prices = [1, 7, 2, 3, 6, 7, 6, 7]\n",
    "solution(prices)"
   ]
  },
  {
   "cell_type": "markdown",
   "metadata": {},
   "source": [
    "## 125. Valid Palindrome"
   ]
  },
  {
   "cell_type": "markdown",
   "metadata": {},
   "source": [
    "A phrase is a palindrome if, after converting all uppercase letters into lowercase letters and removing all non-alphanumeric characters, it reads the same forward and backward. Alphanumeric characters include letters and numbers.\n",
    "\n",
    "Given a string s, return true if it is a palindrome, or false otherwise."
   ]
  },
  {
   "cell_type": "code",
   "execution_count": 22,
   "metadata": {},
   "outputs": [],
   "source": [
    "def is_palindrome(s: str) -> bool:\n",
    "    i = 0\n",
    "    j = len(s) - 1\n",
    "    while i < j:\n",
    "        if not s[i].isalnum():\n",
    "            i += 1\n",
    "            continue\n",
    "        if not s[j].isalnum():\n",
    "            j -= 1\n",
    "            continue\n",
    "\n",
    "        if s[i].lower() != s[j].lower():\n",
    "            return False\n",
    "        \n",
    "        i += 1\n",
    "        j -= 1\n",
    "        \n",
    "    return True "
   ]
  },
  {
   "cell_type": "code",
   "execution_count": 23,
   "metadata": {},
   "outputs": [
    {
     "data": {
      "text/plain": [
       "True"
      ]
     },
     "execution_count": 23,
     "metadata": {},
     "output_type": "execute_result"
    }
   ],
   "source": [
    "s = \"aa\"\n",
    "is_palindrome(s)"
   ]
  },
  {
   "cell_type": "code",
   "execution_count": 19,
   "metadata": {},
   "outputs": [
    {
     "data": {
      "text/plain": [
       "False"
      ]
     },
     "execution_count": 19,
     "metadata": {},
     "output_type": "execute_result"
    }
   ],
   "source": [
    "s = \"race a car\"\n",
    "is_palindrome(s)"
   ]
  },
  {
   "cell_type": "code",
   "execution_count": 20,
   "metadata": {},
   "outputs": [
    {
     "data": {
      "text/plain": [
       "True"
      ]
     },
     "execution_count": 20,
     "metadata": {},
     "output_type": "execute_result"
    }
   ],
   "source": [
    "s = \"A man, a plan, a canal: Panama\"\n",
    "is_palindrome(s)"
   ]
  },
  {
   "cell_type": "markdown",
   "metadata": {},
   "source": [
    "## 130. Surrounded Regions"
   ]
  },
  {
   "cell_type": "markdown",
   "metadata": {},
   "source": [
    "Given an m x n matrix board containing 'X' and 'O', capture all regions that are 4-directionally surrounded by 'X'.\n",
    "\n",
    "A region is captured by flipping all 'O's into 'X's in that surrounded region.\n",
    "\n",
    "- https://www.youtube.com/watch?v=9z2BunfoZ5Y\n",
    "- https://leetcode.com/problems/surrounded-regions/"
   ]
  },
  {
   "cell_type": "code",
   "execution_count": null,
   "metadata": {},
   "outputs": [],
   "source": [
    "from typing import List\n",
    "\n",
    "\n",
    "def solve(board: List[List[str]]) -> None:\n",
    "    \"\"\"\n",
    "    Do not return anything, modify board in-place instead.\n",
    "    \"\"\"\n",
    "    n_rows = len(board)\n",
    "    n_cols = len(board[0])\n",
    "\n",
    "    def traverse(i, j):\n",
    "        if i < 0 or j < 0 or i >= n_rows or j >= n_cols or board[i][j] != \"O\":\n",
    "            return\n",
    "\n",
    "        board[i][j] = \"T\"\n",
    "        traverse(i + 1, j)\n",
    "        traverse(i - 1, j)\n",
    "        traverse(i, j + 1)\n",
    "        traverse(i, j - 1)\n",
    "\n",
    "    # loop through the grid and find all the O that are at the border, and mark\n",
    "    # them in a separate marker\n",
    "    for i in range(n_rows):\n",
    "        for j in range(n_cols):\n",
    "            if (i in [0, n_rows - 1] or j in [0, n_cols - 1]) and board[i][j] == \"O\":\n",
    "                traverse(i, j)\n",
    "\n",
    "    # rest of the cell are the ones that are surrounded regions\n",
    "    for i in range(n_rows):\n",
    "        for j in range(n_cols):\n",
    "            if board[i][j] == \"O\":\n",
    "                board[i][j] = \"X\"\n",
    "\n",
    "    for i in range(n_rows):\n",
    "        for j in range(n_cols):\n",
    "            if board[i][j] == \"T\":\n",
    "                board[i][j] = \"O\""
   ]
  },
  {
   "cell_type": "markdown",
   "metadata": {},
   "source": [
    "## 146. LRU Cache"
   ]
  },
  {
   "cell_type": "markdown",
   "metadata": {},
   "source": [
    "Design a data structure that follows the constraints of a Least Recently Used (LRU) cache.\n",
    "\n",
    "Implement the LRUCache class:\n",
    "\n",
    "- LRUCache(int capacity) Initialize the LRU cache with positive size capacity.\n",
    "- int get(int key) Return the value of the key if the key exists, otherwise return -1.\n",
    "- void put(int key, int value) Update the value of the key if the key exists. Otherwise, add the key-value pair to the cache. If the number of keys exceeds the capacity from this operation, evict the least recently used key.\n",
    "\n",
    "The functions get and put must each run in O(1) average time complexity.\n",
    "\n",
    "- https://www.geeksforgeeks.org/lru-cache-in-python-using-ordereddict/\n",
    "- https://docs.python.org/3/library/collections.html#ordereddict-objects"
   ]
  },
  {
   "cell_type": "code",
   "execution_count": 144,
   "metadata": {},
   "outputs": [],
   "source": [
    "from collections import OrderedDict\n",
    "\n",
    "class LRUCache:\n",
    "    \"\"\"\n",
    "    We need a way to keep track of the way keys are accessed.\n",
    "    This can be done through python's ordered dictionary.\n",
    "    Where, we have the least recently used at the beginning, and\n",
    "    most recently used one at the very end.\n",
    "    \"\"\"\n",
    "\n",
    "    def __init__(self, capacity: int):\n",
    "        self.cache = OrderedDict()\n",
    "        self.capacity = capacity\n",
    "\n",
    "    def get(self, key: int) -> int:\n",
    "        if key in self.cache:\n",
    "            value = self.cache[key]\n",
    "            self.cache.move_to_end(key)\n",
    "        else:\n",
    "            value = -1\n",
    "\n",
    "        return value\n",
    "\n",
    "    def put(self, key: int, value: int) -> None:\n",
    "        self.cache[key] = value\n",
    "        self.cache.move_to_end(key)\n",
    "        if len(self.cache) > self.capacity:\n",
    "            self.cache.popitem(last=False)"
   ]
  },
  {
   "cell_type": "code",
   "execution_count": 145,
   "metadata": {},
   "outputs": [
    {
     "name": "stdout",
     "output_type": "stream",
     "text": [
      "1\n",
      "-1\n"
     ]
    }
   ],
   "source": [
    "lru_cache = LRUCache(capacity=2)\n",
    "lru_cache.put(1, 1) # cache is {1=1}\n",
    "lru_cache.put(2, 2) # cache is {1=1, 2=2}\n",
    "print(lru_cache.get(1)) # return 1\n",
    "lru_cache.put(3, 3) # evicts key 2, cache is {1=1, 3=3}\n",
    "print(lru_cache.get(2)) # returns -1 (not found)"
   ]
  },
  {
   "cell_type": "markdown",
   "metadata": {},
   "source": [
    "## 152. Maximum Product Subarray"
   ]
  },
  {
   "cell_type": "markdown",
   "metadata": {},
   "source": [
    "Given an integer array nums, find a contiguous non-empty subarray within the array that has the largest product, and return the product.\n",
    "\n",
    "https://www.youtube.com/watch?v=lXVy6YWFcRM&list=PLot-Xpze53lcvx_tjrr_m2lgD2NsRHlNO&index=16"
   ]
  },
  {
   "cell_type": "code",
   "execution_count": 1,
   "metadata": {},
   "outputs": [],
   "source": [
    "from typing import List\n",
    "\n",
    "\n",
    "def maxProduct(nums: List[int]) -> int:\n",
    "    result = max(nums)\n",
    "    cur_min = 1\n",
    "    cur_max = 1\n",
    "    for num in nums:\n",
    "        if num == 0:\n",
    "            cur_min = 1\n",
    "            cur_max = 1\n",
    "        \n",
    "        temp = cur_max * num\n",
    "        cur_max = max(temp, cur_min * num, num)\n",
    "        cur_min = min(temp, cur_min * num, num)\n",
    "        result = max(result, cur_max)\n",
    "\n",
    "    return result"
   ]
  },
  {
   "cell_type": "code",
   "execution_count": 2,
   "metadata": {},
   "outputs": [
    {
     "data": {
      "text/plain": [
       "6"
      ]
     },
     "execution_count": 2,
     "metadata": {},
     "output_type": "execute_result"
    }
   ],
   "source": [
    "nums = [2,3,-2,4]\n",
    "maxProduct(nums)"
   ]
  },
  {
   "cell_type": "markdown",
   "metadata": {},
   "source": [
    "## 153. Find Minimum in Rotated Sorted Array"
   ]
  },
  {
   "cell_type": "code",
   "execution_count": 7,
   "metadata": {},
   "outputs": [],
   "source": [
    "from typing import List\n",
    "\n",
    "\n",
    "def findMin(nums: List[int]) -> int:\n",
    "    # if our middle value is currenly in the left sorted portion of\n",
    "    # the array, then we wish to search the right\n",
    "    answer = nums[0]\n",
    "    left = 0\n",
    "    right = len(nums) - 1\n",
    "    while left <= right:\n",
    "        # if we come across a sorted array, then we can\n",
    "        # compare the minimum value and break our binary search\n",
    "        if nums[left] < nums[right]:\n",
    "            answer = min(nums[left], answer)\n",
    "            break\n",
    "\n",
    "        mid = (left + right) // 2\n",
    "        answer = min(nums[mid], answer)\n",
    "        if nums[mid] >= nums[left]:\n",
    "            left = mid + 1\n",
    "        else:\n",
    "            right = mid - 1\n",
    "\n",
    "    return answer"
   ]
  },
  {
   "cell_type": "code",
   "execution_count": 8,
   "metadata": {},
   "outputs": [
    {
     "data": {
      "text/plain": [
       "1"
      ]
     },
     "execution_count": 8,
     "metadata": {},
     "output_type": "execute_result"
    }
   ],
   "source": [
    "nums = [3,4,5,1,2]\n",
    "findMin(nums)"
   ]
  },
  {
   "cell_type": "markdown",
   "metadata": {},
   "source": [
    "## 155. Min Stack"
   ]
  },
  {
   "cell_type": "markdown",
   "metadata": {},
   "source": [
    "Design a stack that supports push, pop, top, and retrieving the minimum element in constant time.\n",
    "\n",
    "- push(x) -- Push element x onto stack.\n",
    "- pop() -- Removes the element on top of the stack.\n",
    "- top() -- Get the top element.\n",
    "- getMin() -- Retrieve the minimum element in the stack.\n",
    "\n",
    "Example:\n",
    "\n",
    "```java\n",
    "MinStack minStack = new MinStack();\n",
    "minStack.push(-2);\n",
    "minStack.push(0);\n",
    "minStack.push(-3);\n",
    "minStack.getMin();   --> Returns -3.\n",
    "minStack.pop();\n",
    "minStack.top();      --> Returns 0.\n",
    "minStack.getMin();   --> Returns -2.\n",
    "```"
   ]
  },
  {
   "cell_type": "code",
   "execution_count": 7,
   "metadata": {},
   "outputs": [],
   "source": [
    "class MinStack:\n",
    "\n",
    "    def __init__(self):\n",
    "        self.stack = []\n",
    "        self.min_stack = []\n",
    "\n",
    "    def push(self, item):\n",
    "        self.stack.append(item)\n",
    "        if not self.min_stack or item <= self.get_min():\n",
    "            self.min_stack.append(item)\n",
    "\n",
    "    def pop(self):\n",
    "        top_value = self.top()\n",
    "        if top_value == self.get_min():\n",
    "            self.min_stack.pop()\n",
    "\n",
    "        self.stack.pop()\n",
    "    \n",
    "    def top(self):\n",
    "        if self.stack:\n",
    "            return self.stack[-1]\n",
    "        else:\n",
    "            None\n",
    "\n",
    "    def get_min(self):\n",
    "        if self.min_stack:\n",
    "            return self.min_stack[-1]\n",
    "        else:\n",
    "            None"
   ]
  },
  {
   "cell_type": "code",
   "execution_count": 101,
   "metadata": {},
   "outputs": [
    {
     "ename": "TypeError",
     "evalue": "'<=' not supported between instances of 'NoneType' and 'int'",
     "output_type": "error",
     "traceback": [
      "\u001b[0;31m---------------------------------------------------------------------------\u001b[0m",
      "\u001b[0;31mTypeError\u001b[0m                                 Traceback (most recent call last)",
      "\u001b[0;32m/var/folders/vw/f5tvstw904s6h5kxnyzh7swc0000gq/T/ipykernel_52829/248535471.py\u001b[0m in \u001b[0;36m<module>\u001b[0;34m\u001b[0m\n\u001b[1;32m      1\u001b[0m \u001b[0mmin_stack\u001b[0m \u001b[0;34m=\u001b[0m \u001b[0mMinStack\u001b[0m\u001b[0;34m(\u001b[0m\u001b[0;34m)\u001b[0m\u001b[0;34m\u001b[0m\u001b[0;34m\u001b[0m\u001b[0m\n\u001b[0;32m----> 2\u001b[0;31m \u001b[0mmin_stack\u001b[0m\u001b[0;34m.\u001b[0m\u001b[0mpush\u001b[0m\u001b[0;34m(\u001b[0m\u001b[0;34m-\u001b[0m\u001b[0;36m2\u001b[0m\u001b[0;34m)\u001b[0m\u001b[0;34m\u001b[0m\u001b[0;34m\u001b[0m\u001b[0m\n\u001b[0m\u001b[1;32m      3\u001b[0m \u001b[0mmin_stack\u001b[0m\u001b[0;34m.\u001b[0m\u001b[0mpush\u001b[0m\u001b[0;34m(\u001b[0m\u001b[0;36m0\u001b[0m\u001b[0;34m)\u001b[0m\u001b[0;34m\u001b[0m\u001b[0;34m\u001b[0m\u001b[0m\n\u001b[1;32m      4\u001b[0m \u001b[0mmin_stack\u001b[0m\u001b[0;34m.\u001b[0m\u001b[0mpush\u001b[0m\u001b[0;34m(\u001b[0m\u001b[0;34m-\u001b[0m\u001b[0;36m3\u001b[0m\u001b[0;34m)\u001b[0m\u001b[0;34m\u001b[0m\u001b[0;34m\u001b[0m\u001b[0m\n\u001b[1;32m      5\u001b[0m \u001b[0;32massert\u001b[0m \u001b[0mmin_stack\u001b[0m\u001b[0;34m.\u001b[0m\u001b[0mget_min\u001b[0m\u001b[0;34m(\u001b[0m\u001b[0;34m)\u001b[0m \u001b[0;34m==\u001b[0m \u001b[0;34m-\u001b[0m\u001b[0;36m3\u001b[0m\u001b[0;34m\u001b[0m\u001b[0;34m\u001b[0m\u001b[0m\n",
      "\u001b[0;32m/var/folders/vw/f5tvstw904s6h5kxnyzh7swc0000gq/T/ipykernel_52829/2905623196.py\u001b[0m in \u001b[0;36mpush\u001b[0;34m(self, val)\u001b[0m\n\u001b[1;32m      7\u001b[0m     \u001b[0;32mdef\u001b[0m \u001b[0mpush\u001b[0m\u001b[0;34m(\u001b[0m\u001b[0mself\u001b[0m\u001b[0;34m,\u001b[0m \u001b[0mval\u001b[0m\u001b[0;34m:\u001b[0m \u001b[0mint\u001b[0m\u001b[0;34m)\u001b[0m \u001b[0;34m->\u001b[0m \u001b[0;32mNone\u001b[0m\u001b[0;34m:\u001b[0m\u001b[0;34m\u001b[0m\u001b[0;34m\u001b[0m\u001b[0m\n\u001b[1;32m      8\u001b[0m         \u001b[0mself\u001b[0m\u001b[0;34m.\u001b[0m\u001b[0mstack\u001b[0m\u001b[0;34m.\u001b[0m\u001b[0mappend\u001b[0m\u001b[0;34m(\u001b[0m\u001b[0mval\u001b[0m\u001b[0;34m)\u001b[0m\u001b[0;34m\u001b[0m\u001b[0;34m\u001b[0m\u001b[0m\n\u001b[0;32m----> 9\u001b[0;31m         \u001b[0;32mif\u001b[0m \u001b[0mself\u001b[0m\u001b[0;34m.\u001b[0m\u001b[0mmin_stack\u001b[0m \u001b[0;32mor\u001b[0m \u001b[0mself\u001b[0m\u001b[0;34m.\u001b[0m\u001b[0mgetMin\u001b[0m\u001b[0;34m(\u001b[0m\u001b[0;34m)\u001b[0m \u001b[0;34m<=\u001b[0m \u001b[0mval\u001b[0m\u001b[0;34m:\u001b[0m\u001b[0;34m\u001b[0m\u001b[0;34m\u001b[0m\u001b[0m\n\u001b[0m\u001b[1;32m     10\u001b[0m             \u001b[0mself\u001b[0m\u001b[0;34m.\u001b[0m\u001b[0mmin_stack\u001b[0m\u001b[0;34m.\u001b[0m\u001b[0mappend\u001b[0m\u001b[0;34m(\u001b[0m\u001b[0mval\u001b[0m\u001b[0;34m)\u001b[0m\u001b[0;34m\u001b[0m\u001b[0;34m\u001b[0m\u001b[0m\n\u001b[1;32m     11\u001b[0m \u001b[0;34m\u001b[0m\u001b[0m\n",
      "\u001b[0;31mTypeError\u001b[0m: '<=' not supported between instances of 'NoneType' and 'int'"
     ]
    }
   ],
   "source": [
    "min_stack = MinStack()\n",
    "min_stack.push(-2)\n",
    "min_stack.push(0)\n",
    "min_stack.push(-3)\n",
    "assert min_stack.get_min() == -3\n",
    "min_stack.pop()\n",
    "\n",
    "assert min_stack.top() == 0\n",
    "assert min_stack.get_min() == -2\n",
    "\n",
    "print(min_stack.stack)\n",
    "print(min_stack.min_values)"
   ]
  },
  {
   "cell_type": "code",
   "execution_count": 12,
   "metadata": {},
   "outputs": [
    {
     "name": "stdout",
     "output_type": "stream",
     "text": [
      "[-2, 0, -2]\n",
      "[-2, -2]\n"
     ]
    }
   ],
   "source": [
    "min_stack = MinStack()\n",
    "min_stack.push(-2)\n",
    "min_stack.push(0)\n",
    "min_stack.push(-2)\n",
    "min_stack.push(-3)\n",
    "assert min_stack.get_min() == -3\n",
    "min_stack.pop()\n",
    "\n",
    "assert min_stack.top() == -2\n",
    "assert min_stack.get_min() == -2\n",
    "\n",
    "print(min_stack.stack)\n",
    "print(min_stack.min_values)"
   ]
  },
  {
   "cell_type": "code",
   "execution_count": 13,
   "metadata": {},
   "outputs": [
    {
     "name": "stdout",
     "output_type": "stream",
     "text": [
      "[-2, 0]\n",
      "[-2]\n"
     ]
    }
   ],
   "source": [
    "min_stack.pop()\n",
    "print(min_stack.stack)\n",
    "print(min_stack.min_values)"
   ]
  },
  {
   "cell_type": "markdown",
   "metadata": {},
   "source": [
    "```cpp\n",
    "class MinStack {\n",
    "public:\n",
    "    stack<int> mainStack;\n",
    "    stack<int> minStack;\n",
    "    \n",
    "    void push(int x) {\n",
    "        mainStack.push(x);\n",
    "        if (minStack.empty() || getMin() >= x) {\n",
    "            minStack.push(x);\n",
    "        }\n",
    "    }\n",
    "    \n",
    "    void pop() {\n",
    "        int topItems = top();\n",
    "        if (topItems == getMin()) {\n",
    "            minStack.pop();\n",
    "        }\n",
    "        mainStack.pop();\n",
    "    }\n",
    "    \n",
    "    int top() {\n",
    "        return mainStack.top();\n",
    "    }\n",
    "\n",
    "    int getMin() {\n",
    "        return minStack.top();\n",
    "    }\n",
    "};\n",
    "```"
   ]
  },
  {
   "cell_type": "markdown",
   "metadata": {},
   "source": [
    "## 162. Find Peak Element"
   ]
  },
  {
   "cell_type": "markdown",
   "metadata": {},
   "source": [
    "A peak element is an element that is strictly greater than its neighbors.\n",
    "\n",
    "Given a 0-indexed integer array nums, find a peak element, and return its index. If the array contains multiple peaks, return the index to any of the peaks.\n",
    "\n",
    "https://leetcode.com/problems/find-peak-element/solution/"
   ]
  },
  {
   "cell_type": "code",
   "execution_count": 115,
   "metadata": {},
   "outputs": [],
   "source": [
    "from typing import List\n",
    "\n",
    "\n",
    "def findPeakElement(nums: List[int]) -> int:\n",
    "    \"\"\"\n",
    "    Binary search O(log n)\n",
    "    If this element happens to be lying in a descending sequence of numbers.\n",
    "    or a local falling slope (found by comparing nums[i] to its right neighbour),\n",
    "    it means that the peak will always lie towards the left of this element\n",
    "    \"\"\"\n",
    "    left = 0\n",
    "    right = len(nums) - 1\n",
    "    while left < right:\n",
    "        mid = (left + right) // 2\n",
    "        if nums[mid] > nums[mid + 1]:\n",
    "            right = mid\n",
    "        else:\n",
    "            left = mid + 1\n",
    "            \n",
    "    return left"
   ]
  },
  {
   "cell_type": "code",
   "execution_count": 116,
   "metadata": {},
   "outputs": [
    {
     "data": {
      "text/plain": [
       "2"
      ]
     },
     "execution_count": 116,
     "metadata": {},
     "output_type": "execute_result"
    }
   ],
   "source": [
    "nums = [1,2,3,1]\n",
    "findPeakElement(nums)"
   ]
  },
  {
   "cell_type": "markdown",
   "metadata": {},
   "source": [
    "## 167. Two Sum II - Input array is sorted"
   ]
  },
  {
   "cell_type": "markdown",
   "metadata": {},
   "source": [
    "Given an array of integers that is already sorted in ascending order, find two numbers such that they add up to a specific target number.\n",
    "\n",
    "The function twoSum should return indices of the two numbers such that they add up to the target, where index1 must be less than index2.\n",
    "\n",
    "Note:\n",
    "\n",
    "- Your returned answers (both index1 and index2) are not zero-based.\n",
    "- You may assume that each input would have exactly one solution and you may not use the same element twice.\n",
    "\n",
    "Example:\n",
    "\n",
    "- Input: numbers = [2,7,11,15], target = 9\n",
    "- Output: [1,2]\n",
    "- Explanation: The sum of 2 and 7 is 9. Therefore index1 = 1, index2 = 2.\n",
    "\n",
    "https://leetcode.com/problems/two-sum-ii-input-array-is-sorted/discuss/51249/Python-different-solutions-(two-pointer-dictionary-binary-search)."
   ]
  },
  {
   "cell_type": "code",
   "execution_count": 3,
   "metadata": {},
   "outputs": [],
   "source": [
    "def two_sum(numbers, target):\n",
    "    \"\"\"two pointers approach\"\"\"\n",
    "    left = 0\n",
    "    right = len(numbers) - 1\n",
    "    while left < right:\n",
    "        answer = numbers[left] + numbers[right]\n",
    "        if answer == target:\n",
    "            return [left + 1, right + 1]\n",
    "        elif answer > target:\n",
    "            right -= 1\n",
    "        else:\n",
    "            left += 1"
   ]
  },
  {
   "cell_type": "code",
   "execution_count": 4,
   "metadata": {},
   "outputs": [
    {
     "data": {
      "text/plain": [
       "[0, 1]"
      ]
     },
     "execution_count": 4,
     "metadata": {},
     "output_type": "execute_result"
    }
   ],
   "source": [
    "target = 9\n",
    "numbers = [2, 7, 11, 15]\n",
    "two_sum(numbers, target)"
   ]
  },
  {
   "cell_type": "markdown",
   "metadata": {},
   "source": [
    "## 169. Majority Element\n",
    "\n",
    "Given an array of size n, find the majority element. The majority element is the element that appears more than n/2 times.\n",
    "\n",
    "You may assume that the array is non-empty and the majority element always exist in the array.\n",
    "\n",
    "https://discuss.leetcode.com/topic/6251/c-solution-using-moore-s-voting-algorithm-o-n-runtime-comlexity-an-no-extra-array-or-hash-table"
   ]
  },
  {
   "cell_type": "code",
   "execution_count": 38,
   "metadata": {},
   "outputs": [],
   "source": [
    "def solution(nums):\n",
    "    \"\"\"\n",
    "    Moore's voting algorithm\n",
    "    Idea : we cancel out each occurrence of an element e\n",
    "    with all the element that are different from e, then\n",
    "    e's count will be positive if it's an majority element\n",
    "    \"\"\"\n",
    "    count = 1\n",
    "    ans = nums[0]\n",
    "    for i in range(1, len(nums)):\n",
    "        if count == 0:\n",
    "            ans = nums[i]\n",
    "            count = 1\n",
    "        elif ans == nums[i]:\n",
    "            count += 1\n",
    "        else:\n",
    "            count -= 1\n",
    "            \n",
    "    return ans"
   ]
  },
  {
   "cell_type": "code",
   "execution_count": 39,
   "metadata": {},
   "outputs": [
    {
     "data": {
      "text/plain": [
       "7"
      ]
     },
     "execution_count": 39,
     "metadata": {},
     "output_type": "execute_result"
    }
   ],
   "source": [
    "nums = [7, 7, 7, 5, 6, 5]\n",
    "solution(nums)"
   ]
  },
  {
   "cell_type": "markdown",
   "metadata": {},
   "source": [
    "## 198. House Robber"
   ]
  },
  {
   "cell_type": "markdown",
   "metadata": {},
   "source": [
    "You are a professional robber planning to rob houses along a street. Each house has a certain amount of money stashed, the only constraint stopping you from robbing each of them is that adjacent houses have security system connected and it will automatically contact the police if two adjacent houses were broken into on the same night.\n",
    "\n",
    "Given a list of non-negative integers representing the amount of money of each house, determine the maximum amount of money you can rob tonight without alerting the police.\n",
    "\n",
    "https://discuss.leetcode.com/topic/11082/java-o-n-solution-space-o-1"
   ]
  },
  {
   "cell_type": "code",
   "execution_count": 147,
   "metadata": {},
   "outputs": [],
   "source": [
    "from typing import List\n",
    "\n",
    "def rob(nums: List[int]) -> int:\n",
    "    \"\"\"dynamic programming\"\"\"\n",
    "    if len(nums) == 1:\n",
    "        return nums[0]\n",
    "\n",
    "    memoize = [None] * len(nums)\n",
    "    memoize[0] = nums[0]\n",
    "    memoize[1] = max(nums[0], nums[1])\n",
    "\n",
    "    for i in range(2, len(nums)):\n",
    "        result = max(0 + memoize[i - 1], nums[i] + memoize[i - 2])\n",
    "        memoize[i] = result\n",
    "\n",
    "    return memoize[-1]"
   ]
  },
  {
   "cell_type": "code",
   "execution_count": 148,
   "metadata": {},
   "outputs": [
    {
     "name": "stdout",
     "output_type": "stream",
     "text": [
      "[1, 3, 5, 22, 22, 27, 30]\n"
     ]
    },
    {
     "data": {
      "text/plain": [
       "30"
      ]
     },
     "execution_count": 148,
     "metadata": {},
     "output_type": "execute_result"
    }
   ],
   "source": [
    "nums = [1, 3, 4, 19, 11, 5, 8]\n",
    "rob(nums)"
   ]
  },
  {
   "cell_type": "code",
   "execution_count": 40,
   "metadata": {},
   "outputs": [],
   "source": [
    "def solution(nums):\n",
    "    # Keep track of whether or not\n",
    "    # we robbed the previous house\n",
    "    robbed = 0\n",
    "    didnt_rob = 0\n",
    "    for num in nums:\n",
    "        # if we don't rob the current house\n",
    "        # determine the max of robbing and not\n",
    "        # robbing the previous house\n",
    "        didnt_rob_current = max(robbed, didnt_rob)\n",
    "\n",
    "        # if we rob the current house add the value\n",
    "        # to what we've obtain from not robbing the\n",
    "        # the previous house\n",
    "        rob_current = didnt_rob + num\n",
    "        robbed = rob_current\n",
    "        didnt_rob = didnt_rob_current\n",
    "\n",
    "    return max(robbed, didnt_rob)"
   ]
  },
  {
   "cell_type": "code",
   "execution_count": 41,
   "metadata": {},
   "outputs": [
    {
     "data": {
      "text/plain": [
       "30"
      ]
     },
     "execution_count": 41,
     "metadata": {},
     "output_type": "execute_result"
    }
   ],
   "source": [
    "nums = [1, 3, 4, 19, 11, 5, 8]\n",
    "solution(nums)"
   ]
  },
  {
   "cell_type": "markdown",
   "metadata": {},
   "source": [
    "## 200. Number of Islands"
   ]
  },
  {
   "cell_type": "markdown",
   "metadata": {},
   "source": [
    "Given a 2d grid map of '1's (land) and '0's (water), count the number of islands. An island is surrounded by water and is formed by connecting adjacent lands horizontally or vertically. You may assume all four edges of the grid are all surrounded by water.\n",
    "\n",
    "Example 1:\n",
    "```\n",
    "11110\n",
    "11010\n",
    "11000\n",
    "00000\n",
    "```\n",
    "Answer: 1\n",
    "\n",
    "Example 2:\n",
    "```\n",
    "11000\n",
    "11000\n",
    "00100\n",
    "00011\n",
    "```\n",
    "Answer: 3\n",
    "\n",
    "- https://leetcode.com/problems/number-of-islands/discuss/2129879/Simple-DFS-solution-in-C%2B%2B\n",
    "- https://discuss.leetcode.com/topic/16749/7-lines-python-14-lines-java\n",
    "- https://discuss.leetcode.com/topic/13248/very-concise-java-ac-solution"
   ]
  },
  {
   "cell_type": "code",
   "execution_count": 4,
   "metadata": {},
   "outputs": [],
   "source": [
    "from collections import deque\n",
    "\n",
    "\n",
    "def num_is_island(grid):\n",
    "    num_rows = len(grid)\n",
    "    num_cols = len(grid[0])\n",
    "    directions = [(0, 1), (0, -1), (1, 0), (-1, 0)]\n",
    "    answer = 0\n",
    "    \n",
    "    def traverse(i, j):\n",
    "        queue = deque([(i, j)])\n",
    "        while queue:\n",
    "            current_i, current_j = queue.popleft()\n",
    "            for direction_i, direction_j in directions:\n",
    "                next_i = current_i + direction_i\n",
    "                next_j = current_j + direction_j\n",
    "                if 0 <= next_i < num_rows and 0 <= next_j < num_cols and grid[next_i][next_j] == \"1\":\n",
    "                    grid[next_i][next_j] = \"0\"\n",
    "                    queue.append((next_i, next_j))\n",
    "\n",
    "    for i in range(num_rows):\n",
    "        for j in range(num_cols):\n",
    "            if grid[i][j] == \"1\":\n",
    "                answer += 1\n",
    "                traverse(i, j)\n",
    "          \n",
    "    return answer"
   ]
  },
  {
   "cell_type": "code",
   "execution_count": 42,
   "metadata": {},
   "outputs": [
    {
     "data": {
      "text/plain": [
       "1"
      ]
     },
     "execution_count": 42,
     "metadata": {},
     "output_type": "execute_result"
    }
   ],
   "source": [
    "grid = [\n",
    "    [\"1\",\"1\",\"1\",\"1\",\"0\"],\n",
    "    [\"1\",\"1\",\"0\",\"1\",\"0\"],\n",
    "    [\"1\",\"1\",\"0\",\"0\",\"0\"],\n",
    "    [\"0\",\"0\",\"0\",\"0\",\"0\"]\n",
    "]\n",
    "num_is_island(grid)"
   ]
  },
  {
   "cell_type": "code",
   "execution_count": 22,
   "metadata": {},
   "outputs": [
    {
     "data": {
      "text/plain": [
       "1"
      ]
     },
     "execution_count": 22,
     "metadata": {},
     "output_type": "execute_result"
    }
   ],
   "source": [
    "solution(grid)"
   ]
  },
  {
   "cell_type": "code",
   "execution_count": 43,
   "metadata": {},
   "outputs": [
    {
     "data": {
      "text/plain": [
       "3"
      ]
     },
     "execution_count": 43,
     "metadata": {},
     "output_type": "execute_result"
    }
   ],
   "source": [
    "grid = [\n",
    "  [\"1\",\"1\",\"0\",\"0\",\"0\"],\n",
    "  [\"1\",\"1\",\"0\",\"0\",\"0\"],\n",
    "  [\"0\",\"0\",\"1\",\"0\",\"0\"],\n",
    "  [\"0\",\"0\",\"0\",\"1\",\"1\"]\n",
    "]\n",
    "num_is_island(grid)"
   ]
  },
  {
   "cell_type": "code",
   "execution_count": 24,
   "metadata": {},
   "outputs": [
    {
     "data": {
      "text/plain": [
       "3"
      ]
     },
     "execution_count": 24,
     "metadata": {},
     "output_type": "execute_result"
    }
   ],
   "source": [
    "solution(grid)"
   ]
  },
  {
   "cell_type": "code",
   "execution_count": 44,
   "metadata": {},
   "outputs": [
    {
     "data": {
      "text/plain": [
       "1"
      ]
     },
     "execution_count": 44,
     "metadata": {},
     "output_type": "execute_result"
    }
   ],
   "source": [
    "grid = [\n",
    "    [\"1\",\"1\",\"1\",\"1\",\"1\",\"0\",\"1\",\"1\",\"1\",\"1\",\"1\",\"1\",\"1\",\"1\",\"1\",\"0\",\"1\",\"0\",\"1\",\"1\"],\n",
    "    [\"0\",\"1\",\"1\",\"1\",\"1\",\"1\",\"1\",\"1\",\"1\",\"1\",\"1\",\"1\",\"1\",\"0\",\"1\",\"1\",\"1\",\"1\",\"1\",\"0\"],\n",
    "    [\"1\",\"0\",\"1\",\"1\",\"1\",\"0\",\"0\",\"1\",\"1\",\"0\",\"1\",\"1\",\"1\",\"1\",\"1\",\"1\",\"1\",\"1\",\"1\",\"1\"],\n",
    "    [\"1\",\"1\",\"1\",\"1\",\"0\",\"1\",\"1\",\"1\",\"1\",\"1\",\"1\",\"1\",\"1\",\"1\",\"1\",\"1\",\"1\",\"1\",\"1\",\"1\"],\n",
    "    [\"1\",\"0\",\"0\",\"1\",\"1\",\"1\",\"1\",\"1\",\"1\",\"1\",\"1\",\"1\",\"1\",\"1\",\"1\",\"1\",\"1\",\"1\",\"1\",\"1\"],\n",
    "    [\"1\",\"0\",\"1\",\"1\",\"1\",\"1\",\"1\",\"1\",\"0\",\"1\",\"1\",\"1\",\"0\",\"1\",\"1\",\"1\",\"0\",\"1\",\"1\",\"1\"],\n",
    "    [\"0\",\"1\",\"1\",\"1\",\"1\",\"1\",\"1\",\"1\",\"1\",\"1\",\"1\",\"1\",\"0\",\"1\",\"1\",\"0\",\"1\",\"1\",\"1\",\"1\"],\n",
    "    [\"1\",\"1\",\"1\",\"1\",\"1\",\"1\",\"1\",\"1\",\"1\",\"1\",\"1\",\"1\",\"0\",\"1\",\"1\",\"1\",\"1\",\"0\",\"1\",\"1\"],\n",
    "    [\"1\",\"1\",\"1\",\"1\",\"1\",\"1\",\"1\",\"1\",\"1\",\"1\",\"0\",\"1\",\"1\",\"1\",\"1\",\"1\",\"1\",\"1\",\"1\",\"1\"],\n",
    "    [\"1\",\"1\",\"1\",\"1\",\"1\",\"1\",\"1\",\"1\",\"1\",\"1\",\"1\",\"1\",\"1\",\"1\",\"1\",\"1\",\"1\",\"1\",\"1\",\"1\"],\n",
    "    [\"0\",\"1\",\"1\",\"1\",\"1\",\"1\",\"1\",\"1\",\"0\",\"1\",\"1\",\"1\",\"1\",\"1\",\"1\",\"1\",\"1\",\"1\",\"1\",\"1\"],\n",
    "    [\"1\",\"1\",\"1\",\"1\",\"1\",\"1\",\"1\",\"1\",\"1\",\"1\",\"1\",\"1\",\"1\",\"1\",\"1\",\"1\",\"1\",\"1\",\"1\",\"1\"],\n",
    "    [\"1\",\"1\",\"1\",\"1\",\"1\",\"1\",\"1\",\"1\",\"1\",\"1\",\"1\",\"1\",\"1\",\"1\",\"1\",\"1\",\"1\",\"1\",\"1\",\"1\"],\n",
    "    [\"1\",\"1\",\"1\",\"1\",\"1\",\"0\",\"1\",\"1\",\"1\",\"1\",\"1\",\"1\",\"1\",\"0\",\"1\",\"1\",\"1\",\"1\",\"1\",\"1\"],\n",
    "    [\"1\",\"0\",\"1\",\"1\",\"1\",\"1\",\"1\",\"0\",\"1\",\"1\",\"1\",\"0\",\"1\",\"1\",\"1\",\"1\",\"0\",\"1\",\"1\",\"1\"],\n",
    "    [\"1\",\"1\",\"1\",\"1\",\"1\",\"1\",\"1\",\"1\",\"1\",\"1\",\"1\",\"1\",\"0\",\"1\",\"1\",\"1\",\"1\",\"1\",\"1\",\"0\"],\n",
    "    [\"1\",\"1\",\"1\",\"1\",\"1\",\"1\",\"1\",\"1\",\"1\",\"1\",\"1\",\"1\",\"1\",\"0\",\"1\",\"1\",\"1\",\"1\",\"0\",\"0\"],\n",
    "    [\"1\",\"1\",\"1\",\"1\",\"1\",\"1\",\"1\",\"1\",\"1\",\"1\",\"1\",\"1\",\"1\",\"1\",\"1\",\"1\",\"1\",\"1\",\"1\",\"1\"],\n",
    "    [\"1\",\"1\",\"1\",\"1\",\"1\",\"1\",\"1\",\"1\",\"1\",\"1\",\"1\",\"1\",\"1\",\"1\",\"1\",\"1\",\"1\",\"1\",\"1\",\"1\"],\n",
    "    [\"1\",\"1\",\"1\",\"1\",\"1\",\"1\",\"1\",\"1\",\"1\",\"1\",\"1\",\"1\",\"1\",\"1\",\"1\",\"1\",\"1\",\"1\",\"1\",\"1\"]\n",
    "]\n",
    "num_is_island(grid)"
   ]
  },
  {
   "cell_type": "markdown",
   "metadata": {},
   "source": [
    "## 203. Remove Linked List Elements\n",
    "\n",
    "Remove all elements from a linked list of integers that have value val.\n",
    "\n",
    "Example\n",
    "Given: 1 --> 2 --> 6 --> 3 --> 4 --> 5 --> 6, val = 6\n",
    "\n",
    "Return: 1 --> 2 --> 3 --> 4 --> 5\n",
    "\n",
    "https://discuss.leetcode.com/topic/12725/ac-java-solution/9"
   ]
  },
  {
   "cell_type": "code",
   "execution_count": 43,
   "metadata": {},
   "outputs": [],
   "source": [
    "class ListNode:\n",
    "    \"\"\"Definition for singly-linked list.\"\"\"\n",
    "    def __init__(self, x):\n",
    "        self.val = x\n",
    "        self.next = None\n",
    "\n",
    "\n",
    "def solution(head, val):\n",
    "    # create a dummy node\n",
    "    dummy = ListNode(-1)\n",
    "    dummy.next = head\n",
    "    node = dummy\n",
    "    while node.next is not None:\n",
    "        # remove the link if the value matches,\n",
    "        # or else increment the position of the linked list\n",
    "        if node.next.val == val:\n",
    "            node.next = node.next.next\n",
    "        else:\n",
    "            node = node.next\n",
    "    \n",
    "    # return the position of the original head\n",
    "    return dummy.next"
   ]
  },
  {
   "cell_type": "markdown",
   "metadata": {},
   "source": [
    "## 205. Isomorphic String"
   ]
  },
  {
   "cell_type": "markdown",
   "metadata": {},
   "source": [
    "Given two strings s and t, determine if they are isomorphic.\n",
    "\n",
    "Two strings s and t are isomorphic if the characters in s can be replaced to get t.\n",
    "\n",
    "All occurrences of a character must be replaced with another character while preserving the order of characters. No two characters may map to the same character, but a character may map to itself.\n",
    "\n",
    " \n",
    "\n",
    "Example 1:\n",
    "\n",
    "Input: s = \"egg\", t = \"add\"\n",
    "Output: true\n",
    "\n",
    "Example 2:\n",
    "\n",
    "Input: s = \"foo\", t = \"bar\"\n",
    "Output: false\n",
    "\n",
    "Example 3:\n",
    "\n",
    "Input: s = \"paper\", t = \"title\"\n",
    "Output: true"
   ]
  },
  {
   "cell_type": "code",
   "execution_count": 35,
   "metadata": {},
   "outputs": [],
   "source": [
    "def isomorphic(s, t):\n",
    "    mapping_s2t = {}\n",
    "    mapping_t2s = {}\n",
    "    for char1, char2 in zip(s, t):\n",
    "        if char1 not in mapping_s2t and char2 not in mapping_t2s:\n",
    "            mapping_s2t[char1] = char2\n",
    "            mapping_t2s[char2] = char1\n",
    "        else:\n",
    "            if char2 != mapping_s2t.get(char1):\n",
    "                return False\n",
    "    return True"
   ]
  },
  {
   "cell_type": "code",
   "execution_count": 36,
   "metadata": {},
   "outputs": [
    {
     "data": {
      "text/plain": [
       "True"
      ]
     },
     "execution_count": 36,
     "metadata": {},
     "output_type": "execute_result"
    }
   ],
   "source": [
    "s = 'egg'\n",
    "t = 'add'\n",
    "isomorphic(s, t)"
   ]
  },
  {
   "cell_type": "code",
   "execution_count": 40,
   "metadata": {},
   "outputs": [
    {
     "data": {
      "text/plain": [
       "False"
      ]
     },
     "execution_count": 40,
     "metadata": {},
     "output_type": "execute_result"
    }
   ],
   "source": [
    "s = \"babc\"\n",
    "t = \"bada\"\n",
    "isomorphic(s, t)"
   ]
  },
  {
   "cell_type": "code",
   "execution_count": 37,
   "metadata": {},
   "outputs": [
    {
     "data": {
      "text/plain": [
       "False"
      ]
     },
     "execution_count": 37,
     "metadata": {},
     "output_type": "execute_result"
    }
   ],
   "source": [
    "s = \"badc\"\n",
    "t = \"baba\"\n",
    "isomorphic(s, t)"
   ]
  },
  {
   "cell_type": "code",
   "execution_count": 38,
   "metadata": {},
   "outputs": [
    {
     "data": {
      "text/plain": [
       "False"
      ]
     },
     "execution_count": 38,
     "metadata": {},
     "output_type": "execute_result"
    }
   ],
   "source": [
    "s = \"foo\"\n",
    "t = \"bar\"\n",
    "isomorphic(s, t)"
   ]
  },
  {
   "cell_type": "code",
   "execution_count": 39,
   "metadata": {},
   "outputs": [
    {
     "data": {
      "text/plain": [
       "True"
      ]
     },
     "execution_count": 39,
     "metadata": {},
     "output_type": "execute_result"
    }
   ],
   "source": [
    "s = 'paper'\n",
    "t = 'title'\n",
    "isomorphic(s, t)"
   ]
  },
  {
   "cell_type": "markdown",
   "metadata": {},
   "source": [
    "## 206. Reverse Linked List"
   ]
  },
  {
   "cell_type": "markdown",
   "metadata": {},
   "source": [
    "Given the head of a singly linked list, reverse the list, and return the reversed list.\n",
    "\n",
    "https://www.youtube.com/watch?v=G0_I-ZF0S38"
   ]
  },
  {
   "cell_type": "code",
   "execution_count": 44,
   "metadata": {},
   "outputs": [],
   "source": [
    "class ListNode:\n",
    "    \"\"\"Definition for singly-linked list.\"\"\"\n",
    "    def __init__(self, x):\n",
    "        self.val = x\n",
    "        self.next = None\n",
    "\n",
    "\n",
    "def solution(head):\n",
    "    prev = None\n",
    "    curr = head\n",
    "    while curr is not None:\n",
    "        # change the current node's next pointer to\n",
    "        # point to its previous element\n",
    "        temp = curr.next\n",
    "        curr.next = prev\n",
    "        prev = curr\n",
    "        curr = temp\n",
    "\n",
    "    return prev"
   ]
  },
  {
   "cell_type": "markdown",
   "metadata": {
    "collapsed": true
   },
   "source": [
    "## 207. Course Schedule\n",
    "\n",
    "There are a total of n courses you have to take, labeled from 0 to n - 1.\n",
    "\n",
    "Some courses may have prerequisites, for example to take course 0 you have to first take course 1, which is expressed as a pair: [0,1]\n",
    "\n",
    "Given the total number of courses and a list of prerequisite pairs, is it possible for you to finish all courses?\n",
    "\n",
    "For example: \n",
    "\n",
    "2, [[1,0]] There are a total of 2 courses to take. To take course 1 you should have finished course 0. So it is possible.\n",
    "\n",
    "2, [[1,0],[0,1]] There are a total of 2 courses to take. To take course 1 you should have finished course 0, and to take course 0 you should also have finished course 1. So it is impossible.\n",
    "\n",
    "Note:\n",
    "\n",
    "The input prerequisites is a graph represented by a list of edges, not adjacency matrices. Read more about how a graph is represented. You may assume that there are no duplicate edges in the input prerequisites.\n",
    "\n",
    "click to show more hints.\n",
    "\n",
    "Hints:\n",
    "\n",
    "This problem is equivalent to finding if a cycle exists in a directed graph. If a cycle exists, no topological ordering exists and therefore it will be impossible to take all courses.\n",
    "\n",
    "---\n",
    "\n",
    "It's best to walk through the explanation in the first link before looking at the solution.\n",
    "\n",
    "- https://www.embeddedrelated.com/showarticle/799.php\n",
    "- https://discuss.leetcode.com/topic/44747/my-c-solution-23ms-beats-100-submissions/2\n",
    "- https://discuss.leetcode.com/topic/17273/18-22-lines-c-bfs-dfs-solutions"
   ]
  },
  {
   "cell_type": "code",
   "execution_count": 45,
   "metadata": {},
   "outputs": [],
   "source": [
    "from collections import defaultdict\n",
    "\n",
    "\n",
    "def solution(num_courses, prerequisites):\n",
    "    # convert the input pair to adjacent list format\n",
    "    # prerequisite's edge presentation\n",
    "    # e.g. 0 : set{[1]}, means course 0 is\n",
    "    # a prerequisite for course 1\n",
    "    graph = defaultdict(set)\n",
    "    for i, j in prerequisites:\n",
    "        graph[j].add(i)\n",
    "    \n",
    "    # compute indegree\n",
    "    indegree = [0] * num_courses\n",
    "    for _, neighbors in graph.items():\n",
    "        for neigh in neighbors:\n",
    "            indegree[neigh] += 1\n",
    "\n",
    "    # all nodes with indegree of 0 are considered the initial pending set\n",
    "    stack = [node for node in range(num_courses) if not indegree[node]]\n",
    "    counter = 0\n",
    "    while stack:\n",
    "        counter += 1\n",
    "        node = stack.pop()\n",
    "        for neigh in graph[node]:\n",
    "            # decrement neighbors' indegree\n",
    "            # if the indegree is 0 add it to the pending set\n",
    "            indegree[neigh] -= 1\n",
    "            if not indegree[neigh]:\n",
    "                stack.append(neigh)\n",
    "\n",
    "    return counter == num_courses"
   ]
  },
  {
   "cell_type": "code",
   "execution_count": 46,
   "metadata": {},
   "outputs": [
    {
     "data": {
      "text/plain": [
       "True"
      ]
     },
     "execution_count": 46,
     "metadata": {},
     "output_type": "execute_result"
    }
   ],
   "source": [
    "# to take course 1 you have to take course 0,\n",
    "# thus the edge representation would be 0 -> 1\n",
    "prerequisites = [[1, 0]]\n",
    "num_courses = 2\n",
    "solution(num_courses, prerequisites)"
   ]
  },
  {
   "cell_type": "markdown",
   "metadata": {},
   "source": [
    "## 215. kth-largest Element in an Array"
   ]
  },
  {
   "cell_type": "markdown",
   "metadata": {},
   "source": [
    "Find the kth largest element in an unsorted array. Note that it is the kth largest element in the sorted order, not the kth distinct element.\n",
    "\n",
    "For example, Given [3,2,1,5,6,4] and k = 2, return 5.\n",
    "\n",
    "Note: You may assume k is always valid, 1 ≤ k ≤ array's length.\n",
    "\n",
    "- https://discuss.leetcode.com/topic/14597/solution-explained\n",
    "- https://discuss.leetcode.com/topic/15256/4-c-solutions-using-partition-max-heap-priority_queue-and-multiset-respectively"
   ]
  },
  {
   "cell_type": "code",
   "execution_count": 47,
   "metadata": {},
   "outputs": [
    {
     "data": {
      "text/plain": [
       "5"
      ]
     },
     "execution_count": 47,
     "metadata": {},
     "output_type": "execute_result"
    }
   ],
   "source": [
    "def solution1(nums, k):\n",
    "    \"\"\"\n",
    "    The simplest approach is to sort the entire\n",
    "    input array and then access the element by it's index\n",
    "    \"\"\"\n",
    "    length = len(nums)\n",
    "    return sorted(nums)[length - k]\n",
    "\n",
    "\n",
    "k = 2\n",
    "nums = [3, 2, 1, 5, 6, 4]\n",
    "solution1(nums, k)"
   ]
  },
  {
   "cell_type": "markdown",
   "metadata": {},
   "source": [
    "The smarter approach for this problem is to use the selection algorithm (based on the partion method - the same one as used in quicksort).\n",
    "\n",
    "In [quicksort](http://interactivepython.org/runestone/static/pythonds/SortSearch/TheQuickSort.html), in each iteration, we need to select a pivot and then partition the array into three parts:\n",
    "\n",
    "- Elements smaller than the pivot;\n",
    "- Elements equal to the pivot;\n",
    "- Elements larger than the pivot.\n",
    "\n",
    "Now, let's do an example with the array `[3, 2, 1, 5, 4, 6]` in the problem statement. Let's assume in each time we select the leftmost element to be the pivot, in this case, `3`. We then use it to partition the array into the above 3 parts, which results in `[1, 2, 3, 5, 4, 6]`. Now `3` is in the third position and we know that it is the third smallest element. Now, do you recognize that this subroutine can be used to solve this problem?\n",
    "\n",
    "In fact, the above partition puts elements smaller than the pivot before the pivot and thus the pivot will then be the k-th smallest element if it is at the k-1-th position. Since the problem requires us to find the k-th largest element, we can simply modify the partition to put elements larger than the pivot before the pivot. That is, after partition, the array becomes `[5, 6, 4, 3, 1, 2]`. Now we know that 3 is the 4-th largest element. If we are asked to find the 2-th largest element, then we know it is left to 3. If we are asked to find the 5-th largest element, then we know it is right to 3 (changing whether the numbers is on the left side of the pivot or right side is optional).\n",
    "\n",
    "Psuedocode:\n",
    "\n",
    "- Initialize left to be 0 and right to be (size of array - 1);\n",
    "- Partition the array, if the pivot is at the k-1-th position, return it (we are done);\n",
    "- If the pivot is right to the k-1-th position, update right to be the left neighbor of the pivot;\n",
    "- Else update left to be the right neighbor of the pivot.\n",
    "- Repeat 2."
   ]
  },
  {
   "cell_type": "code",
   "execution_count": 48,
   "metadata": {},
   "outputs": [],
   "source": [
    "def _partition(nums, left, right):\n",
    "    \"\"\"one iteration of quicksort\"\"\"\n",
    "\n",
    "    # store the pivot point's position to\n",
    "    # perform the final swapping at the end\n",
    "    initial = left\n",
    "    pivot = nums[left]\n",
    "    left += 1\n",
    "    while left <= right:\n",
    "        if nums[left] < pivot and nums[right] > pivot:\n",
    "            nums[right], nums[left] = nums[left], nums[right]\n",
    "\n",
    "        if nums[left] >= pivot:\n",
    "            left += 1\n",
    "\n",
    "        if nums[right] <= pivot:\n",
    "            right -= 1  \n",
    "\n",
    "    nums[right], nums[initial] = nums[initial], nums[right]\n",
    "    return right\n",
    "\n",
    "\n",
    "def solution(nums, k):\n",
    "    \"\"\"\n",
    "    The smarter approach for this problem is to use the \n",
    "    selection algorithm (based on the partion method - the\n",
    "    same one as used in quicksort).\n",
    "    \"\"\"\n",
    "    left = 0\n",
    "    right = len(nums) - 1\n",
    "    while True:\n",
    "        pos = _partition(nums, left, right)\n",
    "        # kth largest element should be in the k-1-th position\n",
    "        if pos == k - 1:\n",
    "            return nums[pos]\n",
    "        elif pos > k - 1:\n",
    "            right = pos - 1\n",
    "        else:\n",
    "            left = pos + 1"
   ]
  },
  {
   "cell_type": "code",
   "execution_count": 49,
   "metadata": {},
   "outputs": [
    {
     "data": {
      "text/plain": [
       "5"
      ]
     },
     "execution_count": 49,
     "metadata": {},
     "output_type": "execute_result"
    }
   ],
   "source": [
    "k = 2\n",
    "nums = [3, 2, 1, 5, 6, 4]\n",
    "solution(nums, k)"
   ]
  },
  {
   "cell_type": "markdown",
   "metadata": {},
   "source": [
    "## 217. Contains Duplicate"
   ]
  },
  {
   "cell_type": "markdown",
   "metadata": {},
   "source": [
    "Given an array of integers, find if the array contains any duplicates. Your function should return true if any value appears at least twice in the array, and it should return false if every element is distinct.\n",
    "\n",
    "https://leetcode.com/problems/contains-duplicate/"
   ]
  },
  {
   "cell_type": "code",
   "execution_count": 50,
   "metadata": {},
   "outputs": [],
   "source": [
    "def solution(nums):\n",
    "    nums_set = set()\n",
    "    for num in nums:\n",
    "        if num in nums_set:\n",
    "            return True\n",
    "\n",
    "        nums_set.add(num)\n",
    "\n",
    "    return False"
   ]
  },
  {
   "cell_type": "code",
   "execution_count": 51,
   "metadata": {},
   "outputs": [
    {
     "data": {
      "text/plain": [
       "True"
      ]
     },
     "execution_count": 51,
     "metadata": {},
     "output_type": "execute_result"
    }
   ],
   "source": [
    "nums = [3, 3, 1, 2]\n",
    "solution(nums)"
   ]
  },
  {
   "cell_type": "markdown",
   "metadata": {},
   "source": [
    "## 227. Basic Calculator II"
   ]
  },
  {
   "cell_type": "markdown",
   "metadata": {},
   "source": [
    "Given a string s which represents an expression, evaluate this expression and return its value. \n",
    "\n",
    "https://leetcode.com/problems/basic-calculator-ii/solution/"
   ]
  },
  {
   "cell_type": "code",
   "execution_count": 19,
   "metadata": {},
   "outputs": [],
   "source": [
    "def calculate(s: str) -> int:\n",
    "    operator_set = {'+', '-', '*', '/'}\n",
    "    stack = []\n",
    "    number = 0\n",
    "    operator = '+'\n",
    "    for index, char in enumerate(s):\n",
    "        if char.isdigit():\n",
    "            number = number * 10 + int(char)\n",
    "\n",
    "        if char in operator_set or index == len(s) - 1:\n",
    "            # for addition or subtraction, we push to the stack,\n",
    "            # as its evaluation depends on subsequent operator\n",
    "            if operator == '+':\n",
    "                stack.append(number)\n",
    "            elif operator == '-':\n",
    "                stack.append(-number)\n",
    "            # for multiplication or division, pop value from the stack,\n",
    "            # evaluate, and push the value back to our stack\n",
    "            elif operator == '*':\n",
    "                stack.append(stack.pop() * number)\n",
    "            else: # '/'\n",
    "                stack.append(int(stack.pop() / number))\n",
    "\n",
    "            operator = char\n",
    "            number = 0\n",
    "\n",
    "    result = 0\n",
    "    while stack:\n",
    "        result += stack.pop()\n",
    "\n",
    "    return result"
   ]
  },
  {
   "cell_type": "code",
   "execution_count": 16,
   "metadata": {},
   "outputs": [
    {
     "data": {
      "text/plain": [
       "7"
      ]
     },
     "execution_count": 16,
     "metadata": {},
     "output_type": "execute_result"
    }
   ],
   "source": [
    "s = \"3+2*2\"\n",
    "calculate(s)"
   ]
  },
  {
   "cell_type": "code",
   "execution_count": 20,
   "metadata": {},
   "outputs": [
    {
     "data": {
      "text/plain": [
       "1"
      ]
     },
     "execution_count": 20,
     "metadata": {},
     "output_type": "execute_result"
    }
   ],
   "source": [
    "s = \" 3/2 \"\n",
    "calculate(s)"
   ]
  },
  {
   "cell_type": "markdown",
   "metadata": {},
   "source": [
    "## 230. Kth Smallest Element in a BST"
   ]
  },
  {
   "cell_type": "markdown",
   "metadata": {},
   "source": [
    "Given a binary search tree, write a function kthSmallest to find the kth smallest element in it.\n",
    "\n",
    "Note: \n",
    "You may assume k is always valid, 1 ≤ k ≤ BST's total elements.\n",
    "\n",
    "https://leetcode.com/problems/kth-smallest-element-in-a-bst/solution/"
   ]
  },
  {
   "cell_type": "code",
   "execution_count": 52,
   "metadata": {},
   "outputs": [],
   "source": [
    "class TreeNode:\n",
    "    \"\"\"Definition for a binary tree node.\"\"\"\n",
    "    def __init__(self, x):\n",
    "        self.val = x\n",
    "        self.left = None\n",
    "        self.right = None\n",
    "        \n",
    "def solution(root, k):\n",
    "    \"\"\"similar idea to 094. Binary Tree Inorder Traversal\"\"\"\n",
    "    stack = []\n",
    "    curr = root\n",
    "    while curr is not None or stack:\n",
    "        while curr is not None:\n",
    "            stack.append(curr)\n",
    "            curr = curr.left\n",
    "\n",
    "        curr = stack.pop()\n",
    "        k -= 1\n",
    "        if not k:\n",
    "            return curr.val\n",
    "\n",
    "        curr = curr.right"
   ]
  },
  {
   "cell_type": "markdown",
   "metadata": {},
   "source": [
    "## 235  Lowest Common Ancestor of a Binary Search Tree"
   ]
  },
  {
   "cell_type": "markdown",
   "metadata": {},
   "source": [
    "https://leetcode.com/problems/lowest-common-ancestor-of-a-binary-search-tree/\n",
    "\n",
    "“The lowest common ancestor is defined between two nodes p and q as the lowest node in T that has both p and q as descendants (where we allow a node to be a descendant of itself)"
   ]
  },
  {
   "cell_type": "code",
   "execution_count": null,
   "metadata": {},
   "outputs": [],
   "source": [
    "# Definition for a binary tree node.\n",
    "# class TreeNode:\n",
    "#     def __init__(self, x):\n",
    "#         self.val = x\n",
    "#         self.left = None\n",
    "#         self.right = None\n",
    "\n",
    "def lowest_common_ancestor(self, root: 'TreeNode', p: 'TreeNode', q: 'TreeNode') -> 'TreeNode':\n",
    "    while True:\n",
    "        if root.val > p.val and root.val > q.val:\n",
    "            root = root.left\n",
    "        elif root.val < p.val and root.val < q.val:\n",
    "            root = root.right\n",
    "        else:\n",
    "            return root"
   ]
  },
  {
   "cell_type": "markdown",
   "metadata": {},
   "source": [
    "## 242. Valid Anagram"
   ]
  },
  {
   "cell_type": "markdown",
   "metadata": {},
   "source": [
    "Given two strings s and t, write a function to determine if t is an anagram of s.\n",
    "\n",
    "For example,\n",
    "s = \"anagram\", t = \"nagaram\", return true.\n",
    "s = \"rat\", t = \"car\", return false.\n",
    "\n",
    "An Anagram is a word or phrase formed by rearranging the letters of a different word or phrase, typically using all the original letters exactly once.\n",
    "\n",
    "Note:\n",
    "You may assume the string contains only lowercase alphabets.\n",
    "\n",
    "https://leetcode.com/problems/valid-anagram/discuss/"
   ]
  },
  {
   "cell_type": "code",
   "execution_count": 53,
   "metadata": {},
   "outputs": [],
   "source": [
    "def solution(s, t):\n",
    "    \"\"\"\n",
    "    use an array that holds the number of occurrences\n",
    "    for each character. Then for each letter in s, it\n",
    "    increases the counter by 1 while for each letter in t,\n",
    "    it decreases the counter by 1. Finally, all the counters\n",
    "    will be 0 if they two are anagrams of each other.\n",
    "    \"\"\"\n",
    "    if len(s) != len(t):\n",
    "        return False\n",
    "    else:\n",
    "        start = ord('a')\n",
    "        counts = [0] * 26\n",
    "        for i in range(len(s)):\n",
    "            counts[ord(s[i]) - start] += 1\n",
    "            counts[ord(t[i]) - start] -= 1\n",
    "\n",
    "        for count in counts:\n",
    "            if count:\n",
    "                return False\n",
    "\n",
    "        return True"
   ]
  },
  {
   "cell_type": "code",
   "execution_count": 54,
   "metadata": {},
   "outputs": [],
   "source": [
    "def solution(s, t):\n",
    "    \"\"\"alternative, slightly faster solution\"\"\"\n",
    "    if len(s) != len(t):\n",
    "        return False\n",
    "    else: \n",
    "        letters = 'abcdefghijklmnopqrstuvwxyz'\n",
    "        for letter in letters:\n",
    "            if s.count(letter) != t.count(letter):\n",
    "                return False\n",
    "        \n",
    "        return True"
   ]
  },
  {
   "cell_type": "code",
   "execution_count": 55,
   "metadata": {},
   "outputs": [
    {
     "data": {
      "text/plain": [
       "True"
      ]
     },
     "execution_count": 55,
     "metadata": {},
     "output_type": "execute_result"
    }
   ],
   "source": [
    "s = 'anagram'\n",
    "t = 'nagaram'\n",
    "solution(s, t)"
   ]
  },
  {
   "cell_type": "markdown",
   "metadata": {},
   "source": [
    "## 268. Missing Number"
   ]
  },
  {
   "cell_type": "markdown",
   "metadata": {},
   "source": [
    "Given an array nums containing n distinct numbers in the range [0, n], return the only number in the range that is missing from the array.\n",
    "\n",
    "https://leetcode.com/problems/missing-number/"
   ]
  },
  {
   "cell_type": "code",
   "execution_count": 19,
   "metadata": {},
   "outputs": [],
   "source": [
    "from typing import List\n",
    "\n",
    "\n",
    "def missingNumber(nums: List[int]) -> int:\n",
    "    \"\"\"\n",
    "    Find total sum of the range by using the size of the array,\n",
    "    then subtract each value of the array from the total sum.\n",
    "    The remaining sum would be the answer\"\"\"\n",
    "    n = len(nums)\n",
    "    total = int(n * (n + 1) / 2)\n",
    "    for num in nums:\n",
    "        total -= num\n",
    "\n",
    "    return total"
   ]
  },
  {
   "cell_type": "code",
   "execution_count": 20,
   "metadata": {},
   "outputs": [
    {
     "data": {
      "text/plain": [
       "2"
      ]
     },
     "execution_count": 20,
     "metadata": {},
     "output_type": "execute_result"
    }
   ],
   "source": [
    "nums = [3,0,1]\n",
    "missingNumber(nums)"
   ]
  },
  {
   "cell_type": "markdown",
   "metadata": {},
   "source": [
    "## 278. First Bad Version"
   ]
  },
  {
   "cell_type": "markdown",
   "metadata": {},
   "source": [
    "you are a product manager and currently leading a team to develop a new product. Unfortunately, the latest version of your product fails the quality check. Since each version is developed based on the previous version, all the versions after a bad version are also bad.\n",
    "\n",
    "Suppose you have n versions [1, 2, ..., n] and you want to find out the first bad one, which causes all the following ones to be bad.\n",
    "\n",
    "You are given an API bool isBadVersion(version) which returns whether version is bad. Implement a function to find the first bad version. You should minimize the number of calls to the API.\n",
    "\n",
    "- https://leetcode.com/discuss/general-discussion/786126/python-powerful-ultimate-binary-search-template-solved-many-problems\n",
    "- https://leetcode.com/problems/first-bad-version/"
   ]
  },
  {
   "cell_type": "code",
   "execution_count": null,
   "metadata": {},
   "outputs": [],
   "source": [
    "# The isBadVersion API is already defined for you.\n",
    "# def isBadVersion(version: int) -> bool:\n",
    "\n",
    "# def firstBadVersion(n: int) -> int:\n",
    "#     left = 0\n",
    "#     right = n\n",
    "#     while left < right:\n",
    "#         mid = left + (right - left) // 2\n",
    "#         if isBadVersion(mid):\n",
    "#             right = mid\n",
    "#         else:\n",
    "#             left = mid + 1\n",
    "\n",
    "\n",
    "#     return left"
   ]
  },
  {
   "cell_type": "markdown",
   "metadata": {},
   "source": [
    "## 283. Move Zeroes"
   ]
  },
  {
   "cell_type": "markdown",
   "metadata": {},
   "source": [
    "Given an array nums, write a function to move all 0's to the end of it while maintaining the relative order of the non-zero elements.\n",
    "\n",
    "For example, given nums = [0, 1, 0, 3, 12], after calling your function, nums should be [1, 3, 12, 0, 0].\n",
    "\n",
    "Note:\n",
    "You must do this in-place without making a copy of the array.\n",
    "Minimize the total number of operations.\n",
    "\n",
    "\n",
    "https://leetcode.com/problems/move-zeroes/solution/"
   ]
  },
  {
   "cell_type": "code",
   "execution_count": 56,
   "metadata": {},
   "outputs": [],
   "source": [
    "def solution(nums):\n",
    "    \"\"\"\n",
    "    A two pointers problem, we keep a slower pointer\n",
    "    non_zero_index to denote the position of the last\n",
    "    non 0 element, then when we encounter a non 0 element\n",
    "    we swap the element of the current position and\n",
    "    the element at the position non_zero_index, and when\n",
    "    we perform the swap, we also increment the non_zero_index\n",
    "    to advance the position of the last non 0 element\n",
    "    \"\"\"\n",
    "    non_zero_index = 0\n",
    "    for i in range(len(nums)):\n",
    "        if nums[i] != 0:\n",
    "            nums[non_zero_index], nums[i] = nums[i], nums[non_zero_index]\n",
    "            non_zero_index += 1"
   ]
  },
  {
   "cell_type": "code",
   "execution_count": 57,
   "metadata": {},
   "outputs": [
    {
     "data": {
      "text/plain": [
       "[1, 3, 12, 0, 0]"
      ]
     },
     "execution_count": 57,
     "metadata": {},
     "output_type": "execute_result"
    }
   ],
   "source": [
    "nums = [0, 1, 0, 3, 12]\n",
    "solution(nums)\n",
    "nums"
   ]
  },
  {
   "cell_type": "markdown",
   "metadata": {},
   "source": [
    "## 286. Walls and Gates"
   ]
  },
  {
   "cell_type": "markdown",
   "metadata": {},
   "source": [
    "https://www.youtube.com/watch?v=e69C6xhiSQE"
   ]
  },
  {
   "cell_type": "code",
   "execution_count": 7,
   "metadata": {},
   "outputs": [],
   "source": [
    "from typing import List\n",
    "from collections import deque\n",
    "\n",
    "\n",
    "def wallsAndGates(rooms: List[List[int]]):\n",
    "    n_rows = len(rooms)\n",
    "    n_cols = len(rooms[0])\n",
    "    directions = [(0, 1), (1, 0), (-1, 0), (0, -1)]\n",
    "    visited = set()\n",
    "    queue = deque()\n",
    "    \n",
    "    # start from the gate, add them to the queue for\n",
    "    # performing bfs\n",
    "    for i in range(n_rows):\n",
    "        for j in range(n_cols):\n",
    "            if rooms[i][j] == 0:\n",
    "                queue.append([i, j])\n",
    "                visited.add((i, j))\n",
    "                \n",
    "    def add_room(i, j):\n",
    "        if (i < 0 or i >= n_rows or j < 0 or j >= n_cols or (i, j) in visited or rooms[i][j] == -1):\n",
    "            return\n",
    "            \n",
    "        visited.add((i, j))\n",
    "        queue.append([i, j])\n",
    "\n",
    "    dist = 0\n",
    "    while queue:\n",
    "        for _ in range(len(queue)):\n",
    "            i, j = queue.popleft()\n",
    "            rooms[i][j] = dist\n",
    "            add_room(i + 1, j)\n",
    "            add_room(i - 1, j)\n",
    "            add_room(i, j + 1)\n",
    "            add_room(i, j - 1)\n",
    "\n",
    "        dist += 1"
   ]
  },
  {
   "cell_type": "code",
   "execution_count": 8,
   "metadata": {},
   "outputs": [
    {
     "data": {
      "text/plain": [
       "[[3, -1, 0, 1], [2, 2, 1, -1], [1, -1, 2, -1], [0, -1, 3, 4]]"
      ]
     },
     "execution_count": 8,
     "metadata": {},
     "output_type": "execute_result"
    }
   ],
   "source": [
    "rooms = [\n",
    "    [2147483647, -1, 0, 2147483647],\n",
    "    [2147483647, 2147483647, 2147483647, -1],\n",
    "    [2147483647, -1, 2147483647, -1],\n",
    "    [0, -1, 2147483647, 2147483647]\n",
    "]\n",
    "wallsAndGates(rooms)\n",
    "rooms"
   ]
  },
  {
   "cell_type": "markdown",
   "metadata": {},
   "source": [
    "## 289. Game of Life\n",
    "\n",
    "According to the [Wikipedia's](https://en.wikipedia.org/wiki/Conway%27s_Game_of_Life) article: \"The Game of Life, also known simply as Life, is a cellular automaton devised by the British mathematician John Horton Conway in 1970.\"\n",
    "\n",
    "Given a board with m by n cells, each cell has an initial state live (1) or dead (0). Each cell interacts with its eight neighbors (horizontal, vertical, diagonal) using the following four rules (taken from the above Wikipedia article):\n",
    "\n",
    "- Any live cell with fewer than two live neighbors dies, as if caused by under-population.\n",
    "- Any live cell with two or three live neighbors lives on to the next generation.\n",
    "- Any live cell with more than three live neighbors dies, as if by over-population..\n",
    "- Any dead cell with exactly three live neighbors becomes a live cell, as if by reproduction.\n",
    "\n",
    "Write a function to compute the next state (after one update) of the board given its current state.\n",
    "\n",
    "https://discuss.leetcode.com/topic/29054/easiest-java-solution-with-explanation"
   ]
  },
  {
   "cell_type": "code",
   "execution_count": 58,
   "metadata": {},
   "outputs": [],
   "source": [
    "def solution(board):\n",
    "    \"\"\"Use 2 bits to represent live or dead cells\"\"\"\n",
    "    if board is None or not len(board):\n",
    "        return None\n",
    "\n",
    "    def helper(board, i, j):\n",
    "        n_lives = 0\n",
    "        for row in range(i - 1, i + 2):\n",
    "            for col in range(j - 1, j + 2):\n",
    "                # exclude the current cell\n",
    "                # from the total of live cell calculation\n",
    "                if i == row and j == col:\n",
    "                    continue\n",
    "                    \n",
    "                # check for boundary to ensure the coordinates\n",
    "                # will never be off the board and add 1 to the final\n",
    "                # live cell count if the current cell is alive\n",
    "                if 0 <= row < m and 0 <= col < n and board[row][col] & 1:\n",
    "                    n_lives += 1\n",
    "        \n",
    "        # 1. live cells with 2 or 3 live neighbors lives on\n",
    "        # 2. dead cells with 3 live neighbors becomes a live cell\n",
    "        if n_lives == 3 or (board[i][j] == 1 and n_lives == 2):\n",
    "            board[i][j] |= 2\n",
    "\n",
    "    m = len(board)\n",
    "    n = len(board[0])\n",
    "    for i in range(m):\n",
    "        for j in range(n):\n",
    "            helper(board, i, j)\n",
    "    \n",
    "    # refresh the value with only the value of the next state\n",
    "    for i in range(m):\n",
    "        for j in range(n):\n",
    "            board[i][j] >>= 1"
   ]
  },
  {
   "cell_type": "code",
   "execution_count": 59,
   "metadata": {},
   "outputs": [
    {
     "name": "stdout",
     "output_type": "stream",
     "text": [
      "[[1, 1], [1, 1]]\n"
     ]
    }
   ],
   "source": [
    "board = [[1, 1], [1, 0]]\n",
    "solution(board)\n",
    "print(board)"
   ]
  },
  {
   "cell_type": "markdown",
   "metadata": {},
   "source": [
    "## 300. Longest Increasing Subsequence"
   ]
  },
  {
   "cell_type": "markdown",
   "metadata": {},
   "source": [
    "Given an integer array nums, return the length of the longest strictly increasing subsequence.\n",
    "\n",
    "A subsequence is a sequence that can be derived from an array by deleting some or no elements without changing the order of the remaining elements. For example, [3,6,2,7] is a subsequence of the array [0,3,1,6,2,2,7].\n",
    "\n",
    "- https://leetcode.com/problems/longest-increasing-subsequence/\n",
    "- https://www.youtube.com/watch?v=cjWnW0hdF1Y"
   ]
  },
  {
   "cell_type": "code",
   "execution_count": 11,
   "metadata": {},
   "outputs": [],
   "source": [
    "from typing import List\n",
    "\n",
    "\n",
    "def lengthOfLIS(nums: List[int]) -> int:\n",
    "    length = len(nums)\n",
    "    if length == 1:\n",
    "        return 1\n",
    "\n",
    "    memoize = [None] * length\n",
    "    memoize[length - 1] = 1\n",
    "    answer = 0\n",
    "\n",
    "    for i in reversed(range(length - 1)):\n",
    "        result = 1\n",
    "        for j in range(i + 1, length):\n",
    "            if nums[i] < nums[j]:\n",
    "                result = max(result, memoize[j] + 1)\n",
    "\n",
    "        memoize[i] = result\n",
    "        answer = max(answer, result)\n",
    "\n",
    "    return answer"
   ]
  },
  {
   "cell_type": "code",
   "execution_count": 12,
   "metadata": {},
   "outputs": [
    {
     "data": {
      "text/plain": [
       "4"
      ]
     },
     "execution_count": 12,
     "metadata": {},
     "output_type": "execute_result"
    }
   ],
   "source": [
    "# [2,3,7,101]\n",
    "nums = [10,9,2,5,3,7,101,18]\n",
    "lengthOfLIS(nums)"
   ]
  },
  {
   "cell_type": "markdown",
   "metadata": {},
   "source": [
    "## 322. Coin Change"
   ]
  },
  {
   "cell_type": "markdown",
   "metadata": {},
   "source": [
    "You are given an integer array coins representing coins of different denominations and an integer amount representing a total amount of money.\n",
    "\n",
    "Return the fewest number of coins that you need to make up that amount. If that amount of money cannot be made up by any combination of the coins, return -1.\n",
    "\n",
    "You may assume that you have an infinite number of each kind of coin.\n",
    "\n",
    "https://www.youtube.com/watch?v=H9bfqozjoqs"
   ]
  },
  {
   "cell_type": "code",
   "execution_count": 78,
   "metadata": {},
   "outputs": [],
   "source": [
    "from typing import List\n",
    "\n",
    "\n",
    "def coinChange(coins: List[int], amount: int) -> int:\n",
    "    memoize = [amount + 1] * (amount + 1)\n",
    "    memoize[0] = 0\n",
    "    for i in range(1, amount + 1):\n",
    "        for coin in coins:\n",
    "            remaining_amount = i - coin\n",
    "            if remaining_amount >= 0:\n",
    "                min_amount = min(memoize[i], 1 + memoize[remaining_amount])\n",
    "                memoize[i] = min_amount\n",
    "    \n",
    "    answer = memoize[-1] if memoize[-1] != amount + 1 else -1\n",
    "    return answer"
   ]
  },
  {
   "cell_type": "code",
   "execution_count": 79,
   "metadata": {},
   "outputs": [
    {
     "data": {
      "text/plain": [
       "3"
      ]
     },
     "execution_count": 79,
     "metadata": {},
     "output_type": "execute_result"
    }
   ],
   "source": [
    "coins = [1,2,5]\n",
    "amount = 11\n",
    "coinChange(coins, amount)"
   ]
  },
  {
   "cell_type": "code",
   "execution_count": 80,
   "metadata": {},
   "outputs": [
    {
     "data": {
      "text/plain": [
       "-1"
      ]
     },
     "execution_count": 80,
     "metadata": {},
     "output_type": "execute_result"
    }
   ],
   "source": [
    "coins = [2]\n",
    "amount = 3\n",
    "coinChange(coins, amount)"
   ]
  },
  {
   "cell_type": "markdown",
   "metadata": {},
   "source": [
    "## 344. Reverse String"
   ]
  },
  {
   "cell_type": "markdown",
   "metadata": {},
   "source": [
    "Write a function that reverses a string. The input string is given as an array of characters s"
   ]
  },
  {
   "cell_type": "code",
   "execution_count": 15,
   "metadata": {},
   "outputs": [],
   "source": [
    "from typing import List\n",
    "\n",
    "def reverseString(s: List[str]) -> None:\n",
    "    \"\"\"\n",
    "    Do not return anything, modify s in-place instead.\n",
    "    \"\"\"\n",
    "    left = 0\n",
    "    right = len(s) - 1\n",
    "    while left < right:\n",
    "        temp = s[left]\n",
    "        s[left] = s[right]\n",
    "        s[right] = temp\n",
    "        left += 1\n",
    "        right -= 1"
   ]
  },
  {
   "cell_type": "code",
   "execution_count": 16,
   "metadata": {},
   "outputs": [
    {
     "data": {
      "text/plain": [
       "['o', 'l', 'l', 'e', 'h']"
      ]
     },
     "execution_count": 16,
     "metadata": {},
     "output_type": "execute_result"
    }
   ],
   "source": [
    "s = [\"h\",\"e\",\"l\",\"l\",\"o\"]\n",
    "reverseString(s)\n",
    "s"
   ]
  },
  {
   "cell_type": "markdown",
   "metadata": {},
   "source": [
    "##  347. Top K Frequent Elements"
   ]
  },
  {
   "cell_type": "markdown",
   "metadata": {},
   "source": [
    "Given a non-empty array of integers, return the k most frequent elements.\n",
    "\n",
    "For example,\n",
    "Given [1,1,1,2,2,3] and k = 2, return [1,2].\n",
    "\n",
    "Note: \n",
    "You may assume k is always valid, 1 ≤ k ≤ number of unique elements.\n",
    "Your algorithm's time complexity must be better than O(n log n), where n is the array's size.\n",
    "\n",
    "https://leetcode.com/problems/top-k-frequent-elements/discuss/"
   ]
  },
  {
   "cell_type": "code",
   "execution_count": 60,
   "metadata": {},
   "outputs": [],
   "source": [
    "from collections import Counter\n",
    "\n",
    "\n",
    "def solution(nums, k):\n",
    "    \"\"\"\n",
    "    1. build a counter map that maps a num to its frequency\n",
    "    2. build a heap/priority queue that keeps track of k most significant entries\n",
    "    3. iterate through the final heap and get the keys\n",
    "    runtime : O(nlogk)\n",
    "    \"\"\"\n",
    "    result = [k for k, _ in Counter(nums).most_common(k)]\n",
    "    return result"
   ]
  },
  {
   "cell_type": "code",
   "execution_count": 61,
   "metadata": {},
   "outputs": [],
   "source": [
    "import heapq\n",
    "from collections import defaultdict\n",
    "\n",
    "\n",
    "def solution(nums, k):\n",
    "    \"\"\"\n",
    "    alternative implementation, note that python\n",
    "    Counter.most_common also uses heapq underneath the hood\n",
    "    \"\"\"\n",
    "    counts = defaultdict(int)\n",
    "    for num in nums:\n",
    "        counts[num] += 1\n",
    "        \n",
    "    heap = []\n",
    "    for num, count in counts.items():\n",
    "        if len(heap) < k:\n",
    "            heapq.heappush(heap, (count, num))\n",
    "        else:\n",
    "            # we only need to top-k elements, ensure\n",
    "            # the size of the heap stays at k\n",
    "            heapq.heappushpop(heap, (count, num))\n",
    "\n",
    "    # heapq pops in ascending order,\n",
    "    # reverse the resulting list in the end\n",
    "    result = []\n",
    "    while heap:\n",
    "        _, num = heapq.heappop(heap)\n",
    "        result.append(num)\n",
    "    \n",
    "    return result[::-1]"
   ]
  },
  {
   "cell_type": "code",
   "execution_count": 62,
   "metadata": {},
   "outputs": [
    {
     "data": {
      "text/plain": [
       "[1, 2]"
      ]
     },
     "execution_count": 62,
     "metadata": {},
     "output_type": "execute_result"
    }
   ],
   "source": [
    "k = 2\n",
    "nums = [1, 1, 1, 2, 2, 3]\n",
    "solution(nums, k)"
   ]
  },
  {
   "cell_type": "markdown",
   "metadata": {},
   "source": [
    "## 349. Intersection of Two Arrays"
   ]
  },
  {
   "cell_type": "markdown",
   "metadata": {},
   "source": [
    "Given two integer arrays nums1 and nums2, return an array of their intersection. Each element in the result must be unique and you may return the result in any order."
   ]
  },
  {
   "cell_type": "code",
   "execution_count": 101,
   "metadata": {},
   "outputs": [],
   "source": [
    "from typing import List\n",
    "\n",
    "def intersection(nums1: List[int], nums2: List[int]) -> List[int]:\n",
    "    return set(nums1).intersection(set(nums2))"
   ]
  },
  {
   "cell_type": "markdown",
   "metadata": {},
   "source": [
    "## 359. Logger Rate Limiter"
   ]
  },
  {
   "cell_type": "markdown",
   "metadata": {},
   "source": [
    "Design a logger system that receive stream of messages along with its timestamps, each message should be printed if and only if it is not printed in the last 10 seconds.\n",
    "\n",
    "Given a message and a timestamp (in seconds granularity), return true if the message should be printed in the given timestamp, otherwise returns false.\n",
    "\n",
    "It is possible that several messages arrive roughly at the same time.\n",
    "\n",
    "```java\n",
    "Logger logger = new Logger();\n",
    "\n",
    "// logging string \"foo\" at timestamp 1\n",
    "logger.shouldPrintMessage(1, \"foo\"); returns true; \n",
    "\n",
    "// logging string \"bar\" at timestamp 2\n",
    "logger.shouldPrintMessage(2,\"bar\"); returns true;\n",
    "\n",
    "// logging string \"foo\" at timestamp 3\n",
    "logger.shouldPrintMessage(3,\"foo\"); returns false;\n",
    "\n",
    "// logging string \"bar\" at timestamp 8\n",
    "logger.shouldPrintMessage(8,\"bar\"); returns false;\n",
    "\n",
    "// logging string \"foo\" at timestamp 10\n",
    "logger.shouldPrintMessage(10,\"foo\"); returns false;\n",
    "\n",
    "// logging string \"foo\" at timestamp 11\n",
    "logger.shouldPrintMessage(11,\"foo\"); returns true;\n",
    "```"
   ]
  },
  {
   "cell_type": "code",
   "execution_count": 70,
   "metadata": {},
   "outputs": [],
   "source": [
    "class Logger:\n",
    "    \n",
    "    def __init__(self):\n",
    "        self.message_to_timestamp = {}\n",
    "        \n",
    "    def shouldPrintMessage(self, timestamp, message):\n",
    "        answer = False\n",
    "        if message not in self.message_to_timestamp:\n",
    "            self.message_to_timestamp[message] = timestamp\n",
    "            answer = True\n",
    "        else:\n",
    "            original_timestamp = self.message_to_timestamp[message]\n",
    "            if timestamp - original_timestamp >= 10:\n",
    "                self.message_to_timestamp[message] = timestamp\n",
    "                answer = True\n",
    "            \n",
    "        return answer"
   ]
  },
  {
   "cell_type": "code",
   "execution_count": 73,
   "metadata": {},
   "outputs": [
    {
     "name": "stdout",
     "output_type": "stream",
     "text": [
      "True\n",
      "False\n",
      "True\n"
     ]
    }
   ],
   "source": [
    "logger = Logger()\n",
    "print(logger.shouldPrintMessage(1, \"foo\"))\n",
    "print(logger.shouldPrintMessage(10, \"foo\"))\n",
    "print(logger.shouldPrintMessage(11, \"foo\"))"
   ]
  },
  {
   "cell_type": "markdown",
   "metadata": {},
   "source": [
    "## 412 Fizzbuzz"
   ]
  },
  {
   "cell_type": "markdown",
   "metadata": {},
   "source": [
    "Given an integer n, return a string array answer (1-indexed) where:\n",
    "\n",
    "- answer[i] == \"FizzBuzz\" if i is divisible by 3 and 5.\n",
    "- answer[i] == \"Fizz\" if i is divisible by 3.\n",
    "- answer[i] == \"Buzz\" if i is divisible by 5.\n",
    "- answer[i] == i (as a string) if none of the above conditions are true."
   ]
  },
  {
   "cell_type": "code",
   "execution_count": 100,
   "metadata": {},
   "outputs": [
    {
     "data": {
      "text/plain": [
       "0"
      ]
     },
     "execution_count": 100,
     "metadata": {},
     "output_type": "execute_result"
    }
   ],
   "source": [
    "from typing import List\n",
    "\n",
    "def fizzBuzz(n: int) -> List[str]:\n",
    "    answer = []\n",
    "    for i in range(1, n + 1):\n",
    "        text = ''\n",
    "        if i % 3 == 0:\n",
    "            text += 'Fizz'\n",
    "        if i % 5 == 0:\n",
    "            text += 'Buzz'\n",
    "\n",
    "        if not text:\n",
    "            text = f'{i}'\n",
    "\n",
    "        answer.append(text)\n",
    "\n",
    "    return answer"
   ]
  },
  {
   "cell_type": "markdown",
   "metadata": {},
   "source": [
    "## 350. Intersection of Two Arrays II"
   ]
  },
  {
   "cell_type": "markdown",
   "metadata": {},
   "source": [
    "Given two arrays, write a function to compute their intersection.\n",
    "\n",
    "Example:\n",
    "Given nums1 = [1, 2, 2, 1], nums2 = [2, 2], return [2, 2].\n",
    "\n",
    "Note:\n",
    "Each element in the result should appear as many times as it shows in both arrays.\n",
    "The result can be in any order.\n",
    "\n",
    "https://leetcode.com/problems/intersection-of-two-arrays-ii/discuss/"
   ]
  },
  {
   "cell_type": "code",
   "execution_count": 63,
   "metadata": {},
   "outputs": [],
   "source": [
    "from collections import Counter\n",
    "\n",
    "\n",
    "def solution(nums1, nums2):\n",
    "    # intersect (&) of two Counters and use\n",
    "    # its elements() method, which returns an iterator\n",
    "    # that produces all of the items known to the Counter\n",
    "    c1 = Counter(nums1)\n",
    "    c2 = Counter(nums2)\n",
    "    return list((c1 & c2).elements())"
   ]
  },
  {
   "cell_type": "code",
   "execution_count": 64,
   "metadata": {},
   "outputs": [],
   "source": [
    "def solution(nums1, nums2):\n",
    "    \"\"\"Time: O(m + n) Space: O(m)\"\"\"\n",
    "    count = {}\n",
    "    for n in nums1:\n",
    "        count[n] = count.get(n, 0) + 1\n",
    "\n",
    "    ans = []\n",
    "    for n in nums2:\n",
    "        if n in count and count[n] != 0:\n",
    "            ans.append(n)\n",
    "            count[n] -= 1\n",
    "\n",
    "    return ans"
   ]
  },
  {
   "cell_type": "code",
   "execution_count": 65,
   "metadata": {},
   "outputs": [
    {
     "data": {
      "text/plain": [
       "[2, 2]"
      ]
     },
     "execution_count": 65,
     "metadata": {},
     "output_type": "execute_result"
    }
   ],
   "source": [
    "nums1 = [1, 2, 2, 1]\n",
    "nums2 = [2, 2]\n",
    "solution(nums1, nums2)"
   ]
  },
  {
   "cell_type": "markdown",
   "metadata": {},
   "source": [
    "## 448. Find All Numbers Disappeared in an Array"
   ]
  },
  {
   "cell_type": "markdown",
   "metadata": {},
   "source": [
    "Given an array of integers where 1 ≤ a[i] ≤ n (n = size of array), some elements appear twice and others appear once.\n",
    "\n",
    "Find all the elements of [1, n] inclusive that do not appear in this array.\n",
    "\n",
    "Could you do it without extra space and in O(n) runtime? You may assume the returned list does not count as extra space.\n",
    "\n",
    "https://leetcode.com/problems/find-all-numbers-disappeared-in-an-array/discuss/"
   ]
  },
  {
   "cell_type": "code",
   "execution_count": 66,
   "metadata": {},
   "outputs": [],
   "source": [
    "def solution(nums):\n",
    "    \"\"\"\n",
    "    first iteration negates the value at position that is\n",
    "    equal to the current element; the second iteration appends\n",
    "    position whose number remains positive, which indicates\n",
    "    the missing values\n",
    "    \"\"\"\n",
    "    for num in nums:\n",
    "        index = abs(num) - 1\n",
    "        if nums[index] > 0:\n",
    "            nums[index] = -nums[index]\n",
    "\n",
    "    ans = []\n",
    "    for i, num in enumerate(nums):\n",
    "        if num > 0:\n",
    "            ans.append(i + 1)\n",
    "\n",
    "    return ans"
   ]
  },
  {
   "cell_type": "code",
   "execution_count": 67,
   "metadata": {},
   "outputs": [
    {
     "data": {
      "text/plain": [
       "[5, 6]"
      ]
     },
     "execution_count": 67,
     "metadata": {},
     "output_type": "execute_result"
    }
   ],
   "source": [
    "nums = [4, 3, 2, 7, 8, 2, 3, 1]\n",
    "solution(nums)"
   ]
  },
  {
   "cell_type": "markdown",
   "metadata": {},
   "source": [
    "## 502 IPO"
   ]
  },
  {
   "cell_type": "markdown",
   "metadata": {},
   "source": [
    "Suppose LeetCode will start its IPO soon. In order to sell a good price of its shares to Venture Capital, LeetCode would like to work on some projects to increase its capital before the IPO. Since it has limited resources, it can only finish at most k distinct projects before the IPO. Help LeetCode design the best way to maximize its total capital after finishing at most k distinct projects.\n",
    "\n",
    "You are given several projects. For each project i, it has a pure profit Pi and a minimum capital of Ci is needed to start the corresponding project. Initially, you have W capital. When you finish a project, you will obtain its pure profit and the profit will be added to your total capital.\n",
    "\n",
    "To sum up, pick a list of at most k distinct projects from given projects to maximize your final capital, and output your final maximized capital.\n",
    "\n",
    "Example 1:\n",
    "\n",
    "- Input: k=2, W=0, Profits=[1,2,3], Capital=[0,1,1].\n",
    "- Output: 4\n",
    "- Explanation: Since your initial capital is 0, you can only start the project indexed 0. After finishing it you will obtain profit 1 and your capital becomes 1. With capital 1, you can either start the project indexed 1 or the project indexed 2. Since you can choose at most 2 projects, you need to finish the project indexed 2 to get the maximum capital. Therefore, output the final maximized capital, which is 0 + 1 + 3 = 4.\n",
    "\n",
    "https://leetcode.com/problems/ipo/discuss/98216/Python-solution-by-priority-queue-with-explanation"
   ]
  },
  {
   "cell_type": "code",
   "execution_count": 8,
   "metadata": {},
   "outputs": [],
   "source": [
    "import heapq\n",
    "\n",
    "\n",
    "def solution(k, w, profits, capital):\n",
    "    \"\"\"\n",
    "    Loop k times:\n",
    "    Add all possible projects (Capital <= W) into the priority queue with the priority = -Profit.\n",
    "    Get the project with the smallest priority (biggest Profit).\n",
    "    \"\"\"\n",
    "    projects = sorted(zip(capital, profits))\n",
    "\n",
    "    i = 0\n",
    "    answer = []\n",
    "    for _ in range(k):\n",
    "        while i < len(projects) and projects[i][0] <= w:\n",
    "            heapq.heappush(answer, -projects[i][1])\n",
    "            i += 1\n",
    "\n",
    "        if answer:\n",
    "            w -= heapq.heappop(answer)\n",
    "\n",
    "    return w"
   ]
  },
  {
   "cell_type": "code",
   "execution_count": 9,
   "metadata": {},
   "outputs": [
    {
     "data": {
      "text/plain": [
       "4"
      ]
     },
     "execution_count": 9,
     "metadata": {},
     "output_type": "execute_result"
    }
   ],
   "source": [
    "Profits = [1, 2, 3]\n",
    "Capital = [0, 1, 1]\n",
    "W = 0\n",
    "k = 2\n",
    "solution(k, W, Profits, Capital)"
   ]
  },
  {
   "cell_type": "markdown",
   "metadata": {},
   "source": [
    "## 547. Number of Provinces"
   ]
  },
  {
   "cell_type": "markdown",
   "metadata": {},
   "source": [
    "There are n cities. Some of them are connected, while some are not. If city a is connected directly with city b, and city b is connected directly with city c, then city a is connected indirectly with city c.\n",
    "\n",
    "A province is a group of directly or indirectly connected cities and no other cities outside of the group.\n",
    "\n",
    "You are given an n x n matrix isConnected where `isConnected[i][j] = 1` if the ith city and the jth city are directly connected, and `isConnected[i][j] = 0` otherwise.\n",
    "\n",
    "https://leetcode.com/problems/number-of-provinces/discuss/2297336/oror-Simple-Python-Solution"
   ]
  },
  {
   "cell_type": "code",
   "execution_count": 32,
   "metadata": {},
   "outputs": [],
   "source": [
    "from typing import List\n",
    "from collections import deque\n",
    "\n",
    "\n",
    "def findCircleNum(isConnected: List[List[int]]) -> int:\n",
    "    n_rows = len(isConnected)\n",
    "    \n",
    "    visited = [False] * n_rows\n",
    "    def traverse(i):\n",
    "        queue = deque([i])\n",
    "        while queue:\n",
    "            current_node = queue.popleft()\n",
    "            visited[current_node] = True\n",
    "            connected_nodes = isConnected[current_node]\n",
    "            for next_node in range(n_rows):\n",
    "                if connected_nodes[next_node] and not visited[next_node]:        \n",
    "                    queue.append(next_node)\n",
    "\n",
    "    answer = 0\n",
    "    for i in range(n_rows):\n",
    "        if isConnected[i][i] and not visited[i]:\n",
    "            answer += 1\n",
    "            traverse(i)\n",
    "\n",
    "    return answer    "
   ]
  },
  {
   "cell_type": "code",
   "execution_count": 33,
   "metadata": {},
   "outputs": [
    {
     "data": {
      "text/plain": [
       "2"
      ]
     },
     "execution_count": 33,
     "metadata": {},
     "output_type": "execute_result"
    }
   ],
   "source": [
    "isConnected = [[1,1,0],[1,1,0],[0,0,1]]\n",
    "findCircleNum(isConnected)"
   ]
  },
  {
   "cell_type": "code",
   "execution_count": 34,
   "metadata": {},
   "outputs": [
    {
     "data": {
      "text/plain": [
       "3"
      ]
     },
     "execution_count": 34,
     "metadata": {},
     "output_type": "execute_result"
    }
   ],
   "source": [
    "isConnected = [[1,0,0],[0,1,0],[0,0,1]]\n",
    "findCircleNum(isConnected)"
   ]
  },
  {
   "cell_type": "code",
   "execution_count": 35,
   "metadata": {},
   "outputs": [
    {
     "data": {
      "text/plain": [
       "1"
      ]
     },
     "execution_count": 35,
     "metadata": {},
     "output_type": "execute_result"
    }
   ],
   "source": [
    "isConnected = [[1,0,0,1],[0,1,1,0],[0,1,1,1],[1,0,1,1]]\n",
    "findCircleNum(isConnected)"
   ]
  },
  {
   "cell_type": "markdown",
   "metadata": {},
   "source": [
    "## 605. Can Place Flowers"
   ]
  },
  {
   "cell_type": "markdown",
   "metadata": {},
   "source": [
    "Given an integer array flowerbed containing 0's and 1's, where 0 means empty and 1 means not empty, and an integer n, return if n new flowers can be planted in the flowerbed without violating the no-adjacent-flowers rule."
   ]
  },
  {
   "cell_type": "code",
   "execution_count": 93,
   "metadata": {},
   "outputs": [],
   "source": [
    "from typing import List\n",
    "\n",
    "def can_place_flowers(flowerbed: List[int], n: int) -> bool:\n",
    "    count = 0\n",
    "    for i in range(len(flowerbed)):\n",
    "        # for every pot, check the adjacent pot will be empty\n",
    "        if flowerbed[i] == 0:\n",
    "            is_empty_left = (i == 0) or (flowerbed[i - 1] == 0)\n",
    "            is_empty_right = (i == len(flowerbed) - 1) or (flowerbed[i + 1] == 0)\n",
    "            if is_empty_left and is_empty_right:\n",
    "                flowerbed[i] = 1\n",
    "                count += 1\n",
    "                if count >= n:\n",
    "                    return True\n",
    "\n",
    "    return count >= n"
   ]
  },
  {
   "cell_type": "code",
   "execution_count": 94,
   "metadata": {},
   "outputs": [
    {
     "data": {
      "text/plain": [
       "False"
      ]
     },
     "execution_count": 94,
     "metadata": {},
     "output_type": "execute_result"
    }
   ],
   "source": [
    "flowerbed = [1,0,1,0,1,0,1]\n",
    "n = 1\n",
    "can_place_flowers(flowerbed, n)"
   ]
  },
  {
   "cell_type": "code",
   "execution_count": 95,
   "metadata": {},
   "outputs": [
    {
     "data": {
      "text/plain": [
       "False"
      ]
     },
     "execution_count": 95,
     "metadata": {},
     "output_type": "execute_result"
    }
   ],
   "source": [
    "flowerbed = [1,0,0,0,0,1]\n",
    "n = 2\n",
    "can_place_flowers(flowerbed, n)"
   ]
  },
  {
   "cell_type": "markdown",
   "metadata": {},
   "source": [
    "## 671 Second Minimum Node In a Binary Tree"
   ]
  },
  {
   "cell_type": "markdown",
   "metadata": {},
   "source": [
    "https://leetcode.com/problems/second-minimum-node-in-a-binary-tree/"
   ]
  },
  {
   "cell_type": "code",
   "execution_count": 98,
   "metadata": {},
   "outputs": [
    {
     "data": {
      "text/plain": [
       "True"
      ]
     },
     "execution_count": 98,
     "metadata": {},
     "output_type": "execute_result"
    }
   ],
   "source": [
    "# Definition for a binary tree node.\n",
    "class TreeNode:\n",
    "    def __init__(self, val=0, left=None, right=None):\n",
    "        self.val = val\n",
    "        self.left = left\n",
    "        self.right = right\n",
    "\n",
    "def find_second_minimum_value(self, root: TreeNode) -> int:\n",
    "    answer = float('inf')\n",
    "    value = root.val\n",
    "    stack = [root]\n",
    "    while stack:\n",
    "        node = stack.pop()\n",
    "        if node.val > value and node.val < answer:\n",
    "            answer = node.val\n",
    "        if node.left:\n",
    "            stack.append(node.left)\n",
    "        if node.right:\n",
    "            stack.append(node.right)\n",
    "\n",
    "    return -1 if answer == float('inf') else answer"
   ]
  },
  {
   "cell_type": "markdown",
   "metadata": {},
   "source": [
    "## 682. Baseball Game"
   ]
  },
  {
   "cell_type": "markdown",
   "metadata": {},
   "source": [
    "You're now a baseball game point recorder.\n",
    "\n",
    "Given a list of strings, each string can be one of the 4 following types:\n",
    "\n",
    "- Integer (one round's score): Directly represents the number of points you get in this round.\n",
    "- \"+\" (one round's score): Represents that the points you get in this round are the sum of the last two valid round's points.\n",
    "- \"D\" (one round's score): Represents that the points you get in this round are the doubled data of the last valid round's points.\n",
    "- \"C\" (an operation, which isn't a round's score): Represents the last valid round's points you get were invalid and should be removed.\n",
    "Each round's operation is permanent and could have an impact on the round before and the round after.\n",
    "\n",
    "You need to return the sum of the points you could get in all the rounds.\n",
    "```\n",
    "Example 1:\n",
    "Input: [\"5\",\"2\",\"C\",\"D\",\"+\"]\n",
    "Output: 30\n",
    "Explanation: \n",
    "Round 1: You could get 5 points. The sum is: 5.\n",
    "Round 2: You could get 2 points. The sum is: 7.\n",
    "Operation 1: The round 2's data was invalid. The sum is: 5.  \n",
    "Round 3: You could get 10 points (the round 2's data has been removed). The sum is: 15.\n",
    "Round 4: You could get 5 + 10 = 15 points. The sum is: 30.\n",
    "\n",
    "```\n",
    "\n",
    "```\n",
    "Example 2:\n",
    "Input: [\"5\",\"-2\",\"4\",\"C\",\"D\",\"9\",\"+\",\"+\"]\n",
    "Output: 27\n",
    "Explanation: \n",
    "Round 1: You could get 5 points. The sum is: 5.\n",
    "Round 2: You could get -2 points. The sum is: 3.\n",
    "Round 3: You could get 4 points. The sum is: 7.\n",
    "Operation 1: The round 3's data is invalid. The sum is: 3.  \n",
    "Round 4: You could get -4 points (the round 3's data has been removed). The sum is: -1.\n",
    "Round 5: You could get 9 points. The sum is: 8.\n",
    "Round 6: You could get -4 + 9 = 5 points. The sum is 13.\n",
    "Round 7: You could get 9 + 5 = 14 points. The sum is 27.\n",
    "```\n",
    "\n",
    "\n",
    "Note:\n",
    "The size of the input list will be between 1 and 1000.\n",
    "Every integer represented in the list will be between -30000 and 30000.\n",
    "\n",
    "\n",
    "https://leetcode.com/problems/baseball-game/solution/"
   ]
  },
  {
   "cell_type": "code",
   "execution_count": 68,
   "metadata": {},
   "outputs": [],
   "source": [
    "def solution(ops):\n",
    "    \n",
    "    # we can of course keep track of the sum along the way\n",
    "    # instead of calling sum() on the stack at the very end\n",
    "    stack = []\n",
    "    for op in ops:\n",
    "        if op == 'C': \n",
    "            stack.pop()\n",
    "        elif op == 'D':\n",
    "            stack.append(stack[-1] * 2)\n",
    "        elif op == '+':\n",
    "            stack.append(stack[-1] + stack[-2])\n",
    "        else:\n",
    "            stack.append(int(op))\n",
    "\n",
    "    return sum(stack)"
   ]
  },
  {
   "cell_type": "code",
   "execution_count": 69,
   "metadata": {},
   "outputs": [
    {
     "data": {
      "text/plain": [
       "30"
      ]
     },
     "execution_count": 69,
     "metadata": {},
     "output_type": "execute_result"
    }
   ],
   "source": [
    "ops = ['5', '2', 'C', 'D', '+']\n",
    "solution(ops)"
   ]
  },
  {
   "cell_type": "markdown",
   "metadata": {},
   "source": [
    "## 706. Design HashMap"
   ]
  },
  {
   "cell_type": "markdown",
   "metadata": {},
   "source": [
    "Design a HashMap without using any built-in hash table libraries.\n",
    "\n",
    "Implement the MyHashMap class:\n",
    "\n",
    "- MyHashMap() initializes the object with an empty map.\n",
    "- void put(int key, int value) inserts a (key, value) pair into the HashMap. If the key already exists in the map, update the corresponding value.\n",
    "- int get(int key) returns the value to which the specified key is mapped, or -1 if this map contains no mapping for the key.\n",
    "- void remove(key) removes the key and its corresponding value if the map contains the mapping for the key."
   ]
  },
  {
   "cell_type": "code",
   "execution_count": null,
   "metadata": {},
   "outputs": [],
   "source": [
    "class MyHashMap:\n",
    "\n",
    "    def __init__(self):\n",
    "        self.capacity = 100000\n",
    "        self.pairs = [None] * self.capacity\n",
    "        \n",
    "    def _index(self, key):\n",
    "        return key % self.capacity\n",
    "\n",
    "    def put(self, key: int, value: int) -> None:\n",
    "        index = self._index(key)\n",
    "        self.pairs[index] = (key, value)\n",
    "\n",
    "    def get(self, key: int) -> int:\n",
    "        index = self._index(key)\n",
    "        pair = self.pairs[index]\n",
    "        if pair is not None:\n",
    "            return pair[1]\n",
    "        else:\n",
    "            return -1\n",
    "\n",
    "    def remove(self, key: int) -> None:\n",
    "        self.pairs[key] = None"
   ]
  },
  {
   "cell_type": "markdown",
   "metadata": {},
   "source": [
    "## 744. Find Smallest Letter Greater Than Target"
   ]
  },
  {
   "cell_type": "markdown",
   "metadata": {},
   "source": [
    "Given a characters array letters that is sorted in non-decreasing order and a character target, return the smallest character in the array that is larger than target.\n",
    "\n",
    "Note that the letters wrap around.\n",
    "\n",
    "For example, if target == 'z' and letters == ['a', 'b'], the answer is 'a'.\n",
    " \n",
    "\n",
    "Example 1:\n",
    "\n",
    "Input: letters = [\"c\",\"f\",\"j\"], target = \"a\"\n",
    "Output: \"c\"\n",
    "Example 2:\n",
    "\n",
    "Input: letters = [\"c\",\"f\",\"j\"], target = \"c\"\n",
    "Output: \"f\"\n",
    "Example 3:\n",
    "\n",
    "Input: letters = [\"c\",\"f\",\"j\"], target = \"d\"\n",
    "Output: \"f\""
   ]
  },
  {
   "cell_type": "code",
   "execution_count": 46,
   "metadata": {},
   "outputs": [],
   "source": [
    "def next_greatest_letter(letters, target):\n",
    "    for char in letters:\n",
    "        if char > target:\n",
    "            return char\n",
    "\n",
    "    return letters[0]"
   ]
  },
  {
   "cell_type": "code",
   "execution_count": 96,
   "metadata": {},
   "outputs": [],
   "source": [
    "def next_greatest_letter(letters, target):\n",
    "    if target >= letters[-1] or target < letters[0]:\n",
    "        return letters[0]\n",
    "\n",
    "    low = 0\n",
    "    high = len(letters) - 1\n",
    "    while low <= high:\n",
    "        mid = (low + high) // 2\n",
    "        if target < letters[mid]:\n",
    "            high = mid - 1\n",
    "        elif target >= letters[mid]:\n",
    "            low = mid + 1\n",
    "\n",
    "    if target >= letters[high]:\n",
    "        return letters[high + 1]\n",
    "    else:\n",
    "        return letters[high]"
   ]
  },
  {
   "cell_type": "markdown",
   "metadata": {},
   "source": [
    "## 791. Custom Sort String"
   ]
  },
  {
   "cell_type": "markdown",
   "metadata": {},
   "source": [
    "You are given two strings order and s. All the characters of order are unique and were sorted in some custom order previously.\n",
    "\n",
    "Permute the characters of s so that they match the order that order was sorted. More specifically, if a character x occurs before a character y in order, then x should occur before y in the permuted string.\n",
    "\n",
    "Return any permutation of s that satisfies this property."
   ]
  },
  {
   "cell_type": "code",
   "execution_count": 108,
   "metadata": {},
   "outputs": [],
   "source": [
    "def customSortString(order: str, s: str) -> str:\n",
    "    order_dict = {element: index for index, element in enumerate(order)}\n",
    "    sorted_s = sorted(s, key=lambda key: order_dict.get(key, -1))\n",
    "    return ''.join(sorted_s)"
   ]
  },
  {
   "cell_type": "code",
   "execution_count": 109,
   "metadata": {},
   "outputs": [
    {
     "data": {
      "text/plain": [
       "'dcba'"
      ]
     },
     "execution_count": 109,
     "metadata": {},
     "output_type": "execute_result"
    }
   ],
   "source": [
    "order = \"cba\"\n",
    "s = \"abcd\"\n",
    "customSortString(order, s)"
   ]
  },
  {
   "cell_type": "markdown",
   "metadata": {},
   "source": [
    "## 973. K Closest Points to Origin"
   ]
  },
  {
   "cell_type": "markdown",
   "metadata": {},
   "source": [
    "Given an array of points where points[i] = [xi, yi] represents a point on the X-Y plane and an integer k, return the k closest points to the origin (0, 0).\n",
    "\n",
    "https://leetcode.com/problems/k-closest-points-to-origin/"
   ]
  },
  {
   "cell_type": "code",
   "execution_count": 104,
   "metadata": {},
   "outputs": [],
   "source": [
    "import heapq\n",
    "from typing import List\n",
    "\n",
    "\n",
    "def kClosest(points: List[List[int]], k: int) -> List[List[int]]:\n",
    "    distance_heap = []\n",
    "    for point in points:\n",
    "        point_x, point_y = point\n",
    "        distance = point_x ** 2 + point_y ** 2\n",
    "        element = -distance, (point_x, point_y)\n",
    "        if len(distance_heap) >= k:\n",
    "            heapq.heappushpop(distance_heap, element)\n",
    "        else:\n",
    "            heapq.heappush(distance_heap, element)\n",
    "\n",
    "    answer = [point_pair for distance, point_pair in distance_heap]\n",
    "    return answer"
   ]
  },
  {
   "cell_type": "code",
   "execution_count": 105,
   "metadata": {},
   "outputs": [
    {
     "data": {
      "text/plain": [
       "[(-2, 2)]"
      ]
     },
     "execution_count": 105,
     "metadata": {},
     "output_type": "execute_result"
    }
   ],
   "source": [
    "points = [[1,3],[-2,2]]\n",
    "k = 1\n",
    "kClosest(points, k)"
   ]
  },
  {
   "cell_type": "markdown",
   "metadata": {},
   "source": [
    "## 977. Squares of a Sorted Array"
   ]
  },
  {
   "cell_type": "markdown",
   "metadata": {},
   "source": [
    "Given an integer array nums sorted in non-decreasing order, return an array of the squares of each number sorted in non-decreasing order.\n",
    "\n",
    "https://leetcode.com/problems/squares-of-a-sorted-array/discuss/2238816/Python-Two-Pointers-O(n)-Runtime-71.43"
   ]
  },
  {
   "cell_type": "code",
   "execution_count": 98,
   "metadata": {},
   "outputs": [],
   "source": [
    "from typing import List\n",
    "\n",
    "\n",
    "def sortedSquares(nums: List[int]) -> List[int]:\n",
    "    i = 0\n",
    "    j = len(nums) - 1\n",
    "    answer = []\n",
    "    while i <= j:\n",
    "        if abs(nums[i]) > abs(nums[j]):\n",
    "            num = nums[i]\n",
    "            i += 1\n",
    "        else:\n",
    "            num = nums[j]\n",
    "            j -= 1\n",
    "\n",
    "        answer.append(num ** 2)\n",
    "\n",
    "    return answer[::-1]"
   ]
  },
  {
   "cell_type": "code",
   "execution_count": 99,
   "metadata": {},
   "outputs": [
    {
     "data": {
      "text/plain": [
       "[0, 1, 9, 16, 100]"
      ]
     },
     "execution_count": 99,
     "metadata": {},
     "output_type": "execute_result"
    }
   ],
   "source": [
    "nums = [-4,-1,0,3,10]\n",
    "sortedSquares(nums)"
   ]
  },
  {
   "cell_type": "markdown",
   "metadata": {},
   "source": [
    "## 983. Minimum Cost For Tickets"
   ]
  },
  {
   "cell_type": "markdown",
   "metadata": {},
   "source": [
    "You have planned some train traveling one year in advance. The days of the year in which you will travel are given as an integer array days. Each day is an integer from 1 to 365.\n",
    "\n",
    "Train tickets are sold in three different ways:\n",
    "\n",
    "- a 1-day pass is sold for costs[0] dollars,\n",
    "- a 7-day pass is sold for costs[1] dollars, and\n",
    "- a 30-day pass is sold for costs[2] dollars.\n",
    "- The passes allow that many days of consecutive travel.\n",
    "\n",
    "For example, if we get a 7-day pass on day 2, then we can travel for 7 days: 2, 3, 4, 5, 6, 7, and 8.\n",
    "Return the minimum number of dollars you need to travel every day in the given list of days.\n",
    "\n",
    "https://leetcode.com/problems/minimum-cost-for-tickets/solution/"
   ]
  },
  {
   "cell_type": "code",
   "execution_count": 89,
   "metadata": {},
   "outputs": [],
   "source": [
    "from typing import List\n",
    "\n",
    "\n",
    "def mincostTickets(days: List[int], costs: List[int]) -> int:\n",
    "    memoize = [0] * (days[-1] + 1)\n",
    "    \n",
    "    travel_days = set(days)\n",
    "    for i in range(1, len(memoize)):\n",
    "        # if we have to travel today, then we either buy one of the passes\n",
    "        if i in travel_days:\n",
    "            one_day_pass = memoize[max(i - 1, 0)] + costs[0]\n",
    "            seven_day_pass = memoize[max(i - 7, 0)] + costs[1]\n",
    "            thirty_day_pass = memoize[max(i - 30, 0)] + costs[2]\n",
    "            min_cost = min(one_day_pass, seven_day_pass, thirty_day_pass)\n",
    "            memoize[i] = min_cost\n",
    "        else:\n",
    "            # if we don't need to travel today, the cost\n",
    "            # to travel today is the same as yesterday\n",
    "            memoize[i] = memoize[i - 1]\n",
    "    \n",
    "    return memoize[-1]"
   ]
  },
  {
   "cell_type": "code",
   "execution_count": 90,
   "metadata": {},
   "outputs": [
    {
     "data": {
      "text/plain": [
       "11"
      ]
     },
     "execution_count": 90,
     "metadata": {},
     "output_type": "execute_result"
    }
   ],
   "source": [
    "days = [1,4,6,7,8,20]\n",
    "costs = [2,7,15]\n",
    "mincostTickets(days, costs)"
   ]
  },
  {
   "cell_type": "markdown",
   "metadata": {},
   "source": [
    "## 1011. Capacity To Ship Packages Within D Days"
   ]
  },
  {
   "cell_type": "markdown",
   "metadata": {},
   "source": [
    "A conveyor belt has packages that must be shipped from one port to another within days days.\n",
    "\n",
    "The ith package on the conveyor belt has a weight of `weights[i]`. Each day, we load the ship with packages on the conveyor belt (in the order given by weights). We may not load more weight than the maximum weight capacity of the ship.\n",
    "\n",
    "Return the least weight capacity of the ship that will result in all the packages on the conveyor belt being shipped within `days` days.\n",
    "\n",
    "https://leetcode.com/problems/capacity-to-ship-packages-within-d-days/discuss/2202731/Python3-Detailed-Faster-than-99"
   ]
  },
  {
   "cell_type": "code",
   "execution_count": 58,
   "metadata": {},
   "outputs": [],
   "source": [
    "from typing import List\n",
    "\n",
    "\n",
    "def shipWithinDays(weights: List[int], days: int) -> int:\n",
    "    \"\"\"\n",
    "    Binary search.\n",
    "    We are looking for the minimal weight among all feasible capacities.\n",
    "    If we can successfully ship all packages within D days with capacity m,\n",
    "    then we can definitely ship them all with any capacity larger than m.\n",
    "\n",
    "    Boundary: capacity should be at least max(weights), otherwise the conveyor belt\n",
    "    couldn't ship the heaviest package. On the other hand, capacity need not be more\n",
    "    than sum(weights), because then we can ship all packages in just one day.\n",
    "    \"\"\"\n",
    "    left = max(weights)\n",
    "    right = sum(weights)\n",
    "    while left < right:\n",
    "        mid = (left + right) // 2\n",
    "        if feasible(weights, mid, days):\n",
    "            right = mid\n",
    "        else:\n",
    "            left = mid + 1\n",
    "\n",
    "    return left\n",
    "\n",
    "\n",
    "def feasible(weights, capacity, days):\n",
    "    total_days = 1\n",
    "    total_weight = 0\n",
    "    for weight in weights:\n",
    "        total_weight += weight\n",
    "        if total_weight > capacity:\n",
    "            total_weight = weight\n",
    "            total_days += 1\n",
    "            if total_days > days:\n",
    "                return False\n",
    "\n",
    "    return True"
   ]
  },
  {
   "cell_type": "code",
   "execution_count": 59,
   "metadata": {},
   "outputs": [
    {
     "data": {
      "text/plain": [
       "15"
      ]
     },
     "execution_count": 59,
     "metadata": {},
     "output_type": "execute_result"
    }
   ],
   "source": [
    "weights = [1,2,3,4,5,6,7,8,9,10]\n",
    "days = 5\n",
    "shipWithinDays(weights, days)"
   ]
  },
  {
   "cell_type": "code",
   "execution_count": 60,
   "metadata": {},
   "outputs": [
    {
     "data": {
      "text/plain": [
       "6"
      ]
     },
     "execution_count": 60,
     "metadata": {},
     "output_type": "execute_result"
    }
   ],
   "source": [
    "weights = [3,2,2,4,1,4]\n",
    "days = 3\n",
    "shipWithinDays(weights, days)"
   ]
  },
  {
   "cell_type": "markdown",
   "metadata": {},
   "source": [
    "## 1094. Car Pooling"
   ]
  },
  {
   "cell_type": "markdown",
   "metadata": {},
   "source": [
    "There is a car with capacity empty seats. The vehicle only drives east (i.e., it cannot turn around and drive west).\n",
    "\n",
    "You are given the integer capacity and an array trips where `trips[i] = [numPassengersi, fromi, toi]` indicates that the ith trip has numPassengersi passengers and the locations to pick them up and drop them off are fromi and toi respectively. The locations are given as the number of kilometers due east from the car's initial location.\n",
    "\n",
    "Return true if it is possible to pick up and drop off all passengers for all the given trips, or false otherwise.\n",
    "\n",
    "https://www.youtube.com/watch?v=08sn_w4LWEE"
   ]
  },
  {
   "cell_type": "code",
   "execution_count": 151,
   "metadata": {},
   "outputs": [],
   "source": [
    "import heapq\n",
    "from typing import List\n",
    "\n",
    "\n",
    "def carPooling(trips: List[List[int]], capacity: int) -> bool:\n",
    "    trips.sort(key=itemgetter(1))\n",
    "    \n",
    "    total_passenger = 0\n",
    "    past_trips = []\n",
    "    for trip in trips:\n",
    "        num_passenger, start, end = trip\n",
    "        \n",
    "        # for every new destination, we check whether we have already\n",
    "        # dropped the passenger at previous locations, this can be done\n",
    "        # by keeping track of end position in a heap, and pop\n",
    "        # elements from that heap whenever the end position of previous\n",
    "        # itinerary is smaller than the new destination's start position\n",
    "        while past_trips and past_trips[0][0] <= start:\n",
    "            past_end, past_num_passenger = heapq.heappop(past_trips)\n",
    "            total_passenger -= past_num_passenger\n",
    "\n",
    "        total_passenger += num_passenger\n",
    "        if total_passenger > capacity:\n",
    "            return False\n",
    "\n",
    "        heapq.heappush(past_trips, (end, num_passenger))  \n",
    "\n",
    "    return True"
   ]
  },
  {
   "cell_type": "code",
   "execution_count": 156,
   "metadata": {},
   "outputs": [
    {
     "data": {
      "text/plain": [
       "[[2, 1, 5], [3, 3, 7]]"
      ]
     },
     "execution_count": 156,
     "metadata": {},
     "output_type": "execute_result"
    }
   ],
   "source": [
    "from operator import itemgetter\n",
    "trips = [[2,1,5],[3,3,7]]\n",
    "trips.sort(key=itemgetter(1))\n",
    "trips"
   ]
  },
  {
   "cell_type": "code",
   "execution_count": 153,
   "metadata": {},
   "outputs": [
    {
     "data": {
      "text/plain": [
       "True"
      ]
     },
     "execution_count": 153,
     "metadata": {},
     "output_type": "execute_result"
    }
   ],
   "source": [
    "trips = [[2,1,5],[3,3,7]]\n",
    "capacity = 4\n",
    "carPooling(trips, capacity)"
   ]
  },
  {
   "cell_type": "markdown",
   "metadata": {},
   "source": [
    "## 1129. Shortest Path with Alternating Colors"
   ]
  },
  {
   "cell_type": "markdown",
   "metadata": {},
   "source": [
    "You are given an integer n, the number of nodes in a directed graph where the nodes are labeled from 0 to n - 1. Each edge is red or blue in this graph, and there could be self-edges and parallel edges.\n",
    "\n",
    "You are given two arrays redEdges and blueEdges where:\n",
    "\n",
    "- redEdges[i] = [ai, bi] indicates that there is a directed red edge from node ai to node bi in the graph, and\n",
    "- blueEdges[j] = [uj, vj] indicates that there is a directed blue edge from node uj to node vj in the graph.\n",
    "\n",
    "Return an array answer of length n, where each answer[x] is the length of the shortest path from node 0 to node x such that the edge colors alternate along the path, or -1 if such a path does not exist."
   ]
  },
  {
   "cell_type": "code",
   "execution_count": 44,
   "metadata": {},
   "outputs": [],
   "source": [
    "from typing import List\n",
    "from collections import deque\n",
    "\n",
    "\n",
    "def shortestAlternatingPaths(\n",
    "    n: int,\n",
    "    redEdges: List[List[int]],\n",
    "    blueEdges: List[List[int]]\n",
    ") -> List[int]:\n",
    "    edge_dict = {}\n",
    "    add_edge_dict(edge_dict, redEdges, color='red')\n",
    "    add_edge_dict(edge_dict, blueEdges, color='blue')\n",
    "\n",
    "    visited = set([(0, 'red'), (0, 'blue')])\n",
    "\n",
    "    # traverses through the graph using breadth first search\n",
    "    # node, color, level/distance\n",
    "    queue = deque([(0, 'red', 0), (0, 'blue', 0)])\n",
    "    answer = [-1] * n\n",
    "    answer[0] = 0\n",
    "    while queue:\n",
    "        start_node, color, distance = queue.popleft()\n",
    "        for end_node, end_color in edge_dict.get(start_node, []):\n",
    "            if color == end_color or (end_node, end_color) in visited:\n",
    "                continue\n",
    "\n",
    "            if answer[end_node] < 0:\n",
    "                answer[end_node] = distance + 1\n",
    "            queue.append((end_node, end_color, distance + 1))\n",
    "            visited.add((end_node, end_color))\n",
    "\n",
    "    return answer\n",
    "\n",
    "\n",
    "def add_edge_dict(edge_dict, edges, color):\n",
    "    for start_node, end_node in edges:\n",
    "        if start_node not in edge_dict:\n",
    "            edge_dict[start_node] = [(end_node, color)]\n",
    "        else:\n",
    "            edge_dict[start_node].append((end_node, color))"
   ]
  },
  {
   "cell_type": "code",
   "execution_count": 45,
   "metadata": {},
   "outputs": [
    {
     "data": {
      "text/plain": [
       "[0, 1, -1]"
      ]
     },
     "execution_count": 45,
     "metadata": {},
     "output_type": "execute_result"
    }
   ],
   "source": [
    "n = 3\n",
    "redEdges = [[0,1]]\n",
    "blueEdges = [[2,1]]\n",
    "shortestAlternatingPaths(n, redEdges, blueEdges)\n",
    "# expected: [0,1,-1]"
   ]
  },
  {
   "cell_type": "code",
   "execution_count": 46,
   "metadata": {},
   "outputs": [
    {
     "data": {
      "text/plain": [
       "[0, 2, -1, -1, 1]"
      ]
     },
     "execution_count": 46,
     "metadata": {},
     "output_type": "execute_result"
    }
   ],
   "source": [
    "n = 5\n",
    "redEdges = [[3,2],[4,1],[1,4],[2,4]]\n",
    "blueEdges = [[2,3],[0,4],[4,3],[4,4],[4,0],[1,0]]\n",
    "shortestAlternatingPaths(n, redEdges, blueEdges)\n",
    "# expected: [0,2,-1,-1,1]"
   ]
  },
  {
   "cell_type": "code",
   "execution_count": 47,
   "metadata": {},
   "outputs": [
    {
     "data": {
      "text/plain": [
       "[0, 1, 2, 3, 7]"
      ]
     },
     "execution_count": 47,
     "metadata": {},
     "output_type": "execute_result"
    }
   ],
   "source": [
    "n = 5\n",
    "redEdges = [[0,1],[1,2],[2,3],[3,4]]\n",
    "blueEdges = [[1,2],[2,3],[3,1]]\n",
    "shortestAlternatingPaths(n, redEdges, blueEdges)\n",
    "# expected: [0,1,2,3,7]"
   ]
  },
  {
   "cell_type": "markdown",
   "metadata": {},
   "source": [
    "## 1268. Search Suggestions System"
   ]
  },
  {
   "cell_type": "markdown",
   "metadata": {},
   "source": [
    "You are given an array of strings products and a string searchWord.\n",
    "\n",
    "Design a system that suggests at most three product names from products after each character of searchWord is typed. Suggested products should have common prefix with searchWord. If there are more than three products with a common prefix return the three lexicographically minimums products.\n",
    "\n",
    "Return a list of lists of the suggested products after each character of searchWord is typed.\n",
    "\n",
    "https://www.youtube.com/watch?v=D4T2N0yAr20"
   ]
  },
  {
   "cell_type": "code",
   "execution_count": 5,
   "metadata": {},
   "outputs": [],
   "source": [
    "from typing import List\n",
    "\n",
    "def suggestedProducts(products: List[str], searchWord: str) -> List[List[str]]:\n",
    "    products.sort()\n",
    "    left = 0\n",
    "    right = len(products) - 1\n",
    "    results = []\n",
    "\n",
    "    for i, word in enumerate(searchWord):\n",
    "        # we increment/decrement pointer if the word is not equal\n",
    "        while left <= right and (len(products[left]) <= i or products[left][i] != word):\n",
    "            left += 1\n",
    "   \n",
    "        while left <= right and (len(products[right]) <= i or products[right][i] != word):\n",
    "            right -= 1\n",
    "\n",
    "        remain = right - left + 1\n",
    "        result = [products[left + j] for j in range(min(3, remain))]\n",
    "        results.append(result)\n",
    "\n",
    "    return results"
   ]
  },
  {
   "cell_type": "code",
   "execution_count": 6,
   "metadata": {},
   "outputs": [
    {
     "data": {
      "text/plain": [
       "[[], [], [], [], [], [], []]"
      ]
     },
     "execution_count": 6,
     "metadata": {},
     "output_type": "execute_result"
    }
   ],
   "source": [
    "products = [\"havana\"]\n",
    "searchWord = \"tatiana\"\n",
    "suggestedProducts(products, searchWord)"
   ]
  },
  {
   "cell_type": "code",
   "execution_count": 7,
   "metadata": {},
   "outputs": [
    {
     "data": {
      "text/plain": [
       "[['mobile', 'moneypot', 'monitor'],\n",
       " ['mobile', 'moneypot', 'monitor'],\n",
       " ['mouse', 'mousepad'],\n",
       " ['mouse', 'mousepad'],\n",
       " ['mouse', 'mousepad']]"
      ]
     },
     "execution_count": 7,
     "metadata": {},
     "output_type": "execute_result"
    }
   ],
   "source": [
    "products = [\"mobile\",\"mouse\",\"moneypot\",\"monitor\",\"mousepad\"]\n",
    "searchWord = \"mouse\"\n",
    "suggestedProducts(products, searchWord)"
   ]
  },
  {
   "cell_type": "markdown",
   "metadata": {},
   "source": [
    "# Reference"
   ]
  },
  {
   "cell_type": "markdown",
   "metadata": {},
   "source": [
    "- [Github: Leetcode Solutions in Python](https://github.com/csujedihy/lc-all-solutions)\n",
    "- [Github: Python / C++ 11 Solutions of LeetCode Questions](https://github.com/kamyu104/LeetCode)\n",
    "- [[Python] Powerful Ultimate Binary Search Template](https://leetcode.com/discuss/general-discussion/786126/python-powerful-ultimate-binary-search-template-solved-many-problems)\n",
    "- [Youtube: Neetcode Channel](https://www.youtube.com/c/NeetCode)"
   ]
  }
 ],
 "metadata": {
  "kernelspec": {
   "display_name": "Python 3 (ipykernel)",
   "language": "python",
   "name": "python3"
  },
  "language_info": {
   "codemirror_mode": {
    "name": "ipython",
    "version": 3
   },
   "file_extension": ".py",
   "mimetype": "text/x-python",
   "name": "python",
   "nbconvert_exporter": "python",
   "pygments_lexer": "ipython3",
   "version": "3.7.11"
  },
  "toc": {
   "base_numbering": 1,
   "nav_menu": {
    "height": "12px",
    "width": "252px"
   },
   "number_sections": true,
   "sideBar": true,
   "skip_h1_title": false,
   "title_cell": "Table of Contents",
   "title_sidebar": "Contents",
   "toc_cell": true,
   "toc_position": {
    "height": "600px",
    "left": "0px",
    "right": "1207px",
    "top": "134px",
    "width": "312px"
   },
   "toc_section_display": "block",
   "toc_window_display": true
  },
  "varInspector": {
   "cols": {
    "lenName": 16,
    "lenType": 16,
    "lenVar": 40
   },
   "kernels_config": {
    "python": {
     "delete_cmd_postfix": "",
     "delete_cmd_prefix": "del ",
     "library": "var_list.py",
     "varRefreshCmd": "print(var_dic_list())"
    },
    "r": {
     "delete_cmd_postfix": ") ",
     "delete_cmd_prefix": "rm(",
     "library": "var_list.r",
     "varRefreshCmd": "cat(var_dic_list()) "
    }
   },
   "types_to_exclude": [
    "module",
    "function",
    "builtin_function_or_method",
    "instance",
    "_Feature"
   ],
   "window_display": false
  }
 },
 "nbformat": 4,
 "nbformat_minor": 2
}
