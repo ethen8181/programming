{
 "cells": [
  {
   "cell_type": "code",
   "execution_count": 2,
   "metadata": {},
   "outputs": [
    {
     "name": "stdout",
     "output_type": "stream",
     "text": [
      "Ethen 2017-01-07 10:32:47 \n",
      "\n",
      "CPython 3.5.2\n",
      "IPython 4.2.0\n",
      "\n",
      "numpy 1.11.3\n",
      "pandas 0.18.1\n",
      "matplotlib 1.5.1\n",
      "scipy 0.18.1\n"
     ]
    }
   ],
   "source": [
    "import numpy as np\n",
    "import pandas as pd\n",
    "import matplotlib.pyplot as plt\n",
    "\n",
    "# 1. magic for inline plot\n",
    "# 2. magic to print version\n",
    "# 3. magic so that the notebook will reload external python modules\n",
    "%matplotlib inline\n",
    "%load_ext watermark\n",
    "%load_ext autoreload \n",
    "%autoreload 2\n",
    "\n",
    "from scipy.stats import norm, bernoulli\n",
    "\n",
    "%watermark -a 'Ethen' -d -t -v -p numpy,pandas,matplotlib,scipy"
   ]
  },
  {
   "cell_type": "code",
   "execution_count": 3,
   "metadata": {},
   "outputs": [
    {
     "data": {
      "text/plain": [
       "array([  955.11482345,   964.14265604,   952.99736837, ...,  1109.61915633,\n",
       "        1052.35240098,  1076.64329301])"
      ]
     },
     "execution_count": 3,
     "metadata": {},
     "output_type": "execute_result"
    }
   ],
   "source": [
    "# define size of two regions (changepoint occurring at the middle)\n",
    "size1 = 2500\n",
    "size2 = 2500\n",
    "\n",
    "scale = 50 # standard deviation of distribution function\n",
    "loc1 = 1000 # mean of normal for first part\n",
    "loc2 = 1020 # mean of normal for second part\n",
    "d1 = norm.rvs(loc = loc1, size = size1, scale = scale)\n",
    "d2 = norm.rvs(loc = loc2, size = size2, scale = scale)\n",
    "data = np.r_[d1, d2]\n",
    "data"
   ]
  },
  {
   "cell_type": "code",
   "execution_count": 5,
   "metadata": {
    "collapsed": true
   },
   "outputs": [],
   "source": [
    "def compute_normal_loglike(data, cutoff):\n",
    "    \"\"\"\n",
    "    compute log-likelihood ratio, R,\n",
    "    across all possible time tau\n",
    "    \n",
    "    cutoff: \n",
    "        time index at the beginning and end that will not be evaluated\n",
    "    \"\"\"\n",
    "    n = data.shape[0]\n",
    "    loss_h0 = np.sum((data - np.mean(data)) ** 2)\n",
    "    print(loss_h0)\n",
    "    # this part can be easily parallelized\n",
    "    loss_before_change = np.asarray([ np.sum( (data[:i] - np.mean(data[:i])) ** 2 ) \n",
    "                                      for i in range(cutoff, n - cutoff) ])\n",
    "    loss_after_change = np.asarray([ np.sum( (data[i:] - np.mean(data[i:])) ** 2 ) \n",
    "                                     for i in range(cutoff, n - cutoff) ])\n",
    "    loss_h1 = loss_before_change + loss_after_change\n",
    "    R = -1 / (2 * np.var(data)) * (loss_h1 - loss_h0)\n",
    "    print(R)\n",
    "    return R"
   ]
  },
  {
   "cell_type": "code",
   "execution_count": 7,
   "metadata": {},
   "outputs": [
    {
     "name": "stdout",
     "output_type": "stream",
     "text": [
      "12771524.2763\n",
      "[ 0.35185679  0.46461767  0.60819908 ...,  1.13529216  1.31881872\n",
      "  1.71924538]\n"
     ]
    },
    {
     "data": {
      "text/plain": [
       "array([ 0.35185679,  0.46461767,  0.60819908, ...,  1.13529216,\n",
       "        1.31881872,  1.71924538])"
      ]
     },
     "execution_count": 7,
     "metadata": {},
     "output_type": "execute_result"
    }
   ],
   "source": [
    "compute_normal_loglike(data, cutoff = 10)"
   ]
  },
  {
   "cell_type": "code",
   "execution_count": 8,
   "metadata": {
    "collapsed": true
   },
   "outputs": [],
   "source": [
    "def plot_changepoint(data, cutoff, R):\n",
    "    \"\"\"\n",
    "    if there is no change point,\n",
    "    then it will be a normal time series plot\n",
    "    \"\"\"\n",
    "    n = data.shape[0]\n",
    "    plot_setting = {'color': 'r', 'lw': 2}\n",
    "    plt.plot(range(1, n + 1), data)\n",
    "    plt.xlabel('Time')\n",
    "    \n",
    "    # there is a changepoint if the largest log-likelihood\n",
    "    # ratio, R, is larger than a user-specified threshold, \n",
    "    # here it is set to 3/2 of the upper quantile of all the data\n",
    "    # http://flowingdata.com/2008/02/15/how-to-read-and-use-a-box-and-whisker-plot/\n",
    "    upper_quantile = np.percentile(R, 75)\n",
    "    threshold = 3 / 2 * upper_quantile\n",
    "    G = np.amax(R)\n",
    "    if G > threshold:\n",
    "        print('G:', G)\n",
    "        print('threshold:', threshold)\n",
    "        # round the mean for nicer printing\n",
    "        changepoint = np.argmax(R) + cutoff\n",
    "        mean_before = np.round( np.mean(data[:changepoint]), 2 )\n",
    "        mean_after = np.round( np.mean(data[changepoint + 1:]), 2 )\n",
    "\n",
    "        # add the horizontal line for previous and new mean,\n",
    "        # and a vertical line indicating the changepoint\n",
    "        plt.plot([0, changepoint], [mean_before, mean_before], **plot_setting)\n",
    "        plt.plot([changepoint + 1, n], [mean_after, mean_after], **plot_setting)\n",
    "        plt.axvline(changepoint + 0.5, linestyle = '--', **plot_setting)\n",
    "        title = \"\"\"\n",
    "                changepoint detected at time {},\\n \n",
    "                previous mean {}, new mean {}\n",
    "                \"\"\".format(changepoint, mean_before, mean_after)\n",
    "    else:\n",
    "        m = np.round(np.mean(data), 2)\n",
    "        title = 'mean {}'.format(m)\n",
    "        plt.plot([0, n], [m, m], **plot_setting)\n",
    "    \n",
    "    plt.title(title)\n",
    "    plt.tight_layout()"
   ]
  },
  {
   "cell_type": "code",
   "execution_count": 9,
   "metadata": {},
   "outputs": [
    {
     "name": "stdout",
     "output_type": "stream",
     "text": [
      "12771524.2763\n",
      "[ 0.82638179  0.69644515  0.78931296 ...,  0.97839074  1.29960936\n",
      "  1.47123294]\n",
      "G: 110.818359377\n",
      "threshold: 94.2456254375\n"
     ]
    },
    {
     "data": {
      "image/png": "[encoded data removed]",
      "text/plain": [
       "<matplotlib.figure.Figure at 0x106276978>"
      ]
     },
     "metadata": {},
     "output_type": "display_data"
    }
   ],
   "source": [
    "plt.style.use('fivethirtyeight')\n",
    "plt.rcParams['figure.figsize'] = 10, 6\n",
    "plt.rcParams['font.size'] = 10\n",
    "\n",
    "cutoff = 30\n",
    "R = compute_normal_loglike(data, cutoff)\n",
    "plot_changepoint(data, cutoff, R)"
   ]
  },
  {
   "cell_type": "code",
   "execution_count": 9,
   "metadata": {},
   "outputs": [
    {
     "data": {
      "text/plain": [
       "array([1, 1, 1, ..., 0, 1, 1])"
      ]
     },
     "execution_count": 9,
     "metadata": {},
     "output_type": "execute_result"
    }
   ],
   "source": [
    "p1 = 0.9\n",
    "p2 = 0.85\n",
    "d1 = bernoulli.rvs(p1,size=size1)\n",
    "d2 = bernoulli.rvs(p2,size=size2)\n",
    "data = np.r_[d1, d2]\n",
    "data"
   ]
  },
  {
   "cell_type": "code",
   "execution_count": null,
   "metadata": {
    "collapsed": true
   },
   "outputs": [],
   "source": []
  }
 ],
 "metadata": {
  "anaconda-cloud": {},
  "kernelspec": {
   "display_name": "Python 3",
   "language": "python",
   "name": "python3"
  },
  "language_info": {
   "codemirror_mode": {
    "name": "ipython",
    "version": 3
   },
   "file_extension": ".py",
   "mimetype": "text/x-python",
   "name": "python",
   "nbconvert_exporter": "python",
   "pygments_lexer": "ipython3",
   "version": "3.6.4"
  },
  "toc": {
   "nav_menu": {},
   "number_sections": true,
   "sideBar": true,
   "skip_h1_title": false,
   "title_cell": "Table of Contents",
   "title_sidebar": "Contents",
   "toc_cell": false,
   "toc_position": {},
   "toc_section_display": true,
   "toc_window_display": false
  },
  "varInspector": {
   "cols": {
    "lenName": 16,
    "lenType": 16,
    "lenVar": 40
   },
   "kernels_config": {
    "python": {
     "delete_cmd_postfix": "",
     "delete_cmd_prefix": "del ",
     "library": "var_list.py",
     "varRefreshCmd": "print(var_dic_list())"
    },
    "r": {
     "delete_cmd_postfix": ") ",
     "delete_cmd_prefix": "rm(",
     "library": "var_list.r",
     "varRefreshCmd": "cat(var_dic_list()) "
    }
   },
   "types_to_exclude": [
    "module",
    "function",
    "builtin_function_or_method",
    "instance",
    "_Feature"
   ],
   "window_display": false
  }
 },
 "nbformat": 4,
 "nbformat_minor": 1
}
