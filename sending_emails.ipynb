{
 "cells": [
  {
   "cell_type": "markdown",
   "metadata": {
    "toc": true
   },
   "source": [
    "<h1>Table of Contents<span class=\"tocSkip\"></span></h1>\n",
    "<div class=\"toc\"><ul class=\"toc-item\"><li><span><a href=\"#Sending-Emails\" data-toc-modified-id=\"Sending-Emails-1\"><span class=\"toc-item-num\">1&nbsp;&nbsp;</span>Sending Emails</a></span></li><li><span><a href=\"#Reference\" data-toc-modified-id=\"Reference-2\"><span class=\"toc-item-num\">2&nbsp;&nbsp;</span>Reference</a></span></li></ul></div>"
   ]
  },
  {
   "cell_type": "markdown",
   "metadata": {},
   "source": [
    "# Sending Emails"
   ]
  },
  {
   "cell_type": "markdown",
   "metadata": {},
   "source": [
    "Connect to a mail server securely using SMTP, we'll also use the SSL (Secure Socket Layer) or TLS (Transport Layer Security) to do some heavy lifting on the encryption side.\n",
    "\n",
    "When a server and client communicate, these are two different protocols that ensures that no third party can overhear or tamper with any messages. TLS is a more recent security measure. For the our purpose, we don't need to understand the difference between the two, just that there is a difference between an encrypted and un-encrypted connection. "
   ]
  },
  {
   "cell_type": "code",
   "execution_count": 1,
   "metadata": {},
   "outputs": [],
   "source": [
    "import smtplib, ssl\n",
    "\n",
    "smtp_server = 'smtp.gmail.com'\n",
    "port = 465\n",
    "\n",
    "# change account access for less secure apps\n",
    "# https://support.google.com/accounts/answer/6010255?hl=en\n",
    "sender = 'enter sender'\n",
    "password = 'enter password'\n",
    "receiver = 'enter receiver'\n",
    "\n",
    "context = ssl.create_default_context()"
   ]
  },
  {
   "cell_type": "code",
   "execution_count": 3,
   "metadata": {},
   "outputs": [
    {
     "name": "stdout",
     "output_type": "stream",
     "text": [
      "it worked\n"
     ]
    }
   ],
   "source": [
    "# the From, To and Subject follows the SMTP protocol to define the common\n",
    "# fields for an email.\n",
    "# If for security and privacy reasons, we would like to have our emails\n",
    "# blind carbon copied, then we can exclude the \"To:\" line\n",
    "message = \"\"\"\\\n",
    "From: {}\n",
    "To: {}\n",
    "Subject: Hello\n",
    "\n",
    "This was sent from python\n",
    "\"\"\".format(sender, receiver)\n",
    "\n",
    "# here we'll initiate the connection and send a plain text email\n",
    "with smtplib.SMTP_SSL(smtp_server, port, context=context) as server:\n",
    "    server.login(sender, password)\n",
    "    server.sendmail(sender, receiver, message)\n",
    "    print('it worked')"
   ]
  },
  {
   "cell_type": "markdown",
   "metadata": {},
   "source": [
    "Today's most common type of email is MIME  (Multi-purpose Internet Mail Extensions). We can send plain text emails, html-formatted emails (the prettify our email content) or even attachments."
   ]
  },
  {
   "cell_type": "code",
   "execution_count": null,
   "metadata": {},
   "outputs": [],
   "source": [
    "from email.mime.text import MIMEText\n",
    "from email.mime.multipart import MIMEMultipart\n",
    "\n",
    "\n",
    "text = 'This was sent from python'\n",
    "\n",
    "message = MIMEMultipart()\n",
    "message['Subject'] = 'Hello MIME'\n",
    "message['From'] = sender\n",
    "message['To'] = receiver\n",
    "message.attach(MIMEText(text, 'plain'))\n",
    "\n",
    "with smtplib.SMTP_SSL(smtp_server, port, context=context) as server:\n",
    "    server.login(sender, password)\n",
    "    server.sendmail(sender, receiver, message.as_string())\n",
    "    print('it worked')"
   ]
  },
  {
   "cell_type": "code",
   "execution_count": 8,
   "metadata": {},
   "outputs": [
    {
     "name": "stdout",
     "output_type": "stream",
     "text": [
      "it worked\n"
     ]
    }
   ],
   "source": [
    "text = \"\"\"\\\n",
    "<html>\n",
    "  <body>\n",
    "    <p>\n",
    "        This was sent from <b>Python<b>\n",
    "    </p>\n",
    "  </body>\n",
    "</html>\n",
    "\"\"\"\n",
    "\n",
    "message = MIMEMultipart()\n",
    "message['Subject'] = 'Hello MIME'\n",
    "message['From'] = sender\n",
    "message['To'] = receiver\n",
    "message.attach(MIMEText(text, 'html'))\n",
    "\n",
    "with smtplib.SMTP_SSL(smtp_server, port, context=context) as server:\n",
    "    server.login(sender, password)\n",
    "    server.sendmail(sender, receiver, message.as_string())\n",
    "    print('it worked')"
   ]
  },
  {
   "cell_type": "markdown",
   "metadata": {},
   "source": [
    "# Reference"
   ]
  },
  {
   "cell_type": "markdown",
   "metadata": {},
   "source": [
    "- https://nitratine.net/blog/post/how-to-send-an-email-with-python/\n",
    "- https://realpython.com/python-send-email/"
   ]
  }
 ],
 "metadata": {
  "kernelspec": {
   "display_name": "Python 3",
   "language": "python",
   "name": "python3"
  },
  "language_info": {
   "codemirror_mode": {
    "name": "ipython",
    "version": 3
   },
   "file_extension": ".py",
   "mimetype": "text/x-python",
   "name": "python",
   "nbconvert_exporter": "python",
   "pygments_lexer": "ipython3",
   "version": "3.6.4"
  },
  "toc": {
   "nav_menu": {},
   "number_sections": true,
   "sideBar": true,
   "skip_h1_title": false,
   "title_cell": "Table of Contents",
   "title_sidebar": "Contents",
   "toc_cell": true,
   "toc_position": {
    "height": "calc(100% - 180px)",
    "left": "10px",
    "top": "150px",
    "width": "277px"
   },
   "toc_section_display": true,
   "toc_window_display": true
  },
  "varInspector": {
   "cols": {
    "lenName": 16,
    "lenType": 16,
    "lenVar": 40
   },
   "kernels_config": {
    "python": {
     "delete_cmd_postfix": "",
     "delete_cmd_prefix": "del ",
     "library": "var_list.py",
     "varRefreshCmd": "print(var_dic_list())"
    },
    "r": {
     "delete_cmd_postfix": ") ",
     "delete_cmd_prefix": "rm(",
     "library": "var_list.r",
     "varRefreshCmd": "cat(var_dic_list()) "
    }
   },
   "types_to_exclude": [
    "module",
    "function",
    "builtin_function_or_method",
    "instance",
    "_Feature"
   ],
   "window_display": false
  }
 },
 "nbformat": 4,
 "nbformat_minor": 2
}
