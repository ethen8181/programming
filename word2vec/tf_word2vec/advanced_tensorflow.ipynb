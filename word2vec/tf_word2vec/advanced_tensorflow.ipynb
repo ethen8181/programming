{
 "cells": [
  {
   "cell_type": "code",
   "execution_count": 1,
   "metadata": {},
   "outputs": [
    {
     "name": "stdout",
     "output_type": "stream",
     "text": [
      "Ethen 2017-07-27 12:07:28 \n",
      "\n",
      "CPython 3.5.2\n",
      "IPython 5.4.1\n",
      "\n",
      "numpy 1.13.1\n",
      "tensorflow 1.1.0\n"
     ]
    }
   ],
   "source": [
    "import os\n",
    "import numpy as np\n",
    "import tensorflow as tf\n",
    "import matplotlib.pyplot as plt\n",
    "from subprocess import call\n",
    "\n",
    "# 1. magic for inline plot\n",
    "# 2. magic to print version\n",
    "# 3. magic so that the notebook will reload external python modules\n",
    "# 4. magic to enable retina (high resolution) plots\n",
    "# https://gist.github.com/minrk/3301035\n",
    "%matplotlib inline\n",
    "%load_ext watermark\n",
    "%load_ext autoreload\n",
    "%autoreload 2\n",
    "%config InlineBackend.figure_format = 'retina'\n",
    "\n",
    "%watermark -a 'Ethen' -d -t -v -p numpy,tensorflow"
   ]
  },
  {
   "cell_type": "markdown",
   "metadata": {},
   "source": [
    "# Tensorboard\n",
    "\n",
    "In [Google’s own words](https://www.tensorflow.org/get_started/summaries_and_tensorboard): \"The computations you'll use TensorFlow for - like training a massive deep neural network - can be complex and confusing. To make it easier to understand,\n",
    "debug, and optimize TensorFlow programs, we've included a suite of visualization tools called TensorBoard.\n",
    "\n",
    "The following code chunk contains a couple important concepts. When specify our computational graph, there are two tricks that can make our lives easier later on.\n",
    "\n",
    "- The first one is giving names to our operations (a.k.a ops), e.g. `tf.add(a, b, name = 'y')`\n",
    "- The other one is to group similar nodes together with `tf.name_scope()`. In the simple example below, we group all ops related to input together and all ops related to output together. It might seem like an overkill for this trivial example, but when we start to build models that are more and more complex, the debugging process can grow to be extremely daunting\n",
    "\n",
    "Then it's about collecting summary data along the way. To elaborate, in machine learning models, we often wish to track how the objective/loss function or accuracy is changing over iterations to evaluate whether to model converged or not. With Tensorflow, we can collect these by attaching `tf.summary.scalar` ops to the nodes that output the scalar/value that we're interested in."
   ]
  },
  {
   "cell_type": "code",
   "execution_count": 2,
   "metadata": {},
   "outputs": [
    {
     "name": "stdout",
     "output_type": "stream",
     "text": [
      "3.0\n",
      "5.0\n",
      "8.0\n",
      "13.0\n",
      "21.0\n",
      "34.0\n",
      "55.0\n",
      "89.0\n",
      "144.0\n",
      "233.0\n"
     ]
    }
   ],
   "source": [
    "LOG_PATH = './tmp/example-1/'\n",
    "\n",
    "with tf.name_scope('input'):\n",
    "    a = tf.placeholder(tf.float32, name = 'a')\n",
    "    b = tf.placeholder(tf.float32, name = 'b')\n",
    "\n",
    "with tf.name_scope('output'):\n",
    "    y = tf.add(a, b, name = 'y')\n",
    "\n",
    "# create a summary to monitor y,\n",
    "# we can create other summary by just\n",
    "# adding more tf.summary.scalar\n",
    "tf.summary.scalar('y_value', y)\n",
    "\n",
    "# merge all summaries into a single op\n",
    "# that generates all the summary data\n",
    "# so we don't have to handle them individually\n",
    "merged = tf.summary.merge_all()\n",
    "\n",
    "with tf.Session() as sess:\n",
    "    # create log writer object and pass in the log path\n",
    "    # the logdir is quite important, it's the directory where all of the \n",
    "    # events will be written out. The FileWriter can optionally take a Graph \n",
    "    # in its constructor, which in our case it will be the computational graph \n",
    "    # for the current session. If it receives a Graph object, then TensorBoard\n",
    "    # will visualize our graph along with tensor shape information\n",
    "    writer = tf.summary.FileWriter(logdir = LOG_PATH, graph = sess.graph)\n",
    "\n",
    "    # perform calculation, where we just keep adding numbers\n",
    "    a_value = 1\n",
    "    b_value = 2\n",
    "    for i in range(10):\n",
    "        summary, y_value = sess.run([merged, y], feed_dict = {a: a_value, b: b_value})\n",
    "\n",
    "        # we write logs at every iteration, note that we could also consider writing\n",
    "        # the summary log for every n iterations instead\n",
    "        writer.add_summary(summary, i)\n",
    "\n",
    "        a_value = b_value\n",
    "        b_value = y_value\n",
    "        print(y_value)"
   ]
  },
  {
   "cell_type": "code",
   "execution_count": null,
   "metadata": {
    "collapsed": true
   },
   "outputs": [],
   "source": [
    "# mimick command line call to lauch tensorboard\n",
    "# call('tensorboard --logdir={}'.format(LOG_PATH), shell = True)\n",
    "!tensorboard --logdir='./tmp/example-1/'"
   ]
  },
  {
   "cell_type": "markdown",
   "metadata": {},
   "source": [
    "Now we can navigate to http://0.0.0.0:6006 to look at our tensorboard. Or we can add an additional argument to the command line call to specify the port for the tensorboard, e.g. if we add `--port=8001` then the tensorboard will be located at `localhost:8001` in our browser.\n",
    "\n",
    "The tensorboard should look very similar to the screenshot below:\n",
    "\n",
    "Under the scalars tab: We've only logged the value for y, so there will only be one scalar summary.\n",
    "\n",
    "<img src=\"images/tensorboard_summary.png\" width=\"60%\" height=\"60%\">\n",
    "\n",
    "Under the graph tab, since we have grouped two ops under the input name scope, if we click on the plus sign on top of its name scope block, we can see all the ops inside that block.\n",
    "\n",
    "<img src=\"images/tensorboard_graph.png\" width=\"60%\" height=\"60%\">\n",
    "\n",
    "Note that we might want to delete the original logdir directory if we were to re-run the code several times. Or else Tensorboard might include duplicate things in it or display warning since there will be multiple event files.\n",
    "\n",
    "To learn more, the following link has a more comprehensive guide for configuring Tensorboard. [Tensorflow Documentation: TensorBoard: Visualizing Learning](https://www.tensorflow.org/get_started/summaries_and_tensorboard)"
   ]
  },
  {
   "cell_type": "markdown",
   "metadata": {},
   "source": [
    "# Structuring Tensorflow Code\n",
    "\n",
    "We'll re-format the [Linear Regression](http://nbviewer.jupyter.org/github/ethen8181/machine-learning/blob/master/deep_learning/softmax_tensorflow.ipynb#Linear-Regression) example that we did in the Tensorflow hello-world notebook to illustrate how we might structure our Tensorflow code into a class to make it for re-usable by others.\n",
    "\n",
    "For building the computational graph, the following code structures the code using the logic of:\n",
    "\n",
    "1. Define placeholders for input data\n",
    "2. Define the weights\n",
    "3. Define the inference model and loss function\n",
    "4. Define optimizer\n",
    "5. Define the metric to want to monitor"
   ]
  },
  {
   "cell_type": "code",
   "execution_count": 3,
   "metadata": {
    "collapsed": true
   },
   "outputs": [],
   "source": [
    "class TensorflowLinearRegression:\n",
    "    \"\"\"\n",
    "    Linear Regression\n",
    "\n",
    "    Parameters\n",
    "    ----------\n",
    "    n_iters : int, default 100\n",
    "        Number of iterations to run the gradient descent optimizer\n",
    "\n",
    "    learning_rate : float, default 0.01\n",
    "        Learning rate for the optimizer\n",
    "\n",
    "    tensorboard : str, default './graphs/linear'\n",
    "        Path to store the tensorboard information\n",
    "\n",
    "    Attributes\n",
    "    ----------\n",
    "    coefs_ :\n",
    "        Estimated coefficients for the linear regression problem\n",
    "\n",
    "    intercept_ :\n",
    "        Independent term in the linear model\n",
    "    \"\"\"\n",
    "    def __init__(self, n_iters = 100, learning_rate = 0.01, tensorboard = './graphs/linear'):\n",
    "        self.n_iters = n_iters\n",
    "        self.tensorboard = tensorboard\n",
    "        self.learning_rate = learning_rate\n",
    "\n",
    "    def fit(self, X, y):\n",
    "        \"\"\"\n",
    "        Fit the linear regression estimator\n",
    "        \n",
    "        Parameters\n",
    "        ----------\n",
    "        X : ndarray\n",
    "            Input data\n",
    "            \n",
    "        y : ndarray\n",
    "            Input data's corresponding label\n",
    "        \"\"\"\n",
    "        self.history_ = []\n",
    "\n",
    "        # Clears the default graph stack and resets the global default graph;\n",
    "        # this line is crucial if we want to re-run the class in interactive\n",
    "        # environment such as jupyter notebook\n",
    "        tf.reset_default_graph()\n",
    "        self._build_graph()\n",
    "        init = tf.global_variables_initializer()\n",
    "\n",
    "        with tf.Session() as sess:\n",
    "            sess.run(init)\n",
    "\n",
    "            # use the summary FileWriter to record the loss at each epoch\n",
    "            writer = tf.summary.FileWriter(self.tensorboard, sess.graph)\n",
    "\n",
    "            for epoch in range(self.n_iters):\n",
    "                feed_dict = {self._X: X, self._y: y}\n",
    "                _, loss, summary = sess.run(\n",
    "                    [self._train_step, self._total_loss, self._summary_op], feed_dict)\n",
    "\n",
    "                self.history_.append(loss)\n",
    "                writer.add_summary(summary, epoch)\n",
    "   \n",
    "            self.coefs_ = sess.run(self._W)\n",
    "            self.intercept_ = sess.run(self._b)\n",
    "\n",
    "        return self\n",
    "\n",
    "    def predict(self, X):\n",
    "        prediction = self.coefs_ * X + self.intercept_\n",
    "        return prediction\n",
    "\n",
    "    def _build_graph(self):\n",
    "        \"\"\"build the tensorflow computational graph\"\"\"\n",
    "        \n",
    "        # instead of building the entire graph in one\n",
    "        # large function, we oranize into different functions;\n",
    "        # hopefully the function name is already self-explanatory\n",
    "        self._create_placeholders()\n",
    "        self._create_variables()\n",
    "        self._create_loss()\n",
    "        self._create_optimizer()\n",
    "        self._create_summaries()\n",
    "        return self\n",
    "\n",
    "    def _create_placeholders(self):\n",
    "        # we again use name_scope to group similar ops together\n",
    "        with tf.name_scope('placeholders'):\n",
    "            self._X = tf.placeholder(tf.float32, name = 'data')\n",
    "            self._y = tf.placeholder(tf.float32, name = 'label')\n",
    "\n",
    "        return self\n",
    "\n",
    "    def _create_variables(self):\n",
    "        # give the model's parameter a randomized initial value\n",
    "        with tf.name_scope('variables'):\n",
    "            self._W = tf.Variable(np.random.randn(), tf.float32, name = 'weight')\n",
    "            self._b = tf.Variable(np.random.randn(), tf.float32, name = 'bias')\n",
    "        \n",
    "        return self\n",
    "\n",
    "    def _create_loss(self):\n",
    "        # standard L2 loss for linear regression\n",
    "        with tf.name_scope('loss'):\n",
    "            pred = tf.add(self._W * self._X, self._b, name = 'prediction')\n",
    "            self._total_loss = tf.reduce_mean(tf.pow(pred - self._y, 2))\n",
    "\n",
    "        return self\n",
    "\n",
    "    def _create_optimizer(self):\n",
    "        optimizer = tf.train.GradientDescentOptimizer(self.learning_rate)\n",
    "        self._train_step = optimizer.minimize(self._total_loss)\n",
    "        return self\n",
    "\n",
    "    def _create_summaries(self):\n",
    "        tf.summary.scalar('loss', self._total_loss)\n",
    "        self._summary_op = tf.summary.merge_all()\n",
    "        return self"
   ]
  },
  {
   "cell_type": "code",
   "execution_count": 4,
   "metadata": {},
   "outputs": [
    {
     "data": {
      "text/plain": [
       "<__main__.TensorflowLinearRegression at 0x1182933c8>"
      ]
     },
     "execution_count": 4,
     "metadata": {},
     "output_type": "execute_result"
    }
   ],
   "source": [
    "# make up some trainig data\n",
    "X_train = np.asarray([3.3, 4.4, 5.5, 6.71, 6.93, 4.168, 9.779, 6.182, 7.59, \n",
    "                      2.167, 7.042, 10.791, 5.313, 7.997, 5.654, 9.27, 3.1], dtype = np.float32)\n",
    "y_train = np.asarray([1.7, 2.76, 2.09, 3.19, 1.694, 1.573, 3.366, 2.596, 2.53, \n",
    "                      1.221, 2.827, 3.465, 1.65, 2.904, 2.42, 2.94, 1.3], dtype = np.float32)\n",
    "\n",
    "linear = TensorflowLinearRegression()\n",
    "linear.fit(X_train, y_train)"
   ]
  },
  {
   "cell_type": "code",
   "execution_count": 6,
   "metadata": {
    "scrolled": true
   },
   "outputs": [
    {
     "data": {
      "image/png": "[encoded data removed]",
      "text/plain": [
       "<matplotlib.figure.Figure at 0x1185dbc18>"
      ]
     },
     "metadata": {
      "image/png": {
       "height": 306,
       "width": 432
      }
     },
     "output_type": "display_data"
    }
   ],
   "source": [
    "plt.rcParams['figure.figsize'] = 7, 5\n",
    "plt.rcParams['font.size'] = 12\n",
    "\n",
    "plt.plot(X_train, y_train, 'ro', label = 'Original data')\n",
    "plt.plot(X_train, linear.coefs_ * X_train + linear.intercept_, label = 'Fitted line')\n",
    "plt.legend()\n",
    "plt.show()"
   ]
  },
  {
   "cell_type": "code",
   "execution_count": null,
   "metadata": {
    "collapsed": true
   },
   "outputs": [],
   "source": [
    "!tensorboard --logdir='./graphs/linear'"
   ]
  },
  {
   "cell_type": "markdown",
   "metadata": {},
   "source": [
    "There're other ways of structuring Tensorflow models. e.g. [Blog: Structuring Your TensorFlow Models](http://danijar.com/structuring-your-tensorflow-models/). Feel free to experiment with other approaches and determine which one works better for you."
   ]
  },
  {
   "cell_type": "markdown",
   "metadata": {},
   "source": [
    "# Queues and Coordinators\n",
    "\n"
   ]
  },
  {
   "cell_type": "code",
   "execution_count": 8,
   "metadata": {},
   "outputs": [
    {
     "data": {
      "text/plain": [
       "array([[-14.00567073,  -3.76922036,  -2.7060616 ,   3.96431692],\n",
       "       [  7.00221786,   5.08708196,   5.88850515,   6.10328038],\n",
       "       [ 12.73872489,   8.38907223,  13.34539769,   2.38943976],\n",
       "       ..., \n",
       "       [-17.6612217 ,   6.46294278, -11.81841379,  -0.79793778],\n",
       "       [-20.47654248,  10.21401426,  15.42678321,   4.85220198],\n",
       "       [ -2.90992765, -11.31816877,   6.06339894,  10.16476274]])"
      ]
     },
     "execution_count": 8,
     "metadata": {},
     "output_type": "execute_result"
    }
   ],
   "source": [
    "N_SAMPLES = 1000\n",
    "N_THREADS = 4\n",
    "\n",
    "# Generating some simple data\n",
    "# create 1000 random samples, each is a 1D array from the normal distribution\n",
    "data = 10 * np.random.randn(N_SAMPLES, 4) + 1\n",
    "data"
   ]
  },
  {
   "cell_type": "code",
   "execution_count": 9,
   "metadata": {},
   "outputs": [
    {
     "data": {
      "text/plain": [
       "array([0, 1, 1, 0, 0])"
      ]
     },
     "execution_count": 9,
     "metadata": {},
     "output_type": "execute_result"
    }
   ],
   "source": [
    "# create 1000 random labels of 0 and 1\n",
    "target = np.random.randint(0, 2, size = N_SAMPLES) \n",
    "target[:5]"
   ]
  },
  {
   "cell_type": "code",
   "execution_count": 10,
   "metadata": {
    "collapsed": true
   },
   "outputs": [],
   "source": [
    "queue = tf.FIFOQueue(capacity = 50, dtypes = [tf.float32, tf.int32], shapes=[[4], []])\n",
    "enqueue_op = queue.enqueue_many([data, target])\n",
    "data_sample, label_sample = queue.dequeue()\n",
    "\n",
    "# create NUM_THREADS to do enqueue\n",
    "queue_runner = tf.train.QueueRunner(queue, [enqueue_op] * N_THREADS)"
   ]
  },
  {
   "cell_type": "code",
   "execution_count": 11,
   "metadata": {},
   "outputs": [
    {
     "name": "stdout",
     "output_type": "stream",
     "text": [
      "[-14.00567055  -3.76922035  -2.7060616    3.96431684]\n",
      "0\n",
      "[ 7.00221777  5.08708191  5.88850498  6.10328054]\n",
      "1\n",
      "[ 12.73872471   8.38907242  13.34539795   2.38943982]\n",
      "1\n",
      "[ -3.1710856   -2.86932063  -5.06258965  16.92560196]\n",
      "0\n",
      "[ -4.90024948 -10.27263355  -2.17251301  14.52308273]\n",
      "0\n",
      "[  2.47634149  -0.52825028 -25.11288643  -3.74491358]\n",
      "1\n",
      "[  6.91693401   8.57469082  -2.95346999 -16.07347679]\n",
      "1\n",
      "[ -0.80032003  -5.3603406  -13.31945801  11.27880669]\n",
      "0\n",
      "[  1.67109442 -14.08744621  -3.43419766   0.20877868]\n",
      "0\n",
      "[ -1.90559328  27.41730309 -14.96559906 -18.3250103 ]\n",
      "1\n"
     ]
    }
   ],
   "source": [
    "# create ops that do something with data_sample and label_sample\n",
    "with tf.Session() as sess:\n",
    "    # create a coordinator, launch the queue runner threads.\n",
    "    coord = tf.train.Coordinator()\n",
    "    enqueue_threads = queue_runner.create_threads(sess, coord = coord, start = True)\n",
    "    try:\n",
    "        # just do 10 iterations\n",
    "        for step in range(10):\n",
    "            if coord.should_stop():\n",
    "                break\n",
    "            \n",
    "            data_batch, label_batch = sess.run([data_sample, label_sample])\n",
    "            print(data_batch)\n",
    "            print(label_batch)\n",
    "    except Exception as e:\n",
    "        coord.request_stop(e)\n",
    "    finally:\n",
    "        coord.request_stop()\n",
    "        coord.join(enqueue_threads)"
   ]
  },
  {
   "cell_type": "markdown",
   "metadata": {},
   "source": [
    "# Reference\n",
    "\n",
    "- [Blog: Just another Tensorflow beginner guide (Part1)](http://liufuyang.github.io/2017/03/12/just-another-tensorflow-beginner-guide-1.html)\n",
    "- [Tensorflow Documentation: TensorBoard: Visualizing Learning](https://www.tensorflow.org/get_started/summaries_and_tensorboard)\n",
    "- [Note: CS 20SI Lecture note 9:  Input Pipeline](http://web.stanford.edu/class/cs20si/lectures/notes_09.pdf)"
   ]
  }
 ],
 "metadata": {
  "kernelspec": {
   "display_name": "Python 3",
   "language": "python",
   "name": "python3"
  },
  "language_info": {
   "codemirror_mode": {
    "name": "ipython",
    "version": 3
   },
   "file_extension": ".py",
   "mimetype": "text/x-python",
   "name": "python",
   "nbconvert_exporter": "python",
   "pygments_lexer": "ipython3",
   "version": "3.5.2"
  },
  "toc": {
   "colors": {
    "hover_highlight": "#DAA520",
    "navigate_num": "#000000",
    "navigate_text": "#333333",
    "running_highlight": "#FF0000",
    "selected_highlight": "#FFD700",
    "sidebar_border": "#EEEEEE",
    "wrapper_background": "#FFFFFF"
   },
   "moveMenuLeft": true,
   "nav_menu": {
    "height": "66px",
    "width": "252px"
   },
   "navigate_menu": true,
   "number_sections": true,
   "sideBar": true,
   "threshold": 4,
   "toc_cell": false,
   "toc_section_display": "block",
   "toc_window_display": true,
   "widenNotebook": false
  }
 },
 "nbformat": 4,
 "nbformat_minor": 2
}
