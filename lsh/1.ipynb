{
 "cells": [
  {
   "cell_type": "code",
   "execution_count": 1,
   "metadata": {
    "collapsed": true
   },
   "outputs": [],
   "source": [
    "%matplotlib inline\n",
    "import numpy as np\n",
    "import pandas as pd\n",
    "import matplotlib.pyplot as plt\n",
    "from itertools import combinations\n",
    "from collections import defaultdict\n",
    "from sklearn.feature_extraction.text import TfidfVectorizer\n",
    "from sklearn.feature_extraction.text import ENGLISH_STOP_WORDS\n",
    "\n",
    "import time\n",
    "from copy import copy\n",
    "from scipy.sparse import csr_matrix\n",
    "from scipy.sparse.linalg import norm\n",
    "from sklearn.metrics.pairwise import pairwise_distances\n",
    "from sklearn.neighbors import NearestNeighbors"
   ]
  },
  {
   "cell_type": "markdown",
   "metadata": {},
   "source": [
    "# Locality Sensitive Hashing"
   ]
  },
  {
   "cell_type": "code",
   "execution_count": 2,
   "metadata": {},
   "outputs": [
    {
     "data": {
      "text/html": [
       "<div>\n",
       "<table border=\"1\" class=\"dataframe\">\n",
       "  <thead>\n",
       "    <tr style=\"text-align: right;\">\n",
       "      <th></th>\n",
       "      <th>URI</th>\n",
       "      <th>name</th>\n",
       "      <th>text</th>\n",
       "    </tr>\n",
       "  </thead>\n",
       "  <tbody>\n",
       "    <tr>\n",
       "      <th>0</th>\n",
       "      <td>&lt;http://dbpedia.org/resource/Digby_Morrell&gt;</td>\n",
       "      <td>Digby Morrell</td>\n",
       "      <td>digby morrell born 10 october 1979 is a former...</td>\n",
       "    </tr>\n",
       "    <tr>\n",
       "      <th>1</th>\n",
       "      <td>&lt;http://dbpedia.org/resource/Alfred_J._Lewy&gt;</td>\n",
       "      <td>Alfred J. Lewy</td>\n",
       "      <td>alfred j lewy aka sandy lewy graduated from un...</td>\n",
       "    </tr>\n",
       "    <tr>\n",
       "      <th>2</th>\n",
       "      <td>&lt;http://dbpedia.org/resource/Harpdog_Brown&gt;</td>\n",
       "      <td>Harpdog Brown</td>\n",
       "      <td>harpdog brown is a singer and harmonica player...</td>\n",
       "    </tr>\n",
       "    <tr>\n",
       "      <th>3</th>\n",
       "      <td>&lt;http://dbpedia.org/resource/Franz_Rottensteiner&gt;</td>\n",
       "      <td>Franz Rottensteiner</td>\n",
       "      <td>franz rottensteiner born in waidmannsfeld lowe...</td>\n",
       "    </tr>\n",
       "    <tr>\n",
       "      <th>4</th>\n",
       "      <td>&lt;http://dbpedia.org/resource/G-Enka&gt;</td>\n",
       "      <td>G-Enka</td>\n",
       "      <td>henry krvits born 30 december 1974 in tallinn ...</td>\n",
       "    </tr>\n",
       "  </tbody>\n",
       "</table>\n",
       "</div>"
      ],
      "text/plain": [
       "                                                 URI                 name  \\\n",
       "0        <http://dbpedia.org/resource/Digby_Morrell>        Digby Morrell   \n",
       "1       <http://dbpedia.org/resource/Alfred_J._Lewy>       Alfred J. Lewy   \n",
       "2        <http://dbpedia.org/resource/Harpdog_Brown>        Harpdog Brown   \n",
       "3  <http://dbpedia.org/resource/Franz_Rottensteiner>  Franz Rottensteiner   \n",
       "4               <http://dbpedia.org/resource/G-Enka>               G-Enka   \n",
       "\n",
       "                                                text  \n",
       "0  digby morrell born 10 october 1979 is a former...  \n",
       "1  alfred j lewy aka sandy lewy graduated from un...  \n",
       "2  harpdog brown is a singer and harmonica player...  \n",
       "3  franz rottensteiner born in waidmannsfeld lowe...  \n",
       "4  henry krvits born 30 december 1974 in tallinn ...  "
      ]
     },
     "execution_count": 2,
     "metadata": {},
     "output_type": "execute_result"
    }
   ],
   "source": [
    "wiki = pd.read_csv('people_wiki.csv')\n",
    "wiki.head()"
   ]
  },
  {
   "cell_type": "code",
   "execution_count": 3,
   "metadata": {},
   "outputs": [
    {
     "data": {
      "text/plain": [
       "<59071x548115 sparse matrix of type '<class 'numpy.float64'>'\n",
       "\twith 8078359 stored elements in Compressed Sparse Row format>"
      ]
     },
     "execution_count": 3,
     "metadata": {},
     "output_type": "execute_result"
    }
   ],
   "source": [
    "tfidf = TfidfVectorizer(stop_words = ENGLISH_STOP_WORDS)\n",
    "corpus = tfidf.fit_transform(wiki['text'])\n",
    "corpus"
   ]
  },
  {
   "cell_type": "markdown",
   "metadata": {},
   "source": [
    "## Train an LSH model\n",
    "\n",
    "LSH performs an efficient neighbor search by randomly partitioning all reference data points into different bins. Today we will build a popular variant of LSH known as random binary projection, which approximates cosine distance. There are other variants we could use for other choices of distance metrics.\n",
    "\n",
    "The first step is to generate a collection of random vectors from the standard Gaussian distribution. To visualize these Gaussian random vectors, let's look at an example in low-dimensions. Below, we generate 3 random vectors each of dimension 5."
   ]
  },
  {
   "cell_type": "code",
   "execution_count": 4,
   "metadata": {
    "collapsed": true
   },
   "outputs": [],
   "source": [
    "def generate_random_vectors(dim, n_vectors):\n",
    "    \"\"\"\n",
    "    generate random projection vectors\n",
    "    the dims comes first in the matrix's shape, so we can use it\n",
    "    for matrix multiplication\n",
    "    \"\"\"\n",
    "    return np.random.randn(dim, n_vectors)"
   ]
  },
  {
   "cell_type": "code",
   "execution_count": 5,
   "metadata": {},
   "outputs": [
    {
     "data": {
      "text/plain": [
       "array([[ 1.76405235,  0.40015721,  0.97873798],\n",
       "       [ 2.2408932 ,  1.86755799, -0.97727788],\n",
       "       [ 0.95008842, -0.15135721, -0.10321885],\n",
       "       [ 0.4105985 ,  0.14404357,  1.45427351],\n",
       "       [ 0.76103773,  0.12167502,  0.44386323]])"
      ]
     },
     "execution_count": 5,
     "metadata": {},
     "output_type": "execute_result"
    }
   ],
   "source": [
    "# generate 3 random vectors of dimension 5, arranged into a single 5 x 3 matrix.\n",
    "np.random.seed(0)\n",
    "generate_random_vectors(dim = 5, n_vectors = 3)"
   ]
  },
  {
   "cell_type": "code",
   "execution_count": 6,
   "metadata": {
    "collapsed": true
   },
   "outputs": [],
   "source": [
    "class GaussianProjection:\n",
    "    \"\"\"\n",
    "    http://scikit-learn.org/stable/modules/random_projection.html\n",
    "    \"\"\"\n",
    "    def __init__(self, n_components, seed):\n",
    "        self.seed = seed\n",
    "        self.n_components = n_components\n",
    "        \n",
    "    def fit(X):\n",
    "        \"\"\"generate the random projection\"\"\"\n",
    "        # normal's scale refers to the standard deviation\n",
    "        # instead of the variance\n",
    "        rstate = np.random.RandomState(self.seed)\n",
    "        self.components = rstate.normal( \n",
    "            loc = 0, \n",
    "            scale = 1 / np.sqrt(n_components),\n",
    "            size = (n_components, n_features)\n",
    "        )\n",
    "        return self\n",
    "        \n",
    "    def transform(X):\n",
    "        X_new =  X.dot(self.components.T)\n",
    "        return X_new\n",
    "        \n",
    "    def fit_transform(X):\n",
    "        return self.fit(X).transform(X)"
   ]
  },
  {
   "cell_type": "markdown",
   "metadata": {},
   "source": [
    "We now generate random vectors of the same dimensionality as our vocabulary size. Each vector can be used to compute one bit in the bin encoding. We generate 16 vectors, leading to a 16-bit encoding of the bin index for each document."
   ]
  },
  {
   "cell_type": "code",
   "execution_count": 7,
   "metadata": {},
   "outputs": [
    {
     "data": {
      "text/plain": [
       "(548115, 16)"
      ]
     },
     "execution_count": 7,
     "metadata": {},
     "output_type": "execute_result"
    }
   ],
   "source": [
    "vocab_size = corpus.shape[1]\n",
    "random_vectors = generate_random_vectors(dim = vocab_size, n_vectors = 16)\n",
    "random_vectors.shape"
   ]
  },
  {
   "cell_type": "markdown",
   "metadata": {},
   "source": [
    "Next, we partition data points into bins. Instead of using for loops, we'll utilize matrix multiplications for greater efficiency. Let's walk through the construction step by step. We'd like to decide which bin document 0 should go. Since 16 random vectors were generated in the previous cell, we have 16 bits to represent the bin index. The first bit is given by the sign of the dot product between the first random vector and the document's TF-IDF vector."
   ]
  },
  {
   "cell_type": "code",
   "execution_count": 8,
   "metadata": {},
   "outputs": [
    {
     "data": {
      "text/plain": [
       "array([False], dtype=bool)"
      ]
     },
     "execution_count": 8,
     "metadata": {},
     "output_type": "execute_result"
    }
   ],
   "source": [
    "# for document 0, perform a dot product with\n",
    "# the randomly generated vectors;\n",
    "# True if positive sign, False if negative sign\n",
    "doc = corpus[0]\n",
    "doc.dot(random_vectors[:, 0]) >= 0 "
   ]
  },
  {
   "cell_type": "code",
   "execution_count": 9,
   "metadata": {},
   "outputs": [
    {
     "data": {
      "text/plain": [
       "array([[False,  True, False, False,  True,  True, False, False,  True,\n",
       "        False, False, False,  True, False, False,  True]], dtype=bool)"
      ]
     },
     "execution_count": 9,
     "metadata": {},
     "output_type": "execute_result"
    }
   ],
   "source": [
    "# similarly, we can compute all of the bin index bits at once as follows.\n",
    "doc.dot(random_vectors) >= 0"
   ]
  },
  {
   "cell_type": "markdown",
   "metadata": {},
   "source": [
    "All documents that obtain exactly this vector will be assigned to the same bin. We'd like to repeat the identical operation on all documents in the dataset and compute the corresponding bin indices. Again, we use matrix operations so that no explicit loop is needed."
   ]
  },
  {
   "cell_type": "code",
   "execution_count": 10,
   "metadata": {},
   "outputs": [
    {
     "data": {
      "text/plain": [
       "array([[False,  True, False, ..., False, False,  True],\n",
       "       [ True,  True,  True, ..., False, False, False],\n",
       "       [ True, False,  True, ..., False, False, False],\n",
       "       ..., \n",
       "       [False,  True, False, ..., False,  True,  True],\n",
       "       [False,  True, False, ..., False,  True,  True],\n",
       "       [ True,  True,  True, ...,  True,  True,  True]], dtype=bool)"
      ]
     },
     "execution_count": 10,
     "metadata": {},
     "output_type": "execute_result"
    }
   ],
   "source": [
    "# compute bit indices of ALL document\n",
    "corpus.dot(random_vectors) >= 0"
   ]
  },
  {
   "cell_type": "markdown",
   "metadata": {},
   "source": [
    "We're almost done! To make it convenient to refer to individual bins, we convert each binary bin index into a single integer: \n",
    "```\n",
    "Bin index                      integer\n",
    "[0,0,0,0,0,0,0,0,0,0,0,0]   => 0\n",
    "[0,0,0,0,0,0,0,0,0,0,0,1]   => 1\n",
    "[0,0,0,0,0,0,0,0,0,0,1,0]   => 2\n",
    "[0,0,0,0,0,0,0,0,0,0,1,1]   => 3\n",
    "...\n",
    "[1,1,1,1,1,1,1,1,1,1,0,0]   => 65532\n",
    "[1,1,1,1,1,1,1,1,1,1,0,1]   => 65533\n",
    "[1,1,1,1,1,1,1,1,1,1,1,0]   => 65534\n",
    "[1,1,1,1,1,1,1,1,1,1,1,1]   => 65535 (= 2^16-1)\n",
    "```\n",
    "By the [rules of binary number representation](https://en.wikipedia.org/wiki/Binary_number#Decimal), we just need to compute the dot product between the document vector and the vector consisting of powers of 2:"
   ]
  },
  {
   "cell_type": "code",
   "execution_count": 11,
   "metadata": {},
   "outputs": [
    {
     "name": "stdout",
     "output_type": "stream",
     "text": [
      "[[False  True False False  True  True False False  True False False False\n",
      "   True False False  True]]\n",
      "[32768 16384  8192  4096  2048  1024   512   256   128    64    32    16\n",
      "     8     4     2     1]\n",
      "[19593]\n"
     ]
    }
   ],
   "source": [
    "# using the first document to print the output\n",
    "doc = corpus[0]  \n",
    "index_bits = doc.dot(random_vectors) >= 0\n",
    "\n",
    "# https://wiki.python.org/moin/BitwiseOperators\n",
    "# x << y is the same as multiplying x by 2 ** y\n",
    "powers_of_two = 1 << np.arange(15, -1, step = -1)\n",
    "print(index_bits)\n",
    "print(powers_of_two)\n",
    "\n",
    "# final integer representation of individual bins\n",
    "print( index_bits.dot(powers_of_two) )"
   ]
  },
  {
   "cell_type": "code",
   "execution_count": 12,
   "metadata": {},
   "outputs": [
    {
     "data": {
      "text/plain": [
       "array([19593, 58760, 44104, ..., 21763, 19483, 64159])"
      ]
     },
     "execution_count": 12,
     "metadata": {},
     "output_type": "execute_result"
    }
   ],
   "source": [
    "# we can do it for the entire corpus\n",
    "index_bits = corpus.dot(random_vectors) >= 0\n",
    "index_bits.dot(powers_of_two)"
   ]
  },
  {
   "cell_type": "markdown",
   "metadata": {},
   "source": [
    "This array gives us the integer index of the bins for all documents. Now we are ready to complete the following function. Given the integer bin indices for the documents, we should compile a list of document IDs that belong to each bin. Since a list is to be maintained for each unique bin index, a dictionary of lists is used."
   ]
  },
  {
   "cell_type": "code",
   "execution_count": 22,
   "metadata": {
    "collapsed": true
   },
   "outputs": [],
   "source": [
    "def train_lsh(data, n_vectors, seed = None):\n",
    "    \n",
    "    if seed is not None:\n",
    "        np.random.seed(seed)\n",
    "    \n",
    "    # generate random projection\n",
    "    dim = data.shape[1]\n",
    "    random_vectors = generate_random_vectors(dim, n_vectors)  \n",
    "    \n",
    "    # partition data points into bins,\n",
    "    # and encode bin index bits into integers\n",
    "    bin_indices_bits = ( data.dot(random_vectors) >= 0 ).astype(np.int)\n",
    "    powers_of_two = 1 << np.arange(n_vectors - 1, -1, step = -1)\n",
    "    bin_indices = bin_indices_bits.dot(powers_of_two)\n",
    "    \n",
    "    # update `table` so that `table[i]` is the list of document ids with bin index equal to i\n",
    "    table = defaultdict(list)\n",
    "    for idx, bin_index in enumerate(bin_indices):\n",
    "        table[bin_index].append(idx)\n",
    "\n",
    "    model = {'data': data,\n",
    "             'bin_indices_bits': bin_indices_bits,\n",
    "             'bin_indices': bin_indices,\n",
    "             'table': table,\n",
    "             'random_vectors': random_vectors,\n",
    "             'n_vectors': n_vectors}\n",
    "    return model"
   ]
  },
  {
   "cell_type": "markdown",
   "metadata": {},
   "source": []
  },
  {
   "cell_type": "code",
   "execution_count": 56,
   "metadata": {},
   "outputs": [
    {
     "data": {
      "text/html": [
       "<div>\n",
       "<table border=\"1\" class=\"dataframe\">\n",
       "  <thead>\n",
       "    <tr style=\"text-align: right;\">\n",
       "      <th></th>\n",
       "      <th>id</th>\n",
       "      <th>name</th>\n",
       "      <th>distance</th>\n",
       "    </tr>\n",
       "  </thead>\n",
       "  <tbody>\n",
       "    <tr>\n",
       "      <th>0</th>\n",
       "      <td>35817</td>\n",
       "      <td>Barack Obama</td>\n",
       "      <td>0.000000</td>\n",
       "    </tr>\n",
       "    <tr>\n",
       "      <th>1</th>\n",
       "      <td>24478</td>\n",
       "      <td>Joe Biden</td>\n",
       "      <td>0.678781</td>\n",
       "    </tr>\n",
       "    <tr>\n",
       "      <th>2</th>\n",
       "      <td>38376</td>\n",
       "      <td>Samantha Power</td>\n",
       "      <td>0.728871</td>\n",
       "    </tr>\n",
       "    <tr>\n",
       "      <th>3</th>\n",
       "      <td>57108</td>\n",
       "      <td>Hillary Rodham Clinton</td>\n",
       "      <td>0.743761</td>\n",
       "    </tr>\n",
       "    <tr>\n",
       "      <th>4</th>\n",
       "      <td>38714</td>\n",
       "      <td>Eric Stern (politician)</td>\n",
       "      <td>0.747264</td>\n",
       "    </tr>\n",
       "  </tbody>\n",
       "</table>\n",
       "</div>"
      ],
      "text/plain": [
       "      id                     name  distance\n",
       "0  35817             Barack Obama  0.000000\n",
       "1  24478                Joe Biden  0.678781\n",
       "2  38376           Samantha Power  0.728871\n",
       "3  57108   Hillary Rodham Clinton  0.743761\n",
       "4  38714  Eric Stern (politician)  0.747264"
      ]
     },
     "execution_count": 56,
     "metadata": {},
     "output_type": "execute_result"
    }
   ],
   "source": [
    "from sklearn.neighbors import NearestNeighbors\n",
    "\n",
    "# query Barack Obama's top 5 nearest neighbors\n",
    "nn = NearestNeighbors(metric = 'cosine', algorithm = 'brute')\n",
    "nn.fit(corpus)\n",
    "obama_index = wiki[ wiki['name'] == 'Barack Obama' ].index[0]\n",
    "distances, indices = nn.kneighbors(corpus[obama_index], n_neighbors = 5)\n",
    "\n",
    "# 1. flatten the 2d-array distance and indices to 1d\n",
    "# 2. merge the distance information with the original wiki dataset, \n",
    "#    to obtain the name matching the id.\n",
    "neighbors = pd.DataFrame({ 'distance': distances.flatten(), 'id': indices.flatten() })\n",
    "nearest_info = ( wiki\n",
    "                 .merge(neighbors, right_on = 'id', left_index = True)\n",
    "                 .sort_values('distance')[['id', 'name', 'distance']] )\n",
    "nearest_info"
   ]
  },
  {
   "cell_type": "markdown",
   "metadata": {},
   "source": [
    "\n",
    "\n",
    "In the next code chunk, we'll train the locality sensitive hashing model, after that we can examine the bit representations of the bins containing Barack Obama and Joe Biden and see in how many places do they agree."
   ]
  },
  {
   "cell_type": "code",
   "execution_count": 34,
   "metadata": {},
   "outputs": [
    {
     "name": "stdout",
     "output_type": "stream",
     "text": [
      "[0 1 0 1 1 0 1 0 0 0 1 1 1 1 1 0]\n",
      "[1 1 1 1 0 1 1 1 1 0 1 1 1 0 1 0]\n",
      "Number of agreed bins 9\n"
     ]
    }
   ],
   "source": [
    "# train the model\n",
    "model = train_lsh(corpus, n_vectors = 16, seed = 143)\n",
    "\n",
    "# comparison\n",
    "biden_index = wiki[ wiki['name'] == 'Joe Biden' ].index[0]\n",
    "obama_bits = model['bin_indices_bits'][obama_index]\n",
    "biden_bits = model['bin_indices_bits'][biden_index]\n",
    "print(obama_bits)\n",
    "print(biden_bits)\n",
    "print('Number of agreed bins', np.sum(obama_bits == biden_bits))"
   ]
  },
  {
   "cell_type": "markdown",
   "metadata": {},
   "source": [
    "We then compare the bins of a football player, whose bin representation should agree with Obama's in fewer places. "
   ]
  },
  {
   "cell_type": "code",
   "execution_count": 35,
   "metadata": {},
   "outputs": [
    {
     "name": "stdout",
     "output_type": "stream",
     "text": [
      "[1 0 1 0 0 1 1 0 1 1 0 1 1 0 0 0]\n",
      "Number of agreed bins 5\n"
     ]
    }
   ],
   "source": [
    "morrell_index = wiki[wiki['name'] == 'Digby Morrell'].index[0]\n",
    "morrell_bits = model['bin_indices_bits'][morrell_index]\n",
    "print(morrell_bits)\n",
    "print('Number of agreed bins', np.sum(obama_bits == morrell_bits))"
   ]
  },
  {
   "cell_type": "code",
   "execution_count": 37,
   "metadata": {},
   "outputs": [
    {
     "data": {
      "text/plain": [
       "[27551, 35817]"
      ]
     },
     "execution_count": 37,
     "metadata": {},
     "output_type": "execute_result"
    }
   ],
   "source": [
    "model['table'][model['bin_indices'][obama_index]]"
   ]
  },
  {
   "cell_type": "code",
   "execution_count": 50,
   "metadata": {},
   "outputs": [
    {
     "data": {
      "text/plain": [
       "URI     <http://dbpedia.org/resource/Rodrigo_Rivera_Sa...\n",
       "name                               Rodrigo Rivera Salazar\n",
       "text    jos rodrigo rivera salazar born 20 april 1963 ...\n",
       "Name: 27551, dtype: object"
      ]
     },
     "execution_count": 50,
     "metadata": {},
     "output_type": "execute_result"
    }
   ],
   "source": [
    "wiki.iloc[27551]"
   ]
  },
  {
   "cell_type": "code",
   "execution_count": 54,
   "metadata": {},
   "outputs": [
    {
     "name": "stdout",
     "output_type": "stream",
     "text": [
      "Obama - Biden: 0.678781\n",
      "Obama - Salazar: 0.918916\n"
     ]
    }
   ],
   "source": [
    "from scipy.sparse.linalg import norm\n",
    "\n",
    "def cosine(x, y):\n",
    "    xy = x.dot(y.T)\n",
    "    dist = xy / (norm(x) * norm(y))\n",
    "    return 1 - dist[0, 0]\n",
    "\n",
    "obama_tf_idf = corpus[obama_index]\n",
    "biden_tf_idf = corpus[biden_index]\n",
    "salazar_tf_idf = corpus[27551]\n",
    "\n",
    "print( 'Obama - Biden: {0:f}'.format(cosine(obama_tf_idf, biden_tf_idf)) )\n",
    "print( 'Obama - Salazar: {0:f}'.format(cosine(obama_tf_idf, salazar_tf_idf)) )"
   ]
  },
  {
   "cell_type": "markdown",
   "metadata": {},
   "source": [
    "**Moral of the story**. Similar data points will in general _tend to_ fall into _nearby_ bins, but that's all we can say about LSH. In a high-dimensional space such as text features, we often get unlucky with our selection of only a few random vectors such that dissimilar data points go into the same bin while similar data points fall into different bins. **Given a query document, we must consider all documents in the nearby bins and sort them according to their actual distances from the query.**"
   ]
  },
  {
   "cell_type": "markdown",
   "metadata": {},
   "source": [
    "## Query the LSH model\n",
    "\n",
    "Let us first implement the logic for searching nearby neighbors, which goes like this:\n",
    "```\n",
    "1. Let L be the bit representation of the bin that contains the query documents.\n",
    "2. Consider all documents in bin L.\n",
    "3. Consider documents in the bins whose bit representation differs from L by 1 bit.\n",
    "4. Consider documents in the bins whose bit representation differs from L by 2 bits.\n",
    "...\n",
    "```\n",
    "\n",
    "To obtain candidate bins that differ from the query bin by some number of bits, we use `itertools.combinations`, which produces all possible subsets of a given list. See [this documentation](https://docs.python.org/3/library/itertools.html#itertools.combinations) for details.\n",
    "```\n",
    "1. Decide on the search radius r. This will determine the number of different bits between the two vectors.\n",
    "2. For each subset (n_1, n_2, ..., n_r) of the list [0, 1, 2, ..., n_vectors-1], do the following:\n",
    "   * Flip the bits (n_1, n_2, ..., n_r) of the query bin to produce a new bit vector.\n",
    "   * Fetch the list of documents belonging to the bin indexed by the new bit vector.\n",
    "   * Add those documents to the candidate set.\n",
    "```\n",
    "\n",
    "Each line of output from the following cell is a 3-tuple indicating where the candidate bin would differ from the query bin. For instance,\n",
    "```\n",
    "(0, 1, 3)\n",
    "```\n",
    "indicates that the candiate bin differs from the query bin in first, second, and fourth bits (indexing starts at 0). With this output in mind, implement the logic for nearby bin search:"
   ]
  },
  {
   "cell_type": "code",
   "execution_count": 59,
   "metadata": {},
   "outputs": [],
   "source": [
    "def search_nearby_bins(query_bin_bits, table, search_radius, candidate_set = None):\n",
    "    \"\"\"\n",
    "    For a given query vector and trained LSH model, return all candidate neighbors for\n",
    "    the query among all bins within the given search radius.\n",
    "    \n",
    "    Example\n",
    "    -------\n",
    "    >>> model = train_lsh(corpus, n_vectors=16, seed=143)\n",
    "    >>> q = model['bin_index_bits'][0]  # vector for the first document\n",
    "  \n",
    "    >>> candidates = search_nearby_bins(q, model['table'])\n",
    "    \"\"\"\n",
    "    if candidate_set is None:\n",
    "        candidate_set = set()\n",
    "\n",
    "    n_vectors = query_bin_bits.shape[0]\n",
    "    powers_of_two = 1 << np.arange(n_vectors - 1, -1, step=-1)\n",
    "\n",
    "    for different_bits in combinations( range(n_vectors), search_radius ):\n",
    "        # flip the bits (n_1,n_2,...,n_r) of the query bin to produce a new bit vector\n",
    "        alternate_bits = copy(query_bin_bits)\n",
    "        alternate_bits[different_bits] = np.logical_not(alternate_bits[different_bits])\n",
    "        \n",
    "        # convert the new bit vector to an integer index\n",
    "        nearby_bin = alternate_bits.dot(powers_of_two)\n",
    "        \n",
    "        # fetch the list of documents belonging to\n",
    "        # the bin indexed by the new bit vector,\n",
    "        # then add those documents to candidate_set;\n",
    "        # make sure that the bin exists in the table\n",
    "        if nearby_bin in table:\n",
    "            candidate_set.update(table[nearby_bin])\n",
    "            \n",
    "    return candidate_set"
   ]
  },
  {
   "cell_type": "code",
   "execution_count": 56,
   "metadata": {},
   "outputs": [
    {
     "data": {
      "text/plain": [
       "(16,)"
      ]
     },
     "execution_count": 56,
     "metadata": {},
     "output_type": "execute_result"
    }
   ],
   "source": [
    "obama_bin_index = model['bin_indices_bits'][35817]\n",
    "obama_bin_index.shape"
   ]
  },
  {
   "cell_type": "code",
   "execution_count": 61,
   "metadata": {},
   "outputs": [
    {
     "data": {
      "text/plain": [
       "array([ True, False,  True, False, False,  True, False,  True,  True,\n",
       "        True, False, False, False, False, False,  True], dtype=bool)"
      ]
     },
     "execution_count": 61,
     "metadata": {},
     "output_type": "execute_result"
    }
   ],
   "source": [
    "np.logical_not(obama_bin_index)"
   ]
  },
  {
   "cell_type": "code",
   "execution_count": 57,
   "metadata": {},
   "outputs": [
    {
     "data": {
      "text/plain": [
       "array([0, 1, 0, 1, 1, 0, 1, 0, 0, 0, 1, 1, 1, 1, 1, 0])"
      ]
     },
     "execution_count": 57,
     "metadata": {},
     "output_type": "execute_result"
    }
   ],
   "source": [
    "obama_bin_index"
   ]
  },
  {
   "cell_type": "code",
   "execution_count": 59,
   "metadata": {},
   "outputs": [
    {
     "name": "stdout",
     "output_type": "stream",
     "text": [
      "(0,)\n",
      "(1,)\n",
      "(2,)\n",
      "(3,)\n",
      "(4,)\n",
      "(5,)\n",
      "(6,)\n",
      "(7,)\n",
      "(8,)\n",
      "(9,)\n",
      "(10,)\n",
      "(11,)\n",
      "(12,)\n",
      "(13,)\n",
      "(14,)\n",
      "(15,)\n"
     ]
    }
   ],
   "source": [
    "for different_bits in combinations( range(obama_bin_index.shape[0]), 1 ):\n",
    "    print(different_bits)"
   ]
  },
  {
   "cell_type": "code",
   "execution_count": 60,
   "metadata": {},
   "outputs": [],
   "source": [
    "# bin index of Barack Obama (the boolean vector)\n",
    "obama_bin_index = model['bin_index_bits'][35817]\n",
    "candidate_set = search_nearby_bins(obama_bin_index, model['table'], search_radius = 0)"
   ]
  },
  {
   "cell_type": "code",
   "execution_count": 65,
   "metadata": {},
   "outputs": [],
   "source": [
    "candidate_set = search_nearby_bins(obama_bin_index, model['table'], search_radius=1, candidate_set=candidate_set)"
   ]
  },
  {
   "cell_type": "markdown",
   "metadata": {},
   "source": [
    "Now we have a function that can return all the candidates from neighboring bins. Next we write a function to collect all candidates and compute their true distance to the query."
   ]
  },
  {
   "cell_type": "code",
   "execution_count": 127,
   "metadata": {
    "collapsed": true
   },
   "outputs": [],
   "source": [
    "def query(vec, model, k, max_search_radius):  \n",
    "    data = model['data']\n",
    "    table = model['table']\n",
    "    random_vectors = model['random_vectors']\n",
    "    n_vectors = random_vectors.shape[1]\n",
    "        \n",
    "    # Compute bin index for the query vector, in bit representation.\n",
    "    bin_index_bits = ( vec.dot(random_vectors) >= 0 ).flatten()\n",
    "    \n",
    "    # Search nearby bins and collect candidates\n",
    "    candidate_set = set()\n",
    "    for search_radius in range(max_search_radius + 1):\n",
    "        candidate_set = search_nearby_bins(bin_index_bits, table, search_radius, candidate_set)\n",
    "    \n",
    "    # Sort candidates by their true distances from the query\n",
    "    candidate_list = list(candidate_set)\n",
    "    candidates = data[candidate_list]\n",
    "    distance = pairwise_distances(candidates, vec, metric = 'cosine').flatten()\n",
    "\n",
    "    nearest_neighbors = pd.DataFrame({ 'id': candidate_list, 'distance': distance })\n",
    "    nearest_neighbors = nearest_neighbors.sort_values('distance').head(k)\n",
    "    return nearest_neighbors, len(candidate_list)"
   ]
  },
  {
   "cell_type": "code",
   "execution_count": 129,
   "metadata": {},
   "outputs": [
    {
     "data": {
      "text/html": [
       "<div>\n",
       "<table border=\"1\" class=\"dataframe\">\n",
       "  <thead>\n",
       "    <tr style=\"text-align: right;\">\n",
       "      <th></th>\n",
       "      <th>distance</th>\n",
       "      <th>id</th>\n",
       "      <th>URI</th>\n",
       "      <th>name</th>\n",
       "      <th>text</th>\n",
       "    </tr>\n",
       "  </thead>\n",
       "  <tbody>\n",
       "    <tr>\n",
       "      <th>319</th>\n",
       "      <td>-4.440892e-16</td>\n",
       "      <td>35817</td>\n",
       "      <td>&lt;http://dbpedia.org/resource/Barack_Obama&gt;</td>\n",
       "      <td>Barack Obama</td>\n",
       "      <td>barack hussein obama ii brk husen bm born augu...</td>\n",
       "    </tr>\n",
       "    <tr>\n",
       "      <th>588</th>\n",
       "      <td>8.895507e-01</td>\n",
       "      <td>30440</td>\n",
       "      <td>&lt;http://dbpedia.org/resource/Vincent_Flaherty&gt;</td>\n",
       "      <td>Vincent Flaherty</td>\n",
       "      <td>vince flaherty is an american producer recordi...</td>\n",
       "    </tr>\n",
       "    <tr>\n",
       "      <th>496</th>\n",
       "      <td>8.898117e-01</td>\n",
       "      <td>19933</td>\n",
       "      <td>&lt;http://dbpedia.org/resource/David_Cameron&gt;</td>\n",
       "      <td>David Cameron</td>\n",
       "      <td>david william donald cameron kmrn born 9 octob...</td>\n",
       "    </tr>\n",
       "    <tr>\n",
       "      <th>404</th>\n",
       "      <td>9.014985e-01</td>\n",
       "      <td>52426</td>\n",
       "      <td>&lt;http://dbpedia.org/resource/Ben_Bernanke&gt;</td>\n",
       "      <td>Ben Bernanke</td>\n",
       "      <td>ben shalom bernanke brnki brnangkee born decem...</td>\n",
       "    </tr>\n",
       "    <tr>\n",
       "      <th>451</th>\n",
       "      <td>9.025068e-01</td>\n",
       "      <td>44368</td>\n",
       "      <td>&lt;http://dbpedia.org/resource/Roland_Grossenbac...</td>\n",
       "      <td>Roland Grossenbacher</td>\n",
       "      <td>dr roland edouard grossenbacher is a swiss att...</td>\n",
       "    </tr>\n",
       "    <tr>\n",
       "      <th>248</th>\n",
       "      <td>9.135715e-01</td>\n",
       "      <td>43810</td>\n",
       "      <td>&lt;http://dbpedia.org/resource/John_Hogg&gt;</td>\n",
       "      <td>John Hogg</td>\n",
       "      <td>john joseph hogg born 19 march 1949 is an aust...</td>\n",
       "    </tr>\n",
       "    <tr>\n",
       "      <th>566</th>\n",
       "      <td>9.143830e-01</td>\n",
       "      <td>5801</td>\n",
       "      <td>&lt;http://dbpedia.org/resource/Paul_A._Trivelli&gt;</td>\n",
       "      <td>Paul A. Trivelli</td>\n",
       "      <td>paul arthur trivelli born 1953 is a united sta...</td>\n",
       "    </tr>\n",
       "    <tr>\n",
       "      <th>291</th>\n",
       "      <td>9.145493e-01</td>\n",
       "      <td>25495</td>\n",
       "      <td>&lt;http://dbpedia.org/resource/Ujjal_Dosanjh&gt;</td>\n",
       "      <td>Ujjal Dosanjh</td>\n",
       "      <td>ujjal dev singh dosanjh pc qc udl dosnd born s...</td>\n",
       "    </tr>\n",
       "    <tr>\n",
       "      <th>254</th>\n",
       "      <td>9.159734e-01</td>\n",
       "      <td>58163</td>\n",
       "      <td>&lt;http://dbpedia.org/resource/Bernie_Hansen&gt;</td>\n",
       "      <td>Bernie Hansen</td>\n",
       "      <td>bernie hansen born november 26 1944 is a forme...</td>\n",
       "    </tr>\n",
       "    <tr>\n",
       "      <th>224</th>\n",
       "      <td>9.261890e-01</td>\n",
       "      <td>708</td>\n",
       "      <td>&lt;http://dbpedia.org/resource/David_N._Kelley&gt;</td>\n",
       "      <td>David N. Kelley</td>\n",
       "      <td>david n kelley born december 1 1959 is an amer...</td>\n",
       "    </tr>\n",
       "  </tbody>\n",
       "</table>\n",
       "</div>"
      ],
      "text/plain": [
       "         distance     id                                                URI  \\\n",
       "319 -4.440892e-16  35817         <http://dbpedia.org/resource/Barack_Obama>   \n",
       "588  8.895507e-01  30440     <http://dbpedia.org/resource/Vincent_Flaherty>   \n",
       "496  8.898117e-01  19933        <http://dbpedia.org/resource/David_Cameron>   \n",
       "404  9.014985e-01  52426         <http://dbpedia.org/resource/Ben_Bernanke>   \n",
       "451  9.025068e-01  44368  <http://dbpedia.org/resource/Roland_Grossenbac...   \n",
       "248  9.135715e-01  43810            <http://dbpedia.org/resource/John_Hogg>   \n",
       "566  9.143830e-01   5801     <http://dbpedia.org/resource/Paul_A._Trivelli>   \n",
       "291  9.145493e-01  25495        <http://dbpedia.org/resource/Ujjal_Dosanjh>   \n",
       "254  9.159734e-01  58163        <http://dbpedia.org/resource/Bernie_Hansen>   \n",
       "224  9.261890e-01    708      <http://dbpedia.org/resource/David_N._Kelley>   \n",
       "\n",
       "                     name                                               text  \n",
       "319          Barack Obama  barack hussein obama ii brk husen bm born augu...  \n",
       "588      Vincent Flaherty  vince flaherty is an american producer recordi...  \n",
       "496         David Cameron  david william donald cameron kmrn born 9 octob...  \n",
       "404          Ben Bernanke  ben shalom bernanke brnki brnangkee born decem...  \n",
       "451  Roland Grossenbacher  dr roland edouard grossenbacher is a swiss att...  \n",
       "248             John Hogg  john joseph hogg born 19 march 1949 is an aust...  \n",
       "566      Paul A. Trivelli  paul arthur trivelli born 1953 is a united sta...  \n",
       "291         Ujjal Dosanjh  ujjal dev singh dosanjh pc qc udl dosnd born s...  \n",
       "254         Bernie Hansen  bernie hansen born november 26 1944 is a forme...  \n",
       "224       David N. Kelley  david n kelley born december 1 1959 is an amer...  "
      ]
     },
     "execution_count": 129,
     "metadata": {},
     "output_type": "execute_result"
    }
   ],
   "source": [
    "nearest_neighbors, num_candidates = query(corpus[35817], model, k = 10, max_search_radius = 3)\n",
    "\n",
    "# merge with the wiki\n",
    "nearest_info = nearest_neighbors.merge(wiki, left_on = 'id', right_index = True)\n",
    "nearest_info  "
   ]
  },
  {
   "cell_type": "code",
   "execution_count": 132,
   "metadata": {},
   "outputs": [
    {
     "data": {
      "text/html": [
       "<div>\n",
       "<table border=\"1\" class=\"dataframe\">\n",
       "  <thead>\n",
       "    <tr style=\"text-align: right;\">\n",
       "      <th></th>\n",
       "      <th>distance</th>\n",
       "      <th>id</th>\n",
       "    </tr>\n",
       "  </thead>\n",
       "  <tbody>\n",
       "    <tr>\n",
       "      <th>319</th>\n",
       "      <td>-4.440892e-16</td>\n",
       "      <td>35817</td>\n",
       "    </tr>\n",
       "    <tr>\n",
       "      <th>588</th>\n",
       "      <td>8.895507e-01</td>\n",
       "      <td>30440</td>\n",
       "    </tr>\n",
       "    <tr>\n",
       "      <th>496</th>\n",
       "      <td>8.898117e-01</td>\n",
       "      <td>19933</td>\n",
       "    </tr>\n",
       "    <tr>\n",
       "      <th>404</th>\n",
       "      <td>9.014985e-01</td>\n",
       "      <td>52426</td>\n",
       "    </tr>\n",
       "    <tr>\n",
       "      <th>451</th>\n",
       "      <td>9.025068e-01</td>\n",
       "      <td>44368</td>\n",
       "    </tr>\n",
       "    <tr>\n",
       "      <th>248</th>\n",
       "      <td>9.135715e-01</td>\n",
       "      <td>43810</td>\n",
       "    </tr>\n",
       "    <tr>\n",
       "      <th>566</th>\n",
       "      <td>9.143830e-01</td>\n",
       "      <td>5801</td>\n",
       "    </tr>\n",
       "    <tr>\n",
       "      <th>291</th>\n",
       "      <td>9.145493e-01</td>\n",
       "      <td>25495</td>\n",
       "    </tr>\n",
       "    <tr>\n",
       "      <th>254</th>\n",
       "      <td>9.159734e-01</td>\n",
       "      <td>58163</td>\n",
       "    </tr>\n",
       "    <tr>\n",
       "      <th>224</th>\n",
       "      <td>9.261890e-01</td>\n",
       "      <td>708</td>\n",
       "    </tr>\n",
       "  </tbody>\n",
       "</table>\n",
       "</div>"
      ],
      "text/plain": [
       "         distance     id\n",
       "319 -4.440892e-16  35817\n",
       "588  8.895507e-01  30440\n",
       "496  8.898117e-01  19933\n",
       "404  9.014985e-01  52426\n",
       "451  9.025068e-01  44368\n",
       "248  9.135715e-01  43810\n",
       "566  9.143830e-01   5801\n",
       "291  9.145493e-01  25495\n",
       "254  9.159734e-01  58163\n",
       "224  9.261890e-01    708"
      ]
     },
     "execution_count": 132,
     "metadata": {},
     "output_type": "execute_result"
    }
   ],
   "source": [
    "nearest_neighbors.iloc[0:]"
   ]
  },
  {
   "cell_type": "markdown",
   "metadata": {},
   "source": [
    "We have shown that we have a working LSH implementation!\n",
    "\n",
    "\n",
    "# Experimenting LSH\n",
    "\n",
    "In the following sections we have implemented a few experiments so that you can gain intuition for how your LSH implementation behaves in different situations. This will help you understand the effect of searching nearby bins and the performance of LSH versus computing nearest neighbors using a brute force search.\n",
    "\n",
    "## Effect of nearby bin search\n",
    "\n",
    "How does nearby bin search affect the outcome of LSH? There are three variables that are affected by the search radius:\n",
    "- Number of candidate documents considered\n",
    "- Query time\n",
    "- Distance of approximate neighbors from the query\n",
    "\n",
    "Let us run LSH multiple times, each with different radius for nearby bin search. We will measure the three variables as discussed above."
   ]
  },
  {
   "cell_type": "code",
   "execution_count": 135,
   "metadata": {
    "collapsed": true
   },
   "outputs": [],
   "source": [
    "query_time_history = []\n",
    "num_candidates_history = []\n",
    "max_distance_from_query_history = []\n",
    "min_distance_from_query_history = []\n",
    "average_distance_from_query_history = []\n",
    "\n",
    "for max_search_radius in range(17):\n",
    "    start = time.time()\n",
    "    result, num_candidates = query(corpus[35817,:], model, k=10,\n",
    "                                   max_search_radius=max_search_radius)\n",
    "    end = time.time()\n",
    "    query_time = end - start\n",
    "    \n",
    "    # the closest neighbor is the query point itself, thus\n",
    "    # we'll exclude it from the calculation\n",
    "    distances = result['distance'].iloc[1:]\n",
    "    max_distance_from_query = distances.max()\n",
    "    min_distance_from_query = distances.min()\n",
    "    average_distance_from_query = distances.mean()\n",
    "    \n",
    "    query_time_history.append(query_time)\n",
    "    num_candidates_history.append(num_candidates)     \n",
    "    max_distance_from_query_history.append(max_distance_from_query)\n",
    "    min_distance_from_query_history.append(min_distance_from_query)\n",
    "    average_distance_from_query_history.append(average_distance_from_query)"
   ]
  },
  {
   "cell_type": "code",
   "execution_count": 136,
   "metadata": {},
   "outputs": [
    {
     "data": {
      "image/png": "[encoded data removed]",
      "text/plain": [
       "<matplotlib.figure.Figure at 0x11a4552b0>"
      ]
     },
     "metadata": {},
     "output_type": "display_data"
    },
    {
     "data": {
      "image/png": "[encoded data removed]",
      "text/plain": [
       "<matplotlib.figure.Figure at 0x11bddaf98>"
      ]
     },
     "metadata": {},
     "output_type": "display_data"
    },
    {
     "data": {
      "image/png": "[encoded data removed]",
      "text/plain": [
       "<matplotlib.figure.Figure at 0x1199f5908>"
      ]
     },
     "metadata": {},
     "output_type": "display_data"
    }
   ],
   "source": [
    "plt.figure(figsize=(7,4.5))\n",
    "plt.plot(num_candidates_history, linewidth=4)\n",
    "plt.xlabel('Search radius')\n",
    "plt.ylabel('# of documents searched')\n",
    "plt.rcParams.update({'font.size':16})\n",
    "plt.tight_layout()\n",
    "\n",
    "plt.figure(figsize=(7,4.5))\n",
    "plt.plot(query_time_history, linewidth=4)\n",
    "plt.xlabel('Search radius')\n",
    "plt.ylabel('Query time (seconds)')\n",
    "plt.rcParams.update({'font.size':16})\n",
    "plt.tight_layout()\n",
    "\n",
    "plt.figure(figsize=(7,4.5))\n",
    "plt.plot(average_distance_from_query_history, linewidth=4, label='Average of 10 neighbors')\n",
    "plt.plot(max_distance_from_query_history, linewidth=4, label='Farthest of 10 neighbors')\n",
    "plt.plot(min_distance_from_query_history, linewidth=4, label='Closest of 10 neighbors')\n",
    "plt.xlabel('Search radius')\n",
    "plt.ylabel('Cosine distance of neighbors')\n",
    "plt.legend(loc='best', prop={'size':15})\n",
    "plt.rcParams.update({'font.size':16})\n",
    "plt.tight_layout()"
   ]
  },
  {
   "cell_type": "markdown",
   "metadata": {},
   "source": [
    "Some observations:\n",
    "- As we increase the search radius, we find more neighbors that are a smaller distance away.\n",
    "- With increased search radius comes a greater number documents that have to be searched. Query time is higher as a consequence.\n",
    "- With sufficiently high search radius, the results of LSH begin to resemble the results of brute-force search."
   ]
  }
 ],
 "metadata": {
  "anaconda-cloud": {},
  "kernelspec": {
   "display_name": "Python 3",
   "language": "python",
   "name": "python3"
  },
  "language_info": {
   "codemirror_mode": {
    "name": "ipython",
    "version": 3
   },
   "file_extension": ".py",
   "mimetype": "text/x-python",
   "name": "python",
   "nbconvert_exporter": "python",
   "pygments_lexer": "ipython3",
   "version": "3.6.4"
  },
  "toc": {
   "nav_menu": {},
   "number_sections": true,
   "sideBar": true,
   "skip_h1_title": false,
   "title_cell": "Table of Contents",
   "title_sidebar": "Contents",
   "toc_cell": false,
   "toc_position": {},
   "toc_section_display": true,
   "toc_window_display": false
  },
  "varInspector": {
   "cols": {
    "lenName": 16,
    "lenType": 16,
    "lenVar": 40
   },
   "kernels_config": {
    "python": {
     "delete_cmd_postfix": "",
     "delete_cmd_prefix": "del ",
     "library": "var_list.py",
     "varRefreshCmd": "print(var_dic_list())"
    },
    "r": {
     "delete_cmd_postfix": ") ",
     "delete_cmd_prefix": "rm(",
     "library": "var_list.r",
     "varRefreshCmd": "cat(var_dic_list()) "
    }
   },
   "types_to_exclude": [
    "module",
    "function",
    "builtin_function_or_method",
    "instance",
    "_Feature"
   ],
   "window_display": false
  }
 },
 "nbformat": 4,
 "nbformat_minor": 1
}
