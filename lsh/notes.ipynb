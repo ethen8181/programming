{
 "cells": [
  {
   "cell_type": "markdown",
   "metadata": {},
   "source": [
    "## Maximum Inner Product"
   ]
  },
  {
   "cell_type": "markdown",
   "metadata": {},
   "source": [
    "- https://github.com/soundcloud/cosine-lsh-join-spark\n",
    "- https://cmry.github.io/notes/euclidean-v-cosine\n",
    "- https://stats.stackexchange.com/questions/146221/is-cosine-similarity-identical-to-l2-normalized-euclidean-distance\n",
    "- https://www.microsoft.com/en-us/research/wp-content/uploads/2016/02/XboxInnerProduct.pdf"
   ]
  },
  {
   "cell_type": "markdown",
   "metadata": {},
   "source": [
    "## ANN Library"
   ]
  },
  {
   "cell_type": "code",
   "execution_count": 12,
   "metadata": {},
   "outputs": [],
   "source": [
    "from n2 import HnswIndex\n",
    "\n",
    "class N2:\n",
    "\n",
    "    def __init__(self):\n",
    "        pass\n",
    "\n",
    "    def fit(self, X):\n",
    "        index = HnswIndex(dimension=X.shape[1])\n",
    "        for vector in X:\n",
    "            index.add_data(vector)\n",
    "\n",
    "        index.build(m=16, ef_construction=200, n_threads=8)\n",
    "        self.index_ = index\n",
    "        return self\n",
    "\n",
    "    def query(self, vector, topn):\n",
    "        indices = self.index_.search_by_vector(vector, k=topn, ef_search=50)\n",
    "        return indices"
   ]
  },
  {
   "cell_type": "code",
   "execution_count": 2,
   "metadata": {},
   "outputs": [
    {
     "name": "stdout",
     "output_type": "stream",
     "text": [
      "Original index:\n",
      "(array([ 42, 285, 547], dtype=int32), array([0.        , 0.10073507, 0.11398488], dtype=float32))\n",
      "\n",
      "\n",
      "Deserialized index:\n",
      "(array([ 42, 285, 547], dtype=int32), array([0.        , 0.10073507, 0.11398488], dtype=float32))\n"
     ]
    }
   ],
   "source": [
    "import nmslib\n",
    "import numpy as np\n",
    "\n",
    "data = np.random.randn(1000, 10).astype(np.float32)\n",
    "indexA = nmslib.init(method='hnsw', space='cosinesimil')\n",
    "indexA.addDataPointBatch(data)\n",
    "indexA.createIndex({'post': 2}, print_progress=True)\n",
    "\n",
    "print(\"Original index:\")\n",
    "print(indexA.knnQuery(data[42], k=3))\n",
    "\n",
    "indexA.saveIndex(\"foo.hnsw\")\n",
    "\n",
    "indexB = nmslib.init(method='hnsw', space='cosinesimil')\n",
    "indexB.loadIndex(\"foo.hnsw\")\n",
    "\n",
    "print(\"\\n\\nDeserialized index:\")\n",
    "print(indexB.knnQuery(data[42], k=3))"
   ]
  },
  {
   "cell_type": "code",
   "execution_count": 12,
   "metadata": {},
   "outputs": [
    {
     "name": "stdout",
     "output_type": "stream",
     "text": [
      "[0, 1, 2, 3, 4, 5, 6, 7, 8, 9]\n"
     ]
    }
   ],
   "source": [
    "import numpy as np\n",
    "from n2 import HnswIndex\n",
    "\n",
    "\n",
    "index_params = {'M': 16, 'post': 0, 'efConstruction': 400}\n",
    "query_params = {'ef': 90}\n",
    "\n",
    "N, dim = 10240, 20\n",
    "samples = np.arange(N * dim).reshape(N, dim)\n",
    "\n",
    "index = HnswIndex(dim)\n",
    "for sample in samples:\n",
    "    index.add_data(sample)\n",
    "index.build(m=16, ef_construction=400, n_threads=8)\n",
    "print(index.search_by_id(0, 10))\n",
    "# [0, 1, 2, 3, 4, 5, 6, 7, 8, 9]"
   ]
  },
  {
   "cell_type": "markdown",
   "metadata": {},
   "source": [
    "## Docker Utility Function"
   ]
  },
  {
   "cell_type": "code",
   "execution_count": null,
   "metadata": {},
   "outputs": [],
   "source": [
    "import docker\n",
    "\n",
    "# https://docker-py.readthedocs.io/en/stable/client.html\n",
    "docker_client = docker.from_env()\n",
    "docker_client"
   ]
  },
  {
   "cell_type": "code",
   "execution_count": null,
   "metadata": {},
   "outputs": [],
   "source": [
    "images = docker_client.images.list()\n",
    "images[0]"
   ]
  },
  {
   "cell_type": "code",
   "execution_count": null,
   "metadata": {},
   "outputs": [],
   "source": [
    "def bytes2human(input_bytes):\n",
    "    \"\"\"\n",
    "    \n",
    "    Examples\n",
    "    --------\n",
    "    bytes2human(10000) # '9.8K'\n",
    "    \n",
    "    References\n",
    "    ----------\n",
    "    https://github.com/giampaolo/psutil/blob/master/scripts/meminfo.py\n",
    "    \"\"\"\n",
    "    symbols = ('K', 'M', 'G', 'T', 'P', 'E', 'Z', 'Y')\n",
    "    prefix = {}\n",
    "    for i, s in enumerate(symbols):\n",
    "        prefix[s] = 1 << (i + 1) * 10\n",
    "\n",
    "    for s in reversed(symbols):\n",
    "        if input_bytes >= prefix[s]:\n",
    "            value = input_bytes / prefix[s]\n",
    "            return '%.1f%s' % (value, s)\n",
    "\n",
    "    return '%sB' % input_bytes"
   ]
  },
  {
   "cell_type": "code",
   "execution_count": null,
   "metadata": {},
   "outputs": [],
   "source": [
    "import psutil\n",
    "\n",
    "# pip install psutil\n",
    "available_memory = psutil.virtual_memory().available\n",
    "bytes2human(available_memory)"
   ]
  },
  {
   "cell_type": "markdown",
   "metadata": {},
   "source": [
    "## ANN Benchmarks"
   ]
  },
  {
   "cell_type": "code",
   "execution_count": null,
   "metadata": {},
   "outputs": [],
   "source": [
    "# python install.py --algo annoy\n",
    "# python install.py --algo nmslib\n",
    "# python install.py --algo faiss"
   ]
  },
  {
   "cell_type": "code",
   "execution_count": null,
   "metadata": {},
   "outputs": [],
   "source": [
    "# python run.py --dataset glove-100-angular --algo annoy"
   ]
  }
 ],
 "metadata": {
  "kernelspec": {
   "display_name": "Python 3",
   "language": "python",
   "name": "python3"
  },
  "language_info": {
   "codemirror_mode": {
    "name": "ipython",
    "version": 3
   },
   "file_extension": ".py",
   "mimetype": "text/x-python",
   "name": "python",
   "nbconvert_exporter": "python",
   "pygments_lexer": "ipython3",
   "version": "3.6.4"
  },
  "toc": {
   "nav_menu": {},
   "number_sections": true,
   "sideBar": true,
   "skip_h1_title": false,
   "title_cell": "Table of Contents",
   "title_sidebar": "Contents",
   "toc_cell": false,
   "toc_position": {
    "height": "calc(100% - 180px)",
    "left": "10px",
    "top": "150px",
    "width": "183px"
   },
   "toc_section_display": true,
   "toc_window_display": true
  },
  "varInspector": {
   "cols": {
    "lenName": 16,
    "lenType": 16,
    "lenVar": 40
   },
   "kernels_config": {
    "python": {
     "delete_cmd_postfix": "",
     "delete_cmd_prefix": "del ",
     "library": "var_list.py",
     "varRefreshCmd": "print(var_dic_list())"
    },
    "r": {
     "delete_cmd_postfix": ") ",
     "delete_cmd_prefix": "rm(",
     "library": "var_list.r",
     "varRefreshCmd": "cat(var_dic_list()) "
    }
   },
   "types_to_exclude": [
    "module",
    "function",
    "builtin_function_or_method",
    "instance",
    "_Feature"
   ],
   "window_display": false
  }
 },
 "nbformat": 4,
 "nbformat_minor": 2
}
