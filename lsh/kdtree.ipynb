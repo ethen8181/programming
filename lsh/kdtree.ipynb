{
 "cells": [
  {
   "cell_type": "code",
   "execution_count": 6,
   "metadata": {
    "collapsed": false
   },
   "outputs": [
    {
     "data": {
      "text/plain": [
       "[(2, 3), (5, 4), (9, 6), (4, 7), (8, 1), (7, 2)]"
      ]
     },
     "execution_count": 6,
     "metadata": {},
     "output_type": "execute_result"
    }
   ],
   "source": [
    "import numpy as np\n",
    "from operator import itemgetter\n",
    "point_list = [(2,3), (5,4), (9,6), (4,7), (8,1), (7,2)]\n",
    "d = 2\n",
    "\n",
    "point_list"
   ]
  },
  {
   "cell_type": "code",
   "execution_count": 7,
   "metadata": {
    "collapsed": false
   },
   "outputs": [
    {
     "data": {
      "text/plain": [
       "3"
      ]
     },
     "execution_count": 7,
     "metadata": {},
     "output_type": "execute_result"
    }
   ],
   "source": [
    "depth = 0\n",
    "axis = depth % d\n",
    " \n",
    "# Sort point list and choose median as pivot element\n",
    "point_list.sort(key = itemgetter(axis))\n",
    "median = len(point_list) // 2\n",
    "median"
   ]
  },
  {
   "cell_type": "code",
   "execution_count": 8,
   "metadata": {
    "collapsed": false
   },
   "outputs": [
    {
     "data": {
      "text/plain": [
       "[(2, 3), (4, 7), (5, 4), (7, 2), (8, 1), (9, 6)]"
      ]
     },
     "execution_count": 8,
     "metadata": {},
     "output_type": "execute_result"
    }
   ],
   "source": [
    "point_list"
   ]
  },
  {
   "cell_type": "code",
   "execution_count": 41,
   "metadata": {
    "collapsed": false
   },
   "outputs": [
    {
     "name": "stdout",
     "output_type": "stream",
     "text": [
      "(2, 6)\n"
     ]
    },
    {
     "data": {
      "text/plain": [
       "array([[2, 5, 9, 4, 8, 7],\n",
       "       [3, 4, 6, 7, 1, 2]])"
      ]
     },
     "execution_count": 41,
     "metadata": {},
     "output_type": "execute_result"
    }
   ],
   "source": [
    "K = 11\n",
    "n_row = 10000\n",
    "n_col = 12\n",
    "data = 10 * np.random.rand(n_row * n_col).reshape((n_col, n_row))\n",
    "\n",
    "# row is the features, col is the observations\n",
    "data = np.array([(2,3), (5,4), (9,6), (4,7), (8,1), (7,2)]).T\n",
    "print(data.shape)\n",
    "data"
   ]
  },
  {
   "cell_type": "code",
   "execution_count": 43,
   "metadata": {
    "collapsed": false
   },
   "outputs": [
    {
     "data": {
      "text/plain": [
       "array([[ 2.,  1.],\n",
       "       [ 9.,  7.]])"
      ]
     },
     "execution_count": 43,
     "metadata": {},
     "output_type": "execute_result"
    }
   ],
   "source": [
    "n_col, n_row = data.shape\n",
    "\n",
    "# find bounding hyper-rectangle, the\n",
    "# minimum and maximum of each features\n",
    "# is stored in each column\n",
    "hrect = np.zeros((2, n_col))\n",
    "hrect[0] = np.min(data, axis = 1)\n",
    "hrect[1] = np.max(data, axis = 1)\n",
    "hrect"
   ]
  },
  {
   "cell_type": "code",
   "execution_count": 44,
   "metadata": {
    "collapsed": false
   },
   "outputs": [
    {
     "data": {
      "text/plain": [
       "array([[2, 4, 5, 7, 8, 9],\n",
       "       [3, 7, 4, 2, 1, 6]])"
      ]
     },
     "execution_count": 44,
     "metadata": {},
     "output_type": "execute_result"
    }
   ],
   "source": [
    "# create the root node by\n",
    "# sorting on the first feature\n",
    "idx = np.argsort(data[0])\n",
    "data = data[:, idx]\n",
    "data"
   ]
  },
  {
   "cell_type": "code",
   "execution_count": 46,
   "metadata": {
    "collapsed": false
   },
   "outputs": [
    {
     "data": {
      "text/plain": [
       "7"
      ]
     },
     "execution_count": 46,
     "metadata": {},
     "output_type": "execute_result"
    }
   ],
   "source": [
    "# obtain the splitting value\n",
    "splitval = data[0, n_row // 2]\n",
    "splitval"
   ]
  },
  {
   "cell_type": "code",
   "execution_count": 47,
   "metadata": {
    "collapsed": false
   },
   "outputs": [
    {
     "data": {
      "text/plain": [
       "array([[ 2.,  1.],\n",
       "       [ 7.,  7.]])"
      ]
     },
     "execution_count": 47,
     "metadata": {},
     "output_type": "execute_result"
    }
   ],
   "source": [
    "# create the left and right hyper-rectangle\n",
    "# where the left is smaller than the split value\n",
    "left_hrect = hrect.copy()\n",
    "right_hrect = hrect.copy()\n",
    "left_hrect[1, 0] = splitval\n",
    "right_hrect[0, 0] = splitval\n",
    "left_hrect"
   ]
  },
  {
   "cell_type": "code",
   "execution_count": 48,
   "metadata": {
    "collapsed": false
   },
   "outputs": [
    {
     "data": {
      "text/plain": [
       "array([[ 7.,  1.],\n",
       "       [ 9.,  7.]])"
      ]
     },
     "execution_count": 48,
     "metadata": {},
     "output_type": "execute_result"
    }
   ],
   "source": [
    "right_hrect"
   ]
  },
  {
   "cell_type": "code",
   "execution_count": 55,
   "metadata": {
    "collapsed": false
   },
   "outputs": [
    {
     "data": {
      "text/plain": [
       "[(array([[2, 4, 5],\n",
       "         [3, 7, 4]]), array([0, 3, 1]), 1, 0, True), (array([[7, 8, 9],\n",
       "         [2, 1, 6]]), array([5, 4, 2]), 1, 0, False)]"
      ]
     },
     "execution_count": 55,
     "metadata": {},
     "output_type": "execute_result"
    }
   ],
   "source": [
    "tree = [(None, None, left_hrect, right_hrect, None, None)]\n",
    "\n",
    "# stack stores the splitted data, indices, the depth of the tree\n",
    "# the parent (length of tree?), whether it's a left branch or not\n",
    "mid = n_row // 2\n",
    "stack = [(data[:, :mid], idx[:mid], 1, 0, True),\n",
    "         (data[:, mid:], idx[mid:], 1, 0, False)]\n",
    "stack"
   ]
  },
  {
   "cell_type": "code",
   "execution_count": 57,
   "metadata": {
    "collapsed": false
   },
   "outputs": [
    {
     "data": {
      "text/plain": [
       "1"
      ]
     },
     "execution_count": 57,
     "metadata": {},
     "output_type": "execute_result"
    }
   ],
   "source": [
    "data, didx, depth, parent, left_branch = stack.pop()\n",
    "ndata = data.shape[1]\n",
    "nodeptr = len(tree)\n",
    "nodeptr"
   ]
  },
  {
   "cell_type": "code",
   "execution_count": 64,
   "metadata": {
    "collapsed": false
   },
   "outputs": [
    {
     "data": {
      "text/plain": [
       "array([0, 3, 1, 5, 4, 2])"
      ]
     },
     "execution_count": 64,
     "metadata": {},
     "output_type": "execute_result"
    }
   ],
   "source": [
    "idx"
   ]
  },
  {
   "cell_type": "code",
   "execution_count": 61,
   "metadata": {
    "collapsed": false
   },
   "outputs": [],
   "source": [
    "_didx, _data, _left_hrect, _right_hrect, left, right = tree[parent]"
   ]
  },
  {
   "cell_type": "code",
   "execution_count": 62,
   "metadata": {
    "collapsed": false
   },
   "outputs": [
    {
     "data": {
      "text/plain": [
       "(None, None, array([[ 2.,  1.],\n",
       "        [ 7.,  7.]]), array([[ 7.,  1.],\n",
       "        [ 9.,  7.]]), None, None)"
      ]
     },
     "execution_count": 62,
     "metadata": {},
     "output_type": "execute_result"
    }
   ],
   "source": [
    "tree[parent]"
   ]
  },
  {
   "cell_type": "code",
   "execution_count": 65,
   "metadata": {
    "collapsed": false
   },
   "outputs": [
    {
     "data": {
      "text/plain": [
       "[(None, None, array([[ 2.,  1.],\n",
       "         [ 7.,  7.]]), array([[ 7.,  1.],\n",
       "         [ 9.,  7.]]), None, None)]"
      ]
     },
     "execution_count": 65,
     "metadata": {},
     "output_type": "execute_result"
    }
   ],
   "source": [
    "tree"
   ]
  },
  {
   "cell_type": "code",
   "execution_count": 69,
   "metadata": {
    "collapsed": true
   },
   "outputs": [],
   "source": [
    "left"
   ]
  },
  {
   "cell_type": "code",
   "execution_count": 68,
   "metadata": {
    "collapsed": false
   },
   "outputs": [
    {
     "data": {
      "text/plain": [
       "[(None, None, array([[ 2.,  1.],\n",
       "         [ 7.,  7.]]), array([[ 7.,  1.],\n",
       "         [ 9.,  7.]]), None, 1)]"
      ]
     },
     "execution_count": 68,
     "metadata": {},
     "output_type": "execute_result"
    }
   ],
   "source": [
    "tree"
   ]
  },
  {
   "cell_type": "code",
   "execution_count": 67,
   "metadata": {
    "collapsed": false
   },
   "outputs": [],
   "source": [
    "tree[parent] = (_didx, _data, _left_hrect, _right_hrect, nodeptr, right) if left_branch \\\n",
    "            else (_didx, _data, _left_hrect, _right_hrect, left, nodeptr)\n"
   ]
  },
  {
   "cell_type": "code",
   "execution_count": null,
   "metadata": {
    "collapsed": true
   },
   "outputs": [],
   "source": [
    "knn_search(data, K)"
   ]
  }
 ],
 "metadata": {
  "kernelspec": {
   "display_name": "Python [Root]",
   "language": "python",
   "name": "Python [Root]"
  },
  "language_info": {
   "codemirror_mode": {
    "name": "ipython",
    "version": 3
   },
   "file_extension": ".py",
   "mimetype": "text/x-python",
   "name": "python",
   "nbconvert_exporter": "python",
   "pygments_lexer": "ipython3",
   "version": "3.5.2"
  }
 },
 "nbformat": 4,
 "nbformat_minor": 2
}
