{
 "cells": [
  {
   "cell_type": "markdown",
   "metadata": {
    "toc": true
   },
   "source": [
    "<h1>Table of Contents<span class=\"tocSkip\"></span></h1>\n",
    "<div class=\"toc\"><ul class=\"toc-item\"></ul></div>"
   ]
  },
  {
   "cell_type": "code",
   "execution_count": 1,
   "metadata": {},
   "outputs": [],
   "source": [
    "import pulp as pp\n",
    "import numpy as np\n",
    "import pandas as pd"
   ]
  },
  {
   "cell_type": "markdown",
   "metadata": {},
   "source": [
    "- https://www.ethanrosenthal.com/2016/07/20/lets-talk-or/\n",
    "- https://www.ethanrosenthal.com/2016/08/30/towards-optimal-personalization/\n",
    "- https://multithreaded.stitchfix.com/blog/2018/06/21/constrained-optimization/"
   ]
  },
  {
   "cell_type": "code",
   "execution_count": 2,
   "metadata": {},
   "outputs": [
    {
     "data": {
      "text/html": [
       "<div>\n",
       "<style scoped>\n",
       "    .dataframe tbody tr th:only-of-type {\n",
       "        vertical-align: middle;\n",
       "    }\n",
       "\n",
       "    .dataframe tbody tr th {\n",
       "        vertical-align: top;\n",
       "    }\n",
       "\n",
       "    .dataframe thead th {\n",
       "        text-align: right;\n",
       "    }\n",
       "</style>\n",
       "<table border=\"1\" class=\"dataframe\">\n",
       "  <thead>\n",
       "    <tr style=\"text-align: right;\">\n",
       "      <th></th>\n",
       "      <th>leather</th>\n",
       "      <th>metal</th>\n",
       "      <th>canvas</th>\n",
       "      <th>cost</th>\n",
       "      <th>profit</th>\n",
       "      <th>min_run_size</th>\n",
       "    </tr>\n",
       "    <tr>\n",
       "      <th>Dog collar type</th>\n",
       "      <th></th>\n",
       "      <th></th>\n",
       "      <th></th>\n",
       "      <th></th>\n",
       "      <th></th>\n",
       "      <th></th>\n",
       "    </tr>\n",
       "  </thead>\n",
       "  <tbody>\n",
       "    <tr>\n",
       "      <th>0</th>\n",
       "      <td>0.50</td>\n",
       "      <td>0.25</td>\n",
       "      <td>0.30</td>\n",
       "      <td>26.0</td>\n",
       "      <td>10.5</td>\n",
       "      <td>30</td>\n",
       "    </tr>\n",
       "    <tr>\n",
       "      <th>1</th>\n",
       "      <td>0.30</td>\n",
       "      <td>0.70</td>\n",
       "      <td>1.20</td>\n",
       "      <td>29.0</td>\n",
       "      <td>12.0</td>\n",
       "      <td>40</td>\n",
       "    </tr>\n",
       "    <tr>\n",
       "      <th>2</th>\n",
       "      <td>0.90</td>\n",
       "      <td>0.60</td>\n",
       "      <td>0.57</td>\n",
       "      <td>22.0</td>\n",
       "      <td>9.0</td>\n",
       "      <td>25</td>\n",
       "    </tr>\n",
       "    <tr>\n",
       "      <th>3</th>\n",
       "      <td>1.10</td>\n",
       "      <td>0.45</td>\n",
       "      <td>0.98</td>\n",
       "      <td>26.5</td>\n",
       "      <td>11.5</td>\n",
       "      <td>60</td>\n",
       "    </tr>\n",
       "    <tr>\n",
       "      <th>4</th>\n",
       "      <td>0.75</td>\n",
       "      <td>0.95</td>\n",
       "      <td>0.55</td>\n",
       "      <td>20.0</td>\n",
       "      <td>8.5</td>\n",
       "      <td>50</td>\n",
       "    </tr>\n",
       "  </tbody>\n",
       "</table>\n",
       "</div>"
      ],
      "text/plain": [
       "                 leather  metal  canvas  cost  profit  min_run_size\n",
       "Dog collar type                                                    \n",
       "0                   0.50   0.25    0.30  26.0    10.5            30\n",
       "1                   0.30   0.70    1.20  29.0    12.0            40\n",
       "2                   0.90   0.60    0.57  22.0     9.0            25\n",
       "3                   1.10   0.45    0.98  26.5    11.5            60\n",
       "4                   0.75   0.95    0.55  20.0     8.5            50"
      ]
     },
     "execution_count": 2,
     "metadata": {},
     "output_type": "execute_result"
    }
   ],
   "source": [
    "# quantity that the collar requires\n",
    "# particular quantity of production that will minimize the total annual\n",
    "# cost of setting up and carrying inventory, if produced in one production run\n",
    "names = ['leather', 'metal', 'canvas', 'cost', 'profit', 'min_run_size']\n",
    "collars = pd.DataFrame([(0.50, 0.25, 0.30, 26.00, 10.50, 30),\n",
    "                        (0.30, 0.70, 1.20, 29.00, 12.00, 40),\n",
    "                        (0.90, 0.60, 0.57, 22.00, 09.00, 25),\n",
    "                        (1.10, 0.45, 0.98, 26.50, 11.50, 60),\n",
    "                        (0.75, 0.95, 0.55, 20.00, 08.50, 50)],\n",
    "                      columns=names)\n",
    "collars.index.name = 'Dog collar type'\n",
    "collars"
   ]
  },
  {
   "cell_type": "code",
   "execution_count": 3,
   "metadata": {},
   "outputs": [
    {
     "data": {
      "text/html": [
       "<div>\n",
       "<style scoped>\n",
       "    .dataframe tbody tr th:only-of-type {\n",
       "        vertical-align: middle;\n",
       "    }\n",
       "\n",
       "    .dataframe tbody tr th {\n",
       "        vertical-align: top;\n",
       "    }\n",
       "\n",
       "    .dataframe thead th {\n",
       "        text-align: right;\n",
       "    }\n",
       "</style>\n",
       "<table border=\"1\" class=\"dataframe\">\n",
       "  <thead>\n",
       "    <tr style=\"text-align: right;\">\n",
       "      <th></th>\n",
       "      <th>max_quantity</th>\n",
       "    </tr>\n",
       "  </thead>\n",
       "  <tbody>\n",
       "    <tr>\n",
       "      <th>leather</th>\n",
       "      <td>400</td>\n",
       "    </tr>\n",
       "    <tr>\n",
       "      <th>metal</th>\n",
       "      <td>250</td>\n",
       "    </tr>\n",
       "    <tr>\n",
       "      <th>canvas</th>\n",
       "      <td>300</td>\n",
       "    </tr>\n",
       "  </tbody>\n",
       "</table>\n",
       "</div>"
      ],
      "text/plain": [
       "         max_quantity\n",
       "leather           400\n",
       "metal             250\n",
       "canvas            300"
      ]
     },
     "execution_count": 3,
     "metadata": {},
     "output_type": "execute_result"
    }
   ],
   "source": [
    "quants = pd.DataFrame([400, 250, 300],\n",
    "                      index=['leather', 'metal', 'canvas'],\n",
    "                      columns=['max_quantity'])\n",
    "quants"
   ]
  },
  {
   "cell_type": "code",
   "execution_count": 4,
   "metadata": {},
   "outputs": [],
   "source": [
    "p = collars.profit\n",
    "w = collars.cost\n",
    "r = collars.min_run_size\n",
    "m = quants.max_quantity\n",
    "s = collars[['leather', 'metal', 'canvas']]\n",
    "collar_index = range(collars.shape[0]) # j\n",
    "material_index = range(s.shape[1]) # i\n",
    "budget = 10000.0"
   ]
  },
  {
   "cell_type": "code",
   "execution_count": 5,
   "metadata": {},
   "outputs": [
    {
     "data": {
      "text/plain": [
       "Dog Collar Problem:\n",
       "MAXIMIZE\n",
       "10.5*c_0 + 12.0*c_1 + 9.0*c_2 + 11.5*c_3 + 8.5*c_4 + 0.0\n",
       "VARIABLES\n",
       "0 <= c_0 <= 384 Integer\n",
       "0 <= c_1 <= 344 Integer\n",
       "0 <= c_2 <= 454 Integer\n",
       "0 <= c_3 <= 377 Integer\n",
       "0 <= c_4 <= 500 Integer"
      ]
     },
     "execution_count": 5,
     "metadata": {},
     "output_type": "execute_result"
    }
   ],
   "source": [
    "prob = pp.LpProblem('Dog Collar Problem', pp.LpMaximize)\n",
    "\n",
    "# Collar counts (the variable in our problem)\n",
    "c = []\n",
    "for j in collar_index:\n",
    "    max_count = np.floor(budget / w[j])\n",
    "    c.append(pp.LpVariable('c_{}'.format(j), lowBound=0, upBound=max_count, cat='Integer'))\n",
    "\n",
    "# For pulp, add the objective function first\n",
    "prob += pp.lpSum([i * j for i, j in zip(p, c)]), 'Total profit'\n",
    "prob"
   ]
  },
  {
   "cell_type": "code",
   "execution_count": 6,
   "metadata": {},
   "outputs": [
    {
     "data": {
      "text/plain": [
       "Dog Collar Problem:\n",
       "MAXIMIZE\n",
       "10.5*c_0 + 12.0*c_1 + 9.0*c_2 + 11.5*c_3 + 8.5*c_4 + 0.0\n",
       "SUBJECT TO\n",
       "Budget: 26 c_0 + 29 c_1 + 22 c_2 + 26.5 c_3 + 20 c_4 <= 10000\n",
       "\n",
       "MinBatchSize_0: c_0 >= 30\n",
       "\n",
       "MinBatchSize_1: c_1 >= 40\n",
       "\n",
       "MinBatchSize_2: c_2 >= 25\n",
       "\n",
       "MinBatchSize_3: c_3 >= 60\n",
       "\n",
       "MinBatchSize_4: c_4 >= 50\n",
       "\n",
       "_C1: 0.5 c_0 + 0.3 c_1 + 0.9 c_2 + 1.1 c_3 + 0.75 c_4 <= 400\n",
       "\n",
       "_C2: 0.25 c_0 + 0.7 c_1 + 0.6 c_2 + 0.45 c_3 + 0.95 c_4 <= 250\n",
       "\n",
       "_C3: 0.3 c_0 + 1.2 c_1 + 0.57 c_2 + 0.98 c_3 + 0.55 c_4 <= 300\n",
       "\n",
       "VARIABLES\n",
       "0 <= c_0 <= 384 Integer\n",
       "0 <= c_1 <= 344 Integer\n",
       "0 <= c_2 <= 454 Integer\n",
       "0 <= c_3 <= 377 Integer\n",
       "0 <= c_4 <= 500 Integer"
      ]
     },
     "execution_count": 6,
     "metadata": {},
     "output_type": "execute_result"
    }
   ],
   "source": [
    "# Budget constraint\n",
    "prob += pp.lpSum([w[j] * c[j] for j in collar_index]) <= budget, 'Budget'\n",
    "\n",
    "# Min run size constraint\n",
    "for j in collar_index:\n",
    "    prob += c[j] >= r[j], 'MinBatchSize_{}'.format(j)\n",
    "    \n",
    "# Max supplies quantity\n",
    "for i in material_index:\n",
    "    prob += pp.lpSum([s.iloc[j, i] * c[j] for j in collar_index]) <= m[i]\n",
    "\n",
    "prob"
   ]
  },
  {
   "cell_type": "code",
   "execution_count": 22,
   "metadata": {},
   "outputs": [
    {
     "name": "stdout",
     "output_type": "stream",
     "text": [
      "17.8 ms ± 410 µs per loop (mean ± std. dev. of 7 runs, 100 loops each)\n"
     ]
    }
   ],
   "source": [
    "%timeit prob.solve(pp.COIN_CMD())"
   ]
  },
  {
   "cell_type": "code",
   "execution_count": 23,
   "metadata": {},
   "outputs": [
    {
     "name": "stdout",
     "output_type": "stream",
     "text": [
      "12.2 ms ± 130 µs per loop (mean ± std. dev. of 7 runs, 100 loops each)\n"
     ]
    }
   ],
   "source": [
    "%timeit prob.solve(pp.GLPK_CMD())"
   ]
  },
  {
   "cell_type": "code",
   "execution_count": 8,
   "metadata": {},
   "outputs": [
    {
     "name": "stdout",
     "output_type": "stream",
     "text": [
      "Status: Optimal\n",
      "c_0 = 68.0 \n",
      "c_1 = 40.0 \n",
      "c_2 = 25.0 \n",
      "c_3 = 151.0 \n",
      "c_4 = 126.0 \n",
      "Total profit = $4226.50\n",
      "Total cost = $9999.50\n"
     ]
    }
   ],
   "source": [
    "print(\"Status: {}\".format(pp.LpStatus[prob.status]))\n",
    "\n",
    "# Each of the variables is printed with it's resolved optimum value\n",
    "for v in prob.variables():\n",
    "    print(\"{} = {} \".format(v.name, v.varValue))\n",
    "\n",
    "# The optimised objective function value is printed to the screen\n",
    "print('Total profit = ${:6.2f}'.format(pp.value(prob.objective)))\n",
    "print('Total cost = ${:6.2f}'.format(np.sum(x * v.varValue for x, v in zip(w, prob.variables()))))"
   ]
  },
  {
   "cell_type": "code",
   "execution_count": 9,
   "metadata": {},
   "outputs": [],
   "source": [
    "# pip install pyomo\n",
    "# brew install glpk\n",
    "# https://projects.coin-or.org/Cbc"
   ]
  },
  {
   "cell_type": "code",
   "execution_count": 10,
   "metadata": {},
   "outputs": [
    {
     "data": {
      "text/plain": [
       "0.4749998630286989"
      ]
     },
     "execution_count": 10,
     "metadata": {},
     "output_type": "execute_result"
    }
   ],
   "source": [
    "import numpy as np\n",
    "\n",
    "\n",
    "stylist_workloads = {\n",
    "    \"Alex\": 1, \"Jennifer\": 2, \"Andrew\": 2,\n",
    "    \"DeAnna\": 2, \"Jesse\": 3\n",
    "}\n",
    "\n",
    "clients = [\n",
    "    \"Trista\", \"Meredith\", \"Aaron\", \"Bob\", \"Jillian\",\n",
    "    \"Ali\", \"Ashley\", \"Emily\", \"Desiree\", \"Byron\"\n",
    "]\n",
    "\n",
    "happiness_prob = {\n",
    "    (stylist, client): np.random.rand()\n",
    "    for stylist in stylist_workloads\n",
    "    for client in clients\n",
    "}\n",
    "happiness_prob[('Alex', 'Trista')]"
   ]
  },
  {
   "cell_type": "code",
   "execution_count": 11,
   "metadata": {},
   "outputs": [],
   "source": [
    "from pyomo import environ as pe\n",
    "\n",
    "model = pe.ConcreteModel()"
   ]
  },
  {
   "cell_type": "code",
   "execution_count": 12,
   "metadata": {},
   "outputs": [],
   "source": [
    "model.stylists = pe.Set(initialize=stylist_workloads.keys())\n",
    "model.clients = pe.Set(initialize=clients)"
   ]
  },
  {
   "cell_type": "code",
   "execution_count": 13,
   "metadata": {},
   "outputs": [],
   "source": [
    "model.happiness_prob = pe.Param(\n",
    "    # On pyomo Set objects, the '*' operator returns the cartesian product\n",
    "    model.stylists * model.clients,\n",
    "    # The dictionary mapping (stylist, client) pairs to chances of a happy outcome\n",
    "    initialize=happiness_prob,\n",
    "    # Happiness probabilities are real numbers between 0 and 1\n",
    "    within=pe.UnitInterval)\n",
    "\n",
    "model.stylist_workloads = pe.Param(\n",
    "    model.stylists,\n",
    "    initialize=stylist_workloads,\n",
    "    within=pe.NonNegativeIntegers)"
   ]
  },
  {
   "cell_type": "code",
   "execution_count": 14,
   "metadata": {},
   "outputs": [],
   "source": [
    "model.assignments = pe.Var(\n",
    "    # Defined over the client-stylist matrix\n",
    "    model.stylists * model.clients,\n",
    "    # Possible values are 0 and 1\n",
    "    domain=pe.Binary)"
   ]
  },
  {
   "cell_type": "code",
   "execution_count": 15,
   "metadata": {},
   "outputs": [],
   "source": [
    "model.objective = pe.Objective(\n",
    "    expr=pe.summation(model.happiness_prob, model.assignments),\n",
    "    sense=pe.maximize)"
   ]
  },
  {
   "cell_type": "code",
   "execution_count": 16,
   "metadata": {},
   "outputs": [],
   "source": [
    "def respect_workload(model, stylist):\n",
    "    # Count up all the clients assigned to the stylist\n",
    "    n_clients_assigned_to_stylist = sum(\n",
    "        model.assignments[stylist, client]\n",
    "        for client in model.clients)\n",
    "    # What's the max number of clients this stylist can work with?\n",
    "    max_clients = model.stylist_workloads[stylist]\n",
    "    # Make sure that sum is no more than the stylist's workload\n",
    "    return n_clients_assigned_to_stylist <= max_clients\n",
    "\n",
    "model.respect_workload = pe.Constraint(\n",
    "    # For each stylist in the set of all stylists...\n",
    "    model.stylists,\n",
    "    # Ensure that total assigned clients at most equal workload!\n",
    "    rule=respect_workload)\n",
    "\n",
    "\n",
    "def one_stylist_per_client(model, client):\n",
    "    # Count up all the stylists assigned to the client\n",
    "    n_stylists_assigned_to_client = sum(\n",
    "        model.assignments[stylist, client]\n",
    "        for stylist in model.stylists)\n",
    "    # Make sure that sum is equal to one\n",
    "    return n_stylists_assigned_to_client == 1\n",
    "\n",
    "model.one_stylist_per_client = pe.Constraint(\n",
    "    # For each client in the set of all clients...\n",
    "    model.clients,\n",
    "    # Ensure that exactly one stylist is assigned!\n",
    "    rule=one_stylist_per_client)"
   ]
  },
  {
   "cell_type": "code",
   "execution_count": 17,
   "metadata": {},
   "outputs": [],
   "source": [
    "solver = pe.SolverFactory(\"glpk\")\n",
    "# Add the keyword arg tee=True for a detailed trace of the solver's work.\n",
    "solution = solver.solve(model)"
   ]
  },
  {
   "cell_type": "code",
   "execution_count": 18,
   "metadata": {},
   "outputs": [
    {
     "name": "stdout",
     "output_type": "stream",
     "text": [
      "   Byron will be styled by Alex\n",
      "   Aaron will be styled by Andrew\n",
      " Desiree will be styled by Andrew\n",
      "     Ali will be styled by DeAnna\n",
      "  Trista will be styled by DeAnna\n",
      "  Ashley will be styled by Jennifer\n",
      "   Emily will be styled by Jennifer\n",
      "     Bob will be styled by Jesse\n",
      " Jillian will be styled by Jesse\n",
      "Meredith will be styled by Jesse\n"
     ]
    }
   ],
   "source": [
    "assignments = model.assignments.get_values().items()\n",
    "for (stylist, client), assigned in sorted(assignments):\n",
    "    if assigned == 1:\n",
    "        print(\"{} will be styled by {}\".format(client.rjust(8), stylist))"
   ]
  },
  {
   "cell_type": "code",
   "execution_count": 19,
   "metadata": {},
   "outputs": [
    {
     "data": {
      "text/plain": [
       "0.031613585132854505"
      ]
     },
     "execution_count": 19,
     "metadata": {},
     "output_type": "execute_result"
    }
   ],
   "source": [
    "import numpy as np\n",
    "\n",
    "\n",
    "stylist_workloads = {\n",
    "    \"Alex\": 1, \"Jennifer\": 2, \"Andrew\": 2,\n",
    "    \"DeAnna\": 2, \"Jesse\": 3\n",
    "}\n",
    "\n",
    "clients = [\n",
    "    \"Trista\", \"Meredith\", \"Aaron\", \"Bob\", \"Jillian\",\n",
    "    \"Ali\", \"Ashley\", \"Emily\", \"Desiree\", \"Byron\"\n",
    "]\n",
    "\n",
    "happiness_prob = {\n",
    "    (stylist, client): np.random.rand()\n",
    "    for stylist in stylist_workloads\n",
    "    for client in clients\n",
    "}\n",
    "happiness_prob[('Alex', 'Trista')]"
   ]
  },
  {
   "cell_type": "code",
   "execution_count": 20,
   "metadata": {},
   "outputs": [
    {
     "name": "stdout",
     "output_type": "stream",
     "text": [
      "Status = optimal\n",
      "m[hammer] = 1.000000\n",
      "m[screwdriver] = 1.000000\n",
      "m[towel] = 1.000000\n",
      "m[wrench] = 0.000000\n",
      "Objective = 25.000000\n"
     ]
    }
   ],
   "source": [
    "# pip install pyomocontrib_simplemodel\n",
    "from pyomo.contrib.simplemodel import SimpleModel, Binary, value\n",
    "\n",
    "v = {'hammer':8, 'wrench':3, 'screwdriver':6, 'towel':11}\n",
    "w = {'hammer':5, 'wrench':7, 'screwdriver':4, 'towel':3}\n",
    "limit = 14\n",
    "items = list(sorted(v.keys()))\n",
    "\n",
    "# Create model\n",
    "m = SimpleModel(maximize=True)\n",
    "\n",
    "# Variables\n",
    "x = m.var('m', items, within=Binary)\n",
    "\n",
    "# Objective\n",
    "m += sum(v[i]*x[i] for i in items)\n",
    "\n",
    "# Constraint\n",
    "m += sum(w[i]*x[i] for i in items) <= limit\n",
    "\n",
    "\n",
    "# Optimize\n",
    "status = m.solve('glpk')\n",
    "\n",
    "# Print the status of the solved LP\n",
    "print(\"Status = %s\" % status.solver.termination_condition)\n",
    "\n",
    "# Print the value of the variables at the optimum\n",
    "for i in items:\n",
    "    print(\"%s = %f\" % (x[i], value(x[i])))\n",
    "\n",
    "# Print the value of the objective\n",
    "print(\"Objective = %f\" % value(m.objective()))"
   ]
  }
 ],
 "metadata": {
  "kernelspec": {
   "display_name": "Python 3",
   "language": "python",
   "name": "python3"
  },
  "language_info": {
   "codemirror_mode": {
    "name": "ipython",
    "version": 3
   },
   "file_extension": ".py",
   "mimetype": "text/x-python",
   "name": "python",
   "nbconvert_exporter": "python",
   "pygments_lexer": "ipython3",
   "version": "3.6.4"
  },
  "toc": {
   "nav_menu": {},
   "number_sections": true,
   "sideBar": true,
   "skip_h1_title": false,
   "title_cell": "Table of Contents",
   "title_sidebar": "Contents",
   "toc_cell": true,
   "toc_position": {
    "height": "calc(100% - 180px)",
    "left": "10px",
    "top": "150px",
    "width": "280px"
   },
   "toc_section_display": true,
   "toc_window_display": true
  },
  "varInspector": {
   "cols": {
    "lenName": 16,
    "lenType": 16,
    "lenVar": 40
   },
   "kernels_config": {
    "python": {
     "delete_cmd_postfix": "",
     "delete_cmd_prefix": "del ",
     "library": "var_list.py",
     "varRefreshCmd": "print(var_dic_list())"
    },
    "r": {
     "delete_cmd_postfix": ") ",
     "delete_cmd_prefix": "rm(",
     "library": "var_list.r",
     "varRefreshCmd": "cat(var_dic_list()) "
    }
   },
   "types_to_exclude": [
    "module",
    "function",
    "builtin_function_or_method",
    "instance",
    "_Feature"
   ],
   "window_display": false
  }
 },
 "nbformat": 4,
 "nbformat_minor": 2
}
