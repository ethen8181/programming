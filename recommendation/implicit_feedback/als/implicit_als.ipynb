{
 "cells": [
  {
   "cell_type": "markdown",
   "metadata": {
    "toc": true
   },
   "source": [
    "<h1>Table of Contents<span class=\"tocSkip\"></span></h1>\n",
    "<div class=\"toc\"><ul class=\"toc-item\"><li><span><a href=\"#Implicit\" data-toc-modified-id=\"Implicit-1\"><span class=\"toc-item-num\">1&nbsp;&nbsp;</span>Implicit</a></span><ul class=\"toc-item\"><li><span><a href=\"#Movielens-100K\" data-toc-modified-id=\"Movielens-100K-1.1\"><span class=\"toc-item-num\">1.1&nbsp;&nbsp;</span>Movielens 100K</a></span></li><li><span><a href=\"#Model-Interpretation\" data-toc-modified-id=\"Model-Interpretation-1.2\"><span class=\"toc-item-num\">1.2&nbsp;&nbsp;</span>Model Interpretation</a></span></li><li><span><a href=\"#LastFM\" data-toc-modified-id=\"LastFM-1.3\"><span class=\"toc-item-num\">1.3&nbsp;&nbsp;</span>LastFM</a></span></li><li><span><a href=\"#BPR\" data-toc-modified-id=\"BPR-1.4\"><span class=\"toc-item-num\">1.4&nbsp;&nbsp;</span>BPR</a></span></li></ul></li></ul></div>"
   ]
  },
  {
   "cell_type": "code",
   "execution_count": 1,
   "metadata": {},
   "outputs": [
    {
     "name": "stdout",
     "output_type": "stream",
     "text": [
      "Ethen 2018-08-06 13:49:07 \n",
      "\n",
      "CPython 3.6.4\n",
      "IPython 6.4.0\n",
      "\n",
      "numpy 1.14.1\n",
      "pandas 0.23.0\n",
      "sklearn 0.19.1\n",
      "matplotlib 2.2.2\n"
     ]
    }
   ],
   "source": [
    "# 1. magic for inline plot\n",
    "# 2. magic to print version\n",
    "# 3. magic so that the notebook will reload external python modules\n",
    "# 4. magic to enable retina (high resolution) plots\n",
    "# https://gist.github.com/minrk/3301035\n",
    "%matplotlib inline\n",
    "%load_ext watermark\n",
    "%load_ext autoreload\n",
    "%autoreload 2\n",
    "%config InlineBackend.figure_format = 'retina'\n",
    "\n",
    "import os\n",
    "import numpy as np\n",
    "import pandas as pd\n",
    "import matplotlib.pyplot as plt\n",
    "from subprocess import call\n",
    "from sklearn.model_selection import train_test_split\n",
    "\n",
    "# change default style figure and font size\n",
    "plt.rcParams['figure.figsize'] = 8, 6\n",
    "plt.rcParams['font.size'] = 12\n",
    "\n",
    "%watermark -a 'Ethen' -d -t -v -p numpy,pandas,sklearn,matplotlib"
   ]
  },
  {
   "cell_type": "markdown",
   "metadata": {},
   "source": [
    "# Implicit"
   ]
  },
  {
   "cell_type": "markdown",
   "metadata": {},
   "source": [
    "## Movielens 100K"
   ]
  },
  {
   "cell_type": "code",
   "execution_count": 2,
   "metadata": {},
   "outputs": [
    {
     "name": "stdout",
     "output_type": "stream",
     "text": [
      "data dimension: \n",
      " (100000, 4)\n"
     ]
    },
    {
     "data": {
      "text/html": [
       "<div>\n",
       "<style scoped>\n",
       "    .dataframe tbody tr th:only-of-type {\n",
       "        vertical-align: middle;\n",
       "    }\n",
       "\n",
       "    .dataframe tbody tr th {\n",
       "        vertical-align: top;\n",
       "    }\n",
       "\n",
       "    .dataframe thead th {\n",
       "        text-align: right;\n",
       "    }\n",
       "</style>\n",
       "<table border=\"1\" class=\"dataframe\">\n",
       "  <thead>\n",
       "    <tr style=\"text-align: right;\">\n",
       "      <th></th>\n",
       "      <th>user_id</th>\n",
       "      <th>item_id</th>\n",
       "      <th>rating</th>\n",
       "      <th>timestamp</th>\n",
       "    </tr>\n",
       "  </thead>\n",
       "  <tbody>\n",
       "    <tr>\n",
       "      <th>0</th>\n",
       "      <td>196</td>\n",
       "      <td>242</td>\n",
       "      <td>3</td>\n",
       "      <td>881250949</td>\n",
       "    </tr>\n",
       "    <tr>\n",
       "      <th>1</th>\n",
       "      <td>186</td>\n",
       "      <td>302</td>\n",
       "      <td>3</td>\n",
       "      <td>891717742</td>\n",
       "    </tr>\n",
       "    <tr>\n",
       "      <th>2</th>\n",
       "      <td>22</td>\n",
       "      <td>377</td>\n",
       "      <td>1</td>\n",
       "      <td>878887116</td>\n",
       "    </tr>\n",
       "    <tr>\n",
       "      <th>3</th>\n",
       "      <td>244</td>\n",
       "      <td>51</td>\n",
       "      <td>2</td>\n",
       "      <td>880606923</td>\n",
       "    </tr>\n",
       "    <tr>\n",
       "      <th>4</th>\n",
       "      <td>166</td>\n",
       "      <td>346</td>\n",
       "      <td>1</td>\n",
       "      <td>886397596</td>\n",
       "    </tr>\n",
       "  </tbody>\n",
       "</table>\n",
       "</div>"
      ],
      "text/plain": [
       "   user_id  item_id  rating  timestamp\n",
       "0      196      242       3  881250949\n",
       "1      186      302       3  891717742\n",
       "2       22      377       1  878887116\n",
       "3      244       51       2  880606923\n",
       "4      166      346       1  886397596"
      ]
     },
     "execution_count": 2,
     "metadata": {},
     "output_type": "execute_result"
    }
   ],
   "source": [
    "# download the data if it's not in the same local directory\n",
    "file_dir = 'ml-100k'\n",
    "file_path = os.path.join(file_dir, 'u.data')\n",
    "if not os.path.isdir(file_dir):\n",
    "    call(['curl', '-O', 'http://files.grouplens.org/datasets/movielens/' + file_dir + '.zip'])\n",
    "    call(['unzip', file_dir + '.zip'])\n",
    "\n",
    "user_col = 'user_id'\n",
    "item_col = 'item_id'\n",
    "value_col = 'rating'\n",
    "timestamp_col = 'timestamp'\n",
    "names = [user_col, item_col, value_col, timestamp_col]\n",
    "df = pd.read_csv(file_path, sep = '\\t', names = names)\n",
    "print('data dimension: \\n', df.shape)\n",
    "df.head()"
   ]
  },
  {
   "cell_type": "code",
   "execution_count": 3,
   "metadata": {},
   "outputs": [
    {
     "name": "stdout",
     "output_type": "stream",
     "text": [
      "data dimension: \n",
      " (82520, 4)\n"
     ]
    },
    {
     "data": {
      "text/html": [
       "<div>\n",
       "<style scoped>\n",
       "    .dataframe tbody tr th:only-of-type {\n",
       "        vertical-align: middle;\n",
       "    }\n",
       "\n",
       "    .dataframe tbody tr th {\n",
       "        vertical-align: top;\n",
       "    }\n",
       "\n",
       "    .dataframe thead th {\n",
       "        text-align: right;\n",
       "    }\n",
       "</style>\n",
       "<table border=\"1\" class=\"dataframe\">\n",
       "  <thead>\n",
       "    <tr style=\"text-align: right;\">\n",
       "      <th></th>\n",
       "      <th>user_id</th>\n",
       "      <th>item_id</th>\n",
       "      <th>rating</th>\n",
       "      <th>timestamp</th>\n",
       "    </tr>\n",
       "  </thead>\n",
       "  <tbody>\n",
       "    <tr>\n",
       "      <th>0</th>\n",
       "      <td>196</td>\n",
       "      <td>242</td>\n",
       "      <td>3</td>\n",
       "      <td>881250949</td>\n",
       "    </tr>\n",
       "    <tr>\n",
       "      <th>1</th>\n",
       "      <td>186</td>\n",
       "      <td>302</td>\n",
       "      <td>3</td>\n",
       "      <td>891717742</td>\n",
       "    </tr>\n",
       "    <tr>\n",
       "      <th>5</th>\n",
       "      <td>298</td>\n",
       "      <td>474</td>\n",
       "      <td>4</td>\n",
       "      <td>884182806</td>\n",
       "    </tr>\n",
       "    <tr>\n",
       "      <th>7</th>\n",
       "      <td>253</td>\n",
       "      <td>465</td>\n",
       "      <td>5</td>\n",
       "      <td>891628467</td>\n",
       "    </tr>\n",
       "    <tr>\n",
       "      <th>8</th>\n",
       "      <td>305</td>\n",
       "      <td>451</td>\n",
       "      <td>3</td>\n",
       "      <td>886324817</td>\n",
       "    </tr>\n",
       "  </tbody>\n",
       "</table>\n",
       "</div>"
      ],
      "text/plain": [
       "   user_id  item_id  rating  timestamp\n",
       "0      196      242       3  881250949\n",
       "1      186      302       3  891717742\n",
       "5      298      474       4  884182806\n",
       "7      253      465       5  891628467\n",
       "8      305      451       3  886324817"
      ]
     },
     "execution_count": 3,
     "metadata": {},
     "output_type": "execute_result"
    }
   ],
   "source": [
    "# remove things < min_rating, and convert to implicit dataset\n",
    "# by considering ratings as a binary preference only\n",
    "min_rating = 3\n",
    "df = df[df[value_col] >= min_rating]\n",
    "print('data dimension: \\n', df.shape)\n",
    "df.head()"
   ]
  },
  {
   "cell_type": "code",
   "execution_count": 4,
   "metadata": {},
   "outputs": [
    {
     "data": {
      "text/plain": [
       "<1574x943 sparse matrix of type '<class 'numpy.float32'>'\n",
       "\twith 82520 stored elements in Compressed Sparse Row format>"
      ]
     },
     "execution_count": 4,
     "metadata": {},
     "output_type": "execute_result"
    }
   ],
   "source": [
    "from scipy.sparse import csr_matrix\n",
    "\n",
    "for col in (user_col, item_col):\n",
    "    df[col] = df[col].astype('category')\n",
    "\n",
    "# implicit expects item-user format, i.e.\n",
    "# the each rows represent an item and\n",
    "# each column represents a user\n",
    "rows = df[item_col].cat.codes\n",
    "cols = df[user_col].cat.codes\n",
    "values = df[value_col].astype(np.float32)\n",
    "ratings = csr_matrix((values, (rows, cols)))\n",
    "ratings"
   ]
  },
  {
   "cell_type": "code",
   "execution_count": 5,
   "metadata": {},
   "outputs": [
    {
     "name": "stderr",
     "output_type": "stream",
     "text": [
      "100%|██████████| 5.0/5 [00:00<00:00, 58.73it/s, loss=0.0453]\n"
     ]
    }
   ],
   "source": [
    "from implicit.als import AlternatingLeastSquares\n",
    "\n",
    "\n",
    "model = AlternatingLeastSquares(factors=50, regularization=0.05,\n",
    "                                iterations=5, calculate_training_loss=True)\n",
    "model.fit(ratings)"
   ]
  },
  {
   "cell_type": "markdown",
   "metadata": {},
   "source": [
    "## Model Interpretation"
   ]
  },
  {
   "cell_type": "markdown",
   "metadata": {},
   "source": [
    "The `u.item` contains meta-data about the items (movies). This file is a tab separated list of:\n",
    "\n",
    "movie id, movie title, release date, video release date, IMDb URL, unknown, Action, Adventure, Animation, Children's, Comedy, Crime, Documentary, Drama, Fantasy, Film-Noir, Horror, Musical, Mystery, Romance, Sci-Fi, Thriller, War, Western, The last 19 fields are the genres, a 1 indicates the movie is of that genre, a 0 indicates it is not; movies can be in several genres at once.\n",
    "\n",
    "The movie ids are the ones used in the `u.data` data set."
   ]
  },
  {
   "cell_type": "code",
   "execution_count": 6,
   "metadata": {},
   "outputs": [
    {
     "name": "stdout",
     "output_type": "stream",
     "text": [
      "dimension:  (100000, 24)\n"
     ]
    },
    {
     "data": {
      "text/html": [
       "<div>\n",
       "<style scoped>\n",
       "    .dataframe tbody tr th:only-of-type {\n",
       "        vertical-align: middle;\n",
       "    }\n",
       "\n",
       "    .dataframe tbody tr th {\n",
       "        vertical-align: top;\n",
       "    }\n",
       "\n",
       "    .dataframe thead th {\n",
       "        text-align: right;\n",
       "    }\n",
       "</style>\n",
       "<table border=\"1\" class=\"dataframe\">\n",
       "  <thead>\n",
       "    <tr style=\"text-align: right;\">\n",
       "      <th></th>\n",
       "      <th>movie_id</th>\n",
       "      <th>movie_title</th>\n",
       "      <th>release_date</th>\n",
       "      <th>video_release_date</th>\n",
       "      <th>IMDb_URL</th>\n",
       "      <th>unknown</th>\n",
       "      <th>Action</th>\n",
       "      <th>Adventure</th>\n",
       "      <th>Animation</th>\n",
       "      <th>Children</th>\n",
       "      <th>...</th>\n",
       "      <th>Fantasy</th>\n",
       "      <th>Film-Noir</th>\n",
       "      <th>Horror</th>\n",
       "      <th>Musical</th>\n",
       "      <th>Mystery</th>\n",
       "      <th>Romance</th>\n",
       "      <th>Sci-Fi</th>\n",
       "      <th>Thriller</th>\n",
       "      <th>War</th>\n",
       "      <th>Western</th>\n",
       "    </tr>\n",
       "  </thead>\n",
       "  <tbody>\n",
       "    <tr>\n",
       "      <th>0</th>\n",
       "      <td>196\\t242\\t3\\t881250949</td>\n",
       "      <td>NaN</td>\n",
       "      <td>NaN</td>\n",
       "      <td>NaN</td>\n",
       "      <td>NaN</td>\n",
       "      <td>NaN</td>\n",
       "      <td>NaN</td>\n",
       "      <td>NaN</td>\n",
       "      <td>NaN</td>\n",
       "      <td>NaN</td>\n",
       "      <td>...</td>\n",
       "      <td>NaN</td>\n",
       "      <td>NaN</td>\n",
       "      <td>NaN</td>\n",
       "      <td>NaN</td>\n",
       "      <td>NaN</td>\n",
       "      <td>NaN</td>\n",
       "      <td>NaN</td>\n",
       "      <td>NaN</td>\n",
       "      <td>NaN</td>\n",
       "      <td>NaN</td>\n",
       "    </tr>\n",
       "    <tr>\n",
       "      <th>1</th>\n",
       "      <td>186\\t302\\t3\\t891717742</td>\n",
       "      <td>NaN</td>\n",
       "      <td>NaN</td>\n",
       "      <td>NaN</td>\n",
       "      <td>NaN</td>\n",
       "      <td>NaN</td>\n",
       "      <td>NaN</td>\n",
       "      <td>NaN</td>\n",
       "      <td>NaN</td>\n",
       "      <td>NaN</td>\n",
       "      <td>...</td>\n",
       "      <td>NaN</td>\n",
       "      <td>NaN</td>\n",
       "      <td>NaN</td>\n",
       "      <td>NaN</td>\n",
       "      <td>NaN</td>\n",
       "      <td>NaN</td>\n",
       "      <td>NaN</td>\n",
       "      <td>NaN</td>\n",
       "      <td>NaN</td>\n",
       "      <td>NaN</td>\n",
       "    </tr>\n",
       "    <tr>\n",
       "      <th>2</th>\n",
       "      <td>22\\t377\\t1\\t878887116</td>\n",
       "      <td>NaN</td>\n",
       "      <td>NaN</td>\n",
       "      <td>NaN</td>\n",
       "      <td>NaN</td>\n",
       "      <td>NaN</td>\n",
       "      <td>NaN</td>\n",
       "      <td>NaN</td>\n",
       "      <td>NaN</td>\n",
       "      <td>NaN</td>\n",
       "      <td>...</td>\n",
       "      <td>NaN</td>\n",
       "      <td>NaN</td>\n",
       "      <td>NaN</td>\n",
       "      <td>NaN</td>\n",
       "      <td>NaN</td>\n",
       "      <td>NaN</td>\n",
       "      <td>NaN</td>\n",
       "      <td>NaN</td>\n",
       "      <td>NaN</td>\n",
       "      <td>NaN</td>\n",
       "    </tr>\n",
       "    <tr>\n",
       "      <th>3</th>\n",
       "      <td>244\\t51\\t2\\t880606923</td>\n",
       "      <td>NaN</td>\n",
       "      <td>NaN</td>\n",
       "      <td>NaN</td>\n",
       "      <td>NaN</td>\n",
       "      <td>NaN</td>\n",
       "      <td>NaN</td>\n",
       "      <td>NaN</td>\n",
       "      <td>NaN</td>\n",
       "      <td>NaN</td>\n",
       "      <td>...</td>\n",
       "      <td>NaN</td>\n",
       "      <td>NaN</td>\n",
       "      <td>NaN</td>\n",
       "      <td>NaN</td>\n",
       "      <td>NaN</td>\n",
       "      <td>NaN</td>\n",
       "      <td>NaN</td>\n",
       "      <td>NaN</td>\n",
       "      <td>NaN</td>\n",
       "      <td>NaN</td>\n",
       "    </tr>\n",
       "    <tr>\n",
       "      <th>4</th>\n",
       "      <td>166\\t346\\t1\\t886397596</td>\n",
       "      <td>NaN</td>\n",
       "      <td>NaN</td>\n",
       "      <td>NaN</td>\n",
       "      <td>NaN</td>\n",
       "      <td>NaN</td>\n",
       "      <td>NaN</td>\n",
       "      <td>NaN</td>\n",
       "      <td>NaN</td>\n",
       "      <td>NaN</td>\n",
       "      <td>...</td>\n",
       "      <td>NaN</td>\n",
       "      <td>NaN</td>\n",
       "      <td>NaN</td>\n",
       "      <td>NaN</td>\n",
       "      <td>NaN</td>\n",
       "      <td>NaN</td>\n",
       "      <td>NaN</td>\n",
       "      <td>NaN</td>\n",
       "      <td>NaN</td>\n",
       "      <td>NaN</td>\n",
       "    </tr>\n",
       "  </tbody>\n",
       "</table>\n",
       "<p>5 rows × 24 columns</p>\n",
       "</div>"
      ],
      "text/plain": [
       "                 movie_id  movie_title  release_date  video_release_date  \\\n",
       "0  196\\t242\\t3\\t881250949          NaN           NaN                 NaN   \n",
       "1  186\\t302\\t3\\t891717742          NaN           NaN                 NaN   \n",
       "2   22\\t377\\t1\\t878887116          NaN           NaN                 NaN   \n",
       "3   244\\t51\\t2\\t880606923          NaN           NaN                 NaN   \n",
       "4  166\\t346\\t1\\t886397596          NaN           NaN                 NaN   \n",
       "\n",
       "   IMDb_URL  unknown  Action  Adventure  Animation  Children   ...     \\\n",
       "0       NaN      NaN     NaN        NaN        NaN       NaN   ...      \n",
       "1       NaN      NaN     NaN        NaN        NaN       NaN   ...      \n",
       "2       NaN      NaN     NaN        NaN        NaN       NaN   ...      \n",
       "3       NaN      NaN     NaN        NaN        NaN       NaN   ...      \n",
       "4       NaN      NaN     NaN        NaN        NaN       NaN   ...      \n",
       "\n",
       "   Fantasy  Film-Noir  Horror  Musical  Mystery  Romance  Sci-Fi  Thriller  \\\n",
       "0      NaN        NaN     NaN      NaN      NaN      NaN     NaN       NaN   \n",
       "1      NaN        NaN     NaN      NaN      NaN      NaN     NaN       NaN   \n",
       "2      NaN        NaN     NaN      NaN      NaN      NaN     NaN       NaN   \n",
       "3      NaN        NaN     NaN      NaN      NaN      NaN     NaN       NaN   \n",
       "4      NaN        NaN     NaN      NaN      NaN      NaN     NaN       NaN   \n",
       "\n",
       "   War  Western  \n",
       "0  NaN      NaN  \n",
       "1  NaN      NaN  \n",
       "2  NaN      NaN  \n",
       "3  NaN      NaN  \n",
       "4  NaN      NaN  \n",
       "\n",
       "[5 rows x 24 columns]"
      ]
     },
     "execution_count": 6,
     "metadata": {},
     "output_type": "execute_result"
    }
   ],
   "source": [
    "names = [\n",
    "    'movie_id', 'movie_title', 'release_date', 'video_release_date',\n",
    "    'IMDb_URL', 'unknown', 'Action', 'Adventure', 'Animation',\n",
    "    'Children', 'Comedy', 'Crime', 'Documentary', 'Drama', 'Fantasy',\n",
    "    'Film-Noir', 'Horror', 'Musical', 'Mystery', 'Romance', 'Sci-Fi',\n",
    "    'Thriller', 'War', 'Western']\n",
    "item_metadata = pd.read_csv(file_path, sep='|', encoding='latin-1', names=names)\n",
    "print('dimension: ', item_metadata.shape)\n",
    "item_metadata.head()"
   ]
  },
  {
   "cell_type": "code",
   "execution_count": 7,
   "metadata": {},
   "outputs": [
    {
     "data": {
      "text/plain": [
       "'GoldenEye (1995)'"
      ]
     },
     "execution_count": 7,
     "metadata": {},
     "output_type": "execute_result"
    }
   ],
   "source": [
    "index2movie = {}\n",
    "file_path = os.path.join(file_dir, 'u.item')\n",
    "\n",
    "with open(file_path, encoding='latin1') as f:\n",
    "    for line in f.readlines():\n",
    "        info = line.split('|')\n",
    "        index = int(info[0]) - 1\n",
    "        movie = info[1]\n",
    "        index2movie[index] = movie\n",
    "\n",
    "index2movie[1]"
   ]
  },
  {
   "cell_type": "code",
   "execution_count": 8,
   "metadata": {},
   "outputs": [
    {
     "name": "stdout",
     "output_type": "stream",
     "text": [
      "GoldenEye (1995) GoldenEye (1995) 1.0000001\n",
      "GoldenEye (1995) Under Siege (1992) 0.7582087\n",
      "GoldenEye (1995) Mary Shelley's Frankenstein (1994) 0.6529077\n",
      "GoldenEye (1995) Die Hard 2 (1990) 0.6431297\n",
      "GoldenEye (1995) Body Snatchers (1993) 0.643068\n"
     ]
    }
   ],
   "source": [
    "movieid = 1\n",
    "if ratings.indptr[movieid] != ratings.indptr[movieid + 1]:\n",
    "    title = index2movie[movieid]\n",
    "    for similar_item, score in model.similar_items(movieid, N=5):\n",
    "        print(title, index2movie[similar_item], score)"
   ]
  },
  {
   "cell_type": "code",
   "execution_count": 15,
   "metadata": {},
   "outputs": [
    {
     "data": {
      "text/plain": [
       "(1574, 50)"
      ]
     },
     "execution_count": 15,
     "metadata": {},
     "output_type": "execute_result"
    }
   ],
   "source": [
    "from sklearn.decomposition import PCA\n",
    "\n",
    "pca = PCA()\n",
    "item_factors_pca = pca.fit_transform(model.item_factors)\n",
    "item_factors_pca.shape"
   ]
  },
  {
   "cell_type": "code",
   "execution_count": 16,
   "metadata": {},
   "outputs": [
    {
     "data": {
      "text/plain": [
       "array([0.06453663, 0.04607013, 0.04138038, 0.03779353, 0.03071558,\n",
       "       0.02808258, 0.02616329, 0.02490851, 0.02360559, 0.022663  ,\n",
       "       0.02179698, 0.02113239, 0.02059747, 0.01997002, 0.01972391,\n",
       "       0.01963055, 0.01926829, 0.01899473, 0.01808385, 0.01802022,\n",
       "       0.01780541, 0.01738336, 0.01732925, 0.01693604, 0.01690188,\n",
       "       0.01676378, 0.01657589, 0.01649823, 0.01616263, 0.01610222,\n",
       "       0.01602447, 0.01594338, 0.01569973, 0.01561498, 0.01545062,\n",
       "       0.01521774, 0.01513517, 0.0150071 , 0.01494769, 0.01480642,\n",
       "       0.01465308, 0.01440753, 0.0143018 , 0.01415103, 0.01403544,\n",
       "       0.0138078 , 0.01368873, 0.01329734, 0.01316874, 0.00904493],\n",
       "      dtype=float32)"
      ]
     },
     "execution_count": 16,
     "metadata": {},
     "output_type": "execute_result"
    }
   ],
   "source": [
    "pca.explained_variance_ratio_"
   ]
  },
  {
   "cell_type": "code",
   "execution_count": 10,
   "metadata": {},
   "outputs": [
    {
     "data": {
      "text/plain": [
       "array([284, 267, 268, 301, 285])"
      ]
     },
     "execution_count": 10,
     "metadata": {},
     "output_type": "execute_result"
    }
   ],
   "source": [
    "topn = 5\n",
    "scores = item_factors_pca[:, 0]\n",
    "highest_score_items = np.argpartition(scores, -topn)[-topn:]\n",
    "highest_score_items"
   ]
  },
  {
   "cell_type": "code",
   "execution_count": 11,
   "metadata": {},
   "outputs": [
    {
     "name": "stdout",
     "output_type": "stream",
     "text": [
      "Secrets & Lies (1996)\n",
      "Chasing Amy (1997)\n",
      "Full Monty, The (1997)\n",
      "L.A. Confidential (1997)\n",
      "English Patient, The (1996)\n"
     ]
    }
   ],
   "source": [
    "for item in highest_score_items:\n",
    "    print(index2movie[item])"
   ]
  },
  {
   "cell_type": "code",
   "execution_count": 12,
   "metadata": {},
   "outputs": [
    {
     "data": {
      "text/plain": [
       "array([ 72, 391, 383, 160,  93])"
      ]
     },
     "execution_count": 12,
     "metadata": {},
     "output_type": "execute_result"
    }
   ],
   "source": [
    "lowest_score_items = np.argpartition(scores, topn)[:topn]\n",
    "lowest_score_items"
   ]
  },
  {
   "cell_type": "code",
   "execution_count": 13,
   "metadata": {},
   "outputs": [
    {
     "name": "stdout",
     "output_type": "stream",
     "text": [
      "Maverick (1994)\n",
      "Man Without a Face, The (1993)\n",
      "Naked Gun 33 1/3: The Final Insult (1994)\n",
      "Top Gun (1986)\n",
      "Home Alone (1990)\n"
     ]
    }
   ],
   "source": [
    "for item in lowest_score_items:\n",
    "    print(index2movie[item])"
   ]
  },
  {
   "cell_type": "markdown",
   "metadata": {},
   "source": [
    "## LastFM"
   ]
  },
  {
   "cell_type": "code",
   "execution_count": 2,
   "metadata": {},
   "outputs": [
    {
     "name": "stdout",
     "output_type": "stream",
     "text": [
      "dimensions: (17535451, 3)\n"
     ]
    },
    {
     "data": {
      "text/html": [
       "<div>\n",
       "<style scoped>\n",
       "    .dataframe tbody tr th:only-of-type {\n",
       "        vertical-align: middle;\n",
       "    }\n",
       "\n",
       "    .dataframe tbody tr th {\n",
       "        vertical-align: top;\n",
       "    }\n",
       "\n",
       "    .dataframe thead th {\n",
       "        text-align: right;\n",
       "    }\n",
       "</style>\n",
       "<table border=\"1\" class=\"dataframe\">\n",
       "  <thead>\n",
       "    <tr style=\"text-align: right;\">\n",
       "      <th></th>\n",
       "      <th>user</th>\n",
       "      <th>artist</th>\n",
       "      <th>plays</th>\n",
       "    </tr>\n",
       "  </thead>\n",
       "  <tbody>\n",
       "    <tr>\n",
       "      <th>0</th>\n",
       "      <td>00000c289a1829a808ac09c00daf10bc3c4e223b</td>\n",
       "      <td>betty blowtorch</td>\n",
       "      <td>2137</td>\n",
       "    </tr>\n",
       "    <tr>\n",
       "      <th>1</th>\n",
       "      <td>00000c289a1829a808ac09c00daf10bc3c4e223b</td>\n",
       "      <td>die Ärzte</td>\n",
       "      <td>1099</td>\n",
       "    </tr>\n",
       "    <tr>\n",
       "      <th>2</th>\n",
       "      <td>00000c289a1829a808ac09c00daf10bc3c4e223b</td>\n",
       "      <td>melissa etheridge</td>\n",
       "      <td>897</td>\n",
       "    </tr>\n",
       "    <tr>\n",
       "      <th>3</th>\n",
       "      <td>00000c289a1829a808ac09c00daf10bc3c4e223b</td>\n",
       "      <td>elvenking</td>\n",
       "      <td>717</td>\n",
       "    </tr>\n",
       "    <tr>\n",
       "      <th>4</th>\n",
       "      <td>00000c289a1829a808ac09c00daf10bc3c4e223b</td>\n",
       "      <td>juliette &amp; the licks</td>\n",
       "      <td>706</td>\n",
       "    </tr>\n",
       "  </tbody>\n",
       "</table>\n",
       "</div>"
      ],
      "text/plain": [
       "                                       user                artist  plays\n",
       "0  00000c289a1829a808ac09c00daf10bc3c4e223b       betty blowtorch   2137\n",
       "1  00000c289a1829a808ac09c00daf10bc3c4e223b             die Ärzte   1099\n",
       "2  00000c289a1829a808ac09c00daf10bc3c4e223b     melissa etheridge    897\n",
       "3  00000c289a1829a808ac09c00daf10bc3c4e223b             elvenking    717\n",
       "4  00000c289a1829a808ac09c00daf10bc3c4e223b  juliette & the licks    706"
      ]
     },
     "execution_count": 2,
     "metadata": {},
     "output_type": "execute_result"
    }
   ],
   "source": [
    "def load_lastfm():\n",
    "    \"\"\"\n",
    "    Load lastfm data and returns the dataset\n",
    "    in dataframe and csr_matrix format, will\n",
    "    download it if it doesn't exist in the same\n",
    "    folder. Depending on our network speed, the\n",
    "    download might take a while.\n",
    "    \"\"\"\n",
    "\n",
    "    file_dir = 'lastfm-dataset-360K'\n",
    "    file_path = os.path.join(file_dir, 'usersha1-artmbid-artname-plays.tsv')\n",
    "    if not os.path.isdir(file_dir):\n",
    "        call(['curl', '-O', 'http://mtg.upf.edu/static/datasets/last.fm/lastfm-dataset-360K.tar.gz'])     \n",
    "        call(['tar', '-xvzf', 'lastfm-dataset-360K.tar.gz'])\n",
    "\n",
    "    # read in triplets of user/artist/playcount from the input dataset\n",
    "    col_names = ['user', 'artist', 'plays']\n",
    "    df = pd.read_csv(file_path, sep = '\\t', usecols = [0, 2, 3], names = col_names)\n",
    "\n",
    "    # there are 2 rows that contains NaN value, simply drop them\n",
    "    df = df.dropna(axis = 0)\n",
    "    return df\n",
    "\n",
    "\n",
    "df = load_lastfm()\n",
    "print('dimensions:', df.shape)\n",
    "df.head()"
   ]
  },
  {
   "cell_type": "code",
   "execution_count": 3,
   "metadata": {},
   "outputs": [
    {
     "name": "stdout",
     "output_type": "stream",
     "text": [
      "dimension: (10521270, 3)\n"
     ]
    }
   ],
   "source": [
    "from sklearn.model_selection import train_test_split\n",
    "\n",
    "df_train, df_test = train_test_split(df, test_size=0.4, random_state=1234)\n",
    "print('dimension:', df_train.shape)"
   ]
  },
  {
   "cell_type": "code",
   "execution_count": 4,
   "metadata": {},
   "outputs": [],
   "source": [
    "import numpy as np\n",
    "from scipy.sparse import csr_matrix\n",
    "from implicit.bpr import BayesianPersonalizedRanking\n",
    "\n",
    "\n",
    "class MatrixFactorizationPipeline:\n",
    "\n",
    "    def __init__(self, user_col, item_col, value_col):\n",
    "        self.user_col = user_col\n",
    "        self.item_col = item_col\n",
    "        self.value_col = value_col\n",
    "\n",
    "    def fit(self, data):\n",
    "        for col in (self.user_col, self.item_col):\n",
    "            data[col] = data[col].astype('category')\n",
    "\n",
    "        rows = data[self.item_col].cat.codes\n",
    "        cols = data[self.user_col].cat.codes\n",
    "        values = data[self.value_col].astype(np.float32)\n",
    "        item_users = csr_matrix((values, (rows, cols)))\n",
    "\n",
    "        n_factors = 50\n",
    "        model = BayesianPersonalizedRanking(factors=n_factors, iterations=10, num_threads=0)\n",
    "        model.fit(item_users)\n",
    "\n",
    "        self.user_factors_ = model.user_factors\n",
    "        self.item_factors_ = model.item_factors\n",
    "        self.index2user_ = data[self.user_col].cat.categories\n",
    "        self.index2item_ = data[self.item_col].cat.categories\n",
    "\n",
    "        self.user2index_ = {v: k for k, v in enumerate(self.index2user_)}\n",
    "        self.item2index_ = {v: k for k, v in enumerate(self.index2item_)}\n",
    "        return self"
   ]
  },
  {
   "cell_type": "code",
   "execution_count": 5,
   "metadata": {},
   "outputs": [
    {
     "name": "stderr",
     "output_type": "stream",
     "text": [
      "100%|██████████| 10/10 [00:14<00:00,  1.43s/it, correct=62.41%, skipped=1.33%]\n"
     ]
    },
    {
     "data": {
      "text/plain": [
       "<__main__.MatrixFactorizationPipeline at 0x112529400>"
      ]
     },
     "execution_count": 5,
     "metadata": {},
     "output_type": "execute_result"
    }
   ],
   "source": [
    "user_col = 'user'\n",
    "item_col = 'artist'\n",
    "value_col = 'plays'\n",
    "model1 = MatrixFactorizationPipeline(user_col, item_col, value_col)\n",
    "model1.fit(df_train.copy())"
   ]
  },
  {
   "cell_type": "code",
   "execution_count": 6,
   "metadata": {},
   "outputs": [
    {
     "name": "stderr",
     "output_type": "stream",
     "text": [
      "100%|██████████| 10/10 [00:09<00:00,  1.10it/s, correct=50.46%, skipped=0.90%]\n"
     ]
    },
    {
     "data": {
      "text/plain": [
       "<__main__.MatrixFactorizationPipeline at 0x10c756b00>"
      ]
     },
     "execution_count": 6,
     "metadata": {},
     "output_type": "execute_result"
    }
   ],
   "source": [
    "model2 = MatrixFactorizationPipeline(user_col, item_col, value_col)\n",
    "model2.fit(df_test.copy())"
   ]
  },
  {
   "cell_type": "code",
   "execution_count": 32,
   "metadata": {},
   "outputs": [
    {
     "name": "stdout",
     "output_type": "stream",
     "text": [
      "232689\n",
      "194393\n"
     ]
    }
   ],
   "source": [
    "print(len(model1.index2item_))\n",
    "print(len(model2.index2item_))\n",
    "\n",
    "items_in_both_embedding = set(model1.index2item_) & set(model2.index2item_)\n",
    "print(len(items_in_both_embedding))"
   ]
  },
  {
   "cell_type": "code",
   "execution_count": 17,
   "metadata": {},
   "outputs": [],
   "source": [
    "model1_index = [model1.item2index_[item] for item in items_in_both_embedding]\n",
    "model2_index = [model2.item2index_[item] for item in items_in_both_embedding]\n",
    "\n",
    "assert model2.index2item_[model2_index[0]] == model1.index2item_[model1_index[0]]"
   ]
  },
  {
   "cell_type": "code",
   "execution_count": 18,
   "metadata": {},
   "outputs": [],
   "source": [
    "model1_common_item_factors = model1.item_factors_[model1_index]\n",
    "model2_common_item_factors = model2.item_factors_[model2_index]"
   ]
  },
  {
   "cell_type": "code",
   "execution_count": 25,
   "metadata": {},
   "outputs": [],
   "source": [
    "L0 = model1_common_item_factors\n",
    "L1 = model2_common_item_factors\n",
    "\n",
    "L1_inv = np.linalg.pinv(L1)\n",
    "T = np.dot(L1_inv, L0)\n",
    "u, s, v = np.linalg.svd(T)\n",
    "si = np.eye(u.shape[0], v.shape[0])\n",
    "T_rot = np.dot(u, np.dot(si, v))\n",
    "L1_rot = np.dot(L1, T_rot)"
   ]
  },
  {
   "cell_type": "code",
   "execution_count": 26,
   "metadata": {},
   "outputs": [
    {
     "data": {
      "text/plain": [
       "(134719, 51)"
      ]
     },
     "execution_count": 26,
     "metadata": {},
     "output_type": "execute_result"
    }
   ],
   "source": [
    "L1_rot.shape"
   ]
  },
  {
   "cell_type": "code",
   "execution_count": 21,
   "metadata": {},
   "outputs": [
    {
     "data": {
      "text/plain": [
       "(134719, 51)"
      ]
     },
     "execution_count": 21,
     "metadata": {},
     "output_type": "execute_result"
    }
   ],
   "source": [
    "model1_common_item_factors.shape"
   ]
  },
  {
   "cell_type": "code",
   "execution_count": 33,
   "metadata": {},
   "outputs": [
    {
     "data": {
      "text/plain": [
       "array([21, 10, 39, 30, 16, 13, 37, 15, 25, 50])"
      ]
     },
     "execution_count": 33,
     "metadata": {},
     "output_type": "execute_result"
    }
   ],
   "source": [
    "topn = 10\n",
    "scores = model1_common_item_factors[0, :]\n",
    "highest_score_items = np.argpartition(scores, -topn)[-topn:]\n",
    "highest_score_items"
   ]
  },
  {
   "cell_type": "code",
   "execution_count": 34,
   "metadata": {},
   "outputs": [
    {
     "data": {
      "text/plain": [
       "array([43, 36,  2,  1, 11, 29, 19,  0, 45, 50])"
      ]
     },
     "execution_count": 34,
     "metadata": {},
     "output_type": "execute_result"
    }
   ],
   "source": [
    "topn = 10\n",
    "scores = model2_common_item_factors[0, :]\n",
    "highest_score_items = np.argpartition(scores, -topn)[-topn:]\n",
    "highest_score_items"
   ]
  },
  {
   "cell_type": "code",
   "execution_count": 35,
   "metadata": {},
   "outputs": [
    {
     "data": {
      "text/plain": [
       "array([ 9, 11, 34, 21, 36, 41, 20, 26,  6,  0])"
      ]
     },
     "execution_count": 35,
     "metadata": {},
     "output_type": "execute_result"
    }
   ],
   "source": [
    "topn = 10\n",
    "scores = L1_rot[0, :]\n",
    "highest_score_items = np.argpartition(scores, -topn)[-topn:]\n",
    "highest_score_items"
   ]
  },
  {
   "cell_type": "code",
   "execution_count": 29,
   "metadata": {},
   "outputs": [
    {
     "data": {
      "text/plain": [
       "array([ 89696, 124989,  70130,  27935, 102439])"
      ]
     },
     "execution_count": 29,
     "metadata": {},
     "output_type": "execute_result"
    }
   ],
   "source": [
    "from sklearn.decomposition import PCA\n",
    "\n",
    "pca = PCA(n_components=5)\n",
    "item_factors_pca = pca.fit_transform(model1_common_item_factors)\n",
    "scores = item_factors_pca[:, 0]\n",
    "highest_score_items = np.argpartition(scores, -topn)[-topn:]\n",
    "highest_score_items"
   ]
  },
  {
   "cell_type": "code",
   "execution_count": 32,
   "metadata": {},
   "outputs": [
    {
     "data": {
      "text/plain": [
       "(134719, 5)"
      ]
     },
     "execution_count": 32,
     "metadata": {},
     "output_type": "execute_result"
    }
   ],
   "source": [
    "item_factors_pca.shape"
   ]
  },
  {
   "cell_type": "code",
   "execution_count": 30,
   "metadata": {},
   "outputs": [
    {
     "data": {
      "text/plain": [
       "array([ 53474, 119670,  26137, 116516, 101698])"
      ]
     },
     "execution_count": 30,
     "metadata": {},
     "output_type": "execute_result"
    }
   ],
   "source": [
    "item_factors_pca = pca.fit_transform(model2_common_item_factors)\n",
    "scores = item_factors_pca[:, 0]\n",
    "highest_score_items = np.argpartition(scores, -topn)[-topn:]\n",
    "highest_score_items"
   ]
  },
  {
   "cell_type": "code",
   "execution_count": 31,
   "metadata": {},
   "outputs": [
    {
     "data": {
      "text/plain": [
       "array([ 53474, 119670,  26137, 116516, 101698])"
      ]
     },
     "execution_count": 31,
     "metadata": {},
     "output_type": "execute_result"
    }
   ],
   "source": [
    "item_factors_pca = pca.fit_transform(L1_rot)\n",
    "scores = item_factors_pca[:, 0]\n",
    "highest_score_items = np.argpartition(scores, -topn)[-topn:]\n",
    "highest_score_items"
   ]
  },
  {
   "cell_type": "code",
   "execution_count": null,
   "metadata": {},
   "outputs": [],
   "source": [
    "# 1. split the dataset into two parts\n",
    "# 2. train two embeddings and see if the embeddings meaning change\n",
    "# e.g. use pca to check or see whether for a given item, its embedding\n",
    "# feature's distribution is similar, e.g. it will have a high score for dimension 0\n",
    "# on both embeddings\n",
    "# 3. if they do, train the rotation solution (find the common item ids\n",
    "# and find the rotation matrix, then rotate both the new item and user embedding)"
   ]
  },
  {
   "cell_type": "markdown",
   "metadata": {},
   "source": [
    "## BPR"
   ]
  },
  {
   "cell_type": "code",
   "execution_count": null,
   "metadata": {},
   "outputs": [],
   "source": [
    "import numpy as np\n",
    "from implicit.bpr import BayesianPersonalizedRanking\n",
    "from implicit.datasets.movielens import get_movielens\n",
    "\n",
    "titles, ratings = get_movielens(variant='100k')\n",
    "print(titles)\n",
    "ratings"
   ]
  },
  {
   "cell_type": "code",
   "execution_count": null,
   "metadata": {},
   "outputs": [],
   "source": [
    "# remove things < min_rating, and convert to implicit dataset\n",
    "# by considering ratings as a binary preference only\n",
    "min_rating = 4.0\n",
    "ratings.data[ratings.data < min_rating] = 0\n",
    "ratings.eliminate_zeros()\n",
    "ratings.data = np.ones(len(ratings.data))"
   ]
  },
  {
   "cell_type": "code",
   "execution_count": null,
   "metadata": {},
   "outputs": [],
   "source": [
    "model = BayesianPersonalizedRanking(factors=30, iterations=10)\n",
    "model.fit(ratings)"
   ]
  },
  {
   "cell_type": "code",
   "execution_count": null,
   "metadata": {},
   "outputs": [],
   "source": [
    "movieid = 1\n",
    "if ratings.indptr[movieid] != ratings.indptr[movieid + 1]:\n",
    "    title = titles[movieid]\n",
    "    for other, score in model.similar_items(movieid, N=5):\n",
    "        print(title, titles[other], score)"
   ]
  }
 ],
 "metadata": {
  "kernelspec": {
   "display_name": "Python 3",
   "language": "python",
   "name": "python3"
  },
  "language_info": {
   "codemirror_mode": {
    "name": "ipython",
    "version": 3
   },
   "file_extension": ".py",
   "mimetype": "text/x-python",
   "name": "python",
   "nbconvert_exporter": "python",
   "pygments_lexer": "ipython3",
   "version": "3.6.4"
  },
  "toc": {
   "nav_menu": {},
   "number_sections": true,
   "sideBar": true,
   "skip_h1_title": false,
   "title_cell": "Table of Contents",
   "title_sidebar": "Contents",
   "toc_cell": true,
   "toc_position": {
    "height": "calc(100% - 180px)",
    "left": "10px",
    "top": "150px",
    "width": "238px"
   },
   "toc_section_display": true,
   "toc_window_display": true
  },
  "varInspector": {
   "cols": {
    "lenName": 16,
    "lenType": 16,
    "lenVar": 40
   },
   "kernels_config": {
    "python": {
     "delete_cmd_postfix": "",
     "delete_cmd_prefix": "del ",
     "library": "var_list.py",
     "varRefreshCmd": "print(var_dic_list())"
    },
    "r": {
     "delete_cmd_postfix": ") ",
     "delete_cmd_prefix": "rm(",
     "library": "var_list.r",
     "varRefreshCmd": "cat(var_dic_list()) "
    }
   },
   "types_to_exclude": [
    "module",
    "function",
    "builtin_function_or_method",
    "instance",
    "_Feature"
   ],
   "window_display": false
  }
 },
 "nbformat": 4,
 "nbformat_minor": 2
}
