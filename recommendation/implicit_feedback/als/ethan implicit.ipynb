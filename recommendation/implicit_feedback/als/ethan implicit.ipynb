{
 "cells": [
  {
   "cell_type": "code",
   "execution_count": 1,
   "metadata": {},
   "outputs": [
    {
     "data": {
      "text/html": [
       "<style>\n",
       "@import url('http://fonts.googleapis.com/css?family=Source+Code+Pro');\n",
       "@import url('http://fonts.googleapis.com/css?family=Vollkorn');\n",
       "@import url('http://fonts.googleapis.com/css?family=Arimo');\n",
       "@import url('http://fonts.googleapis.com/css?family=Fira_sans');\n",
       "    \n",
       "    div.cell {\n",
       "        width: 1000px;\n",
       "        margin-left: 0% !important;\n",
       "        margin-right: auto;\n",
       "    }\n",
       "    div.text_cell code {\n",
       "        background: transparent;\n",
       "        color: #000000;\n",
       "        font-weight: 600;\n",
       "        font-size: 12pt;\n",
       "        font-style: bold;\n",
       "        font-family:  'Source Code Pro', Consolas, monocco, monospace;\n",
       "    }\n",
       "    h1 {\n",
       "        font-family: 'Open sans',verdana,arial,sans-serif;\n",
       "\t}\n",
       "\t\n",
       "    div.input_area {\n",
       "        background: #F6F6F9;\n",
       "        border: 1px solid #586e75;\n",
       "    }\n",
       "\n",
       "    .text_cell_render h1 {\n",
       "        font-weight: 200;\n",
       "        font-size: 30pt;\n",
       "        line-height: 100%;\n",
       "        color:#c76c0c;\n",
       "        margin-bottom: 0.5em;\n",
       "        margin-top: 1em;\n",
       "        display: block;\n",
       "        white-space: wrap;\n",
       "        text-align: left;\n",
       "    } \n",
       "    h2 {\n",
       "        font-family: 'Open sans',verdana,arial,sans-serif;\n",
       "        text-align: left;\n",
       "    }\n",
       "    .text_cell_render h2 {\n",
       "        font-weight: 200;\n",
       "        font-size: 16pt;\n",
       "        font-style: italic;\n",
       "        line-height: 100%;\n",
       "        color:#c76c0c;\n",
       "        margin-bottom: 0.5em;\n",
       "        margin-top: 1.5em;\n",
       "        display: block;\n",
       "        white-space: wrap;\n",
       "        text-align: left;\n",
       "    } \n",
       "    h3 {\n",
       "        font-family: 'Open sans',verdana,arial,sans-serif;\n",
       "    }\n",
       "    .text_cell_render h3 {\n",
       "        font-weight: 200;\n",
       "        font-size: 14pt;\n",
       "        line-height: 100%;\n",
       "        color:#d77c0c;\n",
       "        margin-bottom: 0.5em;\n",
       "        margin-top: 2em;\n",
       "        display: block;\n",
       "        white-space: wrap;\n",
       "        text-align: left;\n",
       "    }\n",
       "    h4 {\n",
       "        font-family: 'Open sans',verdana,arial,sans-serif;\n",
       "    }\n",
       "    .text_cell_render h4 {\n",
       "        font-weight: 100;\n",
       "        font-size: 14pt;\n",
       "        color:#d77c0c;\n",
       "        margin-bottom: 0.5em;\n",
       "        margin-top: 0.5em;\n",
       "        display: block;\n",
       "        white-space: nowrap;\n",
       "    }\n",
       "    h5 {\n",
       "        font-family: 'Open sans',verdana,arial,sans-serif;\n",
       "    }\n",
       "    .text_cell_render h5 {\n",
       "        font-weight: 200;\n",
       "        font-style: normal;\n",
       "        color: #1d3b84;\n",
       "        font-size: 16pt;\n",
       "        margin-bottom: 0em;\n",
       "        margin-top: 0.5em;\n",
       "        display: block;\n",
       "        white-space: nowrap;\n",
       "    }\n",
       "    div.text_cell_render{\n",
       "        font-family: 'Fira sans', verdana,arial,sans-serif;\n",
       "        line-height: 125%;\n",
       "        font-size: 115%;\n",
       "        text-align:justify;\n",
       "        text-justify:inter-word;\n",
       "    }\n",
       "    div.output_wrapper{\n",
       "        margin-top:0.2em;\n",
       "        margin-bottom:0.2em;\n",
       "    }\n",
       "\n",
       "    code{\n",
       "      font-size: 70%;\n",
       "    }\n",
       "    .rendered_html code{\n",
       "    background-color: transparent;\n",
       "    }\n",
       "    ul{\n",
       "        margin: 2em;\n",
       "    }\n",
       "    ul li{\n",
       "        padding-left: 0.5em; \n",
       "        margin-bottom: 0.5em; \n",
       "        margin-top: 0.5em; \n",
       "    }\n",
       "    ul li li{\n",
       "        padding-left: 0.2em; \n",
       "        margin-bottom: 0.2em; \n",
       "        margin-top: 0.2em; \n",
       "    }\n",
       "    ol{\n",
       "        margin: 2em;\n",
       "    }\n",
       "    ol li{\n",
       "        padding-left: 0.5em; \n",
       "        margin-bottom: 0.5em; \n",
       "        margin-top: 0.5em; \n",
       "    }\n",
       "    ul li{\n",
       "        padding-left: 0.5em; \n",
       "        margin-bottom: 0.5em; \n",
       "        margin-top: 0.2em; \n",
       "    }\n",
       "    a:link{\n",
       "       font-weight: bold;\n",
       "       color:#447adb;\n",
       "    }\n",
       "    a:visited{\n",
       "       font-weight: bold;\n",
       "       color: #1d3b84;\n",
       "    }\n",
       "    a:hover{\n",
       "       font-weight: bold;\n",
       "       color: #1d3b84;\n",
       "    }\n",
       "    a:focus{\n",
       "       font-weight: bold;\n",
       "       color:#447adb;\n",
       "    }\n",
       "    a:active{\n",
       "       font-weight: bold;\n",
       "       color:#447adb;\n",
       "    }\n",
       "    .rendered_html :link {\n",
       "       text-decoration: underline; \n",
       "    }\n",
       "    .rendered_html :hover {\n",
       "       text-decoration: none; \n",
       "    }\n",
       "    .rendered_html :visited {\n",
       "      text-decoration: none;\n",
       "    }\n",
       "    .rendered_html :focus {\n",
       "      text-decoration: none;\n",
       "    }\n",
       "    .rendered_html :active {\n",
       "      text-decoration: none;\n",
       "    }\n",
       "    .warning{\n",
       "        color: rgb( 240, 20, 20 )\n",
       "    } \n",
       "    hr {\n",
       "      color: #f3f3f3;\n",
       "      background-color: #f3f3f3;\n",
       "      height: 1px;\n",
       "    }\n",
       "    blockquote{\n",
       "      display:block;\n",
       "      background: #fcfcfc;\n",
       "      border-left: 5px solid #c76c0c;\n",
       "      font-family: 'Open sans',verdana,arial,sans-serif;\n",
       "      width:680px;\n",
       "      padding: 10px 10px 10px 10px;\n",
       "      text-align:justify;\n",
       "      text-justify:inter-word;\n",
       "      }\n",
       "      blockquote p {\n",
       "        margin-bottom: 0;\n",
       "        line-height: 125%;\n",
       "        font-size: 100%;\n",
       "      }\n",
       "</style>\n",
       "<script>\n",
       "    MathJax.Hub.Config({\n",
       "                        TeX: {\n",
       "                           extensions: [\"AMSmath.js\"]\n",
       "                           },\n",
       "                tex2jax: {\n",
       "                    inlineMath: [ ['$','$'], [\"\\\\(\",\"\\\\)\"] ],\n",
       "                    displayMath: [ ['$$','$$'], [\"\\\\[\",\"\\\\]\"] ]\n",
       "                },\n",
       "                displayAlign: 'center', // Change this to 'center' to center equations.\n",
       "                \"HTML-CSS\": {\n",
       "                    scale:100,\n",
       "                        availableFonts: [],\n",
       "                        preferredFont:null,\n",
       "                        webFont: \"TeX\",\n",
       "                    styles: {'.MathJax_Display': {\"margin\": 4}}\n",
       "                }\n",
       "        });\n",
       "</script>\n"
      ],
      "text/plain": [
       "<IPython.core.display.HTML object>"
      ]
     },
     "execution_count": 1,
     "metadata": {},
     "output_type": "execute_result"
    }
   ],
   "source": [
    "# code for loading the format for the notebook\n",
    "import os\n",
    "\n",
    "# path : store the current path to convert back to it later\n",
    "path = os.getcwd()\n",
    "os.chdir( os.path.join('..', '..', 'notebook_format') )\n",
    "from formats import load_style\n",
    "load_style()"
   ]
  },
  {
   "cell_type": "code",
   "execution_count": 2,
   "metadata": {},
   "outputs": [
    {
     "name": "stdout",
     "output_type": "stream",
     "text": [
      "Ethen 2017-02-02 16:14:33 \n",
      "\n",
      "CPython 3.5.2\n",
      "IPython 4.2.0\n",
      "\n",
      "numpy 1.12.0\n",
      "pandas 0.19.2\n",
      "matplotlib 2.0.0\n",
      "sklearn 0.18\n",
      "scipy 0.18.1\n"
     ]
    }
   ],
   "source": [
    "os.chdir(path)\n",
    "%matplotlib inline\n",
    "import numpy as np\n",
    "import pandas as pd\n",
    "import matplotlib.pyplot as plt\n",
    "plt.rcParams['figure.figsize'] = 8, 6 # change default figure size\n",
    "plt.rcParams['font.size'] = 12 # and font size\n",
    "\n",
    "# 1. magic to print version\n",
    "# 2. magic so that the notebook will reload external python modules\n",
    "%load_ext watermark\n",
    "%load_ext autoreload \n",
    "%autoreload 2\n",
    "\n",
    "import time\n",
    "from scipy.sparse import csr_matrix, dok_matrix\n",
    "from sklearn.metrics import mean_squared_error\n",
    "\n",
    "%watermark -a 'Ethen' -d -t -v -p numpy,pandas,matplotlib,sklearn,scipy"
   ]
  },
  {
   "cell_type": "markdown",
   "metadata": {},
   "source": [
    "http://blog.ethanrosenthal.com/2016/10/19/implicit-mf-part-1/"
   ]
  },
  {
   "cell_type": "code",
   "execution_count": 3,
   "metadata": {},
   "outputs": [
    {
     "name": "stdout",
     "output_type": "stream",
     "text": [
      "Drop duplicated rows:  155\n",
      "dimension:  (632677, 2)\n"
     ]
    },
    {
     "data": {
      "text/html": [
       "<div>\n",
       "<table border=\"1\" class=\"dataframe\">\n",
       "  <thead>\n",
       "    <tr style=\"text-align: right;\">\n",
       "      <th></th>\n",
       "      <th>mid</th>\n",
       "      <th>uid</th>\n",
       "    </tr>\n",
       "  </thead>\n",
       "  <tbody>\n",
       "    <tr>\n",
       "      <th>0</th>\n",
       "      <td>5dcebcfaedbd4e7b8a27bd1ae55f1ac3</td>\n",
       "      <td>7ac1b40648fff523d7220a5d07b04d9b</td>\n",
       "    </tr>\n",
       "    <tr>\n",
       "      <th>1</th>\n",
       "      <td>5dcebcfaedbd4e7b8a27bd1ae55f1ac3</td>\n",
       "      <td>2b4ad286afe3369d39f1bb7aa2528bc7</td>\n",
       "    </tr>\n",
       "    <tr>\n",
       "      <th>2</th>\n",
       "      <td>5dcebcfaedbd4e7b8a27bd1ae55f1ac3</td>\n",
       "      <td>1bf0993ebab175a896ac8003bed91b4b</td>\n",
       "    </tr>\n",
       "    <tr>\n",
       "      <th>3</th>\n",
       "      <td>5dcebcfaedbd4e7b8a27bd1ae55f1ac3</td>\n",
       "      <td>6484211de8b9a023a7d9ab1641d22e7c</td>\n",
       "    </tr>\n",
       "    <tr>\n",
       "      <th>4</th>\n",
       "      <td>5dcebcfaedbd4e7b8a27bd1ae55f1ac3</td>\n",
       "      <td>1109ee298494fbd192e27878432c718a</td>\n",
       "    </tr>\n",
       "  </tbody>\n",
       "</table>\n",
       "</div>"
      ],
      "text/plain": [
       "                                mid                               uid\n",
       "0  5dcebcfaedbd4e7b8a27bd1ae55f1ac3  7ac1b40648fff523d7220a5d07b04d9b\n",
       "1  5dcebcfaedbd4e7b8a27bd1ae55f1ac3  2b4ad286afe3369d39f1bb7aa2528bc7\n",
       "2  5dcebcfaedbd4e7b8a27bd1ae55f1ac3  1bf0993ebab175a896ac8003bed91b4b\n",
       "3  5dcebcfaedbd4e7b8a27bd1ae55f1ac3  6484211de8b9a023a7d9ab1641d22e7c\n",
       "4  5dcebcfaedbd4e7b8a27bd1ae55f1ac3  1109ee298494fbd192e27878432c718a"
      ]
     },
     "execution_count": 3,
     "metadata": {},
     "output_type": "execute_result"
    }
   ],
   "source": [
    "file_path = os.path.join('data', 'model_likes_anon.psv')\n",
    "df = pd.read_csv(file_path, sep = '|', quotechar = '\\\\')\n",
    "\n",
    "print( 'Drop duplicated rows: ', df.duplicated().sum() )\n",
    "df = df.drop_duplicates()\n",
    "df = df[['mid', 'uid']]\n",
    "\n",
    "print('dimension: ', df.shape)\n",
    "df.head()"
   ]
  },
  {
   "cell_type": "code",
   "execution_count": 4,
   "metadata": {},
   "outputs": [],
   "source": [
    "def print_data_info(data, users_col, items_col):\n",
    "    \"\"\"\n",
    "    prints number of unique users, items and sparsity,\n",
    "    where sparsity simply means the number of interactions in\n",
    "    the user-item matrix\n",
    "    \n",
    "    Parameters\n",
    "    ----------\n",
    "    data : DataFrame\n",
    "        explicit/implict rating data\n",
    "        \n",
    "    users_col : str\n",
    "        user column name\n",
    "        \n",
    "    items_col : str\n",
    "        item column name\n",
    "    \"\"\"\n",
    "    n_users = data[users_col].unique().shape[0]\n",
    "    n_items = data[items_col].unique().shape[0]\n",
    "    sparsity = data.shape[0] / (n_users * n_items) * 100\n",
    "    print('Number of users: {}'.format(n_users))\n",
    "    print('Number of items: {}'.format(n_items))\n",
    "    print('Sparsity: {:4.3f}%'.format(sparsity))"
   ]
  },
  {
   "cell_type": "code",
   "execution_count": 5,
   "metadata": {},
   "outputs": [],
   "source": [
    "def remove_sparsity(data, users_col, items_col,\n",
    "                    users_threshold, items_threshold, verbose = True):\n",
    "    \"\"\"\n",
    "    remove users whose number of items that he/she interacted \n",
    "    is below threshold (items_threshold) and remove items that has been \n",
    "    rated by less than the threshold number of users (users_threshold);\n",
    "    <= is used for determining whether an user/item is below threshold\n",
    "    \"\"\"\n",
    "    if verbose:\n",
    "        print_data_info(data, users_col, items_col)\n",
    "        \n",
    "    removed_users = set()\n",
    "    removed_items = set()\n",
    "    done = False\n",
    "    while not done:\n",
    "        starting_shape = data.shape[0]\n",
    "        \n",
    "        items_counts = data.groupby(users_col)[items_col].count()\n",
    "        users_remove = set( items_counts[ items_counts <= items_threshold ].index )\n",
    "        data = data[ ~data[users_col].isin(users_remove) ]\n",
    "        removed_users.update(users_remove)\n",
    "        \n",
    "        users_counts = data.groupby(items_col)[users_col].count()\n",
    "        items_remove = set( users_counts[ users_counts <= users_threshold ].index )\n",
    "        data = data[ ~data[items_col].isin(items_remove) ]\n",
    "        removed_items.update(items_remove)\n",
    "        \n",
    "        ending_shape = data.shape[0]\n",
    "        if starting_shape == ending_shape:\n",
    "            done = True\n",
    "    \n",
    "    # map each artist and user to a unique numeric value\n",
    "    data = data.reset_index(drop = True)\n",
    "    data[items_col] = data[items_col].astype('category')\n",
    "    data[users_col] = data[users_col].astype('category')\n",
    "    if verbose:\n",
    "        print_data_info(data, users_col, items_col)\n",
    "\n",
    "    return data, removed_users, removed_items"
   ]
  },
  {
   "cell_type": "code",
   "execution_count": 6,
   "metadata": {},
   "outputs": [
    {
     "name": "stdout",
     "output_type": "stream",
     "text": [
      "Number of users: 62583\n",
      "Number of items: 28806\n",
      "Sparsity: 0.035%\n",
      "Number of users: 18262\n",
      "Number of items: 27751\n",
      "Sparsity: 0.112%\n"
     ]
    },
    {
     "data": {
      "text/html": [
       "<div>\n",
       "<table border=\"1\" class=\"dataframe\">\n",
       "  <thead>\n",
       "    <tr style=\"text-align: right;\">\n",
       "      <th></th>\n",
       "      <th>mid</th>\n",
       "      <th>uid</th>\n",
       "    </tr>\n",
       "  </thead>\n",
       "  <tbody>\n",
       "    <tr>\n",
       "      <th>0</th>\n",
       "      <td>5dcebcfaedbd4e7b8a27bd1ae55f1ac3</td>\n",
       "      <td>7ac1b40648fff523d7220a5d07b04d9b</td>\n",
       "    </tr>\n",
       "    <tr>\n",
       "      <th>1</th>\n",
       "      <td>5dcebcfaedbd4e7b8a27bd1ae55f1ac3</td>\n",
       "      <td>2b4ad286afe3369d39f1bb7aa2528bc7</td>\n",
       "    </tr>\n",
       "    <tr>\n",
       "      <th>2</th>\n",
       "      <td>5dcebcfaedbd4e7b8a27bd1ae55f1ac3</td>\n",
       "      <td>1bf0993ebab175a896ac8003bed91b4b</td>\n",
       "    </tr>\n",
       "    <tr>\n",
       "      <th>3</th>\n",
       "      <td>5dcebcfaedbd4e7b8a27bd1ae55f1ac3</td>\n",
       "      <td>1109ee298494fbd192e27878432c718a</td>\n",
       "    </tr>\n",
       "    <tr>\n",
       "      <th>4</th>\n",
       "      <td>5dcebcfaedbd4e7b8a27bd1ae55f1ac3</td>\n",
       "      <td>8626c70d4b85af57804a8fc1173cbbe0</td>\n",
       "    </tr>\n",
       "  </tbody>\n",
       "</table>\n",
       "</div>"
      ],
      "text/plain": [
       "                                mid                               uid\n",
       "0  5dcebcfaedbd4e7b8a27bd1ae55f1ac3  7ac1b40648fff523d7220a5d07b04d9b\n",
       "1  5dcebcfaedbd4e7b8a27bd1ae55f1ac3  2b4ad286afe3369d39f1bb7aa2528bc7\n",
       "2  5dcebcfaedbd4e7b8a27bd1ae55f1ac3  1bf0993ebab175a896ac8003bed91b4b\n",
       "3  5dcebcfaedbd4e7b8a27bd1ae55f1ac3  1109ee298494fbd192e27878432c718a\n",
       "4  5dcebcfaedbd4e7b8a27bd1ae55f1ac3  8626c70d4b85af57804a8fc1173cbbe0"
      ]
     },
     "execution_count": 6,
     "metadata": {},
     "output_type": "execute_result"
    }
   ],
   "source": [
    "users_col = 'uid'\n",
    "items_col = 'mid'\n",
    "users_threshold = 3\n",
    "items_threshold = 3\n",
    "df, removed_users, removed_items = remove_sparsity(\n",
    "    df, \n",
    "    users_col, \n",
    "    items_col, \n",
    "    users_threshold, \n",
    "    items_threshold\n",
    ")\n",
    "df.head()"
   ]
  },
  {
   "cell_type": "code",
   "execution_count": 7,
   "metadata": {},
   "outputs": [
    {
     "data": {
      "text/plain": [
       "<18262x27751 sparse matrix of type '<class 'numpy.float64'>'\n",
       "\twith 567486 stored elements in Compressed Sparse Row format>"
      ]
     },
     "execution_count": 7,
     "metadata": {},
     "output_type": "execute_result"
    }
   ],
   "source": [
    "ratings = csr_matrix( ( np.ones(df.shape[0]), \n",
    "                      ( df['uid'].cat.codes, df['mid'].cat.codes ) ) )\n",
    "ratings"
   ]
  },
  {
   "cell_type": "code",
   "execution_count": 24,
   "metadata": {},
   "outputs": [],
   "source": [
    "def create_train_test(ratings, n_split, n_fracs, seed):\n",
    "    \"\"\"\n",
    "    split ratings into train and test sets,\n",
    "    it will only consider users who have at least 2 * n_split\n",
    "    interactions and from those users, choose n_fracs of them\n",
    "    to randomly select n_splits ratings into the test set\n",
    "    \n",
    "    Parameters\n",
    "    ----------\n",
    "    ratings : scipy sparse csr_matrix\n",
    "        user-item interactions\n",
    "    \n",
    "    n_splits : int\n",
    "        number of user-item interactions per user to move\n",
    "        from training to test set\n",
    "    \n",
    "    n_fracs : float\n",
    "        fraction of users to split off some of their\n",
    "        interactions into test set\n",
    "        \n",
    "    seed : int\n",
    "        seed for reproducible random splitting\n",
    "    \"\"\"\n",
    "    rstate = np.random.RandomState(seed)\n",
    "    try:\n",
    "        train = ratings.copy()\n",
    "        threshold = 2 * n_splits\n",
    "        nonzero_row = train.nonzero()[0]\n",
    "        n_samples = int(n_fracs * train.shape[0])\n",
    "        user = np.where( np.bincount(nonzero_row) >= threshold )[0]\n",
    "        user_index = rstate.choice(user, size = n_samples, replace = False)\n",
    "    except ValueError:\n",
    "        message = ( 'Not enough users with > {} interactions for fraction of {}'\n",
    "                    .format(threshold, n_frac) )\n",
    "        raise ValueError(message)\n",
    "    \n",
    "    # for all the users that met the threshold (have interactions\n",
    "    # greater than 2 * n_split) assign randomly chosen interactions\n",
    "    # to the test and assign those interactions to zero on the training\n",
    "    test = csr_matrix(train.shape)\n",
    "    for u in user_index:\n",
    "        split_index = train[u].indices\n",
    "        test_index = rstate.choice(split_index, size = n_splits, replace = False)\n",
    "        test[u, test_index] = train[u, test_index]\n",
    "        train[u, test_index] = 0\n",
    "        train.eliminate_zeros()\n",
    "    \n",
    "    return train, test, user_index"
   ]
  },
  {
   "cell_type": "code",
   "execution_count": 25,
   "metadata": {},
   "outputs": [
    {
     "name": "stdout",
     "output_type": "stream",
     "text": [
      "7.112871885299683\n"
     ]
    },
    {
     "data": {
      "text/plain": [
       "<18262x27751 sparse matrix of type '<class 'numpy.float64'>'\n",
       "\twith 549226 stored elements in Compressed Sparse Row format>"
      ]
     },
     "execution_count": 25,
     "metadata": {},
     "output_type": "execute_result"
    }
   ],
   "source": [
    "n_splits = 5\n",
    "n_fracs = 0.2\n",
    "seed = 1234\n",
    "start = time.time()\n",
    "train, test, user_index = create_train_test(ratings, n_splits, n_fracs, seed)\n",
    "print(time.time() - start)\n",
    "train"
   ]
  },
  {
   "cell_type": "code",
   "execution_count": 27,
   "metadata": {
    "collapsed": true
   },
   "outputs": [],
   "source": [
    "def create_train_test(ratings, n_split, n_fracs, seed):\n",
    "    \"\"\"\n",
    "    split ratings into train and test sets,\n",
    "    it will only consider users who have at least 2 * n_split\n",
    "    interactions and from those users, choose n_fracs of them\n",
    "    to randomly select n_splits ratings into the test set\n",
    "    \n",
    "    Parameters\n",
    "    ----------\n",
    "    ratings : scipy sparse csr_matrix\n",
    "        user-item interactions\n",
    "    \n",
    "    n_splits : int\n",
    "        number of user-item interactions per user to move\n",
    "        from training to test set\n",
    "    \n",
    "    n_fracs : float\n",
    "        fraction of users to split off some of their\n",
    "        interactions into test set\n",
    "        \n",
    "    seed : int\n",
    "        seed for reproducible random splitting\n",
    "    \"\"\"\n",
    "    rstate = np.random.RandomState(seed)\n",
    "    try:\n",
    "        train = ratings.copy().todok()\n",
    "        threshold = 2 * n_splits\n",
    "        nonzero_row = train.nonzero()[0]\n",
    "        n_samples = int(n_fracs * train.shape[0])\n",
    "        user = np.where( np.bincount(nonzero_row) >= threshold )[0]\n",
    "        user_index = rstate.choice(user, size = n_samples, replace = False)\n",
    "    except ValueError:\n",
    "        message = ( 'Not enough users with > {} interactions for fraction of {}'\n",
    "                    .format(threshold, n_frac) )\n",
    "        raise ValueError(message)\n",
    "    \n",
    "    # for all the users that met the threshold (have interactions\n",
    "    # greater than 2 * n_split) assign randomly chosen interactions\n",
    "    # to the test and assign those interactions to zero on the training\n",
    "    test = dok_matrix(train.shape)\n",
    "    for u in user_index:\n",
    "        split_index = ratings[u].indices\n",
    "        test_index = rstate.choice(split_index, size = n_splits, replace = False)\n",
    "        test[u, test_index] = ratings[u, test_index]\n",
    "        train[u, test_index] = 0\n",
    "    \n",
    "    return train.tocsr(), test.tocsr(), user_index"
   ]
  },
  {
   "cell_type": "code",
   "execution_count": 28,
   "metadata": {},
   "outputs": [
    {
     "name": "stdout",
     "output_type": "stream",
     "text": [
      "4.84306001663208\n"
     ]
    },
    {
     "data": {
      "text/plain": [
       "<18262x27751 sparse matrix of type '<class 'numpy.float64'>'\n",
       "\twith 549226 stored elements in Compressed Sparse Row format>"
      ]
     },
     "execution_count": 28,
     "metadata": {},
     "output_type": "execute_result"
    }
   ],
   "source": [
    "start = time.time()\n",
    "train, test, user_index = create_train_test(ratings, n_splits, n_fracs, seed)\n",
    "print(time.time() - start)\n",
    "train"
   ]
  },
  {
   "cell_type": "code",
   "execution_count": 29,
   "metadata": {},
   "outputs": [
    {
     "data": {
      "text/plain": [
       "<18262x27751 sparse matrix of type '<class 'numpy.float64'>'\n",
       "\twith 18260 stored elements in Compressed Sparse Row format>"
      ]
     },
     "execution_count": 29,
     "metadata": {},
     "output_type": "execute_result"
    }
   ],
   "source": [
    "test"
   ]
  },
  {
   "cell_type": "code",
   "execution_count": 30,
   "metadata": {},
   "outputs": [
    {
     "data": {
      "text/plain": [
       "array([14845,  8892, 17206, ...,  9088,   272, 12652])"
      ]
     },
     "execution_count": 30,
     "metadata": {},
     "output_type": "execute_result"
    }
   ],
   "source": [
    "user_index"
   ]
  },
  {
   "cell_type": "code",
   "execution_count": 19,
   "metadata": {},
   "outputs": [
    {
     "name": "stderr",
     "output_type": "stream",
     "text": [
      "ALS: 100%|██████████| 15/15 [00:01<00:00,  9.04it/s]\n"
     ]
    },
    {
     "data": {
      "text/plain": [
       "ALS(alpha=15, n_factors=20, n_iters=15, n_jobs=8, reg=0.01, seed=1234,\n",
       "  verbose=True)"
      ]
     },
     "execution_count": 19,
     "metadata": {},
     "output_type": "execute_result"
    }
   ],
   "source": [
    "from recsys.model import ALSWR\n",
    "\n",
    "# default is True, which will generate progress bar\n",
    "# for training iteration, might be annoying when doing grid search\n",
    "als = ALS(verbose = True)\n",
    "als.fit(train)"
   ]
  },
  {
   "cell_type": "code",
   "execution_count": 11,
   "metadata": {},
   "outputs": [],
   "source": [
    "def compute_neg_mse(model, ratings, user_index):\n",
    "    \"\"\"\n",
    "    negative mean squared error for the ALS model,\n",
    "    the negative is used for grid search, so there's\n",
    "    a consistency that the higher the score the better\n",
    "    \"\"\"\n",
    "    temp = ratings[user_index]\n",
    "    mask = temp.nonzero()\n",
    "    y_true = temp.data\n",
    "    y_pred = model.predict()[mask]\n",
    "    neg_mse = -mean_squared_error(y_true, y_pred)\n",
    "    return neg_mse"
   ]
  },
  {
   "cell_type": "code",
   "execution_count": 20,
   "metadata": {},
   "outputs": [
    {
     "name": "stderr",
     "output_type": "stream",
     "text": [
      "ALS: 100%|██████████| 15/15 [00:00<00:00, 16.69it/s]\n",
      "ALS: 100%|██████████| 15/15 [00:01<00:00, 11.97it/s]\n"
     ]
    },
    {
     "data": {
      "text/plain": [
       "<search.GridSearch at 0x11ebffdd8>"
      ]
     },
     "execution_count": 20,
     "metadata": {},
     "output_type": "execute_result"
    }
   ],
   "source": [
    "from search import GridSearch\n",
    "\n",
    "als = ALS(verbose = True)\n",
    "als_params_opt = {\n",
    "    'n_factors': [10, 15], \n",
    "    'reg': [0.1], \n",
    "    'alpha': [50]\n",
    "}\n",
    "gs_als = GridSearch(\n",
    "    base_model = als, \n",
    "    params_opt = als_params_opt,\n",
    "    scorer = compute_neg_mse # string\n",
    ")\n",
    "gs_als.fit(train, user_index)"
   ]
  },
  {
   "cell_type": "code",
   "execution_count": 13,
   "metadata": {},
   "outputs": [
    {
     "ename": "NameError",
     "evalue": "name 'haha' is not defined",
     "output_type": "error",
     "traceback": [
      "\u001b[0;31m---------------------------------------------------------------------------\u001b[0m",
      "\u001b[0;31mNameError\u001b[0m                                 Traceback (most recent call last)",
      "\u001b[0;32m<ipython-input-13-7494ab07987b>\u001b[0m in \u001b[0;36m<module>\u001b[0;34m()\u001b[0m\n\u001b[0;32m----> 1\u001b[0;31m \u001b[0mhaha\u001b[0m\u001b[0;34m\u001b[0m\u001b[0m\n\u001b[0m",
      "\u001b[0;31mNameError\u001b[0m: name 'haha' is not defined"
     ]
    }
   ],
   "source": [
    "haha"
   ]
  },
  {
   "cell_type": "code",
   "execution_count": null,
   "metadata": {},
   "outputs": [],
   "source": [
    "neg_mse = compute_neg_mse(current_model, train, user_index)\n",
    "neg_mse"
   ]
  },
  {
   "cell_type": "code",
   "execution_count": null,
   "metadata": {
    "collapsed": true
   },
   "outputs": [],
   "source": [
    "def compute_mapk(model, ratings, user_index, k):\n",
    "    \"\"\"mean average precision at k for the ALS model\"\"\"\n",
    "    # compare the top k predictions' index to the actual index\n",
    "    mapk = 0\n",
    "    for u in user_index:\n",
    "        y_true = ratings[u].indices\n",
    "        u_pred = model.predict()[u]\n",
    "        y_pred = np.argsort(u_pred)[::-1][:k]\n",
    "        mapk += compute_apk(y_true, y_pred, k)\n",
    "    \n",
    "    mapk /= user_index.shape[0]\n",
    "    return mapk"
   ]
  },
  {
   "cell_type": "code",
   "execution_count": null,
   "metadata": {
    "collapsed": true
   },
   "outputs": [],
   "source": [
    "def compute_apk(y_true, y_pred, k):\n",
    "    \"\"\"\n",
    "    average precision at k\n",
    "    \n",
    "    Example\n",
    "    -------\n",
    "    k = 2\n",
    "    y_true = np.array([1, 2, 3, 4, 5])\n",
    "    y_pred = np.array([6, 4, 7, 1, 2])[:k]\n",
    "    compute_apk(y_true, y_pred, k) # 0.25\n",
    "    \"\"\"\n",
    "    # convert to set since\n",
    "    # membership testing in\n",
    "    # a set is vastly faster\n",
    "    actual = set(y_true)\n",
    "    \n",
    "    # precision at i is a percentage of correct \n",
    "    # items among first i recommendations; the\n",
    "    # correct sum will be summed up by n_hit,\n",
    "    # while score while store the percentage\n",
    "    n_hit, score = 0, 0\n",
    "    for i, p in enumerate(y_pred, 1):\n",
    "        if p in actual and p in y_pred[:i]:\n",
    "            n_hit += 1\n",
    "            score += n_hit / i\n",
    "    \n",
    "    # divide by recall at the very end\n",
    "    score /= min(len(actual), k)\n",
    "    return score"
   ]
  },
  {
   "cell_type": "code",
   "execution_count": null,
   "metadata": {},
   "outputs": [],
   "source": [
    "k = 5\n",
    "mapk = compute_mapk(current_model, train, user_index, k)\n",
    "mapk"
   ]
  }
 ],
 "metadata": {
  "anaconda-cloud": {},
  "kernelspec": {
   "display_name": "Python 3",
   "language": "python",
   "name": "python3"
  },
  "language_info": {
   "codemirror_mode": {
    "name": "ipython",
    "version": 3
   },
   "file_extension": ".py",
   "mimetype": "text/x-python",
   "name": "python",
   "nbconvert_exporter": "python",
   "pygments_lexer": "ipython3",
   "version": "3.6.4"
  },
  "toc": {
   "nav_menu": {},
   "number_sections": true,
   "sideBar": true,
   "skip_h1_title": false,
   "title_cell": "Table of Contents",
   "title_sidebar": "Contents",
   "toc_cell": false,
   "toc_position": {},
   "toc_section_display": true,
   "toc_window_display": false
  },
  "varInspector": {
   "cols": {
    "lenName": 16,
    "lenType": 16,
    "lenVar": 40
   },
   "kernels_config": {
    "python": {
     "delete_cmd_postfix": "",
     "delete_cmd_prefix": "del ",
     "library": "var_list.py",
     "varRefreshCmd": "print(var_dic_list())"
    },
    "r": {
     "delete_cmd_postfix": ") ",
     "delete_cmd_prefix": "rm(",
     "library": "var_list.r",
     "varRefreshCmd": "cat(var_dic_list()) "
    }
   },
   "types_to_exclude": [
    "module",
    "function",
    "builtin_function_or_method",
    "instance",
    "_Feature"
   ],
   "window_display": false
  }
 },
 "nbformat": 4,
 "nbformat_minor": 1
}
