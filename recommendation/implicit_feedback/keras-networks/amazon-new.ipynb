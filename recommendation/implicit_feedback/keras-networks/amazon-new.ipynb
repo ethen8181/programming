{
 "cells": [
  {
   "cell_type": "code",
   "execution_count": 1,
   "metadata": {
    "collapsed": true
   },
   "outputs": [],
   "source": [
    "import gzip\n",
    "import pandas as pd"
   ]
  },
  {
   "cell_type": "code",
   "execution_count": 28,
   "metadata": {
    "collapsed": true
   },
   "outputs": [],
   "source": [
    "def get_meta_data_info(meta_data):\n",
    "    item_id = meta_data['asin']\n",
    "    \n",
    "    # there's multiple category tag, the first [0] \n",
    "    # extract the first category and for some reason \n",
    "    # that's still in a list, thus the second [0] access\n",
    "    # the single tag in that list\n",
    "    category = meta_data['categories'][0][0]\n",
    "    \n",
    "    # title and image url are the fields that might be missing\n",
    "    try:\n",
    "        name = meta_data['title']\n",
    "    except KeyError:\n",
    "        name = None\n",
    "    try:\n",
    "        img_url = meta_data['imUrl']\n",
    "    except KeyError:\n",
    "        img_url = None\n",
    "\n",
    "    info = {'item_id': item_id, 'category': category, 'img_url': img_url, 'name': name}\n",
    "    return info"
   ]
  },
  {
   "cell_type": "code",
   "execution_count": 29,
   "metadata": {
    "collapsed": true
   },
   "outputs": [],
   "source": [
    "def get_all_meta_data(path):\n",
    "    meta_data_infos = []\n",
    "    g = gzip.open(path, 'r')\n",
    "    for line in g:\n",
    "        meta_data = eval(line)\n",
    "        info = get_meta_data_info(meta_data)\n",
    "        meta_data_infos.append(info)\n",
    "\n",
    "    df_meta_data = pd.DataFrame(meta_data_infos)\n",
    "    mask = ~df_meta_data['img_url'].isnull() & ~df_meta_data['name'].isnull()\n",
    "    df_meta_data = df_meta_data[mask]\n",
    "    df_meta_data = df_meta_data[df_meta_data['category'] == 'Clothing, Shoes & Jewelry']\n",
    "    return df_meta_data"
   ]
  },
  {
   "cell_type": "code",
   "execution_count": 30,
   "metadata": {},
   "outputs": [
    {
     "name": "stdout",
     "output_type": "stream",
     "text": [
      "(1435416, 4)\n"
     ]
    },
    {
     "data": {
      "text/html": [
       "<div>\n",
       "<table border=\"1\" class=\"dataframe\">\n",
       "  <thead>\n",
       "    <tr style=\"text-align: right;\">\n",
       "      <th></th>\n",
       "      <th>category</th>\n",
       "      <th>img_url</th>\n",
       "      <th>item_id</th>\n",
       "      <th>name</th>\n",
       "    </tr>\n",
       "  </thead>\n",
       "  <tbody>\n",
       "    <tr>\n",
       "      <th>0</th>\n",
       "      <td>Clothing, Shoes &amp; Jewelry</td>\n",
       "      <td>http://ecx.images-amazon.com/images/I/31mCncNu...</td>\n",
       "      <td>0000037214</td>\n",
       "      <td>Purple Sequin Tiny Dancer Tutu Ballet Dance Fa...</td>\n",
       "    </tr>\n",
       "    <tr>\n",
       "      <th>1</th>\n",
       "      <td>Clothing, Shoes &amp; Jewelry</td>\n",
       "      <td>http://ecx.images-amazon.com/images/I/314qZjYe...</td>\n",
       "      <td>0000031887</td>\n",
       "      <td>Ballet Dress-Up Fairy Tutu</td>\n",
       "    </tr>\n",
       "    <tr>\n",
       "      <th>2</th>\n",
       "      <td>Clothing, Shoes &amp; Jewelry</td>\n",
       "      <td>http://ecx.images-amazon.com/images/I/413tGhqo...</td>\n",
       "      <td>0123456479</td>\n",
       "      <td>SHINING IMAGE HUGE PINK LEATHER JEWELRY BOX / ...</td>\n",
       "    </tr>\n",
       "    <tr>\n",
       "      <th>3</th>\n",
       "      <td>Clothing, Shoes &amp; Jewelry</td>\n",
       "      <td>http://ecx.images-amazon.com/images/I/31QZTHxv...</td>\n",
       "      <td>0456844570</td>\n",
       "      <td>RiZ Women's Beautify Crafted &amp;frac12; Rimmed F...</td>\n",
       "    </tr>\n",
       "    <tr>\n",
       "      <th>4</th>\n",
       "      <td>Clothing, Shoes &amp; Jewelry</td>\n",
       "      <td>http://ecx.images-amazon.com/images/I/31UsrgT5...</td>\n",
       "      <td>0456808574</td>\n",
       "      <td>Lantin White Visor Wrap Around Ski Style Aviat...</td>\n",
       "    </tr>\n",
       "  </tbody>\n",
       "</table>\n",
       "</div>"
      ],
      "text/plain": [
       "                    category  \\\n",
       "0  Clothing, Shoes & Jewelry   \n",
       "1  Clothing, Shoes & Jewelry   \n",
       "2  Clothing, Shoes & Jewelry   \n",
       "3  Clothing, Shoes & Jewelry   \n",
       "4  Clothing, Shoes & Jewelry   \n",
       "\n",
       "                                             img_url     item_id  \\\n",
       "0  http://ecx.images-amazon.com/images/I/31mCncNu...  0000037214   \n",
       "1  http://ecx.images-amazon.com/images/I/314qZjYe...  0000031887   \n",
       "2  http://ecx.images-amazon.com/images/I/413tGhqo...  0123456479   \n",
       "3  http://ecx.images-amazon.com/images/I/31QZTHxv...  0456844570   \n",
       "4  http://ecx.images-amazon.com/images/I/31UsrgT5...  0456808574   \n",
       "\n",
       "                                                name  \n",
       "0  Purple Sequin Tiny Dancer Tutu Ballet Dance Fa...  \n",
       "1                         Ballet Dress-Up Fairy Tutu  \n",
       "2  SHINING IMAGE HUGE PINK LEATHER JEWELRY BOX / ...  \n",
       "3  RiZ Women's Beautify Crafted &frac12; Rimmed F...  \n",
       "4  Lantin White Visor Wrap Around Ski Style Aviat...  "
      ]
     },
     "execution_count": 30,
     "metadata": {},
     "output_type": "execute_result"
    }
   ],
   "source": [
    "path = 'meta_Clothing_Shoes_and_Jewelry.json.gz'\n",
    "df_meta_data = get_all_meta_data(path)\n",
    "print(df_meta_data.shape)\n",
    "df_meta_data.head()"
   ]
  },
  {
   "cell_type": "code",
   "execution_count": 4,
   "metadata": {
    "collapsed": true
   },
   "outputs": [],
   "source": [
    "def get_review_data_info(review_data):\n",
    "    item_id = review_data['asin']\n",
    "    rating = review_data['overall']\n",
    "    user_id = review_data['reviewerID']\n",
    "    info = {'item_id': item_id, 'user_id': user_id, 'rating': rating}\n",
    "    return info"
   ]
  },
  {
   "cell_type": "code",
   "execution_count": null,
   "metadata": {
    "collapsed": true
   },
   "outputs": [],
   "source": [
    "def get_all_review_data(path):\n",
    "    review_data_infos = []\n",
    "    g = gzip.open(path, 'r')\n",
    "    for line in g:\n",
    "        review_data = eval(line)\n",
    "        info = get_review_data_info(review_data)\n",
    "        review_data_infos.append(info)\n",
    "\n",
    "    df_review_data = pd.DataFrame(review_data_infos)\n",
    "    return df_review_data"
   ]
  },
  {
   "cell_type": "code",
   "execution_count": 5,
   "metadata": {},
   "outputs": [
    {
     "name": "stdout",
     "output_type": "stream",
     "text": [
      "(915446, 3)\n"
     ]
    },
    {
     "data": {
      "text/html": [
       "<div>\n",
       "<table border=\"1\" class=\"dataframe\">\n",
       "  <thead>\n",
       "    <tr style=\"text-align: right;\">\n",
       "      <th></th>\n",
       "      <th>item_id</th>\n",
       "      <th>rating</th>\n",
       "      <th>user_id</th>\n",
       "    </tr>\n",
       "  </thead>\n",
       "  <tbody>\n",
       "    <tr>\n",
       "      <th>0</th>\n",
       "      <td>0188399313</td>\n",
       "      <td>5.0</td>\n",
       "      <td>A28O3NP6WR5517</td>\n",
       "    </tr>\n",
       "    <tr>\n",
       "      <th>1</th>\n",
       "      <td>0188399399</td>\n",
       "      <td>5.0</td>\n",
       "      <td>AX0M1Z6ZWO52J</td>\n",
       "    </tr>\n",
       "    <tr>\n",
       "      <th>2</th>\n",
       "      <td>0188399518</td>\n",
       "      <td>4.0</td>\n",
       "      <td>A1KD7N84L7NIUT</td>\n",
       "    </tr>\n",
       "    <tr>\n",
       "      <th>3</th>\n",
       "      <td>0188399518</td>\n",
       "      <td>3.0</td>\n",
       "      <td>A29CUDEIF4X1UO</td>\n",
       "    </tr>\n",
       "    <tr>\n",
       "      <th>4</th>\n",
       "      <td>0316967297</td>\n",
       "      <td>4.0</td>\n",
       "      <td>A32592TYN6C9EM</td>\n",
       "    </tr>\n",
       "  </tbody>\n",
       "</table>\n",
       "</div>"
      ],
      "text/plain": [
       "      item_id  rating         user_id\n",
       "0  0188399313     5.0  A28O3NP6WR5517\n",
       "1  0188399399     5.0   AX0M1Z6ZWO52J\n",
       "2  0188399518     4.0  A1KD7N84L7NIUT\n",
       "3  0188399518     3.0  A29CUDEIF4X1UO\n",
       "4  0316967297     4.0  A32592TYN6C9EM"
      ]
     },
     "execution_count": 5,
     "metadata": {},
     "output_type": "execute_result"
    }
   ],
   "source": [
    "path = 'reviews_Baby.json.gz'\n",
    "df_review_data = get_all_review_data(path)\n",
    "print(df_review_data.shape)\n",
    "df_review_data.head()"
   ]
  },
  {
   "cell_type": "code",
   "execution_count": 6,
   "metadata": {},
   "outputs": [
    {
     "name": "stdout",
     "output_type": "stream",
     "text": [
      "(913953, 6)\n"
     ]
    },
    {
     "data": {
      "text/html": [
       "<div>\n",
       "<table border=\"1\" class=\"dataframe\">\n",
       "  <thead>\n",
       "    <tr style=\"text-align: right;\">\n",
       "      <th></th>\n",
       "      <th>item_id</th>\n",
       "      <th>rating</th>\n",
       "      <th>user_id</th>\n",
       "      <th>category</th>\n",
       "      <th>img_url</th>\n",
       "      <th>name</th>\n",
       "    </tr>\n",
       "  </thead>\n",
       "  <tbody>\n",
       "    <tr>\n",
       "      <th>0</th>\n",
       "      <td>0188399313</td>\n",
       "      <td>5.0</td>\n",
       "      <td>A28O3NP6WR5517</td>\n",
       "      <td>Baby</td>\n",
       "      <td>http://ecx.images-amazon.com/images/I/41Swthpd...</td>\n",
       "      <td>Lifefactory 4oz BPA Free Glass Baby Bottles - ...</td>\n",
       "    </tr>\n",
       "    <tr>\n",
       "      <th>1</th>\n",
       "      <td>0188399399</td>\n",
       "      <td>5.0</td>\n",
       "      <td>AX0M1Z6ZWO52J</td>\n",
       "      <td>Baby</td>\n",
       "      <td>http://ecx.images-amazon.com/images/I/61x8h9u6...</td>\n",
       "      <td>Planetwise Wipe Pouch</td>\n",
       "    </tr>\n",
       "    <tr>\n",
       "      <th>2</th>\n",
       "      <td>0188399518</td>\n",
       "      <td>4.0</td>\n",
       "      <td>A1KD7N84L7NIUT</td>\n",
       "      <td>Baby</td>\n",
       "      <td>http://ecx.images-amazon.com/images/I/41otjnA4...</td>\n",
       "      <td>Planetwise Flannel Wipes</td>\n",
       "    </tr>\n",
       "    <tr>\n",
       "      <th>3</th>\n",
       "      <td>0188399518</td>\n",
       "      <td>3.0</td>\n",
       "      <td>A29CUDEIF4X1UO</td>\n",
       "      <td>Baby</td>\n",
       "      <td>http://ecx.images-amazon.com/images/I/41otjnA4...</td>\n",
       "      <td>Planetwise Flannel Wipes</td>\n",
       "    </tr>\n",
       "    <tr>\n",
       "      <th>4</th>\n",
       "      <td>0316967297</td>\n",
       "      <td>4.0</td>\n",
       "      <td>A32592TYN6C9EM</td>\n",
       "      <td>Baby</td>\n",
       "      <td>http://ecx.images-amazon.com/images/I/51%2BZ1%...</td>\n",
       "      <td>Annas Dream Full Quilt with 2 Shams</td>\n",
       "    </tr>\n",
       "  </tbody>\n",
       "</table>\n",
       "</div>"
      ],
      "text/plain": [
       "      item_id  rating         user_id category  \\\n",
       "0  0188399313     5.0  A28O3NP6WR5517     Baby   \n",
       "1  0188399399     5.0   AX0M1Z6ZWO52J     Baby   \n",
       "2  0188399518     4.0  A1KD7N84L7NIUT     Baby   \n",
       "3  0188399518     3.0  A29CUDEIF4X1UO     Baby   \n",
       "4  0316967297     4.0  A32592TYN6C9EM     Baby   \n",
       "\n",
       "                                             img_url  \\\n",
       "0  http://ecx.images-amazon.com/images/I/41Swthpd...   \n",
       "1  http://ecx.images-amazon.com/images/I/61x8h9u6...   \n",
       "2  http://ecx.images-amazon.com/images/I/41otjnA4...   \n",
       "3  http://ecx.images-amazon.com/images/I/41otjnA4...   \n",
       "4  http://ecx.images-amazon.com/images/I/51%2BZ1%...   \n",
       "\n",
       "                                                name  \n",
       "0  Lifefactory 4oz BPA Free Glass Baby Bottles - ...  \n",
       "1                              Planetwise Wipe Pouch  \n",
       "2                           Planetwise Flannel Wipes  \n",
       "3                           Planetwise Flannel Wipes  \n",
       "4                Annas Dream Full Quilt with 2 Shams  "
      ]
     },
     "execution_count": 6,
     "metadata": {},
     "output_type": "execute_result"
    }
   ],
   "source": [
    "data = df_review_data.merge(df_meta_data, on = 'item_id', how = 'inner')\n",
    "print(data.shape)\n",
    "data.head()"
   ]
  }
 ],
 "metadata": {
  "anaconda-cloud": {},
  "kernelspec": {
   "display_name": "Python 3",
   "language": "python",
   "name": "python3"
  },
  "language_info": {
   "codemirror_mode": {
    "name": "ipython",
    "version": 3
   },
   "file_extension": ".py",
   "mimetype": "text/x-python",
   "name": "python",
   "nbconvert_exporter": "python",
   "pygments_lexer": "ipython3",
   "version": "3.6.4"
  },
  "toc": {
   "nav_menu": {
    "height": "12px",
    "width": "252px"
   },
   "number_sections": true,
   "sideBar": true,
   "skip_h1_title": false,
   "title_cell": "Table of Contents",
   "title_sidebar": "Contents",
   "toc_cell": false,
   "toc_position": {},
   "toc_section_display": "block",
   "toc_window_display": true
  },
  "varInspector": {
   "cols": {
    "lenName": 16,
    "lenType": 16,
    "lenVar": 40
   },
   "kernels_config": {
    "python": {
     "delete_cmd_postfix": "",
     "delete_cmd_prefix": "del ",
     "library": "var_list.py",
     "varRefreshCmd": "print(var_dic_list())"
    },
    "r": {
     "delete_cmd_postfix": ") ",
     "delete_cmd_prefix": "rm(",
     "library": "var_list.r",
     "varRefreshCmd": "cat(var_dic_list()) "
    }
   },
   "types_to_exclude": [
    "module",
    "function",
    "builtin_function_or_method",
    "instance",
    "_Feature"
   ],
   "window_display": false
  }
 },
 "nbformat": 4,
 "nbformat_minor": 2
}
