{
 "cells": [
  {
   "cell_type": "markdown",
   "metadata": {},
   "source": [
    "# Amazon Product Ratings Dataset\n",
    "\n",
    "We first use a Amazon Product Ratings Data to perform the benchmarking. The full dataset is available for download at the following [standford research webpage](http://jmcauley.ucsd.edu/data/amazon/links.html). For benchmarking this algorithm, we will only be using the 3.2GB ratings data. Please note that if you're using the dataset in any way, remember to cite the author's SIGIR and KDD papers, which can be found in the citation section."
   ]
  },
  {
   "cell_type": "code",
   "execution_count": null,
   "metadata": {
    "collapsed": true
   },
   "outputs": [],
   "source": [
    "import os\n",
    "import pandas as pd\n",
    "\n",
    "file = 'item_dedup.csv'\n",
    "if not os.path.exists(file):\n",
    "    call(['curl', '-O', 'http://snap.stanford.edu/data/amazon/productGraph/item_dedup.csv'])\n",
    "    \n",
    "start = time()\n",
    "df = pd.read_csv(file, header = None)\n",
    "print(time() - start)\n",
    "df.columns = ['users', 'items', 'ratings', 'timestamp']\n",
    "df.head()"
   ]
  },
  {
   "cell_type": "code",
   "execution_count": 1,
   "metadata": {
    "collapsed": true
   },
   "outputs": [],
   "source": [
    "import gzip\n",
    "import struct\n",
    "import numpy as np"
   ]
  },
  {
   "cell_type": "code",
   "execution_count": 16,
   "metadata": {
    "scrolled": true
   },
   "outputs": [
    {
     "ename": "error",
     "evalue": "unpack requires a bytes object of length 4",
     "output_type": "error",
     "traceback": [
      "\u001b[0;31m---------------------------------------------------------------------------\u001b[0m",
      "\u001b[0;31merror\u001b[0m                                     Traceback (most recent call last)",
      "\u001b[0;32m<ipython-input-16-856c747da72e>\u001b[0m in \u001b[0;36m<module>\u001b[0;34m()\u001b[0m\n\u001b[1;32m     10\u001b[0m         \u001b[0mfeature\u001b[0m \u001b[0;34m=\u001b[0m \u001b[0;34m[\u001b[0m\u001b[0;34m]\u001b[0m\u001b[0;34m\u001b[0m\u001b[0m\n\u001b[1;32m     11\u001b[0m         \u001b[0;32mfor\u001b[0m \u001b[0mi\u001b[0m \u001b[0;32min\u001b[0m \u001b[0mrange\u001b[0m\u001b[0;34m(\u001b[0m\u001b[0;36m4096\u001b[0m\u001b[0;34m)\u001b[0m\u001b[0;34m:\u001b[0m\u001b[0;34m\u001b[0m\u001b[0m\n\u001b[0;32m---> 12\u001b[0;31m             \u001b[0mimg_feature\u001b[0m \u001b[0;34m=\u001b[0m \u001b[0mstruct\u001b[0m\u001b[0;34m.\u001b[0m\u001b[0munpack\u001b[0m\u001b[0;34m(\u001b[0m\u001b[0;34m'f'\u001b[0m\u001b[0;34m,\u001b[0m \u001b[0mfile\u001b[0m\u001b[0;34m.\u001b[0m\u001b[0mread\u001b[0m\u001b[0;34m(\u001b[0m\u001b[0;36m4\u001b[0m\u001b[0;34m)\u001b[0m\u001b[0;34m)\u001b[0m\u001b[0;34m\u001b[0m\u001b[0m\n\u001b[0m\u001b[1;32m     13\u001b[0m             \u001b[0mfeature\u001b[0m\u001b[0;34m.\u001b[0m\u001b[0mappend\u001b[0m\u001b[0;34m(\u001b[0m\u001b[0mimg_feature\u001b[0m\u001b[0;34m[\u001b[0m\u001b[0;36m0\u001b[0m\u001b[0;34m]\u001b[0m\u001b[0;34m)\u001b[0m\u001b[0;34m\u001b[0m\u001b[0m\n\u001b[1;32m     14\u001b[0m \u001b[0;34m\u001b[0m\u001b[0m\n",
      "\u001b[0;31merror\u001b[0m: unpack requires a bytes object of length 4"
     ]
    }
   ],
   "source": [
    "img_path = 'image_features_Clothing_Shoes_and_Jewelry.b.crdownload'\n",
    "img_dict = {}\n",
    "\n",
    "with open(img_path, 'rb') as file:\n",
    "    while True:      \n",
    "        asin = file.read(10).decode(\"utf-8\")\n",
    "        if asin == '':\n",
    "            break\n",
    "\n",
    "        feature = []\n",
    "        for i in range(4096):\n",
    "            img_feature = struct.unpack('f', file.read(4))\n",
    "            feature.append(img_feature[0])\n",
    "\n",
    "        img_dict[asin] = np.asarray(feature)"
   ]
  },
  {
   "cell_type": "code",
   "execution_count": 29,
   "metadata": {},
   "outputs": [
    {
     "data": {
      "text/plain": [
       "{'asin': '0000037214',\n",
       " 'brand': 'Big Dreams',\n",
       " 'categories': [['Clothing, Shoes & Jewelry', 'Girls'],\n",
       "  ['Clothing, Shoes & Jewelry',\n",
       "   'Novelty, Costumes & More',\n",
       "   'Costumes & Accessories',\n",
       "   'More Accessories',\n",
       "   'Kids & Baby']],\n",
       " 'imUrl': 'http://ecx.images-amazon.com/images/I/31mCncNuAZL.jpg',\n",
       " 'price': 6.99,\n",
       " 'related': {'also_viewed': ['B00JO8II76', 'B00DGN4R1Q', 'B00E1YRI4C']},\n",
       " 'salesRank': {'Clothing': 1233557},\n",
       " 'title': 'Purple Sequin Tiny Dancer Tutu Ballet Dance Fairy Princess Costume Accessory'}"
      ]
     },
     "execution_count": 29,
     "metadata": {},
     "output_type": "execute_result"
    }
   ],
   "source": [
    "path = 'meta_Clothing_Shoes_and_Jewelry.json.gz'\n",
    "g = gzip.open(path, 'r')\n",
    "  #for l in g:\n",
    "    # yield eval(l)\n",
    "eval(g.readline())"
   ]
  },
  {
   "cell_type": "code",
   "execution_count": 35,
   "metadata": {},
   "outputs": [
    {
     "name": "stdout",
     "output_type": "stream",
     "text": [
      "(71241, 4)\n"
     ]
    },
    {
     "data": {
      "text/html": [
       "<div>\n",
       "<table border=\"1\" class=\"dataframe\">\n",
       "  <thead>\n",
       "    <tr style=\"text-align: right;\">\n",
       "      <th></th>\n",
       "      <th>asin</th>\n",
       "      <th>category</th>\n",
       "      <th>img_url</th>\n",
       "      <th>name</th>\n",
       "    </tr>\n",
       "  </thead>\n",
       "  <tbody>\n",
       "    <tr>\n",
       "      <th>0</th>\n",
       "      <td>0188399313</td>\n",
       "      <td>Baby</td>\n",
       "      <td>http://ecx.images-amazon.com/images/I/41Swthpd...</td>\n",
       "      <td>Lifefactory 4oz BPA Free Glass Baby Bottles - ...</td>\n",
       "    </tr>\n",
       "    <tr>\n",
       "      <th>1</th>\n",
       "      <td>0188399518</td>\n",
       "      <td>Baby</td>\n",
       "      <td>http://ecx.images-amazon.com/images/I/41otjnA4...</td>\n",
       "      <td>Planetwise Flannel Wipes</td>\n",
       "    </tr>\n",
       "    <tr>\n",
       "      <th>2</th>\n",
       "      <td>0188399399</td>\n",
       "      <td>Baby</td>\n",
       "      <td>http://ecx.images-amazon.com/images/I/61x8h9u6...</td>\n",
       "      <td>Planetwise Wipe Pouch</td>\n",
       "    </tr>\n",
       "    <tr>\n",
       "      <th>3</th>\n",
       "      <td>0316967297</td>\n",
       "      <td>Baby</td>\n",
       "      <td>http://ecx.images-amazon.com/images/I/51%2BZ1%...</td>\n",
       "      <td>Annas Dream Full Quilt with 2 Shams</td>\n",
       "    </tr>\n",
       "    <tr>\n",
       "      <th>4</th>\n",
       "      <td>0615447279</td>\n",
       "      <td>Baby</td>\n",
       "      <td>http://ecx.images-amazon.com/images/I/51RKKENl...</td>\n",
       "      <td>Stop Pacifier Sucking without tears with Thumb...</td>\n",
       "    </tr>\n",
       "  </tbody>\n",
       "</table>\n",
       "</div>"
      ],
      "text/plain": [
       "         asin category                                            img_url  \\\n",
       "0  0188399313     Baby  http://ecx.images-amazon.com/images/I/41Swthpd...   \n",
       "1  0188399518     Baby  http://ecx.images-amazon.com/images/I/41otjnA4...   \n",
       "2  0188399399     Baby  http://ecx.images-amazon.com/images/I/61x8h9u6...   \n",
       "3  0316967297     Baby  http://ecx.images-amazon.com/images/I/51%2BZ1%...   \n",
       "4  0615447279     Baby  http://ecx.images-amazon.com/images/I/51RKKENl...   \n",
       "\n",
       "                                                name  \n",
       "0  Lifefactory 4oz BPA Free Glass Baby Bottles - ...  \n",
       "1                           Planetwise Flannel Wipes  \n",
       "2                              Planetwise Wipe Pouch  \n",
       "3                Annas Dream Full Quilt with 2 Shams  \n",
       "4  Stop Pacifier Sucking without tears with Thumb...  "
      ]
     },
     "execution_count": 35,
     "metadata": {},
     "output_type": "execute_result"
    }
   ],
   "source": [
    "\n",
    "\n",
    "# path = 'meta_Musical_Instruments.json.gz'\n"
   ]
  },
  {
   "cell_type": "code",
   "execution_count": 45,
   "metadata": {},
   "outputs": [
    {
     "name": "stdout",
     "output_type": "stream",
     "text": [
      "(915446, 3)\n"
     ]
    },
    {
     "data": {
      "text/html": [
       "<div>\n",
       "<table border=\"1\" class=\"dataframe\">\n",
       "  <thead>\n",
       "    <tr style=\"text-align: right;\">\n",
       "      <th></th>\n",
       "      <th>item_id</th>\n",
       "      <th>rating</th>\n",
       "      <th>user_id</th>\n",
       "    </tr>\n",
       "  </thead>\n",
       "  <tbody>\n",
       "    <tr>\n",
       "      <th>0</th>\n",
       "      <td>0188399313</td>\n",
       "      <td>5.0</td>\n",
       "      <td>A28O3NP6WR5517</td>\n",
       "    </tr>\n",
       "    <tr>\n",
       "      <th>1</th>\n",
       "      <td>0188399399</td>\n",
       "      <td>5.0</td>\n",
       "      <td>AX0M1Z6ZWO52J</td>\n",
       "    </tr>\n",
       "    <tr>\n",
       "      <th>2</th>\n",
       "      <td>0188399518</td>\n",
       "      <td>4.0</td>\n",
       "      <td>A1KD7N84L7NIUT</td>\n",
       "    </tr>\n",
       "    <tr>\n",
       "      <th>3</th>\n",
       "      <td>0188399518</td>\n",
       "      <td>3.0</td>\n",
       "      <td>A29CUDEIF4X1UO</td>\n",
       "    </tr>\n",
       "    <tr>\n",
       "      <th>4</th>\n",
       "      <td>0316967297</td>\n",
       "      <td>4.0</td>\n",
       "      <td>A32592TYN6C9EM</td>\n",
       "    </tr>\n",
       "  </tbody>\n",
       "</table>\n",
       "</div>"
      ],
      "text/plain": [
       "      item_id  rating         user_id\n",
       "0  0188399313     5.0  A28O3NP6WR5517\n",
       "1  0188399399     5.0   AX0M1Z6ZWO52J\n",
       "2  0188399518     4.0  A1KD7N84L7NIUT\n",
       "3  0188399518     3.0  A29CUDEIF4X1UO\n",
       "4  0316967297     4.0  A32592TYN6C9EM"
      ]
     },
     "execution_count": 45,
     "metadata": {},
     "output_type": "execute_result"
    }
   ],
   "source": [
    "# path = 'reviews_Musical_Instruments.json.gz'\n"
   ]
  }
 ],
 "metadata": {
  "anaconda-cloud": {},
  "kernelspec": {
   "display_name": "Python 3",
   "language": "python",
   "name": "python3"
  },
  "language_info": {
   "codemirror_mode": {
    "name": "ipython",
    "version": 3
   },
   "file_extension": ".py",
   "mimetype": "text/x-python",
   "name": "python",
   "nbconvert_exporter": "python",
   "pygments_lexer": "ipython3",
   "version": "3.6.4"
  },
  "toc": {
   "nav_menu": {
    "height": "30px",
    "width": "252px"
   },
   "number_sections": true,
   "sideBar": true,
   "skip_h1_title": false,
   "title_cell": "Table of Contents",
   "title_sidebar": "Contents",
   "toc_cell": false,
   "toc_position": {},
   "toc_section_display": "block",
   "toc_window_display": true
  },
  "varInspector": {
   "cols": {
    "lenName": 16,
    "lenType": 16,
    "lenVar": 40
   },
   "kernels_config": {
    "python": {
     "delete_cmd_postfix": "",
     "delete_cmd_prefix": "del ",
     "library": "var_list.py",
     "varRefreshCmd": "print(var_dic_list())"
    },
    "r": {
     "delete_cmd_postfix": ") ",
     "delete_cmd_prefix": "rm(",
     "library": "var_list.r",
     "varRefreshCmd": "cat(var_dic_list()) "
    }
   },
   "types_to_exclude": [
    "module",
    "function",
    "builtin_function_or_method",
    "instance",
    "_Feature"
   ],
   "window_display": false
  }
 },
 "nbformat": 4,
 "nbformat_minor": 2
}
