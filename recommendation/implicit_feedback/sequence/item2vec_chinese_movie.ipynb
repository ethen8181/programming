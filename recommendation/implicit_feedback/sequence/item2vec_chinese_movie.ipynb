{
 "cells": [
  {
   "cell_type": "code",
   "execution_count": 1,
   "metadata": {},
   "outputs": [
    {
     "name": "stdout",
     "output_type": "stream",
     "text": [
      "Ethen 2018-05-05 18:21:27 \n",
      "\n",
      "CPython 3.6.4\n",
      "IPython 6.3.1\n",
      "\n",
      "numpy 1.14.2\n",
      "pandas 0.22.0\n",
      "sklearn 0.19.1\n",
      "matplotlib 2.2.2\n"
     ]
    }
   ],
   "source": [
    "# 1. magic for inline plot\n",
    "# 2. magic to print version\n",
    "# 3. magic so that the notebook will reload external python modules\n",
    "# 4. magic to enable retina (high resolution) plots\n",
    "# https://gist.github.com/minrk/3301035\n",
    "%matplotlib inline\n",
    "%load_ext watermark\n",
    "%load_ext autoreload\n",
    "%autoreload 2\n",
    "%config InlineBackend.figure_format = 'retina'\n",
    "\n",
    "import numpy as np\n",
    "import pandas as pd\n",
    "import matplotlib.pyplot as plt\n",
    "from sklearn.model_selection import train_test_split\n",
    "\n",
    "# change default style figure and font size\n",
    "plt.rcParams['figure.figsize'] = 8, 6\n",
    "plt.rcParams['font.size'] = 12\n",
    "\n",
    "%watermark -a 'Ethen' -d -t -v -p numpy,pandas,sklearn,matplotlib"
   ]
  },
  {
   "cell_type": "code",
   "execution_count": 2,
   "metadata": {},
   "outputs": [],
   "source": [
    "import json\n",
    "\n",
    "sequence_file = '/Users/mingyuliu/MovieTaster-Open/datas/doulist_0804_09.json'\n",
    "movie_file = '/Users/mingyuliu/MovieTaster-Open/datas/movie_0804_09.json'"
   ]
  },
  {
   "cell_type": "code",
   "execution_count": 3,
   "metadata": {},
   "outputs": [
    {
     "data": {
      "text/plain": [
       "{'movie_names': ['盖文·斯通复活',\n",
       "  '海滩救护队 第一季',\n",
       "  '检查站',\n",
       "  '大黄蜂',\n",
       "  '战狼2',\n",
       "  '海军陆战队员5：杀戮战场',\n",
       "  '毁灭者',\n",
       "  '难以置信',\n",
       "  '审讯',\n",
       "  '搏击之王',\n",
       "  '忍者神龟2：破影而出',\n",
       "  '掠夺者',\n",
       "  '姐妹',\n",
       "  '生活残骸',\n",
       "  '老爸当家',\n",
       "  '倒数追击',\n",
       "  '摩登原始人：石器时代大乱斗',\n",
       "  '死囚大逃杀2',\n",
       "  '12回合3：致命禁闭',\n",
       "  '球手们 第一季',\n",
       "  '怪客',\n",
       "  '圣诞追缉令',\n",
       "  '海军陆战队员4',\n",
       "  '地心历险记3',\n",
       "  '海滩游侠'],\n",
       " 'list_name': 'WWE出品以及WWE明星主演电影',\n",
       " 'list_id': 1741812}"
      ]
     },
     "execution_count": 3,
     "metadata": {},
     "output_type": "execute_result"
    }
   ],
   "source": [
    "with open(sequence_file) as f:\n",
    "    line = f.readline().strip()\n",
    "\n",
    "json.loads(line)"
   ]
  },
  {
   "cell_type": "code",
   "execution_count": 4,
   "metadata": {},
   "outputs": [],
   "source": [
    "# extract the movie name and its corresponding count\n",
    "movie_counter = {}\n",
    "with open(sequence_file) as f:\n",
    "    for line in f:\n",
    "        line = line.strip()\n",
    "        for movie_name in json.loads(line)['movie_names']:\n",
    "            if movie_name not in movie_counter:\n",
    "                movie_counter[movie_name] = 0\n",
    "\n",
    "            movie_counter[movie_name] += 1"
   ]
  },
  {
   "cell_type": "code",
   "execution_count": 5,
   "metadata": {},
   "outputs": [
    {
     "name": "stdout",
     "output_type": "stream",
     "text": [
      "Found 130206 distinct movies from /Users/mingyuliu/MovieTaster-Open/datas/doulist_0804_09.json\n"
     ]
    }
   ],
   "source": [
    "min_word_freq = 0\n",
    "movie2index = {}\n",
    "index2movie = []\n",
    "for movie, count in movie_counter.items():\n",
    "    if count > min_word_freq:\n",
    "        movie2index[movie] = len(movie2index)\n",
    "        index2movie.append(movie)\n",
    "\n",
    "unknown_token = '<unk>'\n",
    "index2movie.append(unknown_token)\n",
    "movie2index[unknown_token] = len(movie2index)\n",
    "print('Found {} distinct movies from {}'.format(len(movie2index), sequence_file))"
   ]
  },
  {
   "cell_type": "code",
   "execution_count": 6,
   "metadata": {},
   "outputs": [],
   "source": [
    "# movie_freq = filter(lambda _:_[1] >= min_word_freq, movie_counter.items())\n",
    "# movie_counter_sorted = sorted(movie_freq, key=lambda x: (-x[1], x[0]))\n",
    "# movies, _ = list(zip(*movie_counter_sorted))\n",
    "# movie_name_id_dict = dict(zip(movies, range(len(movies))))\n",
    "# movie_name_id_dict['<unk>'] = len(movies)\n",
    "# print('movie_name_id_dict is %d from [%s]' % (len(movie_name_id_dict), sequence_file))"
   ]
  },
  {
   "cell_type": "code",
   "execution_count": 7,
   "metadata": {},
   "outputs": [
    {
     "data": {
      "text/plain": [
       "[4848,\n",
       " 2597,\n",
       " 1793,\n",
       " 4208,\n",
       " 5311,\n",
       " 9806,\n",
       " 13810,\n",
       " 6791,\n",
       " 13619,\n",
       " 9273,\n",
       " 8019,\n",
       " 7134,\n",
       " 5337,\n",
       " 13105,\n",
       " 13700,\n",
       " 7929,\n",
       " 7923,\n",
       " 544,\n",
       " 3972,\n",
       " 796,\n",
       " 4268,\n",
       " 3371,\n",
       " 4576]"
      ]
     },
     "execution_count": 7,
     "metadata": {},
     "output_type": "execute_result"
    }
   ],
   "source": [
    "# convert the movie into ids\n",
    "with open(sequence_file) as f:\n",
    "    for line in f:\n",
    "        movie_names = json.loads(line.strip())['movie_names']\n",
    "        # note this is only converting one of them\n",
    "        movie_ids = [movie2index[movie_name] for movie_name in movie_names]\n",
    "\n",
    "movie_ids"
   ]
  },
  {
   "cell_type": "code",
   "execution_count": 8,
   "metadata": {},
   "outputs": [
    {
     "name": "stdout",
     "output_type": "stream",
     "text": [
      "header:  30641 100\n",
      "\n",
      "line:  </s> -0.21131 -0.2162 0.04122 -0.32946 0.060737 0.19275 0.24728 -0.054955 -0.064975 0.021295 -0.052426 -0.12792 0.0095121 0.24508 0.019768 0.13504 0.33133 0.14172 -0.054049 0.059114 0.050887 0.0049271 0.25136 -0.022339 0.032896 0.009978 0.06102 -0.11051 0.053359 -0.20209 0.066269 -0.055175 0.23177 -0.2138 -0.17304 0.53412 -0.04332 -0.085039 0.37848 -0.3774 0.064045 -0.1722 0.00013164 0.084356 0.099483 0.085978 -0.1023 -0.13675 0.095966 0.079536 0.050399 -0.1413 -0.0603 0.0060839 -0.01489 0.28865 -0.15171 -0.043863 0.098124 0.25111 0.032686 -0.00070122 -0.057389 0.015229 -0.18102 -0.20692 -0.010707 -0.053809 -0.046034 0.068155 -0.14465 -0.29584 -0.15645 0.2327 -0.089968 0.19759 0.13405 -0.013056 -0.12529 -0.010635 -0.075038 0.12613 -0.0071746 -0.027426 -0.2734 0.016698 0.033973 -0.41272 0.2506 -0.07961 -0.10346 -0.15892 -0.3009 -0.18918 0.10125 -0.06634 0.19005 -0.20425 -0.10684 0.29993 \n",
      "\n"
     ]
    }
   ],
   "source": [
    "vec_file = '/Users/mingyuliu/MovieTaster-Open/models/fasttext_model_0804_09_skipgram.vec'\n",
    "with open(vec_file) as f:\n",
    "    # for fasttext's word vector, the first line is a header containing the number\n",
    "    # of words and the dimensionality of the vectors\n",
    "    header = f.readline()\n",
    "    line = f.readline()\n",
    "\n",
    "print('header: ', header)\n",
    "print('line: ', line)"
   ]
  },
  {
   "cell_type": "code",
   "execution_count": 9,
   "metadata": {},
   "outputs": [],
   "source": [
    "vec_file = '/Users/mingyuliu/MovieTaster-Open/models/fasttext_model_0804_09_skipgram.vec'\n",
    "vectors = {}\n",
    "with open(vec_file) as f:\n",
    "    # for fasttext's word vector, the first line is a header containing the number\n",
    "    # of words and the dimensionality of the vectors\n",
    "    f.readline()\n",
    "    for line in f:\n",
    "        splitted = line.strip().split()\n",
    "        if not splitted[0].isdigit():\n",
    "            continue\n",
    "\n",
    "        movie_id = int(splitted[0])\n",
    "        vector = np.array(splitted[1:], dtype = np.float32)\n",
    "        vectors[movie_id] = vector"
   ]
  },
  {
   "cell_type": "code",
   "execution_count": 10,
   "metadata": {},
   "outputs": [
    {
     "data": {
      "text/plain": [
       "array([ 0.018763 , -0.82378  ,  0.21688  , -0.45     , -0.30275  ,\n",
       "       -0.27608  ,  0.38869  , -0.41264  ,  0.014629 ,  0.41903  ,\n",
       "       -1.1321   , -0.25654  ,  0.73778  ,  1.0085   , -0.29896  ,\n",
       "        0.36036  ,  0.10631  , -0.055913 , -0.2414   , -0.24269  ,\n",
       "        0.17245  ,  0.69607  , -0.031655 ,  0.034579 ,  0.85329  ,\n",
       "        0.96645  ,  0.29768  , -0.85085  ,  0.60223  , -0.21128  ,\n",
       "        0.98841  ,  0.27903  ,  0.093009 , -0.68712  , -0.54967  ,\n",
       "        0.1639   ,  0.48586  ,  0.24759  , -0.54613  , -0.28554  ,\n",
       "        0.53195  , -0.52514  , -0.5339   , -0.075233 , -0.063432 ,\n",
       "        0.50362  ,  0.39234  , -0.078006 ,  0.96622  , -0.14415  ,\n",
       "       -0.075358 , -0.13686  ,  0.15022  ,  1.2478   ,  0.25723  ,\n",
       "        0.53085  ,  0.004477 , -0.48371  , -0.14993  ,  0.67801  ,\n",
       "       -0.3439   , -0.72657  ,  0.36315  ,  0.07711  , -0.54221  ,\n",
       "        0.073791 , -0.4507   , -0.09035  ,  0.21172  , -0.13133  ,\n",
       "       -0.23066  , -0.84336  , -0.080367 ,  0.056479 , -0.87529  ,\n",
       "        0.0013406,  0.6349   , -0.9132   ,  0.40457  ,  1.1661   ,\n",
       "       -0.26237  ,  0.32053  ,  0.42859  , -0.71035  ,  0.46057  ,\n",
       "       -1.1163   ,  0.37187  , -1.1672   , -0.32858  , -0.056332 ,\n",
       "       -0.22062  , -0.61288  , -0.21656  ,  0.80775  , -0.037244 ,\n",
       "       -0.050415 , -0.1822   , -0.026344 , -0.40773  ,  1.2943   ],\n",
       "      dtype=float32)"
      ]
     },
     "execution_count": 10,
     "metadata": {},
     "output_type": "execute_result"
    }
   ],
   "source": [
    "movie_name = '小时代'\n",
    "if movie_name not in movie2index:\n",
    "    print('movie name not in corpus')\n",
    "\n",
    "current_movie_id = movie2index[movie_name]\n",
    "current_vector = vectors[current_movie_id]\n",
    "current_vector"
   ]
  },
  {
   "cell_type": "code",
   "execution_count": 11,
   "metadata": {},
   "outputs": [],
   "source": [
    "class minHeap:\n",
    "    def __init__(self, k):\n",
    "        self._k = k\n",
    "        self._heap = []\n",
    "\n",
    "    def add(self, item):\n",
    "        if len(self._heap) < self._k:\n",
    "            self._heap.append(item)\n",
    "            heapq.heapify(self._heap)\n",
    "        else:\n",
    "            if item > self._heap[0]:\n",
    "                self._heap[0] = item\n",
    "                heapq.heapify(self._heap)\n",
    "\n",
    "    def get_min(self):\n",
    "        if len(self._heap) > 0:\n",
    "            return self._heap[0]\n",
    "        else:\n",
    "            return -2\n",
    "\n",
    "    def get_all(self):\n",
    "        return self._heap\n",
    "\n",
    "def similarity(v1, v2):\n",
    "    n1 = np.linalg.norm(v1)\n",
    "    n2 = np.linalg.norm(v2)\n",
    "    return np.dot(v1, v2) / n1 / n2"
   ]
  },
  {
   "cell_type": "code",
   "execution_count": 15,
   "metadata": {},
   "outputs": [
    {
     "name": "stdout",
     "output_type": "stream",
     "text": [
      "[133]赛尔号大电影6：圣者无敌 0.571262\n",
      "[19437]老师不是人 0.566645\n",
      "[493]伊甸湖 0.560819\n",
      "[21414]初代吸血鬼 第一季 0.559760\n",
      "[2108]油脂 0.558465\n"
     ]
    }
   ],
   "source": [
    "import heapq\n",
    "\n",
    "k = 5\n",
    "min_heap = minHeap(k)\n",
    "like_candidates = []\n",
    "for movie_id, vector in vectors.items():\n",
    "    if movie_id == current_movie_id:\n",
    "        continue\n",
    "    sim = similarity(current_vector, vector)\n",
    "    if len(like_candidates) < k or sim > min_heap.get_min():\n",
    "        min_heap.add(sim)\n",
    "        like_candidates.append((movie_id, sim))\n",
    "        \n",
    "for t in sorted(like_candidates, reverse=True, key=lambda _:_[1])[:k]:\n",
    "    print('[%d]%s %f' % (t[0], index2movie[t[0]], t[1]))"
   ]
  },
  {
   "cell_type": "code",
   "execution_count": null,
   "metadata": {},
   "outputs": [],
   "source": []
  }
 ],
 "metadata": {
  "kernelspec": {
   "display_name": "Python 3",
   "language": "python",
   "name": "python3"
  },
  "language_info": {
   "codemirror_mode": {
    "name": "ipython",
    "version": 3
   },
   "file_extension": ".py",
   "mimetype": "text/x-python",
   "name": "python",
   "nbconvert_exporter": "python",
   "pygments_lexer": "ipython3",
   "version": "3.6.4"
  },
  "toc": {
   "nav_menu": {},
   "number_sections": true,
   "sideBar": true,
   "skip_h1_title": false,
   "title_cell": "Table of Contents",
   "title_sidebar": "Contents",
   "toc_cell": false,
   "toc_position": {
    "height": "calc(100% - 180px)",
    "left": "10px",
    "top": "150px",
    "width": "181px"
   },
   "toc_section_display": true,
   "toc_window_display": true
  },
  "varInspector": {
   "cols": {
    "lenName": 16,
    "lenType": 16,
    "lenVar": 40
   },
   "kernels_config": {
    "python": {
     "delete_cmd_postfix": "",
     "delete_cmd_prefix": "del ",
     "library": "var_list.py",
     "varRefreshCmd": "print(var_dic_list())"
    },
    "r": {
     "delete_cmd_postfix": ") ",
     "delete_cmd_prefix": "rm(",
     "library": "var_list.r",
     "varRefreshCmd": "cat(var_dic_list()) "
    }
   },
   "types_to_exclude": [
    "module",
    "function",
    "builtin_function_or_method",
    "instance",
    "_Feature"
   ],
   "window_display": false
  }
 },
 "nbformat": 4,
 "nbformat_minor": 2
}
