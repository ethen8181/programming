{
 "cells": [
  {
   "cell_type": "code",
   "execution_count": 12,
   "metadata": {},
   "outputs": [
    {
     "name": "stdout",
     "output_type": "stream",
     "text": [
      "['' 'Toy Story (1995)' 'GoldenEye (1995)' ... 'Sliding Doors (1998)'\n",
      " 'You So Crazy (1994)' 'Scream of Stone (Schrei aus Stein) (1991)']\n"
     ]
    },
    {
     "data": {
      "text/plain": [
       "<1683x944 sparse matrix of type '<class 'numpy.float32'>'\n",
       "\twith 100000 stored elements in Compressed Sparse Row format>"
      ]
     },
     "execution_count": 12,
     "metadata": {},
     "output_type": "execute_result"
    }
   ],
   "source": [
    "import numpy as np\n",
    "from implicit.bpr import BayesianPersonalizedRanking\n",
    "from implicit.datasets.movielens import get_movielens\n",
    "\n",
    "titles, ratings = get_movielens(variant='100k')\n",
    "print(titles)\n",
    "ratings"
   ]
  },
  {
   "cell_type": "code",
   "execution_count": 7,
   "metadata": {},
   "outputs": [],
   "source": [
    "# remove things < min_rating, and convert to implicit dataset\n",
    "# by considering ratings as a binary preference only\n",
    "min_rating = 4.0\n",
    "ratings.data[ratings.data < min_rating] = 0\n",
    "ratings.eliminate_zeros()\n",
    "ratings.data = np.ones(len(ratings.data))"
   ]
  },
  {
   "cell_type": "code",
   "execution_count": 16,
   "metadata": {},
   "outputs": [
    {
     "name": "stderr",
     "output_type": "stream",
     "text": [
      "100%|██████████| 10/10 [00:00<00:00, 152.03it/s, correct=57.99%, skipped=30.34%]\n"
     ]
    }
   ],
   "source": [
    "model = BayesianPersonalizedRanking(factors=30, iterations=10)\n",
    "model.fit(ratings)"
   ]
  },
  {
   "cell_type": "code",
   "execution_count": 21,
   "metadata": {},
   "outputs": [
    {
     "name": "stdout",
     "output_type": "stream",
     "text": [
      "Toy Story (1995) Toy Story (1995) 0.9999999\n",
      "Toy Story (1995) Mission: Impossible (1996) 0.9962632\n",
      "Toy Story (1995) Fargo (1996) 0.9955385\n",
      "Toy Story (1995) Independence Day (ID4) (1996) 0.9954589\n",
      "Toy Story (1995) Star Trek: First Contact (1996) 0.994294\n"
     ]
    }
   ],
   "source": [
    "movieid = 1\n",
    "if ratings.indptr[movieid] != ratings.indptr[movieid + 1]:\n",
    "    title = titles[movieid]\n",
    "    for other, score in model.similar_items(movieid, N=5):\n",
    "        print(title, titles[other], score)"
   ]
  }
 ],
 "metadata": {
  "kernelspec": {
   "display_name": "Python 3",
   "language": "python",
   "name": "python3"
  },
  "language_info": {
   "codemirror_mode": {
    "name": "ipython",
    "version": 3
   },
   "file_extension": ".py",
   "mimetype": "text/x-python",
   "name": "python",
   "nbconvert_exporter": "python",
   "pygments_lexer": "ipython3",
   "version": "3.6.4"
  },
  "toc": {
   "nav_menu": {},
   "number_sections": true,
   "sideBar": true,
   "skip_h1_title": false,
   "title_cell": "Table of Contents",
   "title_sidebar": "Contents",
   "toc_cell": false,
   "toc_position": {
    "height": "calc(100% - 180px)",
    "left": "10px",
    "top": "150px",
    "width": "238px"
   },
   "toc_section_display": true,
   "toc_window_display": true
  },
  "varInspector": {
   "cols": {
    "lenName": 16,
    "lenType": 16,
    "lenVar": 40
   },
   "kernels_config": {
    "python": {
     "delete_cmd_postfix": "",
     "delete_cmd_prefix": "del ",
     "library": "var_list.py",
     "varRefreshCmd": "print(var_dic_list())"
    },
    "r": {
     "delete_cmd_postfix": ") ",
     "delete_cmd_prefix": "rm(",
     "library": "var_list.r",
     "varRefreshCmd": "cat(var_dic_list()) "
    }
   },
   "types_to_exclude": [
    "module",
    "function",
    "builtin_function_or_method",
    "instance",
    "_Feature"
   ],
   "window_display": false
  }
 },
 "nbformat": 4,
 "nbformat_minor": 2
}
