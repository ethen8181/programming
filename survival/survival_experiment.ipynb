{
 "cells": [
  {
   "cell_type": "markdown",
   "metadata": {
    "toc": true
   },
   "source": [
    "<h1>Table of Contents<span class=\"tocSkip\"></span></h1>\n",
    "<div class=\"toc\"><ul class=\"toc-item\"></ul></div>"
   ]
  },
  {
   "cell_type": "code",
   "execution_count": 1,
   "metadata": {},
   "outputs": [
    {
     "name": "stderr",
     "output_type": "stream",
     "text": [
      "/Users/mingyuliu/anaconda3/lib/python3.6/site-packages/lightgbm/__init__.py:46: UserWarning: Starting from version 2.2.1, the library file in distribution wheels for macOS is built by the Apple Clang (Xcode_8.3.3) compiler.\n",
      "This means that in case of installing LightGBM from PyPI via the ``pip install lightgbm`` command, you don't need to install the gcc compiler anymore.\n",
      "Instead of that, you need to install the OpenMP library, which is required for running LightGBM on the system with the Apple Clang compiler.\n",
      "You can install the OpenMP library by the following command: ``brew install libomp``.\n",
      "  \"You can install the OpenMP library by the following command: ``brew install libomp``.\", UserWarning)\n"
     ]
    },
    {
     "name": "stdout",
     "output_type": "stream",
     "text": [
      "Ethen 2020-03-25 20:11:00 \n",
      "\n",
      "CPython 3.6.4\n",
      "IPython 7.9.0\n",
      "\n",
      "numpy 1.16.5\n",
      "pandas 0.25.0\n",
      "sklearn 0.21.2\n",
      "matplotlib 3.1.1\n"
     ]
    }
   ],
   "source": [
    "# 1. magic for inline plot\n",
    "# 2. magic to print version\n",
    "# 3. magic so that the notebook will reload external python modules\n",
    "# 4. magic to enable retina (high resolution) plots\n",
    "# https://gist.github.com/minrk/3301035\n",
    "%matplotlib inline\n",
    "%load_ext watermark\n",
    "%load_ext autoreload\n",
    "%autoreload 2\n",
    "%config InlineBackend.figure_format='retina'\n",
    "\n",
    "import os\n",
    "import shap\n",
    "import time\n",
    "import numpy as np\n",
    "import pandas as pd\n",
    "import xgboost as xgb\n",
    "import matplotlib.pyplot as plt\n",
    "from sklearn.model_selection import train_test_split\n",
    "\n",
    "# change default style figure and font size\n",
    "plt.rcParams['figure.figsize'] = 8, 6\n",
    "plt.rcParams['font.size'] = 12\n",
    "\n",
    "# prevent scientific notations\n",
    "pd.set_option('display.float_format', lambda x: '%.3f' % x)\n",
    "\n",
    "%watermark -a 'Ethen' -d -t -v -p numpy,pandas,sklearn,matplotlib"
   ]
  },
  {
   "cell_type": "code",
   "execution_count": 6,
   "metadata": {},
   "outputs": [
    {
     "name": "stdout",
     "output_type": "stream",
     "text": [
      "(303, 14)\n"
     ]
    },
    {
     "data": {
      "text/html": [
       "<div>\n",
       "<style scoped>\n",
       "    .dataframe tbody tr th:only-of-type {\n",
       "        vertical-align: middle;\n",
       "    }\n",
       "\n",
       "    .dataframe tbody tr th {\n",
       "        vertical-align: top;\n",
       "    }\n",
       "\n",
       "    .dataframe thead th {\n",
       "        text-align: right;\n",
       "    }\n",
       "</style>\n",
       "<table border=\"1\" class=\"dataframe\">\n",
       "  <thead>\n",
       "    <tr style=\"text-align: right;\">\n",
       "      <th></th>\n",
       "      <th>age</th>\n",
       "      <th>sex</th>\n",
       "      <th>cp</th>\n",
       "      <th>trestbps</th>\n",
       "      <th>chol</th>\n",
       "      <th>fbs</th>\n",
       "      <th>restecg</th>\n",
       "      <th>thalach</th>\n",
       "      <th>exang</th>\n",
       "      <th>oldpeak</th>\n",
       "      <th>slope</th>\n",
       "      <th>ca</th>\n",
       "      <th>thal</th>\n",
       "      <th>target</th>\n",
       "    </tr>\n",
       "  </thead>\n",
       "  <tbody>\n",
       "    <tr>\n",
       "      <th>0</th>\n",
       "      <td>63</td>\n",
       "      <td>1</td>\n",
       "      <td>3</td>\n",
       "      <td>145</td>\n",
       "      <td>233</td>\n",
       "      <td>1</td>\n",
       "      <td>0</td>\n",
       "      <td>150</td>\n",
       "      <td>0</td>\n",
       "      <td>2.300</td>\n",
       "      <td>0</td>\n",
       "      <td>0</td>\n",
       "      <td>1</td>\n",
       "      <td>1</td>\n",
       "    </tr>\n",
       "    <tr>\n",
       "      <th>1</th>\n",
       "      <td>37</td>\n",
       "      <td>1</td>\n",
       "      <td>2</td>\n",
       "      <td>130</td>\n",
       "      <td>250</td>\n",
       "      <td>0</td>\n",
       "      <td>1</td>\n",
       "      <td>187</td>\n",
       "      <td>0</td>\n",
       "      <td>3.500</td>\n",
       "      <td>0</td>\n",
       "      <td>0</td>\n",
       "      <td>2</td>\n",
       "      <td>1</td>\n",
       "    </tr>\n",
       "    <tr>\n",
       "      <th>2</th>\n",
       "      <td>41</td>\n",
       "      <td>0</td>\n",
       "      <td>1</td>\n",
       "      <td>130</td>\n",
       "      <td>204</td>\n",
       "      <td>0</td>\n",
       "      <td>0</td>\n",
       "      <td>172</td>\n",
       "      <td>0</td>\n",
       "      <td>1.400</td>\n",
       "      <td>2</td>\n",
       "      <td>0</td>\n",
       "      <td>2</td>\n",
       "      <td>1</td>\n",
       "    </tr>\n",
       "    <tr>\n",
       "      <th>3</th>\n",
       "      <td>56</td>\n",
       "      <td>1</td>\n",
       "      <td>1</td>\n",
       "      <td>120</td>\n",
       "      <td>236</td>\n",
       "      <td>0</td>\n",
       "      <td>1</td>\n",
       "      <td>178</td>\n",
       "      <td>0</td>\n",
       "      <td>0.800</td>\n",
       "      <td>2</td>\n",
       "      <td>0</td>\n",
       "      <td>2</td>\n",
       "      <td>1</td>\n",
       "    </tr>\n",
       "    <tr>\n",
       "      <th>4</th>\n",
       "      <td>57</td>\n",
       "      <td>0</td>\n",
       "      <td>0</td>\n",
       "      <td>120</td>\n",
       "      <td>354</td>\n",
       "      <td>0</td>\n",
       "      <td>1</td>\n",
       "      <td>163</td>\n",
       "      <td>1</td>\n",
       "      <td>0.600</td>\n",
       "      <td>2</td>\n",
       "      <td>0</td>\n",
       "      <td>2</td>\n",
       "      <td>1</td>\n",
       "    </tr>\n",
       "  </tbody>\n",
       "</table>\n",
       "</div>"
      ],
      "text/plain": [
       "   age  sex  cp  trestbps  chol  fbs  restecg  thalach  exang  oldpeak  slope  \\\n",
       "0   63    1   3       145   233    1        0      150      0    2.300      0   \n",
       "1   37    1   2       130   250    0        1      187      0    3.500      0   \n",
       "2   41    0   1       130   204    0        0      172      0    1.400      2   \n",
       "3   56    1   1       120   236    0        1      178      0    0.800      2   \n",
       "4   57    0   0       120   354    0        1      163      1    0.600      2   \n",
       "\n",
       "   ca  thal  target  \n",
       "0   0     1       1  \n",
       "1   0     2       1  \n",
       "2   0     2       1  \n",
       "3   0     2       1  \n",
       "4   0     2       1  "
      ]
     },
     "execution_count": 6,
     "metadata": {},
     "output_type": "execute_result"
    }
   ],
   "source": [
    "data = pd.read_csv('heart.csv')\n",
    "print(data.shape)\n",
    "data.head()"
   ]
  },
  {
   "cell_type": "code",
   "execution_count": 46,
   "metadata": {},
   "outputs": [],
   "source": [
    "??shap.datasets.nhanesi"
   ]
  },
  {
   "cell_type": "code",
   "execution_count": 44,
   "metadata": {},
   "outputs": [
    {
     "name": "stdout",
     "output_type": "stream",
     "text": [
      "(9932, 19)\n"
     ]
    },
    {
     "data": {
      "text/html": [
       "<div>\n",
       "<style scoped>\n",
       "    .dataframe tbody tr th:only-of-type {\n",
       "        vertical-align: middle;\n",
       "    }\n",
       "\n",
       "    .dataframe tbody tr th {\n",
       "        vertical-align: top;\n",
       "    }\n",
       "\n",
       "    .dataframe thead th {\n",
       "        text-align: right;\n",
       "    }\n",
       "</style>\n",
       "<table border=\"1\" class=\"dataframe\">\n",
       "  <thead>\n",
       "    <tr style=\"text-align: right;\">\n",
       "      <th></th>\n",
       "      <th>Unnamed: 0</th>\n",
       "      <th>Age</th>\n",
       "      <th>Diastolic BP</th>\n",
       "      <th>Poverty index</th>\n",
       "      <th>Race</th>\n",
       "      <th>Red blood cells</th>\n",
       "      <th>Sedimentation rate</th>\n",
       "      <th>Serum Albumin</th>\n",
       "      <th>Serum Cholesterol</th>\n",
       "      <th>Serum Iron</th>\n",
       "      <th>Serum Magnesium</th>\n",
       "      <th>Serum Protein</th>\n",
       "      <th>Sex</th>\n",
       "      <th>Systolic BP</th>\n",
       "      <th>TIBC</th>\n",
       "      <th>TS</th>\n",
       "      <th>White blood cells</th>\n",
       "      <th>BMI</th>\n",
       "      <th>Pulse pressure</th>\n",
       "    </tr>\n",
       "  </thead>\n",
       "  <tbody>\n",
       "    <tr>\n",
       "      <th>0</th>\n",
       "      <td>0</td>\n",
       "      <td>35.000</td>\n",
       "      <td>92.000</td>\n",
       "      <td>126.000</td>\n",
       "      <td>2.000</td>\n",
       "      <td>77.700</td>\n",
       "      <td>12.000</td>\n",
       "      <td>5.000</td>\n",
       "      <td>165.000</td>\n",
       "      <td>135.000</td>\n",
       "      <td>1.370</td>\n",
       "      <td>7.600</td>\n",
       "      <td>Female</td>\n",
       "      <td>142.000</td>\n",
       "      <td>323.000</td>\n",
       "      <td>41.800</td>\n",
       "      <td>5.800</td>\n",
       "      <td>31.109</td>\n",
       "      <td>50.000</td>\n",
       "    </tr>\n",
       "    <tr>\n",
       "      <th>1</th>\n",
       "      <td>1</td>\n",
       "      <td>71.000</td>\n",
       "      <td>78.000</td>\n",
       "      <td>210.000</td>\n",
       "      <td>2.000</td>\n",
       "      <td>77.700</td>\n",
       "      <td>37.000</td>\n",
       "      <td>4.000</td>\n",
       "      <td>298.000</td>\n",
       "      <td>89.000</td>\n",
       "      <td>1.380</td>\n",
       "      <td>6.400</td>\n",
       "      <td>Female</td>\n",
       "      <td>156.000</td>\n",
       "      <td>331.000</td>\n",
       "      <td>26.900</td>\n",
       "      <td>5.300</td>\n",
       "      <td>32.363</td>\n",
       "      <td>78.000</td>\n",
       "    </tr>\n",
       "    <tr>\n",
       "      <th>2</th>\n",
       "      <td>2</td>\n",
       "      <td>74.000</td>\n",
       "      <td>86.000</td>\n",
       "      <td>999.000</td>\n",
       "      <td>2.000</td>\n",
       "      <td>77.700</td>\n",
       "      <td>31.000</td>\n",
       "      <td>3.800</td>\n",
       "      <td>222.000</td>\n",
       "      <td>115.000</td>\n",
       "      <td>1.370</td>\n",
       "      <td>7.400</td>\n",
       "      <td>Female</td>\n",
       "      <td>170.000</td>\n",
       "      <td>299.000</td>\n",
       "      <td>38.500</td>\n",
       "      <td>8.100</td>\n",
       "      <td>25.388</td>\n",
       "      <td>84.000</td>\n",
       "    </tr>\n",
       "    <tr>\n",
       "      <th>3</th>\n",
       "      <td>3</td>\n",
       "      <td>64.000</td>\n",
       "      <td>92.000</td>\n",
       "      <td>385.000</td>\n",
       "      <td>1.000</td>\n",
       "      <td>77.700</td>\n",
       "      <td>30.000</td>\n",
       "      <td>4.300</td>\n",
       "      <td>265.000</td>\n",
       "      <td>94.000</td>\n",
       "      <td>1.970</td>\n",
       "      <td>7.300</td>\n",
       "      <td>Female</td>\n",
       "      <td>172.000</td>\n",
       "      <td>349.000</td>\n",
       "      <td>26.900</td>\n",
       "      <td>6.700</td>\n",
       "      <td>26.447</td>\n",
       "      <td>80.000</td>\n",
       "    </tr>\n",
       "    <tr>\n",
       "      <th>4</th>\n",
       "      <td>4</td>\n",
       "      <td>32.000</td>\n",
       "      <td>70.000</td>\n",
       "      <td>183.000</td>\n",
       "      <td>2.000</td>\n",
       "      <td>77.700</td>\n",
       "      <td>18.000</td>\n",
       "      <td>5.000</td>\n",
       "      <td>203.000</td>\n",
       "      <td>192.000</td>\n",
       "      <td>1.350</td>\n",
       "      <td>7.300</td>\n",
       "      <td>Male</td>\n",
       "      <td>128.000</td>\n",
       "      <td>386.000</td>\n",
       "      <td>49.700</td>\n",
       "      <td>8.100</td>\n",
       "      <td>20.355</td>\n",
       "      <td>58.000</td>\n",
       "    </tr>\n",
       "  </tbody>\n",
       "</table>\n",
       "</div>"
      ],
      "text/plain": [
       "   Unnamed: 0    Age  Diastolic BP  Poverty index  Race  Red blood cells  \\\n",
       "0           0 35.000        92.000        126.000 2.000           77.700   \n",
       "1           1 71.000        78.000        210.000 2.000           77.700   \n",
       "2           2 74.000        86.000        999.000 2.000           77.700   \n",
       "3           3 64.000        92.000        385.000 1.000           77.700   \n",
       "4           4 32.000        70.000        183.000 2.000           77.700   \n",
       "\n",
       "   Sedimentation rate  Serum Albumin  Serum Cholesterol  Serum Iron  \\\n",
       "0              12.000          5.000            165.000     135.000   \n",
       "1              37.000          4.000            298.000      89.000   \n",
       "2              31.000          3.800            222.000     115.000   \n",
       "3              30.000          4.300            265.000      94.000   \n",
       "4              18.000          5.000            203.000     192.000   \n",
       "\n",
       "   Serum Magnesium  Serum Protein     Sex  Systolic BP    TIBC     TS  \\\n",
       "0            1.370          7.600  Female      142.000 323.000 41.800   \n",
       "1            1.380          6.400  Female      156.000 331.000 26.900   \n",
       "2            1.370          7.400  Female      170.000 299.000 38.500   \n",
       "3            1.970          7.300  Female      172.000 349.000 26.900   \n",
       "4            1.350          7.300    Male      128.000 386.000 49.700   \n",
       "\n",
       "   White blood cells    BMI  Pulse pressure  \n",
       "0              5.800 31.109          50.000  \n",
       "1              5.300 32.363          78.000  \n",
       "2              8.100 25.388          84.000  \n",
       "3              6.700 26.447          80.000  \n",
       "4              8.100 20.355          58.000  "
      ]
     },
     "execution_count": 44,
     "metadata": {},
     "output_type": "execute_result"
    }
   ],
   "source": [
    "X, y = shap.datasets.nhanesi()\n",
    "X_display, y_display = shap.datasets.nhanesi(display=True) # human readable feature values\n",
    "print(X_display.shape)\n",
    "X_display.head()"
   ]
  },
  {
   "cell_type": "code",
   "execution_count": 45,
   "metadata": {},
   "outputs": [
    {
     "data": {
      "text/plain": [
       "array([ 15.27465753,  11.58607306,   8.14908676, ..., -18.87716895,\n",
       "       -19.68310502,  17.93858447])"
      ]
     },
     "execution_count": 45,
     "metadata": {},
     "output_type": "execute_result"
    }
   ],
   "source": [
    "y_display"
   ]
  },
  {
   "cell_type": "code",
   "execution_count": 38,
   "metadata": {},
   "outputs": [
    {
     "data": {
      "text/plain": [
       "Index(['Unnamed: 0', 'Age', 'Diastolic BP', 'Poverty index', 'Race',\n",
       "       'Red blood cells', 'Sedimentation rate', 'Serum Albumin',\n",
       "       'Serum Cholesterol', 'Serum Iron', 'Serum Magnesium', 'Serum Protein',\n",
       "       'Sex', 'Systolic BP', 'TIBC', 'TS', 'White blood cells', 'BMI',\n",
       "       'Pulse pressure'],\n",
       "      dtype='object')"
      ]
     },
     "execution_count": 38,
     "metadata": {},
     "output_type": "execute_result"
    }
   ],
   "source": [
    "num_cols = [\n",
    "    'Age', 'Diastolic BP', 'Poverty index', 'Race',\n",
    "    'Red blood cells', 'Sedimentation rate', 'Serum Albumin',\n",
    "    'Serum Cholesterol', 'Serum Iron', 'Serum Magnesium', 'Serum Protein',\n",
    "    'Sex', 'Systolic BP', 'TIBC', 'TS', 'White blood cells', 'BMI', 'Pulse pressure'\n",
    "]"
   ]
  },
  {
   "cell_type": "code",
   "execution_count": null,
   "metadata": {},
   "outputs": [],
   "source": [
    "data = X_display[num_cols]\n",
    "label = df_rossi[label_col].values\n",
    "\n",
    "X_train, X_test, y_train, y_test = train_test_split(data, label, test_size=0.2, random_state=1234)"
   ]
  },
  {
   "cell_type": "code",
   "execution_count": 21,
   "metadata": {},
   "outputs": [
    {
     "name": "stdout",
     "output_type": "stream",
     "text": [
      "(432, 9)\n"
     ]
    },
    {
     "data": {
      "text/html": [
       "<div>\n",
       "<style scoped>\n",
       "    .dataframe tbody tr th:only-of-type {\n",
       "        vertical-align: middle;\n",
       "    }\n",
       "\n",
       "    .dataframe tbody tr th {\n",
       "        vertical-align: top;\n",
       "    }\n",
       "\n",
       "    .dataframe thead th {\n",
       "        text-align: right;\n",
       "    }\n",
       "</style>\n",
       "<table border=\"1\" class=\"dataframe\">\n",
       "  <thead>\n",
       "    <tr style=\"text-align: right;\">\n",
       "      <th></th>\n",
       "      <th>week</th>\n",
       "      <th>arrest</th>\n",
       "      <th>fin</th>\n",
       "      <th>age</th>\n",
       "      <th>race</th>\n",
       "      <th>wexp</th>\n",
       "      <th>mar</th>\n",
       "      <th>paro</th>\n",
       "      <th>prio</th>\n",
       "    </tr>\n",
       "  </thead>\n",
       "  <tbody>\n",
       "    <tr>\n",
       "      <th>0</th>\n",
       "      <td>20</td>\n",
       "      <td>1</td>\n",
       "      <td>0</td>\n",
       "      <td>27</td>\n",
       "      <td>1</td>\n",
       "      <td>0</td>\n",
       "      <td>0</td>\n",
       "      <td>1</td>\n",
       "      <td>3</td>\n",
       "    </tr>\n",
       "    <tr>\n",
       "      <th>1</th>\n",
       "      <td>17</td>\n",
       "      <td>1</td>\n",
       "      <td>0</td>\n",
       "      <td>18</td>\n",
       "      <td>1</td>\n",
       "      <td>0</td>\n",
       "      <td>0</td>\n",
       "      <td>1</td>\n",
       "      <td>8</td>\n",
       "    </tr>\n",
       "    <tr>\n",
       "      <th>2</th>\n",
       "      <td>25</td>\n",
       "      <td>1</td>\n",
       "      <td>0</td>\n",
       "      <td>19</td>\n",
       "      <td>0</td>\n",
       "      <td>1</td>\n",
       "      <td>0</td>\n",
       "      <td>1</td>\n",
       "      <td>13</td>\n",
       "    </tr>\n",
       "    <tr>\n",
       "      <th>3</th>\n",
       "      <td>52</td>\n",
       "      <td>0</td>\n",
       "      <td>1</td>\n",
       "      <td>23</td>\n",
       "      <td>1</td>\n",
       "      <td>1</td>\n",
       "      <td>1</td>\n",
       "      <td>1</td>\n",
       "      <td>1</td>\n",
       "    </tr>\n",
       "    <tr>\n",
       "      <th>4</th>\n",
       "      <td>52</td>\n",
       "      <td>0</td>\n",
       "      <td>0</td>\n",
       "      <td>19</td>\n",
       "      <td>0</td>\n",
       "      <td>1</td>\n",
       "      <td>0</td>\n",
       "      <td>1</td>\n",
       "      <td>3</td>\n",
       "    </tr>\n",
       "  </tbody>\n",
       "</table>\n",
       "</div>"
      ],
      "text/plain": [
       "   week  arrest  fin  age  race  wexp  mar  paro  prio\n",
       "0    20       1    0   27     1     0    0     1     3\n",
       "1    17       1    0   18     1     0    0     1     8\n",
       "2    25       1    0   19     0     1    0     1    13\n",
       "3    52       0    1   23     1     1    1     1     1\n",
       "4    52       0    0   19     0     1    0     1     3"
      ]
     },
     "execution_count": 21,
     "metadata": {},
     "output_type": "execute_result"
    }
   ],
   "source": [
    "from lifelines.datasets import load_rossi\n",
    "\n",
    "df_rossi = load_rossi()\n",
    "print(df_rossi.shape)\n",
    "df_rossi.head()"
   ]
  },
  {
   "cell_type": "code",
   "execution_count": 22,
   "metadata": {},
   "outputs": [],
   "source": [
    "label_col = 'arrest'\n",
    "num_cols = ['week', 'fin', 'age', 'race', 'wexp', 'mar', 'paro', 'prio']"
   ]
  },
  {
   "cell_type": "code",
   "execution_count": 23,
   "metadata": {},
   "outputs": [
    {
     "data": {
      "text/plain": [
       "0   0.736\n",
       "1   0.264\n",
       "Name: arrest, dtype: float64"
      ]
     },
     "execution_count": 23,
     "metadata": {},
     "output_type": "execute_result"
    }
   ],
   "source": [
    "df_rossi[label_col].value_counts() / df_rossi.shape[0]"
   ]
  },
  {
   "cell_type": "code",
   "execution_count": 25,
   "metadata": {},
   "outputs": [
    {
     "name": "stdout",
     "output_type": "stream",
     "text": [
      "<lifelines.CoxPHFitter: fitted with 432 observations, 318 censored>\n",
      "      duration col = 'week'\n",
      "         event col = 'arrest'\n",
      "number of subjects = 432\n",
      "  number of events = 114\n",
      "    log-likelihood = -658.75\n",
      "  time fit was run = 2020-03-26 17:04:54 UTC\n",
      "\n",
      "---\n",
      "      coef  exp(coef)  se(coef)     z      p  -log2(p)  lower 0.95  upper 0.95\n",
      "fin  -0.38       0.68      0.19 -1.98   0.05      4.40       -0.75       -0.00\n",
      "age  -0.06       0.94      0.02 -2.61   0.01      6.79       -0.10       -0.01\n",
      "race  0.31       1.37      0.31  1.02   0.31      1.70       -0.29        0.92\n",
      "wexp -0.15       0.86      0.21 -0.71   0.48      1.06       -0.57        0.27\n",
      "mar  -0.43       0.65      0.38 -1.14   0.26      1.97       -1.18        0.31\n",
      "paro -0.08       0.92      0.20 -0.43   0.66      0.59       -0.47        0.30\n",
      "prio  0.09       1.10      0.03  3.19 <0.005      9.48        0.04        0.15\n",
      "---\n",
      "Concordance = 0.64\n",
      "Likelihood ratio test = 33.27 on 7 df, -log2(p)=15.37\n"
     ]
    }
   ],
   "source": [
    "from lifelines import CoxPHFitter\n",
    "\n",
    "cph = CoxPHFitter()\n",
    "cph.fit(df_rossi, duration_col='week', event_col='arrest')\n",
    "cph.print_summary()"
   ]
  },
  {
   "cell_type": "code",
   "execution_count": null,
   "metadata": {},
   "outputs": [],
   "source": []
  },
  {
   "cell_type": "code",
   "execution_count": 30,
   "metadata": {},
   "outputs": [],
   "source": [
    "data = df_rossi[num_cols]\n",
    "label = df_rossi[label_col].values\n",
    "\n",
    "X_train, X_test, y_train, y_test = train_test_split(data, label, test_size=0.2, random_state=1234)"
   ]
  },
  {
   "cell_type": "code",
   "execution_count": 31,
   "metadata": {},
   "outputs": [],
   "source": [
    "dmatrix_full =  xgb.DMatrix(data, label=label)\n",
    "\n",
    "# create a train/test split\n",
    "dmatrix_train = xgb.DMatrix(X_train, label=y_train)\n",
    "dmatrix_test = xgb.DMatrix(X_test, label=y_test)"
   ]
  },
  {
   "cell_type": "code",
   "execution_count": 32,
   "metadata": {},
   "outputs": [],
   "source": [
    "y_train[y_train == 0] = -1\n",
    "y_test[y_test == 0] = -1\n",
    "\n",
    "# create a train/test split\n",
    "dmatrix_train_censored = xgb.DMatrix(X_train, label=y_train)\n",
    "dmatrix_test_censored = xgb.DMatrix(X_test, label=y_test)"
   ]
  },
  {
   "cell_type": "code",
   "execution_count": 37,
   "metadata": {},
   "outputs": [
    {
     "name": "stdout",
     "output_type": "stream",
     "text": [
      "[0]\ttrain-cox-nloglik:5.38682\ttest-cox-nloglik:4.05926\n",
      "[10]\ttrain-cox-nloglik:4.63958\ttest-cox-nloglik:3.51553\n",
      "[20]\ttrain-cox-nloglik:4.59654\ttest-cox-nloglik:3.56142\n",
      "[30]\ttrain-cox-nloglik:4.60007\ttest-cox-nloglik:3.58321\n",
      "[40]\ttrain-cox-nloglik:4.60176\ttest-cox-nloglik:3.58287\n",
      "[50]\ttrain-cox-nloglik:4.60693\ttest-cox-nloglik:3.5871\n",
      "[60]\ttrain-cox-nloglik:4.61169\ttest-cox-nloglik:3.59116\n",
      "[70]\ttrain-cox-nloglik:4.61526\ttest-cox-nloglik:3.59248\n",
      "[80]\ttrain-cox-nloglik:4.61818\ttest-cox-nloglik:3.60025\n",
      "[90]\ttrain-cox-nloglik:4.61827\ttest-cox-nloglik:3.60014\n",
      "[99]\ttrain-cox-nloglik:4.62135\ttest-cox-nloglik:3.60558\n"
     ]
    },
    {
     "data": {
      "text/plain": [
       "array([  3550.8965,   1634.7938, 182560.47  ,   1164.1359,    816.8335],\n",
       "      dtype=float32)"
      ]
     },
     "execution_count": 37,
     "metadata": {},
     "output_type": "execute_result"
    }
   ],
   "source": [
    "params = {\n",
    "    \"eta\": 0.1,\n",
    "    \"max_depth\": 5,\n",
    "    \"objective\": \"survival:cox\",\n",
    "    \"subsample\": 0.9\n",
    "}\n",
    "evals = [(dmatrix_train_censored, 'train'), (dmatrix_test_censored, 'test')]\n",
    "cox_model = xgb.train(params, dmatrix_train_censored, 100, evals=evals, verbose_eval=10)\n",
    "cox_model.predict(dmatrix_train_censored)[:5]"
   ]
  },
  {
   "cell_type": "code",
   "execution_count": 38,
   "metadata": {},
   "outputs": [
    {
     "data": {
      "image/png": "[encoded data removed]",
      "text/plain": [
       "<Figure size 576x338.4 with 2 Axes>"
      ]
     },
     "metadata": {
      "image/png": {
       "height": 307,
       "width": 497
      },
      "needs_background": "light"
     },
     "output_type": "display_data"
    }
   ],
   "source": [
    "shap_values = shap.TreeExplainer(cox_model).shap_values(data)\n",
    "shap.summary_plot(shap_values, data)"
   ]
  },
  {
   "cell_type": "code",
   "execution_count": 42,
   "metadata": {},
   "outputs": [
    {
     "name": "stdout",
     "output_type": "stream",
     "text": [
      "[0]\ttrain-error:0.005797\ttest-error:0.022989\n",
      "[10]\ttrain-error:0.005797\ttest-error:0.022989\n",
      "[20]\ttrain-error:0.005797\ttest-error:0.022989\n",
      "[30]\ttrain-error:0.005797\ttest-error:0.022989\n",
      "[40]\ttrain-error:0.005797\ttest-error:0.022989\n",
      "[50]\ttrain-error:0.005797\ttest-error:0.022989\n",
      "[60]\ttrain-error:0.005797\ttest-error:0.022989\n",
      "[70]\ttrain-error:0.005797\ttest-error:0.022989\n",
      "[80]\ttrain-error:0.005797\ttest-error:0.022989\n",
      "[90]\ttrain-error:0.005797\ttest-error:0.022989\n",
      "[99]\ttrain-error:0.005797\ttest-error:0.022989\n"
     ]
    },
    {
     "data": {
      "text/plain": [
       "array([0.9206191 , 0.9206191 , 0.9206191 , 0.07679935, 0.07990362],\n",
       "      dtype=float32)"
      ]
     },
     "execution_count": 42,
     "metadata": {},
     "output_type": "execute_result"
    }
   ],
   "source": [
    "params = {\n",
    "    \"eta\": 0.01,\n",
    "    \"max_depth\": 5,\n",
    "    \"objective\": \"binary:logistic\",\n",
    "    \"subsample\": 0.9\n",
    "}\n",
    "evals = [(dmatrix_train, 'train'), (dmatrix_test, 'test')]\n",
    "binary_model = xgb.train(params, dmatrix_train, 100, evals=evals, verbose_eval=10)\n",
    "binary_model.predict(dmatrix_full)[:5]"
   ]
  },
  {
   "cell_type": "code",
   "execution_count": 18,
   "metadata": {},
   "outputs": [
    {
     "data": {
      "image/png": "[encoded data removed]",
      "text/plain": [
       "<Figure size 576x338.4 with 2 Axes>"
      ]
     },
     "metadata": {
      "image/png": {
       "height": 307,
       "width": 497
      },
      "needs_background": "light"
     },
     "output_type": "display_data"
    }
   ],
   "source": [
    "shap_values = shap.TreeExplainer(binary_model).shap_values(data)\n",
    "shap.summary_plot(shap_values, data)"
   ]
  },
  {
   "cell_type": "code",
   "execution_count": 19,
   "metadata": {},
   "outputs": [],
   "source": [
    "import sklearn.metrics as metrics\n",
    "\n",
    "def compute_score(y_true, y_score, verbose=True, round_digits=3):\n",
    "    \n",
    "    auc = round(metrics.roc_auc_score(y_true, y_score), round_digits)\n",
    "    log_loss = round(metrics.log_loss(y_true, y_score), round_digits)\n",
    "\n",
    "    precision, recall, threshold = metrics.precision_recall_curve(y_true, y_score)\n",
    "    f1 = 2 * (precision * recall) / (precision + recall)\n",
    "\n",
    "    mask = ~np.isnan(f1)\n",
    "    f1 = f1[mask]\n",
    "    precision = precision[mask]\n",
    "    recall = recall[mask]\n",
    "\n",
    "    best_index = np.argmax(f1)\n",
    "    threshold = round(threshold[best_index], round_digits)\n",
    "    precision = round(precision[best_index], round_digits)\n",
    "    recall = round(recall[best_index], round_digits)\n",
    "    f1 = round(f1[best_index], round_digits)\n",
    "\n",
    "    if verbose:\n",
    "        print('auc: ', auc)\n",
    "        print('threshold: ', threshold)\n",
    "        print('precision: ', precision)\n",
    "        print('recall: ', recall)\n",
    "        print('f1: ', f1)\n",
    "\n",
    "    return {\n",
    "        'auc': auc,\n",
    "        'threshold': threshold,\n",
    "        'precision': precision,\n",
    "        'recall': recall,\n",
    "        'f1': f1,\n",
    "        'log_loss': log_loss\n",
    "    }"
   ]
  },
  {
   "cell_type": "code",
   "execution_count": 20,
   "metadata": {},
   "outputs": [
    {
     "name": "stdout",
     "output_type": "stream",
     "text": [
      "auc:  0.988\n",
      "threshold:  0.111\n",
      "precision:  1.0\n",
      "recall:  0.974\n",
      "f1:  0.987\n"
     ]
    },
    {
     "data": {
      "text/plain": [
       "{'auc': 0.988,\n",
       " 'threshold': 0.111,\n",
       " 'precision': 1.0,\n",
       " 'recall': 0.974,\n",
       " 'f1': 0.987,\n",
       " 'log_loss': 0.048}"
      ]
     },
     "execution_count": 20,
     "metadata": {},
     "output_type": "execute_result"
    }
   ],
   "source": [
    "y_score = binary_model.predict(dmatrix_full)\n",
    "compute_score(label, y_score)"
   ]
  },
  {
   "cell_type": "code",
   "execution_count": null,
   "metadata": {},
   "outputs": [],
   "source": []
  }
 ],
 "metadata": {
  "kernelspec": {
   "display_name": "Python 3",
   "language": "python",
   "name": "python3"
  },
  "language_info": {
   "codemirror_mode": {
    "name": "ipython",
    "version": 3
   },
   "file_extension": ".py",
   "mimetype": "text/x-python",
   "name": "python",
   "nbconvert_exporter": "python",
   "pygments_lexer": "ipython3",
   "version": "3.6.4"
  },
  "toc": {
   "nav_menu": {},
   "number_sections": true,
   "sideBar": true,
   "skip_h1_title": false,
   "title_cell": "Table of Contents",
   "title_sidebar": "Contents",
   "toc_cell": true,
   "toc_position": {
    "height": "calc(100% - 180px)",
    "left": "10px",
    "top": "150px",
    "width": "290.188px"
   },
   "toc_section_display": true,
   "toc_window_display": true
  },
  "varInspector": {
   "cols": {
    "lenName": 16,
    "lenType": 16,
    "lenVar": 40
   },
   "kernels_config": {
    "python": {
     "delete_cmd_postfix": "",
     "delete_cmd_prefix": "del ",
     "library": "var_list.py",
     "varRefreshCmd": "print(var_dic_list())"
    },
    "r": {
     "delete_cmd_postfix": ") ",
     "delete_cmd_prefix": "rm(",
     "library": "var_list.r",
     "varRefreshCmd": "cat(var_dic_list()) "
    }
   },
   "types_to_exclude": [
    "module",
    "function",
    "builtin_function_or_method",
    "instance",
    "_Feature"
   ],
   "window_display": false
  }
 },
 "nbformat": 4,
 "nbformat_minor": 2
}
